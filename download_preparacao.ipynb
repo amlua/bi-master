{
  "nbformat": 4,
  "nbformat_minor": 0,
  "metadata": {
    "colab": {
      "name": "download-preparacao.ipynb",
      "provenance": [],
      "collapsed_sections": [],
      "toc_visible": true,
      "include_colab_link": true
    },
    "kernelspec": {
      "display_name": "Python 3",
      "language": "python",
      "name": "python3"
    },
    "language_info": {
      "codemirror_mode": {
        "name": "ipython",
        "version": 3
      },
      "file_extension": ".py",
      "mimetype": "text/x-python",
      "name": "python",
      "nbconvert_exporter": "python",
      "pygments_lexer": "ipython3",
      "version": "3.7.9"
    }
  },
  "cells": [
    {
      "cell_type": "markdown",
      "metadata": {
        "id": "view-in-github",
        "colab_type": "text"
      },
      "source": [
        "<a href=\"https://colab.research.google.com/github/amlua/bi-master/blob/carga-analise-dados/download_preparacao.ipynb\" target=\"_parent\"><img src=\"https://colab.research.google.com/assets/colab-badge.svg\" alt=\"Open In Colab\"/></a>"
      ]
    },
    {
      "cell_type": "markdown",
      "metadata": {
        "id": "Z4fxG7C4VxqX"
      },
      "source": [
        "# Composição de Carteira de Fundos de Investimento\n",
        "---\n"
      ]
    },
    {
      "cell_type": "markdown",
      "metadata": {
        "id": "1tVfKu8LLWRQ"
      },
      "source": [
        "## Descrição do negócio"
      ]
    },
    {
      "cell_type": "markdown",
      "metadata": {
        "id": "MsWM3EchMCJc"
      },
      "source": [
        "Os __Fundos de Investimento__ são uma forma organizada de captar recursos de investidores, individuais e institucionais, e aplicá-los em carteiras de ativos disponíveis no mercado financeiro e de capitais.\n",
        "\n",
        "Os fundos de investimento são organizados sob a forma de condomínio, ou seja, seu patrimônio é dividido em cotas, que representam frações do fundo. Quando os investidores fazem uma aplicação, o valor aplicado é convertido em uma quantidade de cotas, que são adquiridas pelo investidor.\n",
        "\n",
        "O __patrimônio líquido__ de um fundo é calculado pela soma de todos os ativos que constituem a sua carteira de investimento e o valor em caixa, menos as suas despesas e obrigações [[1]](#cotas).\n",
        "\n",
        "O patrimônio dos fundos é investido em ativos financeiros, de emissores públicos ou privados, emitidos no Brasil ou no exterior. Esses ativos compõem o que se chama de __carteira do fundo__ [[2]](#carteira).\n",
        "\n",
        "O __gestor da carteira__ é o profissional (pessoa física ou jurídica credenciada pela CVM como administrador de carteiras de valores mobiliários), responsável pelos investimentos realizados pelo fundo. É quem decide quais ativos financeiros irão compor a sua carteira. No entanto, suas decisões de compra e venda de ativos são regidas pelos objetivos e política de investimento determinados no regulamento do fundo [[3]](#gestor).\n",
        "\n",
        "O funcionamento dos fundos de investimento está sujeito às normas publicadas pela Comissão de Valores Mobiliários (CVM). Há diversos tipos de fundos e a sua constituição, funcionamento e divulgação de informações seguem o estabelecido em diferentes normas, por exemplo:\n",
        "* [Instrução CVM 555](http://conteudo.cvm.gov.br/legislacao/instrucoes/inst555.html) - Fundos de Investimento (FI)\n",
        "* [Instrução CVM 578](http://conteudo.cvm.gov.br/legislacao/instrucoes/inst578.html) - Fundos de Investimento em Participações (FIP)\n",
        "* [Instrução CVM 356](http://conteudo.cvm.gov.br/legislacao/instrucoes/inst356.html) - Fundos de Investimento em Direitos Creditórios (FIDC) e Fundos de Investimento em Cotas de Fundos de Investimento em Direitos Creditório (FIC-FIDC)\n",
        "* [Instrução CVM 359](http://conteudo.cvm.gov.br/legislacao/instrucoes/inst359.html) - Fundos de Investimento em Índice de Mercado (FIIM)\n",
        "* [Instrução CVM 472](http://conteudo.cvm.gov.br/legislacao/instrucoes/inst472.html) - Fundos de Investimento Imobiliário (FII)\n",
        "* [Instrução CVM 279](http://conteudo.cvm.gov.br/legislacao/instrucoes/inst279.html) - Fundos Mútuos de Privatização - FGTS (FMP-FGTS)\n",
        "* [Instrução CVM 423](http://conteudo.cvm.gov.br/legislacao/instrucoes/inst423.html) - Fundos de Aposentadoria Programada Individual (FAPI)\n",
        "* [Instrução CVM 398](http://conteudo.cvm.gov.br/legislacao/instrucoes/inst398.html) - Fundos de Financiamento da Indústria Cinematográfica Nacional (FUNCINE)\n",
        "* [Instrução CVM 153](http://conteudo.cvm.gov.br/legislacao/instrucoes/inst153.html) - Fundos Mútuos de Ações Incentivadas (FMAI)\n",
        "\n",
        "Os fundos regulados pela Instrução CVM 555 (e alguns outros tipos) devem enviar o demonstrativo mensal da composição da sua carteira por meio do [Sistema de Envio de Documentos da CVM](http://sistemas.cvm.gov.br/?cvmweb). \n",
        "\n",
        "O __Informe de Composição e Diversificação das Aplicações (CDA)__ é o documento que descreve as aplicações que compõem as carteiras dos fundos de investimento (ativos financeiros ou cotas de outros fundos), entregue à CVM no [formato XML](https://cvmweb.cvm.gov.br/SWB/Sistemas/SCW/PadroesXML/PadraoXMLCDANetV4.aspx). \n",
        "\n",
        "Assim, as carteiras individualizadas dos fundos podem ser consultadas no sítio da CVM, na página [Consulta a Carteiras de Fundos](https://cvmweb.cvm.gov.br/SWB/Sistemas/SCW/CPublica/FormBuscaPartic.aspx?TpConsulta=5). Além disso, a CVM disponibiliza essas carteiras para download em massa (_bulk download_) por meio de seu [Portal de Dados Abertos](http://dados.cvm.gov.br/dataset/fi-doc-cda).\n",
        "\n",
        "Entretanto, é facultado ao gestor do fundo omitir os detalhes sobre os ativos da carteira por um período de até 3 meses. Quando os detalhes são omitidos, a consulta exibe apenas o valor aplicado e o tipo ou classe do ativo, mas não sua identificação.\n",
        "\n",
        "---\n",
        "\n",
        "Referências: \n",
        "\n",
        "<a name=\"cotas\">[1]</a> [Portal do Investidor - Cotas](https://www.investidor.gov.br/menu/Menu_Investidor/fundos_investimentos/cotas.html)\n",
        "\n",
        "<a name=\"carteira\">[2]</a> [Portal do Investidor - Composição da carteira dos fundos de investimentos](https://www.investidor.gov.br/menu/Menu_Investidor/fundos_investimentos/carteira_composicao.html)\n",
        "\n",
        "<a name=\"gestor\">[3]</a> [Portal do Investidor - Obrigações do administrador e gestor](https://www.investidor.gov.br/menu/Menu_Investidor/fundos_investimentos/administrador_e_gestor.html)\n"
      ]
    },
    {
      "cell_type": "markdown",
      "metadata": {
        "id": "rYlNGJ9Nv-2A"
      },
      "source": [
        "## Problema proposto"
      ]
    },
    {
      "cell_type": "markdown",
      "metadata": {
        "id": "C7-0UXfNwFOK"
      },
      "source": [
        "Existem diversas ferramentas _online_ que permitem consultar as aplicações de um fundo, mas que se limitam a exibir as mesmas informações encontradas na [Consulta a Carteiras de Fundos](https://cvmweb.cvm.gov.br/SWB/Sistemas/SCW/CPublica/FormBuscaPartic.aspx?TpConsulta=5), no sítio da CVM. Alguns exemplos são:\n",
        "\n",
        "* [Mais Retorno](https://maisretorno.com/comparacao-fundos)\n",
        "* [Info Fundos](https://infofundos.com.br/carteira)\n",
        "\n",
        "Todas essas consultas apresentam o portfólio de investimentos que consta no documento __Composição e Diversificação das Aplicações (CDA)__ do fundo (chamaremos esta versão da carteira de __\"simples\"__). No entanto, nenhuma das consultas avaliadas põe em perspectiva o relacionamento entre fundos.\n",
        "\n",
        "Nos casos de aplicações em cotas de outros fundos, as consultas tradicionais à carteira não evidenciam, por exemplo, quais empresas e outras instituições são de fato financiadas com parte dos recursos do fundo. No entanto, é possível fazer tal inferência, bastando \"navegar\" do fundo investidor para os fundos que recebem o investimento.\n",
        "\n",
        "Considerando que o CDA informa a relação fundo investidor/fundo investido, definimos a __versão \"expandida\" da carteira__ como sendo todos os ativos e fundos em que ele aplica, direta ou indiretamente. Ou seja, a carteira expandida de um fundo inclui a carteira do próprio fundo e também os ativos que estão nas carteiras de todos os fundos em que ele investe.\n",
        "\n",
        "Sejam:\n",
        "* __F<sub>0</sub>__: o fundo em análise\n",
        "* __C<sub>0</sub>__: a carteira informada no documento CDA do fundo F<sub>0</sub> (conjunto com as aplicações em ativos e em cotas de outros fundos) \n",
        "* __Catv<sub>i</sub>__: a carteira de ativos do fundo F<sub>i</sub> (a carteira informada no documento CDA _excluindo-se do conjunto_ as aplicações em _cotas de outros fundos_) \n",
        "\n",
        "Definimos, no escopo deste trabalho, a __carteira expandida de nível 1__ (Ce<sub>0</sub><sup>1</sup>) do fundo F<sub>0</sub>:\n",
        "\n",
        "__Ce<sub>0</sub><sup>1</sup>__ = C<sub>0</sub> + $\\bigcup_{i=1}^m$ Catv<sub>i</sub>, para cada F<sub>i</sub> que aparece em C<sub>0</sub>.\n",
        "\n",
        "A __carteira expandida de nível 2__ (Ce<sub>0</sub><sup>2</sup>) do mesmo fundo F<sub>0</sub> será definida como:\n",
        "\n",
        "__Ce<sub>0</sub><sup>2</sup>__ = C<sub>0</sub> + $\\bigcup_{i=1}^m$ Ce<sub>i</sub><sup>1</sup>, para cada F<sub>i</sub> que aparece em C<sub>0</sub>.\n",
        "\n",
        "Por fim, definimos a __carteira expandida de nível n__ (Ce<sub>0</sub><sup>n</sup>) do mesmo fundo F<sub>0</sub>:\n",
        "\n",
        "__Ce<sub>0</sub><sup>n</sup>__ = C<sub>0</sub> + $\\bigcup_{i=1}^m$ Ce<sub>i</sub><sup>n-1</sup>, para cada F<sub>i</sub> que aparece em C<sub>0</sub>.\n",
        "\n",
        "Estamos interessados em construir análises e consultas que explorem a recursividade expressa no conceito de carteira expandida."
      ]
    },
    {
      "cell_type": "markdown",
      "metadata": {
        "id": "ud7SKg6TwFJB"
      },
      "source": [
        "## Objetivo e escopo da Prova de Conceito"
      ]
    },
    {
      "cell_type": "markdown",
      "metadata": {
        "id": "9ZvbjO6ZM9fI"
      },
      "source": [
        "O objetivo da presente prova de conceito é analisar a composição de carteira de fundos de investimento experimentando uma abordagem baseada em banco de dados de grafos (__graph database__).\n",
        "\n",
        "Um __banco de dados de grafos__ é um tipo de banco NoSQL baseado na teoria dos grafos, ramo da matemática discreta. As principais definições dessa teoria estabelecem a nomenclatura utilizada nos bancos de grafos:\n",
        "* Grafo: conjunto de vértices e arestas\n",
        "* Vértices: são os nós ou entidades do grafo\n",
        "* Arestas: representam os relacionamentos entre as entidades (vértices) do grafo\n",
        "\n",
        "Embora os grafos sejam uma abstração natural para um amplo leque de problemas de modelagem, a tecnologia de armazenamento e consulta de informação baseada em grafos tem um nicho de aplicação bem definido. Bancos de grafos são a escolha apropriada quando precisamos modelar dados altamente relacionados e os relacionamentos entre as entidades são tão (ou mais) importantes quanto as entidades em si.\n",
        "\n",
        "No livro [Graph Databases in Action](https://www.manning.com/books/graph-databases-in-action), D. Bechberger e J. Perryman listam três tipos de problemas para os quais os bancos de grafos permitem construir soluções mais simples e eficientes, quando comparados com os bancos de dados relacionais:\n",
        "* Consultas recursivas\n",
        "* Consultas que combinem diferentes tipos de dados no resultado\n",
        "* Descoberta de caminhos (como dois objetos estão conectados)\n",
        "\n",
        "Consultas recursivas são aquelas executadas múltiplas vezes em um _loop_, repetidamente chamando a si mesmas até que seja atingida uma condição de parada [[4]](#graph-databases). Consultas recursivas em um banco de dados relacional utilizando a linguagem SQL sofrem de dois problemas: ineficiência e complexidade. Por outro lado, os bancos de grafos são otimizados para responder a esse tipo de consulta de maneira mais rápida e com uma sintaxe muito mais simples. \n",
        "\n",
        "O problema proposto para esse trabalho possui ao menos duas características que sugerem uma abordagem baseada em grafos:\n",
        "* A __recursividade__ da carteira \"expandida\" de aplicações de um fundo\n",
        "* A __hierarquia__ existente entre os fundos (fundos investidores e fundos investidos), implícita na recursividade da carteira \"expandida\"\n",
        "\n",
        "Dessa forma, adotaremos um banco de dados de grafos para modelar e armazenar as informações do domínio do problema. Além de consultar as carteiras simples e expandidas dos fundos, estamos interessados em descobrir:\n",
        "* Fundos investidores e fundos investidos (direta ou indiretamente)\n",
        "* Se há ciclos no grafo, ou seja, se há referências circulares na hierarquia de investimento entre fundos (Exemplo: o fundo A investe no fundo B; o fundo B investe no fundo C; o fundo C investe no fundo A).\n",
        "* Quais fundos possuem maior diversidade de ativos em suas carteiras (simples ou expandidas)\n",
        "* Quais ativos possuem maior diversidade de fundos investidores (diretos ou indiretos)\n",
        "* Quais emissores possuem maior diversidade de ativos investidos (direta ou indiretamente)\n",
        "\n",
        "---\n",
        "Referências:\n",
        "\n",
        "<a name=\"graph-databases\">[4]</a> Dave Bechberger, Josh Perryman. [Graph Databases in Action](https://www.manning.com/books/graph-databases-in-action)"
      ]
    },
    {
      "cell_type": "markdown",
      "metadata": {
        "id": "RCJgPsBnogh7"
      },
      "source": [
        "## Modelo Conceitual de Dados"
      ]
    },
    {
      "cell_type": "markdown",
      "metadata": {
        "id": "dkzzpN32FTYF"
      },
      "source": [
        "__Fundos de investimento__ _aplicam_ em __ativos__ financeiros ou em cotas de outros fundos. Os ativos _são emtidos_ por instituições financeiras ou empresas (__emissores__). Fundos _são geridos_ por pessoas físicas ou jurídicas (__gestores__), que decidem a política de investimento do fundo."
      ]
    },
    {
      "cell_type": "markdown",
      "metadata": {
        "id": "ZFSUa2cH96rl"
      },
      "source": [
        "![Modelo_Conceitual.png](data:image/png;base64,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)"
      ]
    },
    {
      "cell_type": "markdown",
      "metadata": {
        "id": "NB_C9AkWnHUh"
      },
      "source": [
        "## Modelo Lógico de Dados (_Graph Schema_)"
      ]
    },
    {
      "cell_type": "markdown",
      "metadata": {
        "id": "xwAZCCYeBq4q"
      },
      "source": [
        "O modelo lógico (esquema) do banco de dados de grafos que será construído durante a prova de conceito é ele mesmo representado por um grafo. Aqui, os vértices correspondem aos tipos de vértice (entidades) e as arestas, aos tipos de aresta (relacionamentos).\n",
        "\n",
        "O esquema também exibe as propriedades de vértices e arestas. A propriedade '#' nas arestas representa a cardinalidade do relacionamento e deve ser lida na direção indicada pela seta [[5]](#graph-db-theory).\n",
        "\n",
        "---\n",
        "\n",
        "Referências:\n",
        "\n",
        "<a name=\"graph-db-theory\">[5]</a> Sridhar Ramachandran. [Graph Database Theory: Comparing Graph and Relational Data Models](https://www.lambdazen.com/assets/pdf/GraphDatabaseTheory.pdf)\n"
      ]
    },
    {
      "cell_type": "markdown",
      "metadata": {
        "id": "oEb96apKCWwb"
      },
      "source": [
        "![Graph_Schema.PNG](data:image/png;base64,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)"
      ]
    },
    {
      "cell_type": "markdown",
      "metadata": {
        "id": "pgjIbgfQrOQt"
      },
      "source": [
        "# Coleta e preparação dos dados"
      ]
    },
    {
      "cell_type": "markdown",
      "metadata": {
        "id": "kpI9opRGhO6n"
      },
      "source": [
        "## Importação de bibliotecas"
      ]
    },
    {
      "cell_type": "code",
      "metadata": {
        "id": "zZQ9wV4yVxqj"
      },
      "source": [
        "# import pandas e numpy\n",
        "import pandas as pd\n",
        "import numpy as np"
      ],
      "execution_count": null,
      "outputs": []
    },
    {
      "cell_type": "code",
      "metadata": {
        "id": "qDEYguJznFfH"
      },
      "source": [
        "# import google.colab.drive\n",
        "from google.colab import drive"
      ],
      "execution_count": null,
      "outputs": []
    },
    {
      "cell_type": "code",
      "metadata": {
        "id": "YgYtY43bWVIY"
      },
      "source": [
        "# import os, glob, zipfile e hashlib\n",
        "import os\n",
        "import glob\n",
        "import zipfile\n",
        "import hashlib"
      ],
      "execution_count": null,
      "outputs": []
    },
    {
      "cell_type": "code",
      "metadata": {
        "id": "9rcTAsi7l_u5"
      },
      "source": [
        "# import datetime, timedelta e time\n",
        "from datetime import datetime\n",
        "from datetime import timedelta\n",
        "import time"
      ],
      "execution_count": null,
      "outputs": []
    },
    {
      "cell_type": "markdown",
      "metadata": {
        "id": "Hme0TK7kkTZ1"
      },
      "source": [
        "### Selenium"
      ]
    },
    {
      "cell_type": "markdown",
      "metadata": {
        "id": "cB376pVuOlW_"
      },
      "source": [
        "Utilizaremos o Selenium para baixar dados do site da B3."
      ]
    },
    {
      "cell_type": "code",
      "metadata": {
        "id": "Alr9GklwkPoa"
      },
      "source": [
        "# Instalação do navegador e do pacote Selenium\n",
        "!apt install chromium-chromedriver\n",
        "!pip install selenium"
      ],
      "execution_count": null,
      "outputs": []
    },
    {
      "cell_type": "code",
      "metadata": {
        "id": "kTjEcHQlkcXf"
      },
      "source": [
        "# import webdriver e  ActionChains (selenium)\n",
        "from selenium import webdriver\n",
        "from selenium.webdriver.common.action_chains import ActionChains"
      ],
      "execution_count": null,
      "outputs": []
    },
    {
      "cell_type": "markdown",
      "metadata": {
        "id": "WOdbAIrvBZmo"
      },
      "source": [
        "## Definição de funções"
      ]
    },
    {
      "cell_type": "markdown",
      "metadata": {
        "id": "-clV9NpjREfL"
      },
      "source": [
        "Funções para baixar arquivos do Portal de Dados Abertos da CVM"
      ]
    },
    {
      "cell_type": "code",
      "metadata": {
        "id": "hhYB_mC_lJm0"
      },
      "source": [
        "url_dados_abertos_cvm = 'http://dados.cvm.gov.br/dados'\n",
        "\n",
        "# Os detalhes das aplicações podem ficar ocultos na consulta pública do CDA por até 3 meses após o envio das informações. \n",
        "# A competência mais recente não sujeita a essa restrição é M-4 (onde M é o mês corrente).\n",
        "def comptc():\n",
        "  # A atualização dos arquivos de CDA no Portal de Dados Abertos é semanal, por isso, utiliza-se D-7 como base de cálculo de M-4\n",
        "  data_referencia = datetime.now() - timedelta(days=7) \n",
        "  ano_atual = data_referencia.year\n",
        "  mes_atual = data_referencia.month\n",
        "  # Cálculo de M-4\n",
        "  mes_comptc = mes_atual - 4 \n",
        "  ano_comptc = ano_atual\n",
        "  if mes_comptc <= 0:\n",
        "    ano_comptc = ano_comptc -1\n",
        "    mes_comptc = 12 + mes_comptc\n",
        "  return '_{:02d}{:02d}'.format(ano_comptc,mes_comptc)\n",
        "\n",
        "def busca_dados_abertos_cvm_cadastro():\n",
        "  return url_dados_abertos_cvm + '/FI/CAD/DADOS/cad_fi.csv'\n",
        "\n",
        "def busca_dados_abertos_cvm_carteira():\n",
        "  arquivo = '/FI/DOC/CDA/DADOS/cda_fi'\n",
        "  url = '{}{}'.format(url_dados_abertos_cvm,arquivo)\n",
        "  url = url + comptc() + '.zip'\n",
        "  return url"
      ],
      "execution_count": null,
      "outputs": []
    },
    {
      "cell_type": "markdown",
      "metadata": {
        "id": "u6LeKoTZRKi3"
      },
      "source": [
        "Função para baixar arquivo do site da B3"
      ]
    },
    {
      "cell_type": "code",
      "metadata": {
        "id": "MJNt0fq5l3io"
      },
      "source": [
        "def busca_isin_b3():\n",
        "  url_busca_isin_b3 = 'https://sistemaswebb3-listados.b3.com.br/isinPage/?language=pt-br'\n",
        "\n",
        "  # Configuração do webdriver\n",
        "  options = webdriver.ChromeOptions()\n",
        "  options.add_argument('-headless')\n",
        "  options.add_argument('-no-sandbox')\n",
        "  options.add_argument('-disable-dev-shm-usage')\n",
        "  wd = webdriver.Chrome('chromedriver',options=options)\n",
        "\n",
        "  # Acesso à página\n",
        "  wd.get(url_busca_isin_b3)\n",
        "\n",
        "  # Interação com a página e download do arquivo isinp.zip\n",
        "  button1 = wd.find_element_by_class_name('collapsed')\n",
        "  button1.click()\n",
        "  button3 = wd.find_element_by_class_name('click-p')\n",
        "  action=ActionChains(wd)\n",
        "  time.sleep(10)\n",
        "  action.move_to_element(button3).click().perform();\n",
        "  time.sleep(20)\n",
        " "
      ],
      "execution_count": null,
      "outputs": []
    },
    {
      "cell_type": "markdown",
      "metadata": {
        "id": "1z1XqwNuRXUY"
      },
      "source": [
        "Outras funções"
      ]
    },
    {
      "cell_type": "code",
      "metadata": {
        "id": "wnxDHpurszSU"
      },
      "source": [
        "def formataCNPJ(cnpj):\n",
        "  if cnpj == '':\n",
        "    return cnpj\n",
        "  cnpj = str(cnpj)\n",
        "  if len(cnpj) < 14:\n",
        "    cnpj = cnpj.zfill(14)\n",
        "  return '{}.{}.{}/{}-{}'.format(cnpj[:2], cnpj[2:5], cnpj[5:8], cnpj[8:12], cnpj[12:])"
      ],
      "execution_count": null,
      "outputs": []
    },
    {
      "cell_type": "code",
      "metadata": {
        "id": "Zdq0pwYLiKX6"
      },
      "source": [
        "def aplic_ativo(row):\n",
        "  return row['TP_APLIC'] + ' - ' + row['TP_ATIVO']\n",
        "\n",
        "def aplic_ativo_descricao(row):\n",
        "  return aplic_ativo(row) + ' - ' + row['DS_ATIVO']"
      ],
      "execution_count": null,
      "outputs": []
    },
    {
      "cell_type": "code",
      "metadata": {
        "id": "1MP54xEpkbmX"
      },
      "source": [
        "def sit_aux(row):\n",
        "  if row['SIT'] in ['CANCELADA', 'INCORPORAÇÃO', 'TRANSFORMAÇÃO']:\n",
        "    return 0\n",
        "  else:\n",
        "    return 1"
      ],
      "execution_count": null,
      "outputs": []
    },
    {
      "cell_type": "code",
      "metadata": {
        "id": "u-xGRusHHvim"
      },
      "source": [
        "def ds_ativo(row):\n",
        "  if row['DS_ATIVO_2'] != '':\n",
        "    return row['DS_ATIVO_2']\n",
        "  else:\n",
        "    return row['DS_ATIVO_1']"
      ],
      "execution_count": null,
      "outputs": []
    },
    {
      "cell_type": "code",
      "metadata": {
        "id": "tlpx48-7dzp5"
      },
      "source": [
        "def emissor(row):\n",
        "  if row['EMISSOR_2'] != '':\n",
        "    return row['EMISSOR_2']\n",
        "  else:\n",
        "    return row['EMISSOR_1']"
      ],
      "execution_count": null,
      "outputs": []
    },
    {
      "cell_type": "code",
      "metadata": {
        "id": "5IUAMuyazSa_"
      },
      "source": [
        "def pr_patrim_liq(row):\n",
        "  a = float(row['VL_APLIC'])\n",
        "  b = float(row['VL_PATRIM_LIQ'])\n",
        "  if a == 0 or b == 0:\n",
        "    return 0\n",
        "  else:\n",
        "    # As aplicações de tipo 'Opções - Posições lançadas', 'Valores a pagar', 'Obrigações por ações e outros TVM recebidos em empréstimo' ou 'DIFERENCIAL DE SWAP A PAGAR' \n",
        "    # possuem sinal negativo no somatório de ativos para composição do patrimônio líquido do fundo\n",
        "    if row['TP_APLIC'] in ['Opções - Posições lançadas', 'Valores a pagar', 'Obrigações por ações e outros TVM recebidos em empréstimo', 'DIFERENCIAL DE SWAP A PAGAR']:\n",
        "      return round(a/b * (-100),3)\n",
        "    else:\n",
        "      return round(a/b * (100),3)  "
      ],
      "execution_count": null,
      "outputs": []
    },
    {
      "cell_type": "code",
      "metadata": {
        "id": "HDz327icI3Pg"
      },
      "source": [
        "def id_emissor(row):\n",
        "  if row['CPF_CNPJ_EMISSOR']!='':\n",
        "    return row['CPF_CNPJ_EMISSOR'] + '|'\n",
        "  elif row['EMISSOR']!='':\n",
        "    return '|' + row['EMISSOR']\n",
        "  else:\n",
        "    return ''"
      ],
      "execution_count": null,
      "outputs": []
    },
    {
      "cell_type": "code",
      "metadata": {
        "id": "spI9Eyaq_xwX"
      },
      "source": [
        "def hash(frase):\n",
        "  if frase == '':\n",
        "    return frase\n",
        "  else:\n",
        "    return hashlib.md5(str(frase).encode('utf-8')).hexdigest()   "
      ],
      "execution_count": null,
      "outputs": []
    },
    {
      "cell_type": "markdown",
      "metadata": {
        "id": "pBHlRtAjVxqm"
      },
      "source": [
        "## Coleta de dados\n"
      ]
    },
    {
      "cell_type": "markdown",
      "metadata": {
        "id": "Fq5_gI-Pz1IZ"
      },
      "source": [
        "### Datasets de informações  cadastrais de fundos (Portal de Dados Abertos - CVM)"
      ]
    },
    {
      "cell_type": "markdown",
      "metadata": {
        "id": "xM0EQcGgohwH"
      },
      "source": [
        "\n",
        "A constituição e o funcionamento dos fundos de investimento dependem de registro prévio na CVM. Assim, as informações cadastrais dos fundos podem ser consultadas no sítio da CVM (página [Cadastro Geral](http://sistemas.cvm.gov.br/asp/cvmwww/cadastro/formcad.asp)) ou baixadas a partir do seu Portal de Dados Abertos. \n",
        "\n",
        "O conjunto de dados [Fundos de Investimento: Informação Cadastral](http://dados.cvm.gov.br/dataset/fi-cad) disponibiliza as seguintes informações sobre os fundos:\n",
        "* CNPJ (identificador único do fundo)\n",
        "* Nome (denominação social)\n",
        "* Tipo do fundo (FI, FIP, FIDC, FAPI, FUNCINE, etc...)\n",
        "* Data de registro na CVM\n",
        "* Situação atual do registro (Fase Pré-Operacional, Em Funcionamento Normal, Cancelado, etc...)\n",
        "* Data de início da situação atual\n",
        "* Se é fundo de investimento em cotas [[6]](#icvm555-119)\n",
        "* Se o fundo é exclusivo (fundo destinado a investidores profissionais constituído para receber aplicações exclusivamente de um único cotista) [[7]](#icvm555-130)\n",
        "* Gestores do fundo\n",
        "---\n",
        "\n",
        "Referências:\n",
        "\n",
        "<a name=\"icvm555-119\">[6]</a> [ICVM 555, Art. 119](http://conteudo.cvm.gov.br/export/sites/cvm/legislacao/instrucoes/anexos/500/inst555consolid.pdf)\n",
        "\n",
        "<a name=\"icvm555-130\">[7]</a> [ICVM 555, Art. 130](http://conteudo.cvm.gov.br/export/sites/cvm/legislacao/instrucoes/anexos/500/inst555consolid.pdf)"
      ]
    },
    {
      "cell_type": "code",
      "metadata": {
        "id": "C15yLUlvvYMP"
      },
      "source": [
        "# Cadastro de fundos (PDA-CVM)\n",
        "url = busca_dados_abertos_cvm_cadastro()\n",
        "os.system('wget %s -O ./cad_fi.csv' %url)"
      ],
      "execution_count": null,
      "outputs": []
    },
    {
      "cell_type": "code",
      "metadata": {
        "id": "TgE8A9qqo0QF"
      },
      "source": [
        "cad_fundo       = pd.read_csv('./cad_fi.csv', sep=';', encoding='ISO-8859-1',\n",
        "                              usecols=['CNPJ_FUNDO', 'DENOM_SOCIAL', 'DT_REG', 'SIT', 'DT_INI_SIT', 'TP_FUNDO', 'FUNDO_COTAS', 'FUNDO_EXCLUSIVO', 'CPF_CNPJ_GESTOR'], dtype=object)\n",
        "cad_gestor      = pd.read_csv('./cad_fi.csv', sep=';', encoding='ISO-8859-1',\n",
        "                              usecols=['CPF_CNPJ_GESTOR','GESTOR'], dtype=object)"
      ],
      "execution_count": null,
      "outputs": []
    },
    {
      "cell_type": "code",
      "metadata": {
        "id": "31Y2ECATKG2-"
      },
      "source": [
        "cad_fundo['FUNDO_COTAS'].replace('N', 'False', inplace=True)\n",
        "cad_fundo['FUNDO_COTAS'].replace('S', 'True', inplace=True)\n",
        "\n",
        "cad_fundo['FUNDO_EXCLUSIVO'].replace('N', 'False', inplace=True)\n",
        "cad_fundo['FUNDO_EXCLUSIVO'].replace('S', 'True', inplace=True)"
      ],
      "execution_count": null,
      "outputs": []
    },
    {
      "cell_type": "markdown",
      "metadata": {
        "id": "WhqV_C570RLp"
      },
      "source": [
        "### Datasets de aplicações de fundos (Portal de Dados Abertos - CVM)\n"
      ]
    },
    {
      "cell_type": "markdown",
      "metadata": {
        "id": "F9dkg9LZWmX7"
      },
      "source": [
        "O documento __Composição e Diversificação das Aplicações (CDA)__ descreve as aplicações que compõem as carteiras de fundos de investimento.\n",
        "\n",
        "O conjunto de dados [Fundos de Investimento: Documentos: Composição e Diversificação das Aplicações](http://dados.cvm.gov.br/dataset/fi-doc-cda) disponibiliza as carteiras dos fundos em formato csv compactado, um arquivo zip para cada mês de competência (cda_fi_AAAAMM.zip).\n",
        "\n",
        "Por solicitação do gestor do fundo, os detalhes das aplicações podem ficar ocultos na consulta pública do CDA por até 3 meses após o envio das informações. Por isso, consultaremos a competência mais recente anterior a essa janela."
      ]
    },
    {
      "cell_type": "code",
      "metadata": {
        "id": "6LL-i96bvj40"
      },
      "source": [
        "# Carteiras de fundos (PDA-CVM)\n",
        "url = busca_dados_abertos_cvm_carteira()\n",
        "os.system('wget %s -O ./cda_fi.zip' %url)"
      ],
      "execution_count": null,
      "outputs": []
    },
    {
      "cell_type": "markdown",
      "metadata": {
        "id": "yN_Aa2V9o4QW"
      },
      "source": [
        "Dentro de cada arquivo zip, as aplicações dos fundos estão organizadas em diferente arquivos csv conforme a estrutura de blocos do [padrão XML do Informe CDA](http://cvmweb.cvm.gov.br/SWB/Sistemas/SCW/PadroesXML/PadraoXMLCDANetV4.aspx):\n",
        "\n",
        "* __Bloco 1__ (Títulos públicos do SELIC): cda_fi_BLC_1_AAAAMM.csv\n",
        "* __Bloco 2__ (Cotas de fundos de investimento): cda_fi_BLC_2_AAAAMM.csv\n",
        "* __Bloco 3__ (SWAP): cda_fi_BLC_3_AAAAMM.csv\n",
        "* __Bloco 4__ (Demais ativos codificados): cda_fi_BLC_4_AAAAMM.csv\n",
        "* __Bloco 5__ (Depósitos a prazo e outros títulos de IF): cda_fi_BLC_5_AAAAMM.csv\n",
        "* __Bloco 6__ (Títulos do agronegócio e de crédito privado): cda_fi_BLC_6_AAAAMM.csv\n",
        "* __Bloco 7__ (Investimento no exterior): cda_fi_BLC_7_AAAAMM.csv\n",
        "* __Bloco 8__ (Demais ativos não codificados): cda_fi_BLC_8_AAAAMM.csv\n",
        "* __Patrimônio Líquido__: cda_fi_PL_AAAAMM.csv\n",
        "\n",
        "Os atributos que descrevem as aplicações diferem de acordo com o bloco do CDA em que são reportadas, mas alguns são comuns a todas as aplicações:\n",
        "\n",
        "* __VL_MERC_POS_FINAL__: valor financeiro da aplicação.\n",
        "* __TP_APLIC__: tipo da aplicação, determina se o valor do ativo deve ser somado ou subtraído do patrimônio líquido do fundo. Neste trabalho, será utilizado como classe do ativo para as aplicações reportadas nos blocos 5 a 8.\n",
        "* __TP_ATIVO__: tipo do ativo. Neste trabalho, será utilizado como descrição do ativo para as aplicações reportadas nos blocos 5 a 8.\n",
        "\n",
        "No CDA, somente as aplicações dos blocos 5 a 8 trazem a identificação do emissor do ativo (opcional nos blocos 7 e 8).\n",
        "\n",
        "Neste trabalho, as aplicações reportadas no bloco 2 do CDA não serão modeladas como ativos, por se referirem a cotas de fundos de investimento.\n"
      ]
    },
    {
      "cell_type": "code",
      "metadata": {
        "id": "oqSkOEuzWaYu"
      },
      "source": [
        "zf = zipfile.ZipFile('./cda_fi.zip') \n",
        "\n",
        "# Patrimônio Líquido\n",
        "cda0 = pd.read_csv(zf.open('cda_fi_PL' + comptc() + '.csv'),    sep=';', encoding='ISO-8859-1', \n",
        "                   usecols=['CNPJ_FUNDO', 'VL_PATRIM_LIQ'], dtype=object)             \n",
        "                          \n",
        "# 1. Titulos Públicos\n",
        "cda1 = pd.read_csv(zf.open('cda_fi_BLC_1' + comptc() + '.csv'), sep=';', encoding='ISO-8859-1', \n",
        "                   usecols=['CNPJ_FUNDO', 'TP_APLIC', 'VL_MERC_POS_FINAL', 'CD_ISIN', 'TP_TITPUB', 'DT_VENC'], \n",
        "                   dtype=object)\\\n",
        "                   [['CNPJ_FUNDO','TP_APLIC', 'VL_MERC_POS_FINAL','CD_ISIN', 'TP_TITPUB','DT_VENC']].\\\n",
        "                   rename(columns={'VL_MERC_POS_FINAL': 'VL_APLIC','TP_TITPUB': 'DS_ATIVO'})\\\n",
        "                                \n",
        "# 2. Cotas de Fundos\n",
        "cda2 = pd.read_csv(zf.open('cda_fi_BLC_2' + comptc() + '.csv'), sep=';', encoding='ISO-8859-1', \n",
        "                   usecols=['CNPJ_FUNDO', 'TP_APLIC', 'VL_MERC_POS_FINAL', 'CNPJ_FUNDO_COTA'], \n",
        "                   dtype=object)\\\n",
        "                   [['CNPJ_FUNDO', 'TP_APLIC', 'VL_MERC_POS_FINAL', 'CNPJ_FUNDO_COTA']].\\\n",
        "                   rename(columns={'VL_MERC_POS_FINAL': 'VL_APLIC'})     \n",
        "\n",
        "# 3. SWAP\n",
        "cda3 = pd.read_csv(zf.open('cda_fi_BLC_3' + comptc() + '.csv'), sep=';', encoding='ISO-8859-1', \n",
        "                   usecols=['CNPJ_FUNDO', 'TP_APLIC', 'VL_MERC_POS_FINAL', 'CD_SWAP', 'DS_SWAP'], \n",
        "                   dtype=object)\\\n",
        "                   [['CNPJ_FUNDO', 'TP_APLIC', 'VL_MERC_POS_FINAL', 'CD_SWAP', 'DS_SWAP']].\\\n",
        "                   rename(columns={'VL_MERC_POS_FINAL': 'VL_APLIC','DS_SWAP': 'CD_ATIVO'})  \n",
        "\n",
        "# 4. Ativos Codificados\n",
        "cda4 = pd.read_csv(zf.open('cda_fi_BLC_4' + comptc() + '.csv'), sep=';', encoding='ISO-8859-1', \n",
        "                   usecols=['CNPJ_FUNDO', 'TP_APLIC', 'TP_ATIVO', 'VL_MERC_POS_FINAL', 'CD_ISIN', 'CD_ATIVO' ], \n",
        "                   dtype=object)\\\n",
        "                   [['CNPJ_FUNDO', 'TP_APLIC', 'VL_MERC_POS_FINAL', 'CD_ISIN', 'CD_ATIVO', 'TP_ATIVO' ]].\\\n",
        "                   rename(columns={'VL_MERC_POS_FINAL': 'VL_APLIC','TP_ATIVO': 'DS_ATIVO'})                        \n",
        "\n",
        "# 5. Depósitos a Prazo e Outros Títulos de IF\n",
        "cda5 = pd.read_csv(zf.open('cda_fi_BLC_5' + comptc() + '.csv'), sep=';', encoding='ISO-8859-1', \n",
        "                   usecols=['CNPJ_FUNDO', 'TP_APLIC', 'TP_ATIVO', 'VL_MERC_POS_FINAL', 'DT_VENC', 'CNPJ_EMISSOR', 'EMISSOR'], \n",
        "                   dtype=object)\\\n",
        "                   [['CNPJ_FUNDO', 'TP_APLIC', 'TP_ATIVO', 'VL_MERC_POS_FINAL', 'DT_VENC', 'CNPJ_EMISSOR', 'EMISSOR']].\\\n",
        "                   rename(columns={'VL_MERC_POS_FINAL': 'VL_APLIC', 'CNPJ_EMISSOR': 'CPF_CNPJ_EMISSOR'})       \n",
        "\n",
        "# 6. Títulos do Agronegócio e de Crédito Privado\n",
        "cda6 = pd.read_csv(zf.open('cda_fi_BLC_6' + comptc() + '.csv'), sep=';', encoding='ISO-8859-1', \n",
        "                   usecols=['CNPJ_FUNDO', 'TP_APLIC', 'TP_ATIVO', 'VL_MERC_POS_FINAL', 'DT_VENC', 'CPF_CNPJ_EMISSOR', 'EMISSOR'], \n",
        "                   dtype=object)\\\n",
        "                   [['CNPJ_FUNDO', 'TP_APLIC', 'TP_ATIVO', 'VL_MERC_POS_FINAL', 'DT_VENC', 'CPF_CNPJ_EMISSOR', 'EMISSOR']].\\\n",
        "                   rename(columns={'VL_MERC_POS_FINAL': 'VL_APLIC'})     \n",
        "\n",
        "# 7. Investimento no Exterior\n",
        "cda7 = pd.read_csv(zf.open('cda_fi_BLC_7' + comptc() + '.csv'), sep=';', encoding='ISO-8859-1', \n",
        "                   usecols=['CNPJ_FUNDO', 'TP_APLIC', 'TP_ATIVO', 'VL_MERC_POS_FINAL', 'CD_ATIVO_BV_MERC', 'BV_MERC', 'PAIS', 'DT_VENC', 'EMISSOR'], \n",
        "                   dtype=object)\\\n",
        "                   [['CNPJ_FUNDO', 'TP_APLIC', 'VL_MERC_POS_FINAL', 'CD_ATIVO_BV_MERC', 'BV_MERC', 'PAIS', 'TP_ATIVO', 'DT_VENC', 'EMISSOR']].\\\n",
        "                   rename(columns={'VL_MERC_POS_FINAL': 'VL_APLIC','CD_ATIVO_BV_MERC': 'CD_ATIVO'})      \n",
        "\n",
        "# 8. Ativos não Codificados\n",
        "cda8 = pd.read_csv(zf.open('cda_fi_BLC_8' + comptc() + '.csv'), sep=';', encoding='ISO-8859-1', \n",
        "                   usecols=['CNPJ_FUNDO', 'TP_APLIC', 'TP_ATIVO', 'VL_MERC_POS_FINAL', 'DS_ATIVO', 'CPF_CNPJ_EMISSOR', 'EMISSOR'], \n",
        "                   dtype=object)\\\n",
        "                   [['CNPJ_FUNDO', 'TP_APLIC', 'TP_ATIVO', 'VL_MERC_POS_FINAL', 'DS_ATIVO', 'CPF_CNPJ_EMISSOR', 'EMISSOR']].\\\n",
        "                   rename(columns={'VL_MERC_POS_FINAL': 'VL_APLIC'})             "
      ],
      "execution_count": null,
      "outputs": []
    },
    {
      "cell_type": "code",
      "metadata": {
        "id": "dlYnbbGbbe7J"
      },
      "source": [
        "cda5['DS_ATIVO'] = cda5.apply(lambda row: aplic_ativo(row), axis=1)\n",
        "cda6['DS_ATIVO'] = cda6.apply(lambda row: aplic_ativo(row), axis=1)\n",
        "cda7['DS_ATIVO'] = cda7.apply(lambda row: aplic_ativo(row), axis=1)\n",
        "cda8['DS_ATIVO'] = cda8.apply(lambda row: aplic_ativo_descricao(row), axis=1)\n",
        "\n",
        "cda5 = cda5.drop(['TP_ATIVO'], axis=1)\n",
        "cda6 = cda6.drop(['TP_ATIVO'], axis=1)\n",
        "cda7 = cda7.drop(['TP_ATIVO'], axis=1)\n",
        "cda8 = cda8.drop(['TP_ATIVO'], axis=1)"
      ],
      "execution_count": null,
      "outputs": []
    },
    {
      "cell_type": "markdown",
      "metadata": {
        "id": "Kreaj6S_0fQj"
      },
      "source": [
        "### Datasets de ativos e emissores (Site B3)"
      ]
    },
    {
      "cell_type": "markdown",
      "metadata": {
        "id": "EW5LO5PHuBn0"
      },
      "source": [
        "ISIN (International Securities Identification Number) é uma norma internacional para estabelecer uma padronização na codificação de títulos financeiros, atribuindo a cada ativo um código único de identificação [[8]](#isin).\n",
        "\n",
        "A [[B]<sup>3</sup>](http://www.b3.com.br/) disponibiliza o [banco de dados ISIN](https://sistemaswebb3-listados.b3.com.br/isinPage/?language=pt-br) para download em seu site, nessa base é possível encontrar as seguintes informações de interesse:\n",
        "* Código ISIN do ativo\n",
        "* Descrição do ativo\n",
        "* Emissor do ativo\n",
        "\n",
        "Utilizaremos a base ISIN para determinar os emissores das aplicações informadas nos blocos 1, 3 e 4 do CDA, utilizando como chave o código ISIN. (No CDA, somente as aplicações dos blocos 5 a 8 trazem a identificação do emissor do ativo).\n",
        "\n",
        "--- \n",
        "\n",
        "Referências:\n",
        "\n",
        "<a name=\"isin\">[8]</a> [Código ISIN | B3](http://www.b3.com.br/pt_br/market-data-e-indices/servicos-de-dados/market-data/consultas/mercado-a-vista/codigo-isin/sobre-codigo-isin/)\n"
      ]
    },
    {
      "cell_type": "code",
      "metadata": {
        "id": "2Grcv1TC1CUn"
      },
      "source": [
        "# Emissores e ativos (B3)\n",
        "busca_isin_b3()"
      ],
      "execution_count": null,
      "outputs": []
    },
    {
      "cell_type": "code",
      "metadata": {
        "id": "qA83lKBs3arb"
      },
      "source": [
        "zf = zipfile.ZipFile('./isinp.zip') \n",
        "ativos_isin = pd.read_csv(zf.open('NUMERACA.TXT'), sep=',', header=None, \\\n",
        "                   usecols=[2, 3, 5, 20], dtype=object, \\\n",
        "                   names=['CD_ISIN', 'COD_EMISSOR', 'DS_ATIVO', 'COD_TIPO'])\\\n",
        "                   [['CD_ISIN', 'COD_TIPO', 'DS_ATIVO', 'COD_EMISSOR']]\n",
        "emissores_ativos_isin = pd.read_csv(zf.open('EMISSOR.TXT') , sep=',', header=None, \\\n",
        "                   usecols=[0, 1, 2], dtype=object, \\\n",
        "                   names=['COD_EMISSOR', 'EMISSOR', 'CNPJ_EMISSOR'])"
      ],
      "execution_count": null,
      "outputs": []
    },
    {
      "cell_type": "code",
      "metadata": {
        "id": "rivketRY5s31"
      },
      "source": [
        "emissores_ativos_isin['CNPJ_EMISSOR'] = emissores_ativos_isin.CNPJ_EMISSOR.fillna('').apply(formataCNPJ)\n",
        "emissores_ativos_isin = emissores_ativos_isin.rename(columns={'CNPJ_EMISSOR': 'CPF_CNPJ_EMISSOR'})"
      ],
      "execution_count": null,
      "outputs": []
    },
    {
      "cell_type": "markdown",
      "metadata": {
        "id": "uvSAhiM_E9zE"
      },
      "source": [
        "## Tratamento dos dados"
      ]
    },
    {
      "cell_type": "markdown",
      "metadata": {
        "id": "h0HWkafeD52V"
      },
      "source": [
        "### Fundos\n"
      ]
    },
    {
      "cell_type": "code",
      "metadata": {
        "colab": {
          "base_uri": "https://localhost:8080/"
        },
        "id": "lm2RkX_WhSre",
        "outputId": "b61a5ee2-9dbf-43e9-ea83-76cc9d19a715"
      },
      "source": [
        "# Inspecionando domínio do campo SIT (Situação do fundo)\n",
        "print(cad_fundo.SIT.unique())"
      ],
      "execution_count": null,
      "outputs": [
        {
          "output_type": "stream",
          "text": [
            "['CANCELADA' 'EM FUNCIONAMENTO NORMAL' 'LIQUIDAÇÃO' 'INCORPORAÇÃO'\n",
            " 'FASE PRÉ-OPERACIONAL' 'EM SITUAÇÃO ESPECIAL' 'TRANSFORMAÇÃO'\n",
            " 'EM ANÁLISE']\n"
          ],
          "name": "stdout"
        }
      ]
    },
    {
      "cell_type": "code",
      "metadata": {
        "colab": {
          "base_uri": "https://localhost:8080/",
          "height": 424
        },
        "id": "thQm-0aN5KDB",
        "outputId": "601f5747-e25c-4957-cc14-274a375d1084"
      },
      "source": [
        "# Inspecionando fundos com mais de uma linha no dataset\n",
        "cad_fundo[cad_fundo.duplicated(subset=['CNPJ_FUNDO'], keep=False)].sort_values('CNPJ_FUNDO')"
      ],
      "execution_count": null,
      "outputs": [
        {
          "output_type": "execute_result",
          "data": {
            "text/html": [
              "<div>\n",
              "<style scoped>\n",
              "    .dataframe tbody tr th:only-of-type {\n",
              "        vertical-align: middle;\n",
              "    }\n",
              "\n",
              "    .dataframe tbody tr th {\n",
              "        vertical-align: top;\n",
              "    }\n",
              "\n",
              "    .dataframe thead th {\n",
              "        text-align: right;\n",
              "    }\n",
              "</style>\n",
              "<table border=\"1\" class=\"dataframe\">\n",
              "  <thead>\n",
              "    <tr style=\"text-align: right;\">\n",
              "      <th></th>\n",
              "      <th>TP_FUNDO</th>\n",
              "      <th>CNPJ_FUNDO</th>\n",
              "      <th>DENOM_SOCIAL</th>\n",
              "      <th>DT_REG</th>\n",
              "      <th>SIT</th>\n",
              "      <th>DT_INI_SIT</th>\n",
              "      <th>FUNDO_COTAS</th>\n",
              "      <th>FUNDO_EXCLUSIVO</th>\n",
              "      <th>CPF_CNPJ_GESTOR</th>\n",
              "    </tr>\n",
              "  </thead>\n",
              "  <tbody>\n",
              "    <tr>\n",
              "      <th>5278</th>\n",
              "      <td>FI</td>\n",
              "      <td>00.000.432/0001-00</td>\n",
              "      <td>COPESUL  - FUNDO DE INVESTIMENTO MULTIMERCADO ...</td>\n",
              "      <td>2005-03-31</td>\n",
              "      <td>CANCELADA</td>\n",
              "      <td>2008-07-18</td>\n",
              "      <td>False</td>\n",
              "      <td>True</td>\n",
              "      <td>NaN</td>\n",
              "    </tr>\n",
              "    <tr>\n",
              "      <th>49560</th>\n",
              "      <td>FIF</td>\n",
              "      <td>00.000.432/0001-00</td>\n",
              "      <td>COPESUL  - FUNDO DE INVESTIMENTO MULTIMERCADO ...</td>\n",
              "      <td>2003-04-30</td>\n",
              "      <td>CANCELADA</td>\n",
              "      <td>2005-03-31</td>\n",
              "      <td>NaN</td>\n",
              "      <td>NaN</td>\n",
              "      <td>NaN</td>\n",
              "    </tr>\n",
              "    <tr>\n",
              "      <th>49566</th>\n",
              "      <td>FIF</td>\n",
              "      <td>00.000.744/0001-06</td>\n",
              "      <td>REAL FUNDO DE INVESTIMENTO CURTO PRAZO DAILY A</td>\n",
              "      <td>2003-04-30</td>\n",
              "      <td>CANCELADA</td>\n",
              "      <td>2005-01-01</td>\n",
              "      <td>NaN</td>\n",
              "      <td>NaN</td>\n",
              "      <td>NaN</td>\n",
              "    </tr>\n",
              "    <tr>\n",
              "      <th>5279</th>\n",
              "      <td>FI</td>\n",
              "      <td>00.000.744/0001-06</td>\n",
              "      <td>REAL FUNDO DE INVESTIMENTO CURTO PRAZO DAILY A</td>\n",
              "      <td>2005-01-13</td>\n",
              "      <td>CANCELADA</td>\n",
              "      <td>2006-06-30</td>\n",
              "      <td>False</td>\n",
              "      <td>False</td>\n",
              "      <td>NaN</td>\n",
              "    </tr>\n",
              "    <tr>\n",
              "      <th>5280</th>\n",
              "      <td>FI</td>\n",
              "      <td>00.000.746/0001-03</td>\n",
              "      <td>ALFA DINÂMICO - FUNDO DE INVESTIMENTO EM COTAS...</td>\n",
              "      <td>2004-12-09</td>\n",
              "      <td>CANCELADA</td>\n",
              "      <td>2016-09-26</td>\n",
              "      <td>True</td>\n",
              "      <td>False</td>\n",
              "      <td>60.770.336/0001-65</td>\n",
              "    </tr>\n",
              "    <tr>\n",
              "      <th>...</th>\n",
              "      <td>...</td>\n",
              "      <td>...</td>\n",
              "      <td>...</td>\n",
              "      <td>...</td>\n",
              "      <td>...</td>\n",
              "      <td>...</td>\n",
              "      <td>...</td>\n",
              "      <td>...</td>\n",
              "      <td>...</td>\n",
              "    </tr>\n",
              "    <tr>\n",
              "      <th>49348</th>\n",
              "      <td>FIDC</td>\n",
              "      <td>97.525.450/0001-30</td>\n",
              "      <td>G5 AP INFRA FUNDO DE INVESTIMENTO EM DIREITOS ...</td>\n",
              "      <td>2017-12-07</td>\n",
              "      <td>EM FUNCIONAMENTO NORMAL</td>\n",
              "      <td>2017-12-07</td>\n",
              "      <td>False</td>\n",
              "      <td>NaN</td>\n",
              "      <td>09.446.129/0001-00</td>\n",
              "    </tr>\n",
              "    <tr>\n",
              "      <th>46482</th>\n",
              "      <td>FI</td>\n",
              "      <td>97.525.450/0001-30</td>\n",
              "      <td>G5 AP INFRA FUNDO DE INVESTIMENTO EM DIREITOS ...</td>\n",
              "      <td>2011-08-10</td>\n",
              "      <td>CANCELADA</td>\n",
              "      <td>2017-12-07</td>\n",
              "      <td>False</td>\n",
              "      <td>False</td>\n",
              "      <td>NaN</td>\n",
              "    </tr>\n",
              "    <tr>\n",
              "      <th>46483</th>\n",
              "      <td>FI</td>\n",
              "      <td>97.525.452/0001-29</td>\n",
              "      <td>G5 SCB II FUNDO DE INVESTIMENTO EM AÇÕES</td>\n",
              "      <td>2011-08-10</td>\n",
              "      <td>CANCELADA</td>\n",
              "      <td>2017-12-19</td>\n",
              "      <td>False</td>\n",
              "      <td>False</td>\n",
              "      <td>NaN</td>\n",
              "    </tr>\n",
              "    <tr>\n",
              "      <th>46484</th>\n",
              "      <td>FI</td>\n",
              "      <td>97.525.452/0001-29</td>\n",
              "      <td>G5 SCB II FUNDO DE INVESTIMENTO EM AÇÕES</td>\n",
              "      <td>2020-02-12</td>\n",
              "      <td>EM FUNCIONAMENTO NORMAL</td>\n",
              "      <td>2020-02-12</td>\n",
              "      <td>False</td>\n",
              "      <td>False</td>\n",
              "      <td>09.446.129/0001-00</td>\n",
              "    </tr>\n",
              "    <tr>\n",
              "      <th>49349</th>\n",
              "      <td>FIDC</td>\n",
              "      <td>97.525.452/0001-29</td>\n",
              "      <td>G5 SCB II FUNDO DE INVESTIMENTO EM AÇÕES</td>\n",
              "      <td>2017-12-19</td>\n",
              "      <td>CANCELADA</td>\n",
              "      <td>2020-02-12</td>\n",
              "      <td>False</td>\n",
              "      <td>NaN</td>\n",
              "      <td>09.446.129/0001-00</td>\n",
              "    </tr>\n",
              "  </tbody>\n",
              "</table>\n",
              "<p>14977 rows × 9 columns</p>\n",
              "</div>"
            ],
            "text/plain": [
              "      TP_FUNDO          CNPJ_FUNDO  ... FUNDO_EXCLUSIVO     CPF_CNPJ_GESTOR\n",
              "5278        FI  00.000.432/0001-00  ...            True                 NaN\n",
              "49560      FIF  00.000.432/0001-00  ...             NaN                 NaN\n",
              "49566      FIF  00.000.744/0001-06  ...             NaN                 NaN\n",
              "5279        FI  00.000.744/0001-06  ...           False                 NaN\n",
              "5280        FI  00.000.746/0001-03  ...           False  60.770.336/0001-65\n",
              "...        ...                 ...  ...             ...                 ...\n",
              "49348     FIDC  97.525.450/0001-30  ...             NaN  09.446.129/0001-00\n",
              "46482       FI  97.525.450/0001-30  ...           False                 NaN\n",
              "46483       FI  97.525.452/0001-29  ...           False                 NaN\n",
              "46484       FI  97.525.452/0001-29  ...           False  09.446.129/0001-00\n",
              "49349     FIDC  97.525.452/0001-29  ...             NaN  09.446.129/0001-00\n",
              "\n",
              "[14977 rows x 9 columns]"
            ]
          },
          "metadata": {
            "tags": []
          },
          "execution_count": 28
        }
      ]
    },
    {
      "cell_type": "code",
      "metadata": {
        "colab": {
          "base_uri": "https://localhost:8080/",
          "height": 424
        },
        "id": "TXsfYSfwKhWu",
        "outputId": "e75e9a42-bfe8-4bc2-a3ed-1cb64c27db4f"
      },
      "source": [
        "# Selecionando as linhas correspondentes à situação mais recente do fundo\n",
        "fundos_ultima_situacao = cad_fundo[['TP_FUNDO','CNPJ_FUNDO','DENOM_SOCIAL','DT_REG', 'SIT','DT_INI_SIT','FUNDO_COTAS','FUNDO_EXCLUSIVO']]\n",
        "fundos_ultima_situacao['SIT_AUX'] = fundos_ultima_situacao.apply(lambda row: sit_aux(row), axis=1)\n",
        "\n",
        "fundos_ultima_situacao = fundos_ultima_situacao.sort_values(by=['DT_INI_SIT', 'DT_REG', 'SIT_AUX']).drop_duplicates(subset=['CNPJ_FUNDO'],keep='last')\n",
        "fundos_ultima_situacao = fundos_ultima_situacao.drop(['DT_REG'], axis=1)\n",
        "fundos_ultima_situacao = fundos_ultima_situacao.drop(['SIT_AUX'], axis=1)\n",
        "\n",
        "fundos_ultima_situacao"
      ],
      "execution_count": null,
      "outputs": [
        {
          "output_type": "execute_result",
          "data": {
            "text/html": [
              "<div>\n",
              "<style scoped>\n",
              "    .dataframe tbody tr th:only-of-type {\n",
              "        vertical-align: middle;\n",
              "    }\n",
              "\n",
              "    .dataframe tbody tr th {\n",
              "        vertical-align: top;\n",
              "    }\n",
              "\n",
              "    .dataframe thead th {\n",
              "        text-align: right;\n",
              "    }\n",
              "</style>\n",
              "<table border=\"1\" class=\"dataframe\">\n",
              "  <thead>\n",
              "    <tr style=\"text-align: right;\">\n",
              "      <th></th>\n",
              "      <th>TP_FUNDO</th>\n",
              "      <th>CNPJ_FUNDO</th>\n",
              "      <th>DENOM_SOCIAL</th>\n",
              "      <th>SIT</th>\n",
              "      <th>DT_INI_SIT</th>\n",
              "      <th>FUNDO_COTAS</th>\n",
              "      <th>FUNDO_EXCLUSIVO</th>\n",
              "    </tr>\n",
              "  </thead>\n",
              "  <tbody>\n",
              "    <tr>\n",
              "      <th>59026</th>\n",
              "      <td>FMIA</td>\n",
              "      <td>29.183.837/0001-03</td>\n",
              "      <td>F LAN?A DE A</td>\n",
              "      <td>CANCELADA</td>\n",
              "      <td>1986-05-25</td>\n",
              "      <td>NaN</td>\n",
              "      <td>NaN</td>\n",
              "    </tr>\n",
              "    <tr>\n",
              "      <th>59124</th>\n",
              "      <td>FMIA</td>\n",
              "      <td>55.221.998/0001-46</td>\n",
              "      <td>F PRICE DE A</td>\n",
              "      <td>CANCELADA</td>\n",
              "      <td>1987-06-05</td>\n",
              "      <td>NaN</td>\n",
              "      <td>NaN</td>\n",
              "    </tr>\n",
              "    <tr>\n",
              "      <th>59134</th>\n",
              "      <td>FMIA</td>\n",
              "      <td>56.093.081/0001-76</td>\n",
              "      <td>F ULTRACRED DE A</td>\n",
              "      <td>CANCELADA</td>\n",
              "      <td>1987-09-03</td>\n",
              "      <td>NaN</td>\n",
              "      <td>NaN</td>\n",
              "    </tr>\n",
              "    <tr>\n",
              "      <th>59032</th>\n",
              "      <td>FMIA</td>\n",
              "      <td>29.410.727/0001-29</td>\n",
              "      <td>PORTINVEST FIA PORTAL</td>\n",
              "      <td>CANCELADA</td>\n",
              "      <td>1987-10-30</td>\n",
              "      <td>NaN</td>\n",
              "      <td>NaN</td>\n",
              "    </tr>\n",
              "    <tr>\n",
              "      <th>59037</th>\n",
              "      <td>FMIA</td>\n",
              "      <td>29.415.700/0001-29</td>\n",
              "      <td>BONANÇA F DE A</td>\n",
              "      <td>CANCELADA</td>\n",
              "      <td>1987-11-10</td>\n",
              "      <td>NaN</td>\n",
              "      <td>NaN</td>\n",
              "    </tr>\n",
              "    <tr>\n",
              "      <th>...</th>\n",
              "      <td>...</td>\n",
              "      <td>...</td>\n",
              "      <td>...</td>\n",
              "      <td>...</td>\n",
              "      <td>...</td>\n",
              "      <td>...</td>\n",
              "      <td>...</td>\n",
              "    </tr>\n",
              "    <tr>\n",
              "      <th>58005</th>\n",
              "      <td>FIP</td>\n",
              "      <td>41.082.921/0001-28</td>\n",
              "      <td>FUNDO DE INVESTIMENTO EM PARTICIPAÇÕES BTG PAC...</td>\n",
              "      <td>FASE PRÉ-OPERACIONAL</td>\n",
              "      <td>2021-04-01</td>\n",
              "      <td>False</td>\n",
              "      <td>NaN</td>\n",
              "    </tr>\n",
              "    <tr>\n",
              "      <th>58008</th>\n",
              "      <td>FIP</td>\n",
              "      <td>41.256.932/0001-87</td>\n",
              "      <td>ROXO ESCARLATE FUNDO DE INVESTIMENTO EM PARTIC...</td>\n",
              "      <td>FASE PRÉ-OPERACIONAL</td>\n",
              "      <td>2021-04-01</td>\n",
              "      <td>False</td>\n",
              "      <td>NaN</td>\n",
              "    </tr>\n",
              "    <tr>\n",
              "      <th>49005</th>\n",
              "      <td>FIDC</td>\n",
              "      <td>35.099.744/0001-90</td>\n",
              "      <td>NOVO MUNDO FUNDO DE INVESTIMENTO EM DIREITOS C...</td>\n",
              "      <td>EM ANÁLISE</td>\n",
              "      <td>2021-04-01</td>\n",
              "      <td>False</td>\n",
              "      <td>NaN</td>\n",
              "    </tr>\n",
              "    <tr>\n",
              "      <th>35847</th>\n",
              "      <td>FI</td>\n",
              "      <td>29.300.737/0001-01</td>\n",
              "      <td>MANAGER LOGOS FUNDO DE INVESTIMENTO EM COTAS D...</td>\n",
              "      <td>EM FUNCIONAMENTO NORMAL</td>\n",
              "      <td>2021-10-01</td>\n",
              "      <td>True</td>\n",
              "      <td>False</td>\n",
              "    </tr>\n",
              "    <tr>\n",
              "      <th>45146</th>\n",
              "      <td>FI</td>\n",
              "      <td>39.817.883/0001-62</td>\n",
              "      <td>XP RESERVA TÉCNICA FUNDO DE INVESTIMENTO RENDA...</td>\n",
              "      <td>EM FUNCIONAMENTO NORMAL</td>\n",
              "      <td>2021-11-18</td>\n",
              "      <td>False</td>\n",
              "      <td>False</td>\n",
              "    </tr>\n",
              "  </tbody>\n",
              "</table>\n",
              "<p>52369 rows × 7 columns</p>\n",
              "</div>"
            ],
            "text/plain": [
              "      TP_FUNDO          CNPJ_FUNDO  ... FUNDO_COTAS FUNDO_EXCLUSIVO\n",
              "59026     FMIA  29.183.837/0001-03  ...         NaN             NaN\n",
              "59124     FMIA  55.221.998/0001-46  ...         NaN             NaN\n",
              "59134     FMIA  56.093.081/0001-76  ...         NaN             NaN\n",
              "59032     FMIA  29.410.727/0001-29  ...         NaN             NaN\n",
              "59037     FMIA  29.415.700/0001-29  ...         NaN             NaN\n",
              "...        ...                 ...  ...         ...             ...\n",
              "58005      FIP  41.082.921/0001-28  ...       False             NaN\n",
              "58008      FIP  41.256.932/0001-87  ...       False             NaN\n",
              "49005     FIDC  35.099.744/0001-90  ...       False             NaN\n",
              "35847       FI  29.300.737/0001-01  ...        True           False\n",
              "45146       FI  39.817.883/0001-62  ...       False           False\n",
              "\n",
              "[52369 rows x 7 columns]"
            ]
          },
          "metadata": {
            "tags": []
          },
          "execution_count": 29
        }
      ]
    },
    {
      "cell_type": "code",
      "metadata": {
        "colab": {
          "base_uri": "https://localhost:8080/",
          "height": 49
        },
        "id": "OIedTrrlnnyo",
        "outputId": "68c567a1-7bab-48a8-cdf2-f3182678a683"
      },
      "source": [
        "# Inspecionando fundos com mais de uma linha no dataset\n",
        "fundos_ultima_situacao[fundos_ultima_situacao.duplicated(subset=['CNPJ_FUNDO'], keep=False)].sort_values('CNPJ_FUNDO')"
      ],
      "execution_count": null,
      "outputs": [
        {
          "output_type": "execute_result",
          "data": {
            "text/html": [
              "<div>\n",
              "<style scoped>\n",
              "    .dataframe tbody tr th:only-of-type {\n",
              "        vertical-align: middle;\n",
              "    }\n",
              "\n",
              "    .dataframe tbody tr th {\n",
              "        vertical-align: top;\n",
              "    }\n",
              "\n",
              "    .dataframe thead th {\n",
              "        text-align: right;\n",
              "    }\n",
              "</style>\n",
              "<table border=\"1\" class=\"dataframe\">\n",
              "  <thead>\n",
              "    <tr style=\"text-align: right;\">\n",
              "      <th></th>\n",
              "      <th>TP_FUNDO</th>\n",
              "      <th>CNPJ_FUNDO</th>\n",
              "      <th>DENOM_SOCIAL</th>\n",
              "      <th>SIT</th>\n",
              "      <th>DT_INI_SIT</th>\n",
              "      <th>FUNDO_COTAS</th>\n",
              "      <th>FUNDO_EXCLUSIVO</th>\n",
              "    </tr>\n",
              "  </thead>\n",
              "  <tbody>\n",
              "  </tbody>\n",
              "</table>\n",
              "</div>"
            ],
            "text/plain": [
              "Empty DataFrame\n",
              "Columns: [TP_FUNDO, CNPJ_FUNDO, DENOM_SOCIAL, SIT, DT_INI_SIT, FUNDO_COTAS, FUNDO_EXCLUSIVO]\n",
              "Index: []"
            ]
          },
          "metadata": {
            "tags": []
          },
          "execution_count": 30
        }
      ]
    },
    {
      "cell_type": "code",
      "metadata": {
        "colab": {
          "base_uri": "https://localhost:8080/",
          "height": 424
        },
        "id": "VaTAJmDQEau0",
        "outputId": "cf174a56-d8fe-41bd-d409-527373d03a37"
      },
      "source": [
        "# Fundos que informaram carteira de aplicações\n",
        "fundos_aplicacao = cda0[['CNPJ_FUNDO', 'VL_PATRIM_LIQ']]\n",
        "fundos_aplicacao"
      ],
      "execution_count": null,
      "outputs": [
        {
          "output_type": "execute_result",
          "data": {
            "text/html": [
              "<div>\n",
              "<style scoped>\n",
              "    .dataframe tbody tr th:only-of-type {\n",
              "        vertical-align: middle;\n",
              "    }\n",
              "\n",
              "    .dataframe tbody tr th {\n",
              "        vertical-align: top;\n",
              "    }\n",
              "\n",
              "    .dataframe thead th {\n",
              "        text-align: right;\n",
              "    }\n",
              "</style>\n",
              "<table border=\"1\" class=\"dataframe\">\n",
              "  <thead>\n",
              "    <tr style=\"text-align: right;\">\n",
              "      <th></th>\n",
              "      <th>CNPJ_FUNDO</th>\n",
              "      <th>VL_PATRIM_LIQ</th>\n",
              "    </tr>\n",
              "  </thead>\n",
              "  <tbody>\n",
              "    <tr>\n",
              "      <th>0</th>\n",
              "      <td>06.537.068/0001-90</td>\n",
              "      <td>1325.12</td>\n",
              "    </tr>\n",
              "    <tr>\n",
              "      <th>1</th>\n",
              "      <td>07.408.147/0001-64</td>\n",
              "      <td>28308.60</td>\n",
              "    </tr>\n",
              "    <tr>\n",
              "      <th>2</th>\n",
              "      <td>02.010.153/0001-45</td>\n",
              "      <td>17079539.69</td>\n",
              "    </tr>\n",
              "    <tr>\n",
              "      <th>3</th>\n",
              "      <td>02.177.812/0001-32</td>\n",
              "      <td>66438968.44</td>\n",
              "    </tr>\n",
              "    <tr>\n",
              "      <th>4</th>\n",
              "      <td>02.177.815/0001-76</td>\n",
              "      <td>2044493.92</td>\n",
              "    </tr>\n",
              "    <tr>\n",
              "      <th>...</th>\n",
              "      <td>...</td>\n",
              "      <td>...</td>\n",
              "    </tr>\n",
              "    <tr>\n",
              "      <th>19141</th>\n",
              "      <td>04.573.850/0001-30</td>\n",
              "      <td>1531828.38</td>\n",
              "    </tr>\n",
              "    <tr>\n",
              "      <th>19142</th>\n",
              "      <td>04.602.186/0001-00</td>\n",
              "      <td>745123.56</td>\n",
              "    </tr>\n",
              "    <tr>\n",
              "      <th>19143</th>\n",
              "      <td>04.609.196/0001-77</td>\n",
              "      <td>330930.45</td>\n",
              "    </tr>\n",
              "    <tr>\n",
              "      <th>19144</th>\n",
              "      <td>04.609.212/0001-21</td>\n",
              "      <td>1686446.84</td>\n",
              "    </tr>\n",
              "    <tr>\n",
              "      <th>19145</th>\n",
              "      <td>11.179.262/0001-81</td>\n",
              "      <td>1780896.83</td>\n",
              "    </tr>\n",
              "  </tbody>\n",
              "</table>\n",
              "<p>19146 rows × 2 columns</p>\n",
              "</div>"
            ],
            "text/plain": [
              "               CNPJ_FUNDO VL_PATRIM_LIQ\n",
              "0      06.537.068/0001-90       1325.12\n",
              "1      07.408.147/0001-64      28308.60\n",
              "2      02.010.153/0001-45   17079539.69\n",
              "3      02.177.812/0001-32   66438968.44\n",
              "4      02.177.815/0001-76    2044493.92\n",
              "...                   ...           ...\n",
              "19141  04.573.850/0001-30    1531828.38\n",
              "19142  04.602.186/0001-00     745123.56\n",
              "19143  04.609.196/0001-77     330930.45\n",
              "19144  04.609.212/0001-21    1686446.84\n",
              "19145  11.179.262/0001-81    1780896.83\n",
              "\n",
              "[19146 rows x 2 columns]"
            ]
          },
          "metadata": {
            "tags": []
          },
          "execution_count": 31
        }
      ]
    },
    {
      "cell_type": "code",
      "metadata": {
        "colab": {
          "base_uri": "https://localhost:8080/",
          "height": 424
        },
        "id": "Y49bidQvD4eG",
        "outputId": "d5064866-991c-425c-84d0-8253b6e9d2e9"
      },
      "source": [
        "# Fundos cujas cotas são ativos em que outros fundos aplicam\n",
        "fundos_alvo_aplicacao = cda2[['CNPJ_FUNDO_COTA']].drop_duplicates()\n",
        "fundos_alvo_aplicacao"
      ],
      "execution_count": null,
      "outputs": [
        {
          "output_type": "execute_result",
          "data": {
            "text/html": [
              "<div>\n",
              "<style scoped>\n",
              "    .dataframe tbody tr th:only-of-type {\n",
              "        vertical-align: middle;\n",
              "    }\n",
              "\n",
              "    .dataframe tbody tr th {\n",
              "        vertical-align: top;\n",
              "    }\n",
              "\n",
              "    .dataframe thead th {\n",
              "        text-align: right;\n",
              "    }\n",
              "</style>\n",
              "<table border=\"1\" class=\"dataframe\">\n",
              "  <thead>\n",
              "    <tr style=\"text-align: right;\">\n",
              "      <th></th>\n",
              "      <th>CNPJ_FUNDO_COTA</th>\n",
              "    </tr>\n",
              "  </thead>\n",
              "  <tbody>\n",
              "    <tr>\n",
              "      <th>0</th>\n",
              "      <td>08.046.417/0001-05</td>\n",
              "    </tr>\n",
              "    <tr>\n",
              "      <th>1</th>\n",
              "      <td>01.608.573/0001-65</td>\n",
              "    </tr>\n",
              "    <tr>\n",
              "      <th>2</th>\n",
              "      <td>01.235.622/0001-61</td>\n",
              "    </tr>\n",
              "    <tr>\n",
              "      <th>3</th>\n",
              "      <td>10.597.218/0001-29</td>\n",
              "    </tr>\n",
              "    <tr>\n",
              "      <th>4</th>\n",
              "      <td>08.277.553/0001-06</td>\n",
              "    </tr>\n",
              "    <tr>\n",
              "      <th>...</th>\n",
              "      <td>...</td>\n",
              "    </tr>\n",
              "    <tr>\n",
              "      <th>140169</th>\n",
              "      <td>14.038.410/0001-36</td>\n",
              "    </tr>\n",
              "    <tr>\n",
              "      <th>140215</th>\n",
              "      <td>32.073.244/0001-90</td>\n",
              "    </tr>\n",
              "    <tr>\n",
              "      <th>140349</th>\n",
              "      <td>35.645.145/0001-24</td>\n",
              "    </tr>\n",
              "    <tr>\n",
              "      <th>140383</th>\n",
              "      <td>37.236.082/0001-88</td>\n",
              "    </tr>\n",
              "    <tr>\n",
              "      <th>140426</th>\n",
              "      <td>26.740.437/0001-55</td>\n",
              "    </tr>\n",
              "  </tbody>\n",
              "</table>\n",
              "<p>7943 rows × 1 columns</p>\n",
              "</div>"
            ],
            "text/plain": [
              "           CNPJ_FUNDO_COTA\n",
              "0       08.046.417/0001-05\n",
              "1       01.608.573/0001-65\n",
              "2       01.235.622/0001-61\n",
              "3       10.597.218/0001-29\n",
              "4       08.277.553/0001-06\n",
              "...                    ...\n",
              "140169  14.038.410/0001-36\n",
              "140215  32.073.244/0001-90\n",
              "140349  35.645.145/0001-24\n",
              "140383  37.236.082/0001-88\n",
              "140426  26.740.437/0001-55\n",
              "\n",
              "[7943 rows x 1 columns]"
            ]
          },
          "metadata": {
            "tags": []
          },
          "execution_count": 32
        }
      ]
    },
    {
      "cell_type": "code",
      "metadata": {
        "colab": {
          "base_uri": "https://localhost:8080/",
          "height": 424
        },
        "id": "eK7T8lNzFUxr",
        "outputId": "a3d45e4a-401a-42a2-f4e8-05d4d1f68ba0"
      },
      "source": [
        "# Todos os fundos referenciados no CDA\n",
        "fundos_cda = pd.concat([fundos_aplicacao,fundos_alvo_aplicacao.rename(columns={'CNPJ_FUNDO_COTA': 'CNPJ_FUNDO'})]).fillna('').sort_values('VL_PATRIM_LIQ').drop_duplicates(subset=['CNPJ_FUNDO'], keep='last')\n",
        "fundos_cda"
      ],
      "execution_count": null,
      "outputs": [
        {
          "output_type": "execute_result",
          "data": {
            "text/html": [
              "<div>\n",
              "<style scoped>\n",
              "    .dataframe tbody tr th:only-of-type {\n",
              "        vertical-align: middle;\n",
              "    }\n",
              "\n",
              "    .dataframe tbody tr th {\n",
              "        vertical-align: top;\n",
              "    }\n",
              "\n",
              "    .dataframe thead th {\n",
              "        text-align: right;\n",
              "    }\n",
              "</style>\n",
              "<table border=\"1\" class=\"dataframe\">\n",
              "  <thead>\n",
              "    <tr style=\"text-align: right;\">\n",
              "      <th></th>\n",
              "      <th>CNPJ_FUNDO</th>\n",
              "      <th>VL_PATRIM_LIQ</th>\n",
              "    </tr>\n",
              "  </thead>\n",
              "  <tbody>\n",
              "    <tr>\n",
              "      <th>14062</th>\n",
              "      <td>13.328.452/0001-49</td>\n",
              "      <td></td>\n",
              "    </tr>\n",
              "    <tr>\n",
              "      <th>13900</th>\n",
              "      <td>18.289.950/0001-43</td>\n",
              "      <td></td>\n",
              "    </tr>\n",
              "    <tr>\n",
              "      <th>14063</th>\n",
              "      <td>16.435.858/0001-19</td>\n",
              "      <td></td>\n",
              "    </tr>\n",
              "    <tr>\n",
              "      <th>13924</th>\n",
              "      <td>11.326.746/0001-06</td>\n",
              "      <td></td>\n",
              "    </tr>\n",
              "    <tr>\n",
              "      <th>13926</th>\n",
              "      <td>31.933.158/0001-48</td>\n",
              "      <td></td>\n",
              "    </tr>\n",
              "    <tr>\n",
              "      <th>...</th>\n",
              "      <td>...</td>\n",
              "      <td>...</td>\n",
              "    </tr>\n",
              "    <tr>\n",
              "      <th>16166</th>\n",
              "      <td>35.002.455/0001-20</td>\n",
              "      <td>99971262.26</td>\n",
              "    </tr>\n",
              "    <tr>\n",
              "      <th>18755</th>\n",
              "      <td>38.394.157/0001-11</td>\n",
              "      <td>9997326.63</td>\n",
              "    </tr>\n",
              "    <tr>\n",
              "      <th>16988</th>\n",
              "      <td>35.844.962/0001-01</td>\n",
              "      <td>99980155.79</td>\n",
              "    </tr>\n",
              "    <tr>\n",
              "      <th>17524</th>\n",
              "      <td>36.498.260/0001-86</td>\n",
              "      <td>999891.20</td>\n",
              "    </tr>\n",
              "    <tr>\n",
              "      <th>18828</th>\n",
              "      <td>38.860.877/0001-25</td>\n",
              "      <td>9999512.97</td>\n",
              "    </tr>\n",
              "  </tbody>\n",
              "</table>\n",
              "<p>20564 rows × 2 columns</p>\n",
              "</div>"
            ],
            "text/plain": [
              "               CNPJ_FUNDO VL_PATRIM_LIQ\n",
              "14062  13.328.452/0001-49              \n",
              "13900  18.289.950/0001-43              \n",
              "14063  16.435.858/0001-19              \n",
              "13924  11.326.746/0001-06              \n",
              "13926  31.933.158/0001-48              \n",
              "...                   ...           ...\n",
              "16166  35.002.455/0001-20   99971262.26\n",
              "18755  38.394.157/0001-11    9997326.63\n",
              "16988  35.844.962/0001-01   99980155.79\n",
              "17524  36.498.260/0001-86     999891.20\n",
              "18828  38.860.877/0001-25    9999512.97\n",
              "\n",
              "[20564 rows x 2 columns]"
            ]
          },
          "metadata": {
            "tags": []
          },
          "execution_count": 33
        }
      ]
    },
    {
      "cell_type": "code",
      "metadata": {
        "colab": {
          "base_uri": "https://localhost:8080/",
          "height": 424
        },
        "id": "hhBB-C47Fw69",
        "outputId": "d5e9b200-edfa-492d-d8cf-d5b7e6c78f90"
      },
      "source": [
        "# Seleciona apenas dos fundos referenciados no CDA\n",
        "fundos = pd.merge(fundos_ultima_situacao, fundos_cda, how=\"inner\", on=[\"CNPJ_FUNDO\"]).fillna('')\n",
        "fundos"
      ],
      "execution_count": null,
      "outputs": [
        {
          "output_type": "execute_result",
          "data": {
            "text/html": [
              "<div>\n",
              "<style scoped>\n",
              "    .dataframe tbody tr th:only-of-type {\n",
              "        vertical-align: middle;\n",
              "    }\n",
              "\n",
              "    .dataframe tbody tr th {\n",
              "        vertical-align: top;\n",
              "    }\n",
              "\n",
              "    .dataframe thead th {\n",
              "        text-align: right;\n",
              "    }\n",
              "</style>\n",
              "<table border=\"1\" class=\"dataframe\">\n",
              "  <thead>\n",
              "    <tr style=\"text-align: right;\">\n",
              "      <th></th>\n",
              "      <th>TP_FUNDO</th>\n",
              "      <th>CNPJ_FUNDO</th>\n",
              "      <th>DENOM_SOCIAL</th>\n",
              "      <th>SIT</th>\n",
              "      <th>DT_INI_SIT</th>\n",
              "      <th>FUNDO_COTAS</th>\n",
              "      <th>FUNDO_EXCLUSIVO</th>\n",
              "      <th>VL_PATRIM_LIQ</th>\n",
              "    </tr>\n",
              "  </thead>\n",
              "  <tbody>\n",
              "    <tr>\n",
              "      <th>0</th>\n",
              "      <td>FAPI</td>\n",
              "      <td>02.177.812/0001-32</td>\n",
              "      <td>ITAU FAPI RENDA FIXA - FUNDO DE APOSENTADORIA ...</td>\n",
              "      <td>EM FUNCIONAMENTO NORMAL</td>\n",
              "      <td>1997-11-27</td>\n",
              "      <td></td>\n",
              "      <td></td>\n",
              "      <td>66438968.44</td>\n",
              "    </tr>\n",
              "    <tr>\n",
              "      <th>1</th>\n",
              "      <td>FAPI</td>\n",
              "      <td>02.226.122/0001-26</td>\n",
              "      <td>UNIBANCO FUNDO DE APOSENTADORIA PROGRAMADA IND...</td>\n",
              "      <td>EM FUNCIONAMENTO NORMAL</td>\n",
              "      <td>1997-12-05</td>\n",
              "      <td></td>\n",
              "      <td></td>\n",
              "      <td>4740.45</td>\n",
              "    </tr>\n",
              "    <tr>\n",
              "      <th>2</th>\n",
              "      <td>FAPI</td>\n",
              "      <td>02.177.815/0001-76</td>\n",
              "      <td>ITAU FAPI CONSERVADOR - FUNDO DE APOSENTADORIA...</td>\n",
              "      <td>EM FUNCIONAMENTO NORMAL</td>\n",
              "      <td>1997-12-16</td>\n",
              "      <td></td>\n",
              "      <td></td>\n",
              "      <td>2044493.92</td>\n",
              "    </tr>\n",
              "    <tr>\n",
              "      <th>3</th>\n",
              "      <td>FAPI</td>\n",
              "      <td>02.185.027/0001-21</td>\n",
              "      <td>BRADESCO FUNDO DE APOSENTADORIA PROGRAMADA IND...</td>\n",
              "      <td>EM FUNCIONAMENTO NORMAL</td>\n",
              "      <td>1997-12-19</td>\n",
              "      <td></td>\n",
              "      <td></td>\n",
              "      <td>453086833.64</td>\n",
              "    </tr>\n",
              "    <tr>\n",
              "      <th>4</th>\n",
              "      <td>FAPI</td>\n",
              "      <td>02.297.533/0001-02</td>\n",
              "      <td>BRADESCO FUNDO DE APOSENTADORIA PROGRAMADA IND...</td>\n",
              "      <td>EM FUNCIONAMENTO NORMAL</td>\n",
              "      <td>1997-12-29</td>\n",
              "      <td></td>\n",
              "      <td></td>\n",
              "      <td>15654242.81</td>\n",
              "    </tr>\n",
              "    <tr>\n",
              "      <th>...</th>\n",
              "      <td>...</td>\n",
              "      <td>...</td>\n",
              "      <td>...</td>\n",
              "      <td>...</td>\n",
              "      <td>...</td>\n",
              "      <td>...</td>\n",
              "      <td>...</td>\n",
              "      <td>...</td>\n",
              "    </tr>\n",
              "    <tr>\n",
              "      <th>20559</th>\n",
              "      <td>FI</td>\n",
              "      <td>33.667.778/0001-08</td>\n",
              "      <td>CA INDOSUEZ DEBÊNTURES INCENTIVADAS 60 CRÉDITO...</td>\n",
              "      <td>CANCELADA</td>\n",
              "      <td>2021-03-26</td>\n",
              "      <td>True</td>\n",
              "      <td>False</td>\n",
              "      <td>4230106.15</td>\n",
              "    </tr>\n",
              "    <tr>\n",
              "      <th>20560</th>\n",
              "      <td>FIP</td>\n",
              "      <td>35.640.839/0001-79</td>\n",
              "      <td>G5 MOBILE II FUNDO DE INVESTIMENTO EM PARTICIP...</td>\n",
              "      <td>LIQUIDAÇÃO</td>\n",
              "      <td>2021-03-29</td>\n",
              "      <td>False</td>\n",
              "      <td></td>\n",
              "      <td></td>\n",
              "    </tr>\n",
              "    <tr>\n",
              "      <th>20561</th>\n",
              "      <td>FIP</td>\n",
              "      <td>26.314.464/0001-66</td>\n",
              "      <td>BTG PACTUAL INFRAESTRUTURA II ENERGIA FUNDO DE...</td>\n",
              "      <td>LIQUIDAÇÃO</td>\n",
              "      <td>2021-03-30</td>\n",
              "      <td>False</td>\n",
              "      <td></td>\n",
              "      <td></td>\n",
              "    </tr>\n",
              "    <tr>\n",
              "      <th>20562</th>\n",
              "      <td>FI</td>\n",
              "      <td>29.994.524/0001-27</td>\n",
              "      <td>FUNDO DE INVESTIMENTO EM COTAS DE FUNDOS DE IN...</td>\n",
              "      <td>CANCELADA</td>\n",
              "      <td>2021-04-01</td>\n",
              "      <td>True</td>\n",
              "      <td>True</td>\n",
              "      <td>7129047.57</td>\n",
              "    </tr>\n",
              "    <tr>\n",
              "      <th>20563</th>\n",
              "      <td>FI</td>\n",
              "      <td>29.300.737/0001-01</td>\n",
              "      <td>MANAGER LOGOS FUNDO DE INVESTIMENTO EM COTAS D...</td>\n",
              "      <td>EM FUNCIONAMENTO NORMAL</td>\n",
              "      <td>2021-10-01</td>\n",
              "      <td>True</td>\n",
              "      <td>False</td>\n",
              "      <td>0.00</td>\n",
              "    </tr>\n",
              "  </tbody>\n",
              "</table>\n",
              "<p>20564 rows × 8 columns</p>\n",
              "</div>"
            ],
            "text/plain": [
              "      TP_FUNDO          CNPJ_FUNDO  ... FUNDO_EXCLUSIVO VL_PATRIM_LIQ\n",
              "0         FAPI  02.177.812/0001-32  ...                   66438968.44\n",
              "1         FAPI  02.226.122/0001-26  ...                       4740.45\n",
              "2         FAPI  02.177.815/0001-76  ...                    2044493.92\n",
              "3         FAPI  02.185.027/0001-21  ...                  453086833.64\n",
              "4         FAPI  02.297.533/0001-02  ...                   15654242.81\n",
              "...        ...                 ...  ...             ...           ...\n",
              "20559       FI  33.667.778/0001-08  ...           False    4230106.15\n",
              "20560      FIP  35.640.839/0001-79  ...                              \n",
              "20561      FIP  26.314.464/0001-66  ...                              \n",
              "20562       FI  29.994.524/0001-27  ...            True    7129047.57\n",
              "20563       FI  29.300.737/0001-01  ...           False          0.00\n",
              "\n",
              "[20564 rows x 8 columns]"
            ]
          },
          "metadata": {
            "tags": []
          },
          "execution_count": 34
        }
      ]
    },
    {
      "cell_type": "markdown",
      "metadata": {
        "id": "ndWmilxOKm6C"
      },
      "source": [
        "### Gestores"
      ]
    },
    {
      "cell_type": "code",
      "metadata": {
        "colab": {
          "base_uri": "https://localhost:8080/",
          "height": 424
        },
        "id": "i7lrpykBEEm0",
        "outputId": "9bf63e30-6ed4-4671-af5a-0dc71fd85ff8"
      },
      "source": [
        "# Fundos e seus gestores\n",
        "df = cad_fundo[['TP_FUNDO','CNPJ_FUNDO','SIT','DT_INI_SIT','CPF_CNPJ_GESTOR']].dropna().drop_duplicates()\n",
        "\n",
        "# Associando novamente os gestores aos fundos selecionados\n",
        "fundos_gestores = pd.merge(fundos, df, how=\"inner\", on=[\"TP_FUNDO\",\"CNPJ_FUNDO\",\"SIT\",\"DT_INI_SIT\"])\n",
        "fundos_gestores = fundos_gestores[['CNPJ_FUNDO','CPF_CNPJ_GESTOR']]\n",
        "fundos_gestores"
      ],
      "execution_count": null,
      "outputs": [
        {
          "output_type": "execute_result",
          "data": {
            "text/html": [
              "<div>\n",
              "<style scoped>\n",
              "    .dataframe tbody tr th:only-of-type {\n",
              "        vertical-align: middle;\n",
              "    }\n",
              "\n",
              "    .dataframe tbody tr th {\n",
              "        vertical-align: top;\n",
              "    }\n",
              "\n",
              "    .dataframe thead th {\n",
              "        text-align: right;\n",
              "    }\n",
              "</style>\n",
              "<table border=\"1\" class=\"dataframe\">\n",
              "  <thead>\n",
              "    <tr style=\"text-align: right;\">\n",
              "      <th></th>\n",
              "      <th>CNPJ_FUNDO</th>\n",
              "      <th>CPF_CNPJ_GESTOR</th>\n",
              "    </tr>\n",
              "  </thead>\n",
              "  <tbody>\n",
              "    <tr>\n",
              "      <th>0</th>\n",
              "      <td>03.915.495/0001-77</td>\n",
              "      <td>60.701.190/0001-04</td>\n",
              "    </tr>\n",
              "    <tr>\n",
              "      <th>1</th>\n",
              "      <td>02.838.578/0001-47</td>\n",
              "      <td>30.822.936/0001-69</td>\n",
              "    </tr>\n",
              "    <tr>\n",
              "      <th>2</th>\n",
              "      <td>02.998.275/0001-91</td>\n",
              "      <td>62.375.134/0001-44</td>\n",
              "    </tr>\n",
              "    <tr>\n",
              "      <th>3</th>\n",
              "      <td>03.555.959/0001-81</td>\n",
              "      <td>00.360.305/0001-04</td>\n",
              "    </tr>\n",
              "    <tr>\n",
              "      <th>4</th>\n",
              "      <td>03.859.784/0001-04</td>\n",
              "      <td>33.311.713/0001-25</td>\n",
              "    </tr>\n",
              "    <tr>\n",
              "      <th>...</th>\n",
              "      <td>...</td>\n",
              "      <td>...</td>\n",
              "    </tr>\n",
              "    <tr>\n",
              "      <th>21037</th>\n",
              "      <td>17.892.709/0001-41</td>\n",
              "      <td>12.695.840/0001-03</td>\n",
              "    </tr>\n",
              "    <tr>\n",
              "      <th>21038</th>\n",
              "      <td>33.667.778/0001-08</td>\n",
              "      <td>01.638.542/0001-57</td>\n",
              "    </tr>\n",
              "    <tr>\n",
              "      <th>21039</th>\n",
              "      <td>35.640.839/0001-79</td>\n",
              "      <td>14.121.173/0001-72</td>\n",
              "    </tr>\n",
              "    <tr>\n",
              "      <th>21040</th>\n",
              "      <td>26.314.464/0001-66</td>\n",
              "      <td>09.631.542/0001-37</td>\n",
              "    </tr>\n",
              "    <tr>\n",
              "      <th>21041</th>\n",
              "      <td>29.300.737/0001-01</td>\n",
              "      <td>62.180.047/0001-31</td>\n",
              "    </tr>\n",
              "  </tbody>\n",
              "</table>\n",
              "<p>21042 rows × 2 columns</p>\n",
              "</div>"
            ],
            "text/plain": [
              "               CNPJ_FUNDO     CPF_CNPJ_GESTOR\n",
              "0      03.915.495/0001-77  60.701.190/0001-04\n",
              "1      02.838.578/0001-47  30.822.936/0001-69\n",
              "2      02.998.275/0001-91  62.375.134/0001-44\n",
              "3      03.555.959/0001-81  00.360.305/0001-04\n",
              "4      03.859.784/0001-04  33.311.713/0001-25\n",
              "...                   ...                 ...\n",
              "21037  17.892.709/0001-41  12.695.840/0001-03\n",
              "21038  33.667.778/0001-08  01.638.542/0001-57\n",
              "21039  35.640.839/0001-79  14.121.173/0001-72\n",
              "21040  26.314.464/0001-66  09.631.542/0001-37\n",
              "21041  29.300.737/0001-01  62.180.047/0001-31\n",
              "\n",
              "[21042 rows x 2 columns]"
            ]
          },
          "metadata": {
            "tags": []
          },
          "execution_count": 35
        }
      ]
    },
    {
      "cell_type": "code",
      "metadata": {
        "colab": {
          "base_uri": "https://localhost:8080/",
          "height": 424
        },
        "id": "z8AkOZwuGume",
        "outputId": "33c5a479-b52a-413e-9773-01f92008f35c"
      },
      "source": [
        "# Inspecionando fundos com mais de uma linha no dataset (mais de um gestor)\n",
        "fundos_gestores[fundos_gestores.duplicated(subset=['CNPJ_FUNDO'], keep=False)].sort_values('CNPJ_FUNDO')"
      ],
      "execution_count": null,
      "outputs": [
        {
          "output_type": "execute_result",
          "data": {
            "text/html": [
              "<div>\n",
              "<style scoped>\n",
              "    .dataframe tbody tr th:only-of-type {\n",
              "        vertical-align: middle;\n",
              "    }\n",
              "\n",
              "    .dataframe tbody tr th {\n",
              "        vertical-align: top;\n",
              "    }\n",
              "\n",
              "    .dataframe thead th {\n",
              "        text-align: right;\n",
              "    }\n",
              "</style>\n",
              "<table border=\"1\" class=\"dataframe\">\n",
              "  <thead>\n",
              "    <tr style=\"text-align: right;\">\n",
              "      <th></th>\n",
              "      <th>CNPJ_FUNDO</th>\n",
              "      <th>CPF_CNPJ_GESTOR</th>\n",
              "    </tr>\n",
              "  </thead>\n",
              "  <tbody>\n",
              "    <tr>\n",
              "      <th>1580</th>\n",
              "      <td>01.392.020/0001-18</td>\n",
              "      <td>62.375.134/0001-44</td>\n",
              "    </tr>\n",
              "    <tr>\n",
              "      <th>1579</th>\n",
              "      <td>01.392.020/0001-18</td>\n",
              "      <td>51.990.695/0001-37</td>\n",
              "    </tr>\n",
              "    <tr>\n",
              "      <th>1532</th>\n",
              "      <td>01.392.021/0001-62</td>\n",
              "      <td>51.990.695/0001-37</td>\n",
              "    </tr>\n",
              "    <tr>\n",
              "      <th>1533</th>\n",
              "      <td>01.392.021/0001-62</td>\n",
              "      <td>62.375.134/0001-44</td>\n",
              "    </tr>\n",
              "    <tr>\n",
              "      <th>1582</th>\n",
              "      <td>01.606.509/0001-45</td>\n",
              "      <td>62.375.134/0001-44</td>\n",
              "    </tr>\n",
              "    <tr>\n",
              "      <th>...</th>\n",
              "      <td>...</td>\n",
              "      <td>...</td>\n",
              "    </tr>\n",
              "    <tr>\n",
              "      <th>19572</th>\n",
              "      <td>37.828.367/0001-08</td>\n",
              "      <td>12.330.774/0001-60</td>\n",
              "    </tr>\n",
              "    <tr>\n",
              "      <th>20766</th>\n",
              "      <td>37.900.216/0001-13</td>\n",
              "      <td>16.789.525/0001-98</td>\n",
              "    </tr>\n",
              "    <tr>\n",
              "      <th>20767</th>\n",
              "      <td>37.900.216/0001-13</td>\n",
              "      <td>29.408.732/0001-05</td>\n",
              "    </tr>\n",
              "    <tr>\n",
              "      <th>20348</th>\n",
              "      <td>38.489.304/0001-37</td>\n",
              "      <td>18.506.057/0001-22</td>\n",
              "    </tr>\n",
              "    <tr>\n",
              "      <th>20347</th>\n",
              "      <td>38.489.304/0001-37</td>\n",
              "      <td>11.918.575/0001-04</td>\n",
              "    </tr>\n",
              "  </tbody>\n",
              "</table>\n",
              "<p>1612 rows × 2 columns</p>\n",
              "</div>"
            ],
            "text/plain": [
              "               CNPJ_FUNDO     CPF_CNPJ_GESTOR\n",
              "1580   01.392.020/0001-18  62.375.134/0001-44\n",
              "1579   01.392.020/0001-18  51.990.695/0001-37\n",
              "1532   01.392.021/0001-62  51.990.695/0001-37\n",
              "1533   01.392.021/0001-62  62.375.134/0001-44\n",
              "1582   01.606.509/0001-45  62.375.134/0001-44\n",
              "...                   ...                 ...\n",
              "19572  37.828.367/0001-08  12.330.774/0001-60\n",
              "20766  37.900.216/0001-13  16.789.525/0001-98\n",
              "20767  37.900.216/0001-13  29.408.732/0001-05\n",
              "20348  38.489.304/0001-37  18.506.057/0001-22\n",
              "20347  38.489.304/0001-37  11.918.575/0001-04\n",
              "\n",
              "[1612 rows x 2 columns]"
            ]
          },
          "metadata": {
            "tags": []
          },
          "execution_count": 36
        }
      ]
    },
    {
      "cell_type": "code",
      "metadata": {
        "colab": {
          "base_uri": "https://localhost:8080/",
          "height": 424
        },
        "id": "8aWr3Z-sKnqi",
        "outputId": "9587cad6-a1bf-4ee9-f196-e7440bca9852"
      },
      "source": [
        "cad_gestor = cad_gestor.dropna().drop_duplicates()\n",
        "\n",
        "gestores = pd.merge(cad_gestor, fundos_gestores, how=\"inner\", on=[\"CPF_CNPJ_GESTOR\"])\n",
        "gestores = gestores[['CPF_CNPJ_GESTOR','GESTOR']].dropna().drop_duplicates(subset='CPF_CNPJ_GESTOR', keep=\"last\")\n",
        "\n",
        "gestores"
      ],
      "execution_count": null,
      "outputs": [
        {
          "output_type": "execute_result",
          "data": {
            "text/html": [
              "<div>\n",
              "<style scoped>\n",
              "    .dataframe tbody tr th:only-of-type {\n",
              "        vertical-align: middle;\n",
              "    }\n",
              "\n",
              "    .dataframe tbody tr th {\n",
              "        vertical-align: top;\n",
              "    }\n",
              "\n",
              "    .dataframe thead th {\n",
              "        text-align: right;\n",
              "    }\n",
              "</style>\n",
              "<table border=\"1\" class=\"dataframe\">\n",
              "  <thead>\n",
              "    <tr style=\"text-align: right;\">\n",
              "      <th></th>\n",
              "      <th>CPF_CNPJ_GESTOR</th>\n",
              "      <th>GESTOR</th>\n",
              "    </tr>\n",
              "  </thead>\n",
              "  <tbody>\n",
              "    <tr>\n",
              "      <th>60</th>\n",
              "      <td>60.770.336/0001-65</td>\n",
              "      <td>BANCO ALFA DE INVESTIMENTO S.A.</td>\n",
              "    </tr>\n",
              "    <tr>\n",
              "      <th>1070</th>\n",
              "      <td>60.701.190/0001-04</td>\n",
              "      <td>ITAU UNIBANCO S.A.</td>\n",
              "    </tr>\n",
              "    <tr>\n",
              "      <th>1095</th>\n",
              "      <td>33.172.537/0001-98</td>\n",
              "      <td>BANCO J.P. MORGAN S.A.</td>\n",
              "    </tr>\n",
              "    <tr>\n",
              "      <th>1707</th>\n",
              "      <td>12.695.840/0001-03</td>\n",
              "      <td>JULIUS BAER FAMILY OFFICE BRASIL GESTÃO DE PAT...</td>\n",
              "    </tr>\n",
              "    <tr>\n",
              "      <th>3277</th>\n",
              "      <td>62.375.134/0001-44</td>\n",
              "      <td>BRAM - BRADESCO ASSET MANAGEMENT S.A. DISTRIBU...</td>\n",
              "    </tr>\n",
              "    <tr>\n",
              "      <th>...</th>\n",
              "      <td>...</td>\n",
              "      <td>...</td>\n",
              "    </tr>\n",
              "    <tr>\n",
              "      <th>22482</th>\n",
              "      <td>09.544.103/0001-97</td>\n",
              "      <td>INVESTIMAGE ADMINISTRADORA DE RECURSOS LTDA.</td>\n",
              "    </tr>\n",
              "    <tr>\n",
              "      <th>22484</th>\n",
              "      <td>29.292.940/0001-83</td>\n",
              "      <td>REDPOINT EVENTURES GESTÃO DE RECURSOS LTDA.</td>\n",
              "    </tr>\n",
              "    <tr>\n",
              "      <th>22486</th>\n",
              "      <td>35.096.963/0001-15</td>\n",
              "      <td>KAMAROOPIN GESTORA DE RECURSOS LTDA.</td>\n",
              "    </tr>\n",
              "    <tr>\n",
              "      <th>22488</th>\n",
              "      <td>35.098.686/0001-80</td>\n",
              "      <td>10B GESTORA DE RECURSOS LTDA.</td>\n",
              "    </tr>\n",
              "    <tr>\n",
              "      <th>22490</th>\n",
              "      <td>34.835.557/0001-64</td>\n",
              "      <td>CRESCERA ASSET MANAGEMENT LTDA.</td>\n",
              "    </tr>\n",
              "  </tbody>\n",
              "</table>\n",
              "<p>828 rows × 2 columns</p>\n",
              "</div>"
            ],
            "text/plain": [
              "          CPF_CNPJ_GESTOR                                             GESTOR\n",
              "60     60.770.336/0001-65                    BANCO ALFA DE INVESTIMENTO S.A.\n",
              "1070   60.701.190/0001-04                                 ITAU UNIBANCO S.A.\n",
              "1095   33.172.537/0001-98                             BANCO J.P. MORGAN S.A.\n",
              "1707   12.695.840/0001-03  JULIUS BAER FAMILY OFFICE BRASIL GESTÃO DE PAT...\n",
              "3277   62.375.134/0001-44  BRAM - BRADESCO ASSET MANAGEMENT S.A. DISTRIBU...\n",
              "...                   ...                                                ...\n",
              "22482  09.544.103/0001-97       INVESTIMAGE ADMINISTRADORA DE RECURSOS LTDA.\n",
              "22484  29.292.940/0001-83        REDPOINT EVENTURES GESTÃO DE RECURSOS LTDA.\n",
              "22486  35.096.963/0001-15               KAMAROOPIN GESTORA DE RECURSOS LTDA.\n",
              "22488  35.098.686/0001-80                      10B GESTORA DE RECURSOS LTDA.\n",
              "22490  34.835.557/0001-64                    CRESCERA ASSET MANAGEMENT LTDA.\n",
              "\n",
              "[828 rows x 2 columns]"
            ]
          },
          "metadata": {
            "tags": []
          },
          "execution_count": 37
        }
      ]
    },
    {
      "cell_type": "markdown",
      "metadata": {
        "id": "yoif1e2oVtG7"
      },
      "source": [
        "### Emissores"
      ]
    },
    {
      "cell_type": "code",
      "metadata": {
        "id": "5t7Myim-Y4li"
      },
      "source": [
        "emissores_cda5  = cda5[['CPF_CNPJ_EMISSOR','EMISSOR']].dropna(how='all').drop_duplicates().fillna('')\n",
        "emissores_cda6  = cda6[['CPF_CNPJ_EMISSOR','EMISSOR']].dropna(how='all').drop_duplicates().fillna('') \n",
        "emissores_cda7  = cda7[['EMISSOR']].dropna().drop_duplicates()\n",
        "emissores_cda8  = cda8[['CPF_CNPJ_EMISSOR','EMISSOR']].dropna(how='all').drop_duplicates().fillna('')"
      ],
      "execution_count": null,
      "outputs": []
    },
    {
      "cell_type": "code",
      "metadata": {
        "colab": {
          "base_uri": "https://localhost:8080/"
        },
        "id": "Q9KGCi27VMSE",
        "outputId": "c47644a2-03a4-49ca-d83f-deab92ca79f6"
      },
      "source": [
        "# Verifica se não há valores ausentes ('missing values') em CPF_CNPJ_EMISSOR \n",
        "df = emissores_cda5[emissores_cda5['CPF_CNPJ_EMISSOR']=='']\n",
        "print(df.empty) "
      ],
      "execution_count": null,
      "outputs": [
        {
          "output_type": "stream",
          "text": [
            "True\n"
          ],
          "name": "stdout"
        }
      ]
    },
    {
      "cell_type": "code",
      "metadata": {
        "colab": {
          "base_uri": "https://localhost:8080/"
        },
        "id": "q-biqn05VWSv",
        "outputId": "9ff31ca6-fbfd-4d03-99c3-2eac6793787b"
      },
      "source": [
        "# Verifica se não há valores ausentes ('missing values') em CPF_CNPJ_EMISSOR \n",
        "df = emissores_cda6[emissores_cda6['CPF_CNPJ_EMISSOR']=='']\n",
        "print(df.empty) "
      ],
      "execution_count": null,
      "outputs": [
        {
          "output_type": "stream",
          "text": [
            "True\n"
          ],
          "name": "stdout"
        }
      ]
    },
    {
      "cell_type": "code",
      "metadata": {
        "colab": {
          "base_uri": "https://localhost:8080/"
        },
        "id": "214dFnMJVWdz",
        "outputId": "3221d00f-efbe-4248-aa68-aeba04591f65"
      },
      "source": [
        "# Verifica se não há valores ausentes ('missing values') em CPF_CNPJ_EMISSOR \n",
        "df = emissores_cda8[emissores_cda8['CPF_CNPJ_EMISSOR']=='']\n",
        "print(df.empty) "
      ],
      "execution_count": null,
      "outputs": [
        {
          "output_type": "stream",
          "text": [
            "False\n"
          ],
          "name": "stdout"
        }
      ]
    },
    {
      "cell_type": "code",
      "metadata": {
        "id": "YKTw25_JxBh3"
      },
      "source": [
        "# Emissores com CNPJ - Tabela ISIN (B3)\n",
        "emissores_isin_cnpj = emissores_ativos_isin[emissores_ativos_isin['CPF_CNPJ_EMISSOR']!=''][['CPF_CNPJ_EMISSOR','EMISSOR']]\n",
        "\n",
        "# Emissores com CNPJ - Aplicações bloco 8 cda (CVM)\n",
        "emissores_cda8_cnpj = emissores_cda8[emissores_cda8['CPF_CNPJ_EMISSOR']!=''][['CPF_CNPJ_EMISSOR','EMISSOR']]\n",
        "\n",
        "# Emissores sem CNPJ - Tabela ISIN (B3)\n",
        "emissores_isin_sem_cnpj  = emissores_ativos_isin[emissores_ativos_isin['CPF_CNPJ_EMISSOR']==''][['EMISSOR']]\n",
        "\n",
        "# Emissores sem CNPJ - Aplicações bloco 8 cda (CVM)\n",
        "emissores_cda8_sem_cnpj  = emissores_cda8[emissores_cda8['CPF_CNPJ_EMISSOR']==''][['EMISSOR']]"
      ],
      "execution_count": null,
      "outputs": []
    },
    {
      "cell_type": "code",
      "metadata": {
        "colab": {
          "base_uri": "https://localhost:8080/",
          "height": 424
        },
        "id": "xXST7wmVX-tC",
        "outputId": "baf74cdd-8603-4e3f-eb12-4c263e1b02db"
      },
      "source": [
        "emissores_isin_cnpj\n",
        "emissores_isin_sem_cnpj"
      ],
      "execution_count": null,
      "outputs": [
        {
          "output_type": "execute_result",
          "data": {
            "text/html": [
              "<div>\n",
              "<style scoped>\n",
              "    .dataframe tbody tr th:only-of-type {\n",
              "        vertical-align: middle;\n",
              "    }\n",
              "\n",
              "    .dataframe tbody tr th {\n",
              "        vertical-align: top;\n",
              "    }\n",
              "\n",
              "    .dataframe thead th {\n",
              "        text-align: right;\n",
              "    }\n",
              "</style>\n",
              "<table border=\"1\" class=\"dataframe\">\n",
              "  <thead>\n",
              "    <tr style=\"text-align: right;\">\n",
              "      <th></th>\n",
              "      <th>EMISSOR</th>\n",
              "    </tr>\n",
              "  </thead>\n",
              "  <tbody>\n",
              "    <tr>\n",
              "      <th>659</th>\n",
              "      <td>BB CONCESSÕES BRASIL 3 FUNDO DE INVESTI MENTO ...</td>\n",
              "    </tr>\n",
              "    <tr>\n",
              "      <th>1687</th>\n",
              "      <td>CAPITÂNIA PREV ADVISORY XP SEGUROS FUNDO DE IN...</td>\n",
              "    </tr>\n",
              "    <tr>\n",
              "      <th>2149</th>\n",
              "      <td>LEGACY CAPITAL FUNDO DE INVESTIMENTO EM COTAS ...</td>\n",
              "    </tr>\n",
              "    <tr>\n",
              "      <th>9985</th>\n",
              "      <td>CARTEIRA CORPORATIVA 191 FUNDO INVEST COTAS FU...</td>\n",
              "    </tr>\n",
              "    <tr>\n",
              "      <th>10101</th>\n",
              "      <td>ADVANCE AUTO PARTS INC</td>\n",
              "    </tr>\n",
              "    <tr>\n",
              "      <th>...</th>\n",
              "      <td>...</td>\n",
              "    </tr>\n",
              "    <tr>\n",
              "      <th>43057</th>\n",
              "      <td>BCO EUROPEU AMERICA LATINA SA</td>\n",
              "    </tr>\n",
              "    <tr>\n",
              "      <th>43058</th>\n",
              "      <td>FRANLEASE ARREND MERCANTIL SA</td>\n",
              "    </tr>\n",
              "    <tr>\n",
              "      <th>43059</th>\n",
              "      <td>CIA BRAS PROJETOS OBRAS</td>\n",
              "    </tr>\n",
              "    <tr>\n",
              "      <th>43060</th>\n",
              "      <td>BASF BRASILEIRA SA INDS QUIMICAS</td>\n",
              "    </tr>\n",
              "    <tr>\n",
              "      <th>43062</th>\n",
              "      <td>BCO INTER ATLANTICO SA</td>\n",
              "    </tr>\n",
              "  </tbody>\n",
              "</table>\n",
              "<p>1176 rows × 1 columns</p>\n",
              "</div>"
            ],
            "text/plain": [
              "                                                 EMISSOR\n",
              "659    BB CONCESSÕES BRASIL 3 FUNDO DE INVESTI MENTO ...\n",
              "1687   CAPITÂNIA PREV ADVISORY XP SEGUROS FUNDO DE IN...\n",
              "2149   LEGACY CAPITAL FUNDO DE INVESTIMENTO EM COTAS ...\n",
              "9985   CARTEIRA CORPORATIVA 191 FUNDO INVEST COTAS FU...\n",
              "10101                             ADVANCE AUTO PARTS INC\n",
              "...                                                  ...\n",
              "43057                      BCO EUROPEU AMERICA LATINA SA\n",
              "43058                      FRANLEASE ARREND MERCANTIL SA\n",
              "43059                            CIA BRAS PROJETOS OBRAS\n",
              "43060                   BASF BRASILEIRA SA INDS QUIMICAS\n",
              "43062                             BCO INTER ATLANTICO SA\n",
              "\n",
              "[1176 rows x 1 columns]"
            ]
          },
          "metadata": {
            "tags": []
          },
          "execution_count": 43
        }
      ]
    },
    {
      "cell_type": "code",
      "metadata": {
        "colab": {
          "base_uri": "https://localhost:8080/",
          "height": 424
        },
        "id": "Yy15ETJ2YAsQ",
        "outputId": "c52fbf76-440a-461d-b5b3-cd342196b99b"
      },
      "source": [
        "emissores_cda8_cnpj\n",
        "emissores_cda8_sem_cnpj"
      ],
      "execution_count": null,
      "outputs": [
        {
          "output_type": "execute_result",
          "data": {
            "text/html": [
              "<div>\n",
              "<style scoped>\n",
              "    .dataframe tbody tr th:only-of-type {\n",
              "        vertical-align: middle;\n",
              "    }\n",
              "\n",
              "    .dataframe tbody tr th {\n",
              "        vertical-align: top;\n",
              "    }\n",
              "\n",
              "    .dataframe thead th {\n",
              "        text-align: right;\n",
              "    }\n",
              "</style>\n",
              "<table border=\"1\" class=\"dataframe\">\n",
              "  <thead>\n",
              "    <tr style=\"text-align: right;\">\n",
              "      <th></th>\n",
              "      <th>EMISSOR</th>\n",
              "    </tr>\n",
              "  </thead>\n",
              "  <tbody>\n",
              "    <tr>\n",
              "      <th>6012</th>\n",
              "      <td>INDICE BOVESPA</td>\n",
              "    </tr>\n",
              "    <tr>\n",
              "      <th>10456</th>\n",
              "      <td>Ishares Msci All Country Asia Ex Japan Etf Bdr</td>\n",
              "    </tr>\n",
              "    <tr>\n",
              "      <th>10458</th>\n",
              "      <td>Ishares Msci Emerging Markets Etf Bdr</td>\n",
              "    </tr>\n",
              "    <tr>\n",
              "      <th>10459</th>\n",
              "      <td>Ishares Msci Eafe Etf Bdr</td>\n",
              "    </tr>\n",
              "    <tr>\n",
              "      <th>10460</th>\n",
              "      <td>Ishares Russel 2000 Etf Bdr</td>\n",
              "    </tr>\n",
              "    <tr>\n",
              "      <th>...</th>\n",
              "      <td>...</td>\n",
              "    </tr>\n",
              "    <tr>\n",
              "      <th>160339</th>\n",
              "      <td>Participacao/TROPICAL</td>\n",
              "    </tr>\n",
              "    <tr>\n",
              "      <th>160382</th>\n",
              "      <td>Outros/REC SAPHYR IPIRANGA</td>\n",
              "    </tr>\n",
              "    <tr>\n",
              "      <th>160439</th>\n",
              "      <td>Participacao/VHR EMPREENDIMENTOS</td>\n",
              "    </tr>\n",
              "    <tr>\n",
              "      <th>160470</th>\n",
              "      <td>Acoes Judiciais/CCE BMG - BOM JESUS</td>\n",
              "    </tr>\n",
              "    <tr>\n",
              "      <th>160471</th>\n",
              "      <td>Outros/CCE SANT - BOM JESUS</td>\n",
              "    </tr>\n",
              "  </tbody>\n",
              "</table>\n",
              "<p>142 rows × 1 columns</p>\n",
              "</div>"
            ],
            "text/plain": [
              "                                               EMISSOR\n",
              "6012                                    INDICE BOVESPA\n",
              "10456   Ishares Msci All Country Asia Ex Japan Etf Bdr\n",
              "10458            Ishares Msci Emerging Markets Etf Bdr\n",
              "10459                        Ishares Msci Eafe Etf Bdr\n",
              "10460                      Ishares Russel 2000 Etf Bdr\n",
              "...                                                ...\n",
              "160339                           Participacao/TROPICAL\n",
              "160382                      Outros/REC SAPHYR IPIRANGA\n",
              "160439                Participacao/VHR EMPREENDIMENTOS\n",
              "160470             Acoes Judiciais/CCE BMG - BOM JESUS\n",
              "160471                     Outros/CCE SANT - BOM JESUS\n",
              "\n",
              "[142 rows x 1 columns]"
            ]
          },
          "metadata": {
            "tags": []
          },
          "execution_count": 44
        }
      ]
    },
    {
      "cell_type": "code",
      "metadata": {
        "colab": {
          "base_uri": "https://localhost:8080/"
        },
        "id": "1UuQwxAeXRoH",
        "outputId": "5ab3c4aa-b6c9-4a94-d914-656642438706"
      },
      "source": [
        "# Verifica se não há valores ausentes ('missing values') em CPF_CNPJ_EMISSOR \n",
        "df = emissores_cda8_cnpj[emissores_cda8_cnpj['CPF_CNPJ_EMISSOR']=='']\n",
        "print(df.empty) "
      ],
      "execution_count": null,
      "outputs": [
        {
          "output_type": "stream",
          "text": [
            "True\n"
          ],
          "name": "stdout"
        }
      ]
    },
    {
      "cell_type": "code",
      "metadata": {
        "colab": {
          "base_uri": "https://localhost:8080/"
        },
        "id": "THY5nYOKXEok",
        "outputId": "0a588ee3-bb4e-4a47-fc83-cf216f0eed89"
      },
      "source": [
        "# Verifica se não há valores ausentes ('missing values') em CPF_CNPJ_EMISSOR \n",
        "df = emissores_isin_cnpj[emissores_isin_cnpj['CPF_CNPJ_EMISSOR']=='']\n",
        "print(df.empty) "
      ],
      "execution_count": null,
      "outputs": [
        {
          "output_type": "stream",
          "text": [
            "True\n"
          ],
          "name": "stdout"
        }
      ]
    },
    {
      "cell_type": "code",
      "metadata": {
        "colab": {
          "base_uri": "https://localhost:8080/",
          "height": 424
        },
        "id": "FXaG_UeHa-iK",
        "outputId": "972578b6-7d63-4c00-ac0d-f5622ffd07c3"
      },
      "source": [
        "nomes_emissores_cnpj = pd.concat([emissores_cda5, emissores_cda6, emissores_cda8_cnpj, emissores_isin_cnpj])\n",
        "\n",
        "nomes_emissores_cnpj = nomes_emissores_cnpj.drop_duplicates(subset='CPF_CNPJ_EMISSOR', keep=\"last\")\n",
        "\n",
        "nomes_emissores_cnpj"
      ],
      "execution_count": null,
      "outputs": [
        {
          "output_type": "execute_result",
          "data": {
            "text/html": [
              "<div>\n",
              "<style scoped>\n",
              "    .dataframe tbody tr th:only-of-type {\n",
              "        vertical-align: middle;\n",
              "    }\n",
              "\n",
              "    .dataframe tbody tr th {\n",
              "        vertical-align: top;\n",
              "    }\n",
              "\n",
              "    .dataframe thead th {\n",
              "        text-align: right;\n",
              "    }\n",
              "</style>\n",
              "<table border=\"1\" class=\"dataframe\">\n",
              "  <thead>\n",
              "    <tr style=\"text-align: right;\">\n",
              "      <th></th>\n",
              "      <th>CPF_CNPJ_EMISSOR</th>\n",
              "      <th>EMISSOR</th>\n",
              "    </tr>\n",
              "  </thead>\n",
              "  <tbody>\n",
              "    <tr>\n",
              "      <th>2631</th>\n",
              "      <td>07.810.517/0001-95</td>\n",
              "      <td>BANCO BTG PACTUAL S/A</td>\n",
              "    </tr>\n",
              "    <tr>\n",
              "      <th>2724</th>\n",
              "      <td>18.236.120/0001-58</td>\n",
              "      <td>NU PAGAMENTOS</td>\n",
              "    </tr>\n",
              "    <tr>\n",
              "      <th>5056</th>\n",
              "      <td>30.121.792/0001-13</td>\n",
              "      <td>CREDIT SUISSE</td>\n",
              "    </tr>\n",
              "    <tr>\n",
              "      <th>8326</th>\n",
              "      <td>60.701.190/4816-09</td>\n",
              "      <td>ITAU UNIBANCO S</td>\n",
              "    </tr>\n",
              "    <tr>\n",
              "      <th>8771</th>\n",
              "      <td>11.476.673/0001-39</td>\n",
              "      <td>BANCO RANDON SA</td>\n",
              "    </tr>\n",
              "    <tr>\n",
              "      <th>...</th>\n",
              "      <td>...</td>\n",
              "      <td>...</td>\n",
              "    </tr>\n",
              "    <tr>\n",
              "      <th>43054</th>\n",
              "      <td>35.993.098/0001-00</td>\n",
              "      <td>Z.A DIGITAL DE SÃO PAULO SISTEMA DE ESTACIONAM...</td>\n",
              "    </tr>\n",
              "    <tr>\n",
              "      <th>43055</th>\n",
              "      <td>26.470.438/0001-27</td>\n",
              "      <td>JBZ FUNDO INVESTIMENTO COTAS FUNDOS INVESTIMEN...</td>\n",
              "    </tr>\n",
              "    <tr>\n",
              "      <th>43056</th>\n",
              "      <td>24.290.332/0001-16</td>\n",
              "      <td>SANTANDER PB ZARAGOZA MULTIMERCADO CRÉDITO PRI...</td>\n",
              "    </tr>\n",
              "    <tr>\n",
              "      <th>43061</th>\n",
              "      <td>23.637.697/0001-01</td>\n",
              "      <td>ALCOA ALUMINIO SA</td>\n",
              "    </tr>\n",
              "    <tr>\n",
              "      <th>43063</th>\n",
              "      <td>61.377.677/0001-38</td>\n",
              "      <td>BCO CIDADE SA</td>\n",
              "    </tr>\n",
              "  </tbody>\n",
              "</table>\n",
              "<p>42171 rows × 2 columns</p>\n",
              "</div>"
            ],
            "text/plain": [
              "         CPF_CNPJ_EMISSOR                                            EMISSOR\n",
              "2631   07.810.517/0001-95                              BANCO BTG PACTUAL S/A\n",
              "2724   18.236.120/0001-58                                      NU PAGAMENTOS\n",
              "5056   30.121.792/0001-13                                      CREDIT SUISSE\n",
              "8326   60.701.190/4816-09                                    ITAU UNIBANCO S\n",
              "8771   11.476.673/0001-39                                    BANCO RANDON SA\n",
              "...                   ...                                                ...\n",
              "43054  35.993.098/0001-00  Z.A DIGITAL DE SÃO PAULO SISTEMA DE ESTACIONAM...\n",
              "43055  26.470.438/0001-27  JBZ FUNDO INVESTIMENTO COTAS FUNDOS INVESTIMEN...\n",
              "43056  24.290.332/0001-16  SANTANDER PB ZARAGOZA MULTIMERCADO CRÉDITO PRI...\n",
              "43061  23.637.697/0001-01                                  ALCOA ALUMINIO SA\n",
              "43063  61.377.677/0001-38                                      BCO CIDADE SA\n",
              "\n",
              "[42171 rows x 2 columns]"
            ]
          },
          "metadata": {
            "tags": []
          },
          "execution_count": 47
        }
      ]
    },
    {
      "cell_type": "code",
      "metadata": {
        "colab": {
          "base_uri": "https://localhost:8080/"
        },
        "id": "3OyVP6vqWGU-",
        "outputId": "9099788e-4daa-4d1a-87a9-e4aaf2ddbe82"
      },
      "source": [
        "# Verifica se não há valores ausentes ('missing values') em EMISSOR (Nome do Emissor) \n",
        "df = emissores_cda7[emissores_cda7['EMISSOR']=='']\n",
        "print(df.empty) "
      ],
      "execution_count": null,
      "outputs": [
        {
          "output_type": "stream",
          "text": [
            "True\n"
          ],
          "name": "stdout"
        }
      ]
    },
    {
      "cell_type": "code",
      "metadata": {
        "colab": {
          "base_uri": "https://localhost:8080/"
        },
        "id": "yd50BlXHZYsN",
        "outputId": "915974e9-d2d7-49bc-8b40-51892c60c8c1"
      },
      "source": [
        "# Verifica se não há valores ausentes ('missing values') em EMISSOR (Nome do Emissor) \n",
        "df = emissores_cda8_sem_cnpj[emissores_cda8_sem_cnpj['EMISSOR']=='']\n",
        "print(df.empty) "
      ],
      "execution_count": null,
      "outputs": [
        {
          "output_type": "stream",
          "text": [
            "True\n"
          ],
          "name": "stdout"
        }
      ]
    },
    {
      "cell_type": "code",
      "metadata": {
        "colab": {
          "base_uri": "https://localhost:8080/"
        },
        "id": "kZjbIzcmZY3Q",
        "outputId": "459a7ce2-9322-45e5-a5b4-920b8a4ee09c"
      },
      "source": [
        "# Verifica se não há valores ausentes ('missing values') em EMISSOR (Nome do Emissor) \n",
        "df = emissores_isin_sem_cnpj[emissores_isin_sem_cnpj['EMISSOR']=='']\n",
        "print(df.empty) "
      ],
      "execution_count": null,
      "outputs": [
        {
          "output_type": "stream",
          "text": [
            "True\n"
          ],
          "name": "stdout"
        }
      ]
    },
    {
      "cell_type": "code",
      "metadata": {
        "colab": {
          "base_uri": "https://localhost:8080/",
          "height": 206
        },
        "id": "N-bteT6IZI1y",
        "outputId": "aaebe06c-e394-4a6b-8423-df33f873bc15"
      },
      "source": [
        "nomes_emissores_sem_cnpj = pd.concat([emissores_cda7, emissores_cda8_sem_cnpj, emissores_isin_sem_cnpj])\n",
        "\n",
        "nomes_emissores_sem_cnpj = nomes_emissores_sem_cnpj.drop_duplicates()\n",
        "\n",
        "nomes_emissores_sem_cnpj.head()"
      ],
      "execution_count": null,
      "outputs": [
        {
          "output_type": "execute_result",
          "data": {
            "text/html": [
              "<div>\n",
              "<style scoped>\n",
              "    .dataframe tbody tr th:only-of-type {\n",
              "        vertical-align: middle;\n",
              "    }\n",
              "\n",
              "    .dataframe tbody tr th {\n",
              "        vertical-align: top;\n",
              "    }\n",
              "\n",
              "    .dataframe thead th {\n",
              "        text-align: right;\n",
              "    }\n",
              "</style>\n",
              "<table border=\"1\" class=\"dataframe\">\n",
              "  <thead>\n",
              "    <tr style=\"text-align: right;\">\n",
              "      <th></th>\n",
              "      <th>EMISSOR</th>\n",
              "    </tr>\n",
              "  </thead>\n",
              "  <tbody>\n",
              "    <tr>\n",
              "      <th>0</th>\n",
              "      <td>TEMPUS OPP 1 CLASS</td>\n",
              "    </tr>\n",
              "    <tr>\n",
              "      <th>1</th>\n",
              "      <td>ALIBABA GROUP HOLDING LTD</td>\n",
              "    </tr>\n",
              "    <tr>\n",
              "      <th>2</th>\n",
              "      <td>AMAZON.COM INC</td>\n",
              "    </tr>\n",
              "    <tr>\n",
              "      <th>3</th>\n",
              "      <td>JP MORGAN CHASE  CO.</td>\n",
              "    </tr>\n",
              "    <tr>\n",
              "      <th>4</th>\n",
              "      <td>GOVERNO BRASILEIRO</td>\n",
              "    </tr>\n",
              "  </tbody>\n",
              "</table>\n",
              "</div>"
            ],
            "text/plain": [
              "                     EMISSOR\n",
              "0         TEMPUS OPP 1 CLASS\n",
              "1  ALIBABA GROUP HOLDING LTD\n",
              "2             AMAZON.COM INC\n",
              "3       JP MORGAN CHASE  CO.\n",
              "4         GOVERNO BRASILEIRO"
            ]
          },
          "metadata": {
            "tags": []
          },
          "execution_count": 51
        }
      ]
    },
    {
      "cell_type": "code",
      "metadata": {
        "colab": {
          "base_uri": "https://localhost:8080/",
          "height": 424
        },
        "id": "B3XwX_60aUD5",
        "outputId": "8d95be30-1c3c-495b-86b9-5996ffa7ac2b"
      },
      "source": [
        "nomes_emissores = pd.concat([nomes_emissores_cnpj, nomes_emissores_sem_cnpj])\n",
        "\n",
        "nomes_emissores.reset_index(drop=True, inplace=True)\n",
        "\n",
        "nomes_emissores"
      ],
      "execution_count": null,
      "outputs": [
        {
          "output_type": "execute_result",
          "data": {
            "text/html": [
              "<div>\n",
              "<style scoped>\n",
              "    .dataframe tbody tr th:only-of-type {\n",
              "        vertical-align: middle;\n",
              "    }\n",
              "\n",
              "    .dataframe tbody tr th {\n",
              "        vertical-align: top;\n",
              "    }\n",
              "\n",
              "    .dataframe thead th {\n",
              "        text-align: right;\n",
              "    }\n",
              "</style>\n",
              "<table border=\"1\" class=\"dataframe\">\n",
              "  <thead>\n",
              "    <tr style=\"text-align: right;\">\n",
              "      <th></th>\n",
              "      <th>CPF_CNPJ_EMISSOR</th>\n",
              "      <th>EMISSOR</th>\n",
              "    </tr>\n",
              "  </thead>\n",
              "  <tbody>\n",
              "    <tr>\n",
              "      <th>0</th>\n",
              "      <td>07.810.517/0001-95</td>\n",
              "      <td>BANCO BTG PACTUAL S/A</td>\n",
              "    </tr>\n",
              "    <tr>\n",
              "      <th>1</th>\n",
              "      <td>18.236.120/0001-58</td>\n",
              "      <td>NU PAGAMENTOS</td>\n",
              "    </tr>\n",
              "    <tr>\n",
              "      <th>2</th>\n",
              "      <td>30.121.792/0001-13</td>\n",
              "      <td>CREDIT SUISSE</td>\n",
              "    </tr>\n",
              "    <tr>\n",
              "      <th>3</th>\n",
              "      <td>60.701.190/4816-09</td>\n",
              "      <td>ITAU UNIBANCO S</td>\n",
              "    </tr>\n",
              "    <tr>\n",
              "      <th>4</th>\n",
              "      <td>11.476.673/0001-39</td>\n",
              "      <td>BANCO RANDON SA</td>\n",
              "    </tr>\n",
              "    <tr>\n",
              "      <th>...</th>\n",
              "      <td>...</td>\n",
              "      <td>...</td>\n",
              "    </tr>\n",
              "    <tr>\n",
              "      <th>45467</th>\n",
              "      <td>NaN</td>\n",
              "      <td>BCO EUROPEU AMERICA LATINA SA</td>\n",
              "    </tr>\n",
              "    <tr>\n",
              "      <th>45468</th>\n",
              "      <td>NaN</td>\n",
              "      <td>FRANLEASE ARREND MERCANTIL SA</td>\n",
              "    </tr>\n",
              "    <tr>\n",
              "      <th>45469</th>\n",
              "      <td>NaN</td>\n",
              "      <td>CIA BRAS PROJETOS OBRAS</td>\n",
              "    </tr>\n",
              "    <tr>\n",
              "      <th>45470</th>\n",
              "      <td>NaN</td>\n",
              "      <td>BASF BRASILEIRA SA INDS QUIMICAS</td>\n",
              "    </tr>\n",
              "    <tr>\n",
              "      <th>45471</th>\n",
              "      <td>NaN</td>\n",
              "      <td>BCO INTER ATLANTICO SA</td>\n",
              "    </tr>\n",
              "  </tbody>\n",
              "</table>\n",
              "<p>45472 rows × 2 columns</p>\n",
              "</div>"
            ],
            "text/plain": [
              "         CPF_CNPJ_EMISSOR                           EMISSOR\n",
              "0      07.810.517/0001-95             BANCO BTG PACTUAL S/A\n",
              "1      18.236.120/0001-58                     NU PAGAMENTOS\n",
              "2      30.121.792/0001-13                     CREDIT SUISSE\n",
              "3      60.701.190/4816-09                   ITAU UNIBANCO S\n",
              "4      11.476.673/0001-39                   BANCO RANDON SA\n",
              "...                   ...                               ...\n",
              "45467                 NaN     BCO EUROPEU AMERICA LATINA SA\n",
              "45468                 NaN     FRANLEASE ARREND MERCANTIL SA\n",
              "45469                 NaN           CIA BRAS PROJETOS OBRAS\n",
              "45470                 NaN  BASF BRASILEIRA SA INDS QUIMICAS\n",
              "45471                 NaN            BCO INTER ATLANTICO SA\n",
              "\n",
              "[45472 rows x 2 columns]"
            ]
          },
          "metadata": {
            "tags": []
          },
          "execution_count": 52
        }
      ]
    },
    {
      "cell_type": "code",
      "metadata": {
        "colab": {
          "base_uri": "https://localhost:8080/"
        },
        "id": "X70uh7bBaUmA",
        "outputId": "9064842d-7dc7-47e4-b746-5f32c43c39c3"
      },
      "source": [
        "# Verifica unicidade de CPF_CNPJ\n",
        "cnt = nomes_emissores[nomes_emissores['CPF_CNPJ_EMISSOR']==''].groupby('CPF_CNPJ_EMISSOR')['EMISSOR'].nunique()\n",
        "print(cnt[cnt>1].empty)"
      ],
      "execution_count": null,
      "outputs": [
        {
          "output_type": "stream",
          "text": [
            "True\n"
          ],
          "name": "stdout"
        }
      ]
    },
    {
      "cell_type": "code",
      "metadata": {
        "colab": {
          "base_uri": "https://localhost:8080/"
        },
        "id": "RMoWKrTWex9V",
        "outputId": "8b136ada-7e6f-485f-9660-93f342289dae"
      },
      "source": [
        "# Verifica se não há valores ausentes ('missing values') em EMISSOR (Nome do Emissor) \n",
        "df = nomes_emissores[nomes_emissores['EMISSOR']=='']\n",
        "print(df.empty) "
      ],
      "execution_count": null,
      "outputs": [
        {
          "output_type": "stream",
          "text": [
            "True\n"
          ],
          "name": "stdout"
        }
      ]
    },
    {
      "cell_type": "code",
      "metadata": {
        "colab": {
          "base_uri": "https://localhost:8080/"
        },
        "id": "3WSdVeibdRWi",
        "outputId": "a5db2bb0-dbaa-4cba-ff82-f1f975eae4f1"
      },
      "source": [
        "# Verifica duplicidade em EMISSOR (Nome do Emissor)\n",
        "cnt = nomes_emissores.groupby('EMISSOR')['CPF_CNPJ_EMISSOR'].nunique()\n",
        "cnt[cnt>1].count()"
      ],
      "execution_count": null,
      "outputs": [
        {
          "output_type": "execute_result",
          "data": {
            "text/plain": [
              "46"
            ]
          },
          "metadata": {
            "tags": []
          },
          "execution_count": 55
        }
      ]
    },
    {
      "cell_type": "markdown",
      "metadata": {
        "id": "hUS_ItOg_5mV"
      },
      "source": [
        "### Ativos\n"
      ]
    },
    {
      "cell_type": "code",
      "metadata": {
        "colab": {
          "base_uri": "https://localhost:8080/",
          "height": 424
        },
        "id": "msPwKAwNloA0",
        "outputId": "7d3bcbb9-e635-4e27-e1e7-2d15082e33fb"
      },
      "source": [
        "ativos_isin"
      ],
      "execution_count": null,
      "outputs": [
        {
          "output_type": "execute_result",
          "data": {
            "text/html": [
              "<div>\n",
              "<style scoped>\n",
              "    .dataframe tbody tr th:only-of-type {\n",
              "        vertical-align: middle;\n",
              "    }\n",
              "\n",
              "    .dataframe tbody tr th {\n",
              "        vertical-align: top;\n",
              "    }\n",
              "\n",
              "    .dataframe thead th {\n",
              "        text-align: right;\n",
              "    }\n",
              "</style>\n",
              "<table border=\"1\" class=\"dataframe\">\n",
              "  <thead>\n",
              "    <tr style=\"text-align: right;\">\n",
              "      <th></th>\n",
              "      <th>CD_ISIN</th>\n",
              "      <th>COD_TIPO</th>\n",
              "      <th>DS_ATIVO</th>\n",
              "      <th>COD_EMISSOR</th>\n",
              "    </tr>\n",
              "  </thead>\n",
              "  <tbody>\n",
              "    <tr>\n",
              "      <th>0</th>\n",
              "      <td>BR0002CTF008</td>\n",
              "      <td>CTF</td>\n",
              "      <td>COTAS SENIORES</td>\n",
              "      <td>0002</td>\n",
              "    </tr>\n",
              "    <tr>\n",
              "      <th>1</th>\n",
              "      <td>BR0002CTF016</td>\n",
              "      <td>CTF</td>\n",
              "      <td>COTAS SUBORDINADAS</td>\n",
              "      <td>0002</td>\n",
              "    </tr>\n",
              "    <tr>\n",
              "      <th>2</th>\n",
              "      <td>BR0003CTF006</td>\n",
              "      <td>CTF</td>\n",
              "      <td>COTAS</td>\n",
              "      <td>0003</td>\n",
              "    </tr>\n",
              "    <tr>\n",
              "      <th>3</th>\n",
              "      <td>BR0004CTF004</td>\n",
              "      <td>CTF</td>\n",
              "      <td>COTAS</td>\n",
              "      <td>0004</td>\n",
              "    </tr>\n",
              "    <tr>\n",
              "      <th>4</th>\n",
              "      <td>BR0005CTF001</td>\n",
              "      <td>CTF</td>\n",
              "      <td>COTAS</td>\n",
              "      <td>0005</td>\n",
              "    </tr>\n",
              "    <tr>\n",
              "      <th>...</th>\n",
              "      <td>...</td>\n",
              "      <td>...</td>\n",
              "      <td>...</td>\n",
              "      <td>...</td>\n",
              "    </tr>\n",
              "    <tr>\n",
              "      <th>126517</th>\n",
              "      <td>BRZZDTDBS005</td>\n",
              "      <td>DBS</td>\n",
              "      <td>DEBENTURES SIMPLES 1ª EMISSÃO SÉRIE 1ª</td>\n",
              "      <td>ZZDT</td>\n",
              "    </tr>\n",
              "    <tr>\n",
              "      <th>126518</th>\n",
              "      <td>BRZZDTDBS013</td>\n",
              "      <td>DBS</td>\n",
              "      <td>DEBENTURES SIMPLES 1ª EMISSÃO SÉRIE 2ª</td>\n",
              "      <td>ZZDT</td>\n",
              "    </tr>\n",
              "    <tr>\n",
              "      <th>126519</th>\n",
              "      <td>BRZZF1CTF007</td>\n",
              "      <td>CTF</td>\n",
              "      <td>COTAS COTAS</td>\n",
              "      <td>ZZF1</td>\n",
              "    </tr>\n",
              "    <tr>\n",
              "      <th>126520</th>\n",
              "      <td>BRZZGRCTF003</td>\n",
              "      <td>CTF</td>\n",
              "      <td>COTAS COTAS</td>\n",
              "      <td>ZZGR</td>\n",
              "    </tr>\n",
              "    <tr>\n",
              "      <th>126521</th>\n",
              "      <td>BRZZXAACNOR1</td>\n",
              "      <td>ACN</td>\n",
              "      <td>ACOES NOMINATIVAS ACOES ORDINARIAS</td>\n",
              "      <td>ZZXA</td>\n",
              "    </tr>\n",
              "  </tbody>\n",
              "</table>\n",
              "<p>126522 rows × 4 columns</p>\n",
              "</div>"
            ],
            "text/plain": [
              "             CD_ISIN  ... COD_EMISSOR\n",
              "0       BR0002CTF008  ...        0002\n",
              "1       BR0002CTF016  ...        0002\n",
              "2       BR0003CTF006  ...        0003\n",
              "3       BR0004CTF004  ...        0004\n",
              "4       BR0005CTF001  ...        0005\n",
              "...              ...  ...         ...\n",
              "126517  BRZZDTDBS005  ...        ZZDT\n",
              "126518  BRZZDTDBS013  ...        ZZDT\n",
              "126519  BRZZF1CTF007  ...        ZZF1\n",
              "126520  BRZZGRCTF003  ...        ZZGR\n",
              "126521  BRZZXAACNOR1  ...        ZZXA\n",
              "\n",
              "[126522 rows x 4 columns]"
            ]
          },
          "metadata": {
            "tags": []
          },
          "execution_count": 56
        }
      ]
    },
    {
      "cell_type": "code",
      "metadata": {
        "id": "SXjDSwNkvHJl"
      },
      "source": [
        "titulos_publicos        = cda1[['CD_ISIN','DS_ATIVO','DT_VENC']].drop_duplicates().fillna('') \n",
        "swap                    = cda3[['CD_SWAP','CD_ATIVO']].drop_duplicates().fillna('') \n",
        "ativos_codificados      = cda4[['CD_ISIN','CD_ATIVO','DS_ATIVO']].drop_duplicates().fillna('') \n",
        "depositos_prazo         = cda5[['DS_ATIVO','DT_VENC','CPF_CNPJ_EMISSOR']].drop_duplicates().fillna('')\n",
        "titulos_agronegocio     = cda6[['DS_ATIVO','DT_VENC','CPF_CNPJ_EMISSOR']].drop_duplicates().fillna('') \n",
        "investimento_exterior   = cda7[['CD_ATIVO','BV_MERC','PAIS','DS_ATIVO','DT_VENC','EMISSOR']].drop_duplicates().fillna('') \n",
        "ativos_nao_codificados  = cda8[['DS_ATIVO','CPF_CNPJ_EMISSOR']].drop_duplicates().fillna('')"
      ],
      "execution_count": null,
      "outputs": []
    },
    {
      "cell_type": "markdown",
      "metadata": {
        "id": "VTFsSq_8rPq2"
      },
      "source": [
        "#### Títulos Públicos"
      ]
    },
    {
      "cell_type": "code",
      "metadata": {
        "colab": {
          "base_uri": "https://localhost:8080/",
          "height": 424
        },
        "id": "oDdyhqpKmHz9",
        "outputId": "7ef239ef-792b-4ab9-a47c-2414d996dcf1"
      },
      "source": [
        "df1 = pd.merge(titulos_publicos.rename(columns={'DS_ATIVO': 'DS_ATIVO_1'}), ativos_isin.rename(columns={'DS_ATIVO': 'DS_ATIVO_2'}),\n",
        "                        how=\"left\", on=[\"CD_ISIN\"])\n",
        "\n",
        "df1 = df1.replace(np.nan, '', regex=True)\n",
        "\n",
        "df1['DS_ATIVO'] = df1.apply(lambda row: ds_ativo(row), axis=1)\n",
        "\n",
        "df1 = df1.drop(['COD_TIPO'], axis=1)\n",
        "df1 = df1.drop(['DS_ATIVO_1'], axis=1)\n",
        "df1 = df1.drop(['DS_ATIVO_2'], axis=1)\n",
        "\n",
        "df2 = pd.merge(df1, emissores_ativos_isin, \n",
        "               how = \"left\", on=[\"COD_EMISSOR\"])\n",
        "\n",
        "# A coluna CPF_CNPJ_EMISSOR do dataframe 'nomes_emissores' será utilizada na operação de merge; por isso, os valores NaN serão preenchidos com '0'\n",
        "titulos_publicos_emissor = pd.merge(df2.rename(columns={'EMISSOR': 'EMISSOR_1'}), nomes_emissores.rename(columns={'EMISSOR': 'EMISSOR_2'}).fillna({'CPF_CNPJ_EMISSOR': '0'}),\n",
        "                                    how=\"left\", on=[\"CPF_CNPJ_EMISSOR\"])\n",
        "\n",
        "titulos_publicos_emissor = titulos_publicos_emissor.drop_duplicates()\n",
        "titulos_publicos_emissor = titulos_publicos_emissor.replace(np.nan, '', regex=True)\n",
        "\n",
        "titulos_publicos_emissor['EMISSOR'] = titulos_publicos_emissor.apply(lambda row: emissor(row), axis=1)\n",
        "titulos_publicos_emissor = titulos_publicos_emissor.drop(['COD_EMISSOR'], axis=1)\n",
        "titulos_publicos_emissor = titulos_publicos_emissor.drop(['EMISSOR_1'], axis=1)\n",
        "titulos_publicos_emissor = titulos_publicos_emissor.drop(['EMISSOR_2'], axis=1)\n",
        "\n",
        "titulos_publicos_emissor"
      ],
      "execution_count": null,
      "outputs": [
        {
          "output_type": "execute_result",
          "data": {
            "text/html": [
              "<div>\n",
              "<style scoped>\n",
              "    .dataframe tbody tr th:only-of-type {\n",
              "        vertical-align: middle;\n",
              "    }\n",
              "\n",
              "    .dataframe tbody tr th {\n",
              "        vertical-align: top;\n",
              "    }\n",
              "\n",
              "    .dataframe thead th {\n",
              "        text-align: right;\n",
              "    }\n",
              "</style>\n",
              "<table border=\"1\" class=\"dataframe\">\n",
              "  <thead>\n",
              "    <tr style=\"text-align: right;\">\n",
              "      <th></th>\n",
              "      <th>CD_ISIN</th>\n",
              "      <th>DT_VENC</th>\n",
              "      <th>DS_ATIVO</th>\n",
              "      <th>CPF_CNPJ_EMISSOR</th>\n",
              "      <th>EMISSOR</th>\n",
              "    </tr>\n",
              "  </thead>\n",
              "  <tbody>\n",
              "    <tr>\n",
              "      <th>0</th>\n",
              "      <td>BRSTNCLF1R74</td>\n",
              "      <td>2022-09-01</td>\n",
              "      <td>LETRAS FINANCEIRAS DO TESOURO LETRAS FINANCEIR...</td>\n",
              "      <td>00.394.460/0409-50</td>\n",
              "      <td>SECRETARIA TESOURO NACIONAL</td>\n",
              "    </tr>\n",
              "    <tr>\n",
              "      <th>1</th>\n",
              "      <td>BRSTNCNTF1P8</td>\n",
              "      <td>2027-01-01</td>\n",
              "      <td>NOTAS DO TESOURO NACIONAL SERIE F NOTAS DO TES...</td>\n",
              "      <td>00.394.460/0409-50</td>\n",
              "      <td>SECRETARIA TESOURO NACIONAL</td>\n",
              "    </tr>\n",
              "    <tr>\n",
              "      <th>2</th>\n",
              "      <td>BRSTNCLTN7O0</td>\n",
              "      <td>2022-07-01</td>\n",
              "      <td>LETRAS DO TESOURO NACIONAL LETRAS DO TESOURO N...</td>\n",
              "      <td>00.394.460/0409-50</td>\n",
              "      <td>SECRETARIA TESOURO NACIONAL</td>\n",
              "    </tr>\n",
              "    <tr>\n",
              "      <th>3</th>\n",
              "      <td>BRSTNCNTB4O9</td>\n",
              "      <td>2023-05-15</td>\n",
              "      <td>NOTAS DO TESOURO NACIONAL SERIE B NOTAS DO TES...</td>\n",
              "      <td>00.394.460/0409-50</td>\n",
              "      <td>SECRETARIA TESOURO NACIONAL</td>\n",
              "    </tr>\n",
              "    <tr>\n",
              "      <th>4</th>\n",
              "      <td>BRSTNCNTB096</td>\n",
              "      <td>2024-08-15</td>\n",
              "      <td>NOTAS DO TESOURO NACIONAL SERIE B NOTAS DO TES...</td>\n",
              "      <td>00.394.460/0409-50</td>\n",
              "      <td>SECRETARIA TESOURO NACIONAL</td>\n",
              "    </tr>\n",
              "    <tr>\n",
              "      <th>...</th>\n",
              "      <td>...</td>\n",
              "      <td>...</td>\n",
              "      <td>...</td>\n",
              "      <td>...</td>\n",
              "      <td>...</td>\n",
              "    </tr>\n",
              "    <tr>\n",
              "      <th>111</th>\n",
              "      <td>BRSTNCNI17E6</td>\n",
              "      <td>2025-09-15</td>\n",
              "      <td>NOTAS DO TESOURO NACIONAL SERIE I NOTAS DO TES...</td>\n",
              "      <td>00.394.460/0409-50</td>\n",
              "      <td>SECRETARIA TESOURO NACIONAL</td>\n",
              "    </tr>\n",
              "    <tr>\n",
              "      <th>112</th>\n",
              "      <td>BRSTNCNI1860</td>\n",
              "      <td>2025-10-15</td>\n",
              "      <td>NOTAS DO TESOURO NACIONAL SERIE I NOTAS DO TES...</td>\n",
              "      <td>00.394.460/0409-50</td>\n",
              "      <td>SECRETARIA TESOURO NACIONAL</td>\n",
              "    </tr>\n",
              "    <tr>\n",
              "      <th>113</th>\n",
              "      <td>BRSTNCNI18W6</td>\n",
              "      <td>2026-02-15</td>\n",
              "      <td>NOTAS DO TESOURO NACIONAL SERIE I NOTAS DO TES...</td>\n",
              "      <td>00.394.460/0409-50</td>\n",
              "      <td>SECRETARIA TESOURO NACIONAL</td>\n",
              "    </tr>\n",
              "    <tr>\n",
              "      <th>114</th>\n",
              "      <td>BRSTNCNI1878</td>\n",
              "      <td>2026-04-15</td>\n",
              "      <td>NOTAS DO TESOURO NACIONAL SERIE I NOTAS DO TES...</td>\n",
              "      <td>00.394.460/0409-50</td>\n",
              "      <td>SECRETARIA TESOURO NACIONAL</td>\n",
              "    </tr>\n",
              "    <tr>\n",
              "      <th>115</th>\n",
              "      <td>BRSTNCNI16R0</td>\n",
              "      <td>2026-05-15</td>\n",
              "      <td>NOTAS DO TESOURO NACIONAL SERIE I NOTAS DO TES...</td>\n",
              "      <td>00.394.460/0409-50</td>\n",
              "      <td>SECRETARIA TESOURO NACIONAL</td>\n",
              "    </tr>\n",
              "  </tbody>\n",
              "</table>\n",
              "<p>116 rows × 5 columns</p>\n",
              "</div>"
            ],
            "text/plain": [
              "          CD_ISIN     DT_VENC  ...    CPF_CNPJ_EMISSOR                      EMISSOR\n",
              "0    BRSTNCLF1R74  2022-09-01  ...  00.394.460/0409-50  SECRETARIA TESOURO NACIONAL\n",
              "1    BRSTNCNTF1P8  2027-01-01  ...  00.394.460/0409-50  SECRETARIA TESOURO NACIONAL\n",
              "2    BRSTNCLTN7O0  2022-07-01  ...  00.394.460/0409-50  SECRETARIA TESOURO NACIONAL\n",
              "3    BRSTNCNTB4O9  2023-05-15  ...  00.394.460/0409-50  SECRETARIA TESOURO NACIONAL\n",
              "4    BRSTNCNTB096  2024-08-15  ...  00.394.460/0409-50  SECRETARIA TESOURO NACIONAL\n",
              "..            ...         ...  ...                 ...                          ...\n",
              "111  BRSTNCNI17E6  2025-09-15  ...  00.394.460/0409-50  SECRETARIA TESOURO NACIONAL\n",
              "112  BRSTNCNI1860  2025-10-15  ...  00.394.460/0409-50  SECRETARIA TESOURO NACIONAL\n",
              "113  BRSTNCNI18W6  2026-02-15  ...  00.394.460/0409-50  SECRETARIA TESOURO NACIONAL\n",
              "114  BRSTNCNI1878  2026-04-15  ...  00.394.460/0409-50  SECRETARIA TESOURO NACIONAL\n",
              "115  BRSTNCNI16R0  2026-05-15  ...  00.394.460/0409-50  SECRETARIA TESOURO NACIONAL\n",
              "\n",
              "[116 rows x 5 columns]"
            ]
          },
          "metadata": {
            "tags": []
          },
          "execution_count": 58
        }
      ]
    },
    {
      "cell_type": "markdown",
      "metadata": {
        "id": "jfIyu3YErcs3"
      },
      "source": [
        "#### SWAP"
      ]
    },
    {
      "cell_type": "code",
      "metadata": {
        "colab": {
          "base_uri": "https://localhost:8080/",
          "height": 520
        },
        "id": "CH9lYsuBr0q_",
        "outputId": "ef07cbb0-7be9-432d-ca81-38f89e795382"
      },
      "source": [
        "df1 = pd.merge(swap.rename(columns={'CD_SWAP': 'COD_TIPO'}), ativos_isin,\n",
        "                        how=\"left\", on=[\"COD_TIPO\"])\n",
        "\n",
        "df1 = df1.replace(np.nan, '', regex=True)\n",
        "\n",
        "df1 = df1.drop(['COD_TIPO'], axis=1)\n",
        "\n",
        "df2 = pd.merge(df1, emissores_ativos_isin, \n",
        "              how = \"left\", on=[\"COD_EMISSOR\"])\n",
        "\n",
        "# A coluna CPF_CNPJ_EMISSOR do dataframe 'nomes_emissores' será utilizada na operação de merge; por isso, os valores NaN serão preenchidos com '0'\n",
        "swap_emissor = pd.merge(df2.rename(columns={'EMISSOR': 'EMISSOR_1'}), nomes_emissores.rename(columns={'EMISSOR': 'EMISSOR_2'}).fillna({'CPF_CNPJ_EMISSOR': '0'}),\n",
        "                                    how=\"left\", on=[\"CPF_CNPJ_EMISSOR\"])\n",
        "\n",
        "swap_emissor = swap_emissor.drop_duplicates()\n",
        "swap_emissor = swap_emissor.replace(np.nan, '', regex=True)\n",
        "\n",
        "swap_emissor['EMISSOR'] = swap_emissor.apply(lambda row: emissor(row), axis=1)\n",
        "swap_emissor = swap_emissor.drop(['COD_EMISSOR'], axis=1)\n",
        "swap_emissor = swap_emissor.drop(['EMISSOR_1'], axis=1)\n",
        "swap_emissor = swap_emissor.drop(['EMISSOR_2'], axis=1)\n",
        "\n",
        "swap_emissor"
      ],
      "execution_count": null,
      "outputs": [
        {
          "output_type": "execute_result",
          "data": {
            "text/html": [
              "<div>\n",
              "<style scoped>\n",
              "    .dataframe tbody tr th:only-of-type {\n",
              "        vertical-align: middle;\n",
              "    }\n",
              "\n",
              "    .dataframe tbody tr th {\n",
              "        vertical-align: top;\n",
              "    }\n",
              "\n",
              "    .dataframe thead th {\n",
              "        text-align: right;\n",
              "    }\n",
              "</style>\n",
              "<table border=\"1\" class=\"dataframe\">\n",
              "  <thead>\n",
              "    <tr style=\"text-align: right;\">\n",
              "      <th></th>\n",
              "      <th>CD_ATIVO</th>\n",
              "      <th>CD_ISIN</th>\n",
              "      <th>DS_ATIVO</th>\n",
              "      <th>CPF_CNPJ_EMISSOR</th>\n",
              "      <th>EMISSOR</th>\n",
              "    </tr>\n",
              "  </thead>\n",
              "  <tbody>\n",
              "    <tr>\n",
              "      <th>0</th>\n",
              "      <td>DI1 X IAP</td>\n",
              "      <td>BRBMEFSDL000</td>\n",
              "      <td>SWAP - TAXA DI DE UM DIA VERSUS IPCA/IBGE SWAP...</td>\n",
              "      <td>54.641.030/0001-06</td>\n",
              "      <td>BOLSA MERCADORIAS FUTUROS BMF SA</td>\n",
              "    </tr>\n",
              "    <tr>\n",
              "      <th>1</th>\n",
              "      <td>DI1 X PRE</td>\n",
              "      <td>BRBMEFSDP001</td>\n",
              "      <td>SWAP - TAXA DI DE UM DIA VERSUS TAXA PREFIXADA...</td>\n",
              "      <td>54.641.030/0001-06</td>\n",
              "      <td>BOLSA MERCADORIAS FUTUROS BMF SA</td>\n",
              "    </tr>\n",
              "    <tr>\n",
              "      <th>2</th>\n",
              "      <td>TBF X PRE</td>\n",
              "      <td>BRBMEFSBP005</td>\n",
              "      <td>SWAP - TBF VERSUS TAXA PREFIXADA SWAP - TBF VE...</td>\n",
              "      <td>54.641.030/0001-06</td>\n",
              "      <td>BOLSA MERCADORIAS FUTUROS BMF SA</td>\n",
              "    </tr>\n",
              "    <tr>\n",
              "      <th>3</th>\n",
              "      <td>DI1 X DOL</td>\n",
              "      <td>BRBMEFSDC009</td>\n",
              "      <td>SWAP - TAXA DI DE UM DIA VERSUS  DOLAR COMERCI...</td>\n",
              "      <td>54.641.030/0001-06</td>\n",
              "      <td>BOLSA MERCADORIAS FUTUROS BMF SA</td>\n",
              "    </tr>\n",
              "    <tr>\n",
              "      <th>4</th>\n",
              "      <td>SB1 X DI1</td>\n",
              "      <td>BRBMEFSBD001</td>\n",
              "      <td>SWAP - CARTEIRA DE ACOES VERSUS TAXA DI DE UM ...</td>\n",
              "      <td>54.641.030/0001-06</td>\n",
              "      <td>BOLSA MERCADORIAS FUTUROS BMF SA</td>\n",
              "    </tr>\n",
              "    <tr>\n",
              "      <th>5</th>\n",
              "      <td>DOL X PRE</td>\n",
              "      <td>BRBMEFSCP003</td>\n",
              "      <td>SWAP - DOLAR COMERCIAL VERSUS TAXA PREFIXADA S...</td>\n",
              "      <td>54.641.030/0001-06</td>\n",
              "      <td>BOLSA MERCADORIAS FUTUROS BMF SA</td>\n",
              "    </tr>\n",
              "    <tr>\n",
              "      <th>6</th>\n",
              "      <td>PRE X SB1</td>\n",
              "      <td>BRBMEFSPB005</td>\n",
              "      <td>SWAP - TAXA PREFIXADA VERSUS CARTEIRA DE ACOES...</td>\n",
              "      <td>54.641.030/0001-06</td>\n",
              "      <td>BOLSA MERCADORIAS FUTUROS BMF SA</td>\n",
              "    </tr>\n",
              "    <tr>\n",
              "      <th>7</th>\n",
              "      <td>DI1 X REU</td>\n",
              "      <td>BRBMEFSDE005</td>\n",
              "      <td>SWAP - TAXA DI DE UM DIA VERSUS EURO SWAP - TA...</td>\n",
              "      <td>54.641.030/0001-06</td>\n",
              "      <td>BOLSA MERCADORIAS FUTUROS BMF SA</td>\n",
              "    </tr>\n",
              "    <tr>\n",
              "      <th>8</th>\n",
              "      <td>REU X PRE</td>\n",
              "      <td>BRBMEFSEP009</td>\n",
              "      <td>SWAP - EURO VERSUS TAXA PREFIXADA SWAP - EURO ...</td>\n",
              "      <td>54.641.030/0001-06</td>\n",
              "      <td>BOLSA MERCADORIAS FUTUROS BMF SA</td>\n",
              "    </tr>\n",
              "    <tr>\n",
              "      <th>9</th>\n",
              "      <td>DI1 X IGM</td>\n",
              "      <td>BRBMEFSDM008</td>\n",
              "      <td>SWAP - TAXA DI DE UM DIA VERSUS IGP-M SWAP - T...</td>\n",
              "      <td>54.641.030/0001-06</td>\n",
              "      <td>BOLSA MERCADORIAS FUTUROS BMF SA</td>\n",
              "    </tr>\n",
              "    <tr>\n",
              "      <th>10</th>\n",
              "      <td>DOL X SB1</td>\n",
              "      <td>BRBMEFSCB003</td>\n",
              "      <td>SWAP - DOLAR COMERCIAL VERSUS CARTEIRA DE ACOE...</td>\n",
              "      <td>54.641.030/0001-06</td>\n",
              "      <td>BOLSA MERCADORIAS FUTUROS BMF SA</td>\n",
              "    </tr>\n",
              "    <tr>\n",
              "      <th>11</th>\n",
              "      <td>DOL X REU</td>\n",
              "      <td>BRBMEFSCE007</td>\n",
              "      <td>SWAP - DOLAR COMERCIAL VERSUS EURO SWAP - DOLA...</td>\n",
              "      <td>54.641.030/0001-06</td>\n",
              "      <td>BOLSA MERCADORIAS FUTUROS BMF SA</td>\n",
              "    </tr>\n",
              "    <tr>\n",
              "      <th>12</th>\n",
              "      <td>IAP X PRE</td>\n",
              "      <td>BRBMEFSLP004</td>\n",
              "      <td>SWAP – IPCA/IBGE VERSUS TAXA PREFIXADA SWAP – ...</td>\n",
              "      <td>54.641.030/0001-06</td>\n",
              "      <td>BOLSA MERCADORIAS FUTUROS BMF SA</td>\n",
              "    </tr>\n",
              "    <tr>\n",
              "      <th>13</th>\n",
              "      <td>DI1 X IND</td>\n",
              "      <td>BRBMEFSDN006</td>\n",
              "      <td>SWAP - TAXA DI DE UM DIA VERSUS IBOVESPA SWAP ...</td>\n",
              "      <td>54.641.030/0001-06</td>\n",
              "      <td>BOLSA MERCADORIAS FUTUROS BMF SA</td>\n",
              "    </tr>\n",
              "    <tr>\n",
              "      <th>14</th>\n",
              "      <td>DOL X OZ1</td>\n",
              "      <td>BRBMEFSCO006</td>\n",
              "      <td>SWAP - DOLAR COMERCIAL VERSUS OURO SWAP - DOLA...</td>\n",
              "      <td>54.641.030/0001-06</td>\n",
              "      <td>BOLSA MERCADORIAS FUTUROS BMF SA</td>\n",
              "    </tr>\n",
              "  </tbody>\n",
              "</table>\n",
              "</div>"
            ],
            "text/plain": [
              "     CD_ATIVO  ...                           EMISSOR\n",
              "0   DI1 X IAP  ...  BOLSA MERCADORIAS FUTUROS BMF SA\n",
              "1   DI1 X PRE  ...  BOLSA MERCADORIAS FUTUROS BMF SA\n",
              "2   TBF X PRE  ...  BOLSA MERCADORIAS FUTUROS BMF SA\n",
              "3   DI1 X DOL  ...  BOLSA MERCADORIAS FUTUROS BMF SA\n",
              "4   SB1 X DI1  ...  BOLSA MERCADORIAS FUTUROS BMF SA\n",
              "5   DOL X PRE  ...  BOLSA MERCADORIAS FUTUROS BMF SA\n",
              "6   PRE X SB1  ...  BOLSA MERCADORIAS FUTUROS BMF SA\n",
              "7   DI1 X REU  ...  BOLSA MERCADORIAS FUTUROS BMF SA\n",
              "8   REU X PRE  ...  BOLSA MERCADORIAS FUTUROS BMF SA\n",
              "9   DI1 X IGM  ...  BOLSA MERCADORIAS FUTUROS BMF SA\n",
              "10  DOL X SB1  ...  BOLSA MERCADORIAS FUTUROS BMF SA\n",
              "11  DOL X REU  ...  BOLSA MERCADORIAS FUTUROS BMF SA\n",
              "12  IAP X PRE  ...  BOLSA MERCADORIAS FUTUROS BMF SA\n",
              "13  DI1 X IND  ...  BOLSA MERCADORIAS FUTUROS BMF SA\n",
              "14  DOL X OZ1  ...  BOLSA MERCADORIAS FUTUROS BMF SA\n",
              "\n",
              "[15 rows x 5 columns]"
            ]
          },
          "metadata": {
            "tags": []
          },
          "execution_count": 59
        }
      ]
    },
    {
      "cell_type": "markdown",
      "metadata": {
        "id": "F_lIKLZ_rehe"
      },
      "source": [
        "#### Ativos Codificados"
      ]
    },
    {
      "cell_type": "code",
      "metadata": {
        "colab": {
          "base_uri": "https://localhost:8080/",
          "height": 424
        },
        "id": "P9NEY4DotjQv",
        "outputId": "9cc8d50e-31bc-4531-aa7e-c716cecb540c"
      },
      "source": [
        "df1 = pd.merge(ativos_codificados.rename(columns={'DS_ATIVO': 'DS_ATIVO_1'}), ativos_isin.rename(columns={'DS_ATIVO': 'DS_ATIVO_2'}),\n",
        "                        how=\"left\", on=[\"CD_ISIN\"])\n",
        "\n",
        "df1 = df1.replace(np.nan, '', regex=True)\n",
        "\n",
        "df1['DS_ATIVO'] = df1.apply(lambda row: ds_ativo(row), axis=1)\n",
        "\n",
        "df1 = df1.drop(['COD_TIPO'], axis=1)\n",
        "df1 = df1.drop(['DS_ATIVO_1'], axis=1)\n",
        "df1 = df1.drop(['DS_ATIVO_2'], axis=1)\n",
        "\n",
        "df2 = pd.merge(df1, emissores_ativos_isin, \n",
        "               how = \"left\", on=[\"COD_EMISSOR\"])\n",
        "\n",
        "# A coluna CPF_CNPJ_EMISSOR do dataframe 'nomes_emissores' será utilizada na operação de merge; por isso, os valores NaN serão preenchidos com '0'\n",
        "ativos_codificados_emissor = pd.merge(df2.rename(columns={'EMISSOR': 'EMISSOR_1'}), nomes_emissores.rename(columns={'EMISSOR': 'EMISSOR_2'}).fillna({'CPF_CNPJ_EMISSOR': '0'}),\n",
        "                                    how=\"left\", on=[\"CPF_CNPJ_EMISSOR\"])\n",
        "\n",
        "ativos_codificados_emissor = ativos_codificados_emissor.drop_duplicates()\n",
        "ativos_codificados_emissor = ativos_codificados_emissor.replace(np.nan, '', regex=True)\n",
        "\n",
        "ativos_codificados_emissor['EMISSOR'] = ativos_codificados_emissor.apply(lambda row: emissor(row), axis=1)\n",
        "ativos_codificados_emissor = ativos_codificados_emissor.drop(['COD_EMISSOR'], axis=1)\n",
        "ativos_codificados_emissor = ativos_codificados_emissor.drop(['EMISSOR_1'], axis=1)\n",
        "ativos_codificados_emissor = ativos_codificados_emissor.drop(['EMISSOR_2'], axis=1)\n",
        "\n",
        "ativos_codificados_emissor"
      ],
      "execution_count": null,
      "outputs": [
        {
          "output_type": "execute_result",
          "data": {
            "text/html": [
              "<div>\n",
              "<style scoped>\n",
              "    .dataframe tbody tr th:only-of-type {\n",
              "        vertical-align: middle;\n",
              "    }\n",
              "\n",
              "    .dataframe tbody tr th {\n",
              "        vertical-align: top;\n",
              "    }\n",
              "\n",
              "    .dataframe thead th {\n",
              "        text-align: right;\n",
              "    }\n",
              "</style>\n",
              "<table border=\"1\" class=\"dataframe\">\n",
              "  <thead>\n",
              "    <tr style=\"text-align: right;\">\n",
              "      <th></th>\n",
              "      <th>CD_ISIN</th>\n",
              "      <th>CD_ATIVO</th>\n",
              "      <th>DS_ATIVO</th>\n",
              "      <th>CPF_CNPJ_EMISSOR</th>\n",
              "      <th>EMISSOR</th>\n",
              "    </tr>\n",
              "  </thead>\n",
              "  <tbody>\n",
              "    <tr>\n",
              "      <th>0</th>\n",
              "      <td>BRUGPADBS067</td>\n",
              "      <td>UGPA16</td>\n",
              "      <td>DEBENTURES SIMPLES DEBENTURES SIMPLES SEXTA EM...</td>\n",
              "      <td>33.256.439/0001-39</td>\n",
              "      <td>ULTRAPAR PARTICIPACOES SA</td>\n",
              "    </tr>\n",
              "    <tr>\n",
              "      <th>1</th>\n",
              "      <td>BRVIVTDBS069</td>\n",
              "      <td>VIVT15</td>\n",
              "      <td>DEBENTURES SIMPLES DEBENTURES SIMPLES QUINTA E...</td>\n",
              "      <td>02.558.157/0001-62</td>\n",
              "      <td>TELEFONICA BRASIL SA</td>\n",
              "    </tr>\n",
              "    <tr>\n",
              "      <th>2</th>\n",
              "      <td>BRPCARDBS0B7</td>\n",
              "      <td>CBRDA5</td>\n",
              "      <td>Debênture simples</td>\n",
              "      <td></td>\n",
              "      <td></td>\n",
              "    </tr>\n",
              "    <tr>\n",
              "      <th>3</th>\n",
              "      <td>BRCMGDDBS033</td>\n",
              "      <td>CMDT23</td>\n",
              "      <td>Debênture simples</td>\n",
              "      <td></td>\n",
              "      <td></td>\n",
              "    </tr>\n",
              "    <tr>\n",
              "      <th>4</th>\n",
              "      <td>BRIGTADBS049</td>\n",
              "      <td>IGTA24</td>\n",
              "      <td>Debênture simples</td>\n",
              "      <td></td>\n",
              "      <td></td>\n",
              "    </tr>\n",
              "    <tr>\n",
              "      <th>...</th>\n",
              "      <td>...</td>\n",
              "      <td>...</td>\n",
              "      <td>...</td>\n",
              "      <td>...</td>\n",
              "      <td>...</td>\n",
              "    </tr>\n",
              "    <tr>\n",
              "      <th>4237</th>\n",
              "      <td>BRS1REBDR009</td>\n",
              "      <td>S1RE34</td>\n",
              "      <td>CERTIFICADO DE DEPOSITO DE VALORES MOBILIARIOS...</td>\n",
              "      <td></td>\n",
              "      <td>SEMPRA ENERGY</td>\n",
              "    </tr>\n",
              "    <tr>\n",
              "      <th>4238</th>\n",
              "      <td>BRS1YKBDR002</td>\n",
              "      <td>S1YK34</td>\n",
              "      <td>CERTIFICADO DE DEPOSITO DE VALORES MOBILIARIOS...</td>\n",
              "      <td></td>\n",
              "      <td>STRYKER CORP</td>\n",
              "    </tr>\n",
              "    <tr>\n",
              "      <th>4239</th>\n",
              "      <td>BRWATCBDR009</td>\n",
              "      <td>WATC34</td>\n",
              "      <td>CERTIFICADO DE DEPOSITO DE VALORES MOBILIARIOS...</td>\n",
              "      <td></td>\n",
              "      <td>WATERS CORP</td>\n",
              "    </tr>\n",
              "    <tr>\n",
              "      <th>4240</th>\n",
              "      <td>BRB1ILBDR002</td>\n",
              "      <td>B1IL34</td>\n",
              "      <td>CERTIFICADO DE DEPOSITO DE VALORES MOBILIARIOS...</td>\n",
              "      <td></td>\n",
              "      <td>BILIBILI INC</td>\n",
              "    </tr>\n",
              "    <tr>\n",
              "      <th>4241</th>\n",
              "      <td>BRJOPAACNPR2</td>\n",
              "      <td>JOPA4</td>\n",
              "      <td>ACOES NOMINATIVAS ACOES PREFERENCIAIS</td>\n",
              "      <td>87.456.562/0001-22</td>\n",
              "      <td>JOSAPAR JOAQUIM OLIVEIRA SA PARTICIPACOES</td>\n",
              "    </tr>\n",
              "  </tbody>\n",
              "</table>\n",
              "<p>4209 rows × 5 columns</p>\n",
              "</div>"
            ],
            "text/plain": [
              "           CD_ISIN  ...                                    EMISSOR\n",
              "0     BRUGPADBS067  ...                  ULTRAPAR PARTICIPACOES SA\n",
              "1     BRVIVTDBS069  ...                       TELEFONICA BRASIL SA\n",
              "2     BRPCARDBS0B7  ...                                           \n",
              "3     BRCMGDDBS033  ...                                           \n",
              "4     BRIGTADBS049  ...                                           \n",
              "...            ...  ...                                        ...\n",
              "4237  BRS1REBDR009  ...                              SEMPRA ENERGY\n",
              "4238  BRS1YKBDR002  ...                               STRYKER CORP\n",
              "4239  BRWATCBDR009  ...                                WATERS CORP\n",
              "4240  BRB1ILBDR002  ...                               BILIBILI INC\n",
              "4241  BRJOPAACNPR2  ...  JOSAPAR JOAQUIM OLIVEIRA SA PARTICIPACOES\n",
              "\n",
              "[4209 rows x 5 columns]"
            ]
          },
          "metadata": {
            "tags": []
          },
          "execution_count": 60
        }
      ]
    },
    {
      "cell_type": "markdown",
      "metadata": {
        "id": "iTa_XBy7rese"
      },
      "source": [
        "#### Depósitos a Prazo"
      ]
    },
    {
      "cell_type": "code",
      "metadata": {
        "colab": {
          "base_uri": "https://localhost:8080/"
        },
        "id": "p-RKcOZ7T9I0",
        "outputId": "98e35db0-6209-431f-f829-174c4cc50fca"
      },
      "source": [
        "# Verifica se não há valores ausentes em CPF_CNPJ_EMISSOR \n",
        "df = depositos_prazo[depositos_prazo['CPF_CNPJ_EMISSOR']=='']\n",
        "print(df.empty) "
      ],
      "execution_count": null,
      "outputs": [
        {
          "output_type": "stream",
          "text": [
            "True\n"
          ],
          "name": "stdout"
        }
      ]
    },
    {
      "cell_type": "code",
      "metadata": {
        "colab": {
          "base_uri": "https://localhost:8080/",
          "height": 424
        },
        "id": "gLpWMKCjFVR-",
        "outputId": "b6f5e991-1d61-4086-d9ee-2349594807e4"
      },
      "source": [
        "# A coluna CPF_CNPJ_EMISSOR do dataframe 'nomes_emissores' será utilizada na operação de merge; por isso, os valores NaN serão preenchidos com '0'\n",
        "depositos_prazo_emissor = pd.merge(depositos_prazo, nomes_emissores.fillna({'CPF_CNPJ_EMISSOR': '0'}),\n",
        "                        how=\"left\", on=[\"CPF_CNPJ_EMISSOR\"])\n",
        "\n",
        "depositos_prazo_emissor = depositos_prazo_emissor.drop_duplicates()\n",
        "depositos_prazo_emissor = depositos_prazo_emissor.replace(np.nan, '', regex=True)\n",
        "\n",
        "depositos_prazo_emissor"
      ],
      "execution_count": null,
      "outputs": [
        {
          "output_type": "execute_result",
          "data": {
            "text/html": [
              "<div>\n",
              "<style scoped>\n",
              "    .dataframe tbody tr th:only-of-type {\n",
              "        vertical-align: middle;\n",
              "    }\n",
              "\n",
              "    .dataframe tbody tr th {\n",
              "        vertical-align: top;\n",
              "    }\n",
              "\n",
              "    .dataframe thead th {\n",
              "        text-align: right;\n",
              "    }\n",
              "</style>\n",
              "<table border=\"1\" class=\"dataframe\">\n",
              "  <thead>\n",
              "    <tr style=\"text-align: right;\">\n",
              "      <th></th>\n",
              "      <th>DS_ATIVO</th>\n",
              "      <th>DT_VENC</th>\n",
              "      <th>CPF_CNPJ_EMISSOR</th>\n",
              "      <th>EMISSOR</th>\n",
              "    </tr>\n",
              "  </thead>\n",
              "  <tbody>\n",
              "    <tr>\n",
              "      <th>0</th>\n",
              "      <td>Depósitos a prazo e outros títulos de IF - Let...</td>\n",
              "      <td>2022-07-15</td>\n",
              "      <td>60.701.190/0001-04</td>\n",
              "      <td>BCO ITAU SA</td>\n",
              "    </tr>\n",
              "    <tr>\n",
              "      <th>1</th>\n",
              "      <td>Depósitos a prazo e outros títulos de IF - Let...</td>\n",
              "      <td>2022-09-15</td>\n",
              "      <td>60.746.948/0001-12</td>\n",
              "      <td>BCO BRADESCO SA</td>\n",
              "    </tr>\n",
              "    <tr>\n",
              "      <th>2</th>\n",
              "      <td>Depósitos a prazo e outros títulos de IF - Let...</td>\n",
              "      <td>2022-10-17</td>\n",
              "      <td>60.746.948/0001-12</td>\n",
              "      <td>BCO BRADESCO SA</td>\n",
              "    </tr>\n",
              "    <tr>\n",
              "      <th>3</th>\n",
              "      <td>Depósitos a prazo e outros títulos de IF - Let...</td>\n",
              "      <td>2022-11-16</td>\n",
              "      <td>60.701.190/0001-04</td>\n",
              "      <td>BCO ITAU SA</td>\n",
              "    </tr>\n",
              "    <tr>\n",
              "      <th>4</th>\n",
              "      <td>Depósitos a prazo e outros títulos de IF - Let...</td>\n",
              "      <td>2021-03-15</td>\n",
              "      <td>58.160.789/0001-28</td>\n",
              "      <td>BCO SAFRA SA</td>\n",
              "    </tr>\n",
              "    <tr>\n",
              "      <th>...</th>\n",
              "      <td>...</td>\n",
              "      <td>...</td>\n",
              "      <td>...</td>\n",
              "      <td>...</td>\n",
              "    </tr>\n",
              "    <tr>\n",
              "      <th>5121</th>\n",
              "      <td>Depósitos a prazo e outros títulos de IF - CDB...</td>\n",
              "      <td>2021-11-11</td>\n",
              "      <td>30.306.294/0001-45</td>\n",
              "      <td>BCO BTG PACTUAL SA</td>\n",
              "    </tr>\n",
              "    <tr>\n",
              "      <th>5122</th>\n",
              "      <td>Depósitos a prazo e outros títulos de IF - Let...</td>\n",
              "      <td>2022-10-17</td>\n",
              "      <td>90.400.888/0001-42</td>\n",
              "      <td>BCO SANTANDER (BRASIL) SA</td>\n",
              "    </tr>\n",
              "    <tr>\n",
              "      <th>5123</th>\n",
              "      <td>Depósitos a prazo e outros títulos de IF - CDB...</td>\n",
              "      <td>2021-10-29</td>\n",
              "      <td>30.306.294/0001-45</td>\n",
              "      <td>BCO BTG PACTUAL SA</td>\n",
              "    </tr>\n",
              "    <tr>\n",
              "      <th>5124</th>\n",
              "      <td>Depósitos a prazo e outros títulos de IF - CDB...</td>\n",
              "      <td>2021-11-18</td>\n",
              "      <td>30.306.294/0001-45</td>\n",
              "      <td>BCO BTG PACTUAL SA</td>\n",
              "    </tr>\n",
              "    <tr>\n",
              "      <th>5125</th>\n",
              "      <td>Depósitos a prazo e outros títulos de IF - DPGE</td>\n",
              "      <td>2022-07-02</td>\n",
              "      <td>61.186.680/0001-74</td>\n",
              "      <td>BCO BMG SA</td>\n",
              "    </tr>\n",
              "  </tbody>\n",
              "</table>\n",
              "<p>5126 rows × 4 columns</p>\n",
              "</div>"
            ],
            "text/plain": [
              "                                               DS_ATIVO  ...                    EMISSOR\n",
              "0     Depósitos a prazo e outros títulos de IF - Let...  ...                BCO ITAU SA\n",
              "1     Depósitos a prazo e outros títulos de IF - Let...  ...            BCO BRADESCO SA\n",
              "2     Depósitos a prazo e outros títulos de IF - Let...  ...            BCO BRADESCO SA\n",
              "3     Depósitos a prazo e outros títulos de IF - Let...  ...                BCO ITAU SA\n",
              "4     Depósitos a prazo e outros títulos de IF - Let...  ...               BCO SAFRA SA\n",
              "...                                                 ...  ...                        ...\n",
              "5121  Depósitos a prazo e outros títulos de IF - CDB...  ...         BCO BTG PACTUAL SA\n",
              "5122  Depósitos a prazo e outros títulos de IF - Let...  ...  BCO SANTANDER (BRASIL) SA\n",
              "5123  Depósitos a prazo e outros títulos de IF - CDB...  ...         BCO BTG PACTUAL SA\n",
              "5124  Depósitos a prazo e outros títulos de IF - CDB...  ...         BCO BTG PACTUAL SA\n",
              "5125    Depósitos a prazo e outros títulos de IF - DPGE  ...                 BCO BMG SA\n",
              "\n",
              "[5126 rows x 4 columns]"
            ]
          },
          "metadata": {
            "tags": []
          },
          "execution_count": 62
        }
      ]
    },
    {
      "cell_type": "markdown",
      "metadata": {
        "id": "4SUuZcrDre3-"
      },
      "source": [
        "#### Títulos do Agronegócio"
      ]
    },
    {
      "cell_type": "code",
      "metadata": {
        "colab": {
          "base_uri": "https://localhost:8080/"
        },
        "id": "Kibl63cEUVDZ",
        "outputId": "45a01411-b0a2-4d06-87c6-e22874cef8c6"
      },
      "source": [
        "# Verifica se não há valores ausentes em CPF_CNPJ_EMISSOR \n",
        "df = titulos_agronegocio[titulos_agronegocio['CPF_CNPJ_EMISSOR']=='']\n",
        "print(df.empty) "
      ],
      "execution_count": null,
      "outputs": [
        {
          "output_type": "stream",
          "text": [
            "True\n"
          ],
          "name": "stdout"
        }
      ]
    },
    {
      "cell_type": "code",
      "metadata": {
        "colab": {
          "base_uri": "https://localhost:8080/",
          "height": 424
        },
        "id": "Z10blyIoPl0k",
        "outputId": "1d598f60-f232-4ea3-dec6-af1efd407016"
      },
      "source": [
        "# A coluna CPF_CNPJ_EMISSOR do dataframe 'nomes_emissores' será utilizada na operação de merge; por isso, os valores NaN serão preenchidos com '0'\n",
        "titulos_agronegocio_emissor = pd.merge(titulos_agronegocio, nomes_emissores.fillna({'CPF_CNPJ_EMISSOR': '0'}),\n",
        "                        how=\"left\", on=[\"CPF_CNPJ_EMISSOR\"])\n",
        "\n",
        "titulos_agronegocio_emissor = titulos_agronegocio_emissor.drop_duplicates()\n",
        "titulos_agronegocio_emissor = titulos_agronegocio_emissor.replace(np.nan, '', regex=True)\n",
        "\n",
        "titulos_agronegocio_emissor"
      ],
      "execution_count": null,
      "outputs": [
        {
          "output_type": "execute_result",
          "data": {
            "text/html": [
              "<div>\n",
              "<style scoped>\n",
              "    .dataframe tbody tr th:only-of-type {\n",
              "        vertical-align: middle;\n",
              "    }\n",
              "\n",
              "    .dataframe tbody tr th {\n",
              "        vertical-align: top;\n",
              "    }\n",
              "\n",
              "    .dataframe thead th {\n",
              "        text-align: right;\n",
              "    }\n",
              "</style>\n",
              "<table border=\"1\" class=\"dataframe\">\n",
              "  <thead>\n",
              "    <tr style=\"text-align: right;\">\n",
              "      <th></th>\n",
              "      <th>DS_ATIVO</th>\n",
              "      <th>DT_VENC</th>\n",
              "      <th>CPF_CNPJ_EMISSOR</th>\n",
              "      <th>EMISSOR</th>\n",
              "    </tr>\n",
              "  </thead>\n",
              "  <tbody>\n",
              "    <tr>\n",
              "      <th>0</th>\n",
              "      <td>Debêntures - Debênture simples</td>\n",
              "      <td>2024-08-14</td>\n",
              "      <td>09.346.601/0001-25</td>\n",
              "      <td>B3 SA - BRASIL, BOLSA, BALCAO</td>\n",
              "    </tr>\n",
              "    <tr>\n",
              "      <th>1</th>\n",
              "      <td>Debêntures - Debênture simples</td>\n",
              "      <td>2025-09-15</td>\n",
              "      <td>02.919.555/0001-67</td>\n",
              "      <td>ARTERIS SA</td>\n",
              "    </tr>\n",
              "    <tr>\n",
              "      <th>2</th>\n",
              "      <td>Debêntures - Debênture simples</td>\n",
              "      <td>2022-08-15</td>\n",
              "      <td>33.000.167/0001-01</td>\n",
              "      <td>PETROLEO BRASILEIRO SA PETROBRAS</td>\n",
              "    </tr>\n",
              "    <tr>\n",
              "      <th>3</th>\n",
              "      <td>Debêntures - Debênture simples</td>\n",
              "      <td>2026-05-06</td>\n",
              "      <td>33.611.500/0001-19</td>\n",
              "      <td>GERDAU SA</td>\n",
              "    </tr>\n",
              "    <tr>\n",
              "      <th>4</th>\n",
              "      <td>Debêntures - Debênture simples</td>\n",
              "      <td>2025-11-04</td>\n",
              "      <td>19.276.528/0001-16</td>\n",
              "      <td>BCBF PARTICIPACOES S.A</td>\n",
              "    </tr>\n",
              "    <tr>\n",
              "      <th>...</th>\n",
              "      <td>...</td>\n",
              "      <td>...</td>\n",
              "      <td>...</td>\n",
              "      <td>...</td>\n",
              "    </tr>\n",
              "    <tr>\n",
              "      <th>1290</th>\n",
              "      <td>Títulos de Crédito Privado - CCB</td>\n",
              "      <td>2022-02-17</td>\n",
              "      <td>45.237.724/0001-91</td>\n",
              "      <td>J MOREIRA COMER</td>\n",
              "    </tr>\n",
              "    <tr>\n",
              "      <th>1291</th>\n",
              "      <td>Títulos de Crédito Privado - CCB</td>\n",
              "      <td>2022-12-01</td>\n",
              "      <td>09.584.001/0002-86</td>\n",
              "      <td>LUMINAE S.A.</td>\n",
              "    </tr>\n",
              "    <tr>\n",
              "      <th>1292</th>\n",
              "      <td>Debêntures - Debênture simples</td>\n",
              "      <td>2029-09-26</td>\n",
              "      <td>15.009.178/0001-70</td>\n",
              "      <td>USINAS ITAMARATI SA</td>\n",
              "    </tr>\n",
              "    <tr>\n",
              "      <th>1293</th>\n",
              "      <td>Debêntures - Debênture simples</td>\n",
              "      <td>2022-12-31</td>\n",
              "      <td>15.009.178/0001-70</td>\n",
              "      <td>USINAS ITAMARATI SA</td>\n",
              "    </tr>\n",
              "    <tr>\n",
              "      <th>1294</th>\n",
              "      <td>Debêntures - Debênture simples</td>\n",
              "      <td>2050-12-31</td>\n",
              "      <td>27.413.805/0001-13</td>\n",
              "      <td>FIRENZE S.A.</td>\n",
              "    </tr>\n",
              "  </tbody>\n",
              "</table>\n",
              "<p>1295 rows × 4 columns</p>\n",
              "</div>"
            ],
            "text/plain": [
              "                              DS_ATIVO  ...                           EMISSOR\n",
              "0       Debêntures - Debênture simples  ...     B3 SA - BRASIL, BOLSA, BALCAO\n",
              "1       Debêntures - Debênture simples  ...                        ARTERIS SA\n",
              "2       Debêntures - Debênture simples  ...  PETROLEO BRASILEIRO SA PETROBRAS\n",
              "3       Debêntures - Debênture simples  ...                         GERDAU SA\n",
              "4       Debêntures - Debênture simples  ...            BCBF PARTICIPACOES S.A\n",
              "...                                ...  ...                               ...\n",
              "1290  Títulos de Crédito Privado - CCB  ...                   J MOREIRA COMER\n",
              "1291  Títulos de Crédito Privado - CCB  ...                      LUMINAE S.A.\n",
              "1292    Debêntures - Debênture simples  ...               USINAS ITAMARATI SA\n",
              "1293    Debêntures - Debênture simples  ...               USINAS ITAMARATI SA\n",
              "1294    Debêntures - Debênture simples  ...                      FIRENZE S.A.\n",
              "\n",
              "[1295 rows x 4 columns]"
            ]
          },
          "metadata": {
            "tags": []
          },
          "execution_count": 64
        }
      ]
    },
    {
      "cell_type": "markdown",
      "metadata": {
        "id": "fiJ8LKj9rfLO"
      },
      "source": [
        "#### Investimento no Exterior"
      ]
    },
    {
      "cell_type": "code",
      "metadata": {
        "colab": {
          "base_uri": "https://localhost:8080/"
        },
        "id": "Qxq6aotkWBIo",
        "outputId": "ab555bda-10c0-47f6-ae35-447b19ac3c22"
      },
      "source": [
        "# Verifica se não há valores ausentes em EMISSOR (Nome do Emissor) \n",
        "df = investimento_exterior[investimento_exterior['EMISSOR']=='']\n",
        "print(df.empty) "
      ],
      "execution_count": null,
      "outputs": [
        {
          "output_type": "stream",
          "text": [
            "False\n"
          ],
          "name": "stdout"
        }
      ]
    },
    {
      "cell_type": "code",
      "metadata": {
        "colab": {
          "base_uri": "https://localhost:8080/",
          "height": 424
        },
        "id": "Qw79JflJVqXW",
        "outputId": "e69021f5-1a2c-4a3b-f1e9-9186d7e8849e"
      },
      "source": [
        "investimento_exterior_emissor = investimento_exterior\n",
        "investimento_exterior_emissor"
      ],
      "execution_count": null,
      "outputs": [
        {
          "output_type": "execute_result",
          "data": {
            "text/html": [
              "<div>\n",
              "<style scoped>\n",
              "    .dataframe tbody tr th:only-of-type {\n",
              "        vertical-align: middle;\n",
              "    }\n",
              "\n",
              "    .dataframe tbody tr th {\n",
              "        vertical-align: top;\n",
              "    }\n",
              "\n",
              "    .dataframe thead th {\n",
              "        text-align: right;\n",
              "    }\n",
              "</style>\n",
              "<table border=\"1\" class=\"dataframe\">\n",
              "  <thead>\n",
              "    <tr style=\"text-align: right;\">\n",
              "      <th></th>\n",
              "      <th>CD_ATIVO</th>\n",
              "      <th>BV_MERC</th>\n",
              "      <th>PAIS</th>\n",
              "      <th>DS_ATIVO</th>\n",
              "      <th>DT_VENC</th>\n",
              "      <th>EMISSOR</th>\n",
              "    </tr>\n",
              "  </thead>\n",
              "  <tbody>\n",
              "    <tr>\n",
              "      <th>0</th>\n",
              "      <td>OPPTEMP1</td>\n",
              "      <td>Outras bolsas ou mercados de balcão organizados</td>\n",
              "      <td>ESTADOS UNIDOS DA AMÉRICA</td>\n",
              "      <td>Investimento no Exterior - Outros</td>\n",
              "      <td></td>\n",
              "      <td>TEMPUS OPP 1 CLASS</td>\n",
              "    </tr>\n",
              "    <tr>\n",
              "      <th>1</th>\n",
              "      <td>BABA US</td>\n",
              "      <td>NYSE EURONEXT</td>\n",
              "      <td>ESTADOS UNIDOS DA AMÉRICA</td>\n",
              "      <td>Investimento no Exterior - Ação ordinária</td>\n",
              "      <td></td>\n",
              "      <td>ALIBABA GROUP HOLDING LTD</td>\n",
              "    </tr>\n",
              "    <tr>\n",
              "      <th>2</th>\n",
              "      <td>AMZN</td>\n",
              "      <td>NASDAQ STOCK MARKET</td>\n",
              "      <td>ESTADOS UNIDOS DA AMÉRICA</td>\n",
              "      <td>Investimento no Exterior - Ação ordinária</td>\n",
              "      <td></td>\n",
              "      <td>AMAZON.COM INC</td>\n",
              "    </tr>\n",
              "    <tr>\n",
              "      <th>3</th>\n",
              "      <td>JPMC</td>\n",
              "      <td>NYSE EURONEXT</td>\n",
              "      <td>ESTADOS UNIDOS DA AMÉRICA</td>\n",
              "      <td>Investimento no Exterior - Ação ordinária</td>\n",
              "      <td></td>\n",
              "      <td>JP MORGAN CHASE  CO.</td>\n",
              "    </tr>\n",
              "    <tr>\n",
              "      <th>4</th>\n",
              "      <td>EJ9011747</td>\n",
              "      <td>Outras bolsas ou mercados de balcão organizados</td>\n",
              "      <td>BRASIL</td>\n",
              "      <td>Investimento no Exterior - Título da Dívida Ex...</td>\n",
              "      <td>2025-01-07</td>\n",
              "      <td>GOVERNO BRASILEIRO</td>\n",
              "    </tr>\n",
              "    <tr>\n",
              "      <th>...</th>\n",
              "      <td>...</td>\n",
              "      <td>...</td>\n",
              "      <td>...</td>\n",
              "      <td>...</td>\n",
              "      <td>...</td>\n",
              "      <td>...</td>\n",
              "    </tr>\n",
              "    <tr>\n",
              "      <th>16404</th>\n",
              "      <td>5096580</td>\n",
              "      <td>Outras bolsas ou mercados de balcão organizados</td>\n",
              "      <td>ESTADOS UNIDOS DA AMÉRICA</td>\n",
              "      <td>Investimento no Exterior - Título da Dívida Ex...</td>\n",
              "      <td>2026-04-07</td>\n",
              "      <td>TESOURO NAC</td>\n",
              "    </tr>\n",
              "    <tr>\n",
              "      <th>16408</th>\n",
              "      <td>IBB US</td>\n",
              "      <td>NASDAQ STOCK MARKET</td>\n",
              "      <td>ESTADOS UNIDOS DA AMÉRICA</td>\n",
              "      <td>Investimento no Exterior - Depository Receipt ...</td>\n",
              "      <td></td>\n",
              "      <td>ISHARES NASDAQ BIOTECHNOLOGY</td>\n",
              "    </tr>\n",
              "    <tr>\n",
              "      <th>16409</th>\n",
              "      <td>IGV US</td>\n",
              "      <td>Outras bolsas ou mercados de balcão organizados</td>\n",
              "      <td>ESTADOS UNIDOS DA AMÉRICA</td>\n",
              "      <td>Investimento no Exterior - Depository Receipt ...</td>\n",
              "      <td></td>\n",
              "      <td>ISHARES NORTH AMERICAN TECH</td>\n",
              "    </tr>\n",
              "    <tr>\n",
              "      <th>16412</th>\n",
              "      <td>OKTA US</td>\n",
              "      <td>NASDAQ STOCK MARKET</td>\n",
              "      <td>ESTADOS UNIDOS DA AMÉRICA</td>\n",
              "      <td>Investimento no Exterior - Depository Receipt ...</td>\n",
              "      <td></td>\n",
              "      <td>OKTA INC</td>\n",
              "    </tr>\n",
              "    <tr>\n",
              "      <th>16418</th>\n",
              "      <td>JGP CL F</td>\n",
              "      <td>Outras bolsas ou mercados de balcão organizados</td>\n",
              "      <td>ESTADOS UNIDOS DA AMÉRICA</td>\n",
              "      <td>Investimento no Exterior - Outros</td>\n",
              "      <td></td>\n",
              "      <td>JGP OFFSHORE CLASS F</td>\n",
              "    </tr>\n",
              "  </tbody>\n",
              "</table>\n",
              "<p>7387 rows × 6 columns</p>\n",
              "</div>"
            ],
            "text/plain": [
              "        CD_ATIVO  ...                       EMISSOR\n",
              "0       OPPTEMP1  ...            TEMPUS OPP 1 CLASS\n",
              "1        BABA US  ...     ALIBABA GROUP HOLDING LTD\n",
              "2           AMZN  ...                AMAZON.COM INC\n",
              "3           JPMC  ...          JP MORGAN CHASE  CO.\n",
              "4      EJ9011747  ...            GOVERNO BRASILEIRO\n",
              "...          ...  ...                           ...\n",
              "16404    5096580  ...                   TESOURO NAC\n",
              "16408     IBB US  ...  ISHARES NASDAQ BIOTECHNOLOGY\n",
              "16409     IGV US  ...   ISHARES NORTH AMERICAN TECH\n",
              "16412    OKTA US  ...                      OKTA INC\n",
              "16418   JGP CL F  ...          JGP OFFSHORE CLASS F\n",
              "\n",
              "[7387 rows x 6 columns]"
            ]
          },
          "metadata": {
            "tags": []
          },
          "execution_count": 66
        }
      ]
    },
    {
      "cell_type": "markdown",
      "metadata": {
        "id": "whNiTCJlrot1"
      },
      "source": [
        "#### Ativos Não Codificados"
      ]
    },
    {
      "cell_type": "code",
      "metadata": {
        "colab": {
          "base_uri": "https://localhost:8080/"
        },
        "id": "QFejM0VdUbCX",
        "outputId": "91a94da3-631b-4fca-945d-bc0a93999d62"
      },
      "source": [
        "# Verifica se não há valores ausentes em CPF_CNPJ_EMISSOR \n",
        "df = ativos_nao_codificados[ativos_nao_codificados['CPF_CNPJ_EMISSOR']=='']\n",
        "print(df.empty)"
      ],
      "execution_count": null,
      "outputs": [
        {
          "output_type": "stream",
          "text": [
            "False\n"
          ],
          "name": "stdout"
        }
      ]
    },
    {
      "cell_type": "code",
      "metadata": {
        "colab": {
          "base_uri": "https://localhost:8080/",
          "height": 424
        },
        "id": "19Qb40Bzijx5",
        "outputId": "dabbcdf8-980c-430b-df8b-9989205b3e2b"
      },
      "source": [
        "# A coluna CPF_CNPJ_EMISSOR do dataframe 'nomes_emissores' será utilizada na operação de merge; por isso, os valores NaN serão preenchidos com '0'\n",
        "ativos_nao_codificados_emissor = pd.merge(ativos_nao_codificados, nomes_emissores.fillna({'CPF_CNPJ_EMISSOR': '0'}),\n",
        "                        how=\"left\", on=[\"CPF_CNPJ_EMISSOR\"])\n",
        "\n",
        "ativos_nao_codificados_emissor = ativos_nao_codificados_emissor.drop_duplicates()\n",
        "ativos_nao_codificados_emissor = ativos_nao_codificados_emissor.replace(np.nan, '', regex=True)\n",
        "\n",
        "ativos_nao_codificados_emissor"
      ],
      "execution_count": null,
      "outputs": [
        {
          "output_type": "execute_result",
          "data": {
            "text/html": [
              "<div>\n",
              "<style scoped>\n",
              "    .dataframe tbody tr th:only-of-type {\n",
              "        vertical-align: middle;\n",
              "    }\n",
              "\n",
              "    .dataframe tbody tr th {\n",
              "        vertical-align: top;\n",
              "    }\n",
              "\n",
              "    .dataframe thead th {\n",
              "        text-align: right;\n",
              "    }\n",
              "</style>\n",
              "<table border=\"1\" class=\"dataframe\">\n",
              "  <thead>\n",
              "    <tr style=\"text-align: right;\">\n",
              "      <th></th>\n",
              "      <th>DS_ATIVO</th>\n",
              "      <th>CPF_CNPJ_EMISSOR</th>\n",
              "      <th>EMISSOR</th>\n",
              "    </tr>\n",
              "  </thead>\n",
              "  <tbody>\n",
              "    <tr>\n",
              "      <th>0</th>\n",
              "      <td>Cotas de fundos de renda fixa - Cotas de fundo...</td>\n",
              "      <td></td>\n",
              "      <td></td>\n",
              "    </tr>\n",
              "    <tr>\n",
              "      <th>1</th>\n",
              "      <td>Disponibilidades - Outros - VALOR DAS DISPONIB...</td>\n",
              "      <td></td>\n",
              "      <td></td>\n",
              "    </tr>\n",
              "    <tr>\n",
              "      <th>2</th>\n",
              "      <td>Valores a pagar - Outros - VALOR A PAGAR</td>\n",
              "      <td></td>\n",
              "      <td></td>\n",
              "    </tr>\n",
              "    <tr>\n",
              "      <th>3</th>\n",
              "      <td>Disponibilidades - Outros - BANCO BRASIL CAIXA</td>\n",
              "      <td>00.000.000/0001-91</td>\n",
              "      <td>BCO BRASIL SA</td>\n",
              "    </tr>\n",
              "    <tr>\n",
              "      <th>4</th>\n",
              "      <td>Mercado Futuro - Posições compradas - Contrato...</td>\n",
              "      <td>54.641.030/0001-06</td>\n",
              "      <td>BOLSA MERCADORIAS FUTUROS BMF SA</td>\n",
              "    </tr>\n",
              "    <tr>\n",
              "      <th>...</th>\n",
              "      <td>...</td>\n",
              "      <td>...</td>\n",
              "      <td>...</td>\n",
              "    </tr>\n",
              "    <tr>\n",
              "      <th>49586</th>\n",
              "      <td>Valores a pagar - Outros - DAS AMORT</td>\n",
              "      <td>19.361.060/0001-68</td>\n",
              "      <td>FUNCINE FUNDO FINANC INDUSTRIA CINEMATOGRAFICA...</td>\n",
              "    </tr>\n",
              "    <tr>\n",
              "      <th>49587</th>\n",
              "      <td>Valores a pagar - Outros - ELA DISSE</td>\n",
              "      <td>19.361.060/0001-68</td>\n",
              "      <td>FUNCINE FUNDO FINANC INDUSTRIA CINEMATOGRAFICA...</td>\n",
              "    </tr>\n",
              "    <tr>\n",
              "      <th>49588</th>\n",
              "      <td>Valores a pagar - Outros - INVESTIMENTO FUNCINE</td>\n",
              "      <td></td>\n",
              "      <td></td>\n",
              "    </tr>\n",
              "    <tr>\n",
              "      <th>49589</th>\n",
              "      <td>Valores a pagar - Outros - POP</td>\n",
              "      <td>19.361.060/0001-68</td>\n",
              "      <td>FUNCINE FUNDO FINANC INDUSTRIA CINEMATOGRAFICA...</td>\n",
              "    </tr>\n",
              "    <tr>\n",
              "      <th>49590</th>\n",
              "      <td>Valores a pagar - Outros - TAXA GESTAO PROVISAO</td>\n",
              "      <td></td>\n",
              "      <td></td>\n",
              "    </tr>\n",
              "  </tbody>\n",
              "</table>\n",
              "<p>49591 rows × 3 columns</p>\n",
              "</div>"
            ],
            "text/plain": [
              "                                                DS_ATIVO  ...                                            EMISSOR\n",
              "0      Cotas de fundos de renda fixa - Cotas de fundo...  ...                                                   \n",
              "1      Disponibilidades - Outros - VALOR DAS DISPONIB...  ...                                                   \n",
              "2               Valores a pagar - Outros - VALOR A PAGAR  ...                                                   \n",
              "3         Disponibilidades - Outros - BANCO BRASIL CAIXA  ...                                      BCO BRASIL SA\n",
              "4      Mercado Futuro - Posições compradas - Contrato...  ...                   BOLSA MERCADORIAS FUTUROS BMF SA\n",
              "...                                                  ...  ...                                                ...\n",
              "49586               Valores a pagar - Outros - DAS AMORT  ...  FUNCINE FUNDO FINANC INDUSTRIA CINEMATOGRAFICA...\n",
              "49587               Valores a pagar - Outros - ELA DISSE  ...  FUNCINE FUNDO FINANC INDUSTRIA CINEMATOGRAFICA...\n",
              "49588    Valores a pagar - Outros - INVESTIMENTO FUNCINE  ...                                                   \n",
              "49589                     Valores a pagar - Outros - POP  ...  FUNCINE FUNDO FINANC INDUSTRIA CINEMATOGRAFICA...\n",
              "49590    Valores a pagar - Outros - TAXA GESTAO PROVISAO  ...                                                   \n",
              "\n",
              "[49591 rows x 3 columns]"
            ]
          },
          "metadata": {
            "tags": []
          },
          "execution_count": 68
        }
      ]
    },
    {
      "cell_type": "markdown",
      "metadata": {
        "id": "8FhWUN8w3oin"
      },
      "source": [
        "### Aplicações\n"
      ]
    },
    {
      "cell_type": "markdown",
      "metadata": {
        "id": "G6y_20OFh_xd"
      },
      "source": [
        "#### Títulos Públicos"
      ]
    },
    {
      "cell_type": "code",
      "metadata": {
        "colab": {
          "base_uri": "https://localhost:8080/",
          "height": 424
        },
        "id": "TG67J4FhiBQM",
        "outputId": "a130b6ae-4963-46dc-a49d-2b4355a8854b"
      },
      "source": [
        "aplic_cda1 = pd.merge(cda1, cda0,\n",
        "                        how=\"inner\", on=[\"CNPJ_FUNDO\"])\n",
        "\n",
        "aplic_cda1['PR_PATRIM_LIQ'] = aplic_cda1.apply(lambda row: pr_patrim_liq(row), axis=1)\n",
        "aplic_cda1 = aplic_cda1.drop(['TP_APLIC'], axis=1)\n",
        "\n",
        "aplic_cda1 = aplic_cda1.fillna('')\n",
        "aplic_cda1"
      ],
      "execution_count": null,
      "outputs": [
        {
          "output_type": "execute_result",
          "data": {
            "text/html": [
              "<div>\n",
              "<style scoped>\n",
              "    .dataframe tbody tr th:only-of-type {\n",
              "        vertical-align: middle;\n",
              "    }\n",
              "\n",
              "    .dataframe tbody tr th {\n",
              "        vertical-align: top;\n",
              "    }\n",
              "\n",
              "    .dataframe thead th {\n",
              "        text-align: right;\n",
              "    }\n",
              "</style>\n",
              "<table border=\"1\" class=\"dataframe\">\n",
              "  <thead>\n",
              "    <tr style=\"text-align: right;\">\n",
              "      <th></th>\n",
              "      <th>CNPJ_FUNDO</th>\n",
              "      <th>VL_APLIC</th>\n",
              "      <th>CD_ISIN</th>\n",
              "      <th>DS_ATIVO</th>\n",
              "      <th>DT_VENC</th>\n",
              "      <th>VL_PATRIM_LIQ</th>\n",
              "      <th>PR_PATRIM_LIQ</th>\n",
              "    </tr>\n",
              "  </thead>\n",
              "  <tbody>\n",
              "    <tr>\n",
              "      <th>0</th>\n",
              "      <td>02.010.153/0001-45</td>\n",
              "      <td>856146.22</td>\n",
              "      <td>BRSTNCLF1R74</td>\n",
              "      <td>LETRAS FINANCEIRAS DO TESOURO</td>\n",
              "      <td>2022-09-01</td>\n",
              "      <td>17079539.69</td>\n",
              "      <td>5.013</td>\n",
              "    </tr>\n",
              "    <tr>\n",
              "      <th>1</th>\n",
              "      <td>02.010.153/0001-45</td>\n",
              "      <td>4355691.07</td>\n",
              "      <td>BRSTNCNTF1P8</td>\n",
              "      <td>NOTAS DO TESOURO NACIONAL - SERIE F</td>\n",
              "      <td>2027-01-01</td>\n",
              "      <td>17079539.69</td>\n",
              "      <td>25.502</td>\n",
              "    </tr>\n",
              "    <tr>\n",
              "      <th>2</th>\n",
              "      <td>02.010.153/0001-45</td>\n",
              "      <td>7055241.89</td>\n",
              "      <td>BRSTNCLTN7O0</td>\n",
              "      <td>LETRAS DO TESOURO NACIONAL</td>\n",
              "      <td>2022-07-01</td>\n",
              "      <td>17079539.69</td>\n",
              "      <td>41.308</td>\n",
              "    </tr>\n",
              "    <tr>\n",
              "      <th>3</th>\n",
              "      <td>02.010.153/0001-45</td>\n",
              "      <td>26512.28</td>\n",
              "      <td>BRSTNCNTB4O9</td>\n",
              "      <td>NOTAS DO TESOURO NACIONAL SERIE B</td>\n",
              "      <td>2023-05-15</td>\n",
              "      <td>17079539.69</td>\n",
              "      <td>0.155</td>\n",
              "    </tr>\n",
              "    <tr>\n",
              "      <th>4</th>\n",
              "      <td>02.010.153/0001-45</td>\n",
              "      <td>1265516.96</td>\n",
              "      <td>BRSTNCNTB096</td>\n",
              "      <td>NOTAS DO TESOURO NACIONAL SERIE B</td>\n",
              "      <td>2024-08-15</td>\n",
              "      <td>17079539.69</td>\n",
              "      <td>7.410</td>\n",
              "    </tr>\n",
              "    <tr>\n",
              "      <th>...</th>\n",
              "      <td>...</td>\n",
              "      <td>...</td>\n",
              "      <td>...</td>\n",
              "      <td>...</td>\n",
              "      <td>...</td>\n",
              "      <td>...</td>\n",
              "      <td>...</td>\n",
              "    </tr>\n",
              "    <tr>\n",
              "      <th>36121</th>\n",
              "      <td>04.573.850/0001-30</td>\n",
              "      <td>343578.84</td>\n",
              "      <td>BRSTNCLF1R58</td>\n",
              "      <td>LETRAS FINANCEIRAS DO TESOURO</td>\n",
              "      <td>2021-09-01</td>\n",
              "      <td>1531828.38</td>\n",
              "      <td>22.429</td>\n",
              "    </tr>\n",
              "    <tr>\n",
              "      <th>36122</th>\n",
              "      <td>04.602.186/0001-00</td>\n",
              "      <td>96631.38</td>\n",
              "      <td>BRSTNCLF1R58</td>\n",
              "      <td>LETRAS FINANCEIRAS DO TESOURO</td>\n",
              "      <td>2021-09-01</td>\n",
              "      <td>745123.56</td>\n",
              "      <td>12.969</td>\n",
              "    </tr>\n",
              "    <tr>\n",
              "      <th>36123</th>\n",
              "      <td>11.179.262/0001-81</td>\n",
              "      <td>375927.98</td>\n",
              "      <td>BRSTNCLF1R41</td>\n",
              "      <td>LETRAS FINANCEIRAS DO TESOURO</td>\n",
              "      <td>2021-03-01</td>\n",
              "      <td>1780896.83</td>\n",
              "      <td>21.109</td>\n",
              "    </tr>\n",
              "    <tr>\n",
              "      <th>36124</th>\n",
              "      <td>11.179.262/0001-81</td>\n",
              "      <td>798183.28</td>\n",
              "      <td>BRSTNCLF1RC4</td>\n",
              "      <td>LETRAS FINANCEIRAS DO TESOURO</td>\n",
              "      <td>2025-03-01</td>\n",
              "      <td>1780896.83</td>\n",
              "      <td>44.819</td>\n",
              "    </tr>\n",
              "    <tr>\n",
              "      <th>36125</th>\n",
              "      <td>11.179.262/0001-81</td>\n",
              "      <td>382614.41</td>\n",
              "      <td>BRSTNCLF1RD2</td>\n",
              "      <td>LETRAS FINANCEIRAS DO TESOURO</td>\n",
              "      <td>2025-09-01</td>\n",
              "      <td>1780896.83</td>\n",
              "      <td>21.484</td>\n",
              "    </tr>\n",
              "  </tbody>\n",
              "</table>\n",
              "<p>36126 rows × 7 columns</p>\n",
              "</div>"
            ],
            "text/plain": [
              "               CNPJ_FUNDO    VL_APLIC  ... VL_PATRIM_LIQ PR_PATRIM_LIQ\n",
              "0      02.010.153/0001-45   856146.22  ...   17079539.69         5.013\n",
              "1      02.010.153/0001-45  4355691.07  ...   17079539.69        25.502\n",
              "2      02.010.153/0001-45  7055241.89  ...   17079539.69        41.308\n",
              "3      02.010.153/0001-45    26512.28  ...   17079539.69         0.155\n",
              "4      02.010.153/0001-45  1265516.96  ...   17079539.69         7.410\n",
              "...                   ...         ...  ...           ...           ...\n",
              "36121  04.573.850/0001-30   343578.84  ...    1531828.38        22.429\n",
              "36122  04.602.186/0001-00    96631.38  ...     745123.56        12.969\n",
              "36123  11.179.262/0001-81   375927.98  ...    1780896.83        21.109\n",
              "36124  11.179.262/0001-81   798183.28  ...    1780896.83        44.819\n",
              "36125  11.179.262/0001-81   382614.41  ...    1780896.83        21.484\n",
              "\n",
              "[36126 rows x 7 columns]"
            ]
          },
          "metadata": {
            "tags": []
          },
          "execution_count": 69
        }
      ]
    },
    {
      "cell_type": "markdown",
      "metadata": {
        "id": "ZbxmWWmCORSe"
      },
      "source": [
        "#### Cotas de Fundos"
      ]
    },
    {
      "cell_type": "code",
      "metadata": {
        "colab": {
          "base_uri": "https://localhost:8080/",
          "height": 424
        },
        "id": "E0xOtki5Oc4O",
        "outputId": "5e7636b8-d944-445a-b212-07179a26f8df"
      },
      "source": [
        "aplic_cda2 = pd.merge(cda2, cda0,\n",
        "                        how=\"inner\", on=[\"CNPJ_FUNDO\"])\n",
        "\n",
        "aplic_cda2['PR_PATRIM_LIQ'] = aplic_cda2.apply(lambda row: pr_patrim_liq(row), axis=1)\n",
        "aplic_cda2 = aplic_cda2.drop(['TP_APLIC'], axis=1)\n",
        "\n",
        "aplic_cda2"
      ],
      "execution_count": null,
      "outputs": [
        {
          "output_type": "execute_result",
          "data": {
            "text/html": [
              "<div>\n",
              "<style scoped>\n",
              "    .dataframe tbody tr th:only-of-type {\n",
              "        vertical-align: middle;\n",
              "    }\n",
              "\n",
              "    .dataframe tbody tr th {\n",
              "        vertical-align: top;\n",
              "    }\n",
              "\n",
              "    .dataframe thead th {\n",
              "        text-align: right;\n",
              "    }\n",
              "</style>\n",
              "<table border=\"1\" class=\"dataframe\">\n",
              "  <thead>\n",
              "    <tr style=\"text-align: right;\">\n",
              "      <th></th>\n",
              "      <th>CNPJ_FUNDO</th>\n",
              "      <th>VL_APLIC</th>\n",
              "      <th>CNPJ_FUNDO_COTA</th>\n",
              "      <th>VL_PATRIM_LIQ</th>\n",
              "      <th>PR_PATRIM_LIQ</th>\n",
              "    </tr>\n",
              "  </thead>\n",
              "  <tbody>\n",
              "    <tr>\n",
              "      <th>0</th>\n",
              "      <td>00.068.305/0001-35</td>\n",
              "      <td>46221487.84</td>\n",
              "      <td>08.046.417/0001-05</td>\n",
              "      <td>46185716.51</td>\n",
              "      <td>100.077</td>\n",
              "    </tr>\n",
              "    <tr>\n",
              "      <th>1</th>\n",
              "      <td>00.071.477/0001-68</td>\n",
              "      <td>33160782612.92</td>\n",
              "      <td>01.608.573/0001-65</td>\n",
              "      <td>33158268505.98</td>\n",
              "      <td>100.008</td>\n",
              "    </tr>\n",
              "    <tr>\n",
              "      <th>2</th>\n",
              "      <td>00.083.181/0001-67</td>\n",
              "      <td>147100863.98</td>\n",
              "      <td>01.235.622/0001-61</td>\n",
              "      <td>15519640726.95</td>\n",
              "      <td>0.948</td>\n",
              "    </tr>\n",
              "    <tr>\n",
              "      <th>3</th>\n",
              "      <td>00.083.181/0001-67</td>\n",
              "      <td>216970194.57</td>\n",
              "      <td>10.597.218/0001-29</td>\n",
              "      <td>15519640726.95</td>\n",
              "      <td>1.398</td>\n",
              "    </tr>\n",
              "    <tr>\n",
              "      <th>4</th>\n",
              "      <td>00.083.181/0001-67</td>\n",
              "      <td>1915404901.42</td>\n",
              "      <td>08.277.553/0001-06</td>\n",
              "      <td>15519640726.95</td>\n",
              "      <td>12.342</td>\n",
              "    </tr>\n",
              "    <tr>\n",
              "      <th>...</th>\n",
              "      <td>...</td>\n",
              "      <td>...</td>\n",
              "      <td>...</td>\n",
              "      <td>...</td>\n",
              "      <td>...</td>\n",
              "    </tr>\n",
              "    <tr>\n",
              "      <th>140422</th>\n",
              "      <td>35.812.806/0001-69</td>\n",
              "      <td>625672.97</td>\n",
              "      <td>32.625.186/0001-60</td>\n",
              "      <td>1746304.69</td>\n",
              "      <td>35.828</td>\n",
              "    </tr>\n",
              "    <tr>\n",
              "      <th>140423</th>\n",
              "      <td>35.812.806/0001-69</td>\n",
              "      <td>1095871.64</td>\n",
              "      <td>08.915.927/0001-63</td>\n",
              "      <td>1746304.69</td>\n",
              "      <td>62.754</td>\n",
              "    </tr>\n",
              "    <tr>\n",
              "      <th>140424</th>\n",
              "      <td>38.068.651/0001-96</td>\n",
              "      <td>10990110.21</td>\n",
              "      <td>09.577.447/0001-00</td>\n",
              "      <td>14989279.21</td>\n",
              "      <td>73.320</td>\n",
              "    </tr>\n",
              "    <tr>\n",
              "      <th>140425</th>\n",
              "      <td>04.604.594/0001-09</td>\n",
              "      <td>537758.38</td>\n",
              "      <td>00.840.011/0001-80</td>\n",
              "      <td>34512288.76</td>\n",
              "      <td>1.558</td>\n",
              "    </tr>\n",
              "    <tr>\n",
              "      <th>140426</th>\n",
              "      <td>11.179.262/0001-81</td>\n",
              "      <td>65048.86</td>\n",
              "      <td>26.740.437/0001-55</td>\n",
              "      <td>1780896.83</td>\n",
              "      <td>3.653</td>\n",
              "    </tr>\n",
              "  </tbody>\n",
              "</table>\n",
              "<p>140427 rows × 5 columns</p>\n",
              "</div>"
            ],
            "text/plain": [
              "                CNPJ_FUNDO        VL_APLIC  ...   VL_PATRIM_LIQ PR_PATRIM_LIQ\n",
              "0       00.068.305/0001-35     46221487.84  ...     46185716.51       100.077\n",
              "1       00.071.477/0001-68  33160782612.92  ...  33158268505.98       100.008\n",
              "2       00.083.181/0001-67    147100863.98  ...  15519640726.95         0.948\n",
              "3       00.083.181/0001-67    216970194.57  ...  15519640726.95         1.398\n",
              "4       00.083.181/0001-67   1915404901.42  ...  15519640726.95        12.342\n",
              "...                    ...             ...  ...             ...           ...\n",
              "140422  35.812.806/0001-69       625672.97  ...      1746304.69        35.828\n",
              "140423  35.812.806/0001-69      1095871.64  ...      1746304.69        62.754\n",
              "140424  38.068.651/0001-96     10990110.21  ...     14989279.21        73.320\n",
              "140425  04.604.594/0001-09       537758.38  ...     34512288.76         1.558\n",
              "140426  11.179.262/0001-81        65048.86  ...      1780896.83         3.653\n",
              "\n",
              "[140427 rows x 5 columns]"
            ]
          },
          "metadata": {
            "tags": []
          },
          "execution_count": 71
        }
      ]
    },
    {
      "cell_type": "code",
      "metadata": {
        "colab": {
          "base_uri": "https://localhost:8080/"
        },
        "id": "xIsz4hG1PDL1",
        "outputId": "4fff776d-bd4b-414b-ab6a-11ea37cad7bd"
      },
      "source": [
        "# Verificar se não há valores ausentes ('missing values') no dataset\n",
        "print(aplic_cda2.isnull().sum().sum()==0)"
      ],
      "execution_count": null,
      "outputs": [
        {
          "output_type": "stream",
          "text": [
            "True\n"
          ],
          "name": "stdout"
        }
      ]
    },
    {
      "cell_type": "markdown",
      "metadata": {
        "id": "VA9g2CiN51wW"
      },
      "source": [
        "#### SWAP"
      ]
    },
    {
      "cell_type": "code",
      "metadata": {
        "colab": {
          "base_uri": "https://localhost:8080/",
          "height": 424
        },
        "id": "4kbUXu_P48Cm",
        "outputId": "dffb5876-d5c0-4c92-feea-cf7f4e3c3259"
      },
      "source": [
        "aplic_cda3 = pd.merge(cda3, cda0,\n",
        "                        how=\"inner\", on=[\"CNPJ_FUNDO\"])\n",
        "\n",
        "aplic_cda3['PR_PATRIM_LIQ'] = aplic_cda3.apply(lambda row: pr_patrim_liq(row), axis=1)\n",
        "aplic_cda3 = aplic_cda3.drop(['TP_APLIC'], axis=1)\n",
        "aplic_cda3 = aplic_cda3.drop(['CD_SWAP'], axis=1)\n",
        "\n",
        "aplic_cda3 = aplic_cda3.fillna('')\n",
        "aplic_cda3"
      ],
      "execution_count": null,
      "outputs": [
        {
          "output_type": "execute_result",
          "data": {
            "text/html": [
              "<div>\n",
              "<style scoped>\n",
              "    .dataframe tbody tr th:only-of-type {\n",
              "        vertical-align: middle;\n",
              "    }\n",
              "\n",
              "    .dataframe tbody tr th {\n",
              "        vertical-align: top;\n",
              "    }\n",
              "\n",
              "    .dataframe thead th {\n",
              "        text-align: right;\n",
              "    }\n",
              "</style>\n",
              "<table border=\"1\" class=\"dataframe\">\n",
              "  <thead>\n",
              "    <tr style=\"text-align: right;\">\n",
              "      <th></th>\n",
              "      <th>CNPJ_FUNDO</th>\n",
              "      <th>VL_APLIC</th>\n",
              "      <th>CD_ATIVO</th>\n",
              "      <th>VL_PATRIM_LIQ</th>\n",
              "      <th>PR_PATRIM_LIQ</th>\n",
              "    </tr>\n",
              "  </thead>\n",
              "  <tbody>\n",
              "    <tr>\n",
              "      <th>0</th>\n",
              "      <td>01.622.154/0001-88</td>\n",
              "      <td>6828519.25</td>\n",
              "      <td>DI1 X IAP</td>\n",
              "      <td>580595719.75</td>\n",
              "      <td>-1.176</td>\n",
              "    </tr>\n",
              "    <tr>\n",
              "      <th>1</th>\n",
              "      <td>01.630.152/0001-30</td>\n",
              "      <td>894505.58</td>\n",
              "      <td>DI1 X IAP</td>\n",
              "      <td>443673958.28</td>\n",
              "      <td>-0.202</td>\n",
              "    </tr>\n",
              "    <tr>\n",
              "      <th>2</th>\n",
              "      <td>02.885.730/0001-42</td>\n",
              "      <td>1692176.12</td>\n",
              "      <td>DI1 X PRE</td>\n",
              "      <td>15070836923.81</td>\n",
              "      <td>-0.011</td>\n",
              "    </tr>\n",
              "    <tr>\n",
              "      <th>3</th>\n",
              "      <td>02.885.730/0001-42</td>\n",
              "      <td>26696957.76</td>\n",
              "      <td>DI1 X PRE</td>\n",
              "      <td>15070836923.81</td>\n",
              "      <td>0.177</td>\n",
              "    </tr>\n",
              "    <tr>\n",
              "      <th>4</th>\n",
              "      <td>03.191.766/0001-99</td>\n",
              "      <td>604648.44</td>\n",
              "      <td>DI1 X PRE</td>\n",
              "      <td>521985181.54</td>\n",
              "      <td>-0.116</td>\n",
              "    </tr>\n",
              "    <tr>\n",
              "      <th>...</th>\n",
              "      <td>...</td>\n",
              "      <td>...</td>\n",
              "      <td>...</td>\n",
              "      <td>...</td>\n",
              "      <td>...</td>\n",
              "    </tr>\n",
              "    <tr>\n",
              "      <th>135</th>\n",
              "      <td>71.586.432/0001-74</td>\n",
              "      <td>18201959.17</td>\n",
              "      <td>DI1 X IAP</td>\n",
              "      <td>1659805407.79</td>\n",
              "      <td>-1.097</td>\n",
              "    </tr>\n",
              "    <tr>\n",
              "      <th>136</th>\n",
              "      <td>71.586.432/0001-74</td>\n",
              "      <td>5020953.97</td>\n",
              "      <td>DI1 X IAP</td>\n",
              "      <td>1659805407.79</td>\n",
              "      <td>0.303</td>\n",
              "    </tr>\n",
              "    <tr>\n",
              "      <th>137</th>\n",
              "      <td>02.727.085/0001-30</td>\n",
              "      <td>0.00</td>\n",
              "      <td>DI1 X PRE</td>\n",
              "      <td>828814.34</td>\n",
              "      <td>0.000</td>\n",
              "    </tr>\n",
              "    <tr>\n",
              "      <th>138</th>\n",
              "      <td>03.919.474/0001-20</td>\n",
              "      <td>0.00</td>\n",
              "      <td>DI1 X PRE</td>\n",
              "      <td>2049454.34</td>\n",
              "      <td>0.000</td>\n",
              "    </tr>\n",
              "    <tr>\n",
              "      <th>139</th>\n",
              "      <td>04.894.428/0001-86</td>\n",
              "      <td>0.00</td>\n",
              "      <td>DI1 X PRE</td>\n",
              "      <td>5537430.69</td>\n",
              "      <td>0.000</td>\n",
              "    </tr>\n",
              "  </tbody>\n",
              "</table>\n",
              "<p>140 rows × 5 columns</p>\n",
              "</div>"
            ],
            "text/plain": [
              "             CNPJ_FUNDO     VL_APLIC   CD_ATIVO   VL_PATRIM_LIQ  PR_PATRIM_LIQ\n",
              "0    01.622.154/0001-88   6828519.25  DI1 X IAP    580595719.75         -1.176\n",
              "1    01.630.152/0001-30    894505.58  DI1 X IAP    443673958.28         -0.202\n",
              "2    02.885.730/0001-42   1692176.12  DI1 X PRE  15070836923.81         -0.011\n",
              "3    02.885.730/0001-42  26696957.76  DI1 X PRE  15070836923.81          0.177\n",
              "4    03.191.766/0001-99    604648.44  DI1 X PRE    521985181.54         -0.116\n",
              "..                  ...          ...        ...             ...            ...\n",
              "135  71.586.432/0001-74  18201959.17  DI1 X IAP   1659805407.79         -1.097\n",
              "136  71.586.432/0001-74   5020953.97  DI1 X IAP   1659805407.79          0.303\n",
              "137  02.727.085/0001-30         0.00  DI1 X PRE       828814.34          0.000\n",
              "138  03.919.474/0001-20         0.00  DI1 X PRE      2049454.34          0.000\n",
              "139  04.894.428/0001-86         0.00  DI1 X PRE      5537430.69          0.000\n",
              "\n",
              "[140 rows x 5 columns]"
            ]
          },
          "metadata": {
            "tags": []
          },
          "execution_count": 73
        }
      ]
    },
    {
      "cell_type": "markdown",
      "metadata": {
        "id": "lKSOVSgV5-D2"
      },
      "source": [
        "#### Ativos Codificados"
      ]
    },
    {
      "cell_type": "code",
      "metadata": {
        "colab": {
          "base_uri": "https://localhost:8080/",
          "height": 424
        },
        "id": "e3pvQ4Bm3l4n",
        "outputId": "fa745340-2477-482b-8d50-4fbbc7b60021"
      },
      "source": [
        "aplic_cda4 = pd.merge(cda4, cda0,\n",
        "                        how=\"inner\", on=[\"CNPJ_FUNDO\"])\n",
        "\n",
        "aplic_cda4['PR_PATRIM_LIQ'] = aplic_cda4.apply(lambda row: pr_patrim_liq(row), axis=1)\n",
        "aplic_cda4 = aplic_cda4.drop(['TP_APLIC'], axis=1)\n",
        "\n",
        "aplic_cda4 = aplic_cda4.fillna('')\n",
        "aplic_cda4"
      ],
      "execution_count": null,
      "outputs": [
        {
          "output_type": "execute_result",
          "data": {
            "text/html": [
              "<div>\n",
              "<style scoped>\n",
              "    .dataframe tbody tr th:only-of-type {\n",
              "        vertical-align: middle;\n",
              "    }\n",
              "\n",
              "    .dataframe tbody tr th {\n",
              "        vertical-align: top;\n",
              "    }\n",
              "\n",
              "    .dataframe thead th {\n",
              "        text-align: right;\n",
              "    }\n",
              "</style>\n",
              "<table border=\"1\" class=\"dataframe\">\n",
              "  <thead>\n",
              "    <tr style=\"text-align: right;\">\n",
              "      <th></th>\n",
              "      <th>CNPJ_FUNDO</th>\n",
              "      <th>VL_APLIC</th>\n",
              "      <th>CD_ISIN</th>\n",
              "      <th>CD_ATIVO</th>\n",
              "      <th>DS_ATIVO</th>\n",
              "      <th>VL_PATRIM_LIQ</th>\n",
              "      <th>PR_PATRIM_LIQ</th>\n",
              "    </tr>\n",
              "  </thead>\n",
              "  <tbody>\n",
              "    <tr>\n",
              "      <th>0</th>\n",
              "      <td>02.010.153/0001-45</td>\n",
              "      <td>168985.61</td>\n",
              "      <td>BRUGPADBS067</td>\n",
              "      <td>UGPA16</td>\n",
              "      <td>Debênture simples</td>\n",
              "      <td>17079539.69</td>\n",
              "      <td>0.989</td>\n",
              "    </tr>\n",
              "    <tr>\n",
              "      <th>1</th>\n",
              "      <td>02.010.153/0001-45</td>\n",
              "      <td>601192.92</td>\n",
              "      <td>BRVIVTDBS069</td>\n",
              "      <td>VIVT15</td>\n",
              "      <td>Debênture simples</td>\n",
              "      <td>17079539.69</td>\n",
              "      <td>3.520</td>\n",
              "    </tr>\n",
              "    <tr>\n",
              "      <th>2</th>\n",
              "      <td>02.010.153/0001-45</td>\n",
              "      <td>175872.88</td>\n",
              "      <td>BRPCARDBS0B7</td>\n",
              "      <td>CBRDA5</td>\n",
              "      <td>Debênture simples</td>\n",
              "      <td>17079539.69</td>\n",
              "      <td>1.030</td>\n",
              "    </tr>\n",
              "    <tr>\n",
              "      <th>3</th>\n",
              "      <td>02.010.153/0001-45</td>\n",
              "      <td>53493.45</td>\n",
              "      <td>BRCMGDDBS033</td>\n",
              "      <td>CMDT23</td>\n",
              "      <td>Debênture simples</td>\n",
              "      <td>17079539.69</td>\n",
              "      <td>0.313</td>\n",
              "    </tr>\n",
              "    <tr>\n",
              "      <th>4</th>\n",
              "      <td>02.010.153/0001-45</td>\n",
              "      <td>314354.45</td>\n",
              "      <td>BRIGTADBS049</td>\n",
              "      <td>IGTA24</td>\n",
              "      <td>Debênture simples</td>\n",
              "      <td>17079539.69</td>\n",
              "      <td>1.841</td>\n",
              "    </tr>\n",
              "    <tr>\n",
              "      <th>...</th>\n",
              "      <td>...</td>\n",
              "      <td>...</td>\n",
              "      <td>...</td>\n",
              "      <td>...</td>\n",
              "      <td>...</td>\n",
              "      <td>...</td>\n",
              "      <td>...</td>\n",
              "    </tr>\n",
              "    <tr>\n",
              "      <th>89332</th>\n",
              "      <td>04.609.212/0001-21</td>\n",
              "      <td>12546.60</td>\n",
              "      <td>BRAZULACNPR4</td>\n",
              "      <td>AZUL4</td>\n",
              "      <td>Ação preferencial</td>\n",
              "      <td>1686446.84</td>\n",
              "      <td>0.744</td>\n",
              "    </tr>\n",
              "    <tr>\n",
              "      <th>89333</th>\n",
              "      <td>04.609.212/0001-21</td>\n",
              "      <td>6224.68</td>\n",
              "      <td>BRTAEECDAM10</td>\n",
              "      <td>TAEE11</td>\n",
              "      <td>Certificado de depósito de ações</td>\n",
              "      <td>1686446.84</td>\n",
              "      <td>0.369</td>\n",
              "    </tr>\n",
              "    <tr>\n",
              "      <th>89334</th>\n",
              "      <td>04.609.212/0001-21</td>\n",
              "      <td>16090.65</td>\n",
              "      <td>BRSANBCDAM13</td>\n",
              "      <td>SANB11</td>\n",
              "      <td>Certificado de depósito de ações</td>\n",
              "      <td>1686446.84</td>\n",
              "      <td>0.954</td>\n",
              "    </tr>\n",
              "    <tr>\n",
              "      <th>89335</th>\n",
              "      <td>04.609.212/0001-21</td>\n",
              "      <td>13618.44</td>\n",
              "      <td>BRKLBNCDAM18</td>\n",
              "      <td>KLBN11</td>\n",
              "      <td>Certificado de depósito de ações</td>\n",
              "      <td>1686446.84</td>\n",
              "      <td>0.808</td>\n",
              "    </tr>\n",
              "    <tr>\n",
              "      <th>89336</th>\n",
              "      <td>04.609.212/0001-21</td>\n",
              "      <td>177.50</td>\n",
              "      <td>BRCVCBN01OR5</td>\n",
              "      <td>CVCB11</td>\n",
              "      <td>Bônus de subscrição</td>\n",
              "      <td>1686446.84</td>\n",
              "      <td>0.011</td>\n",
              "    </tr>\n",
              "  </tbody>\n",
              "</table>\n",
              "<p>89337 rows × 7 columns</p>\n",
              "</div>"
            ],
            "text/plain": [
              "               CNPJ_FUNDO   VL_APLIC  ... VL_PATRIM_LIQ PR_PATRIM_LIQ\n",
              "0      02.010.153/0001-45  168985.61  ...   17079539.69         0.989\n",
              "1      02.010.153/0001-45  601192.92  ...   17079539.69         3.520\n",
              "2      02.010.153/0001-45  175872.88  ...   17079539.69         1.030\n",
              "3      02.010.153/0001-45   53493.45  ...   17079539.69         0.313\n",
              "4      02.010.153/0001-45  314354.45  ...   17079539.69         1.841\n",
              "...                   ...        ...  ...           ...           ...\n",
              "89332  04.609.212/0001-21   12546.60  ...    1686446.84         0.744\n",
              "89333  04.609.212/0001-21    6224.68  ...    1686446.84         0.369\n",
              "89334  04.609.212/0001-21   16090.65  ...    1686446.84         0.954\n",
              "89335  04.609.212/0001-21   13618.44  ...    1686446.84         0.808\n",
              "89336  04.609.212/0001-21     177.50  ...    1686446.84         0.011\n",
              "\n",
              "[89337 rows x 7 columns]"
            ]
          },
          "metadata": {
            "tags": []
          },
          "execution_count": 74
        }
      ]
    },
    {
      "cell_type": "markdown",
      "metadata": {
        "id": "vKEfztL16Dje"
      },
      "source": [
        "#### Depósitos a Prazo"
      ]
    },
    {
      "cell_type": "code",
      "metadata": {
        "colab": {
          "base_uri": "https://localhost:8080/",
          "height": 424
        },
        "id": "cKT-udxL6e8-",
        "outputId": "c5e63036-19b5-44e3-b55b-890aae57f2a4"
      },
      "source": [
        "aplic_cda5 = pd.merge(cda5, cda0,\n",
        "                        how=\"inner\", on=[\"CNPJ_FUNDO\"])\n",
        "\n",
        "aplic_cda5['PR_PATRIM_LIQ'] = aplic_cda5.apply(lambda row: pr_patrim_liq(row), axis=1)\n",
        "aplic_cda5 = aplic_cda5.drop(['TP_APLIC'], axis=1)\n",
        "aplic_cda5 = aplic_cda5.drop(['EMISSOR'], axis=1)\n",
        "\n",
        "aplic_cda5 = aplic_cda5.fillna('')\n",
        "aplic_cda5"
      ],
      "execution_count": null,
      "outputs": [
        {
          "output_type": "execute_result",
          "data": {
            "text/html": [
              "<div>\n",
              "<style scoped>\n",
              "    .dataframe tbody tr th:only-of-type {\n",
              "        vertical-align: middle;\n",
              "    }\n",
              "\n",
              "    .dataframe tbody tr th {\n",
              "        vertical-align: top;\n",
              "    }\n",
              "\n",
              "    .dataframe thead th {\n",
              "        text-align: right;\n",
              "    }\n",
              "</style>\n",
              "<table border=\"1\" class=\"dataframe\">\n",
              "  <thead>\n",
              "    <tr style=\"text-align: right;\">\n",
              "      <th></th>\n",
              "      <th>CNPJ_FUNDO</th>\n",
              "      <th>VL_APLIC</th>\n",
              "      <th>DT_VENC</th>\n",
              "      <th>CPF_CNPJ_EMISSOR</th>\n",
              "      <th>DS_ATIVO</th>\n",
              "      <th>VL_PATRIM_LIQ</th>\n",
              "      <th>PR_PATRIM_LIQ</th>\n",
              "    </tr>\n",
              "  </thead>\n",
              "  <tbody>\n",
              "    <tr>\n",
              "      <th>0</th>\n",
              "      <td>03.564.825/0001-27</td>\n",
              "      <td>2702144.40</td>\n",
              "      <td>2022-07-15</td>\n",
              "      <td>60.701.190/0001-04</td>\n",
              "      <td>Depósitos a prazo e outros títulos de IF - Let...</td>\n",
              "      <td>91049383.74</td>\n",
              "      <td>2.968</td>\n",
              "    </tr>\n",
              "    <tr>\n",
              "      <th>1</th>\n",
              "      <td>03.564.825/0001-27</td>\n",
              "      <td>2556455.90</td>\n",
              "      <td>2022-09-15</td>\n",
              "      <td>60.746.948/0001-12</td>\n",
              "      <td>Depósitos a prazo e outros títulos de IF - Let...</td>\n",
              "      <td>91049383.74</td>\n",
              "      <td>2.808</td>\n",
              "    </tr>\n",
              "    <tr>\n",
              "      <th>2</th>\n",
              "      <td>03.564.825/0001-27</td>\n",
              "      <td>1058263.51</td>\n",
              "      <td>2022-10-17</td>\n",
              "      <td>60.746.948/0001-12</td>\n",
              "      <td>Depósitos a prazo e outros títulos de IF - Let...</td>\n",
              "      <td>91049383.74</td>\n",
              "      <td>1.162</td>\n",
              "    </tr>\n",
              "    <tr>\n",
              "      <th>3</th>\n",
              "      <td>03.564.825/0001-27</td>\n",
              "      <td>1058263.51</td>\n",
              "      <td>2022-10-17</td>\n",
              "      <td>60.746.948/0001-12</td>\n",
              "      <td>Depósitos a prazo e outros títulos de IF - Let...</td>\n",
              "      <td>91049383.74</td>\n",
              "      <td>1.162</td>\n",
              "    </tr>\n",
              "    <tr>\n",
              "      <th>4</th>\n",
              "      <td>03.564.825/0001-27</td>\n",
              "      <td>10353809.66</td>\n",
              "      <td>2022-11-16</td>\n",
              "      <td>60.701.190/0001-04</td>\n",
              "      <td>Depósitos a prazo e outros títulos de IF - Let...</td>\n",
              "      <td>91049383.74</td>\n",
              "      <td>11.372</td>\n",
              "    </tr>\n",
              "    <tr>\n",
              "      <th>...</th>\n",
              "      <td>...</td>\n",
              "      <td>...</td>\n",
              "      <td>...</td>\n",
              "      <td>...</td>\n",
              "      <td>...</td>\n",
              "      <td>...</td>\n",
              "      <td>...</td>\n",
              "    </tr>\n",
              "    <tr>\n",
              "      <th>26234</th>\n",
              "      <td>97.543.626/0001-86</td>\n",
              "      <td>1661910.14</td>\n",
              "      <td>2025-12-15</td>\n",
              "      <td>10.753.164/0001-43</td>\n",
              "      <td>Depósitos a prazo e outros títulos de IF - CDB...</td>\n",
              "      <td>223204836.49</td>\n",
              "      <td>0.745</td>\n",
              "    </tr>\n",
              "    <tr>\n",
              "      <th>26235</th>\n",
              "      <td>97.543.626/0001-86</td>\n",
              "      <td>2008271.57</td>\n",
              "      <td>2022-09-20</td>\n",
              "      <td>58.616.418/0001-08</td>\n",
              "      <td>Depósitos a prazo e outros títulos de IF - DPGE</td>\n",
              "      <td>223204836.49</td>\n",
              "      <td>0.900</td>\n",
              "    </tr>\n",
              "    <tr>\n",
              "      <th>26236</th>\n",
              "      <td>97.543.626/0001-86</td>\n",
              "      <td>1006306.14</td>\n",
              "      <td>2022-07-02</td>\n",
              "      <td>61.186.680/0001-74</td>\n",
              "      <td>Depósitos a prazo e outros títulos de IF - DPGE</td>\n",
              "      <td>223204836.49</td>\n",
              "      <td>0.451</td>\n",
              "    </tr>\n",
              "    <tr>\n",
              "      <th>26237</th>\n",
              "      <td>97.543.626/0001-86</td>\n",
              "      <td>1547712.97</td>\n",
              "      <td>2026-06-11</td>\n",
              "      <td>58.160.789/0001-28</td>\n",
              "      <td>Depósitos a prazo e outros títulos de IF - Let...</td>\n",
              "      <td>223204836.49</td>\n",
              "      <td>0.693</td>\n",
              "    </tr>\n",
              "    <tr>\n",
              "      <th>26238</th>\n",
              "      <td>97.543.626/0001-86</td>\n",
              "      <td>3036717.74</td>\n",
              "      <td>2025-10-02</td>\n",
              "      <td>60.889.128/0001-80</td>\n",
              "      <td>Depósitos a prazo e outros títulos de IF - Let...</td>\n",
              "      <td>223204836.49</td>\n",
              "      <td>1.361</td>\n",
              "    </tr>\n",
              "  </tbody>\n",
              "</table>\n",
              "<p>26239 rows × 7 columns</p>\n",
              "</div>"
            ],
            "text/plain": [
              "               CNPJ_FUNDO     VL_APLIC  ... VL_PATRIM_LIQ PR_PATRIM_LIQ\n",
              "0      03.564.825/0001-27   2702144.40  ...   91049383.74         2.968\n",
              "1      03.564.825/0001-27   2556455.90  ...   91049383.74         2.808\n",
              "2      03.564.825/0001-27   1058263.51  ...   91049383.74         1.162\n",
              "3      03.564.825/0001-27   1058263.51  ...   91049383.74         1.162\n",
              "4      03.564.825/0001-27  10353809.66  ...   91049383.74        11.372\n",
              "...                   ...          ...  ...           ...           ...\n",
              "26234  97.543.626/0001-86   1661910.14  ...  223204836.49         0.745\n",
              "26235  97.543.626/0001-86   2008271.57  ...  223204836.49         0.900\n",
              "26236  97.543.626/0001-86   1006306.14  ...  223204836.49         0.451\n",
              "26237  97.543.626/0001-86   1547712.97  ...  223204836.49         0.693\n",
              "26238  97.543.626/0001-86   3036717.74  ...  223204836.49         1.361\n",
              "\n",
              "[26239 rows x 7 columns]"
            ]
          },
          "metadata": {
            "tags": []
          },
          "execution_count": 75
        }
      ]
    },
    {
      "cell_type": "code",
      "metadata": {
        "colab": {
          "base_uri": "https://localhost:8080/"
        },
        "id": "GPsSr9Pi9e-u",
        "outputId": "2713fbe3-fca7-42aa-9f04-7b118310865b"
      },
      "source": [
        "# Verifica se não há valores ausentes ('missing values') em CPF_CNPJ_EMISSOR \n",
        "df = aplic_cda5[aplic_cda5['CPF_CNPJ_EMISSOR']=='']\n",
        "print(df.empty) "
      ],
      "execution_count": null,
      "outputs": [
        {
          "output_type": "stream",
          "text": [
            "True\n"
          ],
          "name": "stdout"
        }
      ]
    },
    {
      "cell_type": "markdown",
      "metadata": {
        "id": "NMCg7A1f6Hu9"
      },
      "source": [
        "#### Títulos do Agronegócio"
      ]
    },
    {
      "cell_type": "code",
      "metadata": {
        "colab": {
          "base_uri": "https://localhost:8080/",
          "height": 424
        },
        "id": "sEY7GfCs6ykW",
        "outputId": "54566345-2e0c-4d74-8149-f7eaddc068ed"
      },
      "source": [
        "aplic_cda6 = pd.merge(cda6, cda0,\n",
        "                        how=\"inner\", on=[\"CNPJ_FUNDO\"])\n",
        "\n",
        "aplic_cda6['PR_PATRIM_LIQ'] = aplic_cda6.apply(lambda row: pr_patrim_liq(row), axis=1)\n",
        "aplic_cda6 = aplic_cda6.drop(['TP_APLIC'], axis=1)\n",
        "aplic_cda6 = aplic_cda6.drop(['EMISSOR'], axis=1)\n",
        "\n",
        "aplic_cda6 = aplic_cda6.fillna('')\n",
        "aplic_cda6"
      ],
      "execution_count": null,
      "outputs": [
        {
          "output_type": "execute_result",
          "data": {
            "text/html": [
              "<div>\n",
              "<style scoped>\n",
              "    .dataframe tbody tr th:only-of-type {\n",
              "        vertical-align: middle;\n",
              "    }\n",
              "\n",
              "    .dataframe tbody tr th {\n",
              "        vertical-align: top;\n",
              "    }\n",
              "\n",
              "    .dataframe thead th {\n",
              "        text-align: right;\n",
              "    }\n",
              "</style>\n",
              "<table border=\"1\" class=\"dataframe\">\n",
              "  <thead>\n",
              "    <tr style=\"text-align: right;\">\n",
              "      <th></th>\n",
              "      <th>CNPJ_FUNDO</th>\n",
              "      <th>VL_APLIC</th>\n",
              "      <th>DT_VENC</th>\n",
              "      <th>CPF_CNPJ_EMISSOR</th>\n",
              "      <th>DS_ATIVO</th>\n",
              "      <th>VL_PATRIM_LIQ</th>\n",
              "      <th>PR_PATRIM_LIQ</th>\n",
              "    </tr>\n",
              "  </thead>\n",
              "  <tbody>\n",
              "    <tr>\n",
              "      <th>0</th>\n",
              "      <td>02.010.153/0001-45</td>\n",
              "      <td>20310.05</td>\n",
              "      <td>2024-08-14</td>\n",
              "      <td>09.346.601/0001-25</td>\n",
              "      <td>Debêntures - Debênture simples</td>\n",
              "      <td>17079539.69</td>\n",
              "      <td>0.119</td>\n",
              "    </tr>\n",
              "    <tr>\n",
              "      <th>1</th>\n",
              "      <td>02.010.153/0001-45</td>\n",
              "      <td>158363.74</td>\n",
              "      <td>2025-09-15</td>\n",
              "      <td>02.919.555/0001-67</td>\n",
              "      <td>Debêntures - Debênture simples</td>\n",
              "      <td>17079539.69</td>\n",
              "      <td>0.927</td>\n",
              "    </tr>\n",
              "    <tr>\n",
              "      <th>2</th>\n",
              "      <td>03.564.825/0001-27</td>\n",
              "      <td>2034161.22</td>\n",
              "      <td>2022-08-15</td>\n",
              "      <td>33.000.167/0001-01</td>\n",
              "      <td>Debêntures - Debênture simples</td>\n",
              "      <td>91049383.74</td>\n",
              "      <td>2.234</td>\n",
              "    </tr>\n",
              "    <tr>\n",
              "      <th>3</th>\n",
              "      <td>03.564.825/0001-27</td>\n",
              "      <td>2791206.93</td>\n",
              "      <td>2026-05-06</td>\n",
              "      <td>33.611.500/0001-19</td>\n",
              "      <td>Debêntures - Debênture simples</td>\n",
              "      <td>91049383.74</td>\n",
              "      <td>3.066</td>\n",
              "    </tr>\n",
              "    <tr>\n",
              "      <th>4</th>\n",
              "      <td>10.546.592/0001-03</td>\n",
              "      <td>2326005.77</td>\n",
              "      <td>2026-05-06</td>\n",
              "      <td>33.611.500/0001-19</td>\n",
              "      <td>Debêntures - Debênture simples</td>\n",
              "      <td>73596008.13</td>\n",
              "      <td>3.161</td>\n",
              "    </tr>\n",
              "    <tr>\n",
              "      <th>...</th>\n",
              "      <td>...</td>\n",
              "      <td>...</td>\n",
              "      <td>...</td>\n",
              "      <td>...</td>\n",
              "      <td>...</td>\n",
              "      <td>...</td>\n",
              "      <td>...</td>\n",
              "    </tr>\n",
              "    <tr>\n",
              "      <th>14377</th>\n",
              "      <td>97.548.167/0001-23</td>\n",
              "      <td>9718000.83</td>\n",
              "      <td>2022-10-15</td>\n",
              "      <td>60.444.437/0001-46</td>\n",
              "      <td>Debêntures - Debênture simples</td>\n",
              "      <td>13041906526.46</td>\n",
              "      <td>0.075</td>\n",
              "    </tr>\n",
              "    <tr>\n",
              "      <th>14378</th>\n",
              "      <td>97.548.167/0001-23</td>\n",
              "      <td>9668253.90</td>\n",
              "      <td>2022-06-28</td>\n",
              "      <td>33.014.556/0001-96</td>\n",
              "      <td>Títulos de Crédito Privado - Nota Promissória/...</td>\n",
              "      <td>13041906526.46</td>\n",
              "      <td>0.074</td>\n",
              "    </tr>\n",
              "    <tr>\n",
              "      <th>14379</th>\n",
              "      <td>32.313.932/0001-80</td>\n",
              "      <td>11842659.06</td>\n",
              "      <td>2029-09-26</td>\n",
              "      <td>15.009.178/0001-70</td>\n",
              "      <td>Debêntures - Debênture simples</td>\n",
              "      <td>51412412.93</td>\n",
              "      <td>23.035</td>\n",
              "    </tr>\n",
              "    <tr>\n",
              "      <th>14380</th>\n",
              "      <td>32.313.932/0001-80</td>\n",
              "      <td>14545081.95</td>\n",
              "      <td>2022-12-31</td>\n",
              "      <td>15.009.178/0001-70</td>\n",
              "      <td>Debêntures - Debênture simples</td>\n",
              "      <td>51412412.93</td>\n",
              "      <td>28.291</td>\n",
              "    </tr>\n",
              "    <tr>\n",
              "      <th>14381</th>\n",
              "      <td>34.525.200/0001-80</td>\n",
              "      <td>11682190.61</td>\n",
              "      <td>2050-12-31</td>\n",
              "      <td>27.413.805/0001-13</td>\n",
              "      <td>Debêntures - Debênture simples</td>\n",
              "      <td>22081953.36</td>\n",
              "      <td>52.904</td>\n",
              "    </tr>\n",
              "  </tbody>\n",
              "</table>\n",
              "<p>14382 rows × 7 columns</p>\n",
              "</div>"
            ],
            "text/plain": [
              "               CNPJ_FUNDO     VL_APLIC  ...   VL_PATRIM_LIQ PR_PATRIM_LIQ\n",
              "0      02.010.153/0001-45     20310.05  ...     17079539.69         0.119\n",
              "1      02.010.153/0001-45    158363.74  ...     17079539.69         0.927\n",
              "2      03.564.825/0001-27   2034161.22  ...     91049383.74         2.234\n",
              "3      03.564.825/0001-27   2791206.93  ...     91049383.74         3.066\n",
              "4      10.546.592/0001-03   2326005.77  ...     73596008.13         3.161\n",
              "...                   ...          ...  ...             ...           ...\n",
              "14377  97.548.167/0001-23   9718000.83  ...  13041906526.46         0.075\n",
              "14378  97.548.167/0001-23   9668253.90  ...  13041906526.46         0.074\n",
              "14379  32.313.932/0001-80  11842659.06  ...     51412412.93        23.035\n",
              "14380  32.313.932/0001-80  14545081.95  ...     51412412.93        28.291\n",
              "14381  34.525.200/0001-80  11682190.61  ...     22081953.36        52.904\n",
              "\n",
              "[14382 rows x 7 columns]"
            ]
          },
          "metadata": {
            "tags": []
          },
          "execution_count": 77
        }
      ]
    },
    {
      "cell_type": "code",
      "metadata": {
        "colab": {
          "base_uri": "https://localhost:8080/"
        },
        "id": "_gEZhlVS9wLa",
        "outputId": "ada49aa3-20e3-4f79-84d0-5d9a2fd02327"
      },
      "source": [
        "# Verifica se não há valores ausentes em CPF_CNPJ_EMISSOR \n",
        "df = aplic_cda6[aplic_cda6['CPF_CNPJ_EMISSOR']=='']\n",
        "print(df.empty) "
      ],
      "execution_count": null,
      "outputs": [
        {
          "output_type": "stream",
          "text": [
            "True\n"
          ],
          "name": "stdout"
        }
      ]
    },
    {
      "cell_type": "markdown",
      "metadata": {
        "id": "BhDQYHjq6Kc3"
      },
      "source": [
        "#### Investimento no Exterior"
      ]
    },
    {
      "cell_type": "code",
      "metadata": {
        "colab": {
          "base_uri": "https://localhost:8080/",
          "height": 597
        },
        "id": "efuHGl239BMx",
        "outputId": "27cb1f4b-243c-49bb-c532-fadb9653271a"
      },
      "source": [
        "aplic_cda7 = pd.merge(cda7, cda0,\n",
        "                        how=\"inner\", on=[\"CNPJ_FUNDO\"])\n",
        "\n",
        "aplic_cda7['PR_PATRIM_LIQ'] = aplic_cda7.apply(lambda row: pr_patrim_liq(row), axis=1)\n",
        "aplic_cda7 = aplic_cda7.drop(['TP_APLIC'], axis=1)\n",
        "\n",
        "aplic_cda7 = aplic_cda7.fillna('')\n",
        "aplic_cda7"
      ],
      "execution_count": null,
      "outputs": [
        {
          "output_type": "execute_result",
          "data": {
            "text/html": [
              "<div>\n",
              "<style scoped>\n",
              "    .dataframe tbody tr th:only-of-type {\n",
              "        vertical-align: middle;\n",
              "    }\n",
              "\n",
              "    .dataframe tbody tr th {\n",
              "        vertical-align: top;\n",
              "    }\n",
              "\n",
              "    .dataframe thead th {\n",
              "        text-align: right;\n",
              "    }\n",
              "</style>\n",
              "<table border=\"1\" class=\"dataframe\">\n",
              "  <thead>\n",
              "    <tr style=\"text-align: right;\">\n",
              "      <th></th>\n",
              "      <th>CNPJ_FUNDO</th>\n",
              "      <th>VL_APLIC</th>\n",
              "      <th>CD_ATIVO</th>\n",
              "      <th>BV_MERC</th>\n",
              "      <th>PAIS</th>\n",
              "      <th>DT_VENC</th>\n",
              "      <th>EMISSOR</th>\n",
              "      <th>DS_ATIVO</th>\n",
              "      <th>VL_PATRIM_LIQ</th>\n",
              "      <th>PR_PATRIM_LIQ</th>\n",
              "    </tr>\n",
              "  </thead>\n",
              "  <tbody>\n",
              "    <tr>\n",
              "      <th>0</th>\n",
              "      <td>00.083.181/0001-67</td>\n",
              "      <td>39697260.92</td>\n",
              "      <td>OPPTEMP1</td>\n",
              "      <td>Outras bolsas ou mercados de balcão organizados</td>\n",
              "      <td>ESTADOS UNIDOS DA AMÉRICA</td>\n",
              "      <td></td>\n",
              "      <td>TEMPUS OPP 1 CLASS</td>\n",
              "      <td>Investimento no Exterior - Outros</td>\n",
              "      <td>15519640726.95</td>\n",
              "      <td>0.256</td>\n",
              "    </tr>\n",
              "    <tr>\n",
              "      <th>1</th>\n",
              "      <td>00.102.322/0001-41</td>\n",
              "      <td>8196096.35</td>\n",
              "      <td>BABA US</td>\n",
              "      <td>NYSE EURONEXT</td>\n",
              "      <td>ESTADOS UNIDOS DA AMÉRICA</td>\n",
              "      <td></td>\n",
              "      <td>ALIBABA GROUP HOLDING LTD</td>\n",
              "      <td>Investimento no Exterior - Ação ordinária</td>\n",
              "      <td>71548033.21</td>\n",
              "      <td>11.455</td>\n",
              "    </tr>\n",
              "    <tr>\n",
              "      <th>2</th>\n",
              "      <td>00.102.322/0001-41</td>\n",
              "      <td>5854514.16</td>\n",
              "      <td>AMZN</td>\n",
              "      <td>NASDAQ STOCK MARKET</td>\n",
              "      <td>ESTADOS UNIDOS DA AMÉRICA</td>\n",
              "      <td></td>\n",
              "      <td>AMAZON.COM INC</td>\n",
              "      <td>Investimento no Exterior - Ação ordinária</td>\n",
              "      <td>71548033.21</td>\n",
              "      <td>8.183</td>\n",
              "    </tr>\n",
              "    <tr>\n",
              "      <th>3</th>\n",
              "      <td>00.102.322/0001-41</td>\n",
              "      <td>11049923.85</td>\n",
              "      <td>JPMC</td>\n",
              "      <td>NYSE EURONEXT</td>\n",
              "      <td>ESTADOS UNIDOS DA AMÉRICA</td>\n",
              "      <td></td>\n",
              "      <td>JP MORGAN CHASE  CO.</td>\n",
              "      <td>Investimento no Exterior - Ação ordinária</td>\n",
              "      <td>71548033.21</td>\n",
              "      <td>15.444</td>\n",
              "    </tr>\n",
              "    <tr>\n",
              "      <th>4</th>\n",
              "      <td>00.360.293/0001-18</td>\n",
              "      <td>205976213.92</td>\n",
              "      <td>EJ9011747</td>\n",
              "      <td>Outras bolsas ou mercados de balcão organizados</td>\n",
              "      <td>BRASIL</td>\n",
              "      <td>2025-01-07</td>\n",
              "      <td>GOVERNO BRASILEIRO</td>\n",
              "      <td>Investimento no Exterior - Título da Dívida Ex...</td>\n",
              "      <td>285328701.61</td>\n",
              "      <td>72.189</td>\n",
              "    </tr>\n",
              "    <tr>\n",
              "      <th>...</th>\n",
              "      <td>...</td>\n",
              "      <td>...</td>\n",
              "      <td>...</td>\n",
              "      <td>...</td>\n",
              "      <td>...</td>\n",
              "      <td>...</td>\n",
              "      <td>...</td>\n",
              "      <td>...</td>\n",
              "      <td>...</td>\n",
              "      <td>...</td>\n",
              "    </tr>\n",
              "    <tr>\n",
              "      <th>16414</th>\n",
              "      <td>97.525.430/0001-69</td>\n",
              "      <td>99290.55</td>\n",
              "      <td>SHOP US</td>\n",
              "      <td>NYSE EURONEXT</td>\n",
              "      <td>ESTADOS UNIDOS DA AMÉRICA</td>\n",
              "      <td></td>\n",
              "      <td>SHOPIFY INC</td>\n",
              "      <td>Investimento no Exterior - Depository Receipt ...</td>\n",
              "      <td>21398864.37</td>\n",
              "      <td>0.464</td>\n",
              "    </tr>\n",
              "    <tr>\n",
              "      <th>16415</th>\n",
              "      <td>97.525.430/0001-69</td>\n",
              "      <td>128820.83</td>\n",
              "      <td>SQ US</td>\n",
              "      <td>NYSE EURONEXT</td>\n",
              "      <td>ESTADOS UNIDOS DA AMÉRICA</td>\n",
              "      <td></td>\n",
              "      <td>SQUARE INC</td>\n",
              "      <td>Investimento no Exterior - Depository Receipt ...</td>\n",
              "      <td>21398864.37</td>\n",
              "      <td>0.602</td>\n",
              "    </tr>\n",
              "    <tr>\n",
              "      <th>16416</th>\n",
              "      <td>97.525.430/0001-69</td>\n",
              "      <td>78788.65</td>\n",
              "      <td>TDOC US</td>\n",
              "      <td>NYSE EURONEXT</td>\n",
              "      <td>ESTADOS UNIDOS DA AMÉRICA</td>\n",
              "      <td></td>\n",
              "      <td>TELADOC HEALTH INC</td>\n",
              "      <td>Investimento no Exterior - Depository Receipt ...</td>\n",
              "      <td>21398864.37</td>\n",
              "      <td>0.368</td>\n",
              "    </tr>\n",
              "    <tr>\n",
              "      <th>16417</th>\n",
              "      <td>97.525.430/0001-69</td>\n",
              "      <td>103488.24</td>\n",
              "      <td>700 HK</td>\n",
              "      <td>HONG KONG EXCHANGES AND CLEARING</td>\n",
              "      <td>ESTADOS UNIDOS DA AMÉRICA</td>\n",
              "      <td></td>\n",
              "      <td>TENCENT HOLDINGS LTD</td>\n",
              "      <td>Investimento no Exterior - Depository Receipt ...</td>\n",
              "      <td>21398864.37</td>\n",
              "      <td>0.484</td>\n",
              "    </tr>\n",
              "    <tr>\n",
              "      <th>16418</th>\n",
              "      <td>97.548.167/0001-23</td>\n",
              "      <td>331232316.17</td>\n",
              "      <td>JGP CL F</td>\n",
              "      <td>Outras bolsas ou mercados de balcão organizados</td>\n",
              "      <td>ESTADOS UNIDOS DA AMÉRICA</td>\n",
              "      <td></td>\n",
              "      <td>JGP OFFSHORE CLASS F</td>\n",
              "      <td>Investimento no Exterior - Outros</td>\n",
              "      <td>13041906526.46</td>\n",
              "      <td>2.540</td>\n",
              "    </tr>\n",
              "  </tbody>\n",
              "</table>\n",
              "<p>16419 rows × 10 columns</p>\n",
              "</div>"
            ],
            "text/plain": [
              "               CNPJ_FUNDO      VL_APLIC  ...   VL_PATRIM_LIQ PR_PATRIM_LIQ\n",
              "0      00.083.181/0001-67   39697260.92  ...  15519640726.95         0.256\n",
              "1      00.102.322/0001-41    8196096.35  ...     71548033.21        11.455\n",
              "2      00.102.322/0001-41    5854514.16  ...     71548033.21         8.183\n",
              "3      00.102.322/0001-41   11049923.85  ...     71548033.21        15.444\n",
              "4      00.360.293/0001-18  205976213.92  ...    285328701.61        72.189\n",
              "...                   ...           ...  ...             ...           ...\n",
              "16414  97.525.430/0001-69      99290.55  ...     21398864.37         0.464\n",
              "16415  97.525.430/0001-69     128820.83  ...     21398864.37         0.602\n",
              "16416  97.525.430/0001-69      78788.65  ...     21398864.37         0.368\n",
              "16417  97.525.430/0001-69     103488.24  ...     21398864.37         0.484\n",
              "16418  97.548.167/0001-23  331232316.17  ...  13041906526.46         2.540\n",
              "\n",
              "[16419 rows x 10 columns]"
            ]
          },
          "metadata": {
            "tags": []
          },
          "execution_count": 79
        }
      ]
    },
    {
      "cell_type": "code",
      "metadata": {
        "colab": {
          "base_uri": "https://localhost:8080/"
        },
        "id": "8Nc2gGxv916I",
        "outputId": "982b3bc0-c8d3-4b50-c1f2-82ec2dca19f5"
      },
      "source": [
        "# Verifica se não há valores ausentes em EMISSOR (Nome do Emissor) \n",
        "df = aplic_cda7[aplic_cda7['EMISSOR']=='']\n",
        "print(df.empty) "
      ],
      "execution_count": null,
      "outputs": [
        {
          "output_type": "stream",
          "text": [
            "False\n"
          ],
          "name": "stdout"
        }
      ]
    },
    {
      "cell_type": "markdown",
      "metadata": {
        "id": "dqvgO17s6QAf"
      },
      "source": [
        "#### Atos Não Codificados"
      ]
    },
    {
      "cell_type": "code",
      "metadata": {
        "colab": {
          "base_uri": "https://localhost:8080/",
          "height": 424
        },
        "id": "lkCFDSPX71l7",
        "outputId": "c477080b-549f-4418-c8ba-733edf8be12c"
      },
      "source": [
        "aplic_cda8 = pd.merge(cda8, cda0,\n",
        "                        how=\"inner\", on=[\"CNPJ_FUNDO\"])\n",
        "\n",
        "aplic_cda8['PR_PATRIM_LIQ'] = aplic_cda8.apply(lambda row: pr_patrim_liq(row), axis=1)\n",
        "aplic_cda8 = aplic_cda8.drop(['TP_APLIC'], axis=1)\n",
        "\n",
        "aplic_cda8 = aplic_cda8.fillna('')\n",
        "aplic_cda8"
      ],
      "execution_count": null,
      "outputs": [
        {
          "output_type": "execute_result",
          "data": {
            "text/html": [
              "<div>\n",
              "<style scoped>\n",
              "    .dataframe tbody tr th:only-of-type {\n",
              "        vertical-align: middle;\n",
              "    }\n",
              "\n",
              "    .dataframe tbody tr th {\n",
              "        vertical-align: top;\n",
              "    }\n",
              "\n",
              "    .dataframe thead th {\n",
              "        text-align: right;\n",
              "    }\n",
              "</style>\n",
              "<table border=\"1\" class=\"dataframe\">\n",
              "  <thead>\n",
              "    <tr style=\"text-align: right;\">\n",
              "      <th></th>\n",
              "      <th>CNPJ_FUNDO</th>\n",
              "      <th>VL_APLIC</th>\n",
              "      <th>DS_ATIVO</th>\n",
              "      <th>CPF_CNPJ_EMISSOR</th>\n",
              "      <th>EMISSOR</th>\n",
              "      <th>VL_PATRIM_LIQ</th>\n",
              "      <th>PR_PATRIM_LIQ</th>\n",
              "    </tr>\n",
              "  </thead>\n",
              "  <tbody>\n",
              "    <tr>\n",
              "      <th>0</th>\n",
              "      <td>06.537.068/0001-90</td>\n",
              "      <td>0.00</td>\n",
              "      <td>Cotas de fundos de renda fixa - Cotas de fundo...</td>\n",
              "      <td></td>\n",
              "      <td></td>\n",
              "      <td>1325.12</td>\n",
              "      <td>0.000</td>\n",
              "    </tr>\n",
              "    <tr>\n",
              "      <th>1</th>\n",
              "      <td>06.537.068/0001-90</td>\n",
              "      <td>1323.62</td>\n",
              "      <td>Disponibilidades - Outros - VALOR DAS DISPONIB...</td>\n",
              "      <td></td>\n",
              "      <td></td>\n",
              "      <td>1325.12</td>\n",
              "      <td>99.887</td>\n",
              "    </tr>\n",
              "    <tr>\n",
              "      <th>2</th>\n",
              "      <td>06.537.068/0001-90</td>\n",
              "      <td>0.00</td>\n",
              "      <td>Valores a pagar - Outros - VALOR A PAGAR</td>\n",
              "      <td></td>\n",
              "      <td></td>\n",
              "      <td>1325.12</td>\n",
              "      <td>0.000</td>\n",
              "    </tr>\n",
              "    <tr>\n",
              "      <th>3</th>\n",
              "      <td>07.408.147/0001-64</td>\n",
              "      <td>0.00</td>\n",
              "      <td>Cotas de fundos de renda fixa - Cotas de fundo...</td>\n",
              "      <td></td>\n",
              "      <td></td>\n",
              "      <td>28308.60</td>\n",
              "      <td>0.000</td>\n",
              "    </tr>\n",
              "    <tr>\n",
              "      <th>4</th>\n",
              "      <td>07.408.147/0001-64</td>\n",
              "      <td>28293.61</td>\n",
              "      <td>Disponibilidades - Outros - VALOR DAS DISPONIB...</td>\n",
              "      <td></td>\n",
              "      <td></td>\n",
              "      <td>28308.60</td>\n",
              "      <td>99.947</td>\n",
              "    </tr>\n",
              "    <tr>\n",
              "      <th>...</th>\n",
              "      <td>...</td>\n",
              "      <td>...</td>\n",
              "      <td>...</td>\n",
              "      <td>...</td>\n",
              "      <td>...</td>\n",
              "      <td>...</td>\n",
              "      <td>...</td>\n",
              "    </tr>\n",
              "    <tr>\n",
              "      <th>161099</th>\n",
              "      <td>11.179.262/0001-81</td>\n",
              "      <td>4.75</td>\n",
              "      <td>Valores a pagar - Outros - SELIC A PAGAR</td>\n",
              "      <td></td>\n",
              "      <td></td>\n",
              "      <td>1780896.83</td>\n",
              "      <td>-0.000</td>\n",
              "    </tr>\n",
              "    <tr>\n",
              "      <th>161100</th>\n",
              "      <td>11.179.262/0001-81</td>\n",
              "      <td>424.66</td>\n",
              "      <td>Valores a pagar - Outros - TAXA ADMIN PROVISAO</td>\n",
              "      <td></td>\n",
              "      <td></td>\n",
              "      <td>1780896.83</td>\n",
              "      <td>-0.024</td>\n",
              "    </tr>\n",
              "    <tr>\n",
              "      <th>161101</th>\n",
              "      <td>11.179.262/0001-81</td>\n",
              "      <td>113.25</td>\n",
              "      <td>Valores a pagar - Outros - TAXA CUSTOD PROVISAO</td>\n",
              "      <td></td>\n",
              "      <td></td>\n",
              "      <td>1780896.83</td>\n",
              "      <td>-0.006</td>\n",
              "    </tr>\n",
              "    <tr>\n",
              "      <th>161102</th>\n",
              "      <td>11.179.262/0001-81</td>\n",
              "      <td>3822.03</td>\n",
              "      <td>Valores a pagar - Outros - TAXA GESTAO PROVISAO</td>\n",
              "      <td></td>\n",
              "      <td></td>\n",
              "      <td>1780896.83</td>\n",
              "      <td>-0.215</td>\n",
              "    </tr>\n",
              "    <tr>\n",
              "      <th>161103</th>\n",
              "      <td>11.179.262/0001-81</td>\n",
              "      <td>358.79</td>\n",
              "      <td>Valores a receber - Outros - FISC CVM 30122020</td>\n",
              "      <td></td>\n",
              "      <td></td>\n",
              "      <td>1780896.83</td>\n",
              "      <td>0.020</td>\n",
              "    </tr>\n",
              "  </tbody>\n",
              "</table>\n",
              "<p>161104 rows × 7 columns</p>\n",
              "</div>"
            ],
            "text/plain": [
              "                CNPJ_FUNDO  VL_APLIC  ... VL_PATRIM_LIQ PR_PATRIM_LIQ\n",
              "0       06.537.068/0001-90      0.00  ...       1325.12         0.000\n",
              "1       06.537.068/0001-90   1323.62  ...       1325.12        99.887\n",
              "2       06.537.068/0001-90      0.00  ...       1325.12         0.000\n",
              "3       07.408.147/0001-64      0.00  ...      28308.60         0.000\n",
              "4       07.408.147/0001-64  28293.61  ...      28308.60        99.947\n",
              "...                    ...       ...  ...           ...           ...\n",
              "161099  11.179.262/0001-81      4.75  ...    1780896.83        -0.000\n",
              "161100  11.179.262/0001-81    424.66  ...    1780896.83        -0.024\n",
              "161101  11.179.262/0001-81    113.25  ...    1780896.83        -0.006\n",
              "161102  11.179.262/0001-81   3822.03  ...    1780896.83        -0.215\n",
              "161103  11.179.262/0001-81    358.79  ...    1780896.83         0.020\n",
              "\n",
              "[161104 rows x 7 columns]"
            ]
          },
          "metadata": {
            "tags": []
          },
          "execution_count": 81
        }
      ]
    },
    {
      "cell_type": "code",
      "metadata": {
        "colab": {
          "base_uri": "https://localhost:8080/"
        },
        "id": "YGGke7aqBACf",
        "outputId": "45f1ac66-7ff3-4192-df10-2ea62d90fc32"
      },
      "source": [
        "# Verifica se não há valores ausentes em CPF_CNPJ_EMISSOR \n",
        "df = aplic_cda8[aplic_cda8['CPF_CNPJ_EMISSOR']=='']\n",
        "print(df.empty) "
      ],
      "execution_count": null,
      "outputs": [
        {
          "output_type": "stream",
          "text": [
            "False\n"
          ],
          "name": "stdout"
        }
      ]
    },
    {
      "cell_type": "code",
      "metadata": {
        "colab": {
          "base_uri": "https://localhost:8080/"
        },
        "id": "ECr6YJsX2gMZ",
        "outputId": "9adccfea-55c3-40c7-9b9c-99650ace1b97"
      },
      "source": [
        "# Verifica se não há valores ausentes em EMISSOR (Nome do Emissor) \n",
        "df = aplic_cda8[aplic_cda8['EMISSOR']=='']\n",
        "print(df.empty) "
      ],
      "execution_count": null,
      "outputs": [
        {
          "output_type": "stream",
          "text": [
            "False\n"
          ],
          "name": "stdout"
        }
      ]
    },
    {
      "cell_type": "code",
      "metadata": {
        "colab": {
          "base_uri": "https://localhost:8080/",
          "height": 424
        },
        "id": "ExjHOJDoBFY5",
        "outputId": "b2c8c0e5-dd8f-48f6-d0b1-f4c726e28479"
      },
      "source": [
        "aplic_cda8[aplic_cda8['CPF_CNPJ_EMISSOR']!='']"
      ],
      "execution_count": null,
      "outputs": [
        {
          "output_type": "execute_result",
          "data": {
            "text/html": [
              "<div>\n",
              "<style scoped>\n",
              "    .dataframe tbody tr th:only-of-type {\n",
              "        vertical-align: middle;\n",
              "    }\n",
              "\n",
              "    .dataframe tbody tr th {\n",
              "        vertical-align: top;\n",
              "    }\n",
              "\n",
              "    .dataframe thead th {\n",
              "        text-align: right;\n",
              "    }\n",
              "</style>\n",
              "<table border=\"1\" class=\"dataframe\">\n",
              "  <thead>\n",
              "    <tr style=\"text-align: right;\">\n",
              "      <th></th>\n",
              "      <th>CNPJ_FUNDO</th>\n",
              "      <th>VL_APLIC</th>\n",
              "      <th>DS_ATIVO</th>\n",
              "      <th>CPF_CNPJ_EMISSOR</th>\n",
              "      <th>EMISSOR</th>\n",
              "      <th>VL_PATRIM_LIQ</th>\n",
              "      <th>PR_PATRIM_LIQ</th>\n",
              "    </tr>\n",
              "  </thead>\n",
              "  <tbody>\n",
              "    <tr>\n",
              "      <th>6</th>\n",
              "      <td>02.010.153/0001-45</td>\n",
              "      <td>54712.12</td>\n",
              "      <td>Disponibilidades - Outros - BANCO BRASIL CAIXA</td>\n",
              "      <td>00.000.000/0001-91</td>\n",
              "      <td>BCO DO BRASIL</td>\n",
              "      <td>17079539.69</td>\n",
              "      <td>0.320</td>\n",
              "    </tr>\n",
              "    <tr>\n",
              "      <th>7</th>\n",
              "      <td>02.010.153/0001-45</td>\n",
              "      <td>-1150.70</td>\n",
              "      <td>Mercado Futuro - Posições compradas - Contrato...</td>\n",
              "      <td>54.641.030/0001-06</td>\n",
              "      <td>BMF - BOLSA DE MERCADORIAS E FUTUROS</td>\n",
              "      <td>17079539.69</td>\n",
              "      <td>-0.007</td>\n",
              "    </tr>\n",
              "    <tr>\n",
              "      <th>8</th>\n",
              "      <td>02.010.153/0001-45</td>\n",
              "      <td>0.00</td>\n",
              "      <td>Mercado Futuro - Posições compradas - Contrato...</td>\n",
              "      <td>54.641.030/0001-06</td>\n",
              "      <td>BMF - BOLSA DE MERCADORIAS E FUTUROS</td>\n",
              "      <td>17079539.69</td>\n",
              "      <td>0.000</td>\n",
              "    </tr>\n",
              "    <tr>\n",
              "      <th>9</th>\n",
              "      <td>02.010.153/0001-45</td>\n",
              "      <td>-230.88</td>\n",
              "      <td>Mercado Futuro - Posições compradas - Contrato...</td>\n",
              "      <td>54.641.030/0001-06</td>\n",
              "      <td>BMF - BOLSA DE MERCADORIAS E FUTUROS</td>\n",
              "      <td>17079539.69</td>\n",
              "      <td>-0.001</td>\n",
              "    </tr>\n",
              "    <tr>\n",
              "      <th>10</th>\n",
              "      <td>02.010.153/0001-45</td>\n",
              "      <td>2186.10</td>\n",
              "      <td>Mercado Futuro - Posições vendidas - Contrato ...</td>\n",
              "      <td>54.641.030/0001-06</td>\n",
              "      <td>BMF - BOLSA DE MERCADORIAS E FUTUROS</td>\n",
              "      <td>17079539.69</td>\n",
              "      <td>0.013</td>\n",
              "    </tr>\n",
              "    <tr>\n",
              "      <th>...</th>\n",
              "      <td>...</td>\n",
              "      <td>...</td>\n",
              "      <td>...</td>\n",
              "      <td>...</td>\n",
              "      <td>...</td>\n",
              "      <td>...</td>\n",
              "      <td>...</td>\n",
              "    </tr>\n",
              "    <tr>\n",
              "      <th>161090</th>\n",
              "      <td>11.179.262/0001-81</td>\n",
              "      <td>1775.33</td>\n",
              "      <td>Valores a pagar - Outros - CINEHOLLIUDY</td>\n",
              "      <td>19.361.060/0001-68</td>\n",
              "      <td>FUNCINE FUNDO FINANC INDUSTRIA CINEMATOG</td>\n",
              "      <td>1780896.83</td>\n",
              "      <td>-0.100</td>\n",
              "    </tr>\n",
              "    <tr>\n",
              "      <th>161092</th>\n",
              "      <td>11.179.262/0001-81</td>\n",
              "      <td>5404.19</td>\n",
              "      <td>Valores a pagar - Outros - DAS</td>\n",
              "      <td>19.361.060/0001-68</td>\n",
              "      <td>FUNCINE FUNDO FINANC INDUSTRIA CINEMATOG</td>\n",
              "      <td>1780896.83</td>\n",
              "      <td>-0.303</td>\n",
              "    </tr>\n",
              "    <tr>\n",
              "      <th>161093</th>\n",
              "      <td>11.179.262/0001-81</td>\n",
              "      <td>1827.14</td>\n",
              "      <td>Valores a pagar - Outros - DAS AMORT</td>\n",
              "      <td>19.361.060/0001-68</td>\n",
              "      <td>FUNCINE FUNDO FINANC INDUSTRIA CINEMATOG</td>\n",
              "      <td>1780896.83</td>\n",
              "      <td>-0.103</td>\n",
              "    </tr>\n",
              "    <tr>\n",
              "      <th>161096</th>\n",
              "      <td>11.179.262/0001-81</td>\n",
              "      <td>66258.28</td>\n",
              "      <td>Valores a pagar - Outros - ELA DISSE</td>\n",
              "      <td>19.361.060/0001-68</td>\n",
              "      <td>FUNCINE FUNDO FINANC INDUSTRIA CINEMATOG</td>\n",
              "      <td>1780896.83</td>\n",
              "      <td>-3.721</td>\n",
              "    </tr>\n",
              "    <tr>\n",
              "      <th>161098</th>\n",
              "      <td>11.179.262/0001-81</td>\n",
              "      <td>52459.38</td>\n",
              "      <td>Valores a pagar - Outros - POP</td>\n",
              "      <td>19.361.060/0001-68</td>\n",
              "      <td>FUNCINE FUNDO FINANC INDUSTRIA CINEMATOG</td>\n",
              "      <td>1780896.83</td>\n",
              "      <td>-2.946</td>\n",
              "    </tr>\n",
              "  </tbody>\n",
              "</table>\n",
              "<p>66121 rows × 7 columns</p>\n",
              "</div>"
            ],
            "text/plain": [
              "                CNPJ_FUNDO  VL_APLIC  ... VL_PATRIM_LIQ PR_PATRIM_LIQ\n",
              "6       02.010.153/0001-45  54712.12  ...   17079539.69         0.320\n",
              "7       02.010.153/0001-45  -1150.70  ...   17079539.69        -0.007\n",
              "8       02.010.153/0001-45      0.00  ...   17079539.69         0.000\n",
              "9       02.010.153/0001-45   -230.88  ...   17079539.69        -0.001\n",
              "10      02.010.153/0001-45   2186.10  ...   17079539.69         0.013\n",
              "...                    ...       ...  ...           ...           ...\n",
              "161090  11.179.262/0001-81   1775.33  ...    1780896.83        -0.100\n",
              "161092  11.179.262/0001-81   5404.19  ...    1780896.83        -0.303\n",
              "161093  11.179.262/0001-81   1827.14  ...    1780896.83        -0.103\n",
              "161096  11.179.262/0001-81  66258.28  ...    1780896.83        -3.721\n",
              "161098  11.179.262/0001-81  52459.38  ...    1780896.83        -2.946\n",
              "\n",
              "[66121 rows x 7 columns]"
            ]
          },
          "metadata": {
            "tags": []
          },
          "execution_count": 84
        }
      ]
    },
    {
      "cell_type": "markdown",
      "metadata": {
        "id": "tcrPcVT48ce8"
      },
      "source": [
        "## Exportação dos dados"
      ]
    },
    {
      "cell_type": "markdown",
      "metadata": {
        "id": "QJ2VZ28kBfcv"
      },
      "source": [
        "### Mapeamento do Google Drive"
      ]
    },
    {
      "cell_type": "code",
      "metadata": {
        "id": "6Ac7wxePXwtQ"
      },
      "source": [
        "drive.mount('/content/drive/')"
      ],
      "execution_count": null,
      "outputs": []
    },
    {
      "cell_type": "code",
      "metadata": {
        "id": "AaS5CnHKk7ga"
      },
      "source": [
        "!mkdir -p /content/drive/MyDrive/carteira_fundos/entrada\n",
        "!mkdir -p /content/drive/MyDrive/carteira_fundos/saida"
      ],
      "execution_count": null,
      "outputs": []
    },
    {
      "cell_type": "code",
      "metadata": {
        "id": "omTpzvhunZ6W"
      },
      "source": [
        "# Salva no Google Drive os arquivos baixados do Portal de Dados Abertos CVM e site B3\n",
        "!cp cad_fi.csv /content/drive/MyDrive/carteira_fundos/entrada\n",
        "!cp cda_fi.zip /content/drive/MyDrive/carteira_fundos/entrada\n",
        "!cp isinp.zip /content/drive/MyDrive/carteira_fundos/entrada"
      ],
      "execution_count": null,
      "outputs": []
    },
    {
      "cell_type": "code",
      "metadata": {
        "id": "UZqzx9ibs1SE"
      },
      "source": [
        "# Define diretório do Google Drive para salvar o resultado do processamento\n",
        "diretorio_saida = '/content/drive/MyDrive/carteira_fundos/saida/'"
      ],
      "execution_count": null,
      "outputs": []
    },
    {
      "cell_type": "markdown",
      "metadata": {
        "id": "1KTKfWCzJ2I3"
      },
      "source": [
        "### Fundos"
      ]
    },
    {
      "cell_type": "code",
      "metadata": {
        "colab": {
          "base_uri": "https://localhost:8080/",
          "height": 206
        },
        "id": "bKP7amEu8glD",
        "outputId": "df46f1ce-0407-49c3-d0cc-cb0d51b7b04a"
      },
      "source": [
        "fundos.to_csv(diretorio_saida + 'fundos.csv', index=False, encoding='utf-8')\n",
        "fundos.head()"
      ],
      "execution_count": null,
      "outputs": [
        {
          "output_type": "execute_result",
          "data": {
            "text/html": [
              "<div>\n",
              "<style scoped>\n",
              "    .dataframe tbody tr th:only-of-type {\n",
              "        vertical-align: middle;\n",
              "    }\n",
              "\n",
              "    .dataframe tbody tr th {\n",
              "        vertical-align: top;\n",
              "    }\n",
              "\n",
              "    .dataframe thead th {\n",
              "        text-align: right;\n",
              "    }\n",
              "</style>\n",
              "<table border=\"1\" class=\"dataframe\">\n",
              "  <thead>\n",
              "    <tr style=\"text-align: right;\">\n",
              "      <th></th>\n",
              "      <th>TP_FUNDO</th>\n",
              "      <th>CNPJ_FUNDO</th>\n",
              "      <th>DENOM_SOCIAL</th>\n",
              "      <th>SIT</th>\n",
              "      <th>DT_INI_SIT</th>\n",
              "      <th>FUNDO_COTAS</th>\n",
              "      <th>FUNDO_EXCLUSIVO</th>\n",
              "      <th>VL_PATRIM_LIQ</th>\n",
              "    </tr>\n",
              "  </thead>\n",
              "  <tbody>\n",
              "    <tr>\n",
              "      <th>0</th>\n",
              "      <td>FAPI</td>\n",
              "      <td>02.177.812/0001-32</td>\n",
              "      <td>ITAU FAPI RENDA FIXA - FUNDO DE APOSENTADORIA ...</td>\n",
              "      <td>EM FUNCIONAMENTO NORMAL</td>\n",
              "      <td>1997-11-27</td>\n",
              "      <td></td>\n",
              "      <td></td>\n",
              "      <td>66438968.44</td>\n",
              "    </tr>\n",
              "    <tr>\n",
              "      <th>1</th>\n",
              "      <td>FAPI</td>\n",
              "      <td>02.226.122/0001-26</td>\n",
              "      <td>UNIBANCO FUNDO DE APOSENTADORIA PROGRAMADA IND...</td>\n",
              "      <td>EM FUNCIONAMENTO NORMAL</td>\n",
              "      <td>1997-12-05</td>\n",
              "      <td></td>\n",
              "      <td></td>\n",
              "      <td>4740.45</td>\n",
              "    </tr>\n",
              "    <tr>\n",
              "      <th>2</th>\n",
              "      <td>FAPI</td>\n",
              "      <td>02.177.815/0001-76</td>\n",
              "      <td>ITAU FAPI CONSERVADOR - FUNDO DE APOSENTADORIA...</td>\n",
              "      <td>EM FUNCIONAMENTO NORMAL</td>\n",
              "      <td>1997-12-16</td>\n",
              "      <td></td>\n",
              "      <td></td>\n",
              "      <td>2044493.92</td>\n",
              "    </tr>\n",
              "    <tr>\n",
              "      <th>3</th>\n",
              "      <td>FAPI</td>\n",
              "      <td>02.185.027/0001-21</td>\n",
              "      <td>BRADESCO FUNDO DE APOSENTADORIA PROGRAMADA IND...</td>\n",
              "      <td>EM FUNCIONAMENTO NORMAL</td>\n",
              "      <td>1997-12-19</td>\n",
              "      <td></td>\n",
              "      <td></td>\n",
              "      <td>453086833.64</td>\n",
              "    </tr>\n",
              "    <tr>\n",
              "      <th>4</th>\n",
              "      <td>FAPI</td>\n",
              "      <td>02.297.533/0001-02</td>\n",
              "      <td>BRADESCO FUNDO DE APOSENTADORIA PROGRAMADA IND...</td>\n",
              "      <td>EM FUNCIONAMENTO NORMAL</td>\n",
              "      <td>1997-12-29</td>\n",
              "      <td></td>\n",
              "      <td></td>\n",
              "      <td>15654242.81</td>\n",
              "    </tr>\n",
              "  </tbody>\n",
              "</table>\n",
              "</div>"
            ],
            "text/plain": [
              "  TP_FUNDO          CNPJ_FUNDO  ... FUNDO_EXCLUSIVO VL_PATRIM_LIQ\n",
              "0     FAPI  02.177.812/0001-32  ...                   66438968.44\n",
              "1     FAPI  02.226.122/0001-26  ...                       4740.45\n",
              "2     FAPI  02.177.815/0001-76  ...                    2044493.92\n",
              "3     FAPI  02.185.027/0001-21  ...                  453086833.64\n",
              "4     FAPI  02.297.533/0001-02  ...                   15654242.81\n",
              "\n",
              "[5 rows x 8 columns]"
            ]
          },
          "metadata": {
            "tags": []
          },
          "execution_count": 89
        }
      ]
    },
    {
      "cell_type": "markdown",
      "metadata": {
        "id": "1M2krjmBL2Hs"
      },
      "source": [
        "### Gestores"
      ]
    },
    {
      "cell_type": "code",
      "metadata": {
        "colab": {
          "base_uri": "https://localhost:8080/",
          "height": 206
        },
        "id": "FEfYtH3QMVwp",
        "outputId": "2c73e45d-783d-4d03-85f0-4d012518adca"
      },
      "source": [
        "fundos_gestores.to_csv(diretorio_saida + 'fundos_gestores.csv', index=False, encoding='utf-8')\n",
        "fundos_gestores.head()"
      ],
      "execution_count": null,
      "outputs": [
        {
          "output_type": "execute_result",
          "data": {
            "text/html": [
              "<div>\n",
              "<style scoped>\n",
              "    .dataframe tbody tr th:only-of-type {\n",
              "        vertical-align: middle;\n",
              "    }\n",
              "\n",
              "    .dataframe tbody tr th {\n",
              "        vertical-align: top;\n",
              "    }\n",
              "\n",
              "    .dataframe thead th {\n",
              "        text-align: right;\n",
              "    }\n",
              "</style>\n",
              "<table border=\"1\" class=\"dataframe\">\n",
              "  <thead>\n",
              "    <tr style=\"text-align: right;\">\n",
              "      <th></th>\n",
              "      <th>CNPJ_FUNDO</th>\n",
              "      <th>CPF_CNPJ_GESTOR</th>\n",
              "    </tr>\n",
              "  </thead>\n",
              "  <tbody>\n",
              "    <tr>\n",
              "      <th>0</th>\n",
              "      <td>03.915.495/0001-77</td>\n",
              "      <td>60.701.190/0001-04</td>\n",
              "    </tr>\n",
              "    <tr>\n",
              "      <th>1</th>\n",
              "      <td>02.838.578/0001-47</td>\n",
              "      <td>30.822.936/0001-69</td>\n",
              "    </tr>\n",
              "    <tr>\n",
              "      <th>2</th>\n",
              "      <td>02.998.275/0001-91</td>\n",
              "      <td>62.375.134/0001-44</td>\n",
              "    </tr>\n",
              "    <tr>\n",
              "      <th>3</th>\n",
              "      <td>03.555.959/0001-81</td>\n",
              "      <td>00.360.305/0001-04</td>\n",
              "    </tr>\n",
              "    <tr>\n",
              "      <th>4</th>\n",
              "      <td>03.859.784/0001-04</td>\n",
              "      <td>33.311.713/0001-25</td>\n",
              "    </tr>\n",
              "  </tbody>\n",
              "</table>\n",
              "</div>"
            ],
            "text/plain": [
              "           CNPJ_FUNDO     CPF_CNPJ_GESTOR\n",
              "0  03.915.495/0001-77  60.701.190/0001-04\n",
              "1  02.838.578/0001-47  30.822.936/0001-69\n",
              "2  02.998.275/0001-91  62.375.134/0001-44\n",
              "3  03.555.959/0001-81  00.360.305/0001-04\n",
              "4  03.859.784/0001-04  33.311.713/0001-25"
            ]
          },
          "metadata": {
            "tags": []
          },
          "execution_count": 90
        }
      ]
    },
    {
      "cell_type": "code",
      "metadata": {
        "colab": {
          "base_uri": "https://localhost:8080/",
          "height": 206
        },
        "id": "v_J87423LI_w",
        "outputId": "1808526b-26f1-4eb3-f5e9-024c65f540bf"
      },
      "source": [
        "gestores.to_csv(diretorio_saida + 'gestores.csv', index=False, encoding='utf-8')\n",
        "gestores.head()"
      ],
      "execution_count": null,
      "outputs": [
        {
          "output_type": "execute_result",
          "data": {
            "text/html": [
              "<div>\n",
              "<style scoped>\n",
              "    .dataframe tbody tr th:only-of-type {\n",
              "        vertical-align: middle;\n",
              "    }\n",
              "\n",
              "    .dataframe tbody tr th {\n",
              "        vertical-align: top;\n",
              "    }\n",
              "\n",
              "    .dataframe thead th {\n",
              "        text-align: right;\n",
              "    }\n",
              "</style>\n",
              "<table border=\"1\" class=\"dataframe\">\n",
              "  <thead>\n",
              "    <tr style=\"text-align: right;\">\n",
              "      <th></th>\n",
              "      <th>CPF_CNPJ_GESTOR</th>\n",
              "      <th>GESTOR</th>\n",
              "    </tr>\n",
              "  </thead>\n",
              "  <tbody>\n",
              "    <tr>\n",
              "      <th>60</th>\n",
              "      <td>60.770.336/0001-65</td>\n",
              "      <td>BANCO ALFA DE INVESTIMENTO S.A.</td>\n",
              "    </tr>\n",
              "    <tr>\n",
              "      <th>1070</th>\n",
              "      <td>60.701.190/0001-04</td>\n",
              "      <td>ITAU UNIBANCO S.A.</td>\n",
              "    </tr>\n",
              "    <tr>\n",
              "      <th>1095</th>\n",
              "      <td>33.172.537/0001-98</td>\n",
              "      <td>BANCO J.P. MORGAN S.A.</td>\n",
              "    </tr>\n",
              "    <tr>\n",
              "      <th>1707</th>\n",
              "      <td>12.695.840/0001-03</td>\n",
              "      <td>JULIUS BAER FAMILY OFFICE BRASIL GESTÃO DE PAT...</td>\n",
              "    </tr>\n",
              "    <tr>\n",
              "      <th>3277</th>\n",
              "      <td>62.375.134/0001-44</td>\n",
              "      <td>BRAM - BRADESCO ASSET MANAGEMENT S.A. DISTRIBU...</td>\n",
              "    </tr>\n",
              "  </tbody>\n",
              "</table>\n",
              "</div>"
            ],
            "text/plain": [
              "         CPF_CNPJ_GESTOR                                             GESTOR\n",
              "60    60.770.336/0001-65                    BANCO ALFA DE INVESTIMENTO S.A.\n",
              "1070  60.701.190/0001-04                                 ITAU UNIBANCO S.A.\n",
              "1095  33.172.537/0001-98                             BANCO J.P. MORGAN S.A.\n",
              "1707  12.695.840/0001-03  JULIUS BAER FAMILY OFFICE BRASIL GESTÃO DE PAT...\n",
              "3277  62.375.134/0001-44  BRAM - BRADESCO ASSET MANAGEMENT S.A. DISTRIBU..."
            ]
          },
          "metadata": {
            "tags": []
          },
          "execution_count": 91
        }
      ]
    },
    {
      "cell_type": "markdown",
      "metadata": {
        "id": "HUKO21vrC7Au"
      },
      "source": [
        "### Ativos"
      ]
    },
    {
      "cell_type": "code",
      "metadata": {
        "id": "bhYZ-pDQifab"
      },
      "source": [
        "ativos_emissor_isin = pd.concat([titulos_publicos_emissor, \n",
        "           swap_emissor,       \n",
        "           ativos_codificados_emissor]).fillna('')\n",
        "\n",
        "ativos_emissor_isin.reset_index(drop=True, inplace=True)       \n",
        "\n",
        "ativos_emissor_isin['ID_EMISSOR'] = ativos_emissor_isin.apply(lambda row: id_emissor(row), axis=1)\n",
        "ativos_emissor_isin['ID_EMISSOR'] = ativos_emissor_isin['ID_EMISSOR'].apply(hash)\n",
        "\n",
        "ativos_emissor_isin['ID_ATIVO']   =  \\\n",
        "        ativos_emissor_isin['CD_ATIVO'] \\\n",
        "+ '|' + ativos_emissor_isin['CD_ISIN'] \\\n",
        "+ '|' \\\n",
        "+ '|' \\\n",
        "+ '|' \\\n",
        "+ '|' \\\n",
        "+ '|' \n",
        "\n",
        "ativos_emissor_isin['ID_ATIVO'] = ativos_emissor_isin['ID_ATIVO'].apply(hash)"
      ],
      "execution_count": null,
      "outputs": []
    },
    {
      "cell_type": "code",
      "metadata": {
        "id": "JLTNfxEBSt-G"
      },
      "source": [
        "ativos_emissor = pd.concat([depositos_prazo_emissor, \n",
        "           titulos_agronegocio_emissor, \n",
        "           investimento_exterior_emissor, \n",
        "           ativos_nao_codificados_emissor]).fillna('')\n",
        "\n",
        "ativos_emissor.reset_index(drop=True, inplace=True)       \n",
        "\n",
        "ativos_emissor['ID_EMISSOR'] = ativos_emissor.apply(lambda row: id_emissor(row), axis=1)\n",
        "ativos_emissor['ID_EMISSOR'] = ativos_emissor['ID_EMISSOR'].apply(hash)\n",
        "\n",
        "ativos_emissor['ID_ATIVO']   = \\\n",
        "        ativos_emissor['CD_ATIVO'] \\\n",
        "+ '|' \\\n",
        "+ '|' + ativos_emissor['DS_ATIVO'] \\\n",
        "+ '|' + ativos_emissor['DT_VENC'] \\\n",
        "+ '|' + ativos_emissor['BV_MERC'] \\\n",
        "+ '|' + ativos_emissor['PAIS'] \\\n",
        "+ '|' + ativos_emissor['ID_EMISSOR'] \n",
        "           \n",
        "ativos_emissor['ID_ATIVO'] = ativos_emissor['ID_ATIVO'].apply(hash)"
      ],
      "execution_count": null,
      "outputs": []
    },
    {
      "cell_type": "code",
      "metadata": {
        "colab": {
          "base_uri": "https://localhost:8080/",
          "height": 206
        },
        "id": "o6WNf4yo8jZf",
        "outputId": "1631e76f-61fd-4763-cfac-2992d701b644"
      },
      "source": [
        "ativos = pd.concat([ativos_emissor_isin[['ID_ATIVO','CD_ATIVO','CD_ISIN','DS_ATIVO', 'DT_VENC','ID_EMISSOR']],\n",
        "                                     ativos_emissor[['ID_ATIVO','CD_ATIVO','DS_ATIVO','BV_MERC','PAIS','DT_VENC','ID_EMISSOR']]]).fillna('')\n",
        "\n",
        "df = ativos.drop(['ID_EMISSOR'], axis=1)\n",
        "df.to_csv(diretorio_saida + 'ativos.csv', index=False, encoding='utf-8')\n",
        "df.head()"
      ],
      "execution_count": null,
      "outputs": [
        {
          "output_type": "execute_result",
          "data": {
            "text/html": [
              "<div>\n",
              "<style scoped>\n",
              "    .dataframe tbody tr th:only-of-type {\n",
              "        vertical-align: middle;\n",
              "    }\n",
              "\n",
              "    .dataframe tbody tr th {\n",
              "        vertical-align: top;\n",
              "    }\n",
              "\n",
              "    .dataframe thead th {\n",
              "        text-align: right;\n",
              "    }\n",
              "</style>\n",
              "<table border=\"1\" class=\"dataframe\">\n",
              "  <thead>\n",
              "    <tr style=\"text-align: right;\">\n",
              "      <th></th>\n",
              "      <th>ID_ATIVO</th>\n",
              "      <th>CD_ATIVO</th>\n",
              "      <th>CD_ISIN</th>\n",
              "      <th>DS_ATIVO</th>\n",
              "      <th>DT_VENC</th>\n",
              "      <th>BV_MERC</th>\n",
              "      <th>PAIS</th>\n",
              "    </tr>\n",
              "  </thead>\n",
              "  <tbody>\n",
              "    <tr>\n",
              "      <th>0</th>\n",
              "      <td>1d10237b4abbca11a03a6ee745d6cac6</td>\n",
              "      <td></td>\n",
              "      <td>BRSTNCLF1R74</td>\n",
              "      <td>LETRAS FINANCEIRAS DO TESOURO LETRAS FINANCEIR...</td>\n",
              "      <td>2022-09-01</td>\n",
              "      <td></td>\n",
              "      <td></td>\n",
              "    </tr>\n",
              "    <tr>\n",
              "      <th>1</th>\n",
              "      <td>c72352b69567bd78998644887a498ae9</td>\n",
              "      <td></td>\n",
              "      <td>BRSTNCNTF1P8</td>\n",
              "      <td>NOTAS DO TESOURO NACIONAL SERIE F NOTAS DO TES...</td>\n",
              "      <td>2027-01-01</td>\n",
              "      <td></td>\n",
              "      <td></td>\n",
              "    </tr>\n",
              "    <tr>\n",
              "      <th>2</th>\n",
              "      <td>266c59d25d42be89f4db5e419fbc4ef4</td>\n",
              "      <td></td>\n",
              "      <td>BRSTNCLTN7O0</td>\n",
              "      <td>LETRAS DO TESOURO NACIONAL LETRAS DO TESOURO N...</td>\n",
              "      <td>2022-07-01</td>\n",
              "      <td></td>\n",
              "      <td></td>\n",
              "    </tr>\n",
              "    <tr>\n",
              "      <th>3</th>\n",
              "      <td>744a9a382e0cdeae5d5711538e0b8dbc</td>\n",
              "      <td></td>\n",
              "      <td>BRSTNCNTB4O9</td>\n",
              "      <td>NOTAS DO TESOURO NACIONAL SERIE B NOTAS DO TES...</td>\n",
              "      <td>2023-05-15</td>\n",
              "      <td></td>\n",
              "      <td></td>\n",
              "    </tr>\n",
              "    <tr>\n",
              "      <th>4</th>\n",
              "      <td>931fda6a5040d49705a8baf564d28659</td>\n",
              "      <td></td>\n",
              "      <td>BRSTNCNTB096</td>\n",
              "      <td>NOTAS DO TESOURO NACIONAL SERIE B NOTAS DO TES...</td>\n",
              "      <td>2024-08-15</td>\n",
              "      <td></td>\n",
              "      <td></td>\n",
              "    </tr>\n",
              "  </tbody>\n",
              "</table>\n",
              "</div>"
            ],
            "text/plain": [
              "                           ID_ATIVO CD_ATIVO  ... BV_MERC PAIS\n",
              "0  1d10237b4abbca11a03a6ee745d6cac6           ...             \n",
              "1  c72352b69567bd78998644887a498ae9           ...             \n",
              "2  266c59d25d42be89f4db5e419fbc4ef4           ...             \n",
              "3  744a9a382e0cdeae5d5711538e0b8dbc           ...             \n",
              "4  931fda6a5040d49705a8baf564d28659           ...             \n",
              "\n",
              "[5 rows x 7 columns]"
            ]
          },
          "metadata": {
            "tags": []
          },
          "execution_count": 94
        }
      ]
    },
    {
      "cell_type": "code",
      "metadata": {
        "colab": {
          "base_uri": "https://localhost:8080/",
          "height": 206
        },
        "id": "hSIyrpZGPnFQ",
        "outputId": "dc17bef0-efa0-4fdf-9786-f9b81d06f65b"
      },
      "source": [
        "df = ativos[['ID_ATIVO','ID_EMISSOR']]\n",
        "\n",
        "ativos_emissores = df[df['ID_EMISSOR']!=''].drop_duplicates()\n",
        "\n",
        "ativos_emissores.to_csv(diretorio_saida + 'ativos_emissores.csv', index=False, encoding='utf-8')\n",
        "ativos_emissores.head()"
      ],
      "execution_count": null,
      "outputs": [
        {
          "output_type": "execute_result",
          "data": {
            "text/html": [
              "<div>\n",
              "<style scoped>\n",
              "    .dataframe tbody tr th:only-of-type {\n",
              "        vertical-align: middle;\n",
              "    }\n",
              "\n",
              "    .dataframe tbody tr th {\n",
              "        vertical-align: top;\n",
              "    }\n",
              "\n",
              "    .dataframe thead th {\n",
              "        text-align: right;\n",
              "    }\n",
              "</style>\n",
              "<table border=\"1\" class=\"dataframe\">\n",
              "  <thead>\n",
              "    <tr style=\"text-align: right;\">\n",
              "      <th></th>\n",
              "      <th>ID_ATIVO</th>\n",
              "      <th>ID_EMISSOR</th>\n",
              "    </tr>\n",
              "  </thead>\n",
              "  <tbody>\n",
              "    <tr>\n",
              "      <th>0</th>\n",
              "      <td>1d10237b4abbca11a03a6ee745d6cac6</td>\n",
              "      <td>0425aba961b0e9399dbc2cfb7628f351</td>\n",
              "    </tr>\n",
              "    <tr>\n",
              "      <th>1</th>\n",
              "      <td>c72352b69567bd78998644887a498ae9</td>\n",
              "      <td>0425aba961b0e9399dbc2cfb7628f351</td>\n",
              "    </tr>\n",
              "    <tr>\n",
              "      <th>2</th>\n",
              "      <td>266c59d25d42be89f4db5e419fbc4ef4</td>\n",
              "      <td>0425aba961b0e9399dbc2cfb7628f351</td>\n",
              "    </tr>\n",
              "    <tr>\n",
              "      <th>3</th>\n",
              "      <td>744a9a382e0cdeae5d5711538e0b8dbc</td>\n",
              "      <td>0425aba961b0e9399dbc2cfb7628f351</td>\n",
              "    </tr>\n",
              "    <tr>\n",
              "      <th>4</th>\n",
              "      <td>931fda6a5040d49705a8baf564d28659</td>\n",
              "      <td>0425aba961b0e9399dbc2cfb7628f351</td>\n",
              "    </tr>\n",
              "  </tbody>\n",
              "</table>\n",
              "</div>"
            ],
            "text/plain": [
              "                           ID_ATIVO                        ID_EMISSOR\n",
              "0  1d10237b4abbca11a03a6ee745d6cac6  0425aba961b0e9399dbc2cfb7628f351\n",
              "1  c72352b69567bd78998644887a498ae9  0425aba961b0e9399dbc2cfb7628f351\n",
              "2  266c59d25d42be89f4db5e419fbc4ef4  0425aba961b0e9399dbc2cfb7628f351\n",
              "3  744a9a382e0cdeae5d5711538e0b8dbc  0425aba961b0e9399dbc2cfb7628f351\n",
              "4  931fda6a5040d49705a8baf564d28659  0425aba961b0e9399dbc2cfb7628f351"
            ]
          },
          "metadata": {
            "tags": []
          },
          "execution_count": 95
        }
      ]
    },
    {
      "cell_type": "markdown",
      "metadata": {
        "id": "r1rb4n_8Cxvq"
      },
      "source": [
        "### Emissores"
      ]
    },
    {
      "cell_type": "code",
      "metadata": {
        "id": "Sryyrql0mY2i"
      },
      "source": [
        "df = nomes_emissores.fillna('')\n",
        "\n",
        "df['ID_EMISSOR'] = df.apply(lambda row: id_emissor(row), axis=1)\n",
        "df['ID_EMISSOR'] = df['ID_EMISSOR'].apply(hash)\n",
        "\n",
        "emissores = pd.merge(df, ativos_emissores.drop(['ID_ATIVO'], axis=1),\n",
        "                                    how=\"inner\", on=[\"ID_EMISSOR\"])\n",
        "\n",
        "emissores = emissores.drop_duplicates()"
      ],
      "execution_count": null,
      "outputs": []
    },
    {
      "cell_type": "code",
      "metadata": {
        "colab": {
          "base_uri": "https://localhost:8080/",
          "height": 206
        },
        "id": "QIJ7cPCQ85Ya",
        "outputId": "c7918c3e-30ac-49aa-fc12-5106d48b12bb"
      },
      "source": [
        "emissores.to_csv(diretorio_saida + 'emissores.csv', index=False, encoding='utf-8')\n",
        "emissores.head()"
      ],
      "execution_count": null,
      "outputs": [
        {
          "output_type": "execute_result",
          "data": {
            "text/html": [
              "<div>\n",
              "<style scoped>\n",
              "    .dataframe tbody tr th:only-of-type {\n",
              "        vertical-align: middle;\n",
              "    }\n",
              "\n",
              "    .dataframe tbody tr th {\n",
              "        vertical-align: top;\n",
              "    }\n",
              "\n",
              "    .dataframe thead th {\n",
              "        text-align: right;\n",
              "    }\n",
              "</style>\n",
              "<table border=\"1\" class=\"dataframe\">\n",
              "  <thead>\n",
              "    <tr style=\"text-align: right;\">\n",
              "      <th></th>\n",
              "      <th>CPF_CNPJ_EMISSOR</th>\n",
              "      <th>EMISSOR</th>\n",
              "      <th>ID_EMISSOR</th>\n",
              "    </tr>\n",
              "  </thead>\n",
              "  <tbody>\n",
              "    <tr>\n",
              "      <th>0</th>\n",
              "      <td>07.810.517/0001-95</td>\n",
              "      <td>BANCO BTG PACTUAL S/A</td>\n",
              "      <td>249b405a038d00c48f7483c43b59e5a0</td>\n",
              "    </tr>\n",
              "    <tr>\n",
              "      <th>3</th>\n",
              "      <td>18.236.120/0001-58</td>\n",
              "      <td>NU PAGAMENTOS</td>\n",
              "      <td>a56f712fdc592e2c9d4298a2749e82fc</td>\n",
              "    </tr>\n",
              "    <tr>\n",
              "      <th>5</th>\n",
              "      <td>30.121.792/0001-13</td>\n",
              "      <td>CREDIT SUISSE</td>\n",
              "      <td>19cd2d95762278159bf15475ccfe4302</td>\n",
              "    </tr>\n",
              "    <tr>\n",
              "      <th>68</th>\n",
              "      <td>60.701.190/4816-09</td>\n",
              "      <td>ITAU UNIBANCO S</td>\n",
              "      <td>df1ffeef2ddbe3968250b491c38abb3c</td>\n",
              "    </tr>\n",
              "    <tr>\n",
              "      <th>72</th>\n",
              "      <td>11.476.673/0001-39</td>\n",
              "      <td>BANCO RANDON SA</td>\n",
              "      <td>76321e15ed003bb6e20e7a2beb2324d1</td>\n",
              "    </tr>\n",
              "  </tbody>\n",
              "</table>\n",
              "</div>"
            ],
            "text/plain": [
              "      CPF_CNPJ_EMISSOR                EMISSOR                        ID_EMISSOR\n",
              "0   07.810.517/0001-95  BANCO BTG PACTUAL S/A  249b405a038d00c48f7483c43b59e5a0\n",
              "3   18.236.120/0001-58          NU PAGAMENTOS  a56f712fdc592e2c9d4298a2749e82fc\n",
              "5   30.121.792/0001-13          CREDIT SUISSE  19cd2d95762278159bf15475ccfe4302\n",
              "68  60.701.190/4816-09        ITAU UNIBANCO S  df1ffeef2ddbe3968250b491c38abb3c\n",
              "72  11.476.673/0001-39        BANCO RANDON SA  76321e15ed003bb6e20e7a2beb2324d1"
            ]
          },
          "metadata": {
            "tags": []
          },
          "execution_count": 97
        }
      ]
    },
    {
      "cell_type": "markdown",
      "metadata": {
        "id": "b5o-Ee-mC-fv"
      },
      "source": [
        "### Aplicações"
      ]
    },
    {
      "cell_type": "markdown",
      "metadata": {
        "id": "jVdzZ1_BNhSc"
      },
      "source": [
        "#### Aplicações em Ativos"
      ]
    },
    {
      "cell_type": "code",
      "metadata": {
        "id": "Dv5VhVkG9Ryy"
      },
      "source": [
        "aplicacoes_ativos_isin = pd.concat([aplic_cda1, aplic_cda3, aplic_cda4]).fillna('')\n",
        "\n",
        "aplicacoes_ativos_isin.reset_index(drop=True, inplace=True)  \n",
        "\n",
        "aplicacoes_ativos_isin['ID_ATIVO'] = \\\n",
        "        aplicacoes_ativos_isin['CD_ATIVO'] \\\n",
        "+ '|' + aplicacoes_ativos_isin['CD_ISIN'] \\\n",
        "+ '|' \\\n",
        "+ '|' \\\n",
        "+ '|' \\\n",
        "+ '|' \\\n",
        "+ '|' \n",
        "\n",
        "aplicacoes_ativos_isin['ID_ATIVO'] = aplicacoes_ativos_isin['ID_ATIVO'].apply(hash)"
      ],
      "execution_count": null,
      "outputs": []
    },
    {
      "cell_type": "code",
      "metadata": {
        "id": "YK0SHmgXRwHE"
      },
      "source": [
        "aplicacoes_ativos = pd.concat([aplic_cda5, aplic_cda6, aplic_cda7, aplic_cda8]).fillna('')\n",
        "\n",
        "aplicacoes_ativos.reset_index(drop=True, inplace=True) \n",
        "\n",
        "aplicacoes_ativos['ID_ATIVO'] = \\\n",
        "        aplicacoes_ativos['CD_ATIVO'] \\\n",
        "+ '|' \\\n",
        "+ '|' + aplicacoes_ativos['DS_ATIVO'] \\\n",
        "+ '|' + aplicacoes_ativos['DT_VENC'] \\\n",
        "+ '|' + aplicacoes_ativos['BV_MERC'] \\\n",
        "+ '|' + aplicacoes_ativos['PAIS'] \\\n",
        "+ '|' + aplicacoes_ativos.apply(lambda row: id_emissor(row), axis=1).apply(hash) \n",
        "\n",
        "aplicacoes_ativos['ID_ATIVO'] = aplicacoes_ativos['ID_ATIVO'].apply(hash)"
      ],
      "execution_count": null,
      "outputs": []
    },
    {
      "cell_type": "code",
      "metadata": {
        "id": "5joCVDZEBvGN"
      },
      "source": [
        "aplicacoes_ativos_completo = pd.concat([aplicacoes_ativos_isin[['CNPJ_FUNDO','VL_APLIC','PR_PATRIM_LIQ','ID_ATIVO']],\n",
        "                                 aplicacoes_ativos[['CNPJ_FUNDO','VL_APLIC','PR_PATRIM_LIQ','ID_ATIVO']]]).\\\n",
        "                                     fillna('')\n",
        "\n",
        "aplicacoes_ativos_completo.reset_index(drop=True, inplace=True)\n",
        "aplicacoes_ativos_completo['ID_APLIC'] = aplicacoes_ativos_completo.index"
      ],
      "execution_count": null,
      "outputs": []
    },
    {
      "cell_type": "code",
      "metadata": {
        "colab": {
          "base_uri": "https://localhost:8080/",
          "height": 206
        },
        "id": "9voy-TMY85qX",
        "outputId": "b92ce895-a171-4651-8974-1424086d56b5"
      },
      "source": [
        "aplicacoes_ativos_completo.to_csv(diretorio_saida + 'aplicacoes_ativos.csv', index=False, encoding='utf-8')\n",
        "aplicacoes_ativos_completo.head()"
      ],
      "execution_count": null,
      "outputs": [
        {
          "output_type": "execute_result",
          "data": {
            "text/html": [
              "<div>\n",
              "<style scoped>\n",
              "    .dataframe tbody tr th:only-of-type {\n",
              "        vertical-align: middle;\n",
              "    }\n",
              "\n",
              "    .dataframe tbody tr th {\n",
              "        vertical-align: top;\n",
              "    }\n",
              "\n",
              "    .dataframe thead th {\n",
              "        text-align: right;\n",
              "    }\n",
              "</style>\n",
              "<table border=\"1\" class=\"dataframe\">\n",
              "  <thead>\n",
              "    <tr style=\"text-align: right;\">\n",
              "      <th></th>\n",
              "      <th>CNPJ_FUNDO</th>\n",
              "      <th>VL_APLIC</th>\n",
              "      <th>PR_PATRIM_LIQ</th>\n",
              "      <th>ID_ATIVO</th>\n",
              "      <th>ID_APLIC</th>\n",
              "    </tr>\n",
              "  </thead>\n",
              "  <tbody>\n",
              "    <tr>\n",
              "      <th>0</th>\n",
              "      <td>02.010.153/0001-45</td>\n",
              "      <td>856146.22</td>\n",
              "      <td>5.013</td>\n",
              "      <td>1d10237b4abbca11a03a6ee745d6cac6</td>\n",
              "      <td>0</td>\n",
              "    </tr>\n",
              "    <tr>\n",
              "      <th>1</th>\n",
              "      <td>02.010.153/0001-45</td>\n",
              "      <td>4355691.07</td>\n",
              "      <td>25.502</td>\n",
              "      <td>c72352b69567bd78998644887a498ae9</td>\n",
              "      <td>1</td>\n",
              "    </tr>\n",
              "    <tr>\n",
              "      <th>2</th>\n",
              "      <td>02.010.153/0001-45</td>\n",
              "      <td>7055241.89</td>\n",
              "      <td>41.308</td>\n",
              "      <td>266c59d25d42be89f4db5e419fbc4ef4</td>\n",
              "      <td>2</td>\n",
              "    </tr>\n",
              "    <tr>\n",
              "      <th>3</th>\n",
              "      <td>02.010.153/0001-45</td>\n",
              "      <td>26512.28</td>\n",
              "      <td>0.155</td>\n",
              "      <td>744a9a382e0cdeae5d5711538e0b8dbc</td>\n",
              "      <td>3</td>\n",
              "    </tr>\n",
              "    <tr>\n",
              "      <th>4</th>\n",
              "      <td>02.010.153/0001-45</td>\n",
              "      <td>1265516.96</td>\n",
              "      <td>7.410</td>\n",
              "      <td>931fda6a5040d49705a8baf564d28659</td>\n",
              "      <td>4</td>\n",
              "    </tr>\n",
              "  </tbody>\n",
              "</table>\n",
              "</div>"
            ],
            "text/plain": [
              "           CNPJ_FUNDO    VL_APLIC  ...                          ID_ATIVO ID_APLIC\n",
              "0  02.010.153/0001-45   856146.22  ...  1d10237b4abbca11a03a6ee745d6cac6        0\n",
              "1  02.010.153/0001-45  4355691.07  ...  c72352b69567bd78998644887a498ae9        1\n",
              "2  02.010.153/0001-45  7055241.89  ...  266c59d25d42be89f4db5e419fbc4ef4        2\n",
              "3  02.010.153/0001-45    26512.28  ...  744a9a382e0cdeae5d5711538e0b8dbc        3\n",
              "4  02.010.153/0001-45  1265516.96  ...  931fda6a5040d49705a8baf564d28659        4\n",
              "\n",
              "[5 rows x 5 columns]"
            ]
          },
          "metadata": {
            "tags": []
          },
          "execution_count": 101
        }
      ]
    },
    {
      "cell_type": "markdown",
      "metadata": {
        "id": "mdVne8c5MviX"
      },
      "source": [
        "#### Aplicações em Fundos"
      ]
    },
    {
      "cell_type": "code",
      "metadata": {
        "id": "ocuNLRTQOF6t"
      },
      "source": [
        "aplicacoes_cotas_fundos = aplic_cda2[['CNPJ_FUNDO','VL_APLIC','PR_PATRIM_LIQ','CNPJ_FUNDO_COTA']]"
      ],
      "execution_count": null,
      "outputs": []
    },
    {
      "cell_type": "code",
      "metadata": {
        "colab": {
          "base_uri": "https://localhost:8080/",
          "height": 206
        },
        "id": "YJiuERtc85ix",
        "outputId": "aafe608c-a771-4e17-f7c5-48d3348700be"
      },
      "source": [
        "aplicacoes_cotas_fundos.to_csv(diretorio_saida + 'aplicacoes_cotas_fundos.csv', index=False, encoding='utf-8')\n",
        "aplicacoes_cotas_fundos.head()"
      ],
      "execution_count": null,
      "outputs": [
        {
          "output_type": "execute_result",
          "data": {
            "text/html": [
              "<div>\n",
              "<style scoped>\n",
              "    .dataframe tbody tr th:only-of-type {\n",
              "        vertical-align: middle;\n",
              "    }\n",
              "\n",
              "    .dataframe tbody tr th {\n",
              "        vertical-align: top;\n",
              "    }\n",
              "\n",
              "    .dataframe thead th {\n",
              "        text-align: right;\n",
              "    }\n",
              "</style>\n",
              "<table border=\"1\" class=\"dataframe\">\n",
              "  <thead>\n",
              "    <tr style=\"text-align: right;\">\n",
              "      <th></th>\n",
              "      <th>CNPJ_FUNDO</th>\n",
              "      <th>VL_APLIC</th>\n",
              "      <th>PR_PATRIM_LIQ</th>\n",
              "      <th>CNPJ_FUNDO_COTA</th>\n",
              "    </tr>\n",
              "  </thead>\n",
              "  <tbody>\n",
              "    <tr>\n",
              "      <th>0</th>\n",
              "      <td>00.068.305/0001-35</td>\n",
              "      <td>46221487.84</td>\n",
              "      <td>100.077</td>\n",
              "      <td>08.046.417/0001-05</td>\n",
              "    </tr>\n",
              "    <tr>\n",
              "      <th>1</th>\n",
              "      <td>00.071.477/0001-68</td>\n",
              "      <td>33160782612.92</td>\n",
              "      <td>100.008</td>\n",
              "      <td>01.608.573/0001-65</td>\n",
              "    </tr>\n",
              "    <tr>\n",
              "      <th>2</th>\n",
              "      <td>00.083.181/0001-67</td>\n",
              "      <td>147100863.98</td>\n",
              "      <td>0.948</td>\n",
              "      <td>01.235.622/0001-61</td>\n",
              "    </tr>\n",
              "    <tr>\n",
              "      <th>3</th>\n",
              "      <td>00.083.181/0001-67</td>\n",
              "      <td>216970194.57</td>\n",
              "      <td>1.398</td>\n",
              "      <td>10.597.218/0001-29</td>\n",
              "    </tr>\n",
              "    <tr>\n",
              "      <th>4</th>\n",
              "      <td>00.083.181/0001-67</td>\n",
              "      <td>1915404901.42</td>\n",
              "      <td>12.342</td>\n",
              "      <td>08.277.553/0001-06</td>\n",
              "    </tr>\n",
              "  </tbody>\n",
              "</table>\n",
              "</div>"
            ],
            "text/plain": [
              "           CNPJ_FUNDO        VL_APLIC  PR_PATRIM_LIQ     CNPJ_FUNDO_COTA\n",
              "0  00.068.305/0001-35     46221487.84        100.077  08.046.417/0001-05\n",
              "1  00.071.477/0001-68  33160782612.92        100.008  01.608.573/0001-65\n",
              "2  00.083.181/0001-67    147100863.98          0.948  01.235.622/0001-61\n",
              "3  00.083.181/0001-67    216970194.57          1.398  10.597.218/0001-29\n",
              "4  00.083.181/0001-67   1915404901.42         12.342  08.277.553/0001-06"
            ]
          },
          "metadata": {
            "tags": []
          },
          "execution_count": 103
        }
      ]
    },
    {
      "cell_type": "code",
      "metadata": {
        "id": "ut-3yoNRNrBu"
      },
      "source": [
        ""
      ],
      "execution_count": null,
      "outputs": []
    }
  ]
}