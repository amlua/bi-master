{
  "nbformat": 4,
  "nbformat_minor": 0,
  "metadata": {
    "colab": {
      "name": "download-preparacao.ipynb",
      "provenance": [],
      "collapsed_sections": [],
      "toc_visible": true,
      "include_colab_link": true
    },
    "kernelspec": {
      "display_name": "Python 3",
      "language": "python",
      "name": "python3"
    },
    "language_info": {
      "codemirror_mode": {
        "name": "ipython",
        "version": 3
      },
      "file_extension": ".py",
      "mimetype": "text/x-python",
      "name": "python",
      "nbconvert_exporter": "python",
      "pygments_lexer": "ipython3",
      "version": "3.7.9"
    }
  },
  "cells": [
    {
      "cell_type": "markdown",
      "metadata": {
        "id": "view-in-github",
        "colab_type": "text"
      },
      "source": [
        "<a href=\"https://colab.research.google.com/github/amlua/bi-master/blob/carga-analise-dados/download_preparacao.ipynb\" target=\"_parent\"><img src=\"https://colab.research.google.com/assets/colab-badge.svg\" alt=\"Open In Colab\"/></a>"
      ]
    },
    {
      "cell_type": "markdown",
      "metadata": {
        "id": "Z4fxG7C4VxqX"
      },
      "source": [
        "# Composição de Carteira de Fundos de Investimento: Obtenção e preparação dos dados\n",
        "---\n"
      ]
    },
    {
      "cell_type": "markdown",
      "metadata": {
        "id": "kpI9opRGhO6n"
      },
      "source": [
        "## Importação de bibliotecas"
      ]
    },
    {
      "cell_type": "code",
      "metadata": {
        "id": "zZQ9wV4yVxqj"
      },
      "source": [
        "# import pandas e numpy\n",
        "import pandas as pd\n",
        "import numpy as np"
      ],
      "execution_count": 1,
      "outputs": []
    },
    {
      "cell_type": "code",
      "metadata": {
        "id": "qDEYguJznFfH"
      },
      "source": [
        "# import google.colab.drive\n",
        "from google.colab import drive"
      ],
      "execution_count": 2,
      "outputs": []
    },
    {
      "cell_type": "code",
      "metadata": {
        "id": "YgYtY43bWVIY"
      },
      "source": [
        "# import os, glob, zipfile e hashlib\n",
        "import os\n",
        "import glob\n",
        "import zipfile\n",
        "import hashlib"
      ],
      "execution_count": 3,
      "outputs": []
    },
    {
      "cell_type": "code",
      "metadata": {
        "id": "9rcTAsi7l_u5"
      },
      "source": [
        "# import datetime, timedelta e time\n",
        "from datetime import datetime\n",
        "from datetime import timedelta\n",
        "import time"
      ],
      "execution_count": 4,
      "outputs": []
    },
    {
      "cell_type": "markdown",
      "metadata": {
        "id": "Hme0TK7kkTZ1"
      },
      "source": [
        "### Selenium"
      ]
    },
    {
      "cell_type": "code",
      "metadata": {
        "id": "Alr9GklwkPoa"
      },
      "source": [
        "# Instalação do navegador e do pacote Selenium\n",
        "!apt install chromium-chromedriver\n",
        "!pip install selenium"
      ],
      "execution_count": null,
      "outputs": []
    },
    {
      "cell_type": "code",
      "metadata": {
        "id": "kTjEcHQlkcXf"
      },
      "source": [
        "# import webdriver e  ActionChains (selenium)\n",
        "from selenium import webdriver\n",
        "from selenium.webdriver.common.action_chains import ActionChains"
      ],
      "execution_count": 6,
      "outputs": []
    },
    {
      "cell_type": "markdown",
      "metadata": {
        "id": "WOdbAIrvBZmo"
      },
      "source": [
        "## Definição de funções"
      ]
    },
    {
      "cell_type": "code",
      "metadata": {
        "id": "hhYB_mC_lJm0"
      },
      "source": [
        "url_dados_abertos_cvm = 'http://dados.cvm.gov.br/dados'\n",
        "\n",
        "def comptc():\n",
        "  hoje = datetime.now() - timedelta(days=7)\n",
        "  ano_atual = hoje.year\n",
        "  mes_atual = hoje.month\n",
        "  mes_comptc = mes_atual - 4 \n",
        "  ano_comptc = ano_atual\n",
        "  if mes_comptc <= 0:\n",
        "    ano_comptc = ano_comptc -1\n",
        "    mes_comptc = 12 + mes_comptc\n",
        "  return '_{:02d}{:02d}'.format(ano_comptc,mes_comptc)\n",
        "\n",
        "def busca_dados_abertos_cvm_cadastro():\n",
        "  return url_dados_abertos_cvm + '/FI/CAD/DADOS/cad_fi.csv'\n",
        "\n",
        "def busca_dados_abertos_cvm_carteira():\n",
        "  arquivo = '/FI/DOC/CDA/DADOS/cda_fi'\n",
        "  url = '{}{}'.format(url_dados_abertos_cvm,arquivo)\n",
        "  url = url + comptc() + '.zip'\n",
        "  return url"
      ],
      "execution_count": 7,
      "outputs": []
    },
    {
      "cell_type": "code",
      "metadata": {
        "id": "MJNt0fq5l3io"
      },
      "source": [
        "def busca_isin_b3():\n",
        "  url_busca_isin_b3 = 'https://sistemaswebb3-listados.b3.com.br/isinPage/?language=pt-br'\n",
        "\n",
        "  # Configuração do webdriver\n",
        "  options = webdriver.ChromeOptions()\n",
        "  options.add_argument('-headless')\n",
        "  options.add_argument('-no-sandbox')\n",
        "  options.add_argument('-disable-dev-shm-usage')\n",
        "  wd = webdriver.Chrome('chromedriver',options=options)\n",
        "\n",
        "  # Acesso à página\n",
        "  wd.get(url_busca_isin_b3)\n",
        "\n",
        "  # Interação com a página e download do arquivo isinp.zip\n",
        "  button1 = wd.find_element_by_class_name('collapsed')\n",
        "  button1.click()\n",
        "  button3 = wd.find_element_by_class_name('click-p')\n",
        "  action=ActionChains(wd)\n",
        "  time.sleep(10)\n",
        "  action.move_to_element(button3).click().perform();\n",
        "  time.sleep(20)\n",
        " "
      ],
      "execution_count": 8,
      "outputs": []
    },
    {
      "cell_type": "code",
      "metadata": {
        "id": "wnxDHpurszSU"
      },
      "source": [
        "def formataCNPJ(cnpj):\n",
        "  if cnpj == '':\n",
        "    return cnpj\n",
        "  cnpj = str(cnpj)\n",
        "  if len(cnpj) < 14:\n",
        "    cnpj = cnpj.zfill(14)\n",
        "  return '{}.{}.{}/{}-{}'.format(cnpj[:2], cnpj[2:5], cnpj[5:8], cnpj[8:12], cnpj[12:])"
      ],
      "execution_count": 9,
      "outputs": []
    },
    {
      "cell_type": "code",
      "metadata": {
        "id": "Zdq0pwYLiKX6"
      },
      "source": [
        "def aplic_ativo(row):\n",
        "  return row['TP_APLIC'] + ' - ' + row['TP_ATIVO']\n",
        "\n",
        "def aplic_ativo_descricao(row):\n",
        "  return aplic_ativo(row) + ' - ' + row['DS_ATIVO']"
      ],
      "execution_count": 10,
      "outputs": []
    },
    {
      "cell_type": "code",
      "metadata": {
        "id": "1MP54xEpkbmX"
      },
      "source": [
        "def sit_aux(row):\n",
        "  if row['SIT'] in ['CANCELADA', 'INCORPORAÇÃO', 'TRANSFORMAÇÃO']:\n",
        "    return 0\n",
        "  else:\n",
        "    return 1"
      ],
      "execution_count": 11,
      "outputs": []
    },
    {
      "cell_type": "code",
      "metadata": {
        "id": "u-xGRusHHvim"
      },
      "source": [
        "def ds_ativo(row):\n",
        "  if row['DS_ATIVO_2'] != '':\n",
        "    return row['DS_ATIVO_2']\n",
        "  else:\n",
        "    return row['DS_ATIVO_1']"
      ],
      "execution_count": 12,
      "outputs": []
    },
    {
      "cell_type": "code",
      "metadata": {
        "id": "tlpx48-7dzp5"
      },
      "source": [
        "def emissor(row):\n",
        "  if row['EMISSOR_2'] != '':\n",
        "    return row['EMISSOR_2']\n",
        "  else:\n",
        "    return row['EMISSOR_1']"
      ],
      "execution_count": 13,
      "outputs": []
    },
    {
      "cell_type": "code",
      "metadata": {
        "id": "5IUAMuyazSa_"
      },
      "source": [
        "def pr_patrim_liq(row):\n",
        "  a = float(row['VL_APLIC'])\n",
        "  b = float(row['VL_PATRIM_LIQ'])\n",
        "  if a == 0 or b == 0:\n",
        "    return 0\n",
        "  else:\n",
        "    if row['TP_APLIC'] in ['Opções - Posições lançadas', 'Valores a pagar', 'Obrigações por ações e outros TVM recebidos em empréstimo', 'DIFERENCIAL DE SWAP A PAGAR']:\n",
        "      return round(a/b * (-100),3)\n",
        "    else:\n",
        "      return round(a/b * (100),3)  "
      ],
      "execution_count": 14,
      "outputs": []
    },
    {
      "cell_type": "code",
      "metadata": {
        "id": "HDz327icI3Pg"
      },
      "source": [
        "def id_emissor(row):\n",
        "  if row['CPF_CNPJ_EMISSOR']!='':\n",
        "    return row['CPF_CNPJ_EMISSOR'] + '|'\n",
        "  elif row['EMISSOR']!='':\n",
        "    return '|' + row['EMISSOR']\n",
        "  else:\n",
        "    return ''"
      ],
      "execution_count": 15,
      "outputs": []
    },
    {
      "cell_type": "code",
      "metadata": {
        "id": "spI9Eyaq_xwX"
      },
      "source": [
        "def hash(frase):\n",
        "  if frase == '':\n",
        "    return frase\n",
        "  else:\n",
        "    return hashlib.md5(str(frase).encode('utf-8')).hexdigest()   "
      ],
      "execution_count": 16,
      "outputs": []
    },
    {
      "cell_type": "markdown",
      "metadata": {
        "id": "pBHlRtAjVxqm"
      },
      "source": [
        "## Download dos arquivos de dados\n"
      ]
    },
    {
      "cell_type": "code",
      "metadata": {
        "id": "C15yLUlvvYMP"
      },
      "source": [
        "# Cadastro de fundos (PDA-CVM)\n",
        "url = busca_dados_abertos_cvm_cadastro()\n",
        "os.system('wget %s -O ./cad_fi.csv' %url)"
      ],
      "execution_count": null,
      "outputs": []
    },
    {
      "cell_type": "code",
      "metadata": {
        "id": "6LL-i96bvj40"
      },
      "source": [
        "# Carteiras de fundos (PDA-CVM)\n",
        "url = busca_dados_abertos_cvm_carteira()\n",
        "os.system('wget %s -O ./cda_fi.zip' %url)"
      ],
      "execution_count": null,
      "outputs": []
    },
    {
      "cell_type": "code",
      "metadata": {
        "id": "2Grcv1TC1CUn"
      },
      "source": [
        "# Emissores e ativos (B3)\n",
        "busca_isin_b3()"
      ],
      "execution_count": 19,
      "outputs": []
    },
    {
      "cell_type": "code",
      "metadata": {
        "id": "nyR19OKnoItX"
      },
      "source": [
        "!ls -l"
      ],
      "execution_count": null,
      "outputs": []
    },
    {
      "cell_type": "markdown",
      "metadata": {
        "id": "Fq5_gI-Pz1IZ"
      },
      "source": [
        "### Datasets de informações  cadastrais de fundos (Portal de Dados Abertos - CVM)"
      ]
    },
    {
      "cell_type": "code",
      "metadata": {
        "id": "TgE8A9qqo0QF"
      },
      "source": [
        "cad_fundo       = pd.read_csv('./cad_fi.csv', sep=';', encoding='ISO-8859-1',\n",
        "                              usecols=['CNPJ_FUNDO', 'DENOM_SOCIAL', 'DT_REG', 'SIT', 'DT_INI_SIT', 'TP_FUNDO', 'FUNDO_COTAS', 'FUNDO_EXCLUSIVO', 'CPF_CNPJ_GESTOR'], dtype=object)\n",
        "cad_gestor      = pd.read_csv('./cad_fi.csv', sep=';', encoding='ISO-8859-1',\n",
        "                              usecols=['CPF_CNPJ_GESTOR','GESTOR'], dtype=object)"
      ],
      "execution_count": 21,
      "outputs": []
    },
    {
      "cell_type": "code",
      "metadata": {
        "id": "31Y2ECATKG2-"
      },
      "source": [
        "cad_fundo['FUNDO_COTAS'].replace('N', 'False', inplace=True)\n",
        "cad_fundo['FUNDO_COTAS'].replace('S', 'True', inplace=True)\n",
        "\n",
        "cad_fundo['FUNDO_EXCLUSIVO'].replace('N', 'False', inplace=True)\n",
        "cad_fundo['FUNDO_EXCLUSIVO'].replace('S', 'True', inplace=True)"
      ],
      "execution_count": 22,
      "outputs": []
    },
    {
      "cell_type": "markdown",
      "metadata": {
        "id": "WhqV_C570RLp"
      },
      "source": [
        "### Datasets de aplicações de fundos (Portal de Dados Abertos - CVM)\n"
      ]
    },
    {
      "cell_type": "code",
      "metadata": {
        "id": "oqSkOEuzWaYu"
      },
      "source": [
        "zf = zipfile.ZipFile('./cda_fi.zip') \n",
        "\n",
        "# Patrimônio Líquido\n",
        "cda0 = pd.read_csv(zf.open('cda_fi_PL' + comptc() + '.csv'),    sep=';', encoding='ISO-8859-1', \n",
        "                   usecols=['CNPJ_FUNDO', 'VL_PATRIM_LIQ'], dtype=object)             \n",
        "                          \n",
        "# 1. Titulos Públicos\n",
        "cda1 = pd.read_csv(zf.open('cda_fi_BLC_1' + comptc() + '.csv'), sep=';', encoding='ISO-8859-1', \n",
        "                   usecols=['CNPJ_FUNDO', 'TP_APLIC', 'VL_MERC_POS_FINAL', 'CD_ISIN', 'TP_TITPUB', 'DT_VENC'], \n",
        "                   dtype=object)\\\n",
        "                   [['CNPJ_FUNDO','TP_APLIC', 'VL_MERC_POS_FINAL','CD_ISIN', 'TP_TITPUB','DT_VENC']].\\\n",
        "                   rename(columns={'VL_MERC_POS_FINAL': 'VL_APLIC','TP_TITPUB': 'DS_ATIVO'})\\\n",
        "                                \n",
        "# 2. Cotas de Fundos\n",
        "cda2 = pd.read_csv(zf.open('cda_fi_BLC_2' + comptc() + '.csv'), sep=';', encoding='ISO-8859-1', \n",
        "                   usecols=['CNPJ_FUNDO', 'TP_APLIC', 'VL_MERC_POS_FINAL', 'CNPJ_FUNDO_COTA'], \n",
        "                   dtype=object)\\\n",
        "                   [['CNPJ_FUNDO', 'TP_APLIC', 'VL_MERC_POS_FINAL', 'CNPJ_FUNDO_COTA']].\\\n",
        "                   rename(columns={'VL_MERC_POS_FINAL': 'VL_APLIC'})     \n",
        "\n",
        "# 3. SWAP\n",
        "cda3 = pd.read_csv(zf.open('cda_fi_BLC_3' + comptc() + '.csv'), sep=';', encoding='ISO-8859-1', \n",
        "                   usecols=['CNPJ_FUNDO', 'TP_APLIC', 'VL_MERC_POS_FINAL', 'CD_SWAP', 'DS_SWAP'], \n",
        "                   dtype=object)\\\n",
        "                   [['CNPJ_FUNDO', 'TP_APLIC', 'VL_MERC_POS_FINAL', 'CD_SWAP', 'DS_SWAP']].\\\n",
        "                   rename(columns={'VL_MERC_POS_FINAL': 'VL_APLIC','DS_SWAP': 'CD_ATIVO'})  \n",
        "\n",
        "# 4. Ativos Codificados\n",
        "cda4 = pd.read_csv(zf.open('cda_fi_BLC_4' + comptc() + '.csv'), sep=';', encoding='ISO-8859-1', \n",
        "                   usecols=['CNPJ_FUNDO', 'TP_APLIC', 'TP_ATIVO', 'VL_MERC_POS_FINAL', 'CD_ISIN', 'CD_ATIVO' ], \n",
        "                   dtype=object)\\\n",
        "                   [['CNPJ_FUNDO', 'TP_APLIC', 'VL_MERC_POS_FINAL', 'CD_ISIN', 'CD_ATIVO', 'TP_ATIVO' ]].\\\n",
        "                   rename(columns={'VL_MERC_POS_FINAL': 'VL_APLIC','TP_ATIVO': 'DS_ATIVO'})                        \n",
        "\n",
        "# 5. Depósitos a Prazo e Outros Títulos de IF\n",
        "cda5 = pd.read_csv(zf.open('cda_fi_BLC_5' + comptc() + '.csv'), sep=';', encoding='ISO-8859-1', \n",
        "                   usecols=['CNPJ_FUNDO', 'TP_APLIC', 'TP_ATIVO', 'VL_MERC_POS_FINAL', 'DT_VENC', 'CNPJ_EMISSOR', 'EMISSOR'], \n",
        "                   dtype=object)\\\n",
        "                   [['CNPJ_FUNDO', 'TP_APLIC', 'TP_ATIVO', 'VL_MERC_POS_FINAL', 'DT_VENC', 'CNPJ_EMISSOR', 'EMISSOR']].\\\n",
        "                   rename(columns={'VL_MERC_POS_FINAL': 'VL_APLIC', 'CNPJ_EMISSOR': 'CPF_CNPJ_EMISSOR'})       \n",
        "\n",
        "# 6. Títulos do Agronegócio e de Crédito Privado\n",
        "cda6 = pd.read_csv(zf.open('cda_fi_BLC_6' + comptc() + '.csv'), sep=';', encoding='ISO-8859-1', \n",
        "                   usecols=['CNPJ_FUNDO', 'TP_APLIC', 'TP_ATIVO', 'VL_MERC_POS_FINAL', 'DT_VENC', 'CPF_CNPJ_EMISSOR', 'EMISSOR'], \n",
        "                   dtype=object)\\\n",
        "                   [['CNPJ_FUNDO', 'TP_APLIC', 'TP_ATIVO', 'VL_MERC_POS_FINAL', 'DT_VENC', 'CPF_CNPJ_EMISSOR', 'EMISSOR']].\\\n",
        "                   rename(columns={'VL_MERC_POS_FINAL': 'VL_APLIC'})     \n",
        "\n",
        "# 7. Investimento no Exterior\n",
        "cda7 = pd.read_csv(zf.open('cda_fi_BLC_7' + comptc() + '.csv'), sep=';', encoding='ISO-8859-1', \n",
        "                   usecols=['CNPJ_FUNDO', 'TP_APLIC', 'TP_ATIVO', 'VL_MERC_POS_FINAL', 'CD_ATIVO_BV_MERC', 'BV_MERC', 'PAIS', 'DT_VENC', 'EMISSOR'], \n",
        "                   dtype=object)\\\n",
        "                   [['CNPJ_FUNDO', 'TP_APLIC', 'VL_MERC_POS_FINAL', 'CD_ATIVO_BV_MERC', 'BV_MERC', 'PAIS', 'TP_ATIVO', 'DT_VENC', 'EMISSOR']].\\\n",
        "                   rename(columns={'VL_MERC_POS_FINAL': 'VL_APLIC','CD_ATIVO_BV_MERC': 'CD_ATIVO'})      \n",
        "\n",
        "# 8. Ativos não Codificados\n",
        "cda8 = pd.read_csv(zf.open('cda_fi_BLC_8' + comptc() + '.csv'), sep=';', encoding='ISO-8859-1', \n",
        "                   usecols=['CNPJ_FUNDO', 'TP_APLIC', 'TP_ATIVO', 'VL_MERC_POS_FINAL', 'DS_ATIVO', 'CPF_CNPJ_EMISSOR', 'EMISSOR'], \n",
        "                   dtype=object)\\\n",
        "                   [['CNPJ_FUNDO', 'TP_APLIC', 'TP_ATIVO', 'VL_MERC_POS_FINAL', 'DS_ATIVO', 'CPF_CNPJ_EMISSOR', 'EMISSOR']].\\\n",
        "                   rename(columns={'VL_MERC_POS_FINAL': 'VL_APLIC'})             "
      ],
      "execution_count": 23,
      "outputs": []
    },
    {
      "cell_type": "code",
      "metadata": {
        "id": "dlYnbbGbbe7J"
      },
      "source": [
        "cda5['DS_ATIVO'] = cda5.apply(lambda row: aplic_ativo(row), axis=1)\n",
        "cda6['DS_ATIVO'] = cda6.apply(lambda row: aplic_ativo(row), axis=1)\n",
        "cda7['DS_ATIVO'] = cda7.apply(lambda row: aplic_ativo(row), axis=1)\n",
        "cda8['DS_ATIVO'] = cda8.apply(lambda row: aplic_ativo_descricao(row), axis=1)\n",
        "\n",
        "cda5 = cda5.drop(['TP_ATIVO'], axis=1)\n",
        "cda6 = cda6.drop(['TP_ATIVO'], axis=1)\n",
        "cda7 = cda7.drop(['TP_ATIVO'], axis=1)\n",
        "cda8 = cda8.drop(['TP_ATIVO'], axis=1)"
      ],
      "execution_count": 24,
      "outputs": []
    },
    {
      "cell_type": "markdown",
      "metadata": {
        "id": "Kreaj6S_0fQj"
      },
      "source": [
        "### Datasets de ativos e emissores (Site B3)"
      ]
    },
    {
      "cell_type": "code",
      "metadata": {
        "id": "qA83lKBs3arb"
      },
      "source": [
        "zf = zipfile.ZipFile('./isinp.zip') \n",
        "ativos_isin = pd.read_csv(zf.open('NUMERACA.TXT'), sep=',', header=None, \\\n",
        "                   usecols=[2, 3, 5, 20], dtype=object, \\\n",
        "                   names=['CD_ISIN', 'COD_EMISSOR', 'DS_ATIVO', 'COD_TIPO'])\\\n",
        "                   [['CD_ISIN', 'COD_TIPO', 'DS_ATIVO', 'COD_EMISSOR']]\n",
        "emissores_ativos_isin = pd.read_csv(zf.open('EMISSOR.TXT') , sep=',', header=None, \\\n",
        "                   usecols=[0, 1, 2], dtype=object, \\\n",
        "                   names=['COD_EMISSOR', 'EMISSOR', 'CNPJ_EMISSOR'])"
      ],
      "execution_count": 25,
      "outputs": []
    },
    {
      "cell_type": "code",
      "metadata": {
        "id": "rivketRY5s31"
      },
      "source": [
        "emissores_ativos_isin['CNPJ_EMISSOR'] = emissores_ativos_isin.CNPJ_EMISSOR.fillna('').apply(formataCNPJ)\n",
        "emissores_ativos_isin = emissores_ativos_isin.rename(columns={'CNPJ_EMISSOR': 'CPF_CNPJ_EMISSOR'})"
      ],
      "execution_count": 26,
      "outputs": []
    },
    {
      "cell_type": "markdown",
      "metadata": {
        "id": "uvSAhiM_E9zE"
      },
      "source": [
        "## Tratamento dos dados"
      ]
    },
    {
      "cell_type": "markdown",
      "metadata": {
        "id": "h0HWkafeD52V"
      },
      "source": [
        "### Fundos\n"
      ]
    },
    {
      "cell_type": "code",
      "metadata": {
        "colab": {
          "base_uri": "https://localhost:8080/"
        },
        "id": "lm2RkX_WhSre",
        "outputId": "b61a5ee2-9dbf-43e9-ea83-76cc9d19a715"
      },
      "source": [
        "# Inspecionando domínio do campo SIT (Situação do fundo)\n",
        "print(cad_fundo.SIT.unique())"
      ],
      "execution_count": 27,
      "outputs": [
        {
          "output_type": "stream",
          "text": [
            "['CANCELADA' 'EM FUNCIONAMENTO NORMAL' 'LIQUIDAÇÃO' 'INCORPORAÇÃO'\n",
            " 'FASE PRÉ-OPERACIONAL' 'EM SITUAÇÃO ESPECIAL' 'TRANSFORMAÇÃO'\n",
            " 'EM ANÁLISE']\n"
          ],
          "name": "stdout"
        }
      ]
    },
    {
      "cell_type": "code",
      "metadata": {
        "colab": {
          "base_uri": "https://localhost:8080/",
          "height": 424
        },
        "id": "thQm-0aN5KDB",
        "outputId": "601f5747-e25c-4957-cc14-274a375d1084"
      },
      "source": [
        "# Inspecionando fundos com mais de uma linha no dataset\n",
        "cad_fundo[cad_fundo.duplicated(subset=['CNPJ_FUNDO'], keep=False)].sort_values('CNPJ_FUNDO')"
      ],
      "execution_count": 28,
      "outputs": [
        {
          "output_type": "execute_result",
          "data": {
            "text/html": [
              "<div>\n",
              "<style scoped>\n",
              "    .dataframe tbody tr th:only-of-type {\n",
              "        vertical-align: middle;\n",
              "    }\n",
              "\n",
              "    .dataframe tbody tr th {\n",
              "        vertical-align: top;\n",
              "    }\n",
              "\n",
              "    .dataframe thead th {\n",
              "        text-align: right;\n",
              "    }\n",
              "</style>\n",
              "<table border=\"1\" class=\"dataframe\">\n",
              "  <thead>\n",
              "    <tr style=\"text-align: right;\">\n",
              "      <th></th>\n",
              "      <th>TP_FUNDO</th>\n",
              "      <th>CNPJ_FUNDO</th>\n",
              "      <th>DENOM_SOCIAL</th>\n",
              "      <th>DT_REG</th>\n",
              "      <th>SIT</th>\n",
              "      <th>DT_INI_SIT</th>\n",
              "      <th>FUNDO_COTAS</th>\n",
              "      <th>FUNDO_EXCLUSIVO</th>\n",
              "      <th>CPF_CNPJ_GESTOR</th>\n",
              "    </tr>\n",
              "  </thead>\n",
              "  <tbody>\n",
              "    <tr>\n",
              "      <th>5278</th>\n",
              "      <td>FI</td>\n",
              "      <td>00.000.432/0001-00</td>\n",
              "      <td>COPESUL  - FUNDO DE INVESTIMENTO MULTIMERCADO ...</td>\n",
              "      <td>2005-03-31</td>\n",
              "      <td>CANCELADA</td>\n",
              "      <td>2008-07-18</td>\n",
              "      <td>False</td>\n",
              "      <td>True</td>\n",
              "      <td>NaN</td>\n",
              "    </tr>\n",
              "    <tr>\n",
              "      <th>49560</th>\n",
              "      <td>FIF</td>\n",
              "      <td>00.000.432/0001-00</td>\n",
              "      <td>COPESUL  - FUNDO DE INVESTIMENTO MULTIMERCADO ...</td>\n",
              "      <td>2003-04-30</td>\n",
              "      <td>CANCELADA</td>\n",
              "      <td>2005-03-31</td>\n",
              "      <td>NaN</td>\n",
              "      <td>NaN</td>\n",
              "      <td>NaN</td>\n",
              "    </tr>\n",
              "    <tr>\n",
              "      <th>49566</th>\n",
              "      <td>FIF</td>\n",
              "      <td>00.000.744/0001-06</td>\n",
              "      <td>REAL FUNDO DE INVESTIMENTO CURTO PRAZO DAILY A</td>\n",
              "      <td>2003-04-30</td>\n",
              "      <td>CANCELADA</td>\n",
              "      <td>2005-01-01</td>\n",
              "      <td>NaN</td>\n",
              "      <td>NaN</td>\n",
              "      <td>NaN</td>\n",
              "    </tr>\n",
              "    <tr>\n",
              "      <th>5279</th>\n",
              "      <td>FI</td>\n",
              "      <td>00.000.744/0001-06</td>\n",
              "      <td>REAL FUNDO DE INVESTIMENTO CURTO PRAZO DAILY A</td>\n",
              "      <td>2005-01-13</td>\n",
              "      <td>CANCELADA</td>\n",
              "      <td>2006-06-30</td>\n",
              "      <td>False</td>\n",
              "      <td>False</td>\n",
              "      <td>NaN</td>\n",
              "    </tr>\n",
              "    <tr>\n",
              "      <th>5280</th>\n",
              "      <td>FI</td>\n",
              "      <td>00.000.746/0001-03</td>\n",
              "      <td>ALFA DINÂMICO - FUNDO DE INVESTIMENTO EM COTAS...</td>\n",
              "      <td>2004-12-09</td>\n",
              "      <td>CANCELADA</td>\n",
              "      <td>2016-09-26</td>\n",
              "      <td>True</td>\n",
              "      <td>False</td>\n",
              "      <td>60.770.336/0001-65</td>\n",
              "    </tr>\n",
              "    <tr>\n",
              "      <th>...</th>\n",
              "      <td>...</td>\n",
              "      <td>...</td>\n",
              "      <td>...</td>\n",
              "      <td>...</td>\n",
              "      <td>...</td>\n",
              "      <td>...</td>\n",
              "      <td>...</td>\n",
              "      <td>...</td>\n",
              "      <td>...</td>\n",
              "    </tr>\n",
              "    <tr>\n",
              "      <th>49348</th>\n",
              "      <td>FIDC</td>\n",
              "      <td>97.525.450/0001-30</td>\n",
              "      <td>G5 AP INFRA FUNDO DE INVESTIMENTO EM DIREITOS ...</td>\n",
              "      <td>2017-12-07</td>\n",
              "      <td>EM FUNCIONAMENTO NORMAL</td>\n",
              "      <td>2017-12-07</td>\n",
              "      <td>False</td>\n",
              "      <td>NaN</td>\n",
              "      <td>09.446.129/0001-00</td>\n",
              "    </tr>\n",
              "    <tr>\n",
              "      <th>46482</th>\n",
              "      <td>FI</td>\n",
              "      <td>97.525.450/0001-30</td>\n",
              "      <td>G5 AP INFRA FUNDO DE INVESTIMENTO EM DIREITOS ...</td>\n",
              "      <td>2011-08-10</td>\n",
              "      <td>CANCELADA</td>\n",
              "      <td>2017-12-07</td>\n",
              "      <td>False</td>\n",
              "      <td>False</td>\n",
              "      <td>NaN</td>\n",
              "    </tr>\n",
              "    <tr>\n",
              "      <th>46483</th>\n",
              "      <td>FI</td>\n",
              "      <td>97.525.452/0001-29</td>\n",
              "      <td>G5 SCB II FUNDO DE INVESTIMENTO EM AÇÕES</td>\n",
              "      <td>2011-08-10</td>\n",
              "      <td>CANCELADA</td>\n",
              "      <td>2017-12-19</td>\n",
              "      <td>False</td>\n",
              "      <td>False</td>\n",
              "      <td>NaN</td>\n",
              "    </tr>\n",
              "    <tr>\n",
              "      <th>46484</th>\n",
              "      <td>FI</td>\n",
              "      <td>97.525.452/0001-29</td>\n",
              "      <td>G5 SCB II FUNDO DE INVESTIMENTO EM AÇÕES</td>\n",
              "      <td>2020-02-12</td>\n",
              "      <td>EM FUNCIONAMENTO NORMAL</td>\n",
              "      <td>2020-02-12</td>\n",
              "      <td>False</td>\n",
              "      <td>False</td>\n",
              "      <td>09.446.129/0001-00</td>\n",
              "    </tr>\n",
              "    <tr>\n",
              "      <th>49349</th>\n",
              "      <td>FIDC</td>\n",
              "      <td>97.525.452/0001-29</td>\n",
              "      <td>G5 SCB II FUNDO DE INVESTIMENTO EM AÇÕES</td>\n",
              "      <td>2017-12-19</td>\n",
              "      <td>CANCELADA</td>\n",
              "      <td>2020-02-12</td>\n",
              "      <td>False</td>\n",
              "      <td>NaN</td>\n",
              "      <td>09.446.129/0001-00</td>\n",
              "    </tr>\n",
              "  </tbody>\n",
              "</table>\n",
              "<p>14977 rows × 9 columns</p>\n",
              "</div>"
            ],
            "text/plain": [
              "      TP_FUNDO          CNPJ_FUNDO  ... FUNDO_EXCLUSIVO     CPF_CNPJ_GESTOR\n",
              "5278        FI  00.000.432/0001-00  ...            True                 NaN\n",
              "49560      FIF  00.000.432/0001-00  ...             NaN                 NaN\n",
              "49566      FIF  00.000.744/0001-06  ...             NaN                 NaN\n",
              "5279        FI  00.000.744/0001-06  ...           False                 NaN\n",
              "5280        FI  00.000.746/0001-03  ...           False  60.770.336/0001-65\n",
              "...        ...                 ...  ...             ...                 ...\n",
              "49348     FIDC  97.525.450/0001-30  ...             NaN  09.446.129/0001-00\n",
              "46482       FI  97.525.450/0001-30  ...           False                 NaN\n",
              "46483       FI  97.525.452/0001-29  ...           False                 NaN\n",
              "46484       FI  97.525.452/0001-29  ...           False  09.446.129/0001-00\n",
              "49349     FIDC  97.525.452/0001-29  ...             NaN  09.446.129/0001-00\n",
              "\n",
              "[14977 rows x 9 columns]"
            ]
          },
          "metadata": {
            "tags": []
          },
          "execution_count": 28
        }
      ]
    },
    {
      "cell_type": "code",
      "metadata": {
        "colab": {
          "base_uri": "https://localhost:8080/",
          "height": 424
        },
        "id": "TXsfYSfwKhWu",
        "outputId": "e75e9a42-bfe8-4bc2-a3ed-1cb64c27db4f"
      },
      "source": [
        "# Selecionando as linhas correspondentes à situação mais recente do fundo\n",
        "fundos_ultima_situacao = cad_fundo[['TP_FUNDO','CNPJ_FUNDO','DENOM_SOCIAL','DT_REG', 'SIT','DT_INI_SIT','FUNDO_COTAS','FUNDO_EXCLUSIVO']]\n",
        "fundos_ultima_situacao['SIT_AUX'] = fundos_ultima_situacao.apply(lambda row: sit_aux(row), axis=1)\n",
        "\n",
        "fundos_ultima_situacao = fundos_ultima_situacao.sort_values(by=['DT_INI_SIT', 'DT_REG', 'SIT_AUX']).drop_duplicates(subset=['CNPJ_FUNDO'],keep='last')\n",
        "fundos_ultima_situacao = fundos_ultima_situacao.drop(['DT_REG'], axis=1)\n",
        "fundos_ultima_situacao = fundos_ultima_situacao.drop(['SIT_AUX'], axis=1)\n",
        "\n",
        "fundos_ultima_situacao"
      ],
      "execution_count": 29,
      "outputs": [
        {
          "output_type": "execute_result",
          "data": {
            "text/html": [
              "<div>\n",
              "<style scoped>\n",
              "    .dataframe tbody tr th:only-of-type {\n",
              "        vertical-align: middle;\n",
              "    }\n",
              "\n",
              "    .dataframe tbody tr th {\n",
              "        vertical-align: top;\n",
              "    }\n",
              "\n",
              "    .dataframe thead th {\n",
              "        text-align: right;\n",
              "    }\n",
              "</style>\n",
              "<table border=\"1\" class=\"dataframe\">\n",
              "  <thead>\n",
              "    <tr style=\"text-align: right;\">\n",
              "      <th></th>\n",
              "      <th>TP_FUNDO</th>\n",
              "      <th>CNPJ_FUNDO</th>\n",
              "      <th>DENOM_SOCIAL</th>\n",
              "      <th>SIT</th>\n",
              "      <th>DT_INI_SIT</th>\n",
              "      <th>FUNDO_COTAS</th>\n",
              "      <th>FUNDO_EXCLUSIVO</th>\n",
              "    </tr>\n",
              "  </thead>\n",
              "  <tbody>\n",
              "    <tr>\n",
              "      <th>59026</th>\n",
              "      <td>FMIA</td>\n",
              "      <td>29.183.837/0001-03</td>\n",
              "      <td>F LAN?A DE A</td>\n",
              "      <td>CANCELADA</td>\n",
              "      <td>1986-05-25</td>\n",
              "      <td>NaN</td>\n",
              "      <td>NaN</td>\n",
              "    </tr>\n",
              "    <tr>\n",
              "      <th>59124</th>\n",
              "      <td>FMIA</td>\n",
              "      <td>55.221.998/0001-46</td>\n",
              "      <td>F PRICE DE A</td>\n",
              "      <td>CANCELADA</td>\n",
              "      <td>1987-06-05</td>\n",
              "      <td>NaN</td>\n",
              "      <td>NaN</td>\n",
              "    </tr>\n",
              "    <tr>\n",
              "      <th>59134</th>\n",
              "      <td>FMIA</td>\n",
              "      <td>56.093.081/0001-76</td>\n",
              "      <td>F ULTRACRED DE A</td>\n",
              "      <td>CANCELADA</td>\n",
              "      <td>1987-09-03</td>\n",
              "      <td>NaN</td>\n",
              "      <td>NaN</td>\n",
              "    </tr>\n",
              "    <tr>\n",
              "      <th>59032</th>\n",
              "      <td>FMIA</td>\n",
              "      <td>29.410.727/0001-29</td>\n",
              "      <td>PORTINVEST FIA PORTAL</td>\n",
              "      <td>CANCELADA</td>\n",
              "      <td>1987-10-30</td>\n",
              "      <td>NaN</td>\n",
              "      <td>NaN</td>\n",
              "    </tr>\n",
              "    <tr>\n",
              "      <th>59037</th>\n",
              "      <td>FMIA</td>\n",
              "      <td>29.415.700/0001-29</td>\n",
              "      <td>BONANÇA F DE A</td>\n",
              "      <td>CANCELADA</td>\n",
              "      <td>1987-11-10</td>\n",
              "      <td>NaN</td>\n",
              "      <td>NaN</td>\n",
              "    </tr>\n",
              "    <tr>\n",
              "      <th>...</th>\n",
              "      <td>...</td>\n",
              "      <td>...</td>\n",
              "      <td>...</td>\n",
              "      <td>...</td>\n",
              "      <td>...</td>\n",
              "      <td>...</td>\n",
              "      <td>...</td>\n",
              "    </tr>\n",
              "    <tr>\n",
              "      <th>58005</th>\n",
              "      <td>FIP</td>\n",
              "      <td>41.082.921/0001-28</td>\n",
              "      <td>FUNDO DE INVESTIMENTO EM PARTICIPAÇÕES BTG PAC...</td>\n",
              "      <td>FASE PRÉ-OPERACIONAL</td>\n",
              "      <td>2021-04-01</td>\n",
              "      <td>False</td>\n",
              "      <td>NaN</td>\n",
              "    </tr>\n",
              "    <tr>\n",
              "      <th>58008</th>\n",
              "      <td>FIP</td>\n",
              "      <td>41.256.932/0001-87</td>\n",
              "      <td>ROXO ESCARLATE FUNDO DE INVESTIMENTO EM PARTIC...</td>\n",
              "      <td>FASE PRÉ-OPERACIONAL</td>\n",
              "      <td>2021-04-01</td>\n",
              "      <td>False</td>\n",
              "      <td>NaN</td>\n",
              "    </tr>\n",
              "    <tr>\n",
              "      <th>49005</th>\n",
              "      <td>FIDC</td>\n",
              "      <td>35.099.744/0001-90</td>\n",
              "      <td>NOVO MUNDO FUNDO DE INVESTIMENTO EM DIREITOS C...</td>\n",
              "      <td>EM ANÁLISE</td>\n",
              "      <td>2021-04-01</td>\n",
              "      <td>False</td>\n",
              "      <td>NaN</td>\n",
              "    </tr>\n",
              "    <tr>\n",
              "      <th>35847</th>\n",
              "      <td>FI</td>\n",
              "      <td>29.300.737/0001-01</td>\n",
              "      <td>MANAGER LOGOS FUNDO DE INVESTIMENTO EM COTAS D...</td>\n",
              "      <td>EM FUNCIONAMENTO NORMAL</td>\n",
              "      <td>2021-10-01</td>\n",
              "      <td>True</td>\n",
              "      <td>False</td>\n",
              "    </tr>\n",
              "    <tr>\n",
              "      <th>45146</th>\n",
              "      <td>FI</td>\n",
              "      <td>39.817.883/0001-62</td>\n",
              "      <td>XP RESERVA TÉCNICA FUNDO DE INVESTIMENTO RENDA...</td>\n",
              "      <td>EM FUNCIONAMENTO NORMAL</td>\n",
              "      <td>2021-11-18</td>\n",
              "      <td>False</td>\n",
              "      <td>False</td>\n",
              "    </tr>\n",
              "  </tbody>\n",
              "</table>\n",
              "<p>52369 rows × 7 columns</p>\n",
              "</div>"
            ],
            "text/plain": [
              "      TP_FUNDO          CNPJ_FUNDO  ... FUNDO_COTAS FUNDO_EXCLUSIVO\n",
              "59026     FMIA  29.183.837/0001-03  ...         NaN             NaN\n",
              "59124     FMIA  55.221.998/0001-46  ...         NaN             NaN\n",
              "59134     FMIA  56.093.081/0001-76  ...         NaN             NaN\n",
              "59032     FMIA  29.410.727/0001-29  ...         NaN             NaN\n",
              "59037     FMIA  29.415.700/0001-29  ...         NaN             NaN\n",
              "...        ...                 ...  ...         ...             ...\n",
              "58005      FIP  41.082.921/0001-28  ...       False             NaN\n",
              "58008      FIP  41.256.932/0001-87  ...       False             NaN\n",
              "49005     FIDC  35.099.744/0001-90  ...       False             NaN\n",
              "35847       FI  29.300.737/0001-01  ...        True           False\n",
              "45146       FI  39.817.883/0001-62  ...       False           False\n",
              "\n",
              "[52369 rows x 7 columns]"
            ]
          },
          "metadata": {
            "tags": []
          },
          "execution_count": 29
        }
      ]
    },
    {
      "cell_type": "code",
      "metadata": {
        "colab": {
          "base_uri": "https://localhost:8080/",
          "height": 49
        },
        "id": "OIedTrrlnnyo",
        "outputId": "68c567a1-7bab-48a8-cdf2-f3182678a683"
      },
      "source": [
        "# Inspecionando fundos com mais de uma linha no dataset\n",
        "fundos_ultima_situacao[fundos_ultima_situacao.duplicated(subset=['CNPJ_FUNDO'], keep=False)].sort_values('CNPJ_FUNDO')"
      ],
      "execution_count": 30,
      "outputs": [
        {
          "output_type": "execute_result",
          "data": {
            "text/html": [
              "<div>\n",
              "<style scoped>\n",
              "    .dataframe tbody tr th:only-of-type {\n",
              "        vertical-align: middle;\n",
              "    }\n",
              "\n",
              "    .dataframe tbody tr th {\n",
              "        vertical-align: top;\n",
              "    }\n",
              "\n",
              "    .dataframe thead th {\n",
              "        text-align: right;\n",
              "    }\n",
              "</style>\n",
              "<table border=\"1\" class=\"dataframe\">\n",
              "  <thead>\n",
              "    <tr style=\"text-align: right;\">\n",
              "      <th></th>\n",
              "      <th>TP_FUNDO</th>\n",
              "      <th>CNPJ_FUNDO</th>\n",
              "      <th>DENOM_SOCIAL</th>\n",
              "      <th>SIT</th>\n",
              "      <th>DT_INI_SIT</th>\n",
              "      <th>FUNDO_COTAS</th>\n",
              "      <th>FUNDO_EXCLUSIVO</th>\n",
              "    </tr>\n",
              "  </thead>\n",
              "  <tbody>\n",
              "  </tbody>\n",
              "</table>\n",
              "</div>"
            ],
            "text/plain": [
              "Empty DataFrame\n",
              "Columns: [TP_FUNDO, CNPJ_FUNDO, DENOM_SOCIAL, SIT, DT_INI_SIT, FUNDO_COTAS, FUNDO_EXCLUSIVO]\n",
              "Index: []"
            ]
          },
          "metadata": {
            "tags": []
          },
          "execution_count": 30
        }
      ]
    },
    {
      "cell_type": "code",
      "metadata": {
        "colab": {
          "base_uri": "https://localhost:8080/",
          "height": 424
        },
        "id": "VaTAJmDQEau0",
        "outputId": "cf174a56-d8fe-41bd-d409-527373d03a37"
      },
      "source": [
        "# Fundos que informaram carteira de aplicações\n",
        "fundos_aplicacao = cda0[['CNPJ_FUNDO', 'VL_PATRIM_LIQ']]\n",
        "fundos_aplicacao"
      ],
      "execution_count": 31,
      "outputs": [
        {
          "output_type": "execute_result",
          "data": {
            "text/html": [
              "<div>\n",
              "<style scoped>\n",
              "    .dataframe tbody tr th:only-of-type {\n",
              "        vertical-align: middle;\n",
              "    }\n",
              "\n",
              "    .dataframe tbody tr th {\n",
              "        vertical-align: top;\n",
              "    }\n",
              "\n",
              "    .dataframe thead th {\n",
              "        text-align: right;\n",
              "    }\n",
              "</style>\n",
              "<table border=\"1\" class=\"dataframe\">\n",
              "  <thead>\n",
              "    <tr style=\"text-align: right;\">\n",
              "      <th></th>\n",
              "      <th>CNPJ_FUNDO</th>\n",
              "      <th>VL_PATRIM_LIQ</th>\n",
              "    </tr>\n",
              "  </thead>\n",
              "  <tbody>\n",
              "    <tr>\n",
              "      <th>0</th>\n",
              "      <td>06.537.068/0001-90</td>\n",
              "      <td>1325.12</td>\n",
              "    </tr>\n",
              "    <tr>\n",
              "      <th>1</th>\n",
              "      <td>07.408.147/0001-64</td>\n",
              "      <td>28308.60</td>\n",
              "    </tr>\n",
              "    <tr>\n",
              "      <th>2</th>\n",
              "      <td>02.010.153/0001-45</td>\n",
              "      <td>17079539.69</td>\n",
              "    </tr>\n",
              "    <tr>\n",
              "      <th>3</th>\n",
              "      <td>02.177.812/0001-32</td>\n",
              "      <td>66438968.44</td>\n",
              "    </tr>\n",
              "    <tr>\n",
              "      <th>4</th>\n",
              "      <td>02.177.815/0001-76</td>\n",
              "      <td>2044493.92</td>\n",
              "    </tr>\n",
              "    <tr>\n",
              "      <th>...</th>\n",
              "      <td>...</td>\n",
              "      <td>...</td>\n",
              "    </tr>\n",
              "    <tr>\n",
              "      <th>19141</th>\n",
              "      <td>04.573.850/0001-30</td>\n",
              "      <td>1531828.38</td>\n",
              "    </tr>\n",
              "    <tr>\n",
              "      <th>19142</th>\n",
              "      <td>04.602.186/0001-00</td>\n",
              "      <td>745123.56</td>\n",
              "    </tr>\n",
              "    <tr>\n",
              "      <th>19143</th>\n",
              "      <td>04.609.196/0001-77</td>\n",
              "      <td>330930.45</td>\n",
              "    </tr>\n",
              "    <tr>\n",
              "      <th>19144</th>\n",
              "      <td>04.609.212/0001-21</td>\n",
              "      <td>1686446.84</td>\n",
              "    </tr>\n",
              "    <tr>\n",
              "      <th>19145</th>\n",
              "      <td>11.179.262/0001-81</td>\n",
              "      <td>1780896.83</td>\n",
              "    </tr>\n",
              "  </tbody>\n",
              "</table>\n",
              "<p>19146 rows × 2 columns</p>\n",
              "</div>"
            ],
            "text/plain": [
              "               CNPJ_FUNDO VL_PATRIM_LIQ\n",
              "0      06.537.068/0001-90       1325.12\n",
              "1      07.408.147/0001-64      28308.60\n",
              "2      02.010.153/0001-45   17079539.69\n",
              "3      02.177.812/0001-32   66438968.44\n",
              "4      02.177.815/0001-76    2044493.92\n",
              "...                   ...           ...\n",
              "19141  04.573.850/0001-30    1531828.38\n",
              "19142  04.602.186/0001-00     745123.56\n",
              "19143  04.609.196/0001-77     330930.45\n",
              "19144  04.609.212/0001-21    1686446.84\n",
              "19145  11.179.262/0001-81    1780896.83\n",
              "\n",
              "[19146 rows x 2 columns]"
            ]
          },
          "metadata": {
            "tags": []
          },
          "execution_count": 31
        }
      ]
    },
    {
      "cell_type": "code",
      "metadata": {
        "colab": {
          "base_uri": "https://localhost:8080/",
          "height": 424
        },
        "id": "Y49bidQvD4eG",
        "outputId": "d5064866-991c-425c-84d0-8253b6e9d2e9"
      },
      "source": [
        "# Fundos cujas cotas são ativos em que outros fundos aplicam\n",
        "fundos_alvo_aplicacao = cda2[['CNPJ_FUNDO_COTA']].drop_duplicates()\n",
        "fundos_alvo_aplicacao"
      ],
      "execution_count": 32,
      "outputs": [
        {
          "output_type": "execute_result",
          "data": {
            "text/html": [
              "<div>\n",
              "<style scoped>\n",
              "    .dataframe tbody tr th:only-of-type {\n",
              "        vertical-align: middle;\n",
              "    }\n",
              "\n",
              "    .dataframe tbody tr th {\n",
              "        vertical-align: top;\n",
              "    }\n",
              "\n",
              "    .dataframe thead th {\n",
              "        text-align: right;\n",
              "    }\n",
              "</style>\n",
              "<table border=\"1\" class=\"dataframe\">\n",
              "  <thead>\n",
              "    <tr style=\"text-align: right;\">\n",
              "      <th></th>\n",
              "      <th>CNPJ_FUNDO_COTA</th>\n",
              "    </tr>\n",
              "  </thead>\n",
              "  <tbody>\n",
              "    <tr>\n",
              "      <th>0</th>\n",
              "      <td>08.046.417/0001-05</td>\n",
              "    </tr>\n",
              "    <tr>\n",
              "      <th>1</th>\n",
              "      <td>01.608.573/0001-65</td>\n",
              "    </tr>\n",
              "    <tr>\n",
              "      <th>2</th>\n",
              "      <td>01.235.622/0001-61</td>\n",
              "    </tr>\n",
              "    <tr>\n",
              "      <th>3</th>\n",
              "      <td>10.597.218/0001-29</td>\n",
              "    </tr>\n",
              "    <tr>\n",
              "      <th>4</th>\n",
              "      <td>08.277.553/0001-06</td>\n",
              "    </tr>\n",
              "    <tr>\n",
              "      <th>...</th>\n",
              "      <td>...</td>\n",
              "    </tr>\n",
              "    <tr>\n",
              "      <th>140169</th>\n",
              "      <td>14.038.410/0001-36</td>\n",
              "    </tr>\n",
              "    <tr>\n",
              "      <th>140215</th>\n",
              "      <td>32.073.244/0001-90</td>\n",
              "    </tr>\n",
              "    <tr>\n",
              "      <th>140349</th>\n",
              "      <td>35.645.145/0001-24</td>\n",
              "    </tr>\n",
              "    <tr>\n",
              "      <th>140383</th>\n",
              "      <td>37.236.082/0001-88</td>\n",
              "    </tr>\n",
              "    <tr>\n",
              "      <th>140426</th>\n",
              "      <td>26.740.437/0001-55</td>\n",
              "    </tr>\n",
              "  </tbody>\n",
              "</table>\n",
              "<p>7943 rows × 1 columns</p>\n",
              "</div>"
            ],
            "text/plain": [
              "           CNPJ_FUNDO_COTA\n",
              "0       08.046.417/0001-05\n",
              "1       01.608.573/0001-65\n",
              "2       01.235.622/0001-61\n",
              "3       10.597.218/0001-29\n",
              "4       08.277.553/0001-06\n",
              "...                    ...\n",
              "140169  14.038.410/0001-36\n",
              "140215  32.073.244/0001-90\n",
              "140349  35.645.145/0001-24\n",
              "140383  37.236.082/0001-88\n",
              "140426  26.740.437/0001-55\n",
              "\n",
              "[7943 rows x 1 columns]"
            ]
          },
          "metadata": {
            "tags": []
          },
          "execution_count": 32
        }
      ]
    },
    {
      "cell_type": "code",
      "metadata": {
        "colab": {
          "base_uri": "https://localhost:8080/",
          "height": 424
        },
        "id": "eK7T8lNzFUxr",
        "outputId": "a3d45e4a-401a-42a2-f4e8-05d4d1f68ba0"
      },
      "source": [
        "# Todos os fundos referenciados no CDA\n",
        "fundos_cda = pd.concat([fundos_aplicacao,fundos_alvo_aplicacao.rename(columns={'CNPJ_FUNDO_COTA': 'CNPJ_FUNDO'})]).fillna('').sort_values('VL_PATRIM_LIQ').drop_duplicates(subset=['CNPJ_FUNDO'], keep='last')\n",
        "fundos_cda"
      ],
      "execution_count": 33,
      "outputs": [
        {
          "output_type": "execute_result",
          "data": {
            "text/html": [
              "<div>\n",
              "<style scoped>\n",
              "    .dataframe tbody tr th:only-of-type {\n",
              "        vertical-align: middle;\n",
              "    }\n",
              "\n",
              "    .dataframe tbody tr th {\n",
              "        vertical-align: top;\n",
              "    }\n",
              "\n",
              "    .dataframe thead th {\n",
              "        text-align: right;\n",
              "    }\n",
              "</style>\n",
              "<table border=\"1\" class=\"dataframe\">\n",
              "  <thead>\n",
              "    <tr style=\"text-align: right;\">\n",
              "      <th></th>\n",
              "      <th>CNPJ_FUNDO</th>\n",
              "      <th>VL_PATRIM_LIQ</th>\n",
              "    </tr>\n",
              "  </thead>\n",
              "  <tbody>\n",
              "    <tr>\n",
              "      <th>14062</th>\n",
              "      <td>13.328.452/0001-49</td>\n",
              "      <td></td>\n",
              "    </tr>\n",
              "    <tr>\n",
              "      <th>13900</th>\n",
              "      <td>18.289.950/0001-43</td>\n",
              "      <td></td>\n",
              "    </tr>\n",
              "    <tr>\n",
              "      <th>14063</th>\n",
              "      <td>16.435.858/0001-19</td>\n",
              "      <td></td>\n",
              "    </tr>\n",
              "    <tr>\n",
              "      <th>13924</th>\n",
              "      <td>11.326.746/0001-06</td>\n",
              "      <td></td>\n",
              "    </tr>\n",
              "    <tr>\n",
              "      <th>13926</th>\n",
              "      <td>31.933.158/0001-48</td>\n",
              "      <td></td>\n",
              "    </tr>\n",
              "    <tr>\n",
              "      <th>...</th>\n",
              "      <td>...</td>\n",
              "      <td>...</td>\n",
              "    </tr>\n",
              "    <tr>\n",
              "      <th>16166</th>\n",
              "      <td>35.002.455/0001-20</td>\n",
              "      <td>99971262.26</td>\n",
              "    </tr>\n",
              "    <tr>\n",
              "      <th>18755</th>\n",
              "      <td>38.394.157/0001-11</td>\n",
              "      <td>9997326.63</td>\n",
              "    </tr>\n",
              "    <tr>\n",
              "      <th>16988</th>\n",
              "      <td>35.844.962/0001-01</td>\n",
              "      <td>99980155.79</td>\n",
              "    </tr>\n",
              "    <tr>\n",
              "      <th>17524</th>\n",
              "      <td>36.498.260/0001-86</td>\n",
              "      <td>999891.20</td>\n",
              "    </tr>\n",
              "    <tr>\n",
              "      <th>18828</th>\n",
              "      <td>38.860.877/0001-25</td>\n",
              "      <td>9999512.97</td>\n",
              "    </tr>\n",
              "  </tbody>\n",
              "</table>\n",
              "<p>20564 rows × 2 columns</p>\n",
              "</div>"
            ],
            "text/plain": [
              "               CNPJ_FUNDO VL_PATRIM_LIQ\n",
              "14062  13.328.452/0001-49              \n",
              "13900  18.289.950/0001-43              \n",
              "14063  16.435.858/0001-19              \n",
              "13924  11.326.746/0001-06              \n",
              "13926  31.933.158/0001-48              \n",
              "...                   ...           ...\n",
              "16166  35.002.455/0001-20   99971262.26\n",
              "18755  38.394.157/0001-11    9997326.63\n",
              "16988  35.844.962/0001-01   99980155.79\n",
              "17524  36.498.260/0001-86     999891.20\n",
              "18828  38.860.877/0001-25    9999512.97\n",
              "\n",
              "[20564 rows x 2 columns]"
            ]
          },
          "metadata": {
            "tags": []
          },
          "execution_count": 33
        }
      ]
    },
    {
      "cell_type": "code",
      "metadata": {
        "colab": {
          "base_uri": "https://localhost:8080/",
          "height": 424
        },
        "id": "hhBB-C47Fw69",
        "outputId": "d5e9b200-edfa-492d-d8cf-d5b7e6c78f90"
      },
      "source": [
        "# Seleciona apenas dos fundos referenciados no CDA\n",
        "fundos = pd.merge(fundos_ultima_situacao, fundos_cda, how=\"inner\", on=[\"CNPJ_FUNDO\"]).fillna('')\n",
        "fundos"
      ],
      "execution_count": 34,
      "outputs": [
        {
          "output_type": "execute_result",
          "data": {
            "text/html": [
              "<div>\n",
              "<style scoped>\n",
              "    .dataframe tbody tr th:only-of-type {\n",
              "        vertical-align: middle;\n",
              "    }\n",
              "\n",
              "    .dataframe tbody tr th {\n",
              "        vertical-align: top;\n",
              "    }\n",
              "\n",
              "    .dataframe thead th {\n",
              "        text-align: right;\n",
              "    }\n",
              "</style>\n",
              "<table border=\"1\" class=\"dataframe\">\n",
              "  <thead>\n",
              "    <tr style=\"text-align: right;\">\n",
              "      <th></th>\n",
              "      <th>TP_FUNDO</th>\n",
              "      <th>CNPJ_FUNDO</th>\n",
              "      <th>DENOM_SOCIAL</th>\n",
              "      <th>SIT</th>\n",
              "      <th>DT_INI_SIT</th>\n",
              "      <th>FUNDO_COTAS</th>\n",
              "      <th>FUNDO_EXCLUSIVO</th>\n",
              "      <th>VL_PATRIM_LIQ</th>\n",
              "    </tr>\n",
              "  </thead>\n",
              "  <tbody>\n",
              "    <tr>\n",
              "      <th>0</th>\n",
              "      <td>FAPI</td>\n",
              "      <td>02.177.812/0001-32</td>\n",
              "      <td>ITAU FAPI RENDA FIXA - FUNDO DE APOSENTADORIA ...</td>\n",
              "      <td>EM FUNCIONAMENTO NORMAL</td>\n",
              "      <td>1997-11-27</td>\n",
              "      <td></td>\n",
              "      <td></td>\n",
              "      <td>66438968.44</td>\n",
              "    </tr>\n",
              "    <tr>\n",
              "      <th>1</th>\n",
              "      <td>FAPI</td>\n",
              "      <td>02.226.122/0001-26</td>\n",
              "      <td>UNIBANCO FUNDO DE APOSENTADORIA PROGRAMADA IND...</td>\n",
              "      <td>EM FUNCIONAMENTO NORMAL</td>\n",
              "      <td>1997-12-05</td>\n",
              "      <td></td>\n",
              "      <td></td>\n",
              "      <td>4740.45</td>\n",
              "    </tr>\n",
              "    <tr>\n",
              "      <th>2</th>\n",
              "      <td>FAPI</td>\n",
              "      <td>02.177.815/0001-76</td>\n",
              "      <td>ITAU FAPI CONSERVADOR - FUNDO DE APOSENTADORIA...</td>\n",
              "      <td>EM FUNCIONAMENTO NORMAL</td>\n",
              "      <td>1997-12-16</td>\n",
              "      <td></td>\n",
              "      <td></td>\n",
              "      <td>2044493.92</td>\n",
              "    </tr>\n",
              "    <tr>\n",
              "      <th>3</th>\n",
              "      <td>FAPI</td>\n",
              "      <td>02.185.027/0001-21</td>\n",
              "      <td>BRADESCO FUNDO DE APOSENTADORIA PROGRAMADA IND...</td>\n",
              "      <td>EM FUNCIONAMENTO NORMAL</td>\n",
              "      <td>1997-12-19</td>\n",
              "      <td></td>\n",
              "      <td></td>\n",
              "      <td>453086833.64</td>\n",
              "    </tr>\n",
              "    <tr>\n",
              "      <th>4</th>\n",
              "      <td>FAPI</td>\n",
              "      <td>02.297.533/0001-02</td>\n",
              "      <td>BRADESCO FUNDO DE APOSENTADORIA PROGRAMADA IND...</td>\n",
              "      <td>EM FUNCIONAMENTO NORMAL</td>\n",
              "      <td>1997-12-29</td>\n",
              "      <td></td>\n",
              "      <td></td>\n",
              "      <td>15654242.81</td>\n",
              "    </tr>\n",
              "    <tr>\n",
              "      <th>...</th>\n",
              "      <td>...</td>\n",
              "      <td>...</td>\n",
              "      <td>...</td>\n",
              "      <td>...</td>\n",
              "      <td>...</td>\n",
              "      <td>...</td>\n",
              "      <td>...</td>\n",
              "      <td>...</td>\n",
              "    </tr>\n",
              "    <tr>\n",
              "      <th>20559</th>\n",
              "      <td>FI</td>\n",
              "      <td>33.667.778/0001-08</td>\n",
              "      <td>CA INDOSUEZ DEBÊNTURES INCENTIVADAS 60 CRÉDITO...</td>\n",
              "      <td>CANCELADA</td>\n",
              "      <td>2021-03-26</td>\n",
              "      <td>True</td>\n",
              "      <td>False</td>\n",
              "      <td>4230106.15</td>\n",
              "    </tr>\n",
              "    <tr>\n",
              "      <th>20560</th>\n",
              "      <td>FIP</td>\n",
              "      <td>35.640.839/0001-79</td>\n",
              "      <td>G5 MOBILE II FUNDO DE INVESTIMENTO EM PARTICIP...</td>\n",
              "      <td>LIQUIDAÇÃO</td>\n",
              "      <td>2021-03-29</td>\n",
              "      <td>False</td>\n",
              "      <td></td>\n",
              "      <td></td>\n",
              "    </tr>\n",
              "    <tr>\n",
              "      <th>20561</th>\n",
              "      <td>FIP</td>\n",
              "      <td>26.314.464/0001-66</td>\n",
              "      <td>BTG PACTUAL INFRAESTRUTURA II ENERGIA FUNDO DE...</td>\n",
              "      <td>LIQUIDAÇÃO</td>\n",
              "      <td>2021-03-30</td>\n",
              "      <td>False</td>\n",
              "      <td></td>\n",
              "      <td></td>\n",
              "    </tr>\n",
              "    <tr>\n",
              "      <th>20562</th>\n",
              "      <td>FI</td>\n",
              "      <td>29.994.524/0001-27</td>\n",
              "      <td>FUNDO DE INVESTIMENTO EM COTAS DE FUNDOS DE IN...</td>\n",
              "      <td>CANCELADA</td>\n",
              "      <td>2021-04-01</td>\n",
              "      <td>True</td>\n",
              "      <td>True</td>\n",
              "      <td>7129047.57</td>\n",
              "    </tr>\n",
              "    <tr>\n",
              "      <th>20563</th>\n",
              "      <td>FI</td>\n",
              "      <td>29.300.737/0001-01</td>\n",
              "      <td>MANAGER LOGOS FUNDO DE INVESTIMENTO EM COTAS D...</td>\n",
              "      <td>EM FUNCIONAMENTO NORMAL</td>\n",
              "      <td>2021-10-01</td>\n",
              "      <td>True</td>\n",
              "      <td>False</td>\n",
              "      <td>0.00</td>\n",
              "    </tr>\n",
              "  </tbody>\n",
              "</table>\n",
              "<p>20564 rows × 8 columns</p>\n",
              "</div>"
            ],
            "text/plain": [
              "      TP_FUNDO          CNPJ_FUNDO  ... FUNDO_EXCLUSIVO VL_PATRIM_LIQ\n",
              "0         FAPI  02.177.812/0001-32  ...                   66438968.44\n",
              "1         FAPI  02.226.122/0001-26  ...                       4740.45\n",
              "2         FAPI  02.177.815/0001-76  ...                    2044493.92\n",
              "3         FAPI  02.185.027/0001-21  ...                  453086833.64\n",
              "4         FAPI  02.297.533/0001-02  ...                   15654242.81\n",
              "...        ...                 ...  ...             ...           ...\n",
              "20559       FI  33.667.778/0001-08  ...           False    4230106.15\n",
              "20560      FIP  35.640.839/0001-79  ...                              \n",
              "20561      FIP  26.314.464/0001-66  ...                              \n",
              "20562       FI  29.994.524/0001-27  ...            True    7129047.57\n",
              "20563       FI  29.300.737/0001-01  ...           False          0.00\n",
              "\n",
              "[20564 rows x 8 columns]"
            ]
          },
          "metadata": {
            "tags": []
          },
          "execution_count": 34
        }
      ]
    },
    {
      "cell_type": "markdown",
      "metadata": {
        "id": "ndWmilxOKm6C"
      },
      "source": [
        "### Gestores"
      ]
    },
    {
      "cell_type": "code",
      "metadata": {
        "colab": {
          "base_uri": "https://localhost:8080/",
          "height": 424
        },
        "id": "i7lrpykBEEm0",
        "outputId": "9bf63e30-6ed4-4671-af5a-0dc71fd85ff8"
      },
      "source": [
        "# Fundos e seus gestores\n",
        "df = cad_fundo[['TP_FUNDO','CNPJ_FUNDO','SIT','DT_INI_SIT','CPF_CNPJ_GESTOR']].dropna().drop_duplicates()\n",
        "\n",
        "# Associando novamente os gestores aos fundos selecionados\n",
        "fundos_gestores = pd.merge(fundos, df, how=\"inner\", on=[\"TP_FUNDO\",\"CNPJ_FUNDO\",\"SIT\",\"DT_INI_SIT\"])\n",
        "fundos_gestores = fundos_gestores[['CNPJ_FUNDO','CPF_CNPJ_GESTOR']]\n",
        "fundos_gestores"
      ],
      "execution_count": 35,
      "outputs": [
        {
          "output_type": "execute_result",
          "data": {
            "text/html": [
              "<div>\n",
              "<style scoped>\n",
              "    .dataframe tbody tr th:only-of-type {\n",
              "        vertical-align: middle;\n",
              "    }\n",
              "\n",
              "    .dataframe tbody tr th {\n",
              "        vertical-align: top;\n",
              "    }\n",
              "\n",
              "    .dataframe thead th {\n",
              "        text-align: right;\n",
              "    }\n",
              "</style>\n",
              "<table border=\"1\" class=\"dataframe\">\n",
              "  <thead>\n",
              "    <tr style=\"text-align: right;\">\n",
              "      <th></th>\n",
              "      <th>CNPJ_FUNDO</th>\n",
              "      <th>CPF_CNPJ_GESTOR</th>\n",
              "    </tr>\n",
              "  </thead>\n",
              "  <tbody>\n",
              "    <tr>\n",
              "      <th>0</th>\n",
              "      <td>03.915.495/0001-77</td>\n",
              "      <td>60.701.190/0001-04</td>\n",
              "    </tr>\n",
              "    <tr>\n",
              "      <th>1</th>\n",
              "      <td>02.838.578/0001-47</td>\n",
              "      <td>30.822.936/0001-69</td>\n",
              "    </tr>\n",
              "    <tr>\n",
              "      <th>2</th>\n",
              "      <td>02.998.275/0001-91</td>\n",
              "      <td>62.375.134/0001-44</td>\n",
              "    </tr>\n",
              "    <tr>\n",
              "      <th>3</th>\n",
              "      <td>03.555.959/0001-81</td>\n",
              "      <td>00.360.305/0001-04</td>\n",
              "    </tr>\n",
              "    <tr>\n",
              "      <th>4</th>\n",
              "      <td>03.859.784/0001-04</td>\n",
              "      <td>33.311.713/0001-25</td>\n",
              "    </tr>\n",
              "    <tr>\n",
              "      <th>...</th>\n",
              "      <td>...</td>\n",
              "      <td>...</td>\n",
              "    </tr>\n",
              "    <tr>\n",
              "      <th>21037</th>\n",
              "      <td>17.892.709/0001-41</td>\n",
              "      <td>12.695.840/0001-03</td>\n",
              "    </tr>\n",
              "    <tr>\n",
              "      <th>21038</th>\n",
              "      <td>33.667.778/0001-08</td>\n",
              "      <td>01.638.542/0001-57</td>\n",
              "    </tr>\n",
              "    <tr>\n",
              "      <th>21039</th>\n",
              "      <td>35.640.839/0001-79</td>\n",
              "      <td>14.121.173/0001-72</td>\n",
              "    </tr>\n",
              "    <tr>\n",
              "      <th>21040</th>\n",
              "      <td>26.314.464/0001-66</td>\n",
              "      <td>09.631.542/0001-37</td>\n",
              "    </tr>\n",
              "    <tr>\n",
              "      <th>21041</th>\n",
              "      <td>29.300.737/0001-01</td>\n",
              "      <td>62.180.047/0001-31</td>\n",
              "    </tr>\n",
              "  </tbody>\n",
              "</table>\n",
              "<p>21042 rows × 2 columns</p>\n",
              "</div>"
            ],
            "text/plain": [
              "               CNPJ_FUNDO     CPF_CNPJ_GESTOR\n",
              "0      03.915.495/0001-77  60.701.190/0001-04\n",
              "1      02.838.578/0001-47  30.822.936/0001-69\n",
              "2      02.998.275/0001-91  62.375.134/0001-44\n",
              "3      03.555.959/0001-81  00.360.305/0001-04\n",
              "4      03.859.784/0001-04  33.311.713/0001-25\n",
              "...                   ...                 ...\n",
              "21037  17.892.709/0001-41  12.695.840/0001-03\n",
              "21038  33.667.778/0001-08  01.638.542/0001-57\n",
              "21039  35.640.839/0001-79  14.121.173/0001-72\n",
              "21040  26.314.464/0001-66  09.631.542/0001-37\n",
              "21041  29.300.737/0001-01  62.180.047/0001-31\n",
              "\n",
              "[21042 rows x 2 columns]"
            ]
          },
          "metadata": {
            "tags": []
          },
          "execution_count": 35
        }
      ]
    },
    {
      "cell_type": "code",
      "metadata": {
        "colab": {
          "base_uri": "https://localhost:8080/",
          "height": 424
        },
        "id": "z8AkOZwuGume",
        "outputId": "33c5a479-b52a-413e-9773-01f92008f35c"
      },
      "source": [
        "# Inspecionando fundos com mais de uma linha no dataset (mais de um gestor)\n",
        "fundos_gestores[fundos_gestores.duplicated(subset=['CNPJ_FUNDO'], keep=False)].sort_values('CNPJ_FUNDO')"
      ],
      "execution_count": 36,
      "outputs": [
        {
          "output_type": "execute_result",
          "data": {
            "text/html": [
              "<div>\n",
              "<style scoped>\n",
              "    .dataframe tbody tr th:only-of-type {\n",
              "        vertical-align: middle;\n",
              "    }\n",
              "\n",
              "    .dataframe tbody tr th {\n",
              "        vertical-align: top;\n",
              "    }\n",
              "\n",
              "    .dataframe thead th {\n",
              "        text-align: right;\n",
              "    }\n",
              "</style>\n",
              "<table border=\"1\" class=\"dataframe\">\n",
              "  <thead>\n",
              "    <tr style=\"text-align: right;\">\n",
              "      <th></th>\n",
              "      <th>CNPJ_FUNDO</th>\n",
              "      <th>CPF_CNPJ_GESTOR</th>\n",
              "    </tr>\n",
              "  </thead>\n",
              "  <tbody>\n",
              "    <tr>\n",
              "      <th>1580</th>\n",
              "      <td>01.392.020/0001-18</td>\n",
              "      <td>62.375.134/0001-44</td>\n",
              "    </tr>\n",
              "    <tr>\n",
              "      <th>1579</th>\n",
              "      <td>01.392.020/0001-18</td>\n",
              "      <td>51.990.695/0001-37</td>\n",
              "    </tr>\n",
              "    <tr>\n",
              "      <th>1532</th>\n",
              "      <td>01.392.021/0001-62</td>\n",
              "      <td>51.990.695/0001-37</td>\n",
              "    </tr>\n",
              "    <tr>\n",
              "      <th>1533</th>\n",
              "      <td>01.392.021/0001-62</td>\n",
              "      <td>62.375.134/0001-44</td>\n",
              "    </tr>\n",
              "    <tr>\n",
              "      <th>1582</th>\n",
              "      <td>01.606.509/0001-45</td>\n",
              "      <td>62.375.134/0001-44</td>\n",
              "    </tr>\n",
              "    <tr>\n",
              "      <th>...</th>\n",
              "      <td>...</td>\n",
              "      <td>...</td>\n",
              "    </tr>\n",
              "    <tr>\n",
              "      <th>19572</th>\n",
              "      <td>37.828.367/0001-08</td>\n",
              "      <td>12.330.774/0001-60</td>\n",
              "    </tr>\n",
              "    <tr>\n",
              "      <th>20766</th>\n",
              "      <td>37.900.216/0001-13</td>\n",
              "      <td>16.789.525/0001-98</td>\n",
              "    </tr>\n",
              "    <tr>\n",
              "      <th>20767</th>\n",
              "      <td>37.900.216/0001-13</td>\n",
              "      <td>29.408.732/0001-05</td>\n",
              "    </tr>\n",
              "    <tr>\n",
              "      <th>20348</th>\n",
              "      <td>38.489.304/0001-37</td>\n",
              "      <td>18.506.057/0001-22</td>\n",
              "    </tr>\n",
              "    <tr>\n",
              "      <th>20347</th>\n",
              "      <td>38.489.304/0001-37</td>\n",
              "      <td>11.918.575/0001-04</td>\n",
              "    </tr>\n",
              "  </tbody>\n",
              "</table>\n",
              "<p>1612 rows × 2 columns</p>\n",
              "</div>"
            ],
            "text/plain": [
              "               CNPJ_FUNDO     CPF_CNPJ_GESTOR\n",
              "1580   01.392.020/0001-18  62.375.134/0001-44\n",
              "1579   01.392.020/0001-18  51.990.695/0001-37\n",
              "1532   01.392.021/0001-62  51.990.695/0001-37\n",
              "1533   01.392.021/0001-62  62.375.134/0001-44\n",
              "1582   01.606.509/0001-45  62.375.134/0001-44\n",
              "...                   ...                 ...\n",
              "19572  37.828.367/0001-08  12.330.774/0001-60\n",
              "20766  37.900.216/0001-13  16.789.525/0001-98\n",
              "20767  37.900.216/0001-13  29.408.732/0001-05\n",
              "20348  38.489.304/0001-37  18.506.057/0001-22\n",
              "20347  38.489.304/0001-37  11.918.575/0001-04\n",
              "\n",
              "[1612 rows x 2 columns]"
            ]
          },
          "metadata": {
            "tags": []
          },
          "execution_count": 36
        }
      ]
    },
    {
      "cell_type": "code",
      "metadata": {
        "colab": {
          "base_uri": "https://localhost:8080/",
          "height": 424
        },
        "id": "8aWr3Z-sKnqi",
        "outputId": "9587cad6-a1bf-4ee9-f196-e7440bca9852"
      },
      "source": [
        "cad_gestor = cad_gestor.dropna().drop_duplicates()\n",
        "\n",
        "gestores = pd.merge(cad_gestor, fundos_gestores, how=\"inner\", on=[\"CPF_CNPJ_GESTOR\"])\n",
        "gestores = gestores[['CPF_CNPJ_GESTOR','GESTOR']].dropna().drop_duplicates(subset='CPF_CNPJ_GESTOR', keep=\"last\")\n",
        "\n",
        "gestores"
      ],
      "execution_count": 37,
      "outputs": [
        {
          "output_type": "execute_result",
          "data": {
            "text/html": [
              "<div>\n",
              "<style scoped>\n",
              "    .dataframe tbody tr th:only-of-type {\n",
              "        vertical-align: middle;\n",
              "    }\n",
              "\n",
              "    .dataframe tbody tr th {\n",
              "        vertical-align: top;\n",
              "    }\n",
              "\n",
              "    .dataframe thead th {\n",
              "        text-align: right;\n",
              "    }\n",
              "</style>\n",
              "<table border=\"1\" class=\"dataframe\">\n",
              "  <thead>\n",
              "    <tr style=\"text-align: right;\">\n",
              "      <th></th>\n",
              "      <th>CPF_CNPJ_GESTOR</th>\n",
              "      <th>GESTOR</th>\n",
              "    </tr>\n",
              "  </thead>\n",
              "  <tbody>\n",
              "    <tr>\n",
              "      <th>60</th>\n",
              "      <td>60.770.336/0001-65</td>\n",
              "      <td>BANCO ALFA DE INVESTIMENTO S.A.</td>\n",
              "    </tr>\n",
              "    <tr>\n",
              "      <th>1070</th>\n",
              "      <td>60.701.190/0001-04</td>\n",
              "      <td>ITAU UNIBANCO S.A.</td>\n",
              "    </tr>\n",
              "    <tr>\n",
              "      <th>1095</th>\n",
              "      <td>33.172.537/0001-98</td>\n",
              "      <td>BANCO J.P. MORGAN S.A.</td>\n",
              "    </tr>\n",
              "    <tr>\n",
              "      <th>1707</th>\n",
              "      <td>12.695.840/0001-03</td>\n",
              "      <td>JULIUS BAER FAMILY OFFICE BRASIL GESTÃO DE PAT...</td>\n",
              "    </tr>\n",
              "    <tr>\n",
              "      <th>3277</th>\n",
              "      <td>62.375.134/0001-44</td>\n",
              "      <td>BRAM - BRADESCO ASSET MANAGEMENT S.A. DISTRIBU...</td>\n",
              "    </tr>\n",
              "    <tr>\n",
              "      <th>...</th>\n",
              "      <td>...</td>\n",
              "      <td>...</td>\n",
              "    </tr>\n",
              "    <tr>\n",
              "      <th>22482</th>\n",
              "      <td>09.544.103/0001-97</td>\n",
              "      <td>INVESTIMAGE ADMINISTRADORA DE RECURSOS LTDA.</td>\n",
              "    </tr>\n",
              "    <tr>\n",
              "      <th>22484</th>\n",
              "      <td>29.292.940/0001-83</td>\n",
              "      <td>REDPOINT EVENTURES GESTÃO DE RECURSOS LTDA.</td>\n",
              "    </tr>\n",
              "    <tr>\n",
              "      <th>22486</th>\n",
              "      <td>35.096.963/0001-15</td>\n",
              "      <td>KAMAROOPIN GESTORA DE RECURSOS LTDA.</td>\n",
              "    </tr>\n",
              "    <tr>\n",
              "      <th>22488</th>\n",
              "      <td>35.098.686/0001-80</td>\n",
              "      <td>10B GESTORA DE RECURSOS LTDA.</td>\n",
              "    </tr>\n",
              "    <tr>\n",
              "      <th>22490</th>\n",
              "      <td>34.835.557/0001-64</td>\n",
              "      <td>CRESCERA ASSET MANAGEMENT LTDA.</td>\n",
              "    </tr>\n",
              "  </tbody>\n",
              "</table>\n",
              "<p>828 rows × 2 columns</p>\n",
              "</div>"
            ],
            "text/plain": [
              "          CPF_CNPJ_GESTOR                                             GESTOR\n",
              "60     60.770.336/0001-65                    BANCO ALFA DE INVESTIMENTO S.A.\n",
              "1070   60.701.190/0001-04                                 ITAU UNIBANCO S.A.\n",
              "1095   33.172.537/0001-98                             BANCO J.P. MORGAN S.A.\n",
              "1707   12.695.840/0001-03  JULIUS BAER FAMILY OFFICE BRASIL GESTÃO DE PAT...\n",
              "3277   62.375.134/0001-44  BRAM - BRADESCO ASSET MANAGEMENT S.A. DISTRIBU...\n",
              "...                   ...                                                ...\n",
              "22482  09.544.103/0001-97       INVESTIMAGE ADMINISTRADORA DE RECURSOS LTDA.\n",
              "22484  29.292.940/0001-83        REDPOINT EVENTURES GESTÃO DE RECURSOS LTDA.\n",
              "22486  35.096.963/0001-15               KAMAROOPIN GESTORA DE RECURSOS LTDA.\n",
              "22488  35.098.686/0001-80                      10B GESTORA DE RECURSOS LTDA.\n",
              "22490  34.835.557/0001-64                    CRESCERA ASSET MANAGEMENT LTDA.\n",
              "\n",
              "[828 rows x 2 columns]"
            ]
          },
          "metadata": {
            "tags": []
          },
          "execution_count": 37
        }
      ]
    },
    {
      "cell_type": "markdown",
      "metadata": {
        "id": "yoif1e2oVtG7"
      },
      "source": [
        "### Emissores"
      ]
    },
    {
      "cell_type": "code",
      "metadata": {
        "id": "5t7Myim-Y4li"
      },
      "source": [
        "emissores_cda5  = cda5[['CPF_CNPJ_EMISSOR','EMISSOR']].dropna(how='all').drop_duplicates().fillna('')\n",
        "emissores_cda6  = cda6[['CPF_CNPJ_EMISSOR','EMISSOR']].dropna(how='all').drop_duplicates().fillna('') \n",
        "emissores_cda7  = cda7[['EMISSOR']].dropna().drop_duplicates()\n",
        "emissores_cda8  = cda8[['CPF_CNPJ_EMISSOR','EMISSOR']].dropna(how='all').drop_duplicates().fillna('')"
      ],
      "execution_count": 38,
      "outputs": []
    },
    {
      "cell_type": "code",
      "metadata": {
        "colab": {
          "base_uri": "https://localhost:8080/"
        },
        "id": "Q9KGCi27VMSE",
        "outputId": "c47644a2-03a4-49ca-d83f-deab92ca79f6"
      },
      "source": [
        "# Verifica se não há valores ausentes ('missing values') em CPF_CNPJ_EMISSOR \n",
        "df = emissores_cda5[emissores_cda5['CPF_CNPJ_EMISSOR']=='']\n",
        "print(df.empty) "
      ],
      "execution_count": 39,
      "outputs": [
        {
          "output_type": "stream",
          "text": [
            "True\n"
          ],
          "name": "stdout"
        }
      ]
    },
    {
      "cell_type": "code",
      "metadata": {
        "colab": {
          "base_uri": "https://localhost:8080/"
        },
        "id": "q-biqn05VWSv",
        "outputId": "9ff31ca6-fbfd-4d03-99c3-2eac6793787b"
      },
      "source": [
        "# Verifica se não há valores ausentes ('missing values') em CPF_CNPJ_EMISSOR \n",
        "df = emissores_cda6[emissores_cda6['CPF_CNPJ_EMISSOR']=='']\n",
        "print(df.empty) "
      ],
      "execution_count": 40,
      "outputs": [
        {
          "output_type": "stream",
          "text": [
            "True\n"
          ],
          "name": "stdout"
        }
      ]
    },
    {
      "cell_type": "code",
      "metadata": {
        "colab": {
          "base_uri": "https://localhost:8080/"
        },
        "id": "214dFnMJVWdz",
        "outputId": "3221d00f-efbe-4248-aa68-aeba04591f65"
      },
      "source": [
        "# Verifica se não há valores ausentes ('missing values') em CPF_CNPJ_EMISSOR \n",
        "df = emissores_cda8[emissores_cda8['CPF_CNPJ_EMISSOR']=='']\n",
        "print(df.empty) "
      ],
      "execution_count": 41,
      "outputs": [
        {
          "output_type": "stream",
          "text": [
            "False\n"
          ],
          "name": "stdout"
        }
      ]
    },
    {
      "cell_type": "code",
      "metadata": {
        "id": "YKTw25_JxBh3"
      },
      "source": [
        "# Emissores com CNPJ - Tabela ISIN (B3)\n",
        "emissores_isin_cnpj = emissores_ativos_isin[emissores_ativos_isin['CPF_CNPJ_EMISSOR']!=''][['CPF_CNPJ_EMISSOR','EMISSOR']]\n",
        "\n",
        "# Emissores com CNPJ - Aplicações bloco 8 cda (CVM)\n",
        "emissores_cda8_cnpj = emissores_cda8[emissores_cda8['CPF_CNPJ_EMISSOR']!=''][['CPF_CNPJ_EMISSOR','EMISSOR']]\n",
        "\n",
        "# Emissores sem CNPJ - Tabela ISIN (B3)\n",
        "emissores_isin_sem_cnpj  = emissores_ativos_isin[emissores_ativos_isin['CPF_CNPJ_EMISSOR']==''][['EMISSOR']]\n",
        "\n",
        "# Emissores sem CNPJ - Aplicações bloco 8 cda (CVM)\n",
        "emissores_cda8_sem_cnpj  = emissores_cda8[emissores_cda8['CPF_CNPJ_EMISSOR']==''][['EMISSOR']]"
      ],
      "execution_count": 42,
      "outputs": []
    },
    {
      "cell_type": "code",
      "metadata": {
        "colab": {
          "base_uri": "https://localhost:8080/",
          "height": 424
        },
        "id": "xXST7wmVX-tC",
        "outputId": "baf74cdd-8603-4e3f-eb12-4c263e1b02db"
      },
      "source": [
        "emissores_isin_cnpj\n",
        "emissores_isin_sem_cnpj"
      ],
      "execution_count": 43,
      "outputs": [
        {
          "output_type": "execute_result",
          "data": {
            "text/html": [
              "<div>\n",
              "<style scoped>\n",
              "    .dataframe tbody tr th:only-of-type {\n",
              "        vertical-align: middle;\n",
              "    }\n",
              "\n",
              "    .dataframe tbody tr th {\n",
              "        vertical-align: top;\n",
              "    }\n",
              "\n",
              "    .dataframe thead th {\n",
              "        text-align: right;\n",
              "    }\n",
              "</style>\n",
              "<table border=\"1\" class=\"dataframe\">\n",
              "  <thead>\n",
              "    <tr style=\"text-align: right;\">\n",
              "      <th></th>\n",
              "      <th>EMISSOR</th>\n",
              "    </tr>\n",
              "  </thead>\n",
              "  <tbody>\n",
              "    <tr>\n",
              "      <th>659</th>\n",
              "      <td>BB CONCESSÕES BRASIL 3 FUNDO DE INVESTI MENTO ...</td>\n",
              "    </tr>\n",
              "    <tr>\n",
              "      <th>1687</th>\n",
              "      <td>CAPITÂNIA PREV ADVISORY XP SEGUROS FUNDO DE IN...</td>\n",
              "    </tr>\n",
              "    <tr>\n",
              "      <th>2149</th>\n",
              "      <td>LEGACY CAPITAL FUNDO DE INVESTIMENTO EM COTAS ...</td>\n",
              "    </tr>\n",
              "    <tr>\n",
              "      <th>9985</th>\n",
              "      <td>CARTEIRA CORPORATIVA 191 FUNDO INVEST COTAS FU...</td>\n",
              "    </tr>\n",
              "    <tr>\n",
              "      <th>10101</th>\n",
              "      <td>ADVANCE AUTO PARTS INC</td>\n",
              "    </tr>\n",
              "    <tr>\n",
              "      <th>...</th>\n",
              "      <td>...</td>\n",
              "    </tr>\n",
              "    <tr>\n",
              "      <th>43057</th>\n",
              "      <td>BCO EUROPEU AMERICA LATINA SA</td>\n",
              "    </tr>\n",
              "    <tr>\n",
              "      <th>43058</th>\n",
              "      <td>FRANLEASE ARREND MERCANTIL SA</td>\n",
              "    </tr>\n",
              "    <tr>\n",
              "      <th>43059</th>\n",
              "      <td>CIA BRAS PROJETOS OBRAS</td>\n",
              "    </tr>\n",
              "    <tr>\n",
              "      <th>43060</th>\n",
              "      <td>BASF BRASILEIRA SA INDS QUIMICAS</td>\n",
              "    </tr>\n",
              "    <tr>\n",
              "      <th>43062</th>\n",
              "      <td>BCO INTER ATLANTICO SA</td>\n",
              "    </tr>\n",
              "  </tbody>\n",
              "</table>\n",
              "<p>1176 rows × 1 columns</p>\n",
              "</div>"
            ],
            "text/plain": [
              "                                                 EMISSOR\n",
              "659    BB CONCESSÕES BRASIL 3 FUNDO DE INVESTI MENTO ...\n",
              "1687   CAPITÂNIA PREV ADVISORY XP SEGUROS FUNDO DE IN...\n",
              "2149   LEGACY CAPITAL FUNDO DE INVESTIMENTO EM COTAS ...\n",
              "9985   CARTEIRA CORPORATIVA 191 FUNDO INVEST COTAS FU...\n",
              "10101                             ADVANCE AUTO PARTS INC\n",
              "...                                                  ...\n",
              "43057                      BCO EUROPEU AMERICA LATINA SA\n",
              "43058                      FRANLEASE ARREND MERCANTIL SA\n",
              "43059                            CIA BRAS PROJETOS OBRAS\n",
              "43060                   BASF BRASILEIRA SA INDS QUIMICAS\n",
              "43062                             BCO INTER ATLANTICO SA\n",
              "\n",
              "[1176 rows x 1 columns]"
            ]
          },
          "metadata": {
            "tags": []
          },
          "execution_count": 43
        }
      ]
    },
    {
      "cell_type": "code",
      "metadata": {
        "colab": {
          "base_uri": "https://localhost:8080/",
          "height": 424
        },
        "id": "Yy15ETJ2YAsQ",
        "outputId": "c52fbf76-440a-461d-b5b3-cd342196b99b"
      },
      "source": [
        "emissores_cda8_cnpj\n",
        "emissores_cda8_sem_cnpj"
      ],
      "execution_count": 44,
      "outputs": [
        {
          "output_type": "execute_result",
          "data": {
            "text/html": [
              "<div>\n",
              "<style scoped>\n",
              "    .dataframe tbody tr th:only-of-type {\n",
              "        vertical-align: middle;\n",
              "    }\n",
              "\n",
              "    .dataframe tbody tr th {\n",
              "        vertical-align: top;\n",
              "    }\n",
              "\n",
              "    .dataframe thead th {\n",
              "        text-align: right;\n",
              "    }\n",
              "</style>\n",
              "<table border=\"1\" class=\"dataframe\">\n",
              "  <thead>\n",
              "    <tr style=\"text-align: right;\">\n",
              "      <th></th>\n",
              "      <th>EMISSOR</th>\n",
              "    </tr>\n",
              "  </thead>\n",
              "  <tbody>\n",
              "    <tr>\n",
              "      <th>6012</th>\n",
              "      <td>INDICE BOVESPA</td>\n",
              "    </tr>\n",
              "    <tr>\n",
              "      <th>10456</th>\n",
              "      <td>Ishares Msci All Country Asia Ex Japan Etf Bdr</td>\n",
              "    </tr>\n",
              "    <tr>\n",
              "      <th>10458</th>\n",
              "      <td>Ishares Msci Emerging Markets Etf Bdr</td>\n",
              "    </tr>\n",
              "    <tr>\n",
              "      <th>10459</th>\n",
              "      <td>Ishares Msci Eafe Etf Bdr</td>\n",
              "    </tr>\n",
              "    <tr>\n",
              "      <th>10460</th>\n",
              "      <td>Ishares Russel 2000 Etf Bdr</td>\n",
              "    </tr>\n",
              "    <tr>\n",
              "      <th>...</th>\n",
              "      <td>...</td>\n",
              "    </tr>\n",
              "    <tr>\n",
              "      <th>160339</th>\n",
              "      <td>Participacao/TROPICAL</td>\n",
              "    </tr>\n",
              "    <tr>\n",
              "      <th>160382</th>\n",
              "      <td>Outros/REC SAPHYR IPIRANGA</td>\n",
              "    </tr>\n",
              "    <tr>\n",
              "      <th>160439</th>\n",
              "      <td>Participacao/VHR EMPREENDIMENTOS</td>\n",
              "    </tr>\n",
              "    <tr>\n",
              "      <th>160470</th>\n",
              "      <td>Acoes Judiciais/CCE BMG - BOM JESUS</td>\n",
              "    </tr>\n",
              "    <tr>\n",
              "      <th>160471</th>\n",
              "      <td>Outros/CCE SANT - BOM JESUS</td>\n",
              "    </tr>\n",
              "  </tbody>\n",
              "</table>\n",
              "<p>142 rows × 1 columns</p>\n",
              "</div>"
            ],
            "text/plain": [
              "                                               EMISSOR\n",
              "6012                                    INDICE BOVESPA\n",
              "10456   Ishares Msci All Country Asia Ex Japan Etf Bdr\n",
              "10458            Ishares Msci Emerging Markets Etf Bdr\n",
              "10459                        Ishares Msci Eafe Etf Bdr\n",
              "10460                      Ishares Russel 2000 Etf Bdr\n",
              "...                                                ...\n",
              "160339                           Participacao/TROPICAL\n",
              "160382                      Outros/REC SAPHYR IPIRANGA\n",
              "160439                Participacao/VHR EMPREENDIMENTOS\n",
              "160470             Acoes Judiciais/CCE BMG - BOM JESUS\n",
              "160471                     Outros/CCE SANT - BOM JESUS\n",
              "\n",
              "[142 rows x 1 columns]"
            ]
          },
          "metadata": {
            "tags": []
          },
          "execution_count": 44
        }
      ]
    },
    {
      "cell_type": "code",
      "metadata": {
        "colab": {
          "base_uri": "https://localhost:8080/"
        },
        "id": "1UuQwxAeXRoH",
        "outputId": "5ab3c4aa-b6c9-4a94-d914-656642438706"
      },
      "source": [
        "# Verifica se não há valores ausentes ('missing values') em CPF_CNPJ_EMISSOR \n",
        "df = emissores_cda8_cnpj[emissores_cda8_cnpj['CPF_CNPJ_EMISSOR']=='']\n",
        "print(df.empty) "
      ],
      "execution_count": 45,
      "outputs": [
        {
          "output_type": "stream",
          "text": [
            "True\n"
          ],
          "name": "stdout"
        }
      ]
    },
    {
      "cell_type": "code",
      "metadata": {
        "colab": {
          "base_uri": "https://localhost:8080/"
        },
        "id": "THY5nYOKXEok",
        "outputId": "0a588ee3-bb4e-4a47-fc83-cf216f0eed89"
      },
      "source": [
        "# Verifica se não há valores ausentes ('missing values') em CPF_CNPJ_EMISSOR \n",
        "df = emissores_isin_cnpj[emissores_isin_cnpj['CPF_CNPJ_EMISSOR']=='']\n",
        "print(df.empty) "
      ],
      "execution_count": 46,
      "outputs": [
        {
          "output_type": "stream",
          "text": [
            "True\n"
          ],
          "name": "stdout"
        }
      ]
    },
    {
      "cell_type": "code",
      "metadata": {
        "colab": {
          "base_uri": "https://localhost:8080/",
          "height": 424
        },
        "id": "FXaG_UeHa-iK",
        "outputId": "972578b6-7d63-4c00-ac0d-f5622ffd07c3"
      },
      "source": [
        "nomes_emissores_cnpj = pd.concat([emissores_cda5, emissores_cda6, emissores_cda8_cnpj, emissores_isin_cnpj])\n",
        "\n",
        "nomes_emissores_cnpj = nomes_emissores_cnpj.drop_duplicates(subset='CPF_CNPJ_EMISSOR', keep=\"last\")\n",
        "\n",
        "nomes_emissores_cnpj"
      ],
      "execution_count": 47,
      "outputs": [
        {
          "output_type": "execute_result",
          "data": {
            "text/html": [
              "<div>\n",
              "<style scoped>\n",
              "    .dataframe tbody tr th:only-of-type {\n",
              "        vertical-align: middle;\n",
              "    }\n",
              "\n",
              "    .dataframe tbody tr th {\n",
              "        vertical-align: top;\n",
              "    }\n",
              "\n",
              "    .dataframe thead th {\n",
              "        text-align: right;\n",
              "    }\n",
              "</style>\n",
              "<table border=\"1\" class=\"dataframe\">\n",
              "  <thead>\n",
              "    <tr style=\"text-align: right;\">\n",
              "      <th></th>\n",
              "      <th>CPF_CNPJ_EMISSOR</th>\n",
              "      <th>EMISSOR</th>\n",
              "    </tr>\n",
              "  </thead>\n",
              "  <tbody>\n",
              "    <tr>\n",
              "      <th>2631</th>\n",
              "      <td>07.810.517/0001-95</td>\n",
              "      <td>BANCO BTG PACTUAL S/A</td>\n",
              "    </tr>\n",
              "    <tr>\n",
              "      <th>2724</th>\n",
              "      <td>18.236.120/0001-58</td>\n",
              "      <td>NU PAGAMENTOS</td>\n",
              "    </tr>\n",
              "    <tr>\n",
              "      <th>5056</th>\n",
              "      <td>30.121.792/0001-13</td>\n",
              "      <td>CREDIT SUISSE</td>\n",
              "    </tr>\n",
              "    <tr>\n",
              "      <th>8326</th>\n",
              "      <td>60.701.190/4816-09</td>\n",
              "      <td>ITAU UNIBANCO S</td>\n",
              "    </tr>\n",
              "    <tr>\n",
              "      <th>8771</th>\n",
              "      <td>11.476.673/0001-39</td>\n",
              "      <td>BANCO RANDON SA</td>\n",
              "    </tr>\n",
              "    <tr>\n",
              "      <th>...</th>\n",
              "      <td>...</td>\n",
              "      <td>...</td>\n",
              "    </tr>\n",
              "    <tr>\n",
              "      <th>43054</th>\n",
              "      <td>35.993.098/0001-00</td>\n",
              "      <td>Z.A DIGITAL DE SÃO PAULO SISTEMA DE ESTACIONAM...</td>\n",
              "    </tr>\n",
              "    <tr>\n",
              "      <th>43055</th>\n",
              "      <td>26.470.438/0001-27</td>\n",
              "      <td>JBZ FUNDO INVESTIMENTO COTAS FUNDOS INVESTIMEN...</td>\n",
              "    </tr>\n",
              "    <tr>\n",
              "      <th>43056</th>\n",
              "      <td>24.290.332/0001-16</td>\n",
              "      <td>SANTANDER PB ZARAGOZA MULTIMERCADO CRÉDITO PRI...</td>\n",
              "    </tr>\n",
              "    <tr>\n",
              "      <th>43061</th>\n",
              "      <td>23.637.697/0001-01</td>\n",
              "      <td>ALCOA ALUMINIO SA</td>\n",
              "    </tr>\n",
              "    <tr>\n",
              "      <th>43063</th>\n",
              "      <td>61.377.677/0001-38</td>\n",
              "      <td>BCO CIDADE SA</td>\n",
              "    </tr>\n",
              "  </tbody>\n",
              "</table>\n",
              "<p>42171 rows × 2 columns</p>\n",
              "</div>"
            ],
            "text/plain": [
              "         CPF_CNPJ_EMISSOR                                            EMISSOR\n",
              "2631   07.810.517/0001-95                              BANCO BTG PACTUAL S/A\n",
              "2724   18.236.120/0001-58                                      NU PAGAMENTOS\n",
              "5056   30.121.792/0001-13                                      CREDIT SUISSE\n",
              "8326   60.701.190/4816-09                                    ITAU UNIBANCO S\n",
              "8771   11.476.673/0001-39                                    BANCO RANDON SA\n",
              "...                   ...                                                ...\n",
              "43054  35.993.098/0001-00  Z.A DIGITAL DE SÃO PAULO SISTEMA DE ESTACIONAM...\n",
              "43055  26.470.438/0001-27  JBZ FUNDO INVESTIMENTO COTAS FUNDOS INVESTIMEN...\n",
              "43056  24.290.332/0001-16  SANTANDER PB ZARAGOZA MULTIMERCADO CRÉDITO PRI...\n",
              "43061  23.637.697/0001-01                                  ALCOA ALUMINIO SA\n",
              "43063  61.377.677/0001-38                                      BCO CIDADE SA\n",
              "\n",
              "[42171 rows x 2 columns]"
            ]
          },
          "metadata": {
            "tags": []
          },
          "execution_count": 47
        }
      ]
    },
    {
      "cell_type": "code",
      "metadata": {
        "colab": {
          "base_uri": "https://localhost:8080/"
        },
        "id": "3OyVP6vqWGU-",
        "outputId": "9099788e-4daa-4d1a-87a9-e4aaf2ddbe82"
      },
      "source": [
        "# Verifica se não há valores ausentes ('missing values') em EMISSOR (Nome do Emissor) \n",
        "df = emissores_cda7[emissores_cda7['EMISSOR']=='']\n",
        "print(df.empty) "
      ],
      "execution_count": 48,
      "outputs": [
        {
          "output_type": "stream",
          "text": [
            "True\n"
          ],
          "name": "stdout"
        }
      ]
    },
    {
      "cell_type": "code",
      "metadata": {
        "colab": {
          "base_uri": "https://localhost:8080/"
        },
        "id": "yd50BlXHZYsN",
        "outputId": "915974e9-d2d7-49bc-8b40-51892c60c8c1"
      },
      "source": [
        "# Verifica se não há valores ausentes ('missing values') em EMISSOR (Nome do Emissor) \n",
        "df = emissores_cda8_sem_cnpj[emissores_cda8_sem_cnpj['EMISSOR']=='']\n",
        "print(df.empty) "
      ],
      "execution_count": 49,
      "outputs": [
        {
          "output_type": "stream",
          "text": [
            "True\n"
          ],
          "name": "stdout"
        }
      ]
    },
    {
      "cell_type": "code",
      "metadata": {
        "colab": {
          "base_uri": "https://localhost:8080/"
        },
        "id": "kZjbIzcmZY3Q",
        "outputId": "459a7ce2-9322-45e5-a5b4-920b8a4ee09c"
      },
      "source": [
        "# Verifica se não há valores ausentes ('missing values') em EMISSOR (Nome do Emissor) \n",
        "df = emissores_isin_sem_cnpj[emissores_isin_sem_cnpj['EMISSOR']=='']\n",
        "print(df.empty) "
      ],
      "execution_count": 50,
      "outputs": [
        {
          "output_type": "stream",
          "text": [
            "True\n"
          ],
          "name": "stdout"
        }
      ]
    },
    {
      "cell_type": "code",
      "metadata": {
        "colab": {
          "base_uri": "https://localhost:8080/",
          "height": 206
        },
        "id": "N-bteT6IZI1y",
        "outputId": "aaebe06c-e394-4a6b-8423-df33f873bc15"
      },
      "source": [
        "nomes_emissores_sem_cnpj = pd.concat([emissores_cda7, emissores_cda8_sem_cnpj, emissores_isin_sem_cnpj])\n",
        "\n",
        "nomes_emissores_sem_cnpj = nomes_emissores_sem_cnpj.drop_duplicates()\n",
        "\n",
        "nomes_emissores_sem_cnpj.head()"
      ],
      "execution_count": 51,
      "outputs": [
        {
          "output_type": "execute_result",
          "data": {
            "text/html": [
              "<div>\n",
              "<style scoped>\n",
              "    .dataframe tbody tr th:only-of-type {\n",
              "        vertical-align: middle;\n",
              "    }\n",
              "\n",
              "    .dataframe tbody tr th {\n",
              "        vertical-align: top;\n",
              "    }\n",
              "\n",
              "    .dataframe thead th {\n",
              "        text-align: right;\n",
              "    }\n",
              "</style>\n",
              "<table border=\"1\" class=\"dataframe\">\n",
              "  <thead>\n",
              "    <tr style=\"text-align: right;\">\n",
              "      <th></th>\n",
              "      <th>EMISSOR</th>\n",
              "    </tr>\n",
              "  </thead>\n",
              "  <tbody>\n",
              "    <tr>\n",
              "      <th>0</th>\n",
              "      <td>TEMPUS OPP 1 CLASS</td>\n",
              "    </tr>\n",
              "    <tr>\n",
              "      <th>1</th>\n",
              "      <td>ALIBABA GROUP HOLDING LTD</td>\n",
              "    </tr>\n",
              "    <tr>\n",
              "      <th>2</th>\n",
              "      <td>AMAZON.COM INC</td>\n",
              "    </tr>\n",
              "    <tr>\n",
              "      <th>3</th>\n",
              "      <td>JP MORGAN CHASE  CO.</td>\n",
              "    </tr>\n",
              "    <tr>\n",
              "      <th>4</th>\n",
              "      <td>GOVERNO BRASILEIRO</td>\n",
              "    </tr>\n",
              "  </tbody>\n",
              "</table>\n",
              "</div>"
            ],
            "text/plain": [
              "                     EMISSOR\n",
              "0         TEMPUS OPP 1 CLASS\n",
              "1  ALIBABA GROUP HOLDING LTD\n",
              "2             AMAZON.COM INC\n",
              "3       JP MORGAN CHASE  CO.\n",
              "4         GOVERNO BRASILEIRO"
            ]
          },
          "metadata": {
            "tags": []
          },
          "execution_count": 51
        }
      ]
    },
    {
      "cell_type": "code",
      "metadata": {
        "colab": {
          "base_uri": "https://localhost:8080/",
          "height": 424
        },
        "id": "B3XwX_60aUD5",
        "outputId": "8d95be30-1c3c-495b-86b9-5996ffa7ac2b"
      },
      "source": [
        "nomes_emissores = pd.concat([nomes_emissores_cnpj, nomes_emissores_sem_cnpj])\n",
        "\n",
        "nomes_emissores.reset_index(drop=True, inplace=True)\n",
        "\n",
        "nomes_emissores"
      ],
      "execution_count": 52,
      "outputs": [
        {
          "output_type": "execute_result",
          "data": {
            "text/html": [
              "<div>\n",
              "<style scoped>\n",
              "    .dataframe tbody tr th:only-of-type {\n",
              "        vertical-align: middle;\n",
              "    }\n",
              "\n",
              "    .dataframe tbody tr th {\n",
              "        vertical-align: top;\n",
              "    }\n",
              "\n",
              "    .dataframe thead th {\n",
              "        text-align: right;\n",
              "    }\n",
              "</style>\n",
              "<table border=\"1\" class=\"dataframe\">\n",
              "  <thead>\n",
              "    <tr style=\"text-align: right;\">\n",
              "      <th></th>\n",
              "      <th>CPF_CNPJ_EMISSOR</th>\n",
              "      <th>EMISSOR</th>\n",
              "    </tr>\n",
              "  </thead>\n",
              "  <tbody>\n",
              "    <tr>\n",
              "      <th>0</th>\n",
              "      <td>07.810.517/0001-95</td>\n",
              "      <td>BANCO BTG PACTUAL S/A</td>\n",
              "    </tr>\n",
              "    <tr>\n",
              "      <th>1</th>\n",
              "      <td>18.236.120/0001-58</td>\n",
              "      <td>NU PAGAMENTOS</td>\n",
              "    </tr>\n",
              "    <tr>\n",
              "      <th>2</th>\n",
              "      <td>30.121.792/0001-13</td>\n",
              "      <td>CREDIT SUISSE</td>\n",
              "    </tr>\n",
              "    <tr>\n",
              "      <th>3</th>\n",
              "      <td>60.701.190/4816-09</td>\n",
              "      <td>ITAU UNIBANCO S</td>\n",
              "    </tr>\n",
              "    <tr>\n",
              "      <th>4</th>\n",
              "      <td>11.476.673/0001-39</td>\n",
              "      <td>BANCO RANDON SA</td>\n",
              "    </tr>\n",
              "    <tr>\n",
              "      <th>...</th>\n",
              "      <td>...</td>\n",
              "      <td>...</td>\n",
              "    </tr>\n",
              "    <tr>\n",
              "      <th>45467</th>\n",
              "      <td>NaN</td>\n",
              "      <td>BCO EUROPEU AMERICA LATINA SA</td>\n",
              "    </tr>\n",
              "    <tr>\n",
              "      <th>45468</th>\n",
              "      <td>NaN</td>\n",
              "      <td>FRANLEASE ARREND MERCANTIL SA</td>\n",
              "    </tr>\n",
              "    <tr>\n",
              "      <th>45469</th>\n",
              "      <td>NaN</td>\n",
              "      <td>CIA BRAS PROJETOS OBRAS</td>\n",
              "    </tr>\n",
              "    <tr>\n",
              "      <th>45470</th>\n",
              "      <td>NaN</td>\n",
              "      <td>BASF BRASILEIRA SA INDS QUIMICAS</td>\n",
              "    </tr>\n",
              "    <tr>\n",
              "      <th>45471</th>\n",
              "      <td>NaN</td>\n",
              "      <td>BCO INTER ATLANTICO SA</td>\n",
              "    </tr>\n",
              "  </tbody>\n",
              "</table>\n",
              "<p>45472 rows × 2 columns</p>\n",
              "</div>"
            ],
            "text/plain": [
              "         CPF_CNPJ_EMISSOR                           EMISSOR\n",
              "0      07.810.517/0001-95             BANCO BTG PACTUAL S/A\n",
              "1      18.236.120/0001-58                     NU PAGAMENTOS\n",
              "2      30.121.792/0001-13                     CREDIT SUISSE\n",
              "3      60.701.190/4816-09                   ITAU UNIBANCO S\n",
              "4      11.476.673/0001-39                   BANCO RANDON SA\n",
              "...                   ...                               ...\n",
              "45467                 NaN     BCO EUROPEU AMERICA LATINA SA\n",
              "45468                 NaN     FRANLEASE ARREND MERCANTIL SA\n",
              "45469                 NaN           CIA BRAS PROJETOS OBRAS\n",
              "45470                 NaN  BASF BRASILEIRA SA INDS QUIMICAS\n",
              "45471                 NaN            BCO INTER ATLANTICO SA\n",
              "\n",
              "[45472 rows x 2 columns]"
            ]
          },
          "metadata": {
            "tags": []
          },
          "execution_count": 52
        }
      ]
    },
    {
      "cell_type": "code",
      "metadata": {
        "colab": {
          "base_uri": "https://localhost:8080/"
        },
        "id": "X70uh7bBaUmA",
        "outputId": "9064842d-7dc7-47e4-b746-5f32c43c39c3"
      },
      "source": [
        "# Verifica unicidade de CPF_CNPJ\n",
        "cnt = nomes_emissores[nomes_emissores['CPF_CNPJ_EMISSOR']==''].groupby('CPF_CNPJ_EMISSOR')['EMISSOR'].nunique()\n",
        "print(cnt[cnt>1].empty)"
      ],
      "execution_count": 53,
      "outputs": [
        {
          "output_type": "stream",
          "text": [
            "True\n"
          ],
          "name": "stdout"
        }
      ]
    },
    {
      "cell_type": "code",
      "metadata": {
        "colab": {
          "base_uri": "https://localhost:8080/"
        },
        "id": "RMoWKrTWex9V",
        "outputId": "8b136ada-7e6f-485f-9660-93f342289dae"
      },
      "source": [
        "# Verifica se não há valores ausentes ('missing values') em EMISSOR (Nome do Emissor) \n",
        "df = nomes_emissores[nomes_emissores['EMISSOR']=='']\n",
        "print(df.empty) "
      ],
      "execution_count": 54,
      "outputs": [
        {
          "output_type": "stream",
          "text": [
            "True\n"
          ],
          "name": "stdout"
        }
      ]
    },
    {
      "cell_type": "code",
      "metadata": {
        "colab": {
          "base_uri": "https://localhost:8080/"
        },
        "id": "3WSdVeibdRWi",
        "outputId": "a5db2bb0-dbaa-4cba-ff82-f1f975eae4f1"
      },
      "source": [
        "# Verifica duplicidade em EMISSOR (Nome do Emissor)\n",
        "cnt = nomes_emissores.groupby('EMISSOR')['CPF_CNPJ_EMISSOR'].nunique()\n",
        "cnt[cnt>1].count()\n",
        "#cnt[cnt>1]\n",
        "#nomes_emissores[nomes_emissores['EMISSOR']=='ODEBRECHT SA']"
      ],
      "execution_count": 55,
      "outputs": [
        {
          "output_type": "execute_result",
          "data": {
            "text/plain": [
              "46"
            ]
          },
          "metadata": {
            "tags": []
          },
          "execution_count": 55
        }
      ]
    },
    {
      "cell_type": "markdown",
      "metadata": {
        "id": "hUS_ItOg_5mV"
      },
      "source": [
        "### Ativos\n"
      ]
    },
    {
      "cell_type": "code",
      "metadata": {
        "colab": {
          "base_uri": "https://localhost:8080/",
          "height": 424
        },
        "id": "msPwKAwNloA0",
        "outputId": "7d3bcbb9-e635-4e27-e1e7-2d15082e33fb"
      },
      "source": [
        "ativos_isin"
      ],
      "execution_count": 56,
      "outputs": [
        {
          "output_type": "execute_result",
          "data": {
            "text/html": [
              "<div>\n",
              "<style scoped>\n",
              "    .dataframe tbody tr th:only-of-type {\n",
              "        vertical-align: middle;\n",
              "    }\n",
              "\n",
              "    .dataframe tbody tr th {\n",
              "        vertical-align: top;\n",
              "    }\n",
              "\n",
              "    .dataframe thead th {\n",
              "        text-align: right;\n",
              "    }\n",
              "</style>\n",
              "<table border=\"1\" class=\"dataframe\">\n",
              "  <thead>\n",
              "    <tr style=\"text-align: right;\">\n",
              "      <th></th>\n",
              "      <th>CD_ISIN</th>\n",
              "      <th>COD_TIPO</th>\n",
              "      <th>DS_ATIVO</th>\n",
              "      <th>COD_EMISSOR</th>\n",
              "    </tr>\n",
              "  </thead>\n",
              "  <tbody>\n",
              "    <tr>\n",
              "      <th>0</th>\n",
              "      <td>BR0002CTF008</td>\n",
              "      <td>CTF</td>\n",
              "      <td>COTAS SENIORES</td>\n",
              "      <td>0002</td>\n",
              "    </tr>\n",
              "    <tr>\n",
              "      <th>1</th>\n",
              "      <td>BR0002CTF016</td>\n",
              "      <td>CTF</td>\n",
              "      <td>COTAS SUBORDINADAS</td>\n",
              "      <td>0002</td>\n",
              "    </tr>\n",
              "    <tr>\n",
              "      <th>2</th>\n",
              "      <td>BR0003CTF006</td>\n",
              "      <td>CTF</td>\n",
              "      <td>COTAS</td>\n",
              "      <td>0003</td>\n",
              "    </tr>\n",
              "    <tr>\n",
              "      <th>3</th>\n",
              "      <td>BR0004CTF004</td>\n",
              "      <td>CTF</td>\n",
              "      <td>COTAS</td>\n",
              "      <td>0004</td>\n",
              "    </tr>\n",
              "    <tr>\n",
              "      <th>4</th>\n",
              "      <td>BR0005CTF001</td>\n",
              "      <td>CTF</td>\n",
              "      <td>COTAS</td>\n",
              "      <td>0005</td>\n",
              "    </tr>\n",
              "    <tr>\n",
              "      <th>...</th>\n",
              "      <td>...</td>\n",
              "      <td>...</td>\n",
              "      <td>...</td>\n",
              "      <td>...</td>\n",
              "    </tr>\n",
              "    <tr>\n",
              "      <th>126517</th>\n",
              "      <td>BRZZDTDBS005</td>\n",
              "      <td>DBS</td>\n",
              "      <td>DEBENTURES SIMPLES 1ª EMISSÃO SÉRIE 1ª</td>\n",
              "      <td>ZZDT</td>\n",
              "    </tr>\n",
              "    <tr>\n",
              "      <th>126518</th>\n",
              "      <td>BRZZDTDBS013</td>\n",
              "      <td>DBS</td>\n",
              "      <td>DEBENTURES SIMPLES 1ª EMISSÃO SÉRIE 2ª</td>\n",
              "      <td>ZZDT</td>\n",
              "    </tr>\n",
              "    <tr>\n",
              "      <th>126519</th>\n",
              "      <td>BRZZF1CTF007</td>\n",
              "      <td>CTF</td>\n",
              "      <td>COTAS COTAS</td>\n",
              "      <td>ZZF1</td>\n",
              "    </tr>\n",
              "    <tr>\n",
              "      <th>126520</th>\n",
              "      <td>BRZZGRCTF003</td>\n",
              "      <td>CTF</td>\n",
              "      <td>COTAS COTAS</td>\n",
              "      <td>ZZGR</td>\n",
              "    </tr>\n",
              "    <tr>\n",
              "      <th>126521</th>\n",
              "      <td>BRZZXAACNOR1</td>\n",
              "      <td>ACN</td>\n",
              "      <td>ACOES NOMINATIVAS ACOES ORDINARIAS</td>\n",
              "      <td>ZZXA</td>\n",
              "    </tr>\n",
              "  </tbody>\n",
              "</table>\n",
              "<p>126522 rows × 4 columns</p>\n",
              "</div>"
            ],
            "text/plain": [
              "             CD_ISIN  ... COD_EMISSOR\n",
              "0       BR0002CTF008  ...        0002\n",
              "1       BR0002CTF016  ...        0002\n",
              "2       BR0003CTF006  ...        0003\n",
              "3       BR0004CTF004  ...        0004\n",
              "4       BR0005CTF001  ...        0005\n",
              "...              ...  ...         ...\n",
              "126517  BRZZDTDBS005  ...        ZZDT\n",
              "126518  BRZZDTDBS013  ...        ZZDT\n",
              "126519  BRZZF1CTF007  ...        ZZF1\n",
              "126520  BRZZGRCTF003  ...        ZZGR\n",
              "126521  BRZZXAACNOR1  ...        ZZXA\n",
              "\n",
              "[126522 rows x 4 columns]"
            ]
          },
          "metadata": {
            "tags": []
          },
          "execution_count": 56
        }
      ]
    },
    {
      "cell_type": "code",
      "metadata": {
        "id": "SXjDSwNkvHJl"
      },
      "source": [
        "titulos_publicos        = cda1[['CD_ISIN','DS_ATIVO','DT_VENC']].drop_duplicates().fillna('') \n",
        "swap                    = cda3[['CD_SWAP','CD_ATIVO']].drop_duplicates().fillna('') \n",
        "ativos_codificados      = cda4[['CD_ISIN','CD_ATIVO','DS_ATIVO']].drop_duplicates().fillna('') \n",
        "depositos_prazo         = cda5[['DS_ATIVO','DT_VENC','CPF_CNPJ_EMISSOR']].drop_duplicates().fillna('')\n",
        "titulos_agronegocio     = cda6[['DS_ATIVO','DT_VENC','CPF_CNPJ_EMISSOR']].drop_duplicates().fillna('') \n",
        "investimento_exterior   = cda7[['CD_ATIVO','BV_MERC','PAIS','DS_ATIVO','DT_VENC','EMISSOR']].drop_duplicates().fillna('') \n",
        "ativos_nao_codificados  = cda8[['DS_ATIVO','CPF_CNPJ_EMISSOR']].drop_duplicates().fillna('')"
      ],
      "execution_count": 57,
      "outputs": []
    },
    {
      "cell_type": "markdown",
      "metadata": {
        "id": "VTFsSq_8rPq2"
      },
      "source": [
        "#### Títulos Públicos"
      ]
    },
    {
      "cell_type": "code",
      "metadata": {
        "colab": {
          "base_uri": "https://localhost:8080/",
          "height": 424
        },
        "id": "oDdyhqpKmHz9",
        "outputId": "7ef239ef-792b-4ab9-a47c-2414d996dcf1"
      },
      "source": [
        "df1 = pd.merge(titulos_publicos.rename(columns={'DS_ATIVO': 'DS_ATIVO_1'}), ativos_isin.rename(columns={'DS_ATIVO': 'DS_ATIVO_2'}),\n",
        "                        how=\"left\", on=[\"CD_ISIN\"])\n",
        "\n",
        "df1 = df1.replace(np.nan, '', regex=True)\n",
        "\n",
        "df1['DS_ATIVO'] = df1.apply(lambda row: ds_ativo(row), axis=1)\n",
        "\n",
        "df1 = df1.drop(['COD_TIPO'], axis=1)\n",
        "df1 = df1.drop(['DS_ATIVO_1'], axis=1)\n",
        "df1 = df1.drop(['DS_ATIVO_2'], axis=1)\n",
        "\n",
        "df2 = pd.merge(df1, emissores_ativos_isin, \n",
        "               how = \"left\", on=[\"COD_EMISSOR\"])\n",
        "\n",
        "# A coluna CPF_CNPJ_EMISSOR do dataframe 'nomes_emissores' será utilizada na operação de merge; por isso, os valores NaN serão preenchidos com '0'\n",
        "titulos_publicos_emissor = pd.merge(df2.rename(columns={'EMISSOR': 'EMISSOR_1'}), nomes_emissores.rename(columns={'EMISSOR': 'EMISSOR_2'}).fillna({'CPF_CNPJ_EMISSOR': '0'}),\n",
        "                                    how=\"left\", on=[\"CPF_CNPJ_EMISSOR\"])\n",
        "\n",
        "titulos_publicos_emissor = titulos_publicos_emissor.drop_duplicates()\n",
        "titulos_publicos_emissor = titulos_publicos_emissor.replace(np.nan, '', regex=True)\n",
        "\n",
        "titulos_publicos_emissor['EMISSOR'] = titulos_publicos_emissor.apply(lambda row: emissor(row), axis=1)\n",
        "titulos_publicos_emissor = titulos_publicos_emissor.drop(['COD_EMISSOR'], axis=1)\n",
        "titulos_publicos_emissor = titulos_publicos_emissor.drop(['EMISSOR_1'], axis=1)\n",
        "titulos_publicos_emissor = titulos_publicos_emissor.drop(['EMISSOR_2'], axis=1)\n",
        "\n",
        "titulos_publicos_emissor"
      ],
      "execution_count": 58,
      "outputs": [
        {
          "output_type": "execute_result",
          "data": {
            "text/html": [
              "<div>\n",
              "<style scoped>\n",
              "    .dataframe tbody tr th:only-of-type {\n",
              "        vertical-align: middle;\n",
              "    }\n",
              "\n",
              "    .dataframe tbody tr th {\n",
              "        vertical-align: top;\n",
              "    }\n",
              "\n",
              "    .dataframe thead th {\n",
              "        text-align: right;\n",
              "    }\n",
              "</style>\n",
              "<table border=\"1\" class=\"dataframe\">\n",
              "  <thead>\n",
              "    <tr style=\"text-align: right;\">\n",
              "      <th></th>\n",
              "      <th>CD_ISIN</th>\n",
              "      <th>DT_VENC</th>\n",
              "      <th>DS_ATIVO</th>\n",
              "      <th>CPF_CNPJ_EMISSOR</th>\n",
              "      <th>EMISSOR</th>\n",
              "    </tr>\n",
              "  </thead>\n",
              "  <tbody>\n",
              "    <tr>\n",
              "      <th>0</th>\n",
              "      <td>BRSTNCLF1R74</td>\n",
              "      <td>2022-09-01</td>\n",
              "      <td>LETRAS FINANCEIRAS DO TESOURO LETRAS FINANCEIR...</td>\n",
              "      <td>00.394.460/0409-50</td>\n",
              "      <td>SECRETARIA TESOURO NACIONAL</td>\n",
              "    </tr>\n",
              "    <tr>\n",
              "      <th>1</th>\n",
              "      <td>BRSTNCNTF1P8</td>\n",
              "      <td>2027-01-01</td>\n",
              "      <td>NOTAS DO TESOURO NACIONAL SERIE F NOTAS DO TES...</td>\n",
              "      <td>00.394.460/0409-50</td>\n",
              "      <td>SECRETARIA TESOURO NACIONAL</td>\n",
              "    </tr>\n",
              "    <tr>\n",
              "      <th>2</th>\n",
              "      <td>BRSTNCLTN7O0</td>\n",
              "      <td>2022-07-01</td>\n",
              "      <td>LETRAS DO TESOURO NACIONAL LETRAS DO TESOURO N...</td>\n",
              "      <td>00.394.460/0409-50</td>\n",
              "      <td>SECRETARIA TESOURO NACIONAL</td>\n",
              "    </tr>\n",
              "    <tr>\n",
              "      <th>3</th>\n",
              "      <td>BRSTNCNTB4O9</td>\n",
              "      <td>2023-05-15</td>\n",
              "      <td>NOTAS DO TESOURO NACIONAL SERIE B NOTAS DO TES...</td>\n",
              "      <td>00.394.460/0409-50</td>\n",
              "      <td>SECRETARIA TESOURO NACIONAL</td>\n",
              "    </tr>\n",
              "    <tr>\n",
              "      <th>4</th>\n",
              "      <td>BRSTNCNTB096</td>\n",
              "      <td>2024-08-15</td>\n",
              "      <td>NOTAS DO TESOURO NACIONAL SERIE B NOTAS DO TES...</td>\n",
              "      <td>00.394.460/0409-50</td>\n",
              "      <td>SECRETARIA TESOURO NACIONAL</td>\n",
              "    </tr>\n",
              "    <tr>\n",
              "      <th>...</th>\n",
              "      <td>...</td>\n",
              "      <td>...</td>\n",
              "      <td>...</td>\n",
              "      <td>...</td>\n",
              "      <td>...</td>\n",
              "    </tr>\n",
              "    <tr>\n",
              "      <th>111</th>\n",
              "      <td>BRSTNCNI17E6</td>\n",
              "      <td>2025-09-15</td>\n",
              "      <td>NOTAS DO TESOURO NACIONAL SERIE I NOTAS DO TES...</td>\n",
              "      <td>00.394.460/0409-50</td>\n",
              "      <td>SECRETARIA TESOURO NACIONAL</td>\n",
              "    </tr>\n",
              "    <tr>\n",
              "      <th>112</th>\n",
              "      <td>BRSTNCNI1860</td>\n",
              "      <td>2025-10-15</td>\n",
              "      <td>NOTAS DO TESOURO NACIONAL SERIE I NOTAS DO TES...</td>\n",
              "      <td>00.394.460/0409-50</td>\n",
              "      <td>SECRETARIA TESOURO NACIONAL</td>\n",
              "    </tr>\n",
              "    <tr>\n",
              "      <th>113</th>\n",
              "      <td>BRSTNCNI18W6</td>\n",
              "      <td>2026-02-15</td>\n",
              "      <td>NOTAS DO TESOURO NACIONAL SERIE I NOTAS DO TES...</td>\n",
              "      <td>00.394.460/0409-50</td>\n",
              "      <td>SECRETARIA TESOURO NACIONAL</td>\n",
              "    </tr>\n",
              "    <tr>\n",
              "      <th>114</th>\n",
              "      <td>BRSTNCNI1878</td>\n",
              "      <td>2026-04-15</td>\n",
              "      <td>NOTAS DO TESOURO NACIONAL SERIE I NOTAS DO TES...</td>\n",
              "      <td>00.394.460/0409-50</td>\n",
              "      <td>SECRETARIA TESOURO NACIONAL</td>\n",
              "    </tr>\n",
              "    <tr>\n",
              "      <th>115</th>\n",
              "      <td>BRSTNCNI16R0</td>\n",
              "      <td>2026-05-15</td>\n",
              "      <td>NOTAS DO TESOURO NACIONAL SERIE I NOTAS DO TES...</td>\n",
              "      <td>00.394.460/0409-50</td>\n",
              "      <td>SECRETARIA TESOURO NACIONAL</td>\n",
              "    </tr>\n",
              "  </tbody>\n",
              "</table>\n",
              "<p>116 rows × 5 columns</p>\n",
              "</div>"
            ],
            "text/plain": [
              "          CD_ISIN     DT_VENC  ...    CPF_CNPJ_EMISSOR                      EMISSOR\n",
              "0    BRSTNCLF1R74  2022-09-01  ...  00.394.460/0409-50  SECRETARIA TESOURO NACIONAL\n",
              "1    BRSTNCNTF1P8  2027-01-01  ...  00.394.460/0409-50  SECRETARIA TESOURO NACIONAL\n",
              "2    BRSTNCLTN7O0  2022-07-01  ...  00.394.460/0409-50  SECRETARIA TESOURO NACIONAL\n",
              "3    BRSTNCNTB4O9  2023-05-15  ...  00.394.460/0409-50  SECRETARIA TESOURO NACIONAL\n",
              "4    BRSTNCNTB096  2024-08-15  ...  00.394.460/0409-50  SECRETARIA TESOURO NACIONAL\n",
              "..            ...         ...  ...                 ...                          ...\n",
              "111  BRSTNCNI17E6  2025-09-15  ...  00.394.460/0409-50  SECRETARIA TESOURO NACIONAL\n",
              "112  BRSTNCNI1860  2025-10-15  ...  00.394.460/0409-50  SECRETARIA TESOURO NACIONAL\n",
              "113  BRSTNCNI18W6  2026-02-15  ...  00.394.460/0409-50  SECRETARIA TESOURO NACIONAL\n",
              "114  BRSTNCNI1878  2026-04-15  ...  00.394.460/0409-50  SECRETARIA TESOURO NACIONAL\n",
              "115  BRSTNCNI16R0  2026-05-15  ...  00.394.460/0409-50  SECRETARIA TESOURO NACIONAL\n",
              "\n",
              "[116 rows x 5 columns]"
            ]
          },
          "metadata": {
            "tags": []
          },
          "execution_count": 58
        }
      ]
    },
    {
      "cell_type": "markdown",
      "metadata": {
        "id": "jfIyu3YErcs3"
      },
      "source": [
        "#### SWAP"
      ]
    },
    {
      "cell_type": "code",
      "metadata": {
        "colab": {
          "base_uri": "https://localhost:8080/",
          "height": 520
        },
        "id": "CH9lYsuBr0q_",
        "outputId": "ef07cbb0-7be9-432d-ca81-38f89e795382"
      },
      "source": [
        "df1 = pd.merge(swap.rename(columns={'CD_SWAP': 'COD_TIPO'}), ativos_isin,\n",
        "                        how=\"left\", on=[\"COD_TIPO\"])\n",
        "\n",
        "df1 = df1.replace(np.nan, '', regex=True)\n",
        "\n",
        "df1 = df1.drop(['COD_TIPO'], axis=1)\n",
        "\n",
        "df2 = pd.merge(df1, emissores_ativos_isin, \n",
        "              how = \"left\", on=[\"COD_EMISSOR\"])\n",
        "\n",
        "# A coluna CPF_CNPJ_EMISSOR do dataframe 'nomes_emissores' será utilizada na operação de merge; por isso, os valores NaN serão preenchidos com '0'\n",
        "swap_emissor = pd.merge(df2.rename(columns={'EMISSOR': 'EMISSOR_1'}), nomes_emissores.rename(columns={'EMISSOR': 'EMISSOR_2'}).fillna({'CPF_CNPJ_EMISSOR': '0'}),\n",
        "                                    how=\"left\", on=[\"CPF_CNPJ_EMISSOR\"])\n",
        "\n",
        "swap_emissor = swap_emissor.drop_duplicates()\n",
        "swap_emissor = swap_emissor.replace(np.nan, '', regex=True)\n",
        "\n",
        "swap_emissor['EMISSOR'] = swap_emissor.apply(lambda row: emissor(row), axis=1)\n",
        "swap_emissor = swap_emissor.drop(['COD_EMISSOR'], axis=1)\n",
        "swap_emissor = swap_emissor.drop(['EMISSOR_1'], axis=1)\n",
        "swap_emissor = swap_emissor.drop(['EMISSOR_2'], axis=1)\n",
        "\n",
        "swap_emissor"
      ],
      "execution_count": 59,
      "outputs": [
        {
          "output_type": "execute_result",
          "data": {
            "text/html": [
              "<div>\n",
              "<style scoped>\n",
              "    .dataframe tbody tr th:only-of-type {\n",
              "        vertical-align: middle;\n",
              "    }\n",
              "\n",
              "    .dataframe tbody tr th {\n",
              "        vertical-align: top;\n",
              "    }\n",
              "\n",
              "    .dataframe thead th {\n",
              "        text-align: right;\n",
              "    }\n",
              "</style>\n",
              "<table border=\"1\" class=\"dataframe\">\n",
              "  <thead>\n",
              "    <tr style=\"text-align: right;\">\n",
              "      <th></th>\n",
              "      <th>CD_ATIVO</th>\n",
              "      <th>CD_ISIN</th>\n",
              "      <th>DS_ATIVO</th>\n",
              "      <th>CPF_CNPJ_EMISSOR</th>\n",
              "      <th>EMISSOR</th>\n",
              "    </tr>\n",
              "  </thead>\n",
              "  <tbody>\n",
              "    <tr>\n",
              "      <th>0</th>\n",
              "      <td>DI1 X IAP</td>\n",
              "      <td>BRBMEFSDL000</td>\n",
              "      <td>SWAP - TAXA DI DE UM DIA VERSUS IPCA/IBGE SWAP...</td>\n",
              "      <td>54.641.030/0001-06</td>\n",
              "      <td>BOLSA MERCADORIAS FUTUROS BMF SA</td>\n",
              "    </tr>\n",
              "    <tr>\n",
              "      <th>1</th>\n",
              "      <td>DI1 X PRE</td>\n",
              "      <td>BRBMEFSDP001</td>\n",
              "      <td>SWAP - TAXA DI DE UM DIA VERSUS TAXA PREFIXADA...</td>\n",
              "      <td>54.641.030/0001-06</td>\n",
              "      <td>BOLSA MERCADORIAS FUTUROS BMF SA</td>\n",
              "    </tr>\n",
              "    <tr>\n",
              "      <th>2</th>\n",
              "      <td>TBF X PRE</td>\n",
              "      <td>BRBMEFSBP005</td>\n",
              "      <td>SWAP - TBF VERSUS TAXA PREFIXADA SWAP - TBF VE...</td>\n",
              "      <td>54.641.030/0001-06</td>\n",
              "      <td>BOLSA MERCADORIAS FUTUROS BMF SA</td>\n",
              "    </tr>\n",
              "    <tr>\n",
              "      <th>3</th>\n",
              "      <td>DI1 X DOL</td>\n",
              "      <td>BRBMEFSDC009</td>\n",
              "      <td>SWAP - TAXA DI DE UM DIA VERSUS  DOLAR COMERCI...</td>\n",
              "      <td>54.641.030/0001-06</td>\n",
              "      <td>BOLSA MERCADORIAS FUTUROS BMF SA</td>\n",
              "    </tr>\n",
              "    <tr>\n",
              "      <th>4</th>\n",
              "      <td>SB1 X DI1</td>\n",
              "      <td>BRBMEFSBD001</td>\n",
              "      <td>SWAP - CARTEIRA DE ACOES VERSUS TAXA DI DE UM ...</td>\n",
              "      <td>54.641.030/0001-06</td>\n",
              "      <td>BOLSA MERCADORIAS FUTUROS BMF SA</td>\n",
              "    </tr>\n",
              "    <tr>\n",
              "      <th>5</th>\n",
              "      <td>DOL X PRE</td>\n",
              "      <td>BRBMEFSCP003</td>\n",
              "      <td>SWAP - DOLAR COMERCIAL VERSUS TAXA PREFIXADA S...</td>\n",
              "      <td>54.641.030/0001-06</td>\n",
              "      <td>BOLSA MERCADORIAS FUTUROS BMF SA</td>\n",
              "    </tr>\n",
              "    <tr>\n",
              "      <th>6</th>\n",
              "      <td>PRE X SB1</td>\n",
              "      <td>BRBMEFSPB005</td>\n",
              "      <td>SWAP - TAXA PREFIXADA VERSUS CARTEIRA DE ACOES...</td>\n",
              "      <td>54.641.030/0001-06</td>\n",
              "      <td>BOLSA MERCADORIAS FUTUROS BMF SA</td>\n",
              "    </tr>\n",
              "    <tr>\n",
              "      <th>7</th>\n",
              "      <td>DI1 X REU</td>\n",
              "      <td>BRBMEFSDE005</td>\n",
              "      <td>SWAP - TAXA DI DE UM DIA VERSUS EURO SWAP - TA...</td>\n",
              "      <td>54.641.030/0001-06</td>\n",
              "      <td>BOLSA MERCADORIAS FUTUROS BMF SA</td>\n",
              "    </tr>\n",
              "    <tr>\n",
              "      <th>8</th>\n",
              "      <td>REU X PRE</td>\n",
              "      <td>BRBMEFSEP009</td>\n",
              "      <td>SWAP - EURO VERSUS TAXA PREFIXADA SWAP - EURO ...</td>\n",
              "      <td>54.641.030/0001-06</td>\n",
              "      <td>BOLSA MERCADORIAS FUTUROS BMF SA</td>\n",
              "    </tr>\n",
              "    <tr>\n",
              "      <th>9</th>\n",
              "      <td>DI1 X IGM</td>\n",
              "      <td>BRBMEFSDM008</td>\n",
              "      <td>SWAP - TAXA DI DE UM DIA VERSUS IGP-M SWAP - T...</td>\n",
              "      <td>54.641.030/0001-06</td>\n",
              "      <td>BOLSA MERCADORIAS FUTUROS BMF SA</td>\n",
              "    </tr>\n",
              "    <tr>\n",
              "      <th>10</th>\n",
              "      <td>DOL X SB1</td>\n",
              "      <td>BRBMEFSCB003</td>\n",
              "      <td>SWAP - DOLAR COMERCIAL VERSUS CARTEIRA DE ACOE...</td>\n",
              "      <td>54.641.030/0001-06</td>\n",
              "      <td>BOLSA MERCADORIAS FUTUROS BMF SA</td>\n",
              "    </tr>\n",
              "    <tr>\n",
              "      <th>11</th>\n",
              "      <td>DOL X REU</td>\n",
              "      <td>BRBMEFSCE007</td>\n",
              "      <td>SWAP - DOLAR COMERCIAL VERSUS EURO SWAP - DOLA...</td>\n",
              "      <td>54.641.030/0001-06</td>\n",
              "      <td>BOLSA MERCADORIAS FUTUROS BMF SA</td>\n",
              "    </tr>\n",
              "    <tr>\n",
              "      <th>12</th>\n",
              "      <td>IAP X PRE</td>\n",
              "      <td>BRBMEFSLP004</td>\n",
              "      <td>SWAP – IPCA/IBGE VERSUS TAXA PREFIXADA SWAP – ...</td>\n",
              "      <td>54.641.030/0001-06</td>\n",
              "      <td>BOLSA MERCADORIAS FUTUROS BMF SA</td>\n",
              "    </tr>\n",
              "    <tr>\n",
              "      <th>13</th>\n",
              "      <td>DI1 X IND</td>\n",
              "      <td>BRBMEFSDN006</td>\n",
              "      <td>SWAP - TAXA DI DE UM DIA VERSUS IBOVESPA SWAP ...</td>\n",
              "      <td>54.641.030/0001-06</td>\n",
              "      <td>BOLSA MERCADORIAS FUTUROS BMF SA</td>\n",
              "    </tr>\n",
              "    <tr>\n",
              "      <th>14</th>\n",
              "      <td>DOL X OZ1</td>\n",
              "      <td>BRBMEFSCO006</td>\n",
              "      <td>SWAP - DOLAR COMERCIAL VERSUS OURO SWAP - DOLA...</td>\n",
              "      <td>54.641.030/0001-06</td>\n",
              "      <td>BOLSA MERCADORIAS FUTUROS BMF SA</td>\n",
              "    </tr>\n",
              "  </tbody>\n",
              "</table>\n",
              "</div>"
            ],
            "text/plain": [
              "     CD_ATIVO  ...                           EMISSOR\n",
              "0   DI1 X IAP  ...  BOLSA MERCADORIAS FUTUROS BMF SA\n",
              "1   DI1 X PRE  ...  BOLSA MERCADORIAS FUTUROS BMF SA\n",
              "2   TBF X PRE  ...  BOLSA MERCADORIAS FUTUROS BMF SA\n",
              "3   DI1 X DOL  ...  BOLSA MERCADORIAS FUTUROS BMF SA\n",
              "4   SB1 X DI1  ...  BOLSA MERCADORIAS FUTUROS BMF SA\n",
              "5   DOL X PRE  ...  BOLSA MERCADORIAS FUTUROS BMF SA\n",
              "6   PRE X SB1  ...  BOLSA MERCADORIAS FUTUROS BMF SA\n",
              "7   DI1 X REU  ...  BOLSA MERCADORIAS FUTUROS BMF SA\n",
              "8   REU X PRE  ...  BOLSA MERCADORIAS FUTUROS BMF SA\n",
              "9   DI1 X IGM  ...  BOLSA MERCADORIAS FUTUROS BMF SA\n",
              "10  DOL X SB1  ...  BOLSA MERCADORIAS FUTUROS BMF SA\n",
              "11  DOL X REU  ...  BOLSA MERCADORIAS FUTUROS BMF SA\n",
              "12  IAP X PRE  ...  BOLSA MERCADORIAS FUTUROS BMF SA\n",
              "13  DI1 X IND  ...  BOLSA MERCADORIAS FUTUROS BMF SA\n",
              "14  DOL X OZ1  ...  BOLSA MERCADORIAS FUTUROS BMF SA\n",
              "\n",
              "[15 rows x 5 columns]"
            ]
          },
          "metadata": {
            "tags": []
          },
          "execution_count": 59
        }
      ]
    },
    {
      "cell_type": "markdown",
      "metadata": {
        "id": "F_lIKLZ_rehe"
      },
      "source": [
        "#### Ativos Codificados"
      ]
    },
    {
      "cell_type": "code",
      "metadata": {
        "colab": {
          "base_uri": "https://localhost:8080/",
          "height": 424
        },
        "id": "P9NEY4DotjQv",
        "outputId": "9cc8d50e-31bc-4531-aa7e-c716cecb540c"
      },
      "source": [
        "df1 = pd.merge(ativos_codificados.rename(columns={'DS_ATIVO': 'DS_ATIVO_1'}), ativos_isin.rename(columns={'DS_ATIVO': 'DS_ATIVO_2'}),\n",
        "                        how=\"left\", on=[\"CD_ISIN\"])\n",
        "\n",
        "df1 = df1.replace(np.nan, '', regex=True)\n",
        "\n",
        "df1['DS_ATIVO'] = df1.apply(lambda row: ds_ativo(row), axis=1)\n",
        "\n",
        "df1 = df1.drop(['COD_TIPO'], axis=1)\n",
        "df1 = df1.drop(['DS_ATIVO_1'], axis=1)\n",
        "df1 = df1.drop(['DS_ATIVO_2'], axis=1)\n",
        "\n",
        "df2 = pd.merge(df1, emissores_ativos_isin, \n",
        "               how = \"left\", on=[\"COD_EMISSOR\"])\n",
        "\n",
        "# A coluna CPF_CNPJ_EMISSOR do dataframe 'nomes_emissores' será utilizada na operação de merge; por isso, os valores NaN serão preenchidos com '0'\n",
        "ativos_codificados_emissor = pd.merge(df2.rename(columns={'EMISSOR': 'EMISSOR_1'}), nomes_emissores.rename(columns={'EMISSOR': 'EMISSOR_2'}).fillna({'CPF_CNPJ_EMISSOR': '0'}),\n",
        "                                    how=\"left\", on=[\"CPF_CNPJ_EMISSOR\"])\n",
        "\n",
        "ativos_codificados_emissor = ativos_codificados_emissor.drop_duplicates()\n",
        "ativos_codificados_emissor = ativos_codificados_emissor.replace(np.nan, '', regex=True)\n",
        "\n",
        "ativos_codificados_emissor['EMISSOR'] = ativos_codificados_emissor.apply(lambda row: emissor(row), axis=1)\n",
        "ativos_codificados_emissor = ativos_codificados_emissor.drop(['COD_EMISSOR'], axis=1)\n",
        "ativos_codificados_emissor = ativos_codificados_emissor.drop(['EMISSOR_1'], axis=1)\n",
        "ativos_codificados_emissor = ativos_codificados_emissor.drop(['EMISSOR_2'], axis=1)\n",
        "\n",
        "ativos_codificados_emissor"
      ],
      "execution_count": 60,
      "outputs": [
        {
          "output_type": "execute_result",
          "data": {
            "text/html": [
              "<div>\n",
              "<style scoped>\n",
              "    .dataframe tbody tr th:only-of-type {\n",
              "        vertical-align: middle;\n",
              "    }\n",
              "\n",
              "    .dataframe tbody tr th {\n",
              "        vertical-align: top;\n",
              "    }\n",
              "\n",
              "    .dataframe thead th {\n",
              "        text-align: right;\n",
              "    }\n",
              "</style>\n",
              "<table border=\"1\" class=\"dataframe\">\n",
              "  <thead>\n",
              "    <tr style=\"text-align: right;\">\n",
              "      <th></th>\n",
              "      <th>CD_ISIN</th>\n",
              "      <th>CD_ATIVO</th>\n",
              "      <th>DS_ATIVO</th>\n",
              "      <th>CPF_CNPJ_EMISSOR</th>\n",
              "      <th>EMISSOR</th>\n",
              "    </tr>\n",
              "  </thead>\n",
              "  <tbody>\n",
              "    <tr>\n",
              "      <th>0</th>\n",
              "      <td>BRUGPADBS067</td>\n",
              "      <td>UGPA16</td>\n",
              "      <td>DEBENTURES SIMPLES DEBENTURES SIMPLES SEXTA EM...</td>\n",
              "      <td>33.256.439/0001-39</td>\n",
              "      <td>ULTRAPAR PARTICIPACOES SA</td>\n",
              "    </tr>\n",
              "    <tr>\n",
              "      <th>1</th>\n",
              "      <td>BRVIVTDBS069</td>\n",
              "      <td>VIVT15</td>\n",
              "      <td>DEBENTURES SIMPLES DEBENTURES SIMPLES QUINTA E...</td>\n",
              "      <td>02.558.157/0001-62</td>\n",
              "      <td>TELEFONICA BRASIL SA</td>\n",
              "    </tr>\n",
              "    <tr>\n",
              "      <th>2</th>\n",
              "      <td>BRPCARDBS0B7</td>\n",
              "      <td>CBRDA5</td>\n",
              "      <td>Debênture simples</td>\n",
              "      <td></td>\n",
              "      <td></td>\n",
              "    </tr>\n",
              "    <tr>\n",
              "      <th>3</th>\n",
              "      <td>BRCMGDDBS033</td>\n",
              "      <td>CMDT23</td>\n",
              "      <td>Debênture simples</td>\n",
              "      <td></td>\n",
              "      <td></td>\n",
              "    </tr>\n",
              "    <tr>\n",
              "      <th>4</th>\n",
              "      <td>BRIGTADBS049</td>\n",
              "      <td>IGTA24</td>\n",
              "      <td>Debênture simples</td>\n",
              "      <td></td>\n",
              "      <td></td>\n",
              "    </tr>\n",
              "    <tr>\n",
              "      <th>...</th>\n",
              "      <td>...</td>\n",
              "      <td>...</td>\n",
              "      <td>...</td>\n",
              "      <td>...</td>\n",
              "      <td>...</td>\n",
              "    </tr>\n",
              "    <tr>\n",
              "      <th>4237</th>\n",
              "      <td>BRS1REBDR009</td>\n",
              "      <td>S1RE34</td>\n",
              "      <td>CERTIFICADO DE DEPOSITO DE VALORES MOBILIARIOS...</td>\n",
              "      <td></td>\n",
              "      <td>SEMPRA ENERGY</td>\n",
              "    </tr>\n",
              "    <tr>\n",
              "      <th>4238</th>\n",
              "      <td>BRS1YKBDR002</td>\n",
              "      <td>S1YK34</td>\n",
              "      <td>CERTIFICADO DE DEPOSITO DE VALORES MOBILIARIOS...</td>\n",
              "      <td></td>\n",
              "      <td>STRYKER CORP</td>\n",
              "    </tr>\n",
              "    <tr>\n",
              "      <th>4239</th>\n",
              "      <td>BRWATCBDR009</td>\n",
              "      <td>WATC34</td>\n",
              "      <td>CERTIFICADO DE DEPOSITO DE VALORES MOBILIARIOS...</td>\n",
              "      <td></td>\n",
              "      <td>WATERS CORP</td>\n",
              "    </tr>\n",
              "    <tr>\n",
              "      <th>4240</th>\n",
              "      <td>BRB1ILBDR002</td>\n",
              "      <td>B1IL34</td>\n",
              "      <td>CERTIFICADO DE DEPOSITO DE VALORES MOBILIARIOS...</td>\n",
              "      <td></td>\n",
              "      <td>BILIBILI INC</td>\n",
              "    </tr>\n",
              "    <tr>\n",
              "      <th>4241</th>\n",
              "      <td>BRJOPAACNPR2</td>\n",
              "      <td>JOPA4</td>\n",
              "      <td>ACOES NOMINATIVAS ACOES PREFERENCIAIS</td>\n",
              "      <td>87.456.562/0001-22</td>\n",
              "      <td>JOSAPAR JOAQUIM OLIVEIRA SA PARTICIPACOES</td>\n",
              "    </tr>\n",
              "  </tbody>\n",
              "</table>\n",
              "<p>4209 rows × 5 columns</p>\n",
              "</div>"
            ],
            "text/plain": [
              "           CD_ISIN  ...                                    EMISSOR\n",
              "0     BRUGPADBS067  ...                  ULTRAPAR PARTICIPACOES SA\n",
              "1     BRVIVTDBS069  ...                       TELEFONICA BRASIL SA\n",
              "2     BRPCARDBS0B7  ...                                           \n",
              "3     BRCMGDDBS033  ...                                           \n",
              "4     BRIGTADBS049  ...                                           \n",
              "...            ...  ...                                        ...\n",
              "4237  BRS1REBDR009  ...                              SEMPRA ENERGY\n",
              "4238  BRS1YKBDR002  ...                               STRYKER CORP\n",
              "4239  BRWATCBDR009  ...                                WATERS CORP\n",
              "4240  BRB1ILBDR002  ...                               BILIBILI INC\n",
              "4241  BRJOPAACNPR2  ...  JOSAPAR JOAQUIM OLIVEIRA SA PARTICIPACOES\n",
              "\n",
              "[4209 rows x 5 columns]"
            ]
          },
          "metadata": {
            "tags": []
          },
          "execution_count": 60
        }
      ]
    },
    {
      "cell_type": "markdown",
      "metadata": {
        "id": "iTa_XBy7rese"
      },
      "source": [
        "#### Depósitos a Prazo"
      ]
    },
    {
      "cell_type": "code",
      "metadata": {
        "colab": {
          "base_uri": "https://localhost:8080/"
        },
        "id": "p-RKcOZ7T9I0",
        "outputId": "98e35db0-6209-431f-f829-174c4cc50fca"
      },
      "source": [
        "# Verifica se não há valores ausentes em CPF_CNPJ_EMISSOR \n",
        "df = depositos_prazo[depositos_prazo['CPF_CNPJ_EMISSOR']=='']\n",
        "print(df.empty) "
      ],
      "execution_count": 61,
      "outputs": [
        {
          "output_type": "stream",
          "text": [
            "True\n"
          ],
          "name": "stdout"
        }
      ]
    },
    {
      "cell_type": "code",
      "metadata": {
        "colab": {
          "base_uri": "https://localhost:8080/",
          "height": 424
        },
        "id": "gLpWMKCjFVR-",
        "outputId": "b6f5e991-1d61-4086-d9ee-2349594807e4"
      },
      "source": [
        "# A coluna CPF_CNPJ_EMISSOR do dataframe 'nomes_emissores' será utilizada na operação de merge; por isso, os valores NaN serão preenchidos com '0'\n",
        "depositos_prazo_emissor = pd.merge(depositos_prazo, nomes_emissores.fillna({'CPF_CNPJ_EMISSOR': '0'}),\n",
        "                        how=\"left\", on=[\"CPF_CNPJ_EMISSOR\"])\n",
        "\n",
        "depositos_prazo_emissor = depositos_prazo_emissor.drop_duplicates()\n",
        "depositos_prazo_emissor = depositos_prazo_emissor.replace(np.nan, '', regex=True)\n",
        "\n",
        "depositos_prazo_emissor"
      ],
      "execution_count": 62,
      "outputs": [
        {
          "output_type": "execute_result",
          "data": {
            "text/html": [
              "<div>\n",
              "<style scoped>\n",
              "    .dataframe tbody tr th:only-of-type {\n",
              "        vertical-align: middle;\n",
              "    }\n",
              "\n",
              "    .dataframe tbody tr th {\n",
              "        vertical-align: top;\n",
              "    }\n",
              "\n",
              "    .dataframe thead th {\n",
              "        text-align: right;\n",
              "    }\n",
              "</style>\n",
              "<table border=\"1\" class=\"dataframe\">\n",
              "  <thead>\n",
              "    <tr style=\"text-align: right;\">\n",
              "      <th></th>\n",
              "      <th>DS_ATIVO</th>\n",
              "      <th>DT_VENC</th>\n",
              "      <th>CPF_CNPJ_EMISSOR</th>\n",
              "      <th>EMISSOR</th>\n",
              "    </tr>\n",
              "  </thead>\n",
              "  <tbody>\n",
              "    <tr>\n",
              "      <th>0</th>\n",
              "      <td>Depósitos a prazo e outros títulos de IF - Let...</td>\n",
              "      <td>2022-07-15</td>\n",
              "      <td>60.701.190/0001-04</td>\n",
              "      <td>BCO ITAU SA</td>\n",
              "    </tr>\n",
              "    <tr>\n",
              "      <th>1</th>\n",
              "      <td>Depósitos a prazo e outros títulos de IF - Let...</td>\n",
              "      <td>2022-09-15</td>\n",
              "      <td>60.746.948/0001-12</td>\n",
              "      <td>BCO BRADESCO SA</td>\n",
              "    </tr>\n",
              "    <tr>\n",
              "      <th>2</th>\n",
              "      <td>Depósitos a prazo e outros títulos de IF - Let...</td>\n",
              "      <td>2022-10-17</td>\n",
              "      <td>60.746.948/0001-12</td>\n",
              "      <td>BCO BRADESCO SA</td>\n",
              "    </tr>\n",
              "    <tr>\n",
              "      <th>3</th>\n",
              "      <td>Depósitos a prazo e outros títulos de IF - Let...</td>\n",
              "      <td>2022-11-16</td>\n",
              "      <td>60.701.190/0001-04</td>\n",
              "      <td>BCO ITAU SA</td>\n",
              "    </tr>\n",
              "    <tr>\n",
              "      <th>4</th>\n",
              "      <td>Depósitos a prazo e outros títulos de IF - Let...</td>\n",
              "      <td>2021-03-15</td>\n",
              "      <td>58.160.789/0001-28</td>\n",
              "      <td>BCO SAFRA SA</td>\n",
              "    </tr>\n",
              "    <tr>\n",
              "      <th>...</th>\n",
              "      <td>...</td>\n",
              "      <td>...</td>\n",
              "      <td>...</td>\n",
              "      <td>...</td>\n",
              "    </tr>\n",
              "    <tr>\n",
              "      <th>5121</th>\n",
              "      <td>Depósitos a prazo e outros títulos de IF - CDB...</td>\n",
              "      <td>2021-11-11</td>\n",
              "      <td>30.306.294/0001-45</td>\n",
              "      <td>BCO BTG PACTUAL SA</td>\n",
              "    </tr>\n",
              "    <tr>\n",
              "      <th>5122</th>\n",
              "      <td>Depósitos a prazo e outros títulos de IF - Let...</td>\n",
              "      <td>2022-10-17</td>\n",
              "      <td>90.400.888/0001-42</td>\n",
              "      <td>BCO SANTANDER (BRASIL) SA</td>\n",
              "    </tr>\n",
              "    <tr>\n",
              "      <th>5123</th>\n",
              "      <td>Depósitos a prazo e outros títulos de IF - CDB...</td>\n",
              "      <td>2021-10-29</td>\n",
              "      <td>30.306.294/0001-45</td>\n",
              "      <td>BCO BTG PACTUAL SA</td>\n",
              "    </tr>\n",
              "    <tr>\n",
              "      <th>5124</th>\n",
              "      <td>Depósitos a prazo e outros títulos de IF - CDB...</td>\n",
              "      <td>2021-11-18</td>\n",
              "      <td>30.306.294/0001-45</td>\n",
              "      <td>BCO BTG PACTUAL SA</td>\n",
              "    </tr>\n",
              "    <tr>\n",
              "      <th>5125</th>\n",
              "      <td>Depósitos a prazo e outros títulos de IF - DPGE</td>\n",
              "      <td>2022-07-02</td>\n",
              "      <td>61.186.680/0001-74</td>\n",
              "      <td>BCO BMG SA</td>\n",
              "    </tr>\n",
              "  </tbody>\n",
              "</table>\n",
              "<p>5126 rows × 4 columns</p>\n",
              "</div>"
            ],
            "text/plain": [
              "                                               DS_ATIVO  ...                    EMISSOR\n",
              "0     Depósitos a prazo e outros títulos de IF - Let...  ...                BCO ITAU SA\n",
              "1     Depósitos a prazo e outros títulos de IF - Let...  ...            BCO BRADESCO SA\n",
              "2     Depósitos a prazo e outros títulos de IF - Let...  ...            BCO BRADESCO SA\n",
              "3     Depósitos a prazo e outros títulos de IF - Let...  ...                BCO ITAU SA\n",
              "4     Depósitos a prazo e outros títulos de IF - Let...  ...               BCO SAFRA SA\n",
              "...                                                 ...  ...                        ...\n",
              "5121  Depósitos a prazo e outros títulos de IF - CDB...  ...         BCO BTG PACTUAL SA\n",
              "5122  Depósitos a prazo e outros títulos de IF - Let...  ...  BCO SANTANDER (BRASIL) SA\n",
              "5123  Depósitos a prazo e outros títulos de IF - CDB...  ...         BCO BTG PACTUAL SA\n",
              "5124  Depósitos a prazo e outros títulos de IF - CDB...  ...         BCO BTG PACTUAL SA\n",
              "5125    Depósitos a prazo e outros títulos de IF - DPGE  ...                 BCO BMG SA\n",
              "\n",
              "[5126 rows x 4 columns]"
            ]
          },
          "metadata": {
            "tags": []
          },
          "execution_count": 62
        }
      ]
    },
    {
      "cell_type": "markdown",
      "metadata": {
        "id": "4SUuZcrDre3-"
      },
      "source": [
        "#### Títulos do Agronegócio"
      ]
    },
    {
      "cell_type": "code",
      "metadata": {
        "colab": {
          "base_uri": "https://localhost:8080/"
        },
        "id": "Kibl63cEUVDZ",
        "outputId": "45a01411-b0a2-4d06-87c6-e22874cef8c6"
      },
      "source": [
        "# Verifica se não há valores ausentes em CPF_CNPJ_EMISSOR \n",
        "df = titulos_agronegocio[titulos_agronegocio['CPF_CNPJ_EMISSOR']=='']\n",
        "print(df.empty) "
      ],
      "execution_count": 63,
      "outputs": [
        {
          "output_type": "stream",
          "text": [
            "True\n"
          ],
          "name": "stdout"
        }
      ]
    },
    {
      "cell_type": "code",
      "metadata": {
        "colab": {
          "base_uri": "https://localhost:8080/",
          "height": 424
        },
        "id": "Z10blyIoPl0k",
        "outputId": "1d598f60-f232-4ea3-dec6-af1efd407016"
      },
      "source": [
        "# A coluna CPF_CNPJ_EMISSOR do dataframe 'nomes_emissores' será utilizada na operação de merge; por isso, os valores NaN serão preenchidos com '0'\n",
        "titulos_agronegocio_emissor = pd.merge(titulos_agronegocio, nomes_emissores.fillna({'CPF_CNPJ_EMISSOR': '0'}),\n",
        "                        how=\"left\", on=[\"CPF_CNPJ_EMISSOR\"])\n",
        "\n",
        "titulos_agronegocio_emissor = titulos_agronegocio_emissor.drop_duplicates()\n",
        "titulos_agronegocio_emissor = titulos_agronegocio_emissor.replace(np.nan, '', regex=True)\n",
        "\n",
        "titulos_agronegocio_emissor"
      ],
      "execution_count": 64,
      "outputs": [
        {
          "output_type": "execute_result",
          "data": {
            "text/html": [
              "<div>\n",
              "<style scoped>\n",
              "    .dataframe tbody tr th:only-of-type {\n",
              "        vertical-align: middle;\n",
              "    }\n",
              "\n",
              "    .dataframe tbody tr th {\n",
              "        vertical-align: top;\n",
              "    }\n",
              "\n",
              "    .dataframe thead th {\n",
              "        text-align: right;\n",
              "    }\n",
              "</style>\n",
              "<table border=\"1\" class=\"dataframe\">\n",
              "  <thead>\n",
              "    <tr style=\"text-align: right;\">\n",
              "      <th></th>\n",
              "      <th>DS_ATIVO</th>\n",
              "      <th>DT_VENC</th>\n",
              "      <th>CPF_CNPJ_EMISSOR</th>\n",
              "      <th>EMISSOR</th>\n",
              "    </tr>\n",
              "  </thead>\n",
              "  <tbody>\n",
              "    <tr>\n",
              "      <th>0</th>\n",
              "      <td>Debêntures - Debênture simples</td>\n",
              "      <td>2024-08-14</td>\n",
              "      <td>09.346.601/0001-25</td>\n",
              "      <td>B3 SA - BRASIL, BOLSA, BALCAO</td>\n",
              "    </tr>\n",
              "    <tr>\n",
              "      <th>1</th>\n",
              "      <td>Debêntures - Debênture simples</td>\n",
              "      <td>2025-09-15</td>\n",
              "      <td>02.919.555/0001-67</td>\n",
              "      <td>ARTERIS SA</td>\n",
              "    </tr>\n",
              "    <tr>\n",
              "      <th>2</th>\n",
              "      <td>Debêntures - Debênture simples</td>\n",
              "      <td>2022-08-15</td>\n",
              "      <td>33.000.167/0001-01</td>\n",
              "      <td>PETROLEO BRASILEIRO SA PETROBRAS</td>\n",
              "    </tr>\n",
              "    <tr>\n",
              "      <th>3</th>\n",
              "      <td>Debêntures - Debênture simples</td>\n",
              "      <td>2026-05-06</td>\n",
              "      <td>33.611.500/0001-19</td>\n",
              "      <td>GERDAU SA</td>\n",
              "    </tr>\n",
              "    <tr>\n",
              "      <th>4</th>\n",
              "      <td>Debêntures - Debênture simples</td>\n",
              "      <td>2025-11-04</td>\n",
              "      <td>19.276.528/0001-16</td>\n",
              "      <td>BCBF PARTICIPACOES S.A</td>\n",
              "    </tr>\n",
              "    <tr>\n",
              "      <th>...</th>\n",
              "      <td>...</td>\n",
              "      <td>...</td>\n",
              "      <td>...</td>\n",
              "      <td>...</td>\n",
              "    </tr>\n",
              "    <tr>\n",
              "      <th>1290</th>\n",
              "      <td>Títulos de Crédito Privado - CCB</td>\n",
              "      <td>2022-02-17</td>\n",
              "      <td>45.237.724/0001-91</td>\n",
              "      <td>J MOREIRA COMER</td>\n",
              "    </tr>\n",
              "    <tr>\n",
              "      <th>1291</th>\n",
              "      <td>Títulos de Crédito Privado - CCB</td>\n",
              "      <td>2022-12-01</td>\n",
              "      <td>09.584.001/0002-86</td>\n",
              "      <td>LUMINAE S.A.</td>\n",
              "    </tr>\n",
              "    <tr>\n",
              "      <th>1292</th>\n",
              "      <td>Debêntures - Debênture simples</td>\n",
              "      <td>2029-09-26</td>\n",
              "      <td>15.009.178/0001-70</td>\n",
              "      <td>USINAS ITAMARATI SA</td>\n",
              "    </tr>\n",
              "    <tr>\n",
              "      <th>1293</th>\n",
              "      <td>Debêntures - Debênture simples</td>\n",
              "      <td>2022-12-31</td>\n",
              "      <td>15.009.178/0001-70</td>\n",
              "      <td>USINAS ITAMARATI SA</td>\n",
              "    </tr>\n",
              "    <tr>\n",
              "      <th>1294</th>\n",
              "      <td>Debêntures - Debênture simples</td>\n",
              "      <td>2050-12-31</td>\n",
              "      <td>27.413.805/0001-13</td>\n",
              "      <td>FIRENZE S.A.</td>\n",
              "    </tr>\n",
              "  </tbody>\n",
              "</table>\n",
              "<p>1295 rows × 4 columns</p>\n",
              "</div>"
            ],
            "text/plain": [
              "                              DS_ATIVO  ...                           EMISSOR\n",
              "0       Debêntures - Debênture simples  ...     B3 SA - BRASIL, BOLSA, BALCAO\n",
              "1       Debêntures - Debênture simples  ...                        ARTERIS SA\n",
              "2       Debêntures - Debênture simples  ...  PETROLEO BRASILEIRO SA PETROBRAS\n",
              "3       Debêntures - Debênture simples  ...                         GERDAU SA\n",
              "4       Debêntures - Debênture simples  ...            BCBF PARTICIPACOES S.A\n",
              "...                                ...  ...                               ...\n",
              "1290  Títulos de Crédito Privado - CCB  ...                   J MOREIRA COMER\n",
              "1291  Títulos de Crédito Privado - CCB  ...                      LUMINAE S.A.\n",
              "1292    Debêntures - Debênture simples  ...               USINAS ITAMARATI SA\n",
              "1293    Debêntures - Debênture simples  ...               USINAS ITAMARATI SA\n",
              "1294    Debêntures - Debênture simples  ...                      FIRENZE S.A.\n",
              "\n",
              "[1295 rows x 4 columns]"
            ]
          },
          "metadata": {
            "tags": []
          },
          "execution_count": 64
        }
      ]
    },
    {
      "cell_type": "markdown",
      "metadata": {
        "id": "fiJ8LKj9rfLO"
      },
      "source": [
        "#### Investimento no Exterior"
      ]
    },
    {
      "cell_type": "code",
      "metadata": {
        "colab": {
          "base_uri": "https://localhost:8080/"
        },
        "id": "Qxq6aotkWBIo",
        "outputId": "ab555bda-10c0-47f6-ae35-447b19ac3c22"
      },
      "source": [
        "# Verifica se não há valores ausentes em EMISSOR (Nome do Emissor) \n",
        "df = investimento_exterior[investimento_exterior['EMISSOR']=='']\n",
        "print(df.empty) "
      ],
      "execution_count": 65,
      "outputs": [
        {
          "output_type": "stream",
          "text": [
            "False\n"
          ],
          "name": "stdout"
        }
      ]
    },
    {
      "cell_type": "code",
      "metadata": {
        "colab": {
          "base_uri": "https://localhost:8080/",
          "height": 424
        },
        "id": "Qw79JflJVqXW",
        "outputId": "e69021f5-1a2c-4a3b-f1e9-9186d7e8849e"
      },
      "source": [
        "investimento_exterior_emissor = investimento_exterior\n",
        "investimento_exterior_emissor"
      ],
      "execution_count": 66,
      "outputs": [
        {
          "output_type": "execute_result",
          "data": {
            "text/html": [
              "<div>\n",
              "<style scoped>\n",
              "    .dataframe tbody tr th:only-of-type {\n",
              "        vertical-align: middle;\n",
              "    }\n",
              "\n",
              "    .dataframe tbody tr th {\n",
              "        vertical-align: top;\n",
              "    }\n",
              "\n",
              "    .dataframe thead th {\n",
              "        text-align: right;\n",
              "    }\n",
              "</style>\n",
              "<table border=\"1\" class=\"dataframe\">\n",
              "  <thead>\n",
              "    <tr style=\"text-align: right;\">\n",
              "      <th></th>\n",
              "      <th>CD_ATIVO</th>\n",
              "      <th>BV_MERC</th>\n",
              "      <th>PAIS</th>\n",
              "      <th>DS_ATIVO</th>\n",
              "      <th>DT_VENC</th>\n",
              "      <th>EMISSOR</th>\n",
              "    </tr>\n",
              "  </thead>\n",
              "  <tbody>\n",
              "    <tr>\n",
              "      <th>0</th>\n",
              "      <td>OPPTEMP1</td>\n",
              "      <td>Outras bolsas ou mercados de balcão organizados</td>\n",
              "      <td>ESTADOS UNIDOS DA AMÉRICA</td>\n",
              "      <td>Investimento no Exterior - Outros</td>\n",
              "      <td></td>\n",
              "      <td>TEMPUS OPP 1 CLASS</td>\n",
              "    </tr>\n",
              "    <tr>\n",
              "      <th>1</th>\n",
              "      <td>BABA US</td>\n",
              "      <td>NYSE EURONEXT</td>\n",
              "      <td>ESTADOS UNIDOS DA AMÉRICA</td>\n",
              "      <td>Investimento no Exterior - Ação ordinária</td>\n",
              "      <td></td>\n",
              "      <td>ALIBABA GROUP HOLDING LTD</td>\n",
              "    </tr>\n",
              "    <tr>\n",
              "      <th>2</th>\n",
              "      <td>AMZN</td>\n",
              "      <td>NASDAQ STOCK MARKET</td>\n",
              "      <td>ESTADOS UNIDOS DA AMÉRICA</td>\n",
              "      <td>Investimento no Exterior - Ação ordinária</td>\n",
              "      <td></td>\n",
              "      <td>AMAZON.COM INC</td>\n",
              "    </tr>\n",
              "    <tr>\n",
              "      <th>3</th>\n",
              "      <td>JPMC</td>\n",
              "      <td>NYSE EURONEXT</td>\n",
              "      <td>ESTADOS UNIDOS DA AMÉRICA</td>\n",
              "      <td>Investimento no Exterior - Ação ordinária</td>\n",
              "      <td></td>\n",
              "      <td>JP MORGAN CHASE  CO.</td>\n",
              "    </tr>\n",
              "    <tr>\n",
              "      <th>4</th>\n",
              "      <td>EJ9011747</td>\n",
              "      <td>Outras bolsas ou mercados de balcão organizados</td>\n",
              "      <td>BRASIL</td>\n",
              "      <td>Investimento no Exterior - Título da Dívida Ex...</td>\n",
              "      <td>2025-01-07</td>\n",
              "      <td>GOVERNO BRASILEIRO</td>\n",
              "    </tr>\n",
              "    <tr>\n",
              "      <th>...</th>\n",
              "      <td>...</td>\n",
              "      <td>...</td>\n",
              "      <td>...</td>\n",
              "      <td>...</td>\n",
              "      <td>...</td>\n",
              "      <td>...</td>\n",
              "    </tr>\n",
              "    <tr>\n",
              "      <th>16404</th>\n",
              "      <td>5096580</td>\n",
              "      <td>Outras bolsas ou mercados de balcão organizados</td>\n",
              "      <td>ESTADOS UNIDOS DA AMÉRICA</td>\n",
              "      <td>Investimento no Exterior - Título da Dívida Ex...</td>\n",
              "      <td>2026-04-07</td>\n",
              "      <td>TESOURO NAC</td>\n",
              "    </tr>\n",
              "    <tr>\n",
              "      <th>16408</th>\n",
              "      <td>IBB US</td>\n",
              "      <td>NASDAQ STOCK MARKET</td>\n",
              "      <td>ESTADOS UNIDOS DA AMÉRICA</td>\n",
              "      <td>Investimento no Exterior - Depository Receipt ...</td>\n",
              "      <td></td>\n",
              "      <td>ISHARES NASDAQ BIOTECHNOLOGY</td>\n",
              "    </tr>\n",
              "    <tr>\n",
              "      <th>16409</th>\n",
              "      <td>IGV US</td>\n",
              "      <td>Outras bolsas ou mercados de balcão organizados</td>\n",
              "      <td>ESTADOS UNIDOS DA AMÉRICA</td>\n",
              "      <td>Investimento no Exterior - Depository Receipt ...</td>\n",
              "      <td></td>\n",
              "      <td>ISHARES NORTH AMERICAN TECH</td>\n",
              "    </tr>\n",
              "    <tr>\n",
              "      <th>16412</th>\n",
              "      <td>OKTA US</td>\n",
              "      <td>NASDAQ STOCK MARKET</td>\n",
              "      <td>ESTADOS UNIDOS DA AMÉRICA</td>\n",
              "      <td>Investimento no Exterior - Depository Receipt ...</td>\n",
              "      <td></td>\n",
              "      <td>OKTA INC</td>\n",
              "    </tr>\n",
              "    <tr>\n",
              "      <th>16418</th>\n",
              "      <td>JGP CL F</td>\n",
              "      <td>Outras bolsas ou mercados de balcão organizados</td>\n",
              "      <td>ESTADOS UNIDOS DA AMÉRICA</td>\n",
              "      <td>Investimento no Exterior - Outros</td>\n",
              "      <td></td>\n",
              "      <td>JGP OFFSHORE CLASS F</td>\n",
              "    </tr>\n",
              "  </tbody>\n",
              "</table>\n",
              "<p>7387 rows × 6 columns</p>\n",
              "</div>"
            ],
            "text/plain": [
              "        CD_ATIVO  ...                       EMISSOR\n",
              "0       OPPTEMP1  ...            TEMPUS OPP 1 CLASS\n",
              "1        BABA US  ...     ALIBABA GROUP HOLDING LTD\n",
              "2           AMZN  ...                AMAZON.COM INC\n",
              "3           JPMC  ...          JP MORGAN CHASE  CO.\n",
              "4      EJ9011747  ...            GOVERNO BRASILEIRO\n",
              "...          ...  ...                           ...\n",
              "16404    5096580  ...                   TESOURO NAC\n",
              "16408     IBB US  ...  ISHARES NASDAQ BIOTECHNOLOGY\n",
              "16409     IGV US  ...   ISHARES NORTH AMERICAN TECH\n",
              "16412    OKTA US  ...                      OKTA INC\n",
              "16418   JGP CL F  ...          JGP OFFSHORE CLASS F\n",
              "\n",
              "[7387 rows x 6 columns]"
            ]
          },
          "metadata": {
            "tags": []
          },
          "execution_count": 66
        }
      ]
    },
    {
      "cell_type": "markdown",
      "metadata": {
        "id": "whNiTCJlrot1"
      },
      "source": [
        "#### Ativos Não Codificados"
      ]
    },
    {
      "cell_type": "code",
      "metadata": {
        "colab": {
          "base_uri": "https://localhost:8080/"
        },
        "id": "QFejM0VdUbCX",
        "outputId": "91a94da3-631b-4fca-945d-bc0a93999d62"
      },
      "source": [
        "# Verifica se não há valores ausentes em CPF_CNPJ_EMISSOR \n",
        "df = ativos_nao_codificados[ativos_nao_codificados['CPF_CNPJ_EMISSOR']=='']\n",
        "print(df.empty)"
      ],
      "execution_count": 67,
      "outputs": [
        {
          "output_type": "stream",
          "text": [
            "False\n"
          ],
          "name": "stdout"
        }
      ]
    },
    {
      "cell_type": "code",
      "metadata": {
        "colab": {
          "base_uri": "https://localhost:8080/",
          "height": 424
        },
        "id": "19Qb40Bzijx5",
        "outputId": "dabbcdf8-980c-430b-df8b-9989205b3e2b"
      },
      "source": [
        "# A coluna CPF_CNPJ_EMISSOR do dataframe 'nomes_emissores' será utilizada na operação de merge; por isso, os valores NaN serão preenchidos com '0'\n",
        "ativos_nao_codificados_emissor = pd.merge(ativos_nao_codificados, nomes_emissores.fillna({'CPF_CNPJ_EMISSOR': '0'}),\n",
        "                        how=\"left\", on=[\"CPF_CNPJ_EMISSOR\"])\n",
        "\n",
        "ativos_nao_codificados_emissor = ativos_nao_codificados_emissor.drop_duplicates()\n",
        "ativos_nao_codificados_emissor = ativos_nao_codificados_emissor.replace(np.nan, '', regex=True)\n",
        "\n",
        "ativos_nao_codificados_emissor"
      ],
      "execution_count": 68,
      "outputs": [
        {
          "output_type": "execute_result",
          "data": {
            "text/html": [
              "<div>\n",
              "<style scoped>\n",
              "    .dataframe tbody tr th:only-of-type {\n",
              "        vertical-align: middle;\n",
              "    }\n",
              "\n",
              "    .dataframe tbody tr th {\n",
              "        vertical-align: top;\n",
              "    }\n",
              "\n",
              "    .dataframe thead th {\n",
              "        text-align: right;\n",
              "    }\n",
              "</style>\n",
              "<table border=\"1\" class=\"dataframe\">\n",
              "  <thead>\n",
              "    <tr style=\"text-align: right;\">\n",
              "      <th></th>\n",
              "      <th>DS_ATIVO</th>\n",
              "      <th>CPF_CNPJ_EMISSOR</th>\n",
              "      <th>EMISSOR</th>\n",
              "    </tr>\n",
              "  </thead>\n",
              "  <tbody>\n",
              "    <tr>\n",
              "      <th>0</th>\n",
              "      <td>Cotas de fundos de renda fixa - Cotas de fundo...</td>\n",
              "      <td></td>\n",
              "      <td></td>\n",
              "    </tr>\n",
              "    <tr>\n",
              "      <th>1</th>\n",
              "      <td>Disponibilidades - Outros - VALOR DAS DISPONIB...</td>\n",
              "      <td></td>\n",
              "      <td></td>\n",
              "    </tr>\n",
              "    <tr>\n",
              "      <th>2</th>\n",
              "      <td>Valores a pagar - Outros - VALOR A PAGAR</td>\n",
              "      <td></td>\n",
              "      <td></td>\n",
              "    </tr>\n",
              "    <tr>\n",
              "      <th>3</th>\n",
              "      <td>Disponibilidades - Outros - BANCO BRASIL CAIXA</td>\n",
              "      <td>00.000.000/0001-91</td>\n",
              "      <td>BCO BRASIL SA</td>\n",
              "    </tr>\n",
              "    <tr>\n",
              "      <th>4</th>\n",
              "      <td>Mercado Futuro - Posições compradas - Contrato...</td>\n",
              "      <td>54.641.030/0001-06</td>\n",
              "      <td>BOLSA MERCADORIAS FUTUROS BMF SA</td>\n",
              "    </tr>\n",
              "    <tr>\n",
              "      <th>...</th>\n",
              "      <td>...</td>\n",
              "      <td>...</td>\n",
              "      <td>...</td>\n",
              "    </tr>\n",
              "    <tr>\n",
              "      <th>49586</th>\n",
              "      <td>Valores a pagar - Outros - DAS AMORT</td>\n",
              "      <td>19.361.060/0001-68</td>\n",
              "      <td>FUNCINE FUNDO FINANC INDUSTRIA CINEMATOGRAFICA...</td>\n",
              "    </tr>\n",
              "    <tr>\n",
              "      <th>49587</th>\n",
              "      <td>Valores a pagar - Outros - ELA DISSE</td>\n",
              "      <td>19.361.060/0001-68</td>\n",
              "      <td>FUNCINE FUNDO FINANC INDUSTRIA CINEMATOGRAFICA...</td>\n",
              "    </tr>\n",
              "    <tr>\n",
              "      <th>49588</th>\n",
              "      <td>Valores a pagar - Outros - INVESTIMENTO FUNCINE</td>\n",
              "      <td></td>\n",
              "      <td></td>\n",
              "    </tr>\n",
              "    <tr>\n",
              "      <th>49589</th>\n",
              "      <td>Valores a pagar - Outros - POP</td>\n",
              "      <td>19.361.060/0001-68</td>\n",
              "      <td>FUNCINE FUNDO FINANC INDUSTRIA CINEMATOGRAFICA...</td>\n",
              "    </tr>\n",
              "    <tr>\n",
              "      <th>49590</th>\n",
              "      <td>Valores a pagar - Outros - TAXA GESTAO PROVISAO</td>\n",
              "      <td></td>\n",
              "      <td></td>\n",
              "    </tr>\n",
              "  </tbody>\n",
              "</table>\n",
              "<p>49591 rows × 3 columns</p>\n",
              "</div>"
            ],
            "text/plain": [
              "                                                DS_ATIVO  ...                                            EMISSOR\n",
              "0      Cotas de fundos de renda fixa - Cotas de fundo...  ...                                                   \n",
              "1      Disponibilidades - Outros - VALOR DAS DISPONIB...  ...                                                   \n",
              "2               Valores a pagar - Outros - VALOR A PAGAR  ...                                                   \n",
              "3         Disponibilidades - Outros - BANCO BRASIL CAIXA  ...                                      BCO BRASIL SA\n",
              "4      Mercado Futuro - Posições compradas - Contrato...  ...                   BOLSA MERCADORIAS FUTUROS BMF SA\n",
              "...                                                  ...  ...                                                ...\n",
              "49586               Valores a pagar - Outros - DAS AMORT  ...  FUNCINE FUNDO FINANC INDUSTRIA CINEMATOGRAFICA...\n",
              "49587               Valores a pagar - Outros - ELA DISSE  ...  FUNCINE FUNDO FINANC INDUSTRIA CINEMATOGRAFICA...\n",
              "49588    Valores a pagar - Outros - INVESTIMENTO FUNCINE  ...                                                   \n",
              "49589                     Valores a pagar - Outros - POP  ...  FUNCINE FUNDO FINANC INDUSTRIA CINEMATOGRAFICA...\n",
              "49590    Valores a pagar - Outros - TAXA GESTAO PROVISAO  ...                                                   \n",
              "\n",
              "[49591 rows x 3 columns]"
            ]
          },
          "metadata": {
            "tags": []
          },
          "execution_count": 68
        }
      ]
    },
    {
      "cell_type": "markdown",
      "metadata": {
        "id": "8FhWUN8w3oin"
      },
      "source": [
        "### Aplicações\n"
      ]
    },
    {
      "cell_type": "markdown",
      "metadata": {
        "id": "G6y_20OFh_xd"
      },
      "source": [
        "#### Títulos Públicos"
      ]
    },
    {
      "cell_type": "code",
      "metadata": {
        "colab": {
          "base_uri": "https://localhost:8080/",
          "height": 424
        },
        "id": "TG67J4FhiBQM",
        "outputId": "a130b6ae-4963-46dc-a49d-2b4355a8854b"
      },
      "source": [
        "aplic_cda1 = pd.merge(cda1, cda0,\n",
        "                        how=\"inner\", on=[\"CNPJ_FUNDO\"])\n",
        "\n",
        "aplic_cda1['PR_PATRIM_LIQ'] = aplic_cda1.apply(lambda row: pr_patrim_liq(row), axis=1)\n",
        "aplic_cda1 = aplic_cda1.drop(['TP_APLIC'], axis=1)\n",
        "\n",
        "aplic_cda1 = aplic_cda1.fillna('')\n",
        "aplic_cda1"
      ],
      "execution_count": 69,
      "outputs": [
        {
          "output_type": "execute_result",
          "data": {
            "text/html": [
              "<div>\n",
              "<style scoped>\n",
              "    .dataframe tbody tr th:only-of-type {\n",
              "        vertical-align: middle;\n",
              "    }\n",
              "\n",
              "    .dataframe tbody tr th {\n",
              "        vertical-align: top;\n",
              "    }\n",
              "\n",
              "    .dataframe thead th {\n",
              "        text-align: right;\n",
              "    }\n",
              "</style>\n",
              "<table border=\"1\" class=\"dataframe\">\n",
              "  <thead>\n",
              "    <tr style=\"text-align: right;\">\n",
              "      <th></th>\n",
              "      <th>CNPJ_FUNDO</th>\n",
              "      <th>VL_APLIC</th>\n",
              "      <th>CD_ISIN</th>\n",
              "      <th>DS_ATIVO</th>\n",
              "      <th>DT_VENC</th>\n",
              "      <th>VL_PATRIM_LIQ</th>\n",
              "      <th>PR_PATRIM_LIQ</th>\n",
              "    </tr>\n",
              "  </thead>\n",
              "  <tbody>\n",
              "    <tr>\n",
              "      <th>0</th>\n",
              "      <td>02.010.153/0001-45</td>\n",
              "      <td>856146.22</td>\n",
              "      <td>BRSTNCLF1R74</td>\n",
              "      <td>LETRAS FINANCEIRAS DO TESOURO</td>\n",
              "      <td>2022-09-01</td>\n",
              "      <td>17079539.69</td>\n",
              "      <td>5.013</td>\n",
              "    </tr>\n",
              "    <tr>\n",
              "      <th>1</th>\n",
              "      <td>02.010.153/0001-45</td>\n",
              "      <td>4355691.07</td>\n",
              "      <td>BRSTNCNTF1P8</td>\n",
              "      <td>NOTAS DO TESOURO NACIONAL - SERIE F</td>\n",
              "      <td>2027-01-01</td>\n",
              "      <td>17079539.69</td>\n",
              "      <td>25.502</td>\n",
              "    </tr>\n",
              "    <tr>\n",
              "      <th>2</th>\n",
              "      <td>02.010.153/0001-45</td>\n",
              "      <td>7055241.89</td>\n",
              "      <td>BRSTNCLTN7O0</td>\n",
              "      <td>LETRAS DO TESOURO NACIONAL</td>\n",
              "      <td>2022-07-01</td>\n",
              "      <td>17079539.69</td>\n",
              "      <td>41.308</td>\n",
              "    </tr>\n",
              "    <tr>\n",
              "      <th>3</th>\n",
              "      <td>02.010.153/0001-45</td>\n",
              "      <td>26512.28</td>\n",
              "      <td>BRSTNCNTB4O9</td>\n",
              "      <td>NOTAS DO TESOURO NACIONAL SERIE B</td>\n",
              "      <td>2023-05-15</td>\n",
              "      <td>17079539.69</td>\n",
              "      <td>0.155</td>\n",
              "    </tr>\n",
              "    <tr>\n",
              "      <th>4</th>\n",
              "      <td>02.010.153/0001-45</td>\n",
              "      <td>1265516.96</td>\n",
              "      <td>BRSTNCNTB096</td>\n",
              "      <td>NOTAS DO TESOURO NACIONAL SERIE B</td>\n",
              "      <td>2024-08-15</td>\n",
              "      <td>17079539.69</td>\n",
              "      <td>7.410</td>\n",
              "    </tr>\n",
              "    <tr>\n",
              "      <th>...</th>\n",
              "      <td>...</td>\n",
              "      <td>...</td>\n",
              "      <td>...</td>\n",
              "      <td>...</td>\n",
              "      <td>...</td>\n",
              "      <td>...</td>\n",
              "      <td>...</td>\n",
              "    </tr>\n",
              "    <tr>\n",
              "      <th>36121</th>\n",
              "      <td>04.573.850/0001-30</td>\n",
              "      <td>343578.84</td>\n",
              "      <td>BRSTNCLF1R58</td>\n",
              "      <td>LETRAS FINANCEIRAS DO TESOURO</td>\n",
              "      <td>2021-09-01</td>\n",
              "      <td>1531828.38</td>\n",
              "      <td>22.429</td>\n",
              "    </tr>\n",
              "    <tr>\n",
              "      <th>36122</th>\n",
              "      <td>04.602.186/0001-00</td>\n",
              "      <td>96631.38</td>\n",
              "      <td>BRSTNCLF1R58</td>\n",
              "      <td>LETRAS FINANCEIRAS DO TESOURO</td>\n",
              "      <td>2021-09-01</td>\n",
              "      <td>745123.56</td>\n",
              "      <td>12.969</td>\n",
              "    </tr>\n",
              "    <tr>\n",
              "      <th>36123</th>\n",
              "      <td>11.179.262/0001-81</td>\n",
              "      <td>375927.98</td>\n",
              "      <td>BRSTNCLF1R41</td>\n",
              "      <td>LETRAS FINANCEIRAS DO TESOURO</td>\n",
              "      <td>2021-03-01</td>\n",
              "      <td>1780896.83</td>\n",
              "      <td>21.109</td>\n",
              "    </tr>\n",
              "    <tr>\n",
              "      <th>36124</th>\n",
              "      <td>11.179.262/0001-81</td>\n",
              "      <td>798183.28</td>\n",
              "      <td>BRSTNCLF1RC4</td>\n",
              "      <td>LETRAS FINANCEIRAS DO TESOURO</td>\n",
              "      <td>2025-03-01</td>\n",
              "      <td>1780896.83</td>\n",
              "      <td>44.819</td>\n",
              "    </tr>\n",
              "    <tr>\n",
              "      <th>36125</th>\n",
              "      <td>11.179.262/0001-81</td>\n",
              "      <td>382614.41</td>\n",
              "      <td>BRSTNCLF1RD2</td>\n",
              "      <td>LETRAS FINANCEIRAS DO TESOURO</td>\n",
              "      <td>2025-09-01</td>\n",
              "      <td>1780896.83</td>\n",
              "      <td>21.484</td>\n",
              "    </tr>\n",
              "  </tbody>\n",
              "</table>\n",
              "<p>36126 rows × 7 columns</p>\n",
              "</div>"
            ],
            "text/plain": [
              "               CNPJ_FUNDO    VL_APLIC  ... VL_PATRIM_LIQ PR_PATRIM_LIQ\n",
              "0      02.010.153/0001-45   856146.22  ...   17079539.69         5.013\n",
              "1      02.010.153/0001-45  4355691.07  ...   17079539.69        25.502\n",
              "2      02.010.153/0001-45  7055241.89  ...   17079539.69        41.308\n",
              "3      02.010.153/0001-45    26512.28  ...   17079539.69         0.155\n",
              "4      02.010.153/0001-45  1265516.96  ...   17079539.69         7.410\n",
              "...                   ...         ...  ...           ...           ...\n",
              "36121  04.573.850/0001-30   343578.84  ...    1531828.38        22.429\n",
              "36122  04.602.186/0001-00    96631.38  ...     745123.56        12.969\n",
              "36123  11.179.262/0001-81   375927.98  ...    1780896.83        21.109\n",
              "36124  11.179.262/0001-81   798183.28  ...    1780896.83        44.819\n",
              "36125  11.179.262/0001-81   382614.41  ...    1780896.83        21.484\n",
              "\n",
              "[36126 rows x 7 columns]"
            ]
          },
          "metadata": {
            "tags": []
          },
          "execution_count": 69
        }
      ]
    },
    {
      "cell_type": "markdown",
      "metadata": {
        "id": "ZbxmWWmCORSe"
      },
      "source": [
        "#### Cotas de Fundos"
      ]
    },
    {
      "cell_type": "code",
      "metadata": {
        "colab": {
          "base_uri": "https://localhost:8080/",
          "height": 424
        },
        "id": "E0xOtki5Oc4O",
        "outputId": "5e7636b8-d944-445a-b212-07179a26f8df"
      },
      "source": [
        "aplic_cda2 = pd.merge(cda2, cda0,\n",
        "                        how=\"inner\", on=[\"CNPJ_FUNDO\"])\n",
        "\n",
        "aplic_cda2['PR_PATRIM_LIQ'] = aplic_cda2.apply(lambda row: pr_patrim_liq(row), axis=1)\n",
        "aplic_cda2 = aplic_cda2.drop(['TP_APLIC'], axis=1)\n",
        "\n",
        "aplic_cda2"
      ],
      "execution_count": 71,
      "outputs": [
        {
          "output_type": "execute_result",
          "data": {
            "text/html": [
              "<div>\n",
              "<style scoped>\n",
              "    .dataframe tbody tr th:only-of-type {\n",
              "        vertical-align: middle;\n",
              "    }\n",
              "\n",
              "    .dataframe tbody tr th {\n",
              "        vertical-align: top;\n",
              "    }\n",
              "\n",
              "    .dataframe thead th {\n",
              "        text-align: right;\n",
              "    }\n",
              "</style>\n",
              "<table border=\"1\" class=\"dataframe\">\n",
              "  <thead>\n",
              "    <tr style=\"text-align: right;\">\n",
              "      <th></th>\n",
              "      <th>CNPJ_FUNDO</th>\n",
              "      <th>VL_APLIC</th>\n",
              "      <th>CNPJ_FUNDO_COTA</th>\n",
              "      <th>VL_PATRIM_LIQ</th>\n",
              "      <th>PR_PATRIM_LIQ</th>\n",
              "    </tr>\n",
              "  </thead>\n",
              "  <tbody>\n",
              "    <tr>\n",
              "      <th>0</th>\n",
              "      <td>00.068.305/0001-35</td>\n",
              "      <td>46221487.84</td>\n",
              "      <td>08.046.417/0001-05</td>\n",
              "      <td>46185716.51</td>\n",
              "      <td>100.077</td>\n",
              "    </tr>\n",
              "    <tr>\n",
              "      <th>1</th>\n",
              "      <td>00.071.477/0001-68</td>\n",
              "      <td>33160782612.92</td>\n",
              "      <td>01.608.573/0001-65</td>\n",
              "      <td>33158268505.98</td>\n",
              "      <td>100.008</td>\n",
              "    </tr>\n",
              "    <tr>\n",
              "      <th>2</th>\n",
              "      <td>00.083.181/0001-67</td>\n",
              "      <td>147100863.98</td>\n",
              "      <td>01.235.622/0001-61</td>\n",
              "      <td>15519640726.95</td>\n",
              "      <td>0.948</td>\n",
              "    </tr>\n",
              "    <tr>\n",
              "      <th>3</th>\n",
              "      <td>00.083.181/0001-67</td>\n",
              "      <td>216970194.57</td>\n",
              "      <td>10.597.218/0001-29</td>\n",
              "      <td>15519640726.95</td>\n",
              "      <td>1.398</td>\n",
              "    </tr>\n",
              "    <tr>\n",
              "      <th>4</th>\n",
              "      <td>00.083.181/0001-67</td>\n",
              "      <td>1915404901.42</td>\n",
              "      <td>08.277.553/0001-06</td>\n",
              "      <td>15519640726.95</td>\n",
              "      <td>12.342</td>\n",
              "    </tr>\n",
              "    <tr>\n",
              "      <th>...</th>\n",
              "      <td>...</td>\n",
              "      <td>...</td>\n",
              "      <td>...</td>\n",
              "      <td>...</td>\n",
              "      <td>...</td>\n",
              "    </tr>\n",
              "    <tr>\n",
              "      <th>140422</th>\n",
              "      <td>35.812.806/0001-69</td>\n",
              "      <td>625672.97</td>\n",
              "      <td>32.625.186/0001-60</td>\n",
              "      <td>1746304.69</td>\n",
              "      <td>35.828</td>\n",
              "    </tr>\n",
              "    <tr>\n",
              "      <th>140423</th>\n",
              "      <td>35.812.806/0001-69</td>\n",
              "      <td>1095871.64</td>\n",
              "      <td>08.915.927/0001-63</td>\n",
              "      <td>1746304.69</td>\n",
              "      <td>62.754</td>\n",
              "    </tr>\n",
              "    <tr>\n",
              "      <th>140424</th>\n",
              "      <td>38.068.651/0001-96</td>\n",
              "      <td>10990110.21</td>\n",
              "      <td>09.577.447/0001-00</td>\n",
              "      <td>14989279.21</td>\n",
              "      <td>73.320</td>\n",
              "    </tr>\n",
              "    <tr>\n",
              "      <th>140425</th>\n",
              "      <td>04.604.594/0001-09</td>\n",
              "      <td>537758.38</td>\n",
              "      <td>00.840.011/0001-80</td>\n",
              "      <td>34512288.76</td>\n",
              "      <td>1.558</td>\n",
              "    </tr>\n",
              "    <tr>\n",
              "      <th>140426</th>\n",
              "      <td>11.179.262/0001-81</td>\n",
              "      <td>65048.86</td>\n",
              "      <td>26.740.437/0001-55</td>\n",
              "      <td>1780896.83</td>\n",
              "      <td>3.653</td>\n",
              "    </tr>\n",
              "  </tbody>\n",
              "</table>\n",
              "<p>140427 rows × 5 columns</p>\n",
              "</div>"
            ],
            "text/plain": [
              "                CNPJ_FUNDO        VL_APLIC  ...   VL_PATRIM_LIQ PR_PATRIM_LIQ\n",
              "0       00.068.305/0001-35     46221487.84  ...     46185716.51       100.077\n",
              "1       00.071.477/0001-68  33160782612.92  ...  33158268505.98       100.008\n",
              "2       00.083.181/0001-67    147100863.98  ...  15519640726.95         0.948\n",
              "3       00.083.181/0001-67    216970194.57  ...  15519640726.95         1.398\n",
              "4       00.083.181/0001-67   1915404901.42  ...  15519640726.95        12.342\n",
              "...                    ...             ...  ...             ...           ...\n",
              "140422  35.812.806/0001-69       625672.97  ...      1746304.69        35.828\n",
              "140423  35.812.806/0001-69      1095871.64  ...      1746304.69        62.754\n",
              "140424  38.068.651/0001-96     10990110.21  ...     14989279.21        73.320\n",
              "140425  04.604.594/0001-09       537758.38  ...     34512288.76         1.558\n",
              "140426  11.179.262/0001-81        65048.86  ...      1780896.83         3.653\n",
              "\n",
              "[140427 rows x 5 columns]"
            ]
          },
          "metadata": {
            "tags": []
          },
          "execution_count": 71
        }
      ]
    },
    {
      "cell_type": "code",
      "metadata": {
        "colab": {
          "base_uri": "https://localhost:8080/"
        },
        "id": "xIsz4hG1PDL1",
        "outputId": "4fff776d-bd4b-414b-ab6a-11ea37cad7bd"
      },
      "source": [
        "# Verificar se não há valores ausentes ('missing values') no dataset\n",
        "print(aplic_cda2.isnull().sum().sum()==0)"
      ],
      "execution_count": 72,
      "outputs": [
        {
          "output_type": "stream",
          "text": [
            "True\n"
          ],
          "name": "stdout"
        }
      ]
    },
    {
      "cell_type": "markdown",
      "metadata": {
        "id": "VA9g2CiN51wW"
      },
      "source": [
        "#### SWAP"
      ]
    },
    {
      "cell_type": "code",
      "metadata": {
        "colab": {
          "base_uri": "https://localhost:8080/",
          "height": 424
        },
        "id": "4kbUXu_P48Cm",
        "outputId": "dffb5876-d5c0-4c92-feea-cf7f4e3c3259"
      },
      "source": [
        "aplic_cda3 = pd.merge(cda3, cda0,\n",
        "                        how=\"inner\", on=[\"CNPJ_FUNDO\"])\n",
        "\n",
        "aplic_cda3['PR_PATRIM_LIQ'] = aplic_cda3.apply(lambda row: pr_patrim_liq(row), axis=1)\n",
        "aplic_cda3 = aplic_cda3.drop(['TP_APLIC'], axis=1)\n",
        "aplic_cda3 = aplic_cda3.drop(['CD_SWAP'], axis=1)\n",
        "\n",
        "aplic_cda3 = aplic_cda3.fillna('')\n",
        "aplic_cda3"
      ],
      "execution_count": 73,
      "outputs": [
        {
          "output_type": "execute_result",
          "data": {
            "text/html": [
              "<div>\n",
              "<style scoped>\n",
              "    .dataframe tbody tr th:only-of-type {\n",
              "        vertical-align: middle;\n",
              "    }\n",
              "\n",
              "    .dataframe tbody tr th {\n",
              "        vertical-align: top;\n",
              "    }\n",
              "\n",
              "    .dataframe thead th {\n",
              "        text-align: right;\n",
              "    }\n",
              "</style>\n",
              "<table border=\"1\" class=\"dataframe\">\n",
              "  <thead>\n",
              "    <tr style=\"text-align: right;\">\n",
              "      <th></th>\n",
              "      <th>CNPJ_FUNDO</th>\n",
              "      <th>VL_APLIC</th>\n",
              "      <th>CD_ATIVO</th>\n",
              "      <th>VL_PATRIM_LIQ</th>\n",
              "      <th>PR_PATRIM_LIQ</th>\n",
              "    </tr>\n",
              "  </thead>\n",
              "  <tbody>\n",
              "    <tr>\n",
              "      <th>0</th>\n",
              "      <td>01.622.154/0001-88</td>\n",
              "      <td>6828519.25</td>\n",
              "      <td>DI1 X IAP</td>\n",
              "      <td>580595719.75</td>\n",
              "      <td>-1.176</td>\n",
              "    </tr>\n",
              "    <tr>\n",
              "      <th>1</th>\n",
              "      <td>01.630.152/0001-30</td>\n",
              "      <td>894505.58</td>\n",
              "      <td>DI1 X IAP</td>\n",
              "      <td>443673958.28</td>\n",
              "      <td>-0.202</td>\n",
              "    </tr>\n",
              "    <tr>\n",
              "      <th>2</th>\n",
              "      <td>02.885.730/0001-42</td>\n",
              "      <td>1692176.12</td>\n",
              "      <td>DI1 X PRE</td>\n",
              "      <td>15070836923.81</td>\n",
              "      <td>-0.011</td>\n",
              "    </tr>\n",
              "    <tr>\n",
              "      <th>3</th>\n",
              "      <td>02.885.730/0001-42</td>\n",
              "      <td>26696957.76</td>\n",
              "      <td>DI1 X PRE</td>\n",
              "      <td>15070836923.81</td>\n",
              "      <td>0.177</td>\n",
              "    </tr>\n",
              "    <tr>\n",
              "      <th>4</th>\n",
              "      <td>03.191.766/0001-99</td>\n",
              "      <td>604648.44</td>\n",
              "      <td>DI1 X PRE</td>\n",
              "      <td>521985181.54</td>\n",
              "      <td>-0.116</td>\n",
              "    </tr>\n",
              "    <tr>\n",
              "      <th>...</th>\n",
              "      <td>...</td>\n",
              "      <td>...</td>\n",
              "      <td>...</td>\n",
              "      <td>...</td>\n",
              "      <td>...</td>\n",
              "    </tr>\n",
              "    <tr>\n",
              "      <th>135</th>\n",
              "      <td>71.586.432/0001-74</td>\n",
              "      <td>18201959.17</td>\n",
              "      <td>DI1 X IAP</td>\n",
              "      <td>1659805407.79</td>\n",
              "      <td>-1.097</td>\n",
              "    </tr>\n",
              "    <tr>\n",
              "      <th>136</th>\n",
              "      <td>71.586.432/0001-74</td>\n",
              "      <td>5020953.97</td>\n",
              "      <td>DI1 X IAP</td>\n",
              "      <td>1659805407.79</td>\n",
              "      <td>0.303</td>\n",
              "    </tr>\n",
              "    <tr>\n",
              "      <th>137</th>\n",
              "      <td>02.727.085/0001-30</td>\n",
              "      <td>0.00</td>\n",
              "      <td>DI1 X PRE</td>\n",
              "      <td>828814.34</td>\n",
              "      <td>0.000</td>\n",
              "    </tr>\n",
              "    <tr>\n",
              "      <th>138</th>\n",
              "      <td>03.919.474/0001-20</td>\n",
              "      <td>0.00</td>\n",
              "      <td>DI1 X PRE</td>\n",
              "      <td>2049454.34</td>\n",
              "      <td>0.000</td>\n",
              "    </tr>\n",
              "    <tr>\n",
              "      <th>139</th>\n",
              "      <td>04.894.428/0001-86</td>\n",
              "      <td>0.00</td>\n",
              "      <td>DI1 X PRE</td>\n",
              "      <td>5537430.69</td>\n",
              "      <td>0.000</td>\n",
              "    </tr>\n",
              "  </tbody>\n",
              "</table>\n",
              "<p>140 rows × 5 columns</p>\n",
              "</div>"
            ],
            "text/plain": [
              "             CNPJ_FUNDO     VL_APLIC   CD_ATIVO   VL_PATRIM_LIQ  PR_PATRIM_LIQ\n",
              "0    01.622.154/0001-88   6828519.25  DI1 X IAP    580595719.75         -1.176\n",
              "1    01.630.152/0001-30    894505.58  DI1 X IAP    443673958.28         -0.202\n",
              "2    02.885.730/0001-42   1692176.12  DI1 X PRE  15070836923.81         -0.011\n",
              "3    02.885.730/0001-42  26696957.76  DI1 X PRE  15070836923.81          0.177\n",
              "4    03.191.766/0001-99    604648.44  DI1 X PRE    521985181.54         -0.116\n",
              "..                  ...          ...        ...             ...            ...\n",
              "135  71.586.432/0001-74  18201959.17  DI1 X IAP   1659805407.79         -1.097\n",
              "136  71.586.432/0001-74   5020953.97  DI1 X IAP   1659805407.79          0.303\n",
              "137  02.727.085/0001-30         0.00  DI1 X PRE       828814.34          0.000\n",
              "138  03.919.474/0001-20         0.00  DI1 X PRE      2049454.34          0.000\n",
              "139  04.894.428/0001-86         0.00  DI1 X PRE      5537430.69          0.000\n",
              "\n",
              "[140 rows x 5 columns]"
            ]
          },
          "metadata": {
            "tags": []
          },
          "execution_count": 73
        }
      ]
    },
    {
      "cell_type": "markdown",
      "metadata": {
        "id": "lKSOVSgV5-D2"
      },
      "source": [
        "#### Ativos Codificados"
      ]
    },
    {
      "cell_type": "code",
      "metadata": {
        "colab": {
          "base_uri": "https://localhost:8080/",
          "height": 424
        },
        "id": "e3pvQ4Bm3l4n",
        "outputId": "fa745340-2477-482b-8d50-4fbbc7b60021"
      },
      "source": [
        "aplic_cda4 = pd.merge(cda4, cda0,\n",
        "                        how=\"inner\", on=[\"CNPJ_FUNDO\"])\n",
        "\n",
        "aplic_cda4['PR_PATRIM_LIQ'] = aplic_cda4.apply(lambda row: pr_patrim_liq(row), axis=1)\n",
        "aplic_cda4 = aplic_cda4.drop(['TP_APLIC'], axis=1)\n",
        "\n",
        "aplic_cda4 = aplic_cda4.fillna('')\n",
        "aplic_cda4"
      ],
      "execution_count": 74,
      "outputs": [
        {
          "output_type": "execute_result",
          "data": {
            "text/html": [
              "<div>\n",
              "<style scoped>\n",
              "    .dataframe tbody tr th:only-of-type {\n",
              "        vertical-align: middle;\n",
              "    }\n",
              "\n",
              "    .dataframe tbody tr th {\n",
              "        vertical-align: top;\n",
              "    }\n",
              "\n",
              "    .dataframe thead th {\n",
              "        text-align: right;\n",
              "    }\n",
              "</style>\n",
              "<table border=\"1\" class=\"dataframe\">\n",
              "  <thead>\n",
              "    <tr style=\"text-align: right;\">\n",
              "      <th></th>\n",
              "      <th>CNPJ_FUNDO</th>\n",
              "      <th>VL_APLIC</th>\n",
              "      <th>CD_ISIN</th>\n",
              "      <th>CD_ATIVO</th>\n",
              "      <th>DS_ATIVO</th>\n",
              "      <th>VL_PATRIM_LIQ</th>\n",
              "      <th>PR_PATRIM_LIQ</th>\n",
              "    </tr>\n",
              "  </thead>\n",
              "  <tbody>\n",
              "    <tr>\n",
              "      <th>0</th>\n",
              "      <td>02.010.153/0001-45</td>\n",
              "      <td>168985.61</td>\n",
              "      <td>BRUGPADBS067</td>\n",
              "      <td>UGPA16</td>\n",
              "      <td>Debênture simples</td>\n",
              "      <td>17079539.69</td>\n",
              "      <td>0.989</td>\n",
              "    </tr>\n",
              "    <tr>\n",
              "      <th>1</th>\n",
              "      <td>02.010.153/0001-45</td>\n",
              "      <td>601192.92</td>\n",
              "      <td>BRVIVTDBS069</td>\n",
              "      <td>VIVT15</td>\n",
              "      <td>Debênture simples</td>\n",
              "      <td>17079539.69</td>\n",
              "      <td>3.520</td>\n",
              "    </tr>\n",
              "    <tr>\n",
              "      <th>2</th>\n",
              "      <td>02.010.153/0001-45</td>\n",
              "      <td>175872.88</td>\n",
              "      <td>BRPCARDBS0B7</td>\n",
              "      <td>CBRDA5</td>\n",
              "      <td>Debênture simples</td>\n",
              "      <td>17079539.69</td>\n",
              "      <td>1.030</td>\n",
              "    </tr>\n",
              "    <tr>\n",
              "      <th>3</th>\n",
              "      <td>02.010.153/0001-45</td>\n",
              "      <td>53493.45</td>\n",
              "      <td>BRCMGDDBS033</td>\n",
              "      <td>CMDT23</td>\n",
              "      <td>Debênture simples</td>\n",
              "      <td>17079539.69</td>\n",
              "      <td>0.313</td>\n",
              "    </tr>\n",
              "    <tr>\n",
              "      <th>4</th>\n",
              "      <td>02.010.153/0001-45</td>\n",
              "      <td>314354.45</td>\n",
              "      <td>BRIGTADBS049</td>\n",
              "      <td>IGTA24</td>\n",
              "      <td>Debênture simples</td>\n",
              "      <td>17079539.69</td>\n",
              "      <td>1.841</td>\n",
              "    </tr>\n",
              "    <tr>\n",
              "      <th>...</th>\n",
              "      <td>...</td>\n",
              "      <td>...</td>\n",
              "      <td>...</td>\n",
              "      <td>...</td>\n",
              "      <td>...</td>\n",
              "      <td>...</td>\n",
              "      <td>...</td>\n",
              "    </tr>\n",
              "    <tr>\n",
              "      <th>89332</th>\n",
              "      <td>04.609.212/0001-21</td>\n",
              "      <td>12546.60</td>\n",
              "      <td>BRAZULACNPR4</td>\n",
              "      <td>AZUL4</td>\n",
              "      <td>Ação preferencial</td>\n",
              "      <td>1686446.84</td>\n",
              "      <td>0.744</td>\n",
              "    </tr>\n",
              "    <tr>\n",
              "      <th>89333</th>\n",
              "      <td>04.609.212/0001-21</td>\n",
              "      <td>6224.68</td>\n",
              "      <td>BRTAEECDAM10</td>\n",
              "      <td>TAEE11</td>\n",
              "      <td>Certificado de depósito de ações</td>\n",
              "      <td>1686446.84</td>\n",
              "      <td>0.369</td>\n",
              "    </tr>\n",
              "    <tr>\n",
              "      <th>89334</th>\n",
              "      <td>04.609.212/0001-21</td>\n",
              "      <td>16090.65</td>\n",
              "      <td>BRSANBCDAM13</td>\n",
              "      <td>SANB11</td>\n",
              "      <td>Certificado de depósito de ações</td>\n",
              "      <td>1686446.84</td>\n",
              "      <td>0.954</td>\n",
              "    </tr>\n",
              "    <tr>\n",
              "      <th>89335</th>\n",
              "      <td>04.609.212/0001-21</td>\n",
              "      <td>13618.44</td>\n",
              "      <td>BRKLBNCDAM18</td>\n",
              "      <td>KLBN11</td>\n",
              "      <td>Certificado de depósito de ações</td>\n",
              "      <td>1686446.84</td>\n",
              "      <td>0.808</td>\n",
              "    </tr>\n",
              "    <tr>\n",
              "      <th>89336</th>\n",
              "      <td>04.609.212/0001-21</td>\n",
              "      <td>177.50</td>\n",
              "      <td>BRCVCBN01OR5</td>\n",
              "      <td>CVCB11</td>\n",
              "      <td>Bônus de subscrição</td>\n",
              "      <td>1686446.84</td>\n",
              "      <td>0.011</td>\n",
              "    </tr>\n",
              "  </tbody>\n",
              "</table>\n",
              "<p>89337 rows × 7 columns</p>\n",
              "</div>"
            ],
            "text/plain": [
              "               CNPJ_FUNDO   VL_APLIC  ... VL_PATRIM_LIQ PR_PATRIM_LIQ\n",
              "0      02.010.153/0001-45  168985.61  ...   17079539.69         0.989\n",
              "1      02.010.153/0001-45  601192.92  ...   17079539.69         3.520\n",
              "2      02.010.153/0001-45  175872.88  ...   17079539.69         1.030\n",
              "3      02.010.153/0001-45   53493.45  ...   17079539.69         0.313\n",
              "4      02.010.153/0001-45  314354.45  ...   17079539.69         1.841\n",
              "...                   ...        ...  ...           ...           ...\n",
              "89332  04.609.212/0001-21   12546.60  ...    1686446.84         0.744\n",
              "89333  04.609.212/0001-21    6224.68  ...    1686446.84         0.369\n",
              "89334  04.609.212/0001-21   16090.65  ...    1686446.84         0.954\n",
              "89335  04.609.212/0001-21   13618.44  ...    1686446.84         0.808\n",
              "89336  04.609.212/0001-21     177.50  ...    1686446.84         0.011\n",
              "\n",
              "[89337 rows x 7 columns]"
            ]
          },
          "metadata": {
            "tags": []
          },
          "execution_count": 74
        }
      ]
    },
    {
      "cell_type": "markdown",
      "metadata": {
        "id": "vKEfztL16Dje"
      },
      "source": [
        "#### Depósitos a Prazo"
      ]
    },
    {
      "cell_type": "code",
      "metadata": {
        "colab": {
          "base_uri": "https://localhost:8080/",
          "height": 424
        },
        "id": "cKT-udxL6e8-",
        "outputId": "c5e63036-19b5-44e3-b55b-890aae57f2a4"
      },
      "source": [
        "aplic_cda5 = pd.merge(cda5, cda0,\n",
        "                        how=\"inner\", on=[\"CNPJ_FUNDO\"])\n",
        "\n",
        "aplic_cda5['PR_PATRIM_LIQ'] = aplic_cda5.apply(lambda row: pr_patrim_liq(row), axis=1)\n",
        "aplic_cda5 = aplic_cda5.drop(['TP_APLIC'], axis=1)\n",
        "aplic_cda5 = aplic_cda5.drop(['EMISSOR'], axis=1)\n",
        "\n",
        "aplic_cda5 = aplic_cda5.fillna('')\n",
        "aplic_cda5"
      ],
      "execution_count": 75,
      "outputs": [
        {
          "output_type": "execute_result",
          "data": {
            "text/html": [
              "<div>\n",
              "<style scoped>\n",
              "    .dataframe tbody tr th:only-of-type {\n",
              "        vertical-align: middle;\n",
              "    }\n",
              "\n",
              "    .dataframe tbody tr th {\n",
              "        vertical-align: top;\n",
              "    }\n",
              "\n",
              "    .dataframe thead th {\n",
              "        text-align: right;\n",
              "    }\n",
              "</style>\n",
              "<table border=\"1\" class=\"dataframe\">\n",
              "  <thead>\n",
              "    <tr style=\"text-align: right;\">\n",
              "      <th></th>\n",
              "      <th>CNPJ_FUNDO</th>\n",
              "      <th>VL_APLIC</th>\n",
              "      <th>DT_VENC</th>\n",
              "      <th>CPF_CNPJ_EMISSOR</th>\n",
              "      <th>DS_ATIVO</th>\n",
              "      <th>VL_PATRIM_LIQ</th>\n",
              "      <th>PR_PATRIM_LIQ</th>\n",
              "    </tr>\n",
              "  </thead>\n",
              "  <tbody>\n",
              "    <tr>\n",
              "      <th>0</th>\n",
              "      <td>03.564.825/0001-27</td>\n",
              "      <td>2702144.40</td>\n",
              "      <td>2022-07-15</td>\n",
              "      <td>60.701.190/0001-04</td>\n",
              "      <td>Depósitos a prazo e outros títulos de IF - Let...</td>\n",
              "      <td>91049383.74</td>\n",
              "      <td>2.968</td>\n",
              "    </tr>\n",
              "    <tr>\n",
              "      <th>1</th>\n",
              "      <td>03.564.825/0001-27</td>\n",
              "      <td>2556455.90</td>\n",
              "      <td>2022-09-15</td>\n",
              "      <td>60.746.948/0001-12</td>\n",
              "      <td>Depósitos a prazo e outros títulos de IF - Let...</td>\n",
              "      <td>91049383.74</td>\n",
              "      <td>2.808</td>\n",
              "    </tr>\n",
              "    <tr>\n",
              "      <th>2</th>\n",
              "      <td>03.564.825/0001-27</td>\n",
              "      <td>1058263.51</td>\n",
              "      <td>2022-10-17</td>\n",
              "      <td>60.746.948/0001-12</td>\n",
              "      <td>Depósitos a prazo e outros títulos de IF - Let...</td>\n",
              "      <td>91049383.74</td>\n",
              "      <td>1.162</td>\n",
              "    </tr>\n",
              "    <tr>\n",
              "      <th>3</th>\n",
              "      <td>03.564.825/0001-27</td>\n",
              "      <td>1058263.51</td>\n",
              "      <td>2022-10-17</td>\n",
              "      <td>60.746.948/0001-12</td>\n",
              "      <td>Depósitos a prazo e outros títulos de IF - Let...</td>\n",
              "      <td>91049383.74</td>\n",
              "      <td>1.162</td>\n",
              "    </tr>\n",
              "    <tr>\n",
              "      <th>4</th>\n",
              "      <td>03.564.825/0001-27</td>\n",
              "      <td>10353809.66</td>\n",
              "      <td>2022-11-16</td>\n",
              "      <td>60.701.190/0001-04</td>\n",
              "      <td>Depósitos a prazo e outros títulos de IF - Let...</td>\n",
              "      <td>91049383.74</td>\n",
              "      <td>11.372</td>\n",
              "    </tr>\n",
              "    <tr>\n",
              "      <th>...</th>\n",
              "      <td>...</td>\n",
              "      <td>...</td>\n",
              "      <td>...</td>\n",
              "      <td>...</td>\n",
              "      <td>...</td>\n",
              "      <td>...</td>\n",
              "      <td>...</td>\n",
              "    </tr>\n",
              "    <tr>\n",
              "      <th>26234</th>\n",
              "      <td>97.543.626/0001-86</td>\n",
              "      <td>1661910.14</td>\n",
              "      <td>2025-12-15</td>\n",
              "      <td>10.753.164/0001-43</td>\n",
              "      <td>Depósitos a prazo e outros títulos de IF - CDB...</td>\n",
              "      <td>223204836.49</td>\n",
              "      <td>0.745</td>\n",
              "    </tr>\n",
              "    <tr>\n",
              "      <th>26235</th>\n",
              "      <td>97.543.626/0001-86</td>\n",
              "      <td>2008271.57</td>\n",
              "      <td>2022-09-20</td>\n",
              "      <td>58.616.418/0001-08</td>\n",
              "      <td>Depósitos a prazo e outros títulos de IF - DPGE</td>\n",
              "      <td>223204836.49</td>\n",
              "      <td>0.900</td>\n",
              "    </tr>\n",
              "    <tr>\n",
              "      <th>26236</th>\n",
              "      <td>97.543.626/0001-86</td>\n",
              "      <td>1006306.14</td>\n",
              "      <td>2022-07-02</td>\n",
              "      <td>61.186.680/0001-74</td>\n",
              "      <td>Depósitos a prazo e outros títulos de IF - DPGE</td>\n",
              "      <td>223204836.49</td>\n",
              "      <td>0.451</td>\n",
              "    </tr>\n",
              "    <tr>\n",
              "      <th>26237</th>\n",
              "      <td>97.543.626/0001-86</td>\n",
              "      <td>1547712.97</td>\n",
              "      <td>2026-06-11</td>\n",
              "      <td>58.160.789/0001-28</td>\n",
              "      <td>Depósitos a prazo e outros títulos de IF - Let...</td>\n",
              "      <td>223204836.49</td>\n",
              "      <td>0.693</td>\n",
              "    </tr>\n",
              "    <tr>\n",
              "      <th>26238</th>\n",
              "      <td>97.543.626/0001-86</td>\n",
              "      <td>3036717.74</td>\n",
              "      <td>2025-10-02</td>\n",
              "      <td>60.889.128/0001-80</td>\n",
              "      <td>Depósitos a prazo e outros títulos de IF - Let...</td>\n",
              "      <td>223204836.49</td>\n",
              "      <td>1.361</td>\n",
              "    </tr>\n",
              "  </tbody>\n",
              "</table>\n",
              "<p>26239 rows × 7 columns</p>\n",
              "</div>"
            ],
            "text/plain": [
              "               CNPJ_FUNDO     VL_APLIC  ... VL_PATRIM_LIQ PR_PATRIM_LIQ\n",
              "0      03.564.825/0001-27   2702144.40  ...   91049383.74         2.968\n",
              "1      03.564.825/0001-27   2556455.90  ...   91049383.74         2.808\n",
              "2      03.564.825/0001-27   1058263.51  ...   91049383.74         1.162\n",
              "3      03.564.825/0001-27   1058263.51  ...   91049383.74         1.162\n",
              "4      03.564.825/0001-27  10353809.66  ...   91049383.74        11.372\n",
              "...                   ...          ...  ...           ...           ...\n",
              "26234  97.543.626/0001-86   1661910.14  ...  223204836.49         0.745\n",
              "26235  97.543.626/0001-86   2008271.57  ...  223204836.49         0.900\n",
              "26236  97.543.626/0001-86   1006306.14  ...  223204836.49         0.451\n",
              "26237  97.543.626/0001-86   1547712.97  ...  223204836.49         0.693\n",
              "26238  97.543.626/0001-86   3036717.74  ...  223204836.49         1.361\n",
              "\n",
              "[26239 rows x 7 columns]"
            ]
          },
          "metadata": {
            "tags": []
          },
          "execution_count": 75
        }
      ]
    },
    {
      "cell_type": "code",
      "metadata": {
        "colab": {
          "base_uri": "https://localhost:8080/"
        },
        "id": "GPsSr9Pi9e-u",
        "outputId": "2713fbe3-fca7-42aa-9f04-7b118310865b"
      },
      "source": [
        "# Verifica se não há valores ausentes ('missing values') em CPF_CNPJ_EMISSOR \n",
        "df = aplic_cda5[aplic_cda5['CPF_CNPJ_EMISSOR']=='']\n",
        "print(df.empty) "
      ],
      "execution_count": 76,
      "outputs": [
        {
          "output_type": "stream",
          "text": [
            "True\n"
          ],
          "name": "stdout"
        }
      ]
    },
    {
      "cell_type": "markdown",
      "metadata": {
        "id": "NMCg7A1f6Hu9"
      },
      "source": [
        "#### Títulos do Agronegócio"
      ]
    },
    {
      "cell_type": "code",
      "metadata": {
        "colab": {
          "base_uri": "https://localhost:8080/",
          "height": 424
        },
        "id": "sEY7GfCs6ykW",
        "outputId": "54566345-2e0c-4d74-8149-f7eaddc068ed"
      },
      "source": [
        "aplic_cda6 = pd.merge(cda6, cda0,\n",
        "                        how=\"inner\", on=[\"CNPJ_FUNDO\"])\n",
        "\n",
        "aplic_cda6['PR_PATRIM_LIQ'] = aplic_cda6.apply(lambda row: pr_patrim_liq(row), axis=1)\n",
        "aplic_cda6 = aplic_cda6.drop(['TP_APLIC'], axis=1)\n",
        "aplic_cda6 = aplic_cda6.drop(['EMISSOR'], axis=1)\n",
        "\n",
        "aplic_cda6 = aplic_cda6.fillna('')\n",
        "aplic_cda6"
      ],
      "execution_count": 77,
      "outputs": [
        {
          "output_type": "execute_result",
          "data": {
            "text/html": [
              "<div>\n",
              "<style scoped>\n",
              "    .dataframe tbody tr th:only-of-type {\n",
              "        vertical-align: middle;\n",
              "    }\n",
              "\n",
              "    .dataframe tbody tr th {\n",
              "        vertical-align: top;\n",
              "    }\n",
              "\n",
              "    .dataframe thead th {\n",
              "        text-align: right;\n",
              "    }\n",
              "</style>\n",
              "<table border=\"1\" class=\"dataframe\">\n",
              "  <thead>\n",
              "    <tr style=\"text-align: right;\">\n",
              "      <th></th>\n",
              "      <th>CNPJ_FUNDO</th>\n",
              "      <th>VL_APLIC</th>\n",
              "      <th>DT_VENC</th>\n",
              "      <th>CPF_CNPJ_EMISSOR</th>\n",
              "      <th>DS_ATIVO</th>\n",
              "      <th>VL_PATRIM_LIQ</th>\n",
              "      <th>PR_PATRIM_LIQ</th>\n",
              "    </tr>\n",
              "  </thead>\n",
              "  <tbody>\n",
              "    <tr>\n",
              "      <th>0</th>\n",
              "      <td>02.010.153/0001-45</td>\n",
              "      <td>20310.05</td>\n",
              "      <td>2024-08-14</td>\n",
              "      <td>09.346.601/0001-25</td>\n",
              "      <td>Debêntures - Debênture simples</td>\n",
              "      <td>17079539.69</td>\n",
              "      <td>0.119</td>\n",
              "    </tr>\n",
              "    <tr>\n",
              "      <th>1</th>\n",
              "      <td>02.010.153/0001-45</td>\n",
              "      <td>158363.74</td>\n",
              "      <td>2025-09-15</td>\n",
              "      <td>02.919.555/0001-67</td>\n",
              "      <td>Debêntures - Debênture simples</td>\n",
              "      <td>17079539.69</td>\n",
              "      <td>0.927</td>\n",
              "    </tr>\n",
              "    <tr>\n",
              "      <th>2</th>\n",
              "      <td>03.564.825/0001-27</td>\n",
              "      <td>2034161.22</td>\n",
              "      <td>2022-08-15</td>\n",
              "      <td>33.000.167/0001-01</td>\n",
              "      <td>Debêntures - Debênture simples</td>\n",
              "      <td>91049383.74</td>\n",
              "      <td>2.234</td>\n",
              "    </tr>\n",
              "    <tr>\n",
              "      <th>3</th>\n",
              "      <td>03.564.825/0001-27</td>\n",
              "      <td>2791206.93</td>\n",
              "      <td>2026-05-06</td>\n",
              "      <td>33.611.500/0001-19</td>\n",
              "      <td>Debêntures - Debênture simples</td>\n",
              "      <td>91049383.74</td>\n",
              "      <td>3.066</td>\n",
              "    </tr>\n",
              "    <tr>\n",
              "      <th>4</th>\n",
              "      <td>10.546.592/0001-03</td>\n",
              "      <td>2326005.77</td>\n",
              "      <td>2026-05-06</td>\n",
              "      <td>33.611.500/0001-19</td>\n",
              "      <td>Debêntures - Debênture simples</td>\n",
              "      <td>73596008.13</td>\n",
              "      <td>3.161</td>\n",
              "    </tr>\n",
              "    <tr>\n",
              "      <th>...</th>\n",
              "      <td>...</td>\n",
              "      <td>...</td>\n",
              "      <td>...</td>\n",
              "      <td>...</td>\n",
              "      <td>...</td>\n",
              "      <td>...</td>\n",
              "      <td>...</td>\n",
              "    </tr>\n",
              "    <tr>\n",
              "      <th>14377</th>\n",
              "      <td>97.548.167/0001-23</td>\n",
              "      <td>9718000.83</td>\n",
              "      <td>2022-10-15</td>\n",
              "      <td>60.444.437/0001-46</td>\n",
              "      <td>Debêntures - Debênture simples</td>\n",
              "      <td>13041906526.46</td>\n",
              "      <td>0.075</td>\n",
              "    </tr>\n",
              "    <tr>\n",
              "      <th>14378</th>\n",
              "      <td>97.548.167/0001-23</td>\n",
              "      <td>9668253.90</td>\n",
              "      <td>2022-06-28</td>\n",
              "      <td>33.014.556/0001-96</td>\n",
              "      <td>Títulos de Crédito Privado - Nota Promissória/...</td>\n",
              "      <td>13041906526.46</td>\n",
              "      <td>0.074</td>\n",
              "    </tr>\n",
              "    <tr>\n",
              "      <th>14379</th>\n",
              "      <td>32.313.932/0001-80</td>\n",
              "      <td>11842659.06</td>\n",
              "      <td>2029-09-26</td>\n",
              "      <td>15.009.178/0001-70</td>\n",
              "      <td>Debêntures - Debênture simples</td>\n",
              "      <td>51412412.93</td>\n",
              "      <td>23.035</td>\n",
              "    </tr>\n",
              "    <tr>\n",
              "      <th>14380</th>\n",
              "      <td>32.313.932/0001-80</td>\n",
              "      <td>14545081.95</td>\n",
              "      <td>2022-12-31</td>\n",
              "      <td>15.009.178/0001-70</td>\n",
              "      <td>Debêntures - Debênture simples</td>\n",
              "      <td>51412412.93</td>\n",
              "      <td>28.291</td>\n",
              "    </tr>\n",
              "    <tr>\n",
              "      <th>14381</th>\n",
              "      <td>34.525.200/0001-80</td>\n",
              "      <td>11682190.61</td>\n",
              "      <td>2050-12-31</td>\n",
              "      <td>27.413.805/0001-13</td>\n",
              "      <td>Debêntures - Debênture simples</td>\n",
              "      <td>22081953.36</td>\n",
              "      <td>52.904</td>\n",
              "    </tr>\n",
              "  </tbody>\n",
              "</table>\n",
              "<p>14382 rows × 7 columns</p>\n",
              "</div>"
            ],
            "text/plain": [
              "               CNPJ_FUNDO     VL_APLIC  ...   VL_PATRIM_LIQ PR_PATRIM_LIQ\n",
              "0      02.010.153/0001-45     20310.05  ...     17079539.69         0.119\n",
              "1      02.010.153/0001-45    158363.74  ...     17079539.69         0.927\n",
              "2      03.564.825/0001-27   2034161.22  ...     91049383.74         2.234\n",
              "3      03.564.825/0001-27   2791206.93  ...     91049383.74         3.066\n",
              "4      10.546.592/0001-03   2326005.77  ...     73596008.13         3.161\n",
              "...                   ...          ...  ...             ...           ...\n",
              "14377  97.548.167/0001-23   9718000.83  ...  13041906526.46         0.075\n",
              "14378  97.548.167/0001-23   9668253.90  ...  13041906526.46         0.074\n",
              "14379  32.313.932/0001-80  11842659.06  ...     51412412.93        23.035\n",
              "14380  32.313.932/0001-80  14545081.95  ...     51412412.93        28.291\n",
              "14381  34.525.200/0001-80  11682190.61  ...     22081953.36        52.904\n",
              "\n",
              "[14382 rows x 7 columns]"
            ]
          },
          "metadata": {
            "tags": []
          },
          "execution_count": 77
        }
      ]
    },
    {
      "cell_type": "code",
      "metadata": {
        "colab": {
          "base_uri": "https://localhost:8080/"
        },
        "id": "_gEZhlVS9wLa",
        "outputId": "ada49aa3-20e3-4f79-84d0-5d9a2fd02327"
      },
      "source": [
        "# Verifica se não há valores ausentes em CPF_CNPJ_EMISSOR \n",
        "df = aplic_cda6[aplic_cda6['CPF_CNPJ_EMISSOR']=='']\n",
        "print(df.empty) "
      ],
      "execution_count": 78,
      "outputs": [
        {
          "output_type": "stream",
          "text": [
            "True\n"
          ],
          "name": "stdout"
        }
      ]
    },
    {
      "cell_type": "markdown",
      "metadata": {
        "id": "BhDQYHjq6Kc3"
      },
      "source": [
        "#### Investimento no Exterior"
      ]
    },
    {
      "cell_type": "code",
      "metadata": {
        "colab": {
          "base_uri": "https://localhost:8080/",
          "height": 597
        },
        "id": "efuHGl239BMx",
        "outputId": "27cb1f4b-243c-49bb-c532-fadb9653271a"
      },
      "source": [
        "aplic_cda7 = pd.merge(cda7, cda0,\n",
        "                        how=\"inner\", on=[\"CNPJ_FUNDO\"])\n",
        "\n",
        "aplic_cda7['PR_PATRIM_LIQ'] = aplic_cda7.apply(lambda row: pr_patrim_liq(row), axis=1)\n",
        "aplic_cda7 = aplic_cda7.drop(['TP_APLIC'], axis=1)\n",
        "\n",
        "aplic_cda7 = aplic_cda7.fillna('')\n",
        "aplic_cda7"
      ],
      "execution_count": 79,
      "outputs": [
        {
          "output_type": "execute_result",
          "data": {
            "text/html": [
              "<div>\n",
              "<style scoped>\n",
              "    .dataframe tbody tr th:only-of-type {\n",
              "        vertical-align: middle;\n",
              "    }\n",
              "\n",
              "    .dataframe tbody tr th {\n",
              "        vertical-align: top;\n",
              "    }\n",
              "\n",
              "    .dataframe thead th {\n",
              "        text-align: right;\n",
              "    }\n",
              "</style>\n",
              "<table border=\"1\" class=\"dataframe\">\n",
              "  <thead>\n",
              "    <tr style=\"text-align: right;\">\n",
              "      <th></th>\n",
              "      <th>CNPJ_FUNDO</th>\n",
              "      <th>VL_APLIC</th>\n",
              "      <th>CD_ATIVO</th>\n",
              "      <th>BV_MERC</th>\n",
              "      <th>PAIS</th>\n",
              "      <th>DT_VENC</th>\n",
              "      <th>EMISSOR</th>\n",
              "      <th>DS_ATIVO</th>\n",
              "      <th>VL_PATRIM_LIQ</th>\n",
              "      <th>PR_PATRIM_LIQ</th>\n",
              "    </tr>\n",
              "  </thead>\n",
              "  <tbody>\n",
              "    <tr>\n",
              "      <th>0</th>\n",
              "      <td>00.083.181/0001-67</td>\n",
              "      <td>39697260.92</td>\n",
              "      <td>OPPTEMP1</td>\n",
              "      <td>Outras bolsas ou mercados de balcão organizados</td>\n",
              "      <td>ESTADOS UNIDOS DA AMÉRICA</td>\n",
              "      <td></td>\n",
              "      <td>TEMPUS OPP 1 CLASS</td>\n",
              "      <td>Investimento no Exterior - Outros</td>\n",
              "      <td>15519640726.95</td>\n",
              "      <td>0.256</td>\n",
              "    </tr>\n",
              "    <tr>\n",
              "      <th>1</th>\n",
              "      <td>00.102.322/0001-41</td>\n",
              "      <td>8196096.35</td>\n",
              "      <td>BABA US</td>\n",
              "      <td>NYSE EURONEXT</td>\n",
              "      <td>ESTADOS UNIDOS DA AMÉRICA</td>\n",
              "      <td></td>\n",
              "      <td>ALIBABA GROUP HOLDING LTD</td>\n",
              "      <td>Investimento no Exterior - Ação ordinária</td>\n",
              "      <td>71548033.21</td>\n",
              "      <td>11.455</td>\n",
              "    </tr>\n",
              "    <tr>\n",
              "      <th>2</th>\n",
              "      <td>00.102.322/0001-41</td>\n",
              "      <td>5854514.16</td>\n",
              "      <td>AMZN</td>\n",
              "      <td>NASDAQ STOCK MARKET</td>\n",
              "      <td>ESTADOS UNIDOS DA AMÉRICA</td>\n",
              "      <td></td>\n",
              "      <td>AMAZON.COM INC</td>\n",
              "      <td>Investimento no Exterior - Ação ordinária</td>\n",
              "      <td>71548033.21</td>\n",
              "      <td>8.183</td>\n",
              "    </tr>\n",
              "    <tr>\n",
              "      <th>3</th>\n",
              "      <td>00.102.322/0001-41</td>\n",
              "      <td>11049923.85</td>\n",
              "      <td>JPMC</td>\n",
              "      <td>NYSE EURONEXT</td>\n",
              "      <td>ESTADOS UNIDOS DA AMÉRICA</td>\n",
              "      <td></td>\n",
              "      <td>JP MORGAN CHASE  CO.</td>\n",
              "      <td>Investimento no Exterior - Ação ordinária</td>\n",
              "      <td>71548033.21</td>\n",
              "      <td>15.444</td>\n",
              "    </tr>\n",
              "    <tr>\n",
              "      <th>4</th>\n",
              "      <td>00.360.293/0001-18</td>\n",
              "      <td>205976213.92</td>\n",
              "      <td>EJ9011747</td>\n",
              "      <td>Outras bolsas ou mercados de balcão organizados</td>\n",
              "      <td>BRASIL</td>\n",
              "      <td>2025-01-07</td>\n",
              "      <td>GOVERNO BRASILEIRO</td>\n",
              "      <td>Investimento no Exterior - Título da Dívida Ex...</td>\n",
              "      <td>285328701.61</td>\n",
              "      <td>72.189</td>\n",
              "    </tr>\n",
              "    <tr>\n",
              "      <th>...</th>\n",
              "      <td>...</td>\n",
              "      <td>...</td>\n",
              "      <td>...</td>\n",
              "      <td>...</td>\n",
              "      <td>...</td>\n",
              "      <td>...</td>\n",
              "      <td>...</td>\n",
              "      <td>...</td>\n",
              "      <td>...</td>\n",
              "      <td>...</td>\n",
              "    </tr>\n",
              "    <tr>\n",
              "      <th>16414</th>\n",
              "      <td>97.525.430/0001-69</td>\n",
              "      <td>99290.55</td>\n",
              "      <td>SHOP US</td>\n",
              "      <td>NYSE EURONEXT</td>\n",
              "      <td>ESTADOS UNIDOS DA AMÉRICA</td>\n",
              "      <td></td>\n",
              "      <td>SHOPIFY INC</td>\n",
              "      <td>Investimento no Exterior - Depository Receipt ...</td>\n",
              "      <td>21398864.37</td>\n",
              "      <td>0.464</td>\n",
              "    </tr>\n",
              "    <tr>\n",
              "      <th>16415</th>\n",
              "      <td>97.525.430/0001-69</td>\n",
              "      <td>128820.83</td>\n",
              "      <td>SQ US</td>\n",
              "      <td>NYSE EURONEXT</td>\n",
              "      <td>ESTADOS UNIDOS DA AMÉRICA</td>\n",
              "      <td></td>\n",
              "      <td>SQUARE INC</td>\n",
              "      <td>Investimento no Exterior - Depository Receipt ...</td>\n",
              "      <td>21398864.37</td>\n",
              "      <td>0.602</td>\n",
              "    </tr>\n",
              "    <tr>\n",
              "      <th>16416</th>\n",
              "      <td>97.525.430/0001-69</td>\n",
              "      <td>78788.65</td>\n",
              "      <td>TDOC US</td>\n",
              "      <td>NYSE EURONEXT</td>\n",
              "      <td>ESTADOS UNIDOS DA AMÉRICA</td>\n",
              "      <td></td>\n",
              "      <td>TELADOC HEALTH INC</td>\n",
              "      <td>Investimento no Exterior - Depository Receipt ...</td>\n",
              "      <td>21398864.37</td>\n",
              "      <td>0.368</td>\n",
              "    </tr>\n",
              "    <tr>\n",
              "      <th>16417</th>\n",
              "      <td>97.525.430/0001-69</td>\n",
              "      <td>103488.24</td>\n",
              "      <td>700 HK</td>\n",
              "      <td>HONG KONG EXCHANGES AND CLEARING</td>\n",
              "      <td>ESTADOS UNIDOS DA AMÉRICA</td>\n",
              "      <td></td>\n",
              "      <td>TENCENT HOLDINGS LTD</td>\n",
              "      <td>Investimento no Exterior - Depository Receipt ...</td>\n",
              "      <td>21398864.37</td>\n",
              "      <td>0.484</td>\n",
              "    </tr>\n",
              "    <tr>\n",
              "      <th>16418</th>\n",
              "      <td>97.548.167/0001-23</td>\n",
              "      <td>331232316.17</td>\n",
              "      <td>JGP CL F</td>\n",
              "      <td>Outras bolsas ou mercados de balcão organizados</td>\n",
              "      <td>ESTADOS UNIDOS DA AMÉRICA</td>\n",
              "      <td></td>\n",
              "      <td>JGP OFFSHORE CLASS F</td>\n",
              "      <td>Investimento no Exterior - Outros</td>\n",
              "      <td>13041906526.46</td>\n",
              "      <td>2.540</td>\n",
              "    </tr>\n",
              "  </tbody>\n",
              "</table>\n",
              "<p>16419 rows × 10 columns</p>\n",
              "</div>"
            ],
            "text/plain": [
              "               CNPJ_FUNDO      VL_APLIC  ...   VL_PATRIM_LIQ PR_PATRIM_LIQ\n",
              "0      00.083.181/0001-67   39697260.92  ...  15519640726.95         0.256\n",
              "1      00.102.322/0001-41    8196096.35  ...     71548033.21        11.455\n",
              "2      00.102.322/0001-41    5854514.16  ...     71548033.21         8.183\n",
              "3      00.102.322/0001-41   11049923.85  ...     71548033.21        15.444\n",
              "4      00.360.293/0001-18  205976213.92  ...    285328701.61        72.189\n",
              "...                   ...           ...  ...             ...           ...\n",
              "16414  97.525.430/0001-69      99290.55  ...     21398864.37         0.464\n",
              "16415  97.525.430/0001-69     128820.83  ...     21398864.37         0.602\n",
              "16416  97.525.430/0001-69      78788.65  ...     21398864.37         0.368\n",
              "16417  97.525.430/0001-69     103488.24  ...     21398864.37         0.484\n",
              "16418  97.548.167/0001-23  331232316.17  ...  13041906526.46         2.540\n",
              "\n",
              "[16419 rows x 10 columns]"
            ]
          },
          "metadata": {
            "tags": []
          },
          "execution_count": 79
        }
      ]
    },
    {
      "cell_type": "code",
      "metadata": {
        "colab": {
          "base_uri": "https://localhost:8080/"
        },
        "id": "8Nc2gGxv916I",
        "outputId": "982b3bc0-c8d3-4b50-c1f2-82ec2dca19f5"
      },
      "source": [
        "# Verifica se não há valores ausentes em EMISSOR (Nome do Emissor) \n",
        "df = aplic_cda7[aplic_cda7['EMISSOR']=='']\n",
        "print(df.empty) "
      ],
      "execution_count": 80,
      "outputs": [
        {
          "output_type": "stream",
          "text": [
            "False\n"
          ],
          "name": "stdout"
        }
      ]
    },
    {
      "cell_type": "markdown",
      "metadata": {
        "id": "dqvgO17s6QAf"
      },
      "source": [
        "#### Atos Não Codificados"
      ]
    },
    {
      "cell_type": "code",
      "metadata": {
        "colab": {
          "base_uri": "https://localhost:8080/",
          "height": 424
        },
        "id": "lkCFDSPX71l7",
        "outputId": "c477080b-549f-4418-c8ba-733edf8be12c"
      },
      "source": [
        "aplic_cda8 = pd.merge(cda8, cda0,\n",
        "                        how=\"inner\", on=[\"CNPJ_FUNDO\"])\n",
        "\n",
        "aplic_cda8['PR_PATRIM_LIQ'] = aplic_cda8.apply(lambda row: pr_patrim_liq(row), axis=1)\n",
        "aplic_cda8 = aplic_cda8.drop(['TP_APLIC'], axis=1)\n",
        "\n",
        "aplic_cda8 = aplic_cda8.fillna('')\n",
        "aplic_cda8"
      ],
      "execution_count": 81,
      "outputs": [
        {
          "output_type": "execute_result",
          "data": {
            "text/html": [
              "<div>\n",
              "<style scoped>\n",
              "    .dataframe tbody tr th:only-of-type {\n",
              "        vertical-align: middle;\n",
              "    }\n",
              "\n",
              "    .dataframe tbody tr th {\n",
              "        vertical-align: top;\n",
              "    }\n",
              "\n",
              "    .dataframe thead th {\n",
              "        text-align: right;\n",
              "    }\n",
              "</style>\n",
              "<table border=\"1\" class=\"dataframe\">\n",
              "  <thead>\n",
              "    <tr style=\"text-align: right;\">\n",
              "      <th></th>\n",
              "      <th>CNPJ_FUNDO</th>\n",
              "      <th>VL_APLIC</th>\n",
              "      <th>DS_ATIVO</th>\n",
              "      <th>CPF_CNPJ_EMISSOR</th>\n",
              "      <th>EMISSOR</th>\n",
              "      <th>VL_PATRIM_LIQ</th>\n",
              "      <th>PR_PATRIM_LIQ</th>\n",
              "    </tr>\n",
              "  </thead>\n",
              "  <tbody>\n",
              "    <tr>\n",
              "      <th>0</th>\n",
              "      <td>06.537.068/0001-90</td>\n",
              "      <td>0.00</td>\n",
              "      <td>Cotas de fundos de renda fixa - Cotas de fundo...</td>\n",
              "      <td></td>\n",
              "      <td></td>\n",
              "      <td>1325.12</td>\n",
              "      <td>0.000</td>\n",
              "    </tr>\n",
              "    <tr>\n",
              "      <th>1</th>\n",
              "      <td>06.537.068/0001-90</td>\n",
              "      <td>1323.62</td>\n",
              "      <td>Disponibilidades - Outros - VALOR DAS DISPONIB...</td>\n",
              "      <td></td>\n",
              "      <td></td>\n",
              "      <td>1325.12</td>\n",
              "      <td>99.887</td>\n",
              "    </tr>\n",
              "    <tr>\n",
              "      <th>2</th>\n",
              "      <td>06.537.068/0001-90</td>\n",
              "      <td>0.00</td>\n",
              "      <td>Valores a pagar - Outros - VALOR A PAGAR</td>\n",
              "      <td></td>\n",
              "      <td></td>\n",
              "      <td>1325.12</td>\n",
              "      <td>0.000</td>\n",
              "    </tr>\n",
              "    <tr>\n",
              "      <th>3</th>\n",
              "      <td>07.408.147/0001-64</td>\n",
              "      <td>0.00</td>\n",
              "      <td>Cotas de fundos de renda fixa - Cotas de fundo...</td>\n",
              "      <td></td>\n",
              "      <td></td>\n",
              "      <td>28308.60</td>\n",
              "      <td>0.000</td>\n",
              "    </tr>\n",
              "    <tr>\n",
              "      <th>4</th>\n",
              "      <td>07.408.147/0001-64</td>\n",
              "      <td>28293.61</td>\n",
              "      <td>Disponibilidades - Outros - VALOR DAS DISPONIB...</td>\n",
              "      <td></td>\n",
              "      <td></td>\n",
              "      <td>28308.60</td>\n",
              "      <td>99.947</td>\n",
              "    </tr>\n",
              "    <tr>\n",
              "      <th>...</th>\n",
              "      <td>...</td>\n",
              "      <td>...</td>\n",
              "      <td>...</td>\n",
              "      <td>...</td>\n",
              "      <td>...</td>\n",
              "      <td>...</td>\n",
              "      <td>...</td>\n",
              "    </tr>\n",
              "    <tr>\n",
              "      <th>161099</th>\n",
              "      <td>11.179.262/0001-81</td>\n",
              "      <td>4.75</td>\n",
              "      <td>Valores a pagar - Outros - SELIC A PAGAR</td>\n",
              "      <td></td>\n",
              "      <td></td>\n",
              "      <td>1780896.83</td>\n",
              "      <td>-0.000</td>\n",
              "    </tr>\n",
              "    <tr>\n",
              "      <th>161100</th>\n",
              "      <td>11.179.262/0001-81</td>\n",
              "      <td>424.66</td>\n",
              "      <td>Valores a pagar - Outros - TAXA ADMIN PROVISAO</td>\n",
              "      <td></td>\n",
              "      <td></td>\n",
              "      <td>1780896.83</td>\n",
              "      <td>-0.024</td>\n",
              "    </tr>\n",
              "    <tr>\n",
              "      <th>161101</th>\n",
              "      <td>11.179.262/0001-81</td>\n",
              "      <td>113.25</td>\n",
              "      <td>Valores a pagar - Outros - TAXA CUSTOD PROVISAO</td>\n",
              "      <td></td>\n",
              "      <td></td>\n",
              "      <td>1780896.83</td>\n",
              "      <td>-0.006</td>\n",
              "    </tr>\n",
              "    <tr>\n",
              "      <th>161102</th>\n",
              "      <td>11.179.262/0001-81</td>\n",
              "      <td>3822.03</td>\n",
              "      <td>Valores a pagar - Outros - TAXA GESTAO PROVISAO</td>\n",
              "      <td></td>\n",
              "      <td></td>\n",
              "      <td>1780896.83</td>\n",
              "      <td>-0.215</td>\n",
              "    </tr>\n",
              "    <tr>\n",
              "      <th>161103</th>\n",
              "      <td>11.179.262/0001-81</td>\n",
              "      <td>358.79</td>\n",
              "      <td>Valores a receber - Outros - FISC CVM 30122020</td>\n",
              "      <td></td>\n",
              "      <td></td>\n",
              "      <td>1780896.83</td>\n",
              "      <td>0.020</td>\n",
              "    </tr>\n",
              "  </tbody>\n",
              "</table>\n",
              "<p>161104 rows × 7 columns</p>\n",
              "</div>"
            ],
            "text/plain": [
              "                CNPJ_FUNDO  VL_APLIC  ... VL_PATRIM_LIQ PR_PATRIM_LIQ\n",
              "0       06.537.068/0001-90      0.00  ...       1325.12         0.000\n",
              "1       06.537.068/0001-90   1323.62  ...       1325.12        99.887\n",
              "2       06.537.068/0001-90      0.00  ...       1325.12         0.000\n",
              "3       07.408.147/0001-64      0.00  ...      28308.60         0.000\n",
              "4       07.408.147/0001-64  28293.61  ...      28308.60        99.947\n",
              "...                    ...       ...  ...           ...           ...\n",
              "161099  11.179.262/0001-81      4.75  ...    1780896.83        -0.000\n",
              "161100  11.179.262/0001-81    424.66  ...    1780896.83        -0.024\n",
              "161101  11.179.262/0001-81    113.25  ...    1780896.83        -0.006\n",
              "161102  11.179.262/0001-81   3822.03  ...    1780896.83        -0.215\n",
              "161103  11.179.262/0001-81    358.79  ...    1780896.83         0.020\n",
              "\n",
              "[161104 rows x 7 columns]"
            ]
          },
          "metadata": {
            "tags": []
          },
          "execution_count": 81
        }
      ]
    },
    {
      "cell_type": "code",
      "metadata": {
        "colab": {
          "base_uri": "https://localhost:8080/"
        },
        "id": "YGGke7aqBACf",
        "outputId": "45f1ac66-7ff3-4192-df10-2ea62d90fc32"
      },
      "source": [
        "# Verifica se não há valores ausentes em CPF_CNPJ_EMISSOR \n",
        "df = aplic_cda8[aplic_cda8['CPF_CNPJ_EMISSOR']=='']\n",
        "print(df.empty) "
      ],
      "execution_count": 82,
      "outputs": [
        {
          "output_type": "stream",
          "text": [
            "False\n"
          ],
          "name": "stdout"
        }
      ]
    },
    {
      "cell_type": "code",
      "metadata": {
        "colab": {
          "base_uri": "https://localhost:8080/"
        },
        "id": "ECr6YJsX2gMZ",
        "outputId": "9adccfea-55c3-40c7-9b9c-99650ace1b97"
      },
      "source": [
        "# Verifica se não há valores ausentes em EMISSOR (Nome do Emissor) \n",
        "df = aplic_cda8[aplic_cda8['EMISSOR']=='']\n",
        "print(df.empty) "
      ],
      "execution_count": 83,
      "outputs": [
        {
          "output_type": "stream",
          "text": [
            "False\n"
          ],
          "name": "stdout"
        }
      ]
    },
    {
      "cell_type": "code",
      "metadata": {
        "colab": {
          "base_uri": "https://localhost:8080/",
          "height": 424
        },
        "id": "ExjHOJDoBFY5",
        "outputId": "b2c8c0e5-dd8f-48f6-d0b1-f4c726e28479"
      },
      "source": [
        "aplic_cda8[aplic_cda8['CPF_CNPJ_EMISSOR']!='']"
      ],
      "execution_count": 84,
      "outputs": [
        {
          "output_type": "execute_result",
          "data": {
            "text/html": [
              "<div>\n",
              "<style scoped>\n",
              "    .dataframe tbody tr th:only-of-type {\n",
              "        vertical-align: middle;\n",
              "    }\n",
              "\n",
              "    .dataframe tbody tr th {\n",
              "        vertical-align: top;\n",
              "    }\n",
              "\n",
              "    .dataframe thead th {\n",
              "        text-align: right;\n",
              "    }\n",
              "</style>\n",
              "<table border=\"1\" class=\"dataframe\">\n",
              "  <thead>\n",
              "    <tr style=\"text-align: right;\">\n",
              "      <th></th>\n",
              "      <th>CNPJ_FUNDO</th>\n",
              "      <th>VL_APLIC</th>\n",
              "      <th>DS_ATIVO</th>\n",
              "      <th>CPF_CNPJ_EMISSOR</th>\n",
              "      <th>EMISSOR</th>\n",
              "      <th>VL_PATRIM_LIQ</th>\n",
              "      <th>PR_PATRIM_LIQ</th>\n",
              "    </tr>\n",
              "  </thead>\n",
              "  <tbody>\n",
              "    <tr>\n",
              "      <th>6</th>\n",
              "      <td>02.010.153/0001-45</td>\n",
              "      <td>54712.12</td>\n",
              "      <td>Disponibilidades - Outros - BANCO BRASIL CAIXA</td>\n",
              "      <td>00.000.000/0001-91</td>\n",
              "      <td>BCO DO BRASIL</td>\n",
              "      <td>17079539.69</td>\n",
              "      <td>0.320</td>\n",
              "    </tr>\n",
              "    <tr>\n",
              "      <th>7</th>\n",
              "      <td>02.010.153/0001-45</td>\n",
              "      <td>-1150.70</td>\n",
              "      <td>Mercado Futuro - Posições compradas - Contrato...</td>\n",
              "      <td>54.641.030/0001-06</td>\n",
              "      <td>BMF - BOLSA DE MERCADORIAS E FUTUROS</td>\n",
              "      <td>17079539.69</td>\n",
              "      <td>-0.007</td>\n",
              "    </tr>\n",
              "    <tr>\n",
              "      <th>8</th>\n",
              "      <td>02.010.153/0001-45</td>\n",
              "      <td>0.00</td>\n",
              "      <td>Mercado Futuro - Posições compradas - Contrato...</td>\n",
              "      <td>54.641.030/0001-06</td>\n",
              "      <td>BMF - BOLSA DE MERCADORIAS E FUTUROS</td>\n",
              "      <td>17079539.69</td>\n",
              "      <td>0.000</td>\n",
              "    </tr>\n",
              "    <tr>\n",
              "      <th>9</th>\n",
              "      <td>02.010.153/0001-45</td>\n",
              "      <td>-230.88</td>\n",
              "      <td>Mercado Futuro - Posições compradas - Contrato...</td>\n",
              "      <td>54.641.030/0001-06</td>\n",
              "      <td>BMF - BOLSA DE MERCADORIAS E FUTUROS</td>\n",
              "      <td>17079539.69</td>\n",
              "      <td>-0.001</td>\n",
              "    </tr>\n",
              "    <tr>\n",
              "      <th>10</th>\n",
              "      <td>02.010.153/0001-45</td>\n",
              "      <td>2186.10</td>\n",
              "      <td>Mercado Futuro - Posições vendidas - Contrato ...</td>\n",
              "      <td>54.641.030/0001-06</td>\n",
              "      <td>BMF - BOLSA DE MERCADORIAS E FUTUROS</td>\n",
              "      <td>17079539.69</td>\n",
              "      <td>0.013</td>\n",
              "    </tr>\n",
              "    <tr>\n",
              "      <th>...</th>\n",
              "      <td>...</td>\n",
              "      <td>...</td>\n",
              "      <td>...</td>\n",
              "      <td>...</td>\n",
              "      <td>...</td>\n",
              "      <td>...</td>\n",
              "      <td>...</td>\n",
              "    </tr>\n",
              "    <tr>\n",
              "      <th>161090</th>\n",
              "      <td>11.179.262/0001-81</td>\n",
              "      <td>1775.33</td>\n",
              "      <td>Valores a pagar - Outros - CINEHOLLIUDY</td>\n",
              "      <td>19.361.060/0001-68</td>\n",
              "      <td>FUNCINE FUNDO FINANC INDUSTRIA CINEMATOG</td>\n",
              "      <td>1780896.83</td>\n",
              "      <td>-0.100</td>\n",
              "    </tr>\n",
              "    <tr>\n",
              "      <th>161092</th>\n",
              "      <td>11.179.262/0001-81</td>\n",
              "      <td>5404.19</td>\n",
              "      <td>Valores a pagar - Outros - DAS</td>\n",
              "      <td>19.361.060/0001-68</td>\n",
              "      <td>FUNCINE FUNDO FINANC INDUSTRIA CINEMATOG</td>\n",
              "      <td>1780896.83</td>\n",
              "      <td>-0.303</td>\n",
              "    </tr>\n",
              "    <tr>\n",
              "      <th>161093</th>\n",
              "      <td>11.179.262/0001-81</td>\n",
              "      <td>1827.14</td>\n",
              "      <td>Valores a pagar - Outros - DAS AMORT</td>\n",
              "      <td>19.361.060/0001-68</td>\n",
              "      <td>FUNCINE FUNDO FINANC INDUSTRIA CINEMATOG</td>\n",
              "      <td>1780896.83</td>\n",
              "      <td>-0.103</td>\n",
              "    </tr>\n",
              "    <tr>\n",
              "      <th>161096</th>\n",
              "      <td>11.179.262/0001-81</td>\n",
              "      <td>66258.28</td>\n",
              "      <td>Valores a pagar - Outros - ELA DISSE</td>\n",
              "      <td>19.361.060/0001-68</td>\n",
              "      <td>FUNCINE FUNDO FINANC INDUSTRIA CINEMATOG</td>\n",
              "      <td>1780896.83</td>\n",
              "      <td>-3.721</td>\n",
              "    </tr>\n",
              "    <tr>\n",
              "      <th>161098</th>\n",
              "      <td>11.179.262/0001-81</td>\n",
              "      <td>52459.38</td>\n",
              "      <td>Valores a pagar - Outros - POP</td>\n",
              "      <td>19.361.060/0001-68</td>\n",
              "      <td>FUNCINE FUNDO FINANC INDUSTRIA CINEMATOG</td>\n",
              "      <td>1780896.83</td>\n",
              "      <td>-2.946</td>\n",
              "    </tr>\n",
              "  </tbody>\n",
              "</table>\n",
              "<p>66121 rows × 7 columns</p>\n",
              "</div>"
            ],
            "text/plain": [
              "                CNPJ_FUNDO  VL_APLIC  ... VL_PATRIM_LIQ PR_PATRIM_LIQ\n",
              "6       02.010.153/0001-45  54712.12  ...   17079539.69         0.320\n",
              "7       02.010.153/0001-45  -1150.70  ...   17079539.69        -0.007\n",
              "8       02.010.153/0001-45      0.00  ...   17079539.69         0.000\n",
              "9       02.010.153/0001-45   -230.88  ...   17079539.69        -0.001\n",
              "10      02.010.153/0001-45   2186.10  ...   17079539.69         0.013\n",
              "...                    ...       ...  ...           ...           ...\n",
              "161090  11.179.262/0001-81   1775.33  ...    1780896.83        -0.100\n",
              "161092  11.179.262/0001-81   5404.19  ...    1780896.83        -0.303\n",
              "161093  11.179.262/0001-81   1827.14  ...    1780896.83        -0.103\n",
              "161096  11.179.262/0001-81  66258.28  ...    1780896.83        -3.721\n",
              "161098  11.179.262/0001-81  52459.38  ...    1780896.83        -2.946\n",
              "\n",
              "[66121 rows x 7 columns]"
            ]
          },
          "metadata": {
            "tags": []
          },
          "execution_count": 84
        }
      ]
    },
    {
      "cell_type": "markdown",
      "metadata": {
        "id": "tcrPcVT48ce8"
      },
      "source": [
        "## Exportação dos dados"
      ]
    },
    {
      "cell_type": "markdown",
      "metadata": {
        "id": "QJ2VZ28kBfcv"
      },
      "source": [
        "### Mapeamento do Google Drive"
      ]
    },
    {
      "cell_type": "code",
      "metadata": {
        "id": "6Ac7wxePXwtQ"
      },
      "source": [
        "drive.mount('/content/drive/')"
      ],
      "execution_count": null,
      "outputs": []
    },
    {
      "cell_type": "code",
      "metadata": {
        "id": "AaS5CnHKk7ga"
      },
      "source": [
        "!mkdir -p /content/drive/MyDrive/carteira_fundos/entrada\n",
        "!mkdir -p /content/drive/MyDrive/carteira_fundos/saida"
      ],
      "execution_count": 86,
      "outputs": []
    },
    {
      "cell_type": "code",
      "metadata": {
        "id": "omTpzvhunZ6W"
      },
      "source": [
        "# Salva no Google Drive os arquivos baixados do Portal de Dados Abertos CVM e site B3\n",
        "!cp cad_fi.csv /content/drive/MyDrive/carteira_fundos/entrada\n",
        "!cp cda_fi.zip /content/drive/MyDrive/carteira_fundos/entrada\n",
        "!cp isinp.zip /content/drive/MyDrive/carteira_fundos/entrada"
      ],
      "execution_count": 87,
      "outputs": []
    },
    {
      "cell_type": "code",
      "metadata": {
        "id": "UZqzx9ibs1SE"
      },
      "source": [
        "# Define diretório do Google Drive para salvar o resultado do processamento\n",
        "diretorio_saida = '/content/drive/MyDrive/carteira_fundos/saida/'"
      ],
      "execution_count": 88,
      "outputs": []
    },
    {
      "cell_type": "markdown",
      "metadata": {
        "id": "1KTKfWCzJ2I3"
      },
      "source": [
        "### Fundos"
      ]
    },
    {
      "cell_type": "code",
      "metadata": {
        "colab": {
          "base_uri": "https://localhost:8080/",
          "height": 206
        },
        "id": "bKP7amEu8glD",
        "outputId": "df46f1ce-0407-49c3-d0cc-cb0d51b7b04a"
      },
      "source": [
        "fundos.to_csv(diretorio_saida + 'fundos.csv', index=False, encoding='utf-8')\n",
        "fundos.head()"
      ],
      "execution_count": 89,
      "outputs": [
        {
          "output_type": "execute_result",
          "data": {
            "text/html": [
              "<div>\n",
              "<style scoped>\n",
              "    .dataframe tbody tr th:only-of-type {\n",
              "        vertical-align: middle;\n",
              "    }\n",
              "\n",
              "    .dataframe tbody tr th {\n",
              "        vertical-align: top;\n",
              "    }\n",
              "\n",
              "    .dataframe thead th {\n",
              "        text-align: right;\n",
              "    }\n",
              "</style>\n",
              "<table border=\"1\" class=\"dataframe\">\n",
              "  <thead>\n",
              "    <tr style=\"text-align: right;\">\n",
              "      <th></th>\n",
              "      <th>TP_FUNDO</th>\n",
              "      <th>CNPJ_FUNDO</th>\n",
              "      <th>DENOM_SOCIAL</th>\n",
              "      <th>SIT</th>\n",
              "      <th>DT_INI_SIT</th>\n",
              "      <th>FUNDO_COTAS</th>\n",
              "      <th>FUNDO_EXCLUSIVO</th>\n",
              "      <th>VL_PATRIM_LIQ</th>\n",
              "    </tr>\n",
              "  </thead>\n",
              "  <tbody>\n",
              "    <tr>\n",
              "      <th>0</th>\n",
              "      <td>FAPI</td>\n",
              "      <td>02.177.812/0001-32</td>\n",
              "      <td>ITAU FAPI RENDA FIXA - FUNDO DE APOSENTADORIA ...</td>\n",
              "      <td>EM FUNCIONAMENTO NORMAL</td>\n",
              "      <td>1997-11-27</td>\n",
              "      <td></td>\n",
              "      <td></td>\n",
              "      <td>66438968.44</td>\n",
              "    </tr>\n",
              "    <tr>\n",
              "      <th>1</th>\n",
              "      <td>FAPI</td>\n",
              "      <td>02.226.122/0001-26</td>\n",
              "      <td>UNIBANCO FUNDO DE APOSENTADORIA PROGRAMADA IND...</td>\n",
              "      <td>EM FUNCIONAMENTO NORMAL</td>\n",
              "      <td>1997-12-05</td>\n",
              "      <td></td>\n",
              "      <td></td>\n",
              "      <td>4740.45</td>\n",
              "    </tr>\n",
              "    <tr>\n",
              "      <th>2</th>\n",
              "      <td>FAPI</td>\n",
              "      <td>02.177.815/0001-76</td>\n",
              "      <td>ITAU FAPI CONSERVADOR - FUNDO DE APOSENTADORIA...</td>\n",
              "      <td>EM FUNCIONAMENTO NORMAL</td>\n",
              "      <td>1997-12-16</td>\n",
              "      <td></td>\n",
              "      <td></td>\n",
              "      <td>2044493.92</td>\n",
              "    </tr>\n",
              "    <tr>\n",
              "      <th>3</th>\n",
              "      <td>FAPI</td>\n",
              "      <td>02.185.027/0001-21</td>\n",
              "      <td>BRADESCO FUNDO DE APOSENTADORIA PROGRAMADA IND...</td>\n",
              "      <td>EM FUNCIONAMENTO NORMAL</td>\n",
              "      <td>1997-12-19</td>\n",
              "      <td></td>\n",
              "      <td></td>\n",
              "      <td>453086833.64</td>\n",
              "    </tr>\n",
              "    <tr>\n",
              "      <th>4</th>\n",
              "      <td>FAPI</td>\n",
              "      <td>02.297.533/0001-02</td>\n",
              "      <td>BRADESCO FUNDO DE APOSENTADORIA PROGRAMADA IND...</td>\n",
              "      <td>EM FUNCIONAMENTO NORMAL</td>\n",
              "      <td>1997-12-29</td>\n",
              "      <td></td>\n",
              "      <td></td>\n",
              "      <td>15654242.81</td>\n",
              "    </tr>\n",
              "  </tbody>\n",
              "</table>\n",
              "</div>"
            ],
            "text/plain": [
              "  TP_FUNDO          CNPJ_FUNDO  ... FUNDO_EXCLUSIVO VL_PATRIM_LIQ\n",
              "0     FAPI  02.177.812/0001-32  ...                   66438968.44\n",
              "1     FAPI  02.226.122/0001-26  ...                       4740.45\n",
              "2     FAPI  02.177.815/0001-76  ...                    2044493.92\n",
              "3     FAPI  02.185.027/0001-21  ...                  453086833.64\n",
              "4     FAPI  02.297.533/0001-02  ...                   15654242.81\n",
              "\n",
              "[5 rows x 8 columns]"
            ]
          },
          "metadata": {
            "tags": []
          },
          "execution_count": 89
        }
      ]
    },
    {
      "cell_type": "markdown",
      "metadata": {
        "id": "1M2krjmBL2Hs"
      },
      "source": [
        "### Gestores"
      ]
    },
    {
      "cell_type": "code",
      "metadata": {
        "colab": {
          "base_uri": "https://localhost:8080/",
          "height": 206
        },
        "id": "FEfYtH3QMVwp",
        "outputId": "2c73e45d-783d-4d03-85f0-4d012518adca"
      },
      "source": [
        "fundos_gestores.to_csv(diretorio_saida + 'fundos_gestores.csv', index=False, encoding='utf-8')\n",
        "fundos_gestores.head()"
      ],
      "execution_count": 90,
      "outputs": [
        {
          "output_type": "execute_result",
          "data": {
            "text/html": [
              "<div>\n",
              "<style scoped>\n",
              "    .dataframe tbody tr th:only-of-type {\n",
              "        vertical-align: middle;\n",
              "    }\n",
              "\n",
              "    .dataframe tbody tr th {\n",
              "        vertical-align: top;\n",
              "    }\n",
              "\n",
              "    .dataframe thead th {\n",
              "        text-align: right;\n",
              "    }\n",
              "</style>\n",
              "<table border=\"1\" class=\"dataframe\">\n",
              "  <thead>\n",
              "    <tr style=\"text-align: right;\">\n",
              "      <th></th>\n",
              "      <th>CNPJ_FUNDO</th>\n",
              "      <th>CPF_CNPJ_GESTOR</th>\n",
              "    </tr>\n",
              "  </thead>\n",
              "  <tbody>\n",
              "    <tr>\n",
              "      <th>0</th>\n",
              "      <td>03.915.495/0001-77</td>\n",
              "      <td>60.701.190/0001-04</td>\n",
              "    </tr>\n",
              "    <tr>\n",
              "      <th>1</th>\n",
              "      <td>02.838.578/0001-47</td>\n",
              "      <td>30.822.936/0001-69</td>\n",
              "    </tr>\n",
              "    <tr>\n",
              "      <th>2</th>\n",
              "      <td>02.998.275/0001-91</td>\n",
              "      <td>62.375.134/0001-44</td>\n",
              "    </tr>\n",
              "    <tr>\n",
              "      <th>3</th>\n",
              "      <td>03.555.959/0001-81</td>\n",
              "      <td>00.360.305/0001-04</td>\n",
              "    </tr>\n",
              "    <tr>\n",
              "      <th>4</th>\n",
              "      <td>03.859.784/0001-04</td>\n",
              "      <td>33.311.713/0001-25</td>\n",
              "    </tr>\n",
              "  </tbody>\n",
              "</table>\n",
              "</div>"
            ],
            "text/plain": [
              "           CNPJ_FUNDO     CPF_CNPJ_GESTOR\n",
              "0  03.915.495/0001-77  60.701.190/0001-04\n",
              "1  02.838.578/0001-47  30.822.936/0001-69\n",
              "2  02.998.275/0001-91  62.375.134/0001-44\n",
              "3  03.555.959/0001-81  00.360.305/0001-04\n",
              "4  03.859.784/0001-04  33.311.713/0001-25"
            ]
          },
          "metadata": {
            "tags": []
          },
          "execution_count": 90
        }
      ]
    },
    {
      "cell_type": "code",
      "metadata": {
        "colab": {
          "base_uri": "https://localhost:8080/",
          "height": 206
        },
        "id": "v_J87423LI_w",
        "outputId": "1808526b-26f1-4eb3-f5e9-024c65f540bf"
      },
      "source": [
        "gestores.to_csv(diretorio_saida + 'gestores.csv', index=False, encoding='utf-8')\n",
        "gestores.head()"
      ],
      "execution_count": 91,
      "outputs": [
        {
          "output_type": "execute_result",
          "data": {
            "text/html": [
              "<div>\n",
              "<style scoped>\n",
              "    .dataframe tbody tr th:only-of-type {\n",
              "        vertical-align: middle;\n",
              "    }\n",
              "\n",
              "    .dataframe tbody tr th {\n",
              "        vertical-align: top;\n",
              "    }\n",
              "\n",
              "    .dataframe thead th {\n",
              "        text-align: right;\n",
              "    }\n",
              "</style>\n",
              "<table border=\"1\" class=\"dataframe\">\n",
              "  <thead>\n",
              "    <tr style=\"text-align: right;\">\n",
              "      <th></th>\n",
              "      <th>CPF_CNPJ_GESTOR</th>\n",
              "      <th>GESTOR</th>\n",
              "    </tr>\n",
              "  </thead>\n",
              "  <tbody>\n",
              "    <tr>\n",
              "      <th>60</th>\n",
              "      <td>60.770.336/0001-65</td>\n",
              "      <td>BANCO ALFA DE INVESTIMENTO S.A.</td>\n",
              "    </tr>\n",
              "    <tr>\n",
              "      <th>1070</th>\n",
              "      <td>60.701.190/0001-04</td>\n",
              "      <td>ITAU UNIBANCO S.A.</td>\n",
              "    </tr>\n",
              "    <tr>\n",
              "      <th>1095</th>\n",
              "      <td>33.172.537/0001-98</td>\n",
              "      <td>BANCO J.P. MORGAN S.A.</td>\n",
              "    </tr>\n",
              "    <tr>\n",
              "      <th>1707</th>\n",
              "      <td>12.695.840/0001-03</td>\n",
              "      <td>JULIUS BAER FAMILY OFFICE BRASIL GESTÃO DE PAT...</td>\n",
              "    </tr>\n",
              "    <tr>\n",
              "      <th>3277</th>\n",
              "      <td>62.375.134/0001-44</td>\n",
              "      <td>BRAM - BRADESCO ASSET MANAGEMENT S.A. DISTRIBU...</td>\n",
              "    </tr>\n",
              "  </tbody>\n",
              "</table>\n",
              "</div>"
            ],
            "text/plain": [
              "         CPF_CNPJ_GESTOR                                             GESTOR\n",
              "60    60.770.336/0001-65                    BANCO ALFA DE INVESTIMENTO S.A.\n",
              "1070  60.701.190/0001-04                                 ITAU UNIBANCO S.A.\n",
              "1095  33.172.537/0001-98                             BANCO J.P. MORGAN S.A.\n",
              "1707  12.695.840/0001-03  JULIUS BAER FAMILY OFFICE BRASIL GESTÃO DE PAT...\n",
              "3277  62.375.134/0001-44  BRAM - BRADESCO ASSET MANAGEMENT S.A. DISTRIBU..."
            ]
          },
          "metadata": {
            "tags": []
          },
          "execution_count": 91
        }
      ]
    },
    {
      "cell_type": "markdown",
      "metadata": {
        "id": "HUKO21vrC7Au"
      },
      "source": [
        "### Ativos"
      ]
    },
    {
      "cell_type": "code",
      "metadata": {
        "id": "bhYZ-pDQifab"
      },
      "source": [
        "ativos_emissor_isin = pd.concat([titulos_publicos_emissor, \n",
        "           swap_emissor,       \n",
        "           ativos_codificados_emissor]).fillna('')\n",
        "\n",
        "ativos_emissor_isin.reset_index(drop=True, inplace=True)       \n",
        "\n",
        "ativos_emissor_isin['ID_EMISSOR'] = ativos_emissor_isin.apply(lambda row: id_emissor(row), axis=1)\n",
        "ativos_emissor_isin['ID_EMISSOR'] = ativos_emissor_isin['ID_EMISSOR'].apply(hash)\n",
        "\n",
        "ativos_emissor_isin['ID_ATIVO']   =  \\\n",
        "        ativos_emissor_isin['CD_ATIVO'] \\\n",
        "+ '|' + ativos_emissor_isin['CD_ISIN'] \\\n",
        "+ '|' \\\n",
        "+ '|' \\\n",
        "+ '|' \\\n",
        "+ '|' \\\n",
        "+ '|' \n",
        "\n",
        "ativos_emissor_isin['ID_ATIVO'] = ativos_emissor_isin['ID_ATIVO'].apply(hash)"
      ],
      "execution_count": 92,
      "outputs": []
    },
    {
      "cell_type": "code",
      "metadata": {
        "id": "JLTNfxEBSt-G"
      },
      "source": [
        "ativos_emissor = pd.concat([depositos_prazo_emissor, \n",
        "           titulos_agronegocio_emissor, \n",
        "           investimento_exterior_emissor, \n",
        "           ativos_nao_codificados_emissor]).fillna('')\n",
        "\n",
        "ativos_emissor.reset_index(drop=True, inplace=True)       \n",
        "\n",
        "ativos_emissor['ID_EMISSOR'] = ativos_emissor.apply(lambda row: id_emissor(row), axis=1)\n",
        "ativos_emissor['ID_EMISSOR'] = ativos_emissor['ID_EMISSOR'].apply(hash)\n",
        "\n",
        "ativos_emissor['ID_ATIVO']   = \\\n",
        "        ativos_emissor['CD_ATIVO'] \\\n",
        "+ '|' \\\n",
        "+ '|' + ativos_emissor['DS_ATIVO'] \\\n",
        "+ '|' + ativos_emissor['DT_VENC'] \\\n",
        "+ '|' + ativos_emissor['BV_MERC'] \\\n",
        "+ '|' + ativos_emissor['PAIS'] \\\n",
        "+ '|' + ativos_emissor['ID_EMISSOR'] \n",
        "           \n",
        "ativos_emissor['ID_ATIVO'] = ativos_emissor['ID_ATIVO'].apply(hash)"
      ],
      "execution_count": 93,
      "outputs": []
    },
    {
      "cell_type": "code",
      "metadata": {
        "colab": {
          "base_uri": "https://localhost:8080/",
          "height": 206
        },
        "id": "o6WNf4yo8jZf",
        "outputId": "1631e76f-61fd-4763-cfac-2992d701b644"
      },
      "source": [
        "ativos = pd.concat([ativos_emissor_isin[['ID_ATIVO','CD_ATIVO','CD_ISIN','DS_ATIVO', 'DT_VENC','ID_EMISSOR']],\n",
        "                                     ativos_emissor[['ID_ATIVO','CD_ATIVO','DS_ATIVO','BV_MERC','PAIS','DT_VENC','ID_EMISSOR']]]).fillna('')\n",
        "\n",
        "df = ativos.drop(['ID_EMISSOR'], axis=1)\n",
        "df.to_csv(diretorio_saida + 'ativos.csv', index=False, encoding='utf-8')\n",
        "df.head()"
      ],
      "execution_count": 94,
      "outputs": [
        {
          "output_type": "execute_result",
          "data": {
            "text/html": [
              "<div>\n",
              "<style scoped>\n",
              "    .dataframe tbody tr th:only-of-type {\n",
              "        vertical-align: middle;\n",
              "    }\n",
              "\n",
              "    .dataframe tbody tr th {\n",
              "        vertical-align: top;\n",
              "    }\n",
              "\n",
              "    .dataframe thead th {\n",
              "        text-align: right;\n",
              "    }\n",
              "</style>\n",
              "<table border=\"1\" class=\"dataframe\">\n",
              "  <thead>\n",
              "    <tr style=\"text-align: right;\">\n",
              "      <th></th>\n",
              "      <th>ID_ATIVO</th>\n",
              "      <th>CD_ATIVO</th>\n",
              "      <th>CD_ISIN</th>\n",
              "      <th>DS_ATIVO</th>\n",
              "      <th>DT_VENC</th>\n",
              "      <th>BV_MERC</th>\n",
              "      <th>PAIS</th>\n",
              "    </tr>\n",
              "  </thead>\n",
              "  <tbody>\n",
              "    <tr>\n",
              "      <th>0</th>\n",
              "      <td>1d10237b4abbca11a03a6ee745d6cac6</td>\n",
              "      <td></td>\n",
              "      <td>BRSTNCLF1R74</td>\n",
              "      <td>LETRAS FINANCEIRAS DO TESOURO LETRAS FINANCEIR...</td>\n",
              "      <td>2022-09-01</td>\n",
              "      <td></td>\n",
              "      <td></td>\n",
              "    </tr>\n",
              "    <tr>\n",
              "      <th>1</th>\n",
              "      <td>c72352b69567bd78998644887a498ae9</td>\n",
              "      <td></td>\n",
              "      <td>BRSTNCNTF1P8</td>\n",
              "      <td>NOTAS DO TESOURO NACIONAL SERIE F NOTAS DO TES...</td>\n",
              "      <td>2027-01-01</td>\n",
              "      <td></td>\n",
              "      <td></td>\n",
              "    </tr>\n",
              "    <tr>\n",
              "      <th>2</th>\n",
              "      <td>266c59d25d42be89f4db5e419fbc4ef4</td>\n",
              "      <td></td>\n",
              "      <td>BRSTNCLTN7O0</td>\n",
              "      <td>LETRAS DO TESOURO NACIONAL LETRAS DO TESOURO N...</td>\n",
              "      <td>2022-07-01</td>\n",
              "      <td></td>\n",
              "      <td></td>\n",
              "    </tr>\n",
              "    <tr>\n",
              "      <th>3</th>\n",
              "      <td>744a9a382e0cdeae5d5711538e0b8dbc</td>\n",
              "      <td></td>\n",
              "      <td>BRSTNCNTB4O9</td>\n",
              "      <td>NOTAS DO TESOURO NACIONAL SERIE B NOTAS DO TES...</td>\n",
              "      <td>2023-05-15</td>\n",
              "      <td></td>\n",
              "      <td></td>\n",
              "    </tr>\n",
              "    <tr>\n",
              "      <th>4</th>\n",
              "      <td>931fda6a5040d49705a8baf564d28659</td>\n",
              "      <td></td>\n",
              "      <td>BRSTNCNTB096</td>\n",
              "      <td>NOTAS DO TESOURO NACIONAL SERIE B NOTAS DO TES...</td>\n",
              "      <td>2024-08-15</td>\n",
              "      <td></td>\n",
              "      <td></td>\n",
              "    </tr>\n",
              "  </tbody>\n",
              "</table>\n",
              "</div>"
            ],
            "text/plain": [
              "                           ID_ATIVO CD_ATIVO  ... BV_MERC PAIS\n",
              "0  1d10237b4abbca11a03a6ee745d6cac6           ...             \n",
              "1  c72352b69567bd78998644887a498ae9           ...             \n",
              "2  266c59d25d42be89f4db5e419fbc4ef4           ...             \n",
              "3  744a9a382e0cdeae5d5711538e0b8dbc           ...             \n",
              "4  931fda6a5040d49705a8baf564d28659           ...             \n",
              "\n",
              "[5 rows x 7 columns]"
            ]
          },
          "metadata": {
            "tags": []
          },
          "execution_count": 94
        }
      ]
    },
    {
      "cell_type": "code",
      "metadata": {
        "colab": {
          "base_uri": "https://localhost:8080/",
          "height": 206
        },
        "id": "hSIyrpZGPnFQ",
        "outputId": "dc17bef0-efa0-4fdf-9786-f9b81d06f65b"
      },
      "source": [
        "df = ativos[['ID_ATIVO','ID_EMISSOR']]\n",
        "\n",
        "ativos_emissores = df[df['ID_EMISSOR']!=''].drop_duplicates()\n",
        "\n",
        "ativos_emissores.to_csv(diretorio_saida + 'ativos_emissores.csv', index=False, encoding='utf-8')\n",
        "ativos_emissores.head()"
      ],
      "execution_count": 95,
      "outputs": [
        {
          "output_type": "execute_result",
          "data": {
            "text/html": [
              "<div>\n",
              "<style scoped>\n",
              "    .dataframe tbody tr th:only-of-type {\n",
              "        vertical-align: middle;\n",
              "    }\n",
              "\n",
              "    .dataframe tbody tr th {\n",
              "        vertical-align: top;\n",
              "    }\n",
              "\n",
              "    .dataframe thead th {\n",
              "        text-align: right;\n",
              "    }\n",
              "</style>\n",
              "<table border=\"1\" class=\"dataframe\">\n",
              "  <thead>\n",
              "    <tr style=\"text-align: right;\">\n",
              "      <th></th>\n",
              "      <th>ID_ATIVO</th>\n",
              "      <th>ID_EMISSOR</th>\n",
              "    </tr>\n",
              "  </thead>\n",
              "  <tbody>\n",
              "    <tr>\n",
              "      <th>0</th>\n",
              "      <td>1d10237b4abbca11a03a6ee745d6cac6</td>\n",
              "      <td>0425aba961b0e9399dbc2cfb7628f351</td>\n",
              "    </tr>\n",
              "    <tr>\n",
              "      <th>1</th>\n",
              "      <td>c72352b69567bd78998644887a498ae9</td>\n",
              "      <td>0425aba961b0e9399dbc2cfb7628f351</td>\n",
              "    </tr>\n",
              "    <tr>\n",
              "      <th>2</th>\n",
              "      <td>266c59d25d42be89f4db5e419fbc4ef4</td>\n",
              "      <td>0425aba961b0e9399dbc2cfb7628f351</td>\n",
              "    </tr>\n",
              "    <tr>\n",
              "      <th>3</th>\n",
              "      <td>744a9a382e0cdeae5d5711538e0b8dbc</td>\n",
              "      <td>0425aba961b0e9399dbc2cfb7628f351</td>\n",
              "    </tr>\n",
              "    <tr>\n",
              "      <th>4</th>\n",
              "      <td>931fda6a5040d49705a8baf564d28659</td>\n",
              "      <td>0425aba961b0e9399dbc2cfb7628f351</td>\n",
              "    </tr>\n",
              "  </tbody>\n",
              "</table>\n",
              "</div>"
            ],
            "text/plain": [
              "                           ID_ATIVO                        ID_EMISSOR\n",
              "0  1d10237b4abbca11a03a6ee745d6cac6  0425aba961b0e9399dbc2cfb7628f351\n",
              "1  c72352b69567bd78998644887a498ae9  0425aba961b0e9399dbc2cfb7628f351\n",
              "2  266c59d25d42be89f4db5e419fbc4ef4  0425aba961b0e9399dbc2cfb7628f351\n",
              "3  744a9a382e0cdeae5d5711538e0b8dbc  0425aba961b0e9399dbc2cfb7628f351\n",
              "4  931fda6a5040d49705a8baf564d28659  0425aba961b0e9399dbc2cfb7628f351"
            ]
          },
          "metadata": {
            "tags": []
          },
          "execution_count": 95
        }
      ]
    },
    {
      "cell_type": "markdown",
      "metadata": {
        "id": "r1rb4n_8Cxvq"
      },
      "source": [
        "### Emissores"
      ]
    },
    {
      "cell_type": "code",
      "metadata": {
        "id": "Sryyrql0mY2i"
      },
      "source": [
        "df = nomes_emissores.fillna('')\n",
        "\n",
        "df['ID_EMISSOR'] = df.apply(lambda row: id_emissor(row), axis=1)\n",
        "df['ID_EMISSOR'] = df['ID_EMISSOR'].apply(hash)\n",
        "\n",
        "emissores = pd.merge(df, ativos_emissores.drop(['ID_ATIVO'], axis=1),\n",
        "                                    how=\"inner\", on=[\"ID_EMISSOR\"])\n",
        "\n",
        "emissores = emissores.drop_duplicates()"
      ],
      "execution_count": 96,
      "outputs": []
    },
    {
      "cell_type": "code",
      "metadata": {
        "colab": {
          "base_uri": "https://localhost:8080/",
          "height": 206
        },
        "id": "QIJ7cPCQ85Ya",
        "outputId": "c7918c3e-30ac-49aa-fc12-5106d48b12bb"
      },
      "source": [
        "emissores.to_csv(diretorio_saida + 'emissores.csv', index=False, encoding='utf-8')\n",
        "emissores.head()"
      ],
      "execution_count": 97,
      "outputs": [
        {
          "output_type": "execute_result",
          "data": {
            "text/html": [
              "<div>\n",
              "<style scoped>\n",
              "    .dataframe tbody tr th:only-of-type {\n",
              "        vertical-align: middle;\n",
              "    }\n",
              "\n",
              "    .dataframe tbody tr th {\n",
              "        vertical-align: top;\n",
              "    }\n",
              "\n",
              "    .dataframe thead th {\n",
              "        text-align: right;\n",
              "    }\n",
              "</style>\n",
              "<table border=\"1\" class=\"dataframe\">\n",
              "  <thead>\n",
              "    <tr style=\"text-align: right;\">\n",
              "      <th></th>\n",
              "      <th>CPF_CNPJ_EMISSOR</th>\n",
              "      <th>EMISSOR</th>\n",
              "      <th>ID_EMISSOR</th>\n",
              "    </tr>\n",
              "  </thead>\n",
              "  <tbody>\n",
              "    <tr>\n",
              "      <th>0</th>\n",
              "      <td>07.810.517/0001-95</td>\n",
              "      <td>BANCO BTG PACTUAL S/A</td>\n",
              "      <td>249b405a038d00c48f7483c43b59e5a0</td>\n",
              "    </tr>\n",
              "    <tr>\n",
              "      <th>3</th>\n",
              "      <td>18.236.120/0001-58</td>\n",
              "      <td>NU PAGAMENTOS</td>\n",
              "      <td>a56f712fdc592e2c9d4298a2749e82fc</td>\n",
              "    </tr>\n",
              "    <tr>\n",
              "      <th>5</th>\n",
              "      <td>30.121.792/0001-13</td>\n",
              "      <td>CREDIT SUISSE</td>\n",
              "      <td>19cd2d95762278159bf15475ccfe4302</td>\n",
              "    </tr>\n",
              "    <tr>\n",
              "      <th>68</th>\n",
              "      <td>60.701.190/4816-09</td>\n",
              "      <td>ITAU UNIBANCO S</td>\n",
              "      <td>df1ffeef2ddbe3968250b491c38abb3c</td>\n",
              "    </tr>\n",
              "    <tr>\n",
              "      <th>72</th>\n",
              "      <td>11.476.673/0001-39</td>\n",
              "      <td>BANCO RANDON SA</td>\n",
              "      <td>76321e15ed003bb6e20e7a2beb2324d1</td>\n",
              "    </tr>\n",
              "  </tbody>\n",
              "</table>\n",
              "</div>"
            ],
            "text/plain": [
              "      CPF_CNPJ_EMISSOR                EMISSOR                        ID_EMISSOR\n",
              "0   07.810.517/0001-95  BANCO BTG PACTUAL S/A  249b405a038d00c48f7483c43b59e5a0\n",
              "3   18.236.120/0001-58          NU PAGAMENTOS  a56f712fdc592e2c9d4298a2749e82fc\n",
              "5   30.121.792/0001-13          CREDIT SUISSE  19cd2d95762278159bf15475ccfe4302\n",
              "68  60.701.190/4816-09        ITAU UNIBANCO S  df1ffeef2ddbe3968250b491c38abb3c\n",
              "72  11.476.673/0001-39        BANCO RANDON SA  76321e15ed003bb6e20e7a2beb2324d1"
            ]
          },
          "metadata": {
            "tags": []
          },
          "execution_count": 97
        }
      ]
    },
    {
      "cell_type": "markdown",
      "metadata": {
        "id": "b5o-Ee-mC-fv"
      },
      "source": [
        "### Aplicações"
      ]
    },
    {
      "cell_type": "markdown",
      "metadata": {
        "id": "jVdzZ1_BNhSc"
      },
      "source": [
        "#### Aplicações em Ativos"
      ]
    },
    {
      "cell_type": "code",
      "metadata": {
        "id": "Dv5VhVkG9Ryy"
      },
      "source": [
        "aplicacoes_ativos_isin = pd.concat([aplic_cda1, aplic_cda3, aplic_cda4]).fillna('')\n",
        "\n",
        "aplicacoes_ativos_isin.reset_index(drop=True, inplace=True)  \n",
        "\n",
        "aplicacoes_ativos_isin['ID_ATIVO'] = \\\n",
        "        aplicacoes_ativos_isin['CD_ATIVO'] \\\n",
        "+ '|' + aplicacoes_ativos_isin['CD_ISIN'] \\\n",
        "+ '|' \\\n",
        "+ '|' \\\n",
        "+ '|' \\\n",
        "+ '|' \\\n",
        "+ '|' \n",
        "\n",
        "aplicacoes_ativos_isin['ID_ATIVO'] = aplicacoes_ativos_isin['ID_ATIVO'].apply(hash)"
      ],
      "execution_count": 98,
      "outputs": []
    },
    {
      "cell_type": "code",
      "metadata": {
        "id": "YK0SHmgXRwHE"
      },
      "source": [
        "aplicacoes_ativos = pd.concat([aplic_cda5, aplic_cda6, aplic_cda7, aplic_cda8]).fillna('')\n",
        "\n",
        "aplicacoes_ativos.reset_index(drop=True, inplace=True) \n",
        "\n",
        "aplicacoes_ativos['ID_ATIVO'] = \\\n",
        "        aplicacoes_ativos['CD_ATIVO'] \\\n",
        "+ '|' \\\n",
        "+ '|' + aplicacoes_ativos['DS_ATIVO'] \\\n",
        "+ '|' + aplicacoes_ativos['DT_VENC'] \\\n",
        "+ '|' + aplicacoes_ativos['BV_MERC'] \\\n",
        "+ '|' + aplicacoes_ativos['PAIS'] \\\n",
        "+ '|' + aplicacoes_ativos.apply(lambda row: id_emissor(row), axis=1).apply(hash) \n",
        "\n",
        "aplicacoes_ativos['ID_ATIVO'] = aplicacoes_ativos['ID_ATIVO'].apply(hash)"
      ],
      "execution_count": 99,
      "outputs": []
    },
    {
      "cell_type": "code",
      "metadata": {
        "id": "5joCVDZEBvGN"
      },
      "source": [
        "aplicacoes_ativos_completo = pd.concat([aplicacoes_ativos_isin[['CNPJ_FUNDO','VL_APLIC','PR_PATRIM_LIQ','ID_ATIVO']],\n",
        "                                 aplicacoes_ativos[['CNPJ_FUNDO','VL_APLIC','PR_PATRIM_LIQ','ID_ATIVO']]]).\\\n",
        "                                     fillna('')\n",
        "\n",
        "aplicacoes_ativos_completo.reset_index(drop=True, inplace=True)\n",
        "aplicacoes_ativos_completo['ID_APLIC'] = aplicacoes_ativos_completo.index"
      ],
      "execution_count": 100,
      "outputs": []
    },
    {
      "cell_type": "code",
      "metadata": {
        "colab": {
          "base_uri": "https://localhost:8080/",
          "height": 206
        },
        "id": "9voy-TMY85qX",
        "outputId": "b92ce895-a171-4651-8974-1424086d56b5"
      },
      "source": [
        "aplicacoes_ativos_completo.to_csv(diretorio_saida + 'aplicacoes_ativos.csv', index=False, encoding='utf-8')\n",
        "aplicacoes_ativos_completo.head()"
      ],
      "execution_count": 101,
      "outputs": [
        {
          "output_type": "execute_result",
          "data": {
            "text/html": [
              "<div>\n",
              "<style scoped>\n",
              "    .dataframe tbody tr th:only-of-type {\n",
              "        vertical-align: middle;\n",
              "    }\n",
              "\n",
              "    .dataframe tbody tr th {\n",
              "        vertical-align: top;\n",
              "    }\n",
              "\n",
              "    .dataframe thead th {\n",
              "        text-align: right;\n",
              "    }\n",
              "</style>\n",
              "<table border=\"1\" class=\"dataframe\">\n",
              "  <thead>\n",
              "    <tr style=\"text-align: right;\">\n",
              "      <th></th>\n",
              "      <th>CNPJ_FUNDO</th>\n",
              "      <th>VL_APLIC</th>\n",
              "      <th>PR_PATRIM_LIQ</th>\n",
              "      <th>ID_ATIVO</th>\n",
              "      <th>ID_APLIC</th>\n",
              "    </tr>\n",
              "  </thead>\n",
              "  <tbody>\n",
              "    <tr>\n",
              "      <th>0</th>\n",
              "      <td>02.010.153/0001-45</td>\n",
              "      <td>856146.22</td>\n",
              "      <td>5.013</td>\n",
              "      <td>1d10237b4abbca11a03a6ee745d6cac6</td>\n",
              "      <td>0</td>\n",
              "    </tr>\n",
              "    <tr>\n",
              "      <th>1</th>\n",
              "      <td>02.010.153/0001-45</td>\n",
              "      <td>4355691.07</td>\n",
              "      <td>25.502</td>\n",
              "      <td>c72352b69567bd78998644887a498ae9</td>\n",
              "      <td>1</td>\n",
              "    </tr>\n",
              "    <tr>\n",
              "      <th>2</th>\n",
              "      <td>02.010.153/0001-45</td>\n",
              "      <td>7055241.89</td>\n",
              "      <td>41.308</td>\n",
              "      <td>266c59d25d42be89f4db5e419fbc4ef4</td>\n",
              "      <td>2</td>\n",
              "    </tr>\n",
              "    <tr>\n",
              "      <th>3</th>\n",
              "      <td>02.010.153/0001-45</td>\n",
              "      <td>26512.28</td>\n",
              "      <td>0.155</td>\n",
              "      <td>744a9a382e0cdeae5d5711538e0b8dbc</td>\n",
              "      <td>3</td>\n",
              "    </tr>\n",
              "    <tr>\n",
              "      <th>4</th>\n",
              "      <td>02.010.153/0001-45</td>\n",
              "      <td>1265516.96</td>\n",
              "      <td>7.410</td>\n",
              "      <td>931fda6a5040d49705a8baf564d28659</td>\n",
              "      <td>4</td>\n",
              "    </tr>\n",
              "  </tbody>\n",
              "</table>\n",
              "</div>"
            ],
            "text/plain": [
              "           CNPJ_FUNDO    VL_APLIC  ...                          ID_ATIVO ID_APLIC\n",
              "0  02.010.153/0001-45   856146.22  ...  1d10237b4abbca11a03a6ee745d6cac6        0\n",
              "1  02.010.153/0001-45  4355691.07  ...  c72352b69567bd78998644887a498ae9        1\n",
              "2  02.010.153/0001-45  7055241.89  ...  266c59d25d42be89f4db5e419fbc4ef4        2\n",
              "3  02.010.153/0001-45    26512.28  ...  744a9a382e0cdeae5d5711538e0b8dbc        3\n",
              "4  02.010.153/0001-45  1265516.96  ...  931fda6a5040d49705a8baf564d28659        4\n",
              "\n",
              "[5 rows x 5 columns]"
            ]
          },
          "metadata": {
            "tags": []
          },
          "execution_count": 101
        }
      ]
    },
    {
      "cell_type": "markdown",
      "metadata": {
        "id": "mdVne8c5MviX"
      },
      "source": [
        "#### Aplicações em Fundos"
      ]
    },
    {
      "cell_type": "code",
      "metadata": {
        "id": "ocuNLRTQOF6t"
      },
      "source": [
        "aplicacoes_cotas_fundos = aplic_cda2[['CNPJ_FUNDO','VL_APLIC','PR_PATRIM_LIQ','CNPJ_FUNDO_COTA']]"
      ],
      "execution_count": 102,
      "outputs": []
    },
    {
      "cell_type": "code",
      "metadata": {
        "colab": {
          "base_uri": "https://localhost:8080/",
          "height": 206
        },
        "id": "YJiuERtc85ix",
        "outputId": "aafe608c-a771-4e17-f7c5-48d3348700be"
      },
      "source": [
        "aplicacoes_cotas_fundos.to_csv(diretorio_saida + 'aplicacoes_cotas_fundos.csv', index=False, encoding='utf-8')\n",
        "aplicacoes_cotas_fundos.head()"
      ],
      "execution_count": 103,
      "outputs": [
        {
          "output_type": "execute_result",
          "data": {
            "text/html": [
              "<div>\n",
              "<style scoped>\n",
              "    .dataframe tbody tr th:only-of-type {\n",
              "        vertical-align: middle;\n",
              "    }\n",
              "\n",
              "    .dataframe tbody tr th {\n",
              "        vertical-align: top;\n",
              "    }\n",
              "\n",
              "    .dataframe thead th {\n",
              "        text-align: right;\n",
              "    }\n",
              "</style>\n",
              "<table border=\"1\" class=\"dataframe\">\n",
              "  <thead>\n",
              "    <tr style=\"text-align: right;\">\n",
              "      <th></th>\n",
              "      <th>CNPJ_FUNDO</th>\n",
              "      <th>VL_APLIC</th>\n",
              "      <th>PR_PATRIM_LIQ</th>\n",
              "      <th>CNPJ_FUNDO_COTA</th>\n",
              "    </tr>\n",
              "  </thead>\n",
              "  <tbody>\n",
              "    <tr>\n",
              "      <th>0</th>\n",
              "      <td>00.068.305/0001-35</td>\n",
              "      <td>46221487.84</td>\n",
              "      <td>100.077</td>\n",
              "      <td>08.046.417/0001-05</td>\n",
              "    </tr>\n",
              "    <tr>\n",
              "      <th>1</th>\n",
              "      <td>00.071.477/0001-68</td>\n",
              "      <td>33160782612.92</td>\n",
              "      <td>100.008</td>\n",
              "      <td>01.608.573/0001-65</td>\n",
              "    </tr>\n",
              "    <tr>\n",
              "      <th>2</th>\n",
              "      <td>00.083.181/0001-67</td>\n",
              "      <td>147100863.98</td>\n",
              "      <td>0.948</td>\n",
              "      <td>01.235.622/0001-61</td>\n",
              "    </tr>\n",
              "    <tr>\n",
              "      <th>3</th>\n",
              "      <td>00.083.181/0001-67</td>\n",
              "      <td>216970194.57</td>\n",
              "      <td>1.398</td>\n",
              "      <td>10.597.218/0001-29</td>\n",
              "    </tr>\n",
              "    <tr>\n",
              "      <th>4</th>\n",
              "      <td>00.083.181/0001-67</td>\n",
              "      <td>1915404901.42</td>\n",
              "      <td>12.342</td>\n",
              "      <td>08.277.553/0001-06</td>\n",
              "    </tr>\n",
              "  </tbody>\n",
              "</table>\n",
              "</div>"
            ],
            "text/plain": [
              "           CNPJ_FUNDO        VL_APLIC  PR_PATRIM_LIQ     CNPJ_FUNDO_COTA\n",
              "0  00.068.305/0001-35     46221487.84        100.077  08.046.417/0001-05\n",
              "1  00.071.477/0001-68  33160782612.92        100.008  01.608.573/0001-65\n",
              "2  00.083.181/0001-67    147100863.98          0.948  01.235.622/0001-61\n",
              "3  00.083.181/0001-67    216970194.57          1.398  10.597.218/0001-29\n",
              "4  00.083.181/0001-67   1915404901.42         12.342  08.277.553/0001-06"
            ]
          },
          "metadata": {
            "tags": []
          },
          "execution_count": 103
        }
      ]
    },
    {
      "cell_type": "code",
      "metadata": {
        "id": "ut-3yoNRNrBu"
      },
      "source": [
        ""
      ],
      "execution_count": 103,
      "outputs": []
    }
  ]
}