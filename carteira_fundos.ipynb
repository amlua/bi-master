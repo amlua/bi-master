{
  "nbformat": 4,
  "nbformat_minor": 0,
  "metadata": {
    "colab": {
      "name": "carteira_fundos.ipynb",
      "provenance": [],
      "collapsed_sections": [],
      "toc_visible": true,
      "include_colab_link": true
    },
    "kernelspec": {
      "display_name": "Python 3",
      "language": "python",
      "name": "python3"
    },
    "language_info": {
      "codemirror_mode": {
        "name": "ipython",
        "version": 3
      },
      "file_extension": ".py",
      "mimetype": "text/x-python",
      "name": "python",
      "nbconvert_exporter": "python",
      "pygments_lexer": "ipython3",
      "version": "3.7.9"
    }
  },
  "cells": [
    {
      "cell_type": "markdown",
      "metadata": {
        "id": "view-in-github",
        "colab_type": "text"
      },
      "source": [
        "<a href=\"https://colab.research.google.com/github/amlua/bi-master/blob/carga-analise-dados/carteira_fundos.ipynb\" target=\"_parent\"><img src=\"https://colab.research.google.com/assets/colab-badge.svg\" alt=\"Open In Colab\"/></a>"
      ]
    },
    {
      "cell_type": "markdown",
      "metadata": {
        "id": "Z4fxG7C4VxqX"
      },
      "source": [
        "# Composição de Carteira de Fundos de Investimento\n",
        "---\n"
      ]
    },
    {
      "cell_type": "markdown",
      "metadata": {
        "id": "1tVfKu8LLWRQ"
      },
      "source": [
        "## Descrição do negócio"
      ]
    },
    {
      "cell_type": "markdown",
      "metadata": {
        "id": "MsWM3EchMCJc"
      },
      "source": [
        "Os __Fundos de Investimento__ são uma forma organizada de captar recursos de investidores, individuais e institucionais, e aplicá-los em carteiras de ativos disponíveis no mercado financeiro e de capitais.\n",
        "\n",
        "Os fundos de investimento são organizados sob a forma de condomínio, ou seja, seu patrimônio é dividido em cotas, que representam frações do fundo. Quando os investidores fazem uma aplicação, o valor aplicado é convertido em uma quantidade de cotas, que são adquiridas pelo investidor.\n",
        "\n",
        "O __patrimônio líquido__ de um fundo é calculado pela soma de todos os ativos que constituem a sua carteira de investimento e o valor em caixa, menos as suas despesas e obrigações [[1]](#cotas).\n",
        "\n",
        "O patrimônio dos fundos é investido em ativos financeiros, de emissores públicos ou privados, emitidos no Brasil ou no exterior. Esses ativos compõem o que se chama de __carteira do fundo__ [[2]](#carteira).\n",
        "\n",
        "O __gestor da carteira__ é o profissional (pessoa física ou jurídica credenciada pela CVM como administrador de carteiras de valores mobiliários), responsável pelos investimentos realizados pelo fundo. É quem decide quais ativos financeiros irão compor a sua carteira. No entanto, suas decisões de compra e venda de ativos são regidas pelos objetivos e política de investimento determinados no regulamento do fundo [[3]](#gestor).\n",
        "\n",
        "O funcionamento dos fundos de investimento está sujeito às normas publicadas pela Comissão de Valores Mobiliários (CVM). Há diversos tipos de fundos e a sua constituição, funcionamento e divulgação de informações seguem o estabelecido em diferentes normas, por exemplo:\n",
        "* [Instrução CVM 555](http://conteudo.cvm.gov.br/legislacao/instrucoes/inst555.html) - Fundos de Investimento (FI)\n",
        "* [Instrução CVM 578](http://conteudo.cvm.gov.br/legislacao/instrucoes/inst578.html) - Fundos de Investimento em Participações (FIP)\n",
        "* [Instrução CVM 356](http://conteudo.cvm.gov.br/legislacao/instrucoes/inst356.html) - Fundos de Investimento em Direitos Creditórios (FIDC) e Fundos de Investimento em Cotas de Fundos de Investimento em Direitos Creditório (FIC-FIDC)\n",
        "* [Instrução CVM 359](http://conteudo.cvm.gov.br/legislacao/instrucoes/inst359.html) - Fundos de Investimento em Índice de Mercado (FIIM)\n",
        "* [Instrução CVM 472](http://conteudo.cvm.gov.br/legislacao/instrucoes/inst472.html) - Fundos de Investimento Imobiliário (FII)\n",
        "* [Instrução CVM 279](http://conteudo.cvm.gov.br/legislacao/instrucoes/inst279.html) - Fundos Mútuos de Privatização - FGTS (FMP-FGTS)\n",
        "* [Instrução CVM 423](http://conteudo.cvm.gov.br/legislacao/instrucoes/inst423.html) - Fundos de Aposentadoria Programada Individual (FAPI)\n",
        "* [Instrução CVM 398](http://conteudo.cvm.gov.br/legislacao/instrucoes/inst398.html) - Fundos de Financiamento da Indústria Cinematográfica Nacional (FUNCINE)\n",
        "* [Instrução CVM 153](http://conteudo.cvm.gov.br/legislacao/instrucoes/inst153.html) - Fundos Mútuos de Ações Incentivadas (FMAI)\n",
        "\n",
        "Os fundos regulados pela Instrução CVM 555 (e alguns outros tipos) devem enviar o demonstrativo mensal da composição da sua carteira por meio do [Sistema de Envio de Documentos da CVM](http://sistemas.cvm.gov.br/?cvmweb). \n",
        "\n",
        "O __Informe de Composição e Diversificação das Aplicações (CDA)__ é o documento que descreve as aplicações que compõem as carteiras dos fundos de investimento (ativos financeiros ou cotas de outros fundos), entregue à CVM no [formato XML](https://cvmweb.cvm.gov.br/SWB/Sistemas/SCW/PadroesXML/PadraoXMLCDANetV4.aspx). \n",
        "\n",
        "Assim, as carteiras individualizadas dos fundos podem ser consultadas no sítio da CVM, na página [Consulta a Carteiras de Fundos](https://cvmweb.cvm.gov.br/SWB/Sistemas/SCW/CPublica/FormBuscaPartic.aspx?TpConsulta=5). Além disso, a CVM disponibiliza essas carteiras para download em massa (_bulk download_) por meio de seu [Portal de Dados Abertos](http://dados.cvm.gov.br/dataset/fi-doc-cda).\n",
        "\n",
        "Entretanto, é facultado ao gestor do fundo omitir os detalhes sobre os ativos da carteira por um período de até 3 meses. Quando os detalhes são omitidos, a consulta exibe apenas o valor aplicado e o tipo ou classe do ativo, mas não sua identificação.\n",
        "\n",
        "---\n",
        "\n",
        "Referências: \n",
        "\n",
        "<a name=\"cotas\">[1]</a> [Portal do Investidor - Cotas](https://www.investidor.gov.br/menu/Menu_Investidor/fundos_investimentos/cotas.html)\n",
        "\n",
        "<a name=\"carteira\">[2]</a> [Portal do Investidor - Composição da carteira dos fundos de investimentos](https://www.investidor.gov.br/menu/Menu_Investidor/fundos_investimentos/carteira_composicao.html)\n",
        "\n",
        "<a name=\"gestor\">[3]</a> [Portal do Investidor - Obrigações do administrador e gestor](https://www.investidor.gov.br/menu/Menu_Investidor/fundos_investimentos/administrador_e_gestor.html)\n"
      ]
    },
    {
      "cell_type": "markdown",
      "metadata": {
        "id": "rYlNGJ9Nv-2A"
      },
      "source": [
        "## Problema proposto"
      ]
    },
    {
      "cell_type": "markdown",
      "metadata": {
        "id": "C7-0UXfNwFOK"
      },
      "source": [
        "Existem diversas ferramentas _online_ que permitem consultar as aplicações de um fundo, mas que se limitam a exibir as mesmas informações encontradas na [Consulta a Carteiras de Fundos](https://cvmweb.cvm.gov.br/SWB/Sistemas/SCW/CPublica/FormBuscaPartic.aspx?TpConsulta=5), no sítio da CVM. Alguns exemplos são:\n",
        "\n",
        "* [Mais Retorno](https://maisretorno.com/comparacao-fundos)\n",
        "* [Info Fundos](https://infofundos.com.br/carteira)\n",
        "\n",
        "Todas essas consultas apresentam o portfólio de investimentos que consta no documento __Composição e Diversificação das Aplicações (CDA)__ do fundo (chamaremos esta versão da carteira de __\"simples\"__). No entanto, nenhuma das consultas avaliadas põe em perspectiva o relacionamento entre fundos.\n",
        "\n",
        "Nos casos de aplicações em cotas de outros fundos, as consultas tradicionais à carteira não evidenciam, por exemplo, quais empresas e outras instituições são de fato financiadas com parte dos recursos do fundo. No entanto, é possível fazer tal inferência, bastando \"navegar\" do fundo investidor para os fundos que recebem o investimento.\n",
        "\n",
        "Considerando que o CDA informa a relação fundo investidor/fundo investido, definimos a __versão \"expandida\" da carteira__ como sendo todos os ativos e fundos em que ele aplica, direta ou indiretamente. Ou seja, a carteira expandida de um fundo inclui a carteira do próprio fundo e também os ativos que estão nas carteiras de todos os fundos em que ele investe.\n",
        "\n",
        "Sejam:\n",
        "* __F<sub>0</sub>__: o fundo em análise\n",
        "* __C<sub>0</sub>__: a carteira informada no documento CDA do fundo F<sub>0</sub> (conjunto com as aplicações em ativos e em cotas de outros fundos) \n",
        "* __Catv<sub>i</sub>__: a carteira de ativos do fundo F<sub>i</sub> (a carteira informada no documento CDA _excluindo-se do conjunto_ as aplicações em _cotas de outros fundos_) \n",
        "\n",
        "Definimos, no escopo deste trabalho, a __carteira expandida de nível 1__ (Ce<sub>0</sub><sup>1</sup>) do fundo F<sub>0</sub>:\n",
        "\n",
        "__Ce<sub>0</sub><sup>1</sup>__ = C<sub>0</sub> + $\\bigcup_{i=1}^m$ Catv<sub>i</sub>, para cada F<sub>i</sub> que aparece em C<sub>0</sub>.\n",
        "\n",
        "A __carteira expandida de nível 2__ (Ce<sub>0</sub><sup>2</sup>) do mesmo fundo F<sub>0</sub> será definida como:\n",
        "\n",
        "__Ce<sub>0</sub><sup>2</sup>__ = C<sub>0</sub> + $\\bigcup_{i=1}^m$ Ce<sub>i</sub><sup>1</sup>, para cada F<sub>i</sub> que aparece em C<sub>0</sub>.\n",
        "\n",
        "Por fim, definimos a __carteira expandida de nível n__ (Ce<sub>0</sub><sup>n</sup>) do mesmo fundo F<sub>0</sub>:\n",
        "\n",
        "__Ce<sub>0</sub><sup>n</sup>__ = C<sub>0</sub> + $\\bigcup_{i=1}^m$ Ce<sub>i</sub><sup>n-1</sup>, para cada F<sub>i</sub> que aparece em C<sub>0</sub>.\n",
        "\n",
        "Estamos interessados em construir análises e consultas que explorem a recursividade expressa no conceito de carteira expandida."
      ]
    },
    {
      "cell_type": "markdown",
      "metadata": {
        "id": "ud7SKg6TwFJB"
      },
      "source": [
        "## Objetivo e escopo da Prova de Conceito"
      ]
    },
    {
      "cell_type": "markdown",
      "metadata": {
        "id": "9ZvbjO6ZM9fI"
      },
      "source": [
        "O objetivo da presente prova de conceito é analisar a composição de carteira de fundos de investimento experimentando uma abordagem baseada em banco de dados de grafos (__graph database__).\n",
        "\n",
        "Um __banco de dados de grafos__ é um tipo de banco NoSQL baseado na teoria dos grafos, ramo da matemática discreta. As principais definições dessa teoria estabelecem a nomenclatura utilizada nos bancos de grafos:\n",
        "* Grafo: conjunto de vértices e arestas\n",
        "* Vértices: são os nós ou entidades do grafo\n",
        "* Arestas: representam os relacionamentos entre as entidades (vértices) do grafo\n",
        "\n",
        "Embora os grafos sejam uma abstração natural para um amplo leque de problemas de modelagem, a tecnologia de armazenamento e consulta de informação baseada em grafos tem um nicho de aplicação bem definido. Bancos de grafos são a escolha apropriada quando precisamos modelar dados altamente relacionados e os relacionamentos entre as entidades são tão (ou mais) importantes quanto as entidades em si.\n",
        "\n",
        "No livro [Graph Databases in Action](https://www.manning.com/books/graph-databases-in-action), D. Bechberger e J. Perryman listam três tipos de problemas para os quais os bancos de grafos permitem construir soluções mais simples e eficientes, quando comparados com os bancos de dados relacionais:\n",
        "* Consultas recursivas\n",
        "* Consultas que combinem diferentes tipos de dados no resultado\n",
        "* Descoberta de caminhos (como dois objetos estão conectados)\n",
        "\n",
        "Consultas recursivas são aquelas executadas múltiplas vezes em um _loop_, repetidamente chamando a si mesmas até que seja atingida uma condição de parada [[4]](#graph-databases). Consultas recursivas em um banco de dados relacional utilizando a linguagem SQL sofrem de dois problemas: ineficiência e complexidade. Por outro lado, os bancos de grafos são otimizados para responder a esse tipo de consulta de maneira mais rápida e com uma sintaxe muito mais simples. \n",
        "\n",
        "O problema proposto para esse trabalho possui ao menos duas características que sugerem uma abordagem baseada em grafos:\n",
        "* A __recursividade__ da carteira \"expandida\" de aplicações de um fundo\n",
        "* A __hierarquia__ existente entre os fundos (fundos investidores e fundos investidos), implícita na recursividade da carteira \"expandida\"\n",
        "\n",
        "Dessa forma, adotaremos um banco de dados de grafos para modelar e armazenar as informações do domínio do problema. Além de consultar as carteiras simples e expandidas dos fundos, estamos interessados em descobrir:\n",
        "* Fundos investidores e fundos investidos (direta ou indiretamente)\n",
        "* Se há ciclos no grafo, ou seja, se há referências circulares na hierarquia de investimento entre fundos (Exemplo: o fundo A investe no fundo B; o fundo B investe no fundo C; o fundo C investe no fundo A).\n",
        "* Quais fundos possuem maior diversidade de ativos em suas carteiras (simples ou expandidas)\n",
        "* Quais ativos possuem maior diversidade de fundos investidores (diretos ou indiretos)\n",
        "* Quais emissores possuem maior diversidade de ativos investidos (direta ou indiretamente)\n",
        "\n",
        "---\n",
        "Referências:\n",
        "\n",
        "<a name=\"graph-databases\">[4]</a> Dave Bechberger, Josh Perryman. [Graph Databases in Action](https://www.manning.com/books/graph-databases-in-action)"
      ]
    },
    {
      "cell_type": "markdown",
      "metadata": {
        "id": "RCJgPsBnogh7"
      },
      "source": [
        "## Modelo Conceitual de Dados"
      ]
    },
    {
      "cell_type": "markdown",
      "metadata": {
        "id": "dkzzpN32FTYF"
      },
      "source": [
        "__Fundos de investimento__ _aplicam_ em __ativos__ financeiros ou em cotas de outros fundos. Os ativos _são emtidos_ por instituições financeiras ou empresas (__emissores__). Fundos _são geridos_ por pessoas físicas ou jurídicas (__gestores__), que decidem a política de investimento do fundo."
      ]
    },
    {
      "cell_type": "markdown",
      "metadata": {
        "id": "ZFSUa2cH96rl"
      },
      "source": [
        "![Modelo_Conceitual.png](data:image/png;base64,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)"
      ]
    },
    {
      "cell_type": "markdown",
      "metadata": {
        "id": "NB_C9AkWnHUh"
      },
      "source": [
        "## Modelo Lógico de Dados (_Graph Schema_)"
      ]
    },
    {
      "cell_type": "markdown",
      "metadata": {
        "id": "xwAZCCYeBq4q"
      },
      "source": [
        "O modelo lógico (esquema) do banco de dados de grafos que será construído durante a prova de conceito é ele mesmo representado por um grafo. Aqui, os vértices correspondem aos tipos de vértice (entidades) e as arestas, aos tipos de aresta (relacionamentos).\n",
        "\n",
        "O esquema também exibe as propriedades de vértices e arestas. A propriedade '#' nas arestas representa a cardinalidade do relacionamento e deve ser lida na direção indicada pela seta [[5]](#graph-db-theory).\n",
        "\n",
        "---\n",
        "\n",
        "Referências:\n",
        "\n",
        "<a name=\"graph-db-theory\">[5]</a> Sridhar Ramachandran. [Graph Database Theory: Comparing Graph and Relational Data Models](https://www.lambdazen.com/assets/pdf/GraphDatabaseTheory.pdf)\n"
      ]
    },
    {
      "cell_type": "markdown",
      "metadata": {
        "id": "Sq7pS88Z7zGJ"
      },
      "source": [
        "![Modelo_Logico_GraphSchema.PNG](data:image/png;base64,iVBORw0KGgoAAAANSUhEUgAAAr0AAAKYCAYAAAB+RUBdAAAAAXNSR0IArs4c6QAAAARnQU1BAACxjwv8YQUAAAAJcEhZcwAADsMAAA7DAcdvqGQAAHO/SURBVHhe7d17sBx1nf//A0SSkIQkEISEy7K7KF9+KoUIhcdad+Pquu6yQkICJJyggMnILaCAokYBwf26uwiHOyY/0EiySUiQwGodqxZrqyhrV4o7X/hSkYP7x1cBv8pFEuFHiebz+7w/ffv0baZnpqen5zPPR9Wn0t3T/eme6Z53v9JnZnpEAQAAAI4j9AIAAMB5hF4AAAA4j9ALAAAA5xF6AQAA4DxCLwAAAJxH6AUAAIDzCL0AAABwHqEXAAAAziP0AgAAwHmEXgAAADiP0AsAAADnEXoBAADgPEIvAAAAnEfoBQAAgPMIvQAAAHAeoRcAAADOI/QCAADAeYReAAAAOI/QCwAAAOcRegEAAOA8Qi8AAACcR+gFAACA8wi9AAAAcB6hFwAAAM4j9AIAAMB5hF4AAAA4j9ALAAAA5xF6AQAA4DxCLwAAAJxH6AUAAIDzCL0AAABwHqEXAAAAziP0AgAAwHmEXgAAADiP0AsAAADnEXoBAADgPEIvAAAAnEfoRa396le/UmvXrlXnn3++OvbYY9X8+fPVwoUL1cjICI1WapPjSo4vOc4uvPBCtW7dOvXrX//aPxIBAIOO0Itaeuyxx9RZZ52lDjzwQNVoNNQDDzxgpr344ov+HED55PiS40yOt1WrVqkDDjhAnX322eqJJ57w5wAADCpCL2rnM5/5jLna9p//+Z/+FKB/fvKTn6hjjjnG/OcLADC4CL2ojV/84hdqzpw56p577vGnAPWxdetWtf/++/PXBgAYUIRe1MLOnTvV/Pn7qbNGzlITMmFyXI0mPnPZMA8UYJZteP1YJsbH1aQ3pBoZj3dmUo2PZmzbREONjAbra5Nsf+Eniyq9/PLL5iM3u3bt8qcAAAYFoRd9J1d4FyxYoIesMJoKfvLYqBovkCInGjqENhpqNDazXr7TENqKBNxESDXb0GluJfTWngTfl156yR8DAAwCQi/6Tj7S8Nprr+mhZqFXJo0mgmyWINxafclUHULNFWPTZ/TYRMMK0rJOPxiH84fLiLzgLFd7i/djnoeef8TfBhkP55HlzHNv6G20ppkli/WH3vvNb36j5s2b548BAAYBoRd9JV9a27Ztmz/WPPTqxNcy9EoADBazh+OB1VqPdZU2nD9x5bbIVVsTPP1tC4djzyEKxvJ42L8VkL1RveyaNdbHM6xAXaQ/VGbLli18uQ0ABgihF30jPw0lv9IQaR56Jdw1z3ayvHUlVJoddLNCbzgcTUutp0DYNttr+pcwGvTtB9Jwe6KQGvaX1XfiudtXo1v2h0odffTR6qmnnvLHAAB1RuhF38jv8MZ/lswKo6nQawfVHIkrtCK6SquXzwy9XmiMfQa4gyu9woTT8fiV4yiMxq/MhtPDsOyTdS/T2xJbf1a4zekPlXrwwQfVOeec448BAOqM0Iu+kDutyZeB4hKhN7yi6bXmwdP6GIBNQqQJldK37icctgK0WVd82azPzprtswNqkqzL7if2HCRYe1eQkyFVxsN1yXYlAn94pbdgf6iW/IyZ/KoDAKDeCL3oC7m1MJ+HhAvkSu+dd97pjwEA6orQi7644IILzK1e25ZxBTi48snFTvTDj370I7V69Wp/DABQV4Re9IV8gU2+yAYMukceeUQdd9xx/hgAoK4IveiL+fPncztXOOGFF17wb64CAKgzQi/6YuHChf4QMPg4ngGg/gi96Av5HC7gCo5nAKg/KjX6gpAAl3A8A0D9UanRF4QEuITjGQDqj0qNvsgMCRk/R9b8hhSdSNyYoifkRhkZ2x7eKKMDiRtWoF4IvQBQf1Rq9EVu6I0FOwmoA/r7u4lbGYuitzPOROitNUIvANQflRp9USz0yqToFrv2rYHD2+6aW//GrwrHbus7Oq5+LH2MyjS5whu/0pucV3rNvgVx3vS8WxMnbossz61J/+Z5htuYsV3mtWl4t1IOppkli/WH3pLXHgBQb1Rq9EVmSMi6mqlDrQm4iSunEupkdKIRBcvJST1ghUszTc/3/kXvj4fUIAhmzDu6Zo21DVZwTaxfgqY1msn0529cOBx7jlH/8njYf952hQHW2q4i/aHnCL0AUH9UavRF0dAr4U0mmRAnVzKtFoZIezwIyRYTGsNpVujNmFfE1xWFyNim5SwbE4ZXCaPRFde8/sP+svpOvDaxsN+qP/ScvPYAgHqjUqMvMkNCKvS2DqihIGCGQdOnlxsZPcpaNv9Kb3re7q70ChNOx6Nl42E0fmU2nJ61Xcv0888IvYX6Q88RegGg/qjU6Ivc0GuuVkbNDpaxz676j9nTgnkl8EXzNdQdsQBohV4tOe9EbBtGVUOHy6DfrM/Omv7sgJokgdX+Ml5O/8mQmrld4TqlW7/Pgv2ht+T1BwDUG5UafUFIgEs4ngGg/qjU6AtCAlzC8QwA9UelRl8QEuASjmcAqD8qNfqCkACXcDwDQP1RqdEXhAS4hOMZAOqPSo2+ICTAJRzPAFB/VGr0BSEBLuF4BoD6o1KjL7JDQrPf0LV/szdxgwlrGdH8xhFyA4eMx82NKZr83m4zid/QxfAh9AJA/VGp0RctQ68EyVgIte6OlppvNHHjhmahV0vcXU20XKYZQu/QI/QCQP1RqdEXhUKvfSezmMR8OnDKVeEgd0YBVs+XefXWDtAyGgXsrLuumbub6fnNndH88XAeWc5sQ0NvkzXNLFmsPww+2b8AgHqjUqMvskOCFWYNGU+Hxth84VXWaFqRq7YmePqpNxwO+zJTw2BsQm4w3QrI3qheds0a6yMWVqAu0h+cQOgFgPqjUqMvioXeOAmzXlDNCr2a/7GFIqE3Cq8SRqN1mkAaBu0opAYBWdYRDgdi4VZmia4it+wPTsg+ngEAdUKlRl9khwQrzGZ8sSwKszmhVws+TtAy9GomnI5Hn++Nh9H4ldlwehiWfbKdy3QQzgi9hfqDEwi9AFB/VGr0RcvQq0k4lPmCFgXF/NDrPdbqM70+Caz254alr3B9o6qhw6v0kwyp8e3S25F3pbdgfxh8so8BAPVGpUZfEBLgEo5nAKg/KjX6gpAAl3A8A0D9UanRF4QEuITjGQDqj0qNviAkwCUczwBQf1Rq9AUhAS7heAaA+qNSoy8ICXAJxzMA1B+VGn1BSIBLOJ4BoP6o1OgLQgJcwvEMAPVHpUZfZIYEc7OI4GYOUQtvNGHduCJJbvhg3R+iC3LntIw7umXcIa6w1A004Bo5TgEA9UalRl80DwnNA26W8kKvJgE30Vl0C+QOEHqdR+gFgPqjUqMv2g+98WmxWwGPjqsf+6HXTPcDpgTVYJ7gtr/mFsCjsqz0lXebYrnam7g9sT+f3Wewnnif/jYE88hyJvQ2zO2Rw2lmyWL9of5k/wHdeOGFF9Tll1+uTjnlFDVjxoyoLtCGoi1cuFAddNBB6sQTT1R33323f1SgbFRq9IW8yfO1CL1WCPVGR9X7F71fNcatK6qJq7Uyj4yaQGpNz2OCpx2UZTh2xTYKxrE+M7ZtdM0aNRo+HytQF+kPA6H58Qw0d/3116sFCxaom266Sf33f/+3+t3vfuc/gmHy0ksvqR/+8Ifqy1/+slq8eDHHQQ9QqdEXXYVeHWiDQBowQVH+x+yHxXDcarKMCaGJZTOF4VXCaLQt8X6jkBr2mbFtpi8rxE40oqvILfvDQJD9B3Tie9/7ngk5gG3Hjh3q6KOPJviWjEqNvmgeEtq70muu6o4eZa7khoEyK3xq7QRK09d4dMU4vmz8ymw4PWvblultyQi9hfrDQCD0ohNyhfcrX/mKPwbEvfXWW+qYY45Rf/zjH/0p6BaVGn3RVejVJBh6V0elNdQdetzkSit0xj4vq5s8Hg+Uuk87oCZJYPWvvhrSd9ifXp8Or+k+09s2kXelt2B/qD/Zh0A75DO88pEGoJnbbrtNnXfeef4YukWlRl8QEuASjme0S760Jp/hBVo5+OCD1ZtvvumPoRtUavQFIQEu4XhGu+RXGuRLa0Arl156qdq+fbs/hm5QqdEXhAS4hOMZ7ZKfJeNLSijikksuUdddd50/hm5QqdEXhAS4hOMZ7co+ZhJf2NXzyHxBs74akC1jmULLhbK+T1E2+dIud71sx1VXXaWuvPJKfwzdoFKjL6QQA67geEa7so+ZROiNBTl5zPpibRZZptPgWCUJuImQyl0v8xF6y0OlRl8QEuASjme0q/3QK5Na/LJLs9Br+ovuDCn9hL9wEy5jrd/8eo11pTg5bib5y0vzJ5ptHJVfsJF+dH+Z2xP9RKM3Gm13kbtUxn4hR5ZLPDfX7npJ6C0PlRp9IQUIcAXHM9qVfcw0D70SPFuG3iDghc3qLwx5sp54ePWGo/XHbqIzKQE5Pi7bYl+tDfowgTS53RlM8PQ7DIdjzzn+2+VhnzKPFWrNso7f9ZLQWx4qNfois+BnFOwidWliPOtKQis9+FxZjHXy6pHOnrdW6es8HOQ1BNqRfcw0D70S1pq+VxOBMCYVAKP6lBV67ToRBlJrPLUtfiA3IdQkzhbCbY1viwmk/nq466WH0FseKjX6QgpQSqJweQU4Kl7Z9DydhtTElQoRFf+66+J5V/06D4HM4xloIvuYkfdiXui1HssTBskMsf4KhN5Ass9gvMmV3qKB0oRT7nrZEqG3PFRq9EWx0BsvTlJUvf+t6+bPF05LjlvT8kVF0BuNiqndT7zY6u0J+rcKr2xnuF4zPXnyavVZuvbWWex55wTVkl/ncFuHmLwOQDuyj5lE3fDfY0FLvG3TMpaRZt6jsfd969Brv8flseS4mduaFtSGeKDMqUEBCaz2f7hj259/l8pYvZXtTdS08Epvwf7qjtBbHio1+kKKUEqicBnBn7JSBTsolFZRzZ0nn138wuHEFQyZbkal/7CAW/3Hpgf93JE4eQUnGDmpxE8aZrjdddrPO7FsdALLEXudfO28znnbOsQyj2egCY4ZFEXoLQ/vOvRF0dBrByoZ9v7H7v2vPRXGtOx5mghDpQQ8L5jG+/BaOhBK9vP7DwJjjIRbK/SGy0XrEUFAbXud1vO2XyMjc3ssXb7Ouds6xOQ1ANrR8TEj71/rvRe1AvUOA4nQWx4qNfois+CnwlgUHCVoRcEq+wpk/jzNJT9Xlhsa8wKoTLeCtyw/0ri6rdDb9jqt5+2tz56n3Su97b3Ouds6xDKPZ6AJjhkURegtD+869EVu6DVXLKIWZrPYY6PhZ7O8wKanSSDLnacFCY2JqyQSHFPbkRtAvbAYzS8BMgqS8eVyQq8/XHyd1vM2061lw/mtoGqLvU5eizYv7zVssj7drE0cSvIaAO3gmEFRhN7y8K5DX1Dw4RKOZ7SLYwZFEXrLw7sOfVFZwc+4qum1+JVdoBuVHc9wBscMiiL0lod3HfqCgg+XcDyjXRwzKIrQWx7edegLCj5cwvGMdnHMoChCb3l416EvKPhwCccz2pV7zCQ+khX+UkrWR7WCL6pmPNbyF1aarif6sq0Iv3DbbBss9pd80+TLvBlffpUvFGd98bYI2S6Hv01L6C0PlRp9IcUScAXHM9qVfczIr6TYgdEKiBLsEqEw/InBtkNfq/Xofq3+YqE3bxsszUOvlviZRRGuoxOEXhREpUZfEBLgEo5ntCvrmMkKkKESQ2/L9ei+ZJ6gy85Db87PJpqQbQVjq9/YzyH6G2DWoef3fg7SGw/nkeXMNke3erevGBfpr+4IveWhUqMvpAClSOHS01PFOON3dHul5RWKPGbbc/4k2FNyxaZfhZs/UwYyj2egiaxjxg6aKX59DAOctOB9lnqseU1ouR7zYFRbYqE3th7dMt7rReqoCZ7+TOFw7P0fBWN5PLwyLPNY6zTLrllj1V8rUBfpbwAQestDpUZfSLFMMcVM/2/dunmDkAIq/yv362NPdRV69Tbaga2a0Ntn/JnSyDyegSYyjxn9fkr9p39yQk0EAS7vP5Ptvm9arSfoy39/x0Jvgf/QFqqjYV8SRqOabwJpEKj9ix1hKBaZ2x5//vb6W/Y3AAi95aFSoy8yC75fBCd0QQrrl57WGJ+I/ueuSQEOilhQuEwR0/Pk/vkrsZwd1KLpOnBbxTJv/kx+0ZX1BrOGJwp/OOgrKrbeldJ21p1+XvErvcWXy583ezp/pmxGtgloR/YxI+9n6/1k3l9+zbDeWyl+/SmuxXoy6oGZ1GQbZD5vsURNaMKEU+sW8Ob9HC4Y9RObntwGCebLdBCObXPGcnn9DQBCb3mo1OiLzIIfFDOr6E7qgjg+aRVR/8pDQIqXjMq/4fREUTQFTv78FS6X1591IkisJyroOcJtjkJouEyTbY4Kb4F1Zz2v8TvC9UXbYEai59jx62Gtuwn7eYTDOdsij4f9521XGGATz6FVf31E6EW7co8ZOdb1Y/K4tLBGJN4vMbH3R0HN1hPrS2pTdg2KsfsLl9fL5s0vpN7Y4Tu2TbpO6vAqXdk1Rpj3fTifrheJbQ6v9Bbsr+4IveWhUqMvpAilhAVVQo0EH/1vIxi3Qk5YxLwmxStWxHQhzSpo8WWj/qxaGRbL5PS8PkN20fWDYxAY87Y5GShbrjtzG6KQLbKeY/Zy2fO2/bxFar8Fk7P7D/vL6jvv5KW17K+PZJuAdnDMoChCb3l416EvMgt+GJ68MNMYl482mLHoil+TABdOt/ox9DIjo0dZy8X7i65K5E2X0RZXPFNhzQtnZlKRbTbhtcW6s55X4+ow9Mb7s55Lx6+Hte4WTDgd4j9TEmDQrp4fM/L+0uuQ9cSb/17HwCD0lodKjb7ILPh2CDIFOyjOVijTgkAZNMlIyfAj49E8/p+/wnEdqHWYCrJV1J/uI289rZKf9B+bx/qToIxlbLP3vIJpHXym14Rd60pvk+fY2euhW7hu/kzZjGwX0A6OGRRF6C0P7zr0BQU/GdjiH1PAYOF4Rrs4ZlAUobc8vOvQFwNZ8GNXG+1mXeFsi32l1/oiCQaO7D+gHRwzKIrQWx7edeiLhQsX+kPA4ON4RrsIvSiK0Fse3nXoi/nz56sXX3zRHwMG1wsvvKAWLFjgjwHFEHpRFKG3PLzr0BfHHnuseuyxx/wxYHA9/PDD6vjjj/fHgGIyQ6/5CFX8s/3yxVLru50V8D52lVqn+dWXJl9mbSbxBVW0h9BbHkIv+uKCCy5QDzzwgD8GDK4f/ehH6qKLLvLHgGJyQ+/oaOrnDyvPi4mfLhRdbQehtyuE3vIQetEX69atU6tWrfLHgMF19tlnq+985zv+GFBMbujV4VB+2SXIiHbYzPw5QbNMdOtu+UJsOJ91ZdZeNvarMZlXb+M/E+mFcW++rG0wv0Sj5/d+RtEbD+eR5RLbOCi3F68LQm95CL3oi1//+tfqgAMO8MeAwTV37lz16quv+mNAMRLyUsIrotFPGEoo9CbFr76G02WZMBzKcvGQnLWsHarzmODpp95wONw+MzUMxibkBtOtgOyN6mUH9PbidUHoLQ+hF30jV8h+8pOf+GOaKd7W//qlZV6FsLX7+7Z8Xg3l+Y//+A+1cuVKfwwornno1fygGgRXCYKxMqMfzw6iUT20l43VVd2iq705pF9TE+N9xvuKQmrYX7BdtkSNHJTbi9cFobc8hF70zRNPPKGOOeYYf0wLi2ykJ8UvcdVDhFdEOpEo6Bge733ve9XTTz/tjwHFSchLSYVDLwyaSYm6Fdas2DLZoVeW7aSODvvtxeuC0FseQi/6qtFoqG3btnkjLUJvcAIwLSyg1pVeKa7+497DfF4NvbNp0yZ13nnn+WNAe2bOnKl27drlj/liAVakP66QrCfxZXJCrz8cLhv2mVcjfaamJmpl2Ef+7cBjNVLqXOJ5DcrtxevikksuUdddd50/hm4QetF3+++/v3r55ZcTBdBvQUFOFfagEEehN/Yns8nmBdMuquFwzjpMAQ+myzzWScIsy+fVhs6vfvUrdeCBB/pjQPuWLFminn/+eX8MyHfZZZep7du3+2PoBqEXfSc3qTABIhEok0xYDANxOvSa5f3HW14lCNcVvzKStQ4TbIP+sv5MGAu3ifDdqj8MpHnz5pkvYwKd+spXvqJuvvlmfwzId+ihh6o333zTH0M3CL2oBfkz34HzZqnjj/9GZuiNB8XsK72hFuE5wOfV0C65wiuB93e/+50/BejMSy+9pA466CB/DMh2yy23mN+1RzkIvaiNl/7rajVlygx1w5Yt/hSLdRXX/uyXHXrtz6yFjzULv3xeDW3YvHmz+YsEV3hRlhtuuEF94Qtf8MeAuDfeeEO9//3vV7t37/anoFuEXtSOfLnt6KOPVg8++KA/Begf+Vky+ZUGvrSGXpAvRH7pS1/yxwDPM888o973vvfxsYaSEXpRS0899ZQ655xzzJfc5F+51esjjzyiXnjhBX8OoHxyfD388MPmeJPfkZYbT8jv8PKzZOglueL7zne+U11//fXqueeeUzt37vQfwTCR+nPfffepyy+/XC1dulS99dZb/iMoC6EXtSa/6nDnnXeq1atXq+OOO04tWLBALVy40Pp4AY1WTpPjSo6v448/Xl100UXm1sLcaQ1V+b//9/+qNWvWqFNPPVXNmjUr8xiluduC+nPyySere+65xz8qUDZCLzBAduzYoW688Ub1F7ow7q1PjAetWKH2Wb5cjXz962pkyxY18tRTauRnP1MjL76oRnbtMm9w86+My/Qnn1QjmzerkauuMssdNDampu67r/rwokXqpptuMv0DQBnKqlezdL16p17uKF2v9tH16hPUK3SI0AvU3MuvvqouveEGdcgHPqAOXLpUTbnoIjVy331qZOdO7yTRbXv9dTWyfbuasnq1OnDJEnXIccepL+gTyquvvaYfBYDiqqpXc3W9OlL3/z90vbpR16vXqFcoQI4hADUkX2RYftZZavrcuWrWxRerkUcfTZ8AetEeeUTN1CeUaXPmqGV6/c8++6yeCgD5+lmv9vHr1Wlnn029QlNyzACokSeeeEItXLRIzXnPe9Q7tm5NF/kK2zu2bFGzjzpKfeyUU8yXCwHAVqd6tYeuVzN0vTpB16vHn3xSTwHi5DgBUAO/1+0jq1apeStWmD/fJQt6X9v3v68O1Nv18XPPNdsJYLjVvV4tGBtTp+h6Bdjk+ADQZ99ev958g3ePdevSBbxGbY/bb1d77LWXWnfXXXoMwDAalHq1p1+v1lOv4JPjAkCfyH12jv3kJ9WMz30uVbBr2/7wBzXj4ovVcYsW6TEAw2JQ69U7db36OPUKmhwTAPpAboIwdcYMtee//Vu6UA9A23P7djVt333VY489pscAuGzQ69V0Xa+mU6+GnhwLACp25/r16qC//Es18rvfpYrzQLXXX1fzP/xh9b2NG/UYABet1/VqviP16kBdr+743vf0GIaRHAcAKvSNa69VB3760+mCPMDtnWNj6pvXX6+HALjkGgfr1fxPfUp987rr9BCGjex/ABX5x1tuUfMuuyxVhF1o+3/+8+qf167VQwBc8A2H69X8Sy5RN1Cvho7sewAV+Ko+gcw8//xU8XWpzfzsZ9WVt9+uhwAMsjVDUK/21/XqX6hXQ0X2O4Aeu+Laa9VsR6+YJNvsz31OfX18XA8BGETDVK/m63r1L9SroSH7HEAP3bZ+vZrt2GfiWrXZY2NqLV9uAwbOrUNYrw7T9WoD9WooyP4G0CPyMz9z5VvPenjY2pwPfUg9/vjjegjAIBjmejWfejUUZF8D6JG9Z8wY/J/56bT99rdq+uzZegjAIBj2erUP9cp5sq8B9MDCT35STRnQH3Ivq02791710cWL9RCAOqNeKTVT16u/pV45TfYzgJJ9Z/16NW+QbtXZw7b/hRequ/i8HFBbcrMc6pXXDlq9Wm2kXjlL9jGAko2MjKSK6dC2t99We06ZoocA1BH1ymrUK6fJPgZQorFVq9TUdevSxXSI27TbblOfOu88PQSgTs6gXqWa1KuzqFdOkv0LoCRPPPGEOnTFilQRpSl1yPLl6umnn9ZDAOqAepXfjqBeOUn2LYCS/M2iRWqP7dtTBZSm1B7btqlPLF2qhwDUAfUqv+2p69XHqVfOkX0LoATPPPOMmvOe96SKJy1q+x55pNqxY4ceAtBP1KvWbQb1yjmyXwGUYMlZZ6m9tm1LFU5a1PbavFmNrVyphwD0E/WqdZN6tZx65RTZrwC69Oqrr6qpc+emiiYt3faeNUvt3LlTDwHoB+pV8Ua9covsUwBduv6GG9T0iy9OFUxauk2/4AJ10y236CEA/UC9Kt6mUa+cIvsUQJf+/AMfUCOPPpoqmLSM9tBD6t0nnKCHAPQD9aqNpuvVEdQrZ8g+BdAF+aLDQaeemi6WtNy2YMkS9fzzz+shAFWiXrXf/ox65QzZnwC6cOONN6ppF12UKpS0/Dbt/PPVrbfeqocAVOkG6lXbbSb1yhmyPwF0YeHJJ6uR++5LFUpak3bPPepjS5boIQBVol510KhXzpD9CaALU2fNUiM7d6YLJS2/vfqq2mfuXD0EoErUqw6arlfTqVdOkP0JoENPPvmkOmxsLF0kaS3bocuXmx/IB1AN6lXn7U+oV06QfQmgQ5s2bVL76mKYLJC01m3WqaeqrVu36iEAVaBedd7mUK+cIPsSQIeuuOIKtefXv54qkLTWbY+vfU19/eqr9RCAKnyNetVx25t65QTZlwA69Penn65GtmxJFUhagbZxo1o0NqaHAFSBetVF0/Xqk9SrgSf7EkCH/kr+VPjUU+kC2fM2oUZGRtXIpDVtclxPa6SH69oefVR9bMUKPYRBNzmpD0T03QMP+AM5SqlXpraMZLREPSrSBqFOBU3Xq49Srwae7EsAHZr/7nerkZ/9LF0ge90m9Imiodv4ZDRtkE4g0p59Vh181FF6CL01oRqZIUVaQz/aLulvVOlDT5tU46MjatQb0ezHMshx29E6UcTs2UpNm6bUt77lT0gopV4NWp0pq1GvnCD7EkCHZs+fr0ZefDFdIHvadNAdlasqE/pffQIy0+TKbxRkwhOT/BvOYy+bsUw4T0Xtl79Ucw4+WA+ht7zQ2+hJ0kyG3hYIvT21fr1Ss2YpNWOGUtOnp8NvKfWqZej1a8y47Gu/vsh/zs2+t8Zl3mRf9jzJdTR7LK+Wmfqnx/Ux2nybCzTqlRNkXwLo0N4zZ6qRXbvSBbKXzQ6yDV3MdYIIpweFPRy2Q64/3V42OPnICSUWjitoO3ea3wxFrxUIvfq4GJUrtHZQkQXsoBF2EFzN9QJv/PHklV5v3d48Qf926E30oY/BgvEZOebN0+8t/QaTZofft98uqV7ZdSazSc3R+1IfD2bczJ8c95eP9SXB1ep3XNetYJmmj+mWV8uCdesDLpy300a9coLsSwAdOmzhwnRx7HWTgm8X+FYnE3v+cDhxEjHj+rEgHFfU5hz+Xb1ePUzrWSseer1gYgRhNxg3jwdh1g62zT7ekPWY7lMfd16vfuC1NmxCwosffGXbaZ21KVPi4/KRh0ajpHoVBMlkC//TLKHXriXJcavW2HXKnm7G7dbqsZxaFuu/+/Zn+vXDYJP9CKBD1V/plRNI8oTjF3W7wCeHzQnJOvmkTgbJE1MFjSsnFbGvtiZaLNTawTgZlO3xVsHWf8wE58RHGexpZp3Jjzok14t2HXCAfm/pN5i04Ervtdcq9fvfV3ml164lRUNvMB4cn4l6lPdYanua1bkuGvXKCbIvAXSo8s/0ShEPr6j4LfiIg13gY8XePwlM2Ms2uToSTutx4zNyFSkQJPXxEl3JFXawFXYf9mP5oXdS/qrgX7UNmfX4Qdf/M3Ts8VR/aEfyM70Sdm2VfqZX78Ls8YJXYv3jo/VjTWpZy21to1GvnCD7EkCHDqr61xskSEjAtafJCUCnkfzQq5ssJ1dIdJgIp/X7M73PPqsW8G3oChB6h8WcOd5HGZJhN1BKvWoZJDsMvckaZI83e0xa08/06vFgvm4a9coJsi8BdOiv5T72Tz6ZLpA9aXLyyCrgwUlEHpc//el5ksXejNsnnmA5md9fJpxeUXvsMfXRM8/UQ+it/oRePt5QvX//d38gRyn1ytSSoG4kmt5vXV3plfAa9peoSc0eM31mPJbsv5tGvXKC7EsAHfrEsmVqZPPmdIGktW4bNqgT+bH3ChQIkr0Ivf5j0RfVvD4khHhTko/rOSTYjCav/qIs1KsuGvXKCbIvAXTo8iuvVCNXXZUukLTW7atfVWuuuUYPobeCsJndTObsOPTKoqNeX+bB5HJ+sDXr0tP5ybK+ol510ahXTpB9CaBDmzZtUjPk1p56mNZe2+fUU9XWrVv1EIAqUK86b9QrN8i+BNChp556Sh2+YkWqQNJatz/RJ99nnnlGDwGoAvWq80a9coPsSwBdmLrvvmrk9ddTRZLWpL3yitpnv/30EIAqUa86aNQrZ8j+BNCFv1q0SI1s354ulLT8tm2b+uulS/UQyrR+/Xp1/PHHq4Vy563gc7JD0OT5yvPesGGD/0ogD/Wqg0a9cobsTwBduOmmm9Teq1enCyUtt+193nnqtttu00Moi7yeY2Nj6uGHH1a7d+/2pw4Heb7yvE877TS1bt06fyqyUK/ab9Qrd8j+BNCFHTt2qEOXLk0VSlp+O2TxYvXzn/9cD6EMcoVXAi+UWrZsmdq4caM/hiTqVfuNeuUO2Z8AuvTnH/iAGnn00VSxpGW0hx5S7z7hBD2Essif9uVKJ5T66U9/qj74wQ/6Y8hCvWqj6Xr1P6hXzpB9CqBL4zfeqKZfdFG6YNJSbfr556ubb71VD6Es8pnWYftIQx55HeT1QD7qVfE2U9erW6lXzpB9CqBLr732mtp7zpxUwaSl2ztmzlS7du3SQyiLfJkLEV6P5qhXxdve1CunyD4FUIKlZ5+t9tiyJVU0aVHbY+NGdfqqVXoIZSLkxfF6tLaEetWy7aXr1aeoV06R/QqgBM8++6yaddRRqcJJi9qMd71LPffcc3oIZSLkxfF6tEa9at1mUa+cI/sVQEk+esopauT7308VT5pud9+t/va00/QQykbIi+P1KGYh9Sq/6Xr1EeqVc2TfAigJt/nMb9zGs3cIeXG8HsVQr/LbEdQrJ8m+BVCiFeeeq/a8/fZUER3mNuXmm9VZF16oh9ALhLw4Xo/ixqhXqTZT16uV1Csnyf4FULI99tpLjfzhD6liOpTtrbfUXlOn6iH0CiEvjtejPdQrq+l6NYV65SzZxwBKdueGDWr2xRenC+oQtnmrV6uNmzbpIfRKbsibHFejjQl/cFT5g9lk3pGGsmeZaIw0WWZCNRLz1wWhtz133HUX9cpv77zwQrXxX/9VD8FFso8B9MBfLlqk9ty+PVVUh6lN2bZNfXzpUj2EXsoNeRMNNTo+6Q+2CKgSekdHw5AsckOv7lfWOULodQb1Sqmpul79LfXKabKfAfTItH33VSOvv54qrkPRXnlF7bPffnoIvZYOeXIVVkJpoo2Oq0l5zPyb4F8Vtq8IR6HXXmZSjY/LRP3vKKHXJcNer2ZSr5wn+xpAjzz22GNq/w9/OF1gh6Dt96EPqSeffFIPodeyQ54VSq2POeQK54k+ttD84w2EXtcMc72aPzpKvRoCsq8B9NC6jRvVvmNjqSLrcpt1+unqu1u26CFUIR3yml3pzWEHY/n4gh4m9A4fqVczhqxezdX16l+pV0NB9jeAHvv69dermZ//fKrYuthmrF6tvnHTTXoIVckMeTrENvzP806ON5Q/mC9xNVgCr/RL6B0+Vw1RvZqu69XXqVdDQ/Y5gApctXatmv7Zz6aKrkttn1Wr1NV33KGHUKXMkDfR8ANrMpw2/0xvxLta7E3KWobQ6zKpV9Mcr1ezdb26lno1VGS/A6jINbffrmZ/7nOp4utCm716tfonTiB9QciL4/Uoh8v16sCLLlLj1KuhI/seQIW+MT6u5jn2mbn9Tz9d/U/+RNg3hLw4Xo/yuFivDjzjDHXtjTfqIQwb2f8AKvbdjRvVAR/6kBr57W9TBXmg2iuvmOexgS+B9BUhL47Xo1zfcahevVM/j/XcfGJoyXEAoA8ef/xxNW32bDVy773p4jwIbds2NX2//fiZnxog5MXxepRv0OvVNF2vZlCvhp4cCwD66K8WLzafhx15++1Uoa5le+stNffCC9VHuXNRbSxcuFDt3r3bHxtu8jrI64HeWDiA9eoQXa8+Qb2CJscEgD67c+NGteeUKWrkttvSRbtO7eab1V5Tp6q7Nm3SY6iL448/Xj388MP+2HD76U9/qj74wQ/6Y+iFQalXs3S9eoeuV5uoV/DJcQGgJs447zx1yPLl5qMDyQLe13b33Wa7Pn3hhXoMdbNhwwZ16qmn+mPDbcmSJWrz5s3+GHqprvVqL12vjtTb9VnqFRLk+ABQI08//bT62NKlat8jj1RT9Mk7WdCrbHvpMDXrXe9SHz/tNPXMM8/oKairtWvXqmXLlqmHHnpo6D7qIM9XrvCecsop6s477/Snogp2vRrpc70a0fVqhq5Xf0e9Qg45TgDU0I4dO9QZn/mM2nvWLDX9ggvUiA4zqSLfi6bDwz7nnaf2njlTrVi1Sj333HN6KgbBxo0b1QknnGA+0ypf5hqWJs9XPtLAFd7+6We9munXq+XUK7QgxwyAGtu5c6e65ZZb1J/rMHPIkiVqn/PPVyP33KNGXn01fQLopL3yivdLDPKnylNOUUfo8HDbbbepXbt26UcBoLiq6tW+ul69e/Fi9R7qFdogxxCAAfH888+rW2+9Vf2NnEzmzlV/esYZap9TT1UjX/uaGtm4UY08+qgaefZZNfLLX6oRffIxJwn5V8Zl+mOPmT8Bjnz1q2a5w5cvNz/j8/GlS82J4+c//7m3IgDoUrJeSb2Z3kG9mqnr1QF6uaP08jN1vTqReoUOEXqBASafW9u6dau64uqr1aKxMfX3K1aow446Su138MFq2qxZ6k8XLjT/yrhMl8cX63blNdeY5fjcG4CqFKlXU/W/c/X4oXr6iWeeqZbrea6hXqEkhF7AUW+/rdQZZ3j/AgAw7Ai9gKP+6Z+UmjpVqW9+058AAMAQI/QCjpLAO6Lf4fIvAADDjtALOCi4yhuEXq72AgCGHaEXcFAQeIPG1V4AwLAj9AKOsa/yzpoVhV6u9gIAhhmhF3CMBNwDDlDq4IO9wCv/vvOdXO0FAAw3Qi/gkB//WKl58+R2tN64hF4h4/vvr9QDD3jjAAAMG0Iv4LAg9AIAMOw4JQIOI/QCAODhlAg4jNALAICHUyLgMEIvAAAeTomAwwi9AAB4OCUCDiP0AgDg4ZQIOIzQCwCAh1Mi4DBCLwAAHk6JgMMIvQAAeDglAg4j9AIA4OGUCDiM0AsAgIdTIuAwQi8AAB5OiYDDCL0AAHg4JQIOI/QCAODhlAg4jNALAICHUyLgMEIvAAAeTomAwwi9AAB4OCUCDiP0AgDg4ZQIOIzQCwCAh1Mi4DBCLwAAHk6JgMMIvQAAeDglAg4j9AIA4OGUCDiM0AsAgIdTIuAwQi8AAB5OiYDDCL0AAHg4JQIOI/QCAODhlAg4jNALAICHUyLgMEIvAAAeTomAwwi9AAB4OCUCDiP0AgDg4ZQIOIzQCwCAh1Mi4DBCLwAAHk6JgMMIvQAAeDglAg4j9AIA4OGUCDiM0AsAgIdTIuAwQi8AAB5OiYDDCL0AAHg4JQIOI/QCAODhlAg4jNALAICHUyLgMEIvAAAeTomAwwi9AAB4OCUCDiP0AgDg4ZQIOIzQCwCAh1Mi4DBCLwAAHk6JgMMIvQAAeDglAg4j9AIA4OGUCDiM0AsAgIdTIuAwQi8AAB5OiYDDCL0AAHg4JQIOI/QCAODhlAg4jNALAICHUyLgsGENvbt371br169XZ555pjriiCPUzJkz9WsxQqP1vMmxJsecHHt33XWXORYB1AOhF3CYPgcPndtvv10deuih6tOf/rT6wQ9+oCYnJ9WuXbv8R4HekmNNjrn777/fBN9DDjlEffvb3/YfBdBPhF7AYcMWek888UR1+eWXq7feesufAvTXm2++aY7Jk046yZ8CoF8IvYDDhin0nn322Wrbtm3+GFAvmzdvVitXrvTHAPQDoRdw2LCEXrnCS+BF3UnwPfnkk/0xAFUj9AIOG4bQK5/h/dKXvuSPAfV26aWXqnXr1vljAKpE6AUc5nrolW/Gy5fW+AwvBsUbb7yhDj/8cH7VAegDQi/gMNdDr/wsmfxKAzBIxsbG1MaNG/0xAFUh9AIOcz30yk9C/fCHP/THgMGwfft288VLANUi9AIOcz30yk0A5DdRgUGyY8cOdeSRR/pjAKpC6AUc5nrolbtfceMJDJqdO3eqWbNm+WMAqkLoBRzmeuiV274Cg4hjF6ge7zrAYYReoJ44doHq8a4DHEboBeqJYxeoHu86wGGEXqCeOHaB6vGuAxxG6AXqiWMXqB7vOsBhhF6gnjh2gerxrgMcRugF6oljF6ge7zrAYUMbeifH1Whjwh8cVf5gNplX9zM6nrjJxURD9z+qkpO9+RvK7nKiMdJ8HUACoReoHu86wGFDG3p1YA1C7EQjHlBTJMSONlRDt3iQHdXTc0Kvnh6EakHoRbsIvUD1eNcBDhu+0DuhGnqaTI+10XE1KY+ZfxNMiB1XE/YVYT2tMT6hxsPQay0r8+sZ7SvIhF60K33sAug13nWAw1w/r2YHh0kdVv2rtn5AbcoPvZPWvJPjDR12pZ+cK71mPgnY3noIvWgXoReoHu86wGHDF3qbXenNEYTeMCzrfxvBeLPQq8nnfvUwoRftSh+7AHqNdx2AgZUZHHQobfhJ1btiawbzhaFXBkf1ssHyBUKvJoFXtoPQi3YQeoHq8a4DMLAyg8NEww+gwZXbQPPP9JrpMhz+YoMdetOf6Y14V5cJvWgHoReoHu86AAOL4IBBxbELVI93HYCemZxMXVctFcEBg4pjF6ge7zqgIPm8p5yo2v8ztvz52/ozedYNDwZU/msiHw2wb/jQm+dNcMCg4tgFqse7DijE+9ym3JSg6S8BZHIr6EaavSbJ0NsbBAcMKo5doHq864AizC1pG2oi9kWngB9qJ+Sx4GeyEl+gCpdJBGDTX87PatmP+S12RbWbZf1QGj7edpDXcl+TRN9mxdHzNr92kLg0HJ9WfNvkcWAQcewC1eNdBxQgocy7apl1BdO74mkHXe/P/sF4Xuj1lvOyXrJf+zGP99NYdp+dLuuHSmsG83ibwbf5a5K1Tf7zDsKy94CWfi5Ft43ggEHFsQtUj3cd0EriSmY80Ip0yIxPswKfPZwKfy3Y83ezrHk+yWWznkMTLV+TJqE3ua4uto3ggEHFsQtUj3cd0IIJdLErjckQZge6gB36koHPG073m8Vbl5wgveYFwm6WNSEztWzW1dp8rV+TZqFXNkFvjz+zPdzuthEcMKg4doHq8a4DmkoGR6uF4Swe6Dzdht5ovWHYs66IdrNsu8EyLeo/1cJ+m4feaHu8vsKw3HXo9eaNwrcvs9+AbIP/2nTDXKWOvx6p7SikpO0prR/0QvrYBdBrvOuAZuywaDPT7SCbDDj2NBlOh97cvkVWSLPn72bZbj/ekLduMz14ni1Cb7C+8cS2lPHxBtmOxMxyNTn/uUn/Gc+nXbLtsZUkn3PVSnpe6AlCL1A93nVAE7E/vcfYoc4LZXYQjH/5yg4/yeEojJmrt8FIMliGVxHLWNbbdvt5xbe3uWKvSavQ62+zbFesr/a2LTs4SB/WuuT5+8ubvsxrYa9Dti2x7xLzyLaan2Yz8+n5s7YnFXr95fwNsfuNXhdvnnB9pl9re0yfDbOvg+XCfqxtKPK8UC+yrwBUi3cdkMeExXhQs3lhxQ9B+gTW0OEkDB6xUCSP22E1EciCZRIBJRZk7PUEM3WzrN46Ey6DebJCXJbCr0kwrPs2K008b+FvfyInasW3TR7PYofNcFjWF714VjCWbfNfv8RVYnkdZdQ8l/SGxsX69+n+zLoT/Up/ZlSWsZ6ft613RNtjXqNg38b3YbBt8fXmPC/UTt6xC6B3eNcBXUsGSlQlNziEYVJCYBT8THjVy3gtHQ7DMBrwQ6sXRoNomiMj9Ab9xdfrtSAMp/u1wmoq0EbPJQy9WqvnhfqRfQWgWrzrgK4RevulWXCYaOjwNx5dYY0H1/av9LYfeuP9Zi4fhnOfWf/VbYXeQs8LtUPoBarHuw7omkOhV0KWfi7RVcNkCwJVPcg25ZIAaW9v7LmNqoYOxd4+i4dDCZPh8/V3ajxY6vmzPnKR8drZx0SsX+ux+FVa2Q5rewqE3qLPC/Ui+wtAtXjXAQ5z/bxKcMCg4tgFqse7DnAYoReoJ45doHq86wCHEXqBeuLYBarHuw5wGKEXqCeOXaB6vOsAhxF6gXri2AWqx7sOcBihF6gnjl2gerzrAIcReoF64tgFqse7DnDYUIberN8abnIr45QOl58Yz5qn17+V20X/8jwzn1c325y/rLlZSOGdYMnYH/bvHxdX1r4opx95HgCqxbsOcJjr59XM4JAR5grdUS3Q0fI6CLUTrOsgN/T2RlehN5ZyJXT28yYphF5gUPGuAxxG6PUEodX8Oyp3QGsSWlqE3qw7toXT9Hh8HVZAMuGtoce9eaW/cDlrfVn9e9uk+w2mh/PHA1jmsnkynqcnr0+97UFwNc8l6j8KtAWWjU3XLexHL5u1PYl1ibz9Yf/HROYJ12H6LWlfJJ5jp6RPANXiXQc4zPXzamZwkEATBJWg+UHGBKEiYTBneS8sBcvLbYGtsJe5jkTQCsOSTI/+TC/hygzLrZOt7Quny7JhGEusN+gzb9k8sT5teX3K9DZCb96ynWxncgbdhwm4ib7ktTejiefmheQ7om2Tx1vti9h6c17zLshxBaBavOsAh7l+Xs0MDonAY/PCT9YjlibLCxNq9Xq9ZgUhf5n4OqyAlApRUXAKglYY2gJBuIstK5PTASx32Ty5zzO/z3C9HWxPME9H2xlbIOpD/o32hddMX5l9trcvRLz/9HPshvQJoFq86wCHuX5ezQwOuWHOCzFNA5YovHz+ld5onjaDVuLKZfZVR5meEcDyls2T+zzz+rSeb2xZmb/V9ljLdrKdsRni68jcn8nnZtZ5dbRcrM/sfdF0Xwf9dIHQC1SPdx3gMEJvXLeh1zym1xlc+ZPPqXrZSYKQnqaX+3E3odcf9vrXLZgYW1bmyQ5gmcvmiT0Xe5m8PvXzCoOfbH8w3f68bpFl87ZTL5v1umdsp/3UYn1Zj8m+jqbLNrW5L2LrTe7raP5OSb8AqsW7DnCY6+dVgkO1orCNbnHsAtXjXQc4jNCbI+sqp2mOhbqSnyehtzyyHwBUi3cd4DDXz6sEBwwqjl2gerzrAIcReoF64tgFqse7DnAYoReoJ45doHq86wCHEXqBeuLYBarHuw5wmOvn1ZkzZ6pdu3b5Y8Bg2Llzp5o1a5Y/BqAqhF7AYa6H3iOOOEJNTvJzAhgsO3bsUEceeaQ/BqAqhF7AYa6H3hUrVqj777/fHwMGw7333qvOOussfwxAVQi9gMNcD7133XWXOvPMM/0xYDAsX75cbdq0yR8DUBVCL+Aw10Pv7t271SGHHKLefPNNfwpQb/IZ9MMOO8wfA1AlQi/gMNdDr1i7dq364he/6I8B9XbppZeqO++80x8DUCVCL+CwYQi94qSTTlKbN2/2x4B62rBhgzrllFP8MQBVI/QCDhuW0CtWrlxJ8EVtSeA999xz/TEA/UDoBRw2TKFXnHzyyeqyyy5Tb7zxhj8F6C/5DK98pIErvED/EXoBhw1b6BXr1q1Thx9+uBobG1Pbt283v4kqNwMAqiDHmhxz8rNk8isN8qW1O+64w38UQD8RegGHDWPoFfKrDhs3blTnnHOOuQmA3P1KbvtKo/W6ybEmx5z8Di8/SwbUC6EXcJg+BwMAAI1TIuAwQi8AAB5OiYDDCL0AAHg4JQIOI/QCAODhlAg4jNALAICHUyLgMEIvAAAeTomAwwi9AAB4OCUCDiP0AgDg4ZQIOIzQCwCAh1Mi4DBCLwAAHk6JgMMIvQAAeDglAg4j9AIA4OGUCDiM0AsAgIdTIuAwQi8AAB5OiYDDCL0AAHg4JQIOI/QCAODhlAg4jNALAICHUyLgMEIvAAAeTomAwwi9AAB4OCUCDiP0AgDg4ZQIOIzQCwCAh1Mi4DBCLwAAHk6JgMMIvQAAeDglAg4j9AIA4OGUCDiM0AsAgIdTIuAwQi8AAB5OiYDDCL0AAHg4JQIOI/QCAODhlAg4jNALAICHUyLgMEIvAAAeTomAwwi9AAB4OCUCDiP0AgDg4ZQIOIzQCwCAh1Mi4DBCLwAAHk6JgMMIvQAAeDglAg4j9AIA4OGUCDiM0AsAgIdTIuAwQi8AAB5OiYDDCL0AAHhqe0r81a9+pdauXavOP/98deyxx6r58+erhQsX6pP4CI1WapPjSo4vOc4uvPBCtW7dOvXrX//aPxIHm356AABAq90p8bHHHlNnnXWWOvDAA1Wj0VAPPPCAmfbiiy/6cwDlk+NLjjM53latWqUOOOAAdfbZZ6snnnjCn2MwEXoBAPDU6pT4mc98xlxt+8///E9/CtA/P/nJT9Qxxxxj/vM1qAi9AAB4anFK/MUvfqHmzNlXnfXu6E/OjQn/wclxNToyqsYn/XE1qcZH/XHzmP2nans+TR4fHddLAJ3bunWr2n///Qfyrw36bQEAALS+nxJ37typ5s8/QP3P40fUaJhYJ1QjCLBBsI1ScDz02qF2oqFG7PGWoVf6sgJ2INlPO2SdqQ4x6F5++WXzkZtdu3b5UwYDoRcAAE9fT4lyhXfBggWZ4XRyckI3GfAeG28EV3GbhN5W41kk4CZC6kQjIwgXJesk9DpLgu9LL73kj9UfoRcAAE9fT4lz5sxRr732WmbwDAXBNQyTnV7pnVCNzABs9WdGo2Uk/IYfnfC3b3J8VD8+qqc1dI/eeDiPLGe2s6Ea9jSzZLH+UG+/+c1v1Lx58/yx+tOHGgAA0Pp2SpQvrW3bts0bKRJ69eCEudqbCL1BiDTNCq8iFnrzmeDpLxgOm/AabFO0ThNyg+mJ/s2ya9bobQoCbGJbW/WHgbBly5aB+XIboRcAAE9fTony01DyKw2hZuHUfswEx/F4kGwWals9HgjnkzAaXXE1gTQRqMNQLHRYjz6H7DPbGIVYL6h7wy37w8A4+uij1VNPPeWP1RehFwAAT19OifI7vPGfJZOwmfwimz+eCK7eRwSah97wM7lFQ69mwul4dMU5HkbjV2bD6cn+5Yr1Mh2EM0Jvof4wMB588EF1zjnn+GP1RegFAMBT+SlR7rQmXwZK84JucCU0N1jKeIvQa8Kn30+UP/M+0+szy/j9CrOeYHtGVUOHV+krGVJlPFiX+VyuLJcReov2h8EhP2Mmv+rQT08++aTatGmTuuKKK9Q/nH66+pszzlAL3v1uNWf+fDV15kw19/Dvmn9lXKbL459ctkxdeeWVZrlBuFoNwA2t6tWfLlwY1quD9fS/04+fSr1CiSoPvXJr4UH+sX8gIFd677zzTn+sGjt27FA33nij+ouTT1Z7z5qlDlqxQu2zfLka+frX1ciWLWpEnxRGfvYzNfLii2pk1y7zBjf/yrhM1yedkc2b1chVV5nlDhobU1P33Vd9eNEiddNNN5n+AaAMZdWrWbpevVMvd5SuV/voevUJ6hU6VHnoveCCC8ytXoFB96Mf/UitXr3aH+udl199VV16ww3qkA98QB24dKmactFFauS++9TIzp3eSaLb9vrramT7djVFP5cDlyxRhxx3nPqCPqG8Kr+sAgBtqKpezdX16kjd///Q9epGXa/ML0EBLcgxVCn5Apt8kQ0YdI888og6ThfcXnnmmWfU8rPOUtPnzlWzLr5YjTz6aPoE0Iumn9dMfUKZNmeOWqbX/+yzz+qpAJCvn/VqH79enXb22dQrNCXHTKXmz58/kLdzBZJeeOEF7+YqJXviiSfUwkWL1Jz3vEe9Y+vWdJGvsL1jyxY1+6ij1MdOOYXP0wFIqVO92kPXqxm6Xp2g69XjTz6ppwBxcpxUauHChf4QMPjKPJ5/r9tHVq1S81asMH++Sxb0vrbvf18dqLfr4+eea7YTwHCre71aMDamTtH1CrDJ8VEp+fUCwBVlHc/fXr/e9LXHunXpAl6jtsftt6s99tpLrbvrLj0GYBgNSr3a069X66lX8MlxUSlCL1zS7fG8W7djP/lJNeNzn0sV7Nq2P/xBzbj4YnXcokV6DMCwGNR69U5drz5OvYImx0SlCL1wSTfH88MPP6ymzpih9vy3f0sX6gFoe27frqbtuy9fTAWGwKDXq+m6Xk2nXg09ORYqlRkSzI0botv/ivCuapXx7gqXWqfctKLgXd1SEjeqgHs6Db13rl+vDvrLv1Qjv/tdqjgPVHv9dTX/wx9W39u4UY8BcNF6Xa/mO1KvDtT16o7vfU+PYRjJcVCp3NA7Opq4k1nVoVeTgJtYaVfbQeh1Xieh9xvXXqsO/PSn0wV5gNs7x8bUN6+/Xg8BcMk1Dtar+Z/6lPrmddfpIQwb2f+Vyg29OhzKLXmDjGiHTRmW5UwLJpplGuGti+VWvuF81pVZe9nodr95tySWq72JWxH782Vtg7mFsJ7f3H7YHw/nkeUS25i3XXn9of5k/7XjH2+5Rc277LJUEXah7f/5z6t/XrtWDwFwwTccrlfzL7lE3UC9Gjqy7yuVGRLCK6I6jPqBT0KhNyl+9TWcLsuE4VCWi4fkrGXtUJ3HBE8/9YbD4faZqWEwNiE3mG4FZG9UL7tmjbWNVqAu0h8GQjuh96v6BDLz/PNTxdelNvOzn1VX3n67HgIwyNYMQb3aX9erf6FeDRXZ75VqHno1P6gGwVWCYCwH6sezg2h0ddRe1lxJtVp0tTdHGF7jfcb7ikJq2F+wXbbYNsos0VXklv1hIMj+K+KKa69Vsx29YpJssz/3OfX18XE9BGAQDVO9mq/r1b9Qr4aG7PNKZYaEVDj0wqCZ1OxKbzg9O/TKsp2ESBNOx6P1xsNo/MpsOD0Myz7Z7mV6/bFtzwq3Of1hIBQJvbetX69mO/aZuFZt9tiYWsuX24CBc+sQ1qvDdL3aQL0aCrK/K1Uk9Op4mPq4gixnWjCxSOj1h8Nlwz7zPtPrk8DqX301ZF1hH6OqocOr9JMMqTIerUtvT+J5hVd6C/aH+pN92Iz8zM9c+dazHh62NudDH1KPP/64HgIwCIa5Xs2nXg0F2deVahUSgEHS6njee8aMwf+Zn07bb3+rps+erYcADIJhr1f7UK+cJ/u6UoReuKTZ8bzwk59UUwb0h9zLatPuvVd9dPFiPQSgzqhXSs3U9epvqVdOk/1cKUIvXJJ3PH9n/Xo1b5Bu1dnDtv+FF6q7+LwcUFtysxzqldcOWr1abaReOUv2caUIvXBJ3vEs04MiOvTt7bfVnlOm6CEAdUS9shr1ymmyjytF6IVLso7nsVWr1NR169LFdIjbtNtuU5867zw9BKBOzqBepZrUq7OoV06S/VspQi9ckjyen3jiCXXoihWpIkpT6pDly9XTTz+thwDUAfUqvx1BvXKS7NtKEXrhkuTx/DeLFqk9tm9PFVCaUnts26Y+sXSpHgJQB9Sr/Lanrlcfp145R/ZtpTJDr/ld3OB3a6MW/qZueCvfMshv+ka/4xuSbWj2273NpH5nGMNCjtPAM888o+a85z2p4kmL2r5HHql27NihhwD0E/WqdZtBvXKO7NdK2SEhreyAm0MCbiKk2je0aBuhd2jZx/OSs85Se23bliqctKjttXmzGlu5Ug8B6CfqVesm9Wo59copsl8r1X7otaaZcNnQ4/7VYCtoZt61TZbNvHob3frXG9X9+vNl9WPulKbnN3dZ88fDeWS55HZZ6yzSHwaX7Ffx6quvqqlz56aKJi3d9p41S+3cuVMPAegH6lXxRr1yi+zTSgUhIVuB0Gs9Hl6dTVy5LXLV1r7lbzgcu2IbBWMTcoPpVkD2RvWya9ZY22UF6iL9YaAFx/P1N9ygpl98capg0tJt+gUXqJtuuUUPAegH6lXxNo165RTZp5XqOvTaYVGHXQmrEiJjGdKf3lQYXiWMRus0gVSuypoWhdSwv6y+E9s10YiuIrfsDwMtOJ7//AMfUCOPPpoqmLSM9tBD6t0nnKCHAPQD9aqNpuvVEdQrZ8g+rVQQErJVd6VXmHA6Hi0bD6PxK7Ph9DAs+2Tdy3QQzgi9hfrDQJPjWb7ocNCpp6aLJS23LViyRD3//PN6CECVqFfttz+jXjlD9melug69pXym1yeB1b/6aphQHfQzqho6vEpXyZAq4+G6ZNvyrvQW7A+DS/btjTfeqKZddFGqUNLy27Tzz1e33nqrHgJQpRuoV223mdQrZ8j+rJSEhI4lwiXQb3I8Lzz5ZDVy332pQklr0u65R31syRI9BKBK1KsOGvXKGbI/K0XohUvkeJ46a5Ya2bkzXShp+e3VV9U+c+fqIQBVol510HS9mk69coLsz0p1FXqBmpHj+bCxsXSRpLVshy5fbn4gH0A1nnzySepVh+1PqFdOkH1ZKUIvXCLH8766GNrFkVaszTr1VLV161Y9BKAKmzZtol512OZQr5wg+7JShF64RI7nPb/+9VSBpLVue3zta+rrV1+thwBU4WtXXEG96rDtTb1yguzLShF64RI5nke2bEkVSFqBtnGjWjQ2pocAVOHvTz+detVp0/Xqk9SrgSf7slKEXrjEhN6nnkoXyDLa5LjXf7KNT2bP31HTfY3qPieyHutxe/RR9bEVK/QQgDI88IA/kOOv5KMNvapX0szPgFq1qjGRPV87zdRB3W/WY1U2Xa8+Sr0aeLIvKyVvBMAVprD/7GfpAllGq6TY9zH0PvusOvioo/QQqhT7TXPTrN8q75j8nnqTfkwYSv4GO8o2e7ZS06Yp9a1v+RMS5r/73b2rV/4+jqb5taXb/6TXJfRSr5wg+7JSeaE3fsMH+45q8RtWTIw3udlEX8id1jLuACcFoNmNMZrhp9kGhjleX3wxXSDLaM2KffIxe1yG9bE3YocbfTiF8+p3Uzh9VI5T+3HrsV6faH75SzXn4IP1EKohtVTv12Rt8a/O9bTkEHorsX69UrNmKTVjhlLTp6fD7+z583tUr3L+8xzUonBak/riH4fxx7Lmz+nDrEuPy3Yk+y6jUa+cIPuyUnKgpuiDNXZrXxMks64atLjDWr/ImzVxxih6K+RM8noQegeCKby7dqULZBlNinhe8U4+Zo+bYb1dwRUW/z9g4bwShu3HZN7gZJV8LHbCKrnt3Gl+MxTVMFd4c+qKueiQqsF6fhMsdMuqz3ILd/O41OrklV4/YAePm3nt0Nusf3Rj3jz93tJvMGl2+H37baX2njmzN/WqWa2ym11f5JjTx6P3mARZa3n7sWTfeTUqqHtBLSu7Ua+cIPuyUnJQpuiDdTT3T2PRld7wz3JSuGUZq4CHt/41w/58wby+2NVkv8jmzZs9PS90J0K6bFuT/s1tiPX8wUkgtV3muVm3W7bWWaQ/VMfsB/m3Fy0o4nbT+zx6zDoR2OPNHtNHSOwxfWRFV2iSj8m4Pq70wRdNK7fNOfy7eh16mNbTZmpXbo1N8gJp6tbrYR3yA2usFtr9J5cPAnBQn/zlk/XW7y+57bT225Qp8XH5yIM+pajDFi7MfB923aTG6P2X+VjYkvXErjdNak3T+mUtl6x7PWh/pl8/DDbZj5WSE3e2oDD6zQ6aYbHUw0Gh1Qd4ZuiNTbfCqEy3irQJimvWZM+buHIrBdkazWT684t8OJyzLeYEEkzP267wOSeeQ6v+UClzrNbySm/Bx6RJ4NCHT/oxCcQ5J6IyGldOqqP3bVRTWjBX/5PzSr0J6qA3bIdiU5uD0Ju1vD0tc1u8+k8Z694BB+j3ln6DSQuu9F57rVK//32FV3rNeHA+D2qIBNRgWvKxvGWC6X7fyfXYNSr1WMmNeuUE2ZeVkgO6CAmaXlFtM/RqJgRab56gEMeLtCdrXpkWK745y8bI9phtkxNCVNDz+g/7y+q7zecW6w+VMvuhjp/pzXvMnHjsPvt4pZfPyFVHHwOpoGmmBbUkXk+iafHm1Rk7AAei0GuWt/4jb9jrlwCcfNzvkzrWneRneiXs2ir/TG+shiTrS5PmHyNmuGn9svqPzdeDRr1yguzLSknhTMkogtHV1SahN1wmXnCjwimF1A+Msfk1s86jsueVx2Khs9gVCBNO5bNr/sx52xKbnrVdy3QQjq2/+XOLT0eVTBjoy683JAKpPgbCeZPLJcflyq4+XsywHG/yHPThlvmYPjbD5cpufBu6QlGNzCR1yKqh6VBq8wJqvCYSeutgzhzvowzJsBvo/a83WDUpa1pefUnWGnu8Vf3Km6/sRr1yguzLSmWGXs0USjn5+i0qfonQK4+bgukVSW/+hmrYH28I+xk104PiHF+H7rPJvOYzZsFjYXXX6zfrzuG/wcNNz+k/GVIzt8s6o8Q+ulGgP1TH7Isnn0wXyDKa3t9Ni7h93Ixb8yaXS/XjX5WR5fr56w2PPcbv9FbI1DSrrsSY2uLXGVPHgpqbpXnozVzenmbWlezfq+15m4di/v3f/YEcHxkb6129kmZqTVA/smqIXV+sMCzNPufGlgvqVTAtp0al6lzJjXrlBNmXlZIDFXCFKbybN6cLJK1127BBncRJpEL2RQOLCaESIIL/sPsXFOz5Yv+hbxF6g+XDGfz16kDiTUk+Lt0n1oeeOHHZMupVp4165QTZl5Ui9MIlcjzvedVV6QJJa9ne8dWvqmuuuUYPoUrJv6pJS19h9YNpOE8QaEWr0Cvs5fV0frKsFq648krqVYdN6tXV1KuBJ/uyUlLgAFfI8byv3NpThmlttTmnnqq2bt2qhwBUYdOmTdSrDhv1yg2yLytF6IVL5Hg+dMWKVIGktW5/ok++//t//289BKAK/+t//S/qVYeNeuUG2ZeVIvTCJXI8y283ym842gWS1qK9+qqaPneuHgJQJepVB4165QzZn5Ui9MIlcjx/ZNEiNbJ9e7pQ0vLbtm3qb5Yu1UMAqkS96qBRr5wh+7NShF64RI7nm266SU350P3pQknLbXufd5667bbb9BCAKt2o69W01asz35e07Ea9cofsz0rlht7wZ3O8VuR3ZyfGS/rGb2LdRdefTb7FnPwNSrhKjpUdO3bof6MCSWvRfq/UrHdtVz/72X/rMQBVknq1YMmS7PcmLbMdsnix+vnPf66HMOhkf1ZKQkJa9s/dpH9Gx6aXKetnbiT0xvqS9dvb0w5C7zAJjmcTeh95JFUsaRnt0v9We+71hrr5Zj2C0q1fv14df/zxauHCheb4HIYmz1We84YNG/xXAc28+7jjqFdF209/qo784Af1EFwg+7RSUqCSWt1RLOvuaOG05Lg1zftBdW+aNyknKGeF3kY0ntm3lj09HnrteeznmLms2Q79WgTT+e3K2pP95P2r1D78ybBYe8f/Z16vmTP1CEolf4I944wz1MMPP6x2797tT3WfPFd5zqeffrpat26dPxV5brjpJupVwTb9vPPULXy0wRmyTysVhASbhF4rS8ZJcE0ETW/UCrASFsN5oqu04e17Zepkk/iY8fGG8IfU89bfbLtylg2fZ872mulh0O3majOqYofeqXPmpAomLdFu0W2P183rNXu24mpvieQK79jYmD82vJYtW6Y2btzojyHLa6+9Rr0q2N6h/3e+a9cuPQQXyD6tVFbolXCYutI7OaEm9KRUIA7njV+1jd9lyAqR/rSmn9GNhU1PEGLz1t90u/zQG9+m+Hbkbq/VqR3aUU+y/7x/lVpy9tlqry1bUkWTZrVpvzevVdC42lse+fO+XO0cdg899JA64YQT/DHkoV61bnvo/zydtnKlHoIrZL9WKggJcRIU7YAnVzn9gJi4Wpp1pVcCZBRqM66QZoTamCahN3f9zbbLutIbbVckd3sJvQPHDr3PPvus2veoo1KFk+a3W/RJZM+dYeCVxtXe8sjnWofpIw155DWQ1wLNUa9atxnvepd67rnn9BBcIfu1UtmhV5PApx/zrnwW+PyrCZd6XMJqbNlR1dBhUWazlwsDaVb4TazbtFj4bGe6FXplzJ5HNzNbzvYSegeP7EPvX/OP+ugpp6iR738/VTxpuk17W+255+/N1V15veTfvffWJ5YZ+kF0LTgWwWtR1Ed0vdqDepXd7r5bffS00/QQXCL7tlIUI7gkGXqfeuop9WdjY+kCOuzt35XaY6+31Be/+JIe0+MyUbv+eqX22Uepf9ePozvU1givRTHUq/x2yPLl6plnntFDcIns20pRjOCSZOgVK849V73j9ttTRXSY25Sbb1ZnXXihHvJQBspHbY3wWhQ3Rr1KtT11vTrDqldwh+zfSlGM4JKs0Cv22GsvNfKHP6SK6VC2t95Se02dqocilIHyUVsjvBbtoV5ZLaNewR2yjytFMYJL8kLv+rvuUgd87nPpgjqEbd6FF6qNmzbpoQhloHzU1givRXu+S70K2wxdr9Yn6hXcIfu4UhQjuCQv9Iq/XrRITdm+PVVUh6lN2bZNfXzpUj0URxkoH7U1wmvRPuqVbrpefTijXsEdsp8rRTGCS5qFXjFt333VyOuvp4vrMLRXXlH77LefHkqjDJSP2hrhtejM1CGvV1Nz6hXcIfu6UhQjuKRV6H3sscfU/h/+cLrADkHb70MfUk8++aQeSqMMlC+3tlo/hZi6qU6S/3OKqd8Xl98lj/2Wus/MH/1Eo5CfaWy6jgpwnunMMNerubpePfHEE3oILpN9XanMYhT73dqotVc447+PW0wnyzSR8Tyybk5RTMnbhp6Qfez9a/7J9P9u3KhmDNnPAu1z+unqu1u26KFszV4vdCY4FlOsm+RMNFrUFKlhow3V0M2eT34zfDTrtuhmfv1Y7PfFCb2DbN0Q1qtZLeoV3CH7u1KZxcgUziZ3TCukBiEx9Twy7g5XGKF3EBQJveLL11+v9vn851PF1sW2z+rV6ms33aSH8pFJypeurVJD4v8JN83UKP1Y3o169PQJ+4qwntYYn7BqmbWszK9ntK8gE3oH3zDVq7m6Xv1ji3oFd8g+r1RmMWoSes0dzfwKag9LkU0V8SAk+oU4EN7ZzPyJzlvGezhaJnb3M2t7zDqD9YR9Nj9hRNN16G1E49l9NVmHFXrteVrerc5sx2h01TnntUX35PX1/jX/NHXN2rVq1mc/myq6LrVZq1apf7zjDj3UXJHXC+0JjsU4+Y93dl3MFNQwa97J8YaujTn/gQ/ns2spodcFVw9BvZqzcqW6vkC9gjtkv1cqsxhJ4dTTTUALWzzwNRo6sMZCXRTkJACPjt/RMvTawXZSF3G7UOsHw/7DqxbWNNGymDd7Hnl95a4je9tEuH2x52mdlGKvTzdXm9GK7GPvX/NPS/94++1qjqM/DTR79Wr1zwVPIEVfLxQXHIsRqSHJeqRbs/8Eh7UjCMv6X/Mf91ahV/PrFKHXHVKv9nW0Xu1/0UVqnMA7dGTfVyqzGMVCWgZ53P4ShS6u6c/KWiHRLsRaGHZNP17h95a3lgmHo2n2n+yMzPVaMp5HcALI6yt/HfHtCE9Yse1PPmY9z6znj9LJ6+79a/4p5Bvj42p/xz4zt9/pp6tvtvEnwnZeLxQTHIsxuhY0wlohV2zNYD6rhpnapI9Vb/kCoVeTeifbEatpfZD5WqAj1zhYrw484wz1TzfeqIcwbGT/VyqvMOeHXr/YTljzJOc3Vxiujofe8HEJj4liHT5uh16ZrIt8wwq2pt94QW9azDOeR7hMXl+567C2LQzCcbK90XTrpCTbEeuT0NsrnYRecefGjebXDUZ++9tUQR6o9sor5nnc1eaXQMgk5cusrbp2eKVA6kNU60x9SdQqw65hMhzWTjv0Wssmao15TG9HbFIfEHrL5VK9OkAfx+v/9V/1GIaRHAeVyg29ero8ZrfR8R/rQpu4qukX2/gVTinmdoCVAh091gg/3hBMywiWIlbkPfYyUThtcsII5k0tk9dXk3VY2xabRzczW2x9Etj9q8aJExGht3fktff+Nf+05fHHH1fTZ89WU+69N12cB6DJjSfkd3jzfpasmU5eLzQXHIvgteiFQa9X03S9mtlhvYI75FioFMUILukm9Ab+avFi83nYkbffThXqWra33lL7Xnih+usu7lxEGSgftTXCa9E7g1ivDtX16hPcaQ2aHBOVohjBJWWEXrF+wwa155Qpasptt6WLdo3alJtvVntNnaru6vLe9JSB8lFbI7wWvTUo9WpfXa/eoevVpi7rFdwhx0WlFi5c6A8Bgy84nss6x46dd576s+XLzT3g7eLd93b33Wa7PnXhhXqse2SS8hH0IrwW1ahzvfp/9HZ9tqR6BXfI8VGp+fPnqxdffNEfAwbXCy+8oBYsWGCGyzzHPv300+rvli5Vs488Uo1s3pwu6FW2DRvUvu96l/r7005TzzzzjJ5SDjJJ+eQ/YLt37/bHhpe8BlxcqU7d6tUMXa/+ruR6BXfIcVKpY4891tzfGxh0Dz/8sDr++OPNcC9C3I4dO9SZK1eqqbNmqTkXXKBGHnooXeR70X76UzXnvPPU1Jkz1adXrVLPPfecnlouQm/55FiUY3LY/VQfvx/84Af9MVSln/Vqpq5Xe+t6dUaP6hXcIcdMpS7Qb4YHHnjAHwMG149+9CN10UUXmeFehridO3eqW265RR11wgnqsCVL1JTzz1cj99yjRl59NX0C6KS98or58+Q79InjTxYvVu/RgeG2225Tu3bt0o/2BqG3fBs2bFCnnnqqPza8luj3yObNm/0xVK2qeiX/MX+XX69u7XG9gjvkGKrUunXr1Cr9vzFg0J199tnqO9/5jhmuKsQ9//zz6rpbb1Uf1CeTaXPnqnnyeToddEa+9jU1snGjGnn0UTXy7LNq5Je/VCP65GNOEvKvjMv0xx4zfwIc+epXzXKy/LT99lMfXLpUjesTx89//nNvRT1G6O2NtWvXqmXLlqmHHnpoqD7qIM9VrvCecsop6s477/Snot/Kqlczdb06QC93lF5efnbsRF2v5D/mVdUruKPyU8+vf/1rdcABB/hjwOCaq4v4q6++aob7FeLkc2tbt25VX776anXS2Jj6uxUr1KFHHaXmHnyw+TPjny5caP6VcZn+d2eeqU7W83z5mmvMcv363Buht3c26jBxwgknmM+1yhe6hqHJc5WPNAzyFV7Z9n/4h39QBx544FDtO5p3/B500EHqxBNPVHfffbd/RKAX+nLqkStkP/nJT/wxLeumDlk3f0iYGM+aJ3HDidJ10b88z8zn1c025y/b8U0pMvaHda+LNpS1L3q9T9v3H//xH2rlypX+GCGuXbxegEc+DnDSSSepNWvWmI9M/epXv/IfwTB56aWX1A9/+EP15S9/WS1evFj97ne/8x9Bmfpy6nniiSfUMccc449pGWEwfovdLDoIFQjGtZIbenujq9AbS7kSOvt5V7f6hd73vve95lvLAUJce3i9AGU+h/q+972PL18hRr4UePTRRxN8e6Bvp55Go6G2bdvmjbQIvVm36Q2n6XEz76jclliCkRWQTHhr6HFvXukvXM5aX+ZtgM026X6D6eH88QCWuWye3NCb12d0C2XvuUT9R4G2wLKx6bqF/ehls7YnsS6Rtz/s/5jEbg1t+i1pXySeY7/JD52fd955/phHby7awOuFYffHP/7RBJu3337bnwJE3nrrLXNxUI4TlKevp579999fvfzyy14gCoJO0IIgFAtgk2pcB9Ew7PnzmLCVFZBMv0FYkunRn+klXJnhiUYsrIbTZdkwjCXWG/SZt2yeWJ+2vD5lehuhN2/ZTrYzOYPuwwTcRF/y2pvRxHPzQvId0bbJ4632RWy9Oa95n8mfHuUzd0n66aANvF4YdvKFbvliN5BHvqyXvMCC7vT11CM3qTABIhGYkmJXEMM/s+sgZIXe6IqjFZBSISoKTkHQCkNbIAh3sWVlcjqA5S6bJ/d55vcZrreD7Qnm6Wg7YwtEfci/sf+c6BaE4XSf7e0LEe8//Rz7bd68eebLmEl6c9EGXi8MM/kc72GHHeaPAfkOPvhg9eabb/pj6FbfTz3ymaYD581Sxx//jczQKyEoClP5V3qjedoMWokrl9lXHWV6RgDLWzaP9Nki9Mb7tJ5vbFmZv9X2WMt2sp2xGeLryAzMyedm1nl1tFysz+x90XRfB/30iVzhlcCb9xkrQlx7eL0wzO655x71xS9+0R8D8l166aVq+/bt/hi6VYtTz0v/dbWaMmWGumHLFn+KRcKSuernXfmTz6l62UmCkJ6mg9aPuwm9/nB4dTGYmAh+maFXxrKWzRN7LvYyeX3q5xUGP9n+YLr9ed0iy+Ztp142K4RnbKf91GJ9WY/Fr9LKNrW5L2LrTe7raP6qyU8JyV8ksq7wBvQmow28Xhhm1157rbrsssv8MSDfJZdcoq677jp/DN2q1alHvtwmH+x/8MEH/SmIwjaqJj9LJr/SUOQzVYS49vB6YZhdddVV6sorr/THgHwcK+Wq3annqaeeUuecc475kpv8K79b+Mgjj6gXXnjBn6Pmsq7mmtZZeCX0VkOOr4cfftgcb/I70nLjCfkdXvtnyZrRuxht4PXCMCPIoCiOlXLV9tQjv+ogt5NcvXq1Ou6449SCBQu4Sw2tJ02OKzm+jj/+eHXRRReZWwsHd1orSneDNvB6YZgRZFAUx0q5OPUAJSDEtYfXC8OMIIOiOFbKxakHKAEhrj28XhhmBBkUxbFSLk49QAkIce3h9cIwI8igKI6VcnHqAUpAiGsPrxeGGUEGRXGslItTD1ACQlx7eL0wzJoGmcQvAIW/QZ/1y0DB76xnPJZ5EyFb0/XEfxc9+7fU/ZbxW+/Nf3XI+8358GfbA3JDo6zfjS9CtivVoRsIveXi1AOUQNd+tIHXC8MsP8jIjXjswGgFRAl2iVAY3sWy7dDXaj26X6u/WOjN2wZLy5/aTNwlVITr6AShFwVx6gFKQIhrD68XhllekMkKkKESQ2/L9ei+ZJ6gy85Db85dP03ItoKx1a+sK7yK7G+AWYee37vTpzceu9Jstrmhg7w1zSxZrL86I/SWi1MPUAJdT9EGXi8Ms2ahNwiaKRLsgvAWtCDcpR5rHuZarsc8GN3+PRZ6Y+vRLSPUFrmpkgme/kzhcLhuMzUMxvJ4eGVY5rHWaZZds8b6SIYVqIv0V3OE3nJx6gFKoGs/2sDrhWGWG2QmGukrsJMTaiIIcBkB04iFuwJarSfoy/8YQrMrvVkK3Uk07EvCaBTSTSANQ3UUUsPtzdz2+PO319+yv5oj9JaLUw9QAkJce3i9MMzyg0z2Z21NQGsWOBOhr7UW64kFSC8wtgq9YTA2fdl95zPhdDz6fG88jMavzIbTk9sgwXyZDsKxbc5YLq+/miP0lotTD1ACQlx7eL0wzJoGGQl1+g0SXJ3MDXu2RFAtpNl6Yn1JQC5wpdfuL1w+7zO9PgmsdviObdOoaujwKl0lQ6qMB9ttPsqR2ObwSm/B/uqM0FsuTj1ACXRNRRt4vTDMCDIoimOlXJx6gBIQ4trD64VhVkmQiV3ltJt1ZRW1R+gtF6ceoAT6XII28HphmBFkUBTHSrk49QAlIMS1h9cLw4wgg6I4VsrFqQcoASGuPbxeGGYEGRTFsVIuTj1ACQhx7eH1wjAjyKAojpVyceoBSkCIaw+vF4YZQQZFcayUi1MPUAJCXHt4vTDMCDIoimOlXJx6gBJ85CP+AArh9cIwyw0y5mfGolvyiuhOZ1Xx7s6WWqfcSKLZjSaaSdw8AsURestF6AVKMHeuUq+95o+gKXmd5PUChlXT0Ds6mri7WNWhV5OAm1hpV9tB6O0YobdchF6gBB/+sFL/5//4I2hKXid5vYBh1TT06nAot8kNMqIdNmU4vMlEMNEs0zC3CpbpcnvdcD7ryqy9bHQL3rzbBMvV3sTtgf35srbB3NZXz29uCeyPh/PIcoltzNuuvP6GGaG3XIReoAQnn6zU/ff7I2hq+3alFi/2R4Ah1Cr0mjDqBz4Jhd6k+NXXcLosE4ZDWS4ekrOWtUN1HhM8/dQbDofbZ6aGwdiE3GC6FZC9Ub3smjXWNlqBukh/Q47QWy5CL1CCG29U6uqr/RE0dcUVSt1yiz8CDKHWoVfzg2oQXCUIxnKgfjw7iEZXR+1lw6upfouu9uYIw2u8z3hfUUgN+wu2yxbbRpkluorcsr8hR+gtF6EXKMFvfqPUAQf4I2iKzz9j2BUKvZqEVgmDZlKzK73h9OzQK8t2EiJNOB2P1hsPo/Ers+H0MCz7ZLuX6fXHtj0r3Ob0N+QIveUi9AIlufxypb7/fX8EmbZtU+orX/FHgCFVNPTqeJj6uEJ4VTSYWCT0+sPRFdVget5nen0SWP2rr4asK+xjVDV0eJV+kiFVxqN16e1JPK/wSm/B/oYZobdchF6gRH/+50r913/5I4h58EGljjzSHwGGGEEGRXGslIvQC5Ts8MOVuucefwSGXOEl8AIeggyK4lgpF6EX6IEvf1mp/ff3vrR1331K/eIXw/M5Vnme8rNk8isN8vzlM7x8pAGIEGRQFMdKuQi9QI+88or3KwWLFin1F3/hhT+5E9mIfte52uT5yfOU3+GVnyWT58+X1oA4ggyK4lgplz5NAQCAqhBkUBTHSrkIvQAAVIggg6I4VspF6AUAoELf+ta31KWXXuqPAfkuueQSdd111/lj6BahFwCACn3/+99XX/jCF/wxIN9ll12mtsu3glEKQi8AABXatWuXOlx+2xBo4dBDD1VvvvmmP4ZuEXoBAKjYZz/7WfXtb3/bHwPSbrnlFnXBBRf4YygDoRfIEdxK07p7ZkFy69Dg1p328KCSW5sGtwpNt/Zfn4LMLVCjW6oCLvnjH/+ojj76aPXWW2/5U4DIG2+8od7//ver3bt3+1NQBkIvkMm75/3oqA6+ze5Nn8mFoGvzQm/l98In9MJxEmze+973qmeffdafAij1zDPPqPe97318rKEHCL1AliBwTY6r0VSA9UPthDwWXPG0w1mTK72mP3+ZZJi2H/Nb7CpqN8smr9a2FeSLhF7vPwmxdcZCa9ZrlvW6Wo+NJ0NvN88BqCcJvosXL1Zf+tKX1A9+8AP1wgsv+I9gmMh+v++++9Tll1+uli5dyl8AeoTQC2SYaAQhLyvwBeEsCmTeRyESAc8skhwOgmGyX/sxj2xDvM9Ol/XDojWDebxwaMx6DZLS25AOvfHXLL4N2c+pvOcA1Nu2bdvUokWL1IIFC9TChQv1sS/HP20Ymuxv2e8nn3yyuueee/wjAr1A6AWSEld344FWZAS82DQZzgi97f653p6/m2XN80kum/Uc8viB0y/QdmsWvOPb3OLxrOdX6nMAAAw7Qi+QYEJu7ApiMlzJeBSKPfaVSvvxaDjdbxZvXVGw9IJeN8ua8JhatsjV20CReb11dxp6M5+fHXS7fg4AgGFH6AViksHRamHoknnKDr3ResMQ1yoUhpov231gJPQCAAYfoRewxYKaxUy3g2wiwMWmyXA69Ob2LbJCnT1/N8uW9PGGXobezOdX6nMAAAw7Qi9gMV+OykxRySu5cmU1CmHxL1XJ4xmhNxHSzNXNYCQZ+kzIk3WUsay37b39IltyHf54uF3x7Tdi251c3ps///F2nwMAYNgReoGACYtBUEwzQdOEMD/ANSS0STBLhi95PCv0amEglWYFVc2EuNhjiaDYzbJhCPVbW2HRW7b1xwi8dXrr0M/Z/DxZsJ3J7dFSV3ftbdTL85NlAIASEXqBtmUEOAAAUGuEXqBthF4AAAYNoRdom0OhN/aRiayW/3EPAAAGCaEXAAAAziP0AgAAwHmEXgAAADiP0AsAAADnEXoBAADgPEIvAAAAnEfoBQAAgPMIvQAAAHAeoRcAAADOI/QCAADAeYRe1N7u3bvV+vXr1ZlnnqmOOOIINXPmzIzb5dJo5Tc51uSYk2PvrrvuMsciAGAwEXpRa7fffrs69NBD1ac//Wn1gx/8QE1OTqpdu3b5jwK9JceaHHP333+/Cb6HHHKI+va3v+0/CgAYJIRe1NaJJ56oLr/8cvXWW2/5U4D+evPNN80xedJJJ/lTAACDgtCLWjr77LPVtm3b/DGgXjZv3qxWrlzpjwEABgGhF7UjV3gJvKg7Cb4nn3yyPwYAqDtCL2pFPsP7pS99yR8D6u3SSy9V69at88cAAHVG6EVtyDfj5UtrfIYXg+KNN95Qhx9+OL/qAAADgNCL2pCfJZNfaQAGydjYmNq4caM/BgCoK0IvakN+EuqHP/yhPwYMhu3bt5svXgIA6o3Qi9qQmwDIb6ICg2THjh3qyCOP9McAAHVF6EVtyN2vuPEEBs3OnTvVrFmz/DEAQF0RelEbcttXYBBx7AJA/VGpURsEBwwqjl0AqD8qNWqD4IBBxbELAPVHpUZtEBwwqDh2AaD+qNSoDYIDBhXHLgDUH5UatUFwwKDi2AWA+qNSozYIDhhUHLsAUH9UatRGbnCYHFejjQl/cFT5g9lkXt3P6HjiJhcTDd3/qEpO9uZvKLvLicZI83UACYReAKg/KjVqIzc46MAahNiJRjygpkiIHW2ohm7xIDuqp+eEXj09CNWC0It2EXoBoP6o1KiNdHCYUA09TabH2ui4mpTHzL8JJsSOqwn7irCe1hifUONh6LWWlfn1jPYVZEIv2pU+dgEAdUOlRm1kB4dJHVb9q7Z+QG3KD72T1ryT4w0ddqWfnCu9Zj4J2N56CL1oF6EXAOqPSo3aSAeHZld6cwShNwzL+t9GMN4s9GryuV89TOhFu9LHLgCgbqjUqI3M4KBDacNPqt4VWzOYLwy9Mjiqlw2WLxB6NQm8sh2EXrSD0AsA9UelRm1kBoeJhh9Agyu3geaf6TXTZTj8xQY79KY/0xvxri4TetEOQi8A1B+VGrVBcMCg4tgFgPqjUqM2CA4YVBy7AFB/VGrUBsEBg4pjFwDqj0qN2iA4YFBx7AJA/VGpURsEBwwqjl0AqD8qNWqD4IBBxbELAPVHpUZtEBwwqDh2AaD+qNSoDYIDBhXHLgDUH5UatZEODnJDiYwbRcjtgrNuTGHIzSXsm1h0yNzYIn77485uWFHS9pTWD3qB0AsA9UelRm1kBgcJuIm0KbcKzg+gJYbe2Eqk34zbGFeG0FtnhF4AqD8qNWojOzjYtw+W0eg2wxJ+ZRnTwoAaD4dZ80yOj+o+RvU0mU/Pn3c740SyNsv5G2L3G0wTMk+4PtOvtT2mz4Yej5YL+7G2ocjzQr3IvgIA1BuVGrWRFxzssBkOx0KpHYytcJi4SixhUkZNME0E2pSM0Cv9mXUn+pX+zKgVyIW3rXfEQ28YXGU7oyvWwbbF15vzvFA7hF4AqD8qNWojNziEYVJCYBT8THjVy3gtHQ7DMBrwQ6sXRoNomiMj9Ab9xdfrtSAMp/u1wmoq0EbPJQy9WqvnhfqRfQUAqDcqNWqjWXCYaOjwNx5dYY0H1/av9LYfeuP9Zi4fhnOfWf/VbYXeQs8LtUPoBYD6o1KjNpoGBwmQ9hfJJECaK6He1dCGDsVenoyHQwmT3jy6+YEzHiz1/HZQDcT695qdgWP9Wo/Fr9LKdljbUyD0Fn1eqBfZXwCAeqNSozYIDhhUHLsAUH9UatQGwQGDimMXAOqPSo3aIDhgUHHsAkD9UalRGwQHDCqOXQCoPyo1aoPggEHFsQsA9UelRm0QHDCoOHYBoP6o1KgNggMGFccuANQflRq1kRkcMn4vdyTrd3XzdLj8xHjWPL3+rdwu+pfnmfm8utnm/GXNzUIK7wRLxv6wf/+4uLL2RTn9yPMAANQblRq1kRkcMsJcoTuqBTpaXgehdoJ1HeSG3t7oKvTGUq6Ezg77KgWhFwCGBZUatdFu6DX/jsod0JqElhahN+uObeE0PR5fhxWQTHhr6HFvXukvXM5aX1b/3jbpfoPp4fzxAJa5bJ6M5+nJ61NvexBczXOJ+o8CbYFlY9N1C/vRy2ZtT2JdIm9/2P8xkXnCdZh+S9oXiefYKekTAFBvVGrURmZwkEATBJWg+UHGBKEiYTBneS8sBcvLbYGtsJe5jkTQCsOSTI/+TC/hygzLrZOt7Quny7JhGEusN+gzb9k8sT5teX3K9DZCb96ynWxncgbdhwm4ib7ktTejiefmheQ7om2Tx1vti9h6c17zLshxBQCoNyo1aiMzOCQCj80LP1mPWJosL0yolSBsmhWE/GXi67ACUipERcEpCFphaAsE4S62rExOB7DcZfPkPs/8PsP1drA9wTwdbWdsgagP+TfaF14zfWX22d6+EPH+08+xG9InAKDeqNSojczgkBvmvBDTNGCJwsvnX+mN5mkzaCWuXGZfdZTpGQEsb9k8uc8zr0/r+caWlflbbY+1bCfbGZshvo7M/Zl8bmadV0fLxfrM3hdN93XQTxcIvQBQf1Rq1EbVodc8Zq76eVf+5HOqXnaSIKSn6eV+3E3o9Ye9/nULJsaWlXmyA1jmsnliz8VeJq9P/bzC4CfbH0y3P69bZNm87dTLZr3uGdtpP7VYX9Zjsq+j6bJNbe6L2HqT+zqav1PSLwCg3qjUqA2CQ7WisI1ucewCQP1RqVEbHQeHrKucpjkW6kp+noTe8sh+AADUG5UatUFwwKDi2AWA+qNSozYIDhhUHLsAUH9UatQGwQGDimMXAOqPSo3aIDhgUHHsAkD9UalRGzNnzlS7du3yx4DBsHPnTjVr1ix/DABQV4Re1MYRRxyhJif5OQEMlh07dqgjjzzSHwMA1BWhF7WxYsUKdf/99/tjwGC499571VlnneWPAQDqitCL2rjrrrvUmWee6Y8Bg2H58uVq06ZN/hgAoK4IvaiN3bt3q0MOOUS9+eab/hSg3uQz6Icddpg/BgCoM0IvamXt2rXqi1/8oj8G1Null16q7rzzTn8MAFBnhF7UzkknnaQ2b97sjwH1tGHDBnXKKaf4YwCAuiP0opZWrlxJ8EVtSeA999xz/TEAwCAg9KK2Tj75ZHXZZZepN954w58C9Jd8hlc+0sAVXgAYPIRe1Nq6devU4YcfrsbGxtT27dvNb6LKzQCAKsixJsec/CyZ/EqDfGntjjvu8B8FAAwSQi9qT37VYePGjeqcc84xNwGQu1/JbV9ptF43OdbkmJPf4eVnyQBgsBF6AQAA4DxCLwAAAJxH6AUAAIDzCL0AAABwHqEXAAAAziP0AgAAwHmEXgAAADiP0AsAAADnEXoBAADgPEIvAAAAnEfoBQAAgPMIvQAAAHAeoRcAAADOI/QCAADAeYReAAAAOI/QCwAAAOcRegEAAOA8Qi8AAACcR+gFAACA8wi9AAAAcB6hFwAAAM4j9AIAAMB5hF4AAAA4j9ALAAAA5xF6AQAA4DxCLwAAAJxH6AUAAIDzCL0AAABwHqEXAAAAziP0AgAAwHmEXgAAADiP0AsAAADnEXoBAADgPEIvAAAAnEfoBQAAgPMIvQAAAHAeoRcAAADOI/QCAADAeYReAAAAOI/QCwAAAOcRegEAAOA8Qi8AAACcR+gFAACA8wi9AAAAcB6hFwAAAI5T6v8H6nIQQfEQdFUAAAAASUVORK5CYII=)"
      ]
    },
    {
      "cell_type": "markdown",
      "metadata": {
        "id": "pgjIbgfQrOQt"
      },
      "source": [
        "# Coleta e preparação dos dados"
      ]
    },
    {
      "cell_type": "markdown",
      "metadata": {
        "id": "kpI9opRGhO6n"
      },
      "source": [
        "## Importação de bibliotecas"
      ]
    },
    {
      "cell_type": "code",
      "metadata": {
        "id": "zZQ9wV4yVxqj"
      },
      "source": [
        "# import pandas e numpy\n",
        "import pandas as pd\n",
        "import numpy as np"
      ],
      "execution_count": null,
      "outputs": []
    },
    {
      "cell_type": "code",
      "metadata": {
        "id": "qDEYguJznFfH"
      },
      "source": [
        "# import google.colab.drive\n",
        "from google.colab import drive"
      ],
      "execution_count": null,
      "outputs": []
    },
    {
      "cell_type": "code",
      "metadata": {
        "id": "YgYtY43bWVIY"
      },
      "source": [
        "# import os, glob, zipfile e hashlib\n",
        "import os\n",
        "import glob\n",
        "import zipfile\n",
        "import hashlib"
      ],
      "execution_count": null,
      "outputs": []
    },
    {
      "cell_type": "code",
      "metadata": {
        "id": "9rcTAsi7l_u5"
      },
      "source": [
        "# import datetime, timedelta e time\n",
        "from datetime import datetime\n",
        "from datetime import timedelta\n",
        "import time"
      ],
      "execution_count": null,
      "outputs": []
    },
    {
      "cell_type": "markdown",
      "metadata": {
        "id": "Hme0TK7kkTZ1"
      },
      "source": [
        "### Selenium"
      ]
    },
    {
      "cell_type": "markdown",
      "metadata": {
        "id": "cB376pVuOlW_"
      },
      "source": [
        "Utilizaremos o Selenium para baixar dados do site da B3."
      ]
    },
    {
      "cell_type": "code",
      "metadata": {
        "id": "Alr9GklwkPoa"
      },
      "source": [
        "# Instalação do navegador e do pacote Selenium\n",
        "!apt install chromium-chromedriver\n",
        "!pip install selenium"
      ],
      "execution_count": null,
      "outputs": []
    },
    {
      "cell_type": "code",
      "metadata": {
        "id": "kTjEcHQlkcXf"
      },
      "source": [
        "# import webdriver e  ActionChains (selenium)\n",
        "from selenium import webdriver\n",
        "from selenium.webdriver.common.action_chains import ActionChains"
      ],
      "execution_count": null,
      "outputs": []
    },
    {
      "cell_type": "markdown",
      "metadata": {
        "id": "WOdbAIrvBZmo"
      },
      "source": [
        "## Definição de funções"
      ]
    },
    {
      "cell_type": "markdown",
      "metadata": {
        "id": "-clV9NpjREfL"
      },
      "source": [
        "Funções para baixar arquivos do Portal de Dados Abertos da CVM"
      ]
    },
    {
      "cell_type": "code",
      "metadata": {
        "id": "hhYB_mC_lJm0"
      },
      "source": [
        "url_dados_abertos_cvm = 'http://dados.cvm.gov.br/dados'\n",
        "\n",
        "# Os detalhes das aplicações podem ficar ocultos na consulta pública do CDA por até 3 meses após o envio das informações. \n",
        "# A competência mais recente não sujeita a essa restrição é M-4 (onde M é o mês corrente).\n",
        "def comptc():\n",
        "  # A atualização dos arquivos de CDA no Portal de Dados Abertos é semanal, por isso, utiliza-se D-7 como base de cálculo de M-4\n",
        "  data_referencia = datetime.now() - timedelta(days=7) \n",
        "  ano_atual = data_referencia.year\n",
        "  mes_atual = data_referencia.month\n",
        "  # Cálculo de M-4\n",
        "  mes_comptc = mes_atual - 4 \n",
        "  ano_comptc = ano_atual\n",
        "  if mes_comptc <= 0:\n",
        "    ano_comptc = ano_comptc -1\n",
        "    mes_comptc = 12 + mes_comptc\n",
        "  return '_{:02d}{:02d}'.format(ano_comptc,mes_comptc)\n",
        "\n",
        "# Conjuntos de dados cadastrais de fundos\n",
        "def busca_dados_abertos_cvm_cadastro():\n",
        "  return url_dados_abertos_cvm + '/FI/CAD/DADOS/cad_fi.csv'\n",
        "\n",
        "# Conjunto de dados do CDA de fundos\n",
        "def busca_dados_abertos_cvm_carteira():\n",
        "  arquivo = '/FI/DOC/CDA/DADOS/cda_fi'\n",
        "  url = '{}{}'.format(url_dados_abertos_cvm,arquivo)\n",
        "  url = url + comptc() + '.zip'\n",
        "  return url"
      ],
      "execution_count": null,
      "outputs": []
    },
    {
      "cell_type": "markdown",
      "metadata": {
        "id": "u6LeKoTZRKi3"
      },
      "source": [
        "Função para baixar arquivo do site da B3"
      ]
    },
    {
      "cell_type": "code",
      "metadata": {
        "id": "MJNt0fq5l3io"
      },
      "source": [
        "def busca_isin_b3():\n",
        "  url_busca_isin_b3 = 'https://sistemaswebb3-listados.b3.com.br/isinPage/?language=pt-br'\n",
        "\n",
        "  # Configuração do webdriver\n",
        "  options = webdriver.ChromeOptions()\n",
        "  options.add_argument('-headless')\n",
        "  options.add_argument('-no-sandbox')\n",
        "  options.add_argument('-disable-dev-shm-usage')\n",
        "  wd = webdriver.Chrome('chromedriver',options=options)\n",
        "\n",
        "  # Acesso à página\n",
        "  wd.get(url_busca_isin_b3)\n",
        "\n",
        "  # Interação com a página e download do arquivo isinp.zip\n",
        "  button1 = wd.find_element_by_class_name('collapsed')\n",
        "  button1.click()\n",
        "  button3 = wd.find_element_by_class_name('click-p')\n",
        "  action=ActionChains(wd)\n",
        "  time.sleep(10)\n",
        "  action.move_to_element(button3).click().perform();\n",
        "  time.sleep(20)\n",
        " "
      ],
      "execution_count": null,
      "outputs": []
    },
    {
      "cell_type": "markdown",
      "metadata": {
        "id": "1z1XqwNuRXUY"
      },
      "source": [
        "Outras funções"
      ]
    },
    {
      "cell_type": "code",
      "metadata": {
        "id": "wnxDHpurszSU"
      },
      "source": [
        "def formataCNPJ(cnpj):\n",
        "  if cnpj == '':\n",
        "    return cnpj\n",
        "  cnpj = str(cnpj)\n",
        "  if len(cnpj) < 14:\n",
        "    cnpj = cnpj.zfill(14)\n",
        "  return '{}.{}.{}/{}-{}'.format(cnpj[:2], cnpj[2:5], cnpj[5:8], cnpj[8:12], cnpj[12:])"
      ],
      "execution_count": null,
      "outputs": []
    },
    {
      "cell_type": "code",
      "metadata": {
        "id": "Zdq0pwYLiKX6"
      },
      "source": [
        "def aplic_ativo(row):\n",
        "  return row['TP_APLIC'] + ' - ' + row['TP_ATIVO']\n",
        "\n",
        "def aplic_ativo_descricao(row):\n",
        "  return aplic_ativo(row) + ' - ' + row['DS_ATIVO']"
      ],
      "execution_count": null,
      "outputs": []
    },
    {
      "cell_type": "code",
      "metadata": {
        "id": "1MP54xEpkbmX"
      },
      "source": [
        "def sit_aux(row):\n",
        "  if row['SIT'] in ['CANCELADA', 'INCORPORAÇÃO', 'TRANSFORMAÇÃO']:\n",
        "    return 0\n",
        "  else:\n",
        "    return 1"
      ],
      "execution_count": null,
      "outputs": []
    },
    {
      "cell_type": "code",
      "metadata": {
        "id": "u-xGRusHHvim"
      },
      "source": [
        "def ds_ativo(row):\n",
        "  if row['DS_ATIVO_2'] != '':\n",
        "    return row['DS_ATIVO_2']\n",
        "  else:\n",
        "    return row['DS_ATIVO_1']"
      ],
      "execution_count": null,
      "outputs": []
    },
    {
      "cell_type": "code",
      "metadata": {
        "id": "tlpx48-7dzp5"
      },
      "source": [
        "def emissor(row):\n",
        "  if row['EMISSOR_2'] != '':\n",
        "    return row['EMISSOR_2']\n",
        "  else:\n",
        "    return row['EMISSOR_1']"
      ],
      "execution_count": null,
      "outputs": []
    },
    {
      "cell_type": "code",
      "metadata": {
        "id": "5IUAMuyazSa_"
      },
      "source": [
        "# Cálculo do percentual do patrimônio líquido do fundo representado pelo valor da aplicação\n",
        "def pr_patrim_liq(row):\n",
        "  a = float(row['VL_APLIC'])\n",
        "  b = float(row['VL_PATRIM_LIQ'])\n",
        "  if a == 0 or b == 0:\n",
        "    return 0\n",
        "  else:\n",
        "    # As aplicações de tipo 'Opções - Posições lançadas', 'Valores a pagar', 'Obrigações por ações e outros TVM recebidos em empréstimo' ou 'DIFERENCIAL DE SWAP A PAGAR' \n",
        "    # possuem sinal negativo no somatório de ativos para composição do patrimônio líquido do fundo\n",
        "    if row['TP_APLIC'] in ['Opções - Posições lançadas', 'Valores a pagar', 'Obrigações por ações e outros TVM recebidos em empréstimo', 'DIFERENCIAL DE SWAP A PAGAR']:\n",
        "      return round(a/b * (-100),3)\n",
        "    else:\n",
        "      return round(a/b * (100),3)  "
      ],
      "execution_count": null,
      "outputs": []
    },
    {
      "cell_type": "code",
      "metadata": {
        "id": "HDz327icI3Pg"
      },
      "source": [
        "# Retorna a combinação de campos suficiente para identificar univocamente uma linha no dataframe de emissores: \n",
        "# CPF_CNPJ_EMISSOR: se diferente de vazio\n",
        "# EMISSOR: se CPF_CNPJ_EMISSOR igual a vazio\n",
        "def id_emissor(row):\n",
        "  if row['CPF_CNPJ_EMISSOR']!='':\n",
        "    return row['CPF_CNPJ_EMISSOR'] + '|'\n",
        "  elif row['EMISSOR']!='':\n",
        "    return '|' + row['EMISSOR']\n",
        "  else:\n",
        "    return ''"
      ],
      "execution_count": null,
      "outputs": []
    },
    {
      "cell_type": "code",
      "metadata": {
        "id": "spI9Eyaq_xwX"
      },
      "source": [
        "# Calcula o hash de uma string\n",
        "def hash(frase):\n",
        "  if frase == '':\n",
        "    return frase\n",
        "  else:\n",
        "    return hashlib.md5(str(frase).encode('utf-8')).hexdigest()   "
      ],
      "execution_count": null,
      "outputs": []
    },
    {
      "cell_type": "markdown",
      "metadata": {
        "id": "pBHlRtAjVxqm"
      },
      "source": [
        "## Coleta de dados\n"
      ]
    },
    {
      "cell_type": "markdown",
      "metadata": {
        "id": "sm0P6Dps8nEJ"
      },
      "source": [
        "As informações que serão carregadas no banco de dados de grafos serão obtidas a partir do [Portal de Dados Abertos da CVM](http://dados.cvm.gov.br/) e do [site da B3](https://sistemaswebb3-listados.b3.com.br/isinPage/?language=pt-br). "
      ]
    },
    {
      "cell_type": "markdown",
      "metadata": {
        "id": "Fq5_gI-Pz1IZ"
      },
      "source": [
        "### Datasets de informações  cadastrais de fundos (Portal de Dados Abertos - CVM)"
      ]
    },
    {
      "cell_type": "markdown",
      "metadata": {
        "id": "xM0EQcGgohwH"
      },
      "source": [
        "\n",
        "A constituição e o funcionamento dos fundos de investimento dependem de registro prévio na CVM. Assim, as informações cadastrais dos fundos podem ser consultadas no sítio da CVM (página [Cadastro Geral](http://sistemas.cvm.gov.br/asp/cvmwww/cadastro/formcad.asp)) ou baixadas a partir do seu Portal de Dados Abertos. \n",
        "\n",
        "O conjunto de dados [Fundos de Investimento: Informação Cadastral](http://dados.cvm.gov.br/dataset/fi-cad) disponibiliza as seguintes informações sobre os fundos:\n",
        "* CNPJ (identificador único do fundo)\n",
        "* Nome (denominação social)\n",
        "* Tipo do fundo (FI, FIP, FIDC, FAPI, FUNCINE, etc...)\n",
        "* Data de registro na CVM\n",
        "* Situação atual do registro (Fase Pré-Operacional, Em Funcionamento Normal, Cancelado, etc...)\n",
        "* Data de início da situação atual\n",
        "* Se é fundo de investimento em cotas [[6]](#icvm555-119)\n",
        "* Se o fundo é exclusivo (fundo destinado a investidores profissionais constituído para receber aplicações exclusivamente de um único cotista) [[7]](#icvm555-130)\n",
        "* Gestores do fundo\n",
        "---\n",
        "\n",
        "Referências:\n",
        "\n",
        "<a name=\"icvm555-119\">[6]</a> [ICVM 555, Art. 119](http://conteudo.cvm.gov.br/export/sites/cvm/legislacao/instrucoes/anexos/500/inst555consolid.pdf)\n",
        "\n",
        "<a name=\"icvm555-130\">[7]</a> [ICVM 555, Art. 130](http://conteudo.cvm.gov.br/export/sites/cvm/legislacao/instrucoes/anexos/500/inst555consolid.pdf)"
      ]
    },
    {
      "cell_type": "code",
      "metadata": {
        "id": "C15yLUlvvYMP"
      },
      "source": [
        "# Cadastro de fundos (PDA-CVM)\n",
        "url = busca_dados_abertos_cvm_cadastro()\n",
        "os.system('wget %s -O ./cad_fi.csv' %url)"
      ],
      "execution_count": null,
      "outputs": []
    },
    {
      "cell_type": "markdown",
      "metadata": {
        "id": "bfwamqDp6AQ2"
      },
      "source": [
        "As informações no conjunto de dados [Fundos de Investimento: Informação Cadastral](http://dados.cvm.gov.br/dataset/fi-cad) serão utilizadas para construtir dois dataframes: \n",
        "\n",
        "1.   Fundos (dados cadastrais de fundos: CNPJ, nome, tipo, situação, se é fundos de cotas, se é fundo exclusivo, etc...)\n",
        "2.   Gestores de Fundos (dados cadastrais de gestores de carteira: CNPJ e nome)\n",
        "\n"
      ]
    },
    {
      "cell_type": "code",
      "metadata": {
        "id": "TgE8A9qqo0QF"
      },
      "source": [
        "cad_fundo       = pd.read_csv('./cad_fi.csv', sep=';', encoding='ISO-8859-1',\n",
        "                              usecols=['CNPJ_FUNDO', 'DENOM_SOCIAL', 'DT_REG', 'SIT', 'DT_INI_SIT', 'TP_FUNDO', 'FUNDO_COTAS', 'FUNDO_EXCLUSIVO', 'CPF_CNPJ_GESTOR'], dtype=object)\n",
        "cad_gestor      = pd.read_csv('./cad_fi.csv', sep=';', encoding='ISO-8859-1',\n",
        "                              usecols=['CPF_CNPJ_GESTOR','GESTOR'], dtype=object)"
      ],
      "execution_count": null,
      "outputs": []
    },
    {
      "cell_type": "markdown",
      "metadata": {
        "id": "VIGWFVfU6FRj"
      },
      "source": [
        "No dataframe de fundos, converteremos os valores 'S/N' das colunas FUNDOS_COTAS e FUNDOS_EXCLUSIVO para o tipo booleano (Verdadeiro/Falso), o tipo definido no esquema do banco de dados de grafos."
      ]
    },
    {
      "cell_type": "code",
      "metadata": {
        "id": "31Y2ECATKG2-"
      },
      "source": [
        "cad_fundo['FUNDO_COTAS'].replace('N', 'False', inplace=True)\n",
        "cad_fundo['FUNDO_COTAS'].replace('S', 'True', inplace=True)\n",
        "\n",
        "cad_fundo['FUNDO_EXCLUSIVO'].replace('N', 'False', inplace=True)\n",
        "cad_fundo['FUNDO_EXCLUSIVO'].replace('S', 'True', inplace=True)"
      ],
      "execution_count": null,
      "outputs": []
    },
    {
      "cell_type": "markdown",
      "metadata": {
        "id": "WhqV_C570RLp"
      },
      "source": [
        "### Datasets de aplicações de fundos (Portal de Dados Abertos - CVM)\n"
      ]
    },
    {
      "cell_type": "markdown",
      "metadata": {
        "id": "F9dkg9LZWmX7"
      },
      "source": [
        "O documento __Composição e Diversificação das Aplicações (CDA)__ descreve as aplicações que compõem as carteiras de fundos de investimento.\n",
        "\n",
        "O conjunto de dados [Fundos de Investimento: Documentos: Composição e Diversificação das Aplicações](http://dados.cvm.gov.br/dataset/fi-doc-cda) disponibiliza as carteiras dos fundos em formato csv compactado, um arquivo zip para cada mês de competência (cda_fi_AAAAMM.zip).\n",
        "\n",
        "Por solicitação do gestor do fundo, os detalhes das aplicações podem ficar ocultos na consulta pública do CDA por até 3 meses após o envio das informações. Por isso, consultaremos a competência mais recente anterior a essa janela."
      ]
    },
    {
      "cell_type": "code",
      "metadata": {
        "id": "6LL-i96bvj40"
      },
      "source": [
        "# Carteiras de fundos (PDA-CVM)\n",
        "url = busca_dados_abertos_cvm_carteira()\n",
        "os.system('wget %s -O ./cda_fi.zip' %url)"
      ],
      "execution_count": null,
      "outputs": []
    },
    {
      "cell_type": "markdown",
      "metadata": {
        "id": "yN_Aa2V9o4QW"
      },
      "source": [
        "Dentro de cada arquivo zip, as aplicações dos fundos estão organizadas em diferente arquivos csv conforme a estrutura de blocos do [padrão XML do Informe CDA](http://cvmweb.cvm.gov.br/SWB/Sistemas/SCW/PadroesXML/PadraoXMLCDANetV4.aspx):\n",
        "\n",
        "* __Bloco 1__ (Títulos públicos do SELIC): cda_fi_BLC_1_AAAAMM.csv\n",
        "* __Bloco 2__ (Cotas de fundos de investimento): cda_fi_BLC_2_AAAAMM.csv\n",
        "* __Bloco 3__ (SWAP): cda_fi_BLC_3_AAAAMM.csv\n",
        "* __Bloco 4__ (Demais ativos codificados): cda_fi_BLC_4_AAAAMM.csv\n",
        "* __Bloco 5__ (Depósitos a prazo e outros títulos de IF): cda_fi_BLC_5_AAAAMM.csv\n",
        "* __Bloco 6__ (Títulos do agronegócio e de crédito privado): cda_fi_BLC_6_AAAAMM.csv\n",
        "* __Bloco 7__ (Investimento no exterior): cda_fi_BLC_7_AAAAMM.csv\n",
        "* __Bloco 8__ (Demais ativos não codificados): cda_fi_BLC_8_AAAAMM.csv\n",
        "\n",
        "O __Patrimônio Líquido__ do fundo, disponível no arquivo cda_fi_PL_AAAAMM.csv, não é informado em nenhum dos blocos do CDA, e sim no cabeçalho do documento.\n",
        "\n",
        "Os atributos que descrevem as aplicações diferem de acordo com o bloco do CDA em que são reportadas, mas alguns são comuns a todas as aplicações:\n",
        "\n",
        "* __VL_MERC_POS_FINAL__: valor financeiro da aplicação (será renomeado para __VL_APLIC__).\n",
        "* __TP_APLIC__: tipo da aplicação, determina se o valor do ativo deve ser somado ou subtraído do patrimônio líquido do fundo. Neste trabalho, será utilizado como classe do ativo para as aplicações reportadas nos blocos 5 a 8.\n",
        "* __TP_ATIVO__: tipo do ativo. Neste trabalho, será utilizado como descrição do ativo para as aplicações reportadas nos blocos 5 a 8.\n",
        "\n",
        "No CDA, somente as aplicações dos blocos 5 a 8 trazem a identificação do emissor do ativo (opcional nos blocos 7 e 8).\n",
        "\n",
        "Neste trabalho, as aplicações reportadas no bloco 2 do CDA não serão modeladas como ativos, por se referirem a cotas de fundos de investimento.\n"
      ]
    },
    {
      "cell_type": "code",
      "metadata": {
        "id": "oqSkOEuzWaYu"
      },
      "source": [
        "zf = zipfile.ZipFile('./cda_fi.zip') \n",
        "\n",
        "# Patrimônio Líquido\n",
        "cda0 = pd.read_csv(zf.open('cda_fi_PL' + comptc() + '.csv'),    sep=';', encoding='ISO-8859-1', \n",
        "                   usecols=['CNPJ_FUNDO', 'VL_PATRIM_LIQ'], dtype=object)             \n",
        "                          \n",
        "# 1. Titulos Públicos\n",
        "cda1 = pd.read_csv(zf.open('cda_fi_BLC_1' + comptc() + '.csv'), sep=';', encoding='ISO-8859-1', \n",
        "                   usecols=['CNPJ_FUNDO', 'TP_APLIC', 'VL_MERC_POS_FINAL', 'CD_ISIN', 'TP_TITPUB', 'DT_VENC'], \n",
        "                   dtype=object)\\\n",
        "                   [['CNPJ_FUNDO','TP_APLIC', 'VL_MERC_POS_FINAL','CD_ISIN', 'TP_TITPUB','DT_VENC']].\\\n",
        "                   rename(columns={'VL_MERC_POS_FINAL': 'VL_APLIC','TP_TITPUB': 'DS_ATIVO'})\\\n",
        "                                \n",
        "# 2. Cotas de Fundos\n",
        "cda2 = pd.read_csv(zf.open('cda_fi_BLC_2' + comptc() + '.csv'), sep=';', encoding='ISO-8859-1', \n",
        "                   usecols=['CNPJ_FUNDO', 'TP_APLIC', 'VL_MERC_POS_FINAL', 'CNPJ_FUNDO_COTA'], \n",
        "                   dtype=object)\\\n",
        "                   [['CNPJ_FUNDO', 'TP_APLIC', 'VL_MERC_POS_FINAL', 'CNPJ_FUNDO_COTA']].\\\n",
        "                   rename(columns={'VL_MERC_POS_FINAL': 'VL_APLIC'})     \n",
        "\n",
        "# 3. SWAP\n",
        "cda3 = pd.read_csv(zf.open('cda_fi_BLC_3' + comptc() + '.csv'), sep=';', encoding='ISO-8859-1', \n",
        "                   usecols=['CNPJ_FUNDO', 'TP_APLIC', 'VL_MERC_POS_FINAL', 'CD_SWAP', 'DS_SWAP'], \n",
        "                   dtype=object)\\\n",
        "                   [['CNPJ_FUNDO', 'TP_APLIC', 'VL_MERC_POS_FINAL', 'CD_SWAP', 'DS_SWAP']].\\\n",
        "                   rename(columns={'VL_MERC_POS_FINAL': 'VL_APLIC','DS_SWAP': 'CD_ATIVO'})  \n",
        "\n",
        "# 4. Ativos Codificados\n",
        "cda4 = pd.read_csv(zf.open('cda_fi_BLC_4' + comptc() + '.csv'), sep=';', encoding='ISO-8859-1', \n",
        "                   usecols=['CNPJ_FUNDO', 'TP_APLIC', 'TP_ATIVO', 'VL_MERC_POS_FINAL', 'CD_ISIN', 'CD_ATIVO' ], \n",
        "                   dtype=object)\\\n",
        "                   [['CNPJ_FUNDO', 'TP_APLIC', 'VL_MERC_POS_FINAL', 'CD_ISIN', 'CD_ATIVO', 'TP_ATIVO' ]].\\\n",
        "                   rename(columns={'VL_MERC_POS_FINAL': 'VL_APLIC','TP_ATIVO': 'DS_ATIVO'})                        \n",
        "\n",
        "# 5. Depósitos a Prazo e Outros Títulos de IF\n",
        "cda5 = pd.read_csv(zf.open('cda_fi_BLC_5' + comptc() + '.csv'), sep=';', encoding='ISO-8859-1', \n",
        "                   usecols=['CNPJ_FUNDO', 'TP_APLIC', 'TP_ATIVO', 'VL_MERC_POS_FINAL', 'DT_VENC', 'CNPJ_EMISSOR', 'EMISSOR'], \n",
        "                   dtype=object)\\\n",
        "                   [['CNPJ_FUNDO', 'TP_APLIC', 'TP_ATIVO', 'VL_MERC_POS_FINAL', 'DT_VENC', 'CNPJ_EMISSOR', 'EMISSOR']].\\\n",
        "                   rename(columns={'VL_MERC_POS_FINAL': 'VL_APLIC', 'CNPJ_EMISSOR': 'CPF_CNPJ_EMISSOR'})       \n",
        "\n",
        "# 6. Títulos do Agronegócio e de Crédito Privado\n",
        "cda6 = pd.read_csv(zf.open('cda_fi_BLC_6' + comptc() + '.csv'), sep=';', encoding='ISO-8859-1', \n",
        "                   usecols=['CNPJ_FUNDO', 'TP_APLIC', 'TP_ATIVO', 'VL_MERC_POS_FINAL', 'DT_VENC', 'CPF_CNPJ_EMISSOR', 'EMISSOR'], \n",
        "                   dtype=object)\\\n",
        "                   [['CNPJ_FUNDO', 'TP_APLIC', 'TP_ATIVO', 'VL_MERC_POS_FINAL', 'DT_VENC', 'CPF_CNPJ_EMISSOR', 'EMISSOR']].\\\n",
        "                   rename(columns={'VL_MERC_POS_FINAL': 'VL_APLIC'})     \n",
        "\n",
        "# 7. Investimento no Exterior\n",
        "cda7 = pd.read_csv(zf.open('cda_fi_BLC_7' + comptc() + '.csv'), sep=';', encoding='ISO-8859-1', \n",
        "                   usecols=['CNPJ_FUNDO', 'TP_APLIC', 'TP_ATIVO', 'VL_MERC_POS_FINAL', 'CD_ATIVO_BV_MERC', 'BV_MERC', 'PAIS', 'DT_VENC', 'EMISSOR'], \n",
        "                   dtype=object)\\\n",
        "                   [['CNPJ_FUNDO', 'TP_APLIC', 'VL_MERC_POS_FINAL', 'CD_ATIVO_BV_MERC', 'BV_MERC', 'PAIS', 'TP_ATIVO', 'DT_VENC', 'EMISSOR']].\\\n",
        "                   rename(columns={'VL_MERC_POS_FINAL': 'VL_APLIC','CD_ATIVO_BV_MERC': 'CD_ATIVO'})      \n",
        "\n",
        "# 8. Ativos não Codificados\n",
        "cda8 = pd.read_csv(zf.open('cda_fi_BLC_8' + comptc() + '.csv'), sep=';', encoding='ISO-8859-1', \n",
        "                   usecols=['CNPJ_FUNDO', 'TP_APLIC', 'TP_ATIVO', 'VL_MERC_POS_FINAL', 'DS_ATIVO', 'CPF_CNPJ_EMISSOR', 'EMISSOR'], \n",
        "                   dtype=object)\\\n",
        "                   [['CNPJ_FUNDO', 'TP_APLIC', 'TP_ATIVO', 'VL_MERC_POS_FINAL', 'DS_ATIVO', 'CPF_CNPJ_EMISSOR', 'EMISSOR']].\\\n",
        "                   rename(columns={'VL_MERC_POS_FINAL': 'VL_APLIC'})             "
      ],
      "execution_count": null,
      "outputs": []
    },
    {
      "cell_type": "code",
      "metadata": {
        "id": "dlYnbbGbbe7J"
      },
      "source": [
        "cda5['DS_ATIVO'] = cda5.apply(lambda row: aplic_ativo(row), axis=1)\n",
        "cda6['DS_ATIVO'] = cda6.apply(lambda row: aplic_ativo(row), axis=1)\n",
        "cda7['DS_ATIVO'] = cda7.apply(lambda row: aplic_ativo(row), axis=1)\n",
        "cda8['DS_ATIVO'] = cda8.apply(lambda row: aplic_ativo_descricao(row), axis=1)\n",
        "\n",
        "cda5 = cda5.drop(['TP_ATIVO'], axis=1)\n",
        "cda6 = cda6.drop(['TP_ATIVO'], axis=1)\n",
        "cda7 = cda7.drop(['TP_ATIVO'], axis=1)\n",
        "cda8 = cda8.drop(['TP_ATIVO'], axis=1)"
      ],
      "execution_count": null,
      "outputs": []
    },
    {
      "cell_type": "markdown",
      "metadata": {
        "id": "Kreaj6S_0fQj"
      },
      "source": [
        "### Datasets de ativos e emissores (Site B3)"
      ]
    },
    {
      "cell_type": "markdown",
      "metadata": {
        "id": "EW5LO5PHuBn0"
      },
      "source": [
        "ISIN (International Securities Identification Number) é uma norma internacional para estabelecer uma padronização na codificação de títulos financeiros, atribuindo a cada ativo um código único de identificação [[8]](#isin).\n",
        "\n",
        "A [[B]<sup>3</sup>](http://www.b3.com.br/) disponibiliza o [banco de dados ISIN](https://sistemaswebb3-listados.b3.com.br/isinPage/?language=pt-br) para download em seu site, nessa base é possível encontrar as seguintes informações de interesse:\n",
        "* Código ISIN do ativo\n",
        "* Descrição do ativo\n",
        "* Emissor do ativo\n",
        "\n",
        "Utilizaremos a base ISIN para determinar os emissores das aplicações informadas nos blocos 1, 3 e 4 do CDA, utilizando como chave o código ISIN. (No CDA, somente as aplicações dos blocos 5 a 8 trazem a identificação do emissor do ativo).\n",
        "\n",
        "--- \n",
        "\n",
        "Referências:\n",
        "\n",
        "<a name=\"isin\">[8]</a> [Código ISIN | B3](http://www.b3.com.br/pt_br/market-data-e-indices/servicos-de-dados/market-data/consultas/mercado-a-vista/codigo-isin/sobre-codigo-isin/)\n"
      ]
    },
    {
      "cell_type": "code",
      "metadata": {
        "id": "2Grcv1TC1CUn"
      },
      "source": [
        "# Emissores e ativos (B3)\n",
        "busca_isin_b3()"
      ],
      "execution_count": null,
      "outputs": []
    },
    {
      "cell_type": "markdown",
      "metadata": {
        "id": "Zo0t7dKpJ1UP"
      },
      "source": [
        "As informações na [base ISIN](https://sistemaswebb3-listados.b3.com.br/isinPage/?language=pt-br) serão utilizadas para construtir dois dataframes: \n",
        "\n",
        "1.   Ativos (dados cadastrais de ativos: código ISIN, descrição, identificação do emissor, etc...)\n",
        "2.   Emissores de Ativos (dados cadastrais de emissores: código interno, CNPJ e nome)\n",
        "\n"
      ]
    },
    {
      "cell_type": "code",
      "metadata": {
        "id": "qA83lKBs3arb"
      },
      "source": [
        "zf = zipfile.ZipFile('./isinp.zip') \n",
        "ativos_isin = pd.read_csv(zf.open('NUMERACA.TXT'), sep=',', header=None, \\\n",
        "                   usecols=[2, 3, 5, 20], dtype=object, \\\n",
        "                   names=['CD_ISIN', 'COD_EMISSOR', 'DS_ATIVO', 'COD_TIPO'])\\\n",
        "                   [['CD_ISIN', 'COD_TIPO', 'DS_ATIVO', 'COD_EMISSOR']]\n",
        "emissores_ativos_isin = pd.read_csv(zf.open('EMISSOR.TXT') , sep=',', header=None, \\\n",
        "                   usecols=[0, 1, 2], dtype=object, \\\n",
        "                   names=['COD_EMISSOR', 'EMISSOR', 'CNPJ_EMISSOR'])"
      ],
      "execution_count": null,
      "outputs": []
    },
    {
      "cell_type": "code",
      "metadata": {
        "colab": {
          "base_uri": "https://localhost:8080/",
          "height": 206
        },
        "id": "_peYfzl3KtzD",
        "outputId": "068b6ee4-0198-4f09-f893-c4e35a078b1d"
      },
      "source": [
        "ativos_isin.head()"
      ],
      "execution_count": null,
      "outputs": [
        {
          "output_type": "execute_result",
          "data": {
            "text/html": [
              "<div>\n",
              "<style scoped>\n",
              "    .dataframe tbody tr th:only-of-type {\n",
              "        vertical-align: middle;\n",
              "    }\n",
              "\n",
              "    .dataframe tbody tr th {\n",
              "        vertical-align: top;\n",
              "    }\n",
              "\n",
              "    .dataframe thead th {\n",
              "        text-align: right;\n",
              "    }\n",
              "</style>\n",
              "<table border=\"1\" class=\"dataframe\">\n",
              "  <thead>\n",
              "    <tr style=\"text-align: right;\">\n",
              "      <th></th>\n",
              "      <th>CD_ISIN</th>\n",
              "      <th>COD_TIPO</th>\n",
              "      <th>DS_ATIVO</th>\n",
              "      <th>COD_EMISSOR</th>\n",
              "    </tr>\n",
              "  </thead>\n",
              "  <tbody>\n",
              "    <tr>\n",
              "      <th>0</th>\n",
              "      <td>BR0002CTF008</td>\n",
              "      <td>CTF</td>\n",
              "      <td>COTAS SENIORES</td>\n",
              "      <td>0002</td>\n",
              "    </tr>\n",
              "    <tr>\n",
              "      <th>1</th>\n",
              "      <td>BR0002CTF016</td>\n",
              "      <td>CTF</td>\n",
              "      <td>COTAS SUBORDINADAS</td>\n",
              "      <td>0002</td>\n",
              "    </tr>\n",
              "    <tr>\n",
              "      <th>2</th>\n",
              "      <td>BR0003CTF006</td>\n",
              "      <td>CTF</td>\n",
              "      <td>COTAS</td>\n",
              "      <td>0003</td>\n",
              "    </tr>\n",
              "    <tr>\n",
              "      <th>3</th>\n",
              "      <td>BR0004CTF004</td>\n",
              "      <td>CTF</td>\n",
              "      <td>COTAS</td>\n",
              "      <td>0004</td>\n",
              "    </tr>\n",
              "    <tr>\n",
              "      <th>4</th>\n",
              "      <td>BR0005CTF001</td>\n",
              "      <td>CTF</td>\n",
              "      <td>COTAS</td>\n",
              "      <td>0005</td>\n",
              "    </tr>\n",
              "  </tbody>\n",
              "</table>\n",
              "</div>"
            ],
            "text/plain": [
              "        CD_ISIN COD_TIPO            DS_ATIVO COD_EMISSOR\n",
              "0  BR0002CTF008      CTF      COTAS SENIORES        0002\n",
              "1  BR0002CTF016      CTF  COTAS SUBORDINADAS        0002\n",
              "2  BR0003CTF006      CTF               COTAS        0003\n",
              "3  BR0004CTF004      CTF               COTAS        0004\n",
              "4  BR0005CTF001      CTF               COTAS        0005"
            ]
          },
          "metadata": {
            "tags": []
          },
          "execution_count": 32
        }
      ]
    },
    {
      "cell_type": "markdown",
      "metadata": {
        "id": "0Hju2XUDKaVj"
      },
      "source": [
        "No dataframe de emissores, iremos formatar e renomear a coluna CNPJ_EMISSOR, de forma a compatibilizá-la com as colunas que representam a mesma informação nos dataframes derivados do CDA (_cda5_, _cda6_ e _cda8_)."
      ]
    },
    {
      "cell_type": "code",
      "metadata": {
        "id": "rivketRY5s31"
      },
      "source": [
        "emissores_ativos_isin['CNPJ_EMISSOR'] = emissores_ativos_isin.CNPJ_EMISSOR.fillna('').apply(formataCNPJ)\n",
        "emissores_ativos_isin = emissores_ativos_isin.rename(columns={'CNPJ_EMISSOR': 'CPF_CNPJ_EMISSOR'})"
      ],
      "execution_count": null,
      "outputs": []
    },
    {
      "cell_type": "markdown",
      "metadata": {
        "id": "uvSAhiM_E9zE"
      },
      "source": [
        "## Tratamento dos dados"
      ]
    },
    {
      "cell_type": "markdown",
      "metadata": {
        "id": "h0HWkafeD52V"
      },
      "source": [
        "### Fundos\n"
      ]
    },
    {
      "cell_type": "markdown",
      "metadata": {
        "id": "AO0S6ty053g0"
      },
      "source": [
        "O dataframe de fundos originalmente baixado do Portal de Dados Abertos pode conter mais de uma linha por CNPJ, visto que é possível que um mesmo fundo tenha mais de registro na CVM. Por exemplo, fundos podem sofrer transformação de tipo, nesse caso, o registro associado ao tipo anterior será desativado e um novo registro, associado ao tipo atual, será criado com a situação ativa."
      ]
    },
    {
      "cell_type": "code",
      "metadata": {
        "colab": {
          "base_uri": "https://localhost:8080/"
        },
        "id": "lm2RkX_WhSre",
        "outputId": "7d78d18c-3403-4e8c-bcfa-cfca12d1b07f"
      },
      "source": [
        "# Inspecionando domínio do campo SIT (Situação do fundo)\n",
        "print(cad_fundo.SIT.unique())"
      ],
      "execution_count": null,
      "outputs": [
        {
          "output_type": "stream",
          "text": [
            "['CANCELADA' 'EM FUNCIONAMENTO NORMAL' 'LIQUIDAÇÃO' 'INCORPORAÇÃO'\n",
            " 'FASE PRÉ-OPERACIONAL' 'EM SITUAÇÃO ESPECIAL' 'TRANSFORMAÇÃO'\n",
            " 'EM ANÁLISE']\n"
          ],
          "name": "stdout"
        }
      ]
    },
    {
      "cell_type": "code",
      "metadata": {
        "colab": {
          "base_uri": "https://localhost:8080/",
          "height": 424
        },
        "id": "thQm-0aN5KDB",
        "outputId": "b50432ab-3aec-43a9-9c5f-efe35cb0192b"
      },
      "source": [
        "# Inspecionando fundos com mais de uma linha no dataset\n",
        "cad_fundo[cad_fundo.duplicated(subset=['CNPJ_FUNDO'], keep=False)].sort_values('CNPJ_FUNDO')"
      ],
      "execution_count": null,
      "outputs": [
        {
          "output_type": "execute_result",
          "data": {
            "text/html": [
              "<div>\n",
              "<style scoped>\n",
              "    .dataframe tbody tr th:only-of-type {\n",
              "        vertical-align: middle;\n",
              "    }\n",
              "\n",
              "    .dataframe tbody tr th {\n",
              "        vertical-align: top;\n",
              "    }\n",
              "\n",
              "    .dataframe thead th {\n",
              "        text-align: right;\n",
              "    }\n",
              "</style>\n",
              "<table border=\"1\" class=\"dataframe\">\n",
              "  <thead>\n",
              "    <tr style=\"text-align: right;\">\n",
              "      <th></th>\n",
              "      <th>TP_FUNDO</th>\n",
              "      <th>CNPJ_FUNDO</th>\n",
              "      <th>DENOM_SOCIAL</th>\n",
              "      <th>DT_REG</th>\n",
              "      <th>SIT</th>\n",
              "      <th>DT_INI_SIT</th>\n",
              "      <th>FUNDO_COTAS</th>\n",
              "      <th>FUNDO_EXCLUSIVO</th>\n",
              "      <th>CPF_CNPJ_GESTOR</th>\n",
              "    </tr>\n",
              "  </thead>\n",
              "  <tbody>\n",
              "    <tr>\n",
              "      <th>5278</th>\n",
              "      <td>FI</td>\n",
              "      <td>00.000.432/0001-00</td>\n",
              "      <td>COPESUL  - FUNDO DE INVESTIMENTO MULTIMERCADO ...</td>\n",
              "      <td>2005-03-31</td>\n",
              "      <td>CANCELADA</td>\n",
              "      <td>2008-07-18</td>\n",
              "      <td>False</td>\n",
              "      <td>True</td>\n",
              "      <td>NaN</td>\n",
              "    </tr>\n",
              "    <tr>\n",
              "      <th>49560</th>\n",
              "      <td>FIF</td>\n",
              "      <td>00.000.432/0001-00</td>\n",
              "      <td>COPESUL  - FUNDO DE INVESTIMENTO MULTIMERCADO ...</td>\n",
              "      <td>2003-04-30</td>\n",
              "      <td>CANCELADA</td>\n",
              "      <td>2005-03-31</td>\n",
              "      <td>NaN</td>\n",
              "      <td>NaN</td>\n",
              "      <td>NaN</td>\n",
              "    </tr>\n",
              "    <tr>\n",
              "      <th>49566</th>\n",
              "      <td>FIF</td>\n",
              "      <td>00.000.744/0001-06</td>\n",
              "      <td>REAL FUNDO DE INVESTIMENTO CURTO PRAZO DAILY A</td>\n",
              "      <td>2003-04-30</td>\n",
              "      <td>CANCELADA</td>\n",
              "      <td>2005-01-01</td>\n",
              "      <td>NaN</td>\n",
              "      <td>NaN</td>\n",
              "      <td>NaN</td>\n",
              "    </tr>\n",
              "    <tr>\n",
              "      <th>5279</th>\n",
              "      <td>FI</td>\n",
              "      <td>00.000.744/0001-06</td>\n",
              "      <td>REAL FUNDO DE INVESTIMENTO CURTO PRAZO DAILY A</td>\n",
              "      <td>2005-01-13</td>\n",
              "      <td>CANCELADA</td>\n",
              "      <td>2006-06-30</td>\n",
              "      <td>False</td>\n",
              "      <td>False</td>\n",
              "      <td>NaN</td>\n",
              "    </tr>\n",
              "    <tr>\n",
              "      <th>5280</th>\n",
              "      <td>FI</td>\n",
              "      <td>00.000.746/0001-03</td>\n",
              "      <td>ALFA DINÂMICO - FUNDO DE INVESTIMENTO EM COTAS...</td>\n",
              "      <td>2004-12-09</td>\n",
              "      <td>CANCELADA</td>\n",
              "      <td>2016-09-26</td>\n",
              "      <td>True</td>\n",
              "      <td>False</td>\n",
              "      <td>60.770.336/0001-65</td>\n",
              "    </tr>\n",
              "    <tr>\n",
              "      <th>...</th>\n",
              "      <td>...</td>\n",
              "      <td>...</td>\n",
              "      <td>...</td>\n",
              "      <td>...</td>\n",
              "      <td>...</td>\n",
              "      <td>...</td>\n",
              "      <td>...</td>\n",
              "      <td>...</td>\n",
              "      <td>...</td>\n",
              "    </tr>\n",
              "    <tr>\n",
              "      <th>49348</th>\n",
              "      <td>FIDC</td>\n",
              "      <td>97.525.450/0001-30</td>\n",
              "      <td>G5 AP INFRA FUNDO DE INVESTIMENTO EM DIREITOS ...</td>\n",
              "      <td>2017-12-07</td>\n",
              "      <td>EM FUNCIONAMENTO NORMAL</td>\n",
              "      <td>2017-12-07</td>\n",
              "      <td>False</td>\n",
              "      <td>NaN</td>\n",
              "      <td>09.446.129/0001-00</td>\n",
              "    </tr>\n",
              "    <tr>\n",
              "      <th>46482</th>\n",
              "      <td>FI</td>\n",
              "      <td>97.525.450/0001-30</td>\n",
              "      <td>G5 AP INFRA FUNDO DE INVESTIMENTO EM DIREITOS ...</td>\n",
              "      <td>2011-08-10</td>\n",
              "      <td>CANCELADA</td>\n",
              "      <td>2017-12-07</td>\n",
              "      <td>False</td>\n",
              "      <td>False</td>\n",
              "      <td>NaN</td>\n",
              "    </tr>\n",
              "    <tr>\n",
              "      <th>46483</th>\n",
              "      <td>FI</td>\n",
              "      <td>97.525.452/0001-29</td>\n",
              "      <td>G5 SCB II FUNDO DE INVESTIMENTO EM AÇÕES</td>\n",
              "      <td>2011-08-10</td>\n",
              "      <td>CANCELADA</td>\n",
              "      <td>2017-12-19</td>\n",
              "      <td>False</td>\n",
              "      <td>False</td>\n",
              "      <td>NaN</td>\n",
              "    </tr>\n",
              "    <tr>\n",
              "      <th>46484</th>\n",
              "      <td>FI</td>\n",
              "      <td>97.525.452/0001-29</td>\n",
              "      <td>G5 SCB II FUNDO DE INVESTIMENTO EM AÇÕES</td>\n",
              "      <td>2020-02-12</td>\n",
              "      <td>EM FUNCIONAMENTO NORMAL</td>\n",
              "      <td>2020-02-12</td>\n",
              "      <td>False</td>\n",
              "      <td>False</td>\n",
              "      <td>09.446.129/0001-00</td>\n",
              "    </tr>\n",
              "    <tr>\n",
              "      <th>49349</th>\n",
              "      <td>FIDC</td>\n",
              "      <td>97.525.452/0001-29</td>\n",
              "      <td>G5 SCB II FUNDO DE INVESTIMENTO EM AÇÕES</td>\n",
              "      <td>2017-12-19</td>\n",
              "      <td>CANCELADA</td>\n",
              "      <td>2020-02-12</td>\n",
              "      <td>False</td>\n",
              "      <td>NaN</td>\n",
              "      <td>09.446.129/0001-00</td>\n",
              "    </tr>\n",
              "  </tbody>\n",
              "</table>\n",
              "<p>14977 rows × 9 columns</p>\n",
              "</div>"
            ],
            "text/plain": [
              "      TP_FUNDO          CNPJ_FUNDO  ... FUNDO_EXCLUSIVO     CPF_CNPJ_GESTOR\n",
              "5278        FI  00.000.432/0001-00  ...            True                 NaN\n",
              "49560      FIF  00.000.432/0001-00  ...             NaN                 NaN\n",
              "49566      FIF  00.000.744/0001-06  ...             NaN                 NaN\n",
              "5279        FI  00.000.744/0001-06  ...           False                 NaN\n",
              "5280        FI  00.000.746/0001-03  ...           False  60.770.336/0001-65\n",
              "...        ...                 ...  ...             ...                 ...\n",
              "49348     FIDC  97.525.450/0001-30  ...             NaN  09.446.129/0001-00\n",
              "46482       FI  97.525.450/0001-30  ...           False                 NaN\n",
              "46483       FI  97.525.452/0001-29  ...           False                 NaN\n",
              "46484       FI  97.525.452/0001-29  ...           False  09.446.129/0001-00\n",
              "49349     FIDC  97.525.452/0001-29  ...             NaN  09.446.129/0001-00\n",
              "\n",
              "[14977 rows x 9 columns]"
            ]
          },
          "metadata": {
            "tags": []
          },
          "execution_count": 35
        }
      ]
    },
    {
      "cell_type": "markdown",
      "metadata": {
        "id": "JFq29oQdAKQO"
      },
      "source": [
        "O dataframe para carga no banco de dados de grafos deverá conter __apenas uma linha por CNPJ__, referente ao registro mais recente do fundo na CVM.\n",
        "\n",
        "Por causa dessa mesma restrição de uma linha por CNPJ, o dataframe também não armazenará a informação de quem são os gestores do fundo (relacionamento de cardinalidade M:N).\n",
        "\n",
        "O atributo CNPJ será utilizado como identificador (_primary key_) do fundo."
      ]
    },
    {
      "cell_type": "code",
      "metadata": {
        "colab": {
          "base_uri": "https://localhost:8080/",
          "height": 424
        },
        "id": "TXsfYSfwKhWu",
        "outputId": "45ce4df3-5893-4eb5-e190-1f7bff668bb8"
      },
      "source": [
        "# Selecionando as linhas correspondentes à situação mais recente do fundo\n",
        "fundos_ultima_situacao = cad_fundo[['TP_FUNDO','CNPJ_FUNDO','DENOM_SOCIAL','DT_REG', 'SIT','DT_INI_SIT','FUNDO_COTAS','FUNDO_EXCLUSIVO']]\n",
        "fundos_ultima_situacao['SIT_AUX'] = fundos_ultima_situacao.apply(lambda row: sit_aux(row), axis=1)\n",
        "\n",
        "fundos_ultima_situacao = fundos_ultima_situacao.sort_values(by=['DT_INI_SIT', 'DT_REG', 'SIT_AUX']).drop_duplicates(subset=['CNPJ_FUNDO'],keep='last')\n",
        "fundos_ultima_situacao = fundos_ultima_situacao.drop(['DT_REG'], axis=1)\n",
        "fundos_ultima_situacao = fundos_ultima_situacao.drop(['SIT_AUX'], axis=1)\n",
        "\n",
        "fundos_ultima_situacao"
      ],
      "execution_count": null,
      "outputs": [
        {
          "output_type": "execute_result",
          "data": {
            "text/html": [
              "<div>\n",
              "<style scoped>\n",
              "    .dataframe tbody tr th:only-of-type {\n",
              "        vertical-align: middle;\n",
              "    }\n",
              "\n",
              "    .dataframe tbody tr th {\n",
              "        vertical-align: top;\n",
              "    }\n",
              "\n",
              "    .dataframe thead th {\n",
              "        text-align: right;\n",
              "    }\n",
              "</style>\n",
              "<table border=\"1\" class=\"dataframe\">\n",
              "  <thead>\n",
              "    <tr style=\"text-align: right;\">\n",
              "      <th></th>\n",
              "      <th>TP_FUNDO</th>\n",
              "      <th>CNPJ_FUNDO</th>\n",
              "      <th>DENOM_SOCIAL</th>\n",
              "      <th>SIT</th>\n",
              "      <th>DT_INI_SIT</th>\n",
              "      <th>FUNDO_COTAS</th>\n",
              "      <th>FUNDO_EXCLUSIVO</th>\n",
              "    </tr>\n",
              "  </thead>\n",
              "  <tbody>\n",
              "    <tr>\n",
              "      <th>59026</th>\n",
              "      <td>FMIA</td>\n",
              "      <td>29.183.837/0001-03</td>\n",
              "      <td>F LAN?A DE A</td>\n",
              "      <td>CANCELADA</td>\n",
              "      <td>1986-05-25</td>\n",
              "      <td>NaN</td>\n",
              "      <td>NaN</td>\n",
              "    </tr>\n",
              "    <tr>\n",
              "      <th>59124</th>\n",
              "      <td>FMIA</td>\n",
              "      <td>55.221.998/0001-46</td>\n",
              "      <td>F PRICE DE A</td>\n",
              "      <td>CANCELADA</td>\n",
              "      <td>1987-06-05</td>\n",
              "      <td>NaN</td>\n",
              "      <td>NaN</td>\n",
              "    </tr>\n",
              "    <tr>\n",
              "      <th>59134</th>\n",
              "      <td>FMIA</td>\n",
              "      <td>56.093.081/0001-76</td>\n",
              "      <td>F ULTRACRED DE A</td>\n",
              "      <td>CANCELADA</td>\n",
              "      <td>1987-09-03</td>\n",
              "      <td>NaN</td>\n",
              "      <td>NaN</td>\n",
              "    </tr>\n",
              "    <tr>\n",
              "      <th>59032</th>\n",
              "      <td>FMIA</td>\n",
              "      <td>29.410.727/0001-29</td>\n",
              "      <td>PORTINVEST FIA PORTAL</td>\n",
              "      <td>CANCELADA</td>\n",
              "      <td>1987-10-30</td>\n",
              "      <td>NaN</td>\n",
              "      <td>NaN</td>\n",
              "    </tr>\n",
              "    <tr>\n",
              "      <th>59037</th>\n",
              "      <td>FMIA</td>\n",
              "      <td>29.415.700/0001-29</td>\n",
              "      <td>BONANÇA F DE A</td>\n",
              "      <td>CANCELADA</td>\n",
              "      <td>1987-11-10</td>\n",
              "      <td>NaN</td>\n",
              "      <td>NaN</td>\n",
              "    </tr>\n",
              "    <tr>\n",
              "      <th>...</th>\n",
              "      <td>...</td>\n",
              "      <td>...</td>\n",
              "      <td>...</td>\n",
              "      <td>...</td>\n",
              "      <td>...</td>\n",
              "      <td>...</td>\n",
              "      <td>...</td>\n",
              "    </tr>\n",
              "    <tr>\n",
              "      <th>58005</th>\n",
              "      <td>FIP</td>\n",
              "      <td>41.082.921/0001-28</td>\n",
              "      <td>FUNDO DE INVESTIMENTO EM PARTICIPAÇÕES BTG PAC...</td>\n",
              "      <td>FASE PRÉ-OPERACIONAL</td>\n",
              "      <td>2021-04-01</td>\n",
              "      <td>False</td>\n",
              "      <td>NaN</td>\n",
              "    </tr>\n",
              "    <tr>\n",
              "      <th>58008</th>\n",
              "      <td>FIP</td>\n",
              "      <td>41.256.932/0001-87</td>\n",
              "      <td>ROXO ESCARLATE FUNDO DE INVESTIMENTO EM PARTIC...</td>\n",
              "      <td>FASE PRÉ-OPERACIONAL</td>\n",
              "      <td>2021-04-01</td>\n",
              "      <td>False</td>\n",
              "      <td>NaN</td>\n",
              "    </tr>\n",
              "    <tr>\n",
              "      <th>49005</th>\n",
              "      <td>FIDC</td>\n",
              "      <td>35.099.744/0001-90</td>\n",
              "      <td>NOVO MUNDO FUNDO DE INVESTIMENTO EM DIREITOS C...</td>\n",
              "      <td>EM ANÁLISE</td>\n",
              "      <td>2021-04-01</td>\n",
              "      <td>False</td>\n",
              "      <td>NaN</td>\n",
              "    </tr>\n",
              "    <tr>\n",
              "      <th>35847</th>\n",
              "      <td>FI</td>\n",
              "      <td>29.300.737/0001-01</td>\n",
              "      <td>MANAGER LOGOS FUNDO DE INVESTIMENTO EM COTAS D...</td>\n",
              "      <td>EM FUNCIONAMENTO NORMAL</td>\n",
              "      <td>2021-10-01</td>\n",
              "      <td>True</td>\n",
              "      <td>False</td>\n",
              "    </tr>\n",
              "    <tr>\n",
              "      <th>45146</th>\n",
              "      <td>FI</td>\n",
              "      <td>39.817.883/0001-62</td>\n",
              "      <td>XP RESERVA TÉCNICA FUNDO DE INVESTIMENTO RENDA...</td>\n",
              "      <td>EM FUNCIONAMENTO NORMAL</td>\n",
              "      <td>2021-11-18</td>\n",
              "      <td>False</td>\n",
              "      <td>False</td>\n",
              "    </tr>\n",
              "  </tbody>\n",
              "</table>\n",
              "<p>52369 rows × 7 columns</p>\n",
              "</div>"
            ],
            "text/plain": [
              "      TP_FUNDO          CNPJ_FUNDO  ... FUNDO_COTAS FUNDO_EXCLUSIVO\n",
              "59026     FMIA  29.183.837/0001-03  ...         NaN             NaN\n",
              "59124     FMIA  55.221.998/0001-46  ...         NaN             NaN\n",
              "59134     FMIA  56.093.081/0001-76  ...         NaN             NaN\n",
              "59032     FMIA  29.410.727/0001-29  ...         NaN             NaN\n",
              "59037     FMIA  29.415.700/0001-29  ...         NaN             NaN\n",
              "...        ...                 ...  ...         ...             ...\n",
              "58005      FIP  41.082.921/0001-28  ...       False             NaN\n",
              "58008      FIP  41.256.932/0001-87  ...       False             NaN\n",
              "49005     FIDC  35.099.744/0001-90  ...       False             NaN\n",
              "35847       FI  29.300.737/0001-01  ...        True           False\n",
              "45146       FI  39.817.883/0001-62  ...       False           False\n",
              "\n",
              "[52369 rows x 7 columns]"
            ]
          },
          "metadata": {
            "tags": []
          },
          "execution_count": 36
        }
      ]
    },
    {
      "cell_type": "code",
      "metadata": {
        "colab": {
          "base_uri": "https://localhost:8080/",
          "height": 49
        },
        "id": "OIedTrrlnnyo",
        "outputId": "6ffdc71e-f9a6-4950-c0a5-399c7d09bd26"
      },
      "source": [
        "# Inspecionando fundos com mais de uma linha no dataset\n",
        "fundos_ultima_situacao[fundos_ultima_situacao.duplicated(subset=['CNPJ_FUNDO'], keep=False)].sort_values('CNPJ_FUNDO')"
      ],
      "execution_count": null,
      "outputs": [
        {
          "output_type": "execute_result",
          "data": {
            "text/html": [
              "<div>\n",
              "<style scoped>\n",
              "    .dataframe tbody tr th:only-of-type {\n",
              "        vertical-align: middle;\n",
              "    }\n",
              "\n",
              "    .dataframe tbody tr th {\n",
              "        vertical-align: top;\n",
              "    }\n",
              "\n",
              "    .dataframe thead th {\n",
              "        text-align: right;\n",
              "    }\n",
              "</style>\n",
              "<table border=\"1\" class=\"dataframe\">\n",
              "  <thead>\n",
              "    <tr style=\"text-align: right;\">\n",
              "      <th></th>\n",
              "      <th>TP_FUNDO</th>\n",
              "      <th>CNPJ_FUNDO</th>\n",
              "      <th>DENOM_SOCIAL</th>\n",
              "      <th>SIT</th>\n",
              "      <th>DT_INI_SIT</th>\n",
              "      <th>FUNDO_COTAS</th>\n",
              "      <th>FUNDO_EXCLUSIVO</th>\n",
              "    </tr>\n",
              "  </thead>\n",
              "  <tbody>\n",
              "  </tbody>\n",
              "</table>\n",
              "</div>"
            ],
            "text/plain": [
              "Empty DataFrame\n",
              "Columns: [TP_FUNDO, CNPJ_FUNDO, DENOM_SOCIAL, SIT, DT_INI_SIT, FUNDO_COTAS, FUNDO_EXCLUSIVO]\n",
              "Index: []"
            ]
          },
          "metadata": {
            "tags": []
          },
          "execution_count": 37
        }
      ]
    },
    {
      "cell_type": "markdown",
      "metadata": {
        "id": "xyyyUxOdCGnZ"
      },
      "source": [
        "Reduziremos o dataframe para conter __apenas os fundos referenciados no documento CDA__ em análise."
      ]
    },
    {
      "cell_type": "code",
      "metadata": {
        "colab": {
          "base_uri": "https://localhost:8080/",
          "height": 424
        },
        "id": "VaTAJmDQEau0",
        "outputId": "972bc204-b9d6-46c0-9839-cf658f34d4b4"
      },
      "source": [
        "# Fundos que informaram carteira de aplicações\n",
        "fundos_aplicacao = cda0[['CNPJ_FUNDO', 'VL_PATRIM_LIQ']]\n",
        "fundos_aplicacao"
      ],
      "execution_count": null,
      "outputs": [
        {
          "output_type": "execute_result",
          "data": {
            "text/html": [
              "<div>\n",
              "<style scoped>\n",
              "    .dataframe tbody tr th:only-of-type {\n",
              "        vertical-align: middle;\n",
              "    }\n",
              "\n",
              "    .dataframe tbody tr th {\n",
              "        vertical-align: top;\n",
              "    }\n",
              "\n",
              "    .dataframe thead th {\n",
              "        text-align: right;\n",
              "    }\n",
              "</style>\n",
              "<table border=\"1\" class=\"dataframe\">\n",
              "  <thead>\n",
              "    <tr style=\"text-align: right;\">\n",
              "      <th></th>\n",
              "      <th>CNPJ_FUNDO</th>\n",
              "      <th>VL_PATRIM_LIQ</th>\n",
              "    </tr>\n",
              "  </thead>\n",
              "  <tbody>\n",
              "    <tr>\n",
              "      <th>0</th>\n",
              "      <td>06.537.068/0001-90</td>\n",
              "      <td>1325.12</td>\n",
              "    </tr>\n",
              "    <tr>\n",
              "      <th>1</th>\n",
              "      <td>07.408.147/0001-64</td>\n",
              "      <td>28308.60</td>\n",
              "    </tr>\n",
              "    <tr>\n",
              "      <th>2</th>\n",
              "      <td>02.010.153/0001-45</td>\n",
              "      <td>17079539.69</td>\n",
              "    </tr>\n",
              "    <tr>\n",
              "      <th>3</th>\n",
              "      <td>02.177.812/0001-32</td>\n",
              "      <td>66438968.44</td>\n",
              "    </tr>\n",
              "    <tr>\n",
              "      <th>4</th>\n",
              "      <td>02.177.815/0001-76</td>\n",
              "      <td>2044493.92</td>\n",
              "    </tr>\n",
              "    <tr>\n",
              "      <th>...</th>\n",
              "      <td>...</td>\n",
              "      <td>...</td>\n",
              "    </tr>\n",
              "    <tr>\n",
              "      <th>19141</th>\n",
              "      <td>04.573.850/0001-30</td>\n",
              "      <td>1531828.38</td>\n",
              "    </tr>\n",
              "    <tr>\n",
              "      <th>19142</th>\n",
              "      <td>04.602.186/0001-00</td>\n",
              "      <td>745123.56</td>\n",
              "    </tr>\n",
              "    <tr>\n",
              "      <th>19143</th>\n",
              "      <td>04.609.196/0001-77</td>\n",
              "      <td>330930.45</td>\n",
              "    </tr>\n",
              "    <tr>\n",
              "      <th>19144</th>\n",
              "      <td>04.609.212/0001-21</td>\n",
              "      <td>1686446.84</td>\n",
              "    </tr>\n",
              "    <tr>\n",
              "      <th>19145</th>\n",
              "      <td>11.179.262/0001-81</td>\n",
              "      <td>1780896.83</td>\n",
              "    </tr>\n",
              "  </tbody>\n",
              "</table>\n",
              "<p>19146 rows × 2 columns</p>\n",
              "</div>"
            ],
            "text/plain": [
              "               CNPJ_FUNDO VL_PATRIM_LIQ\n",
              "0      06.537.068/0001-90       1325.12\n",
              "1      07.408.147/0001-64      28308.60\n",
              "2      02.010.153/0001-45   17079539.69\n",
              "3      02.177.812/0001-32   66438968.44\n",
              "4      02.177.815/0001-76    2044493.92\n",
              "...                   ...           ...\n",
              "19141  04.573.850/0001-30    1531828.38\n",
              "19142  04.602.186/0001-00     745123.56\n",
              "19143  04.609.196/0001-77     330930.45\n",
              "19144  04.609.212/0001-21    1686446.84\n",
              "19145  11.179.262/0001-81    1780896.83\n",
              "\n",
              "[19146 rows x 2 columns]"
            ]
          },
          "metadata": {
            "tags": []
          },
          "execution_count": 40
        }
      ]
    },
    {
      "cell_type": "code",
      "metadata": {
        "colab": {
          "base_uri": "https://localhost:8080/",
          "height": 424
        },
        "id": "Y49bidQvD4eG",
        "outputId": "a5501c60-0ce5-4b93-ff82-f5d2658323ad"
      },
      "source": [
        "# Fundos cujas cotas são ativos em que outros fundos aplicam\n",
        "fundos_alvo_aplicacao = cda2[['CNPJ_FUNDO_COTA']].drop_duplicates()\n",
        "fundos_alvo_aplicacao"
      ],
      "execution_count": null,
      "outputs": [
        {
          "output_type": "execute_result",
          "data": {
            "text/html": [
              "<div>\n",
              "<style scoped>\n",
              "    .dataframe tbody tr th:only-of-type {\n",
              "        vertical-align: middle;\n",
              "    }\n",
              "\n",
              "    .dataframe tbody tr th {\n",
              "        vertical-align: top;\n",
              "    }\n",
              "\n",
              "    .dataframe thead th {\n",
              "        text-align: right;\n",
              "    }\n",
              "</style>\n",
              "<table border=\"1\" class=\"dataframe\">\n",
              "  <thead>\n",
              "    <tr style=\"text-align: right;\">\n",
              "      <th></th>\n",
              "      <th>CNPJ_FUNDO_COTA</th>\n",
              "    </tr>\n",
              "  </thead>\n",
              "  <tbody>\n",
              "    <tr>\n",
              "      <th>0</th>\n",
              "      <td>08.046.417/0001-05</td>\n",
              "    </tr>\n",
              "    <tr>\n",
              "      <th>1</th>\n",
              "      <td>01.608.573/0001-65</td>\n",
              "    </tr>\n",
              "    <tr>\n",
              "      <th>2</th>\n",
              "      <td>01.235.622/0001-61</td>\n",
              "    </tr>\n",
              "    <tr>\n",
              "      <th>3</th>\n",
              "      <td>10.597.218/0001-29</td>\n",
              "    </tr>\n",
              "    <tr>\n",
              "      <th>4</th>\n",
              "      <td>08.277.553/0001-06</td>\n",
              "    </tr>\n",
              "    <tr>\n",
              "      <th>...</th>\n",
              "      <td>...</td>\n",
              "    </tr>\n",
              "    <tr>\n",
              "      <th>140169</th>\n",
              "      <td>14.038.410/0001-36</td>\n",
              "    </tr>\n",
              "    <tr>\n",
              "      <th>140215</th>\n",
              "      <td>32.073.244/0001-90</td>\n",
              "    </tr>\n",
              "    <tr>\n",
              "      <th>140349</th>\n",
              "      <td>35.645.145/0001-24</td>\n",
              "    </tr>\n",
              "    <tr>\n",
              "      <th>140383</th>\n",
              "      <td>37.236.082/0001-88</td>\n",
              "    </tr>\n",
              "    <tr>\n",
              "      <th>140426</th>\n",
              "      <td>26.740.437/0001-55</td>\n",
              "    </tr>\n",
              "  </tbody>\n",
              "</table>\n",
              "<p>7943 rows × 1 columns</p>\n",
              "</div>"
            ],
            "text/plain": [
              "           CNPJ_FUNDO_COTA\n",
              "0       08.046.417/0001-05\n",
              "1       01.608.573/0001-65\n",
              "2       01.235.622/0001-61\n",
              "3       10.597.218/0001-29\n",
              "4       08.277.553/0001-06\n",
              "...                    ...\n",
              "140169  14.038.410/0001-36\n",
              "140215  32.073.244/0001-90\n",
              "140349  35.645.145/0001-24\n",
              "140383  37.236.082/0001-88\n",
              "140426  26.740.437/0001-55\n",
              "\n",
              "[7943 rows x 1 columns]"
            ]
          },
          "metadata": {
            "tags": []
          },
          "execution_count": 41
        }
      ]
    },
    {
      "cell_type": "code",
      "metadata": {
        "colab": {
          "base_uri": "https://localhost:8080/",
          "height": 424
        },
        "id": "eK7T8lNzFUxr",
        "outputId": "51d2fc81-e862-49f4-d9fb-8710a2c0b2cf"
      },
      "source": [
        "# Todos os fundos referenciados no CDA\n",
        "fundos_cda = pd.concat([fundos_aplicacao,fundos_alvo_aplicacao.rename(columns={'CNPJ_FUNDO_COTA': 'CNPJ_FUNDO'})]).fillna('').sort_values('VL_PATRIM_LIQ').drop_duplicates(subset=['CNPJ_FUNDO'], keep='last')\n",
        "fundos_cda"
      ],
      "execution_count": null,
      "outputs": [
        {
          "output_type": "execute_result",
          "data": {
            "text/html": [
              "<div>\n",
              "<style scoped>\n",
              "    .dataframe tbody tr th:only-of-type {\n",
              "        vertical-align: middle;\n",
              "    }\n",
              "\n",
              "    .dataframe tbody tr th {\n",
              "        vertical-align: top;\n",
              "    }\n",
              "\n",
              "    .dataframe thead th {\n",
              "        text-align: right;\n",
              "    }\n",
              "</style>\n",
              "<table border=\"1\" class=\"dataframe\">\n",
              "  <thead>\n",
              "    <tr style=\"text-align: right;\">\n",
              "      <th></th>\n",
              "      <th>CNPJ_FUNDO</th>\n",
              "      <th>VL_PATRIM_LIQ</th>\n",
              "    </tr>\n",
              "  </thead>\n",
              "  <tbody>\n",
              "    <tr>\n",
              "      <th>14062</th>\n",
              "      <td>13.328.452/0001-49</td>\n",
              "      <td></td>\n",
              "    </tr>\n",
              "    <tr>\n",
              "      <th>13900</th>\n",
              "      <td>18.289.950/0001-43</td>\n",
              "      <td></td>\n",
              "    </tr>\n",
              "    <tr>\n",
              "      <th>14063</th>\n",
              "      <td>16.435.858/0001-19</td>\n",
              "      <td></td>\n",
              "    </tr>\n",
              "    <tr>\n",
              "      <th>13924</th>\n",
              "      <td>11.326.746/0001-06</td>\n",
              "      <td></td>\n",
              "    </tr>\n",
              "    <tr>\n",
              "      <th>13926</th>\n",
              "      <td>31.933.158/0001-48</td>\n",
              "      <td></td>\n",
              "    </tr>\n",
              "    <tr>\n",
              "      <th>...</th>\n",
              "      <td>...</td>\n",
              "      <td>...</td>\n",
              "    </tr>\n",
              "    <tr>\n",
              "      <th>16166</th>\n",
              "      <td>35.002.455/0001-20</td>\n",
              "      <td>99971262.26</td>\n",
              "    </tr>\n",
              "    <tr>\n",
              "      <th>18755</th>\n",
              "      <td>38.394.157/0001-11</td>\n",
              "      <td>9997326.63</td>\n",
              "    </tr>\n",
              "    <tr>\n",
              "      <th>16988</th>\n",
              "      <td>35.844.962/0001-01</td>\n",
              "      <td>99980155.79</td>\n",
              "    </tr>\n",
              "    <tr>\n",
              "      <th>17524</th>\n",
              "      <td>36.498.260/0001-86</td>\n",
              "      <td>999891.20</td>\n",
              "    </tr>\n",
              "    <tr>\n",
              "      <th>18828</th>\n",
              "      <td>38.860.877/0001-25</td>\n",
              "      <td>9999512.97</td>\n",
              "    </tr>\n",
              "  </tbody>\n",
              "</table>\n",
              "<p>20564 rows × 2 columns</p>\n",
              "</div>"
            ],
            "text/plain": [
              "               CNPJ_FUNDO VL_PATRIM_LIQ\n",
              "14062  13.328.452/0001-49              \n",
              "13900  18.289.950/0001-43              \n",
              "14063  16.435.858/0001-19              \n",
              "13924  11.326.746/0001-06              \n",
              "13926  31.933.158/0001-48              \n",
              "...                   ...           ...\n",
              "16166  35.002.455/0001-20   99971262.26\n",
              "18755  38.394.157/0001-11    9997326.63\n",
              "16988  35.844.962/0001-01   99980155.79\n",
              "17524  36.498.260/0001-86     999891.20\n",
              "18828  38.860.877/0001-25    9999512.97\n",
              "\n",
              "[20564 rows x 2 columns]"
            ]
          },
          "metadata": {
            "tags": []
          },
          "execution_count": 42
        }
      ]
    },
    {
      "cell_type": "markdown",
      "metadata": {
        "id": "JmXQSZfzwmyi"
      },
      "source": [
        "Finalmente, o dataframe _fundos_ irá será enriquecido com o valor do patrimônio líquido informado no CDA em análise (atributo VL_PATRIM_LIQ)."
      ]
    },
    {
      "cell_type": "code",
      "metadata": {
        "colab": {
          "base_uri": "https://localhost:8080/",
          "height": 424
        },
        "id": "hhBB-C47Fw69",
        "outputId": "c3c5d847-0f4a-47fb-f451-357c6df8a174"
      },
      "source": [
        "# Seleciona apenas dos fundos referenciados no CDA\n",
        "fundos = pd.merge(fundos_ultima_situacao, fundos_cda, how=\"inner\", on=[\"CNPJ_FUNDO\"]).fillna('')\n",
        "fundos"
      ],
      "execution_count": null,
      "outputs": [
        {
          "output_type": "execute_result",
          "data": {
            "text/html": [
              "<div>\n",
              "<style scoped>\n",
              "    .dataframe tbody tr th:only-of-type {\n",
              "        vertical-align: middle;\n",
              "    }\n",
              "\n",
              "    .dataframe tbody tr th {\n",
              "        vertical-align: top;\n",
              "    }\n",
              "\n",
              "    .dataframe thead th {\n",
              "        text-align: right;\n",
              "    }\n",
              "</style>\n",
              "<table border=\"1\" class=\"dataframe\">\n",
              "  <thead>\n",
              "    <tr style=\"text-align: right;\">\n",
              "      <th></th>\n",
              "      <th>TP_FUNDO</th>\n",
              "      <th>CNPJ_FUNDO</th>\n",
              "      <th>DENOM_SOCIAL</th>\n",
              "      <th>SIT</th>\n",
              "      <th>DT_INI_SIT</th>\n",
              "      <th>FUNDO_COTAS</th>\n",
              "      <th>FUNDO_EXCLUSIVO</th>\n",
              "      <th>VL_PATRIM_LIQ</th>\n",
              "    </tr>\n",
              "  </thead>\n",
              "  <tbody>\n",
              "    <tr>\n",
              "      <th>0</th>\n",
              "      <td>FAPI</td>\n",
              "      <td>02.177.812/0001-32</td>\n",
              "      <td>ITAU FAPI RENDA FIXA - FUNDO DE APOSENTADORIA ...</td>\n",
              "      <td>EM FUNCIONAMENTO NORMAL</td>\n",
              "      <td>1997-11-27</td>\n",
              "      <td></td>\n",
              "      <td></td>\n",
              "      <td>66438968.44</td>\n",
              "    </tr>\n",
              "    <tr>\n",
              "      <th>1</th>\n",
              "      <td>FAPI</td>\n",
              "      <td>02.226.122/0001-26</td>\n",
              "      <td>UNIBANCO FUNDO DE APOSENTADORIA PROGRAMADA IND...</td>\n",
              "      <td>EM FUNCIONAMENTO NORMAL</td>\n",
              "      <td>1997-12-05</td>\n",
              "      <td></td>\n",
              "      <td></td>\n",
              "      <td>4740.45</td>\n",
              "    </tr>\n",
              "    <tr>\n",
              "      <th>2</th>\n",
              "      <td>FAPI</td>\n",
              "      <td>02.177.815/0001-76</td>\n",
              "      <td>ITAU FAPI CONSERVADOR - FUNDO DE APOSENTADORIA...</td>\n",
              "      <td>EM FUNCIONAMENTO NORMAL</td>\n",
              "      <td>1997-12-16</td>\n",
              "      <td></td>\n",
              "      <td></td>\n",
              "      <td>2044493.92</td>\n",
              "    </tr>\n",
              "    <tr>\n",
              "      <th>3</th>\n",
              "      <td>FAPI</td>\n",
              "      <td>02.185.027/0001-21</td>\n",
              "      <td>BRADESCO FUNDO DE APOSENTADORIA PROGRAMADA IND...</td>\n",
              "      <td>EM FUNCIONAMENTO NORMAL</td>\n",
              "      <td>1997-12-19</td>\n",
              "      <td></td>\n",
              "      <td></td>\n",
              "      <td>453086833.64</td>\n",
              "    </tr>\n",
              "    <tr>\n",
              "      <th>4</th>\n",
              "      <td>FAPI</td>\n",
              "      <td>02.297.533/0001-02</td>\n",
              "      <td>BRADESCO FUNDO DE APOSENTADORIA PROGRAMADA IND...</td>\n",
              "      <td>EM FUNCIONAMENTO NORMAL</td>\n",
              "      <td>1997-12-29</td>\n",
              "      <td></td>\n",
              "      <td></td>\n",
              "      <td>15654242.81</td>\n",
              "    </tr>\n",
              "    <tr>\n",
              "      <th>...</th>\n",
              "      <td>...</td>\n",
              "      <td>...</td>\n",
              "      <td>...</td>\n",
              "      <td>...</td>\n",
              "      <td>...</td>\n",
              "      <td>...</td>\n",
              "      <td>...</td>\n",
              "      <td>...</td>\n",
              "    </tr>\n",
              "    <tr>\n",
              "      <th>20559</th>\n",
              "      <td>FI</td>\n",
              "      <td>33.667.778/0001-08</td>\n",
              "      <td>CA INDOSUEZ DEBÊNTURES INCENTIVADAS 60 CRÉDITO...</td>\n",
              "      <td>CANCELADA</td>\n",
              "      <td>2021-03-26</td>\n",
              "      <td>True</td>\n",
              "      <td>False</td>\n",
              "      <td>4230106.15</td>\n",
              "    </tr>\n",
              "    <tr>\n",
              "      <th>20560</th>\n",
              "      <td>FIP</td>\n",
              "      <td>35.640.839/0001-79</td>\n",
              "      <td>G5 MOBILE II FUNDO DE INVESTIMENTO EM PARTICIP...</td>\n",
              "      <td>LIQUIDAÇÃO</td>\n",
              "      <td>2021-03-29</td>\n",
              "      <td>False</td>\n",
              "      <td></td>\n",
              "      <td></td>\n",
              "    </tr>\n",
              "    <tr>\n",
              "      <th>20561</th>\n",
              "      <td>FIP</td>\n",
              "      <td>26.314.464/0001-66</td>\n",
              "      <td>BTG PACTUAL INFRAESTRUTURA II ENERGIA FUNDO DE...</td>\n",
              "      <td>LIQUIDAÇÃO</td>\n",
              "      <td>2021-03-30</td>\n",
              "      <td>False</td>\n",
              "      <td></td>\n",
              "      <td></td>\n",
              "    </tr>\n",
              "    <tr>\n",
              "      <th>20562</th>\n",
              "      <td>FI</td>\n",
              "      <td>29.994.524/0001-27</td>\n",
              "      <td>FUNDO DE INVESTIMENTO EM COTAS DE FUNDOS DE IN...</td>\n",
              "      <td>CANCELADA</td>\n",
              "      <td>2021-04-01</td>\n",
              "      <td>True</td>\n",
              "      <td>True</td>\n",
              "      <td>7129047.57</td>\n",
              "    </tr>\n",
              "    <tr>\n",
              "      <th>20563</th>\n",
              "      <td>FI</td>\n",
              "      <td>29.300.737/0001-01</td>\n",
              "      <td>MANAGER LOGOS FUNDO DE INVESTIMENTO EM COTAS D...</td>\n",
              "      <td>EM FUNCIONAMENTO NORMAL</td>\n",
              "      <td>2021-10-01</td>\n",
              "      <td>True</td>\n",
              "      <td>False</td>\n",
              "      <td>0.00</td>\n",
              "    </tr>\n",
              "  </tbody>\n",
              "</table>\n",
              "<p>20564 rows × 8 columns</p>\n",
              "</div>"
            ],
            "text/plain": [
              "      TP_FUNDO          CNPJ_FUNDO  ... FUNDO_EXCLUSIVO VL_PATRIM_LIQ\n",
              "0         FAPI  02.177.812/0001-32  ...                   66438968.44\n",
              "1         FAPI  02.226.122/0001-26  ...                       4740.45\n",
              "2         FAPI  02.177.815/0001-76  ...                    2044493.92\n",
              "3         FAPI  02.185.027/0001-21  ...                  453086833.64\n",
              "4         FAPI  02.297.533/0001-02  ...                   15654242.81\n",
              "...        ...                 ...  ...             ...           ...\n",
              "20559       FI  33.667.778/0001-08  ...           False    4230106.15\n",
              "20560      FIP  35.640.839/0001-79  ...                              \n",
              "20561      FIP  26.314.464/0001-66  ...                              \n",
              "20562       FI  29.994.524/0001-27  ...            True    7129047.57\n",
              "20563       FI  29.300.737/0001-01  ...           False          0.00\n",
              "\n",
              "[20564 rows x 8 columns]"
            ]
          },
          "metadata": {
            "tags": []
          },
          "execution_count": 43
        }
      ]
    },
    {
      "cell_type": "markdown",
      "metadata": {
        "id": "ndWmilxOKm6C"
      },
      "source": [
        "### Gestores"
      ]
    },
    {
      "cell_type": "markdown",
      "metadata": {
        "id": "W6L6W1QouCWN"
      },
      "source": [
        "A associação entre fundos e seus gestores será recuperada do dataframe baixado do Portal de Dados Abertos (_cad_fundo_) e armazenada em um novo dataframe: _fundos_gestores_. "
      ]
    },
    {
      "cell_type": "code",
      "metadata": {
        "colab": {
          "base_uri": "https://localhost:8080/",
          "height": 424
        },
        "id": "i7lrpykBEEm0",
        "outputId": "c99cac0c-0b0d-4ecc-bd53-abce668216c2"
      },
      "source": [
        "# Fundos e seus gestores\n",
        "df = cad_fundo[['TP_FUNDO','CNPJ_FUNDO','SIT','DT_INI_SIT','CPF_CNPJ_GESTOR']].dropna().drop_duplicates()\n",
        "\n",
        "# Associando novamente os gestores aos fundos selecionados\n",
        "fundos_gestores = pd.merge(fundos, df, how=\"inner\", on=[\"TP_FUNDO\",\"CNPJ_FUNDO\",\"SIT\",\"DT_INI_SIT\"])\n",
        "fundos_gestores = fundos_gestores[['CNPJ_FUNDO','CPF_CNPJ_GESTOR']]\n",
        "fundos_gestores"
      ],
      "execution_count": null,
      "outputs": [
        {
          "output_type": "execute_result",
          "data": {
            "text/html": [
              "<div>\n",
              "<style scoped>\n",
              "    .dataframe tbody tr th:only-of-type {\n",
              "        vertical-align: middle;\n",
              "    }\n",
              "\n",
              "    .dataframe tbody tr th {\n",
              "        vertical-align: top;\n",
              "    }\n",
              "\n",
              "    .dataframe thead th {\n",
              "        text-align: right;\n",
              "    }\n",
              "</style>\n",
              "<table border=\"1\" class=\"dataframe\">\n",
              "  <thead>\n",
              "    <tr style=\"text-align: right;\">\n",
              "      <th></th>\n",
              "      <th>CNPJ_FUNDO</th>\n",
              "      <th>CPF_CNPJ_GESTOR</th>\n",
              "    </tr>\n",
              "  </thead>\n",
              "  <tbody>\n",
              "    <tr>\n",
              "      <th>0</th>\n",
              "      <td>03.915.495/0001-77</td>\n",
              "      <td>60.701.190/0001-04</td>\n",
              "    </tr>\n",
              "    <tr>\n",
              "      <th>1</th>\n",
              "      <td>02.838.578/0001-47</td>\n",
              "      <td>30.822.936/0001-69</td>\n",
              "    </tr>\n",
              "    <tr>\n",
              "      <th>2</th>\n",
              "      <td>02.998.275/0001-91</td>\n",
              "      <td>62.375.134/0001-44</td>\n",
              "    </tr>\n",
              "    <tr>\n",
              "      <th>3</th>\n",
              "      <td>03.555.959/0001-81</td>\n",
              "      <td>00.360.305/0001-04</td>\n",
              "    </tr>\n",
              "    <tr>\n",
              "      <th>4</th>\n",
              "      <td>03.859.784/0001-04</td>\n",
              "      <td>33.311.713/0001-25</td>\n",
              "    </tr>\n",
              "    <tr>\n",
              "      <th>...</th>\n",
              "      <td>...</td>\n",
              "      <td>...</td>\n",
              "    </tr>\n",
              "    <tr>\n",
              "      <th>21037</th>\n",
              "      <td>17.892.709/0001-41</td>\n",
              "      <td>12.695.840/0001-03</td>\n",
              "    </tr>\n",
              "    <tr>\n",
              "      <th>21038</th>\n",
              "      <td>33.667.778/0001-08</td>\n",
              "      <td>01.638.542/0001-57</td>\n",
              "    </tr>\n",
              "    <tr>\n",
              "      <th>21039</th>\n",
              "      <td>35.640.839/0001-79</td>\n",
              "      <td>14.121.173/0001-72</td>\n",
              "    </tr>\n",
              "    <tr>\n",
              "      <th>21040</th>\n",
              "      <td>26.314.464/0001-66</td>\n",
              "      <td>09.631.542/0001-37</td>\n",
              "    </tr>\n",
              "    <tr>\n",
              "      <th>21041</th>\n",
              "      <td>29.300.737/0001-01</td>\n",
              "      <td>62.180.047/0001-31</td>\n",
              "    </tr>\n",
              "  </tbody>\n",
              "</table>\n",
              "<p>21042 rows × 2 columns</p>\n",
              "</div>"
            ],
            "text/plain": [
              "               CNPJ_FUNDO     CPF_CNPJ_GESTOR\n",
              "0      03.915.495/0001-77  60.701.190/0001-04\n",
              "1      02.838.578/0001-47  30.822.936/0001-69\n",
              "2      02.998.275/0001-91  62.375.134/0001-44\n",
              "3      03.555.959/0001-81  00.360.305/0001-04\n",
              "4      03.859.784/0001-04  33.311.713/0001-25\n",
              "...                   ...                 ...\n",
              "21037  17.892.709/0001-41  12.695.840/0001-03\n",
              "21038  33.667.778/0001-08  01.638.542/0001-57\n",
              "21039  35.640.839/0001-79  14.121.173/0001-72\n",
              "21040  26.314.464/0001-66  09.631.542/0001-37\n",
              "21041  29.300.737/0001-01  62.180.047/0001-31\n",
              "\n",
              "[21042 rows x 2 columns]"
            ]
          },
          "metadata": {
            "tags": []
          },
          "execution_count": 44
        }
      ]
    },
    {
      "cell_type": "markdown",
      "metadata": {
        "id": "nSG6fwGhzZ-w"
      },
      "source": [
        "O relacionamento entre fundos e gestores possui cardinalidade M:N, por isso o novo dataframe pode apresentar mais de uma linha por CNPJ."
      ]
    },
    {
      "cell_type": "code",
      "metadata": {
        "colab": {
          "base_uri": "https://localhost:8080/",
          "height": 424
        },
        "id": "z8AkOZwuGume",
        "outputId": "ea7f4498-101a-4e68-a034-8131fc84aba6"
      },
      "source": [
        "# Inspecionando fundos com mais de uma linha no dataset (mais de um gestor)\n",
        "fundos_gestores[fundos_gestores.duplicated(subset=['CNPJ_FUNDO'], keep=False)].sort_values('CNPJ_FUNDO')"
      ],
      "execution_count": null,
      "outputs": [
        {
          "output_type": "execute_result",
          "data": {
            "text/html": [
              "<div>\n",
              "<style scoped>\n",
              "    .dataframe tbody tr th:only-of-type {\n",
              "        vertical-align: middle;\n",
              "    }\n",
              "\n",
              "    .dataframe tbody tr th {\n",
              "        vertical-align: top;\n",
              "    }\n",
              "\n",
              "    .dataframe thead th {\n",
              "        text-align: right;\n",
              "    }\n",
              "</style>\n",
              "<table border=\"1\" class=\"dataframe\">\n",
              "  <thead>\n",
              "    <tr style=\"text-align: right;\">\n",
              "      <th></th>\n",
              "      <th>CNPJ_FUNDO</th>\n",
              "      <th>CPF_CNPJ_GESTOR</th>\n",
              "    </tr>\n",
              "  </thead>\n",
              "  <tbody>\n",
              "    <tr>\n",
              "      <th>1580</th>\n",
              "      <td>01.392.020/0001-18</td>\n",
              "      <td>62.375.134/0001-44</td>\n",
              "    </tr>\n",
              "    <tr>\n",
              "      <th>1579</th>\n",
              "      <td>01.392.020/0001-18</td>\n",
              "      <td>51.990.695/0001-37</td>\n",
              "    </tr>\n",
              "    <tr>\n",
              "      <th>1532</th>\n",
              "      <td>01.392.021/0001-62</td>\n",
              "      <td>51.990.695/0001-37</td>\n",
              "    </tr>\n",
              "    <tr>\n",
              "      <th>1533</th>\n",
              "      <td>01.392.021/0001-62</td>\n",
              "      <td>62.375.134/0001-44</td>\n",
              "    </tr>\n",
              "    <tr>\n",
              "      <th>1582</th>\n",
              "      <td>01.606.509/0001-45</td>\n",
              "      <td>62.375.134/0001-44</td>\n",
              "    </tr>\n",
              "    <tr>\n",
              "      <th>...</th>\n",
              "      <td>...</td>\n",
              "      <td>...</td>\n",
              "    </tr>\n",
              "    <tr>\n",
              "      <th>19572</th>\n",
              "      <td>37.828.367/0001-08</td>\n",
              "      <td>12.330.774/0001-60</td>\n",
              "    </tr>\n",
              "    <tr>\n",
              "      <th>20766</th>\n",
              "      <td>37.900.216/0001-13</td>\n",
              "      <td>16.789.525/0001-98</td>\n",
              "    </tr>\n",
              "    <tr>\n",
              "      <th>20767</th>\n",
              "      <td>37.900.216/0001-13</td>\n",
              "      <td>29.408.732/0001-05</td>\n",
              "    </tr>\n",
              "    <tr>\n",
              "      <th>20348</th>\n",
              "      <td>38.489.304/0001-37</td>\n",
              "      <td>18.506.057/0001-22</td>\n",
              "    </tr>\n",
              "    <tr>\n",
              "      <th>20347</th>\n",
              "      <td>38.489.304/0001-37</td>\n",
              "      <td>11.918.575/0001-04</td>\n",
              "    </tr>\n",
              "  </tbody>\n",
              "</table>\n",
              "<p>1612 rows × 2 columns</p>\n",
              "</div>"
            ],
            "text/plain": [
              "               CNPJ_FUNDO     CPF_CNPJ_GESTOR\n",
              "1580   01.392.020/0001-18  62.375.134/0001-44\n",
              "1579   01.392.020/0001-18  51.990.695/0001-37\n",
              "1532   01.392.021/0001-62  51.990.695/0001-37\n",
              "1533   01.392.021/0001-62  62.375.134/0001-44\n",
              "1582   01.606.509/0001-45  62.375.134/0001-44\n",
              "...                   ...                 ...\n",
              "19572  37.828.367/0001-08  12.330.774/0001-60\n",
              "20766  37.900.216/0001-13  16.789.525/0001-98\n",
              "20767  37.900.216/0001-13  29.408.732/0001-05\n",
              "20348  38.489.304/0001-37  18.506.057/0001-22\n",
              "20347  38.489.304/0001-37  11.918.575/0001-04\n",
              "\n",
              "[1612 rows x 2 columns]"
            ]
          },
          "metadata": {
            "tags": []
          },
          "execution_count": 45
        }
      ]
    },
    {
      "cell_type": "markdown",
      "metadata": {
        "id": "8CX-zI3t0rad"
      },
      "source": [
        "Reduziremos o dataframe com dados cadastrais de gestores para conter apenas aqueles referenciados em _fundos_gestores_.\n",
        "\n",
        "O dataframe para carga no banco de dados de grafos também deverá conter __apenas uma linha por CPF ou CNPJ__.\n",
        "\n",
        "O atributo CPF_CNPJ_GESTOR será utilizado como identificador (primary key) do gestor."
      ]
    },
    {
      "cell_type": "code",
      "metadata": {
        "colab": {
          "base_uri": "https://localhost:8080/",
          "height": 424
        },
        "id": "8aWr3Z-sKnqi",
        "outputId": "fd208511-c0cc-4190-f76d-04ecee27d359"
      },
      "source": [
        "cad_gestor = cad_gestor.dropna().drop_duplicates()\n",
        "\n",
        "gestores = pd.merge(cad_gestor, fundos_gestores, how=\"inner\", on=[\"CPF_CNPJ_GESTOR\"])\n",
        "gestores = gestores[['CPF_CNPJ_GESTOR','GESTOR']].dropna().drop_duplicates(subset='CPF_CNPJ_GESTOR', keep=\"last\")\n",
        "\n",
        "gestores"
      ],
      "execution_count": null,
      "outputs": [
        {
          "output_type": "execute_result",
          "data": {
            "text/html": [
              "<div>\n",
              "<style scoped>\n",
              "    .dataframe tbody tr th:only-of-type {\n",
              "        vertical-align: middle;\n",
              "    }\n",
              "\n",
              "    .dataframe tbody tr th {\n",
              "        vertical-align: top;\n",
              "    }\n",
              "\n",
              "    .dataframe thead th {\n",
              "        text-align: right;\n",
              "    }\n",
              "</style>\n",
              "<table border=\"1\" class=\"dataframe\">\n",
              "  <thead>\n",
              "    <tr style=\"text-align: right;\">\n",
              "      <th></th>\n",
              "      <th>CPF_CNPJ_GESTOR</th>\n",
              "      <th>GESTOR</th>\n",
              "    </tr>\n",
              "  </thead>\n",
              "  <tbody>\n",
              "    <tr>\n",
              "      <th>60</th>\n",
              "      <td>60.770.336/0001-65</td>\n",
              "      <td>BANCO ALFA DE INVESTIMENTO S.A.</td>\n",
              "    </tr>\n",
              "    <tr>\n",
              "      <th>1070</th>\n",
              "      <td>60.701.190/0001-04</td>\n",
              "      <td>ITAU UNIBANCO S.A.</td>\n",
              "    </tr>\n",
              "    <tr>\n",
              "      <th>1095</th>\n",
              "      <td>33.172.537/0001-98</td>\n",
              "      <td>BANCO J.P. MORGAN S.A.</td>\n",
              "    </tr>\n",
              "    <tr>\n",
              "      <th>1707</th>\n",
              "      <td>12.695.840/0001-03</td>\n",
              "      <td>JULIUS BAER FAMILY OFFICE BRASIL GESTÃO DE PAT...</td>\n",
              "    </tr>\n",
              "    <tr>\n",
              "      <th>3277</th>\n",
              "      <td>62.375.134/0001-44</td>\n",
              "      <td>BRAM - BRADESCO ASSET MANAGEMENT S.A. DISTRIBU...</td>\n",
              "    </tr>\n",
              "    <tr>\n",
              "      <th>...</th>\n",
              "      <td>...</td>\n",
              "      <td>...</td>\n",
              "    </tr>\n",
              "    <tr>\n",
              "      <th>22482</th>\n",
              "      <td>09.544.103/0001-97</td>\n",
              "      <td>INVESTIMAGE ADMINISTRADORA DE RECURSOS LTDA.</td>\n",
              "    </tr>\n",
              "    <tr>\n",
              "      <th>22484</th>\n",
              "      <td>29.292.940/0001-83</td>\n",
              "      <td>REDPOINT EVENTURES GESTÃO DE RECURSOS LTDA.</td>\n",
              "    </tr>\n",
              "    <tr>\n",
              "      <th>22486</th>\n",
              "      <td>35.096.963/0001-15</td>\n",
              "      <td>KAMAROOPIN GESTORA DE RECURSOS LTDA.</td>\n",
              "    </tr>\n",
              "    <tr>\n",
              "      <th>22488</th>\n",
              "      <td>35.098.686/0001-80</td>\n",
              "      <td>10B GESTORA DE RECURSOS LTDA.</td>\n",
              "    </tr>\n",
              "    <tr>\n",
              "      <th>22490</th>\n",
              "      <td>34.835.557/0001-64</td>\n",
              "      <td>CRESCERA ASSET MANAGEMENT LTDA.</td>\n",
              "    </tr>\n",
              "  </tbody>\n",
              "</table>\n",
              "<p>828 rows × 2 columns</p>\n",
              "</div>"
            ],
            "text/plain": [
              "          CPF_CNPJ_GESTOR                                             GESTOR\n",
              "60     60.770.336/0001-65                    BANCO ALFA DE INVESTIMENTO S.A.\n",
              "1070   60.701.190/0001-04                                 ITAU UNIBANCO S.A.\n",
              "1095   33.172.537/0001-98                             BANCO J.P. MORGAN S.A.\n",
              "1707   12.695.840/0001-03  JULIUS BAER FAMILY OFFICE BRASIL GESTÃO DE PAT...\n",
              "3277   62.375.134/0001-44  BRAM - BRADESCO ASSET MANAGEMENT S.A. DISTRIBU...\n",
              "...                   ...                                                ...\n",
              "22482  09.544.103/0001-97       INVESTIMAGE ADMINISTRADORA DE RECURSOS LTDA.\n",
              "22484  29.292.940/0001-83        REDPOINT EVENTURES GESTÃO DE RECURSOS LTDA.\n",
              "22486  35.096.963/0001-15               KAMAROOPIN GESTORA DE RECURSOS LTDA.\n",
              "22488  35.098.686/0001-80                      10B GESTORA DE RECURSOS LTDA.\n",
              "22490  34.835.557/0001-64                    CRESCERA ASSET MANAGEMENT LTDA.\n",
              "\n",
              "[828 rows x 2 columns]"
            ]
          },
          "metadata": {
            "tags": []
          },
          "execution_count": 46
        }
      ]
    },
    {
      "cell_type": "markdown",
      "metadata": {
        "id": "yoif1e2oVtG7"
      },
      "source": [
        "### Emissores"
      ]
    },
    {
      "cell_type": "markdown",
      "metadata": {
        "id": "-tIXeVfK5Ajj"
      },
      "source": [
        "Os emissores de ativos financeiros são informados nos blocos 5 a 8 do CDA (CPF/CNPJ e nome). \n",
        "\n",
        "Entretanto:\n",
        "* No bloco 7: não existe o atributo CPF/CNPJ, apenas o nome do emissor.\n",
        "* No bloco 8: encontramos linhas em que apenas o nome está preenchido, ou apenas o CPF/CNPJ."
      ]
    },
    {
      "cell_type": "code",
      "metadata": {
        "id": "5t7Myim-Y4li"
      },
      "source": [
        "emissores_cda5  = cda5[['CPF_CNPJ_EMISSOR','EMISSOR']].dropna(how='all').drop_duplicates().fillna('')\n",
        "emissores_cda6  = cda6[['CPF_CNPJ_EMISSOR','EMISSOR']].dropna(how='all').drop_duplicates().fillna('') \n",
        "emissores_cda7  = cda7[['EMISSOR']].dropna().drop_duplicates()\n",
        "emissores_cda8  = cda8[['CPF_CNPJ_EMISSOR','EMISSOR']].dropna(how='all').drop_duplicates().fillna('')"
      ],
      "execution_count": null,
      "outputs": []
    },
    {
      "cell_type": "code",
      "metadata": {
        "colab": {
          "base_uri": "https://localhost:8080/"
        },
        "id": "Q9KGCi27VMSE",
        "outputId": "fe2f5767-d523-4b1b-fdb2-aef5ddc7ac6b"
      },
      "source": [
        "# Verifica se não há valores ausentes ('missing values') em CPF_CNPJ_EMISSOR \n",
        "df = emissores_cda5[emissores_cda5['CPF_CNPJ_EMISSOR']=='']\n",
        "print(df.empty) "
      ],
      "execution_count": null,
      "outputs": [
        {
          "output_type": "stream",
          "text": [
            "True\n"
          ],
          "name": "stdout"
        }
      ]
    },
    {
      "cell_type": "code",
      "metadata": {
        "colab": {
          "base_uri": "https://localhost:8080/"
        },
        "id": "7QbG4YQZ8Xbb",
        "outputId": "6f332ca9-219f-4762-996a-819bbc8c41c9"
      },
      "source": [
        "# Verifica se não há valores ausentes ('missing values') em EMISSOR (Nome do Emissor) \n",
        "df = emissores_cda5[emissores_cda5['EMISSOR']=='']\n",
        "print(df.empty) "
      ],
      "execution_count": null,
      "outputs": [
        {
          "output_type": "stream",
          "text": [
            "True\n"
          ],
          "name": "stdout"
        }
      ]
    },
    {
      "cell_type": "code",
      "metadata": {
        "colab": {
          "base_uri": "https://localhost:8080/"
        },
        "id": "q-biqn05VWSv",
        "outputId": "d6221b95-4061-47e7-c5b4-c6d36c9319d5"
      },
      "source": [
        "# Verifica se não há valores ausentes ('missing values') em CPF_CNPJ_EMISSOR \n",
        "df = emissores_cda6[emissores_cda6['CPF_CNPJ_EMISSOR']=='']\n",
        "print(df.empty) "
      ],
      "execution_count": null,
      "outputs": [
        {
          "output_type": "stream",
          "text": [
            "True\n"
          ],
          "name": "stdout"
        }
      ]
    },
    {
      "cell_type": "code",
      "metadata": {
        "colab": {
          "base_uri": "https://localhost:8080/"
        },
        "id": "Msyf-Kyb8bzg",
        "outputId": "86a29057-7bab-409b-d2a6-8194a31f5bb8"
      },
      "source": [
        "# Verifica se não há valores ausentes ('missing values') em EMISSOR (Nome do Emissor) \n",
        "df = emissores_cda6[emissores_cda6['EMISSOR']=='']\n",
        "print(df.empty) "
      ],
      "execution_count": null,
      "outputs": [
        {
          "output_type": "stream",
          "text": [
            "True\n"
          ],
          "name": "stdout"
        }
      ]
    },
    {
      "cell_type": "code",
      "metadata": {
        "colab": {
          "base_uri": "https://localhost:8080/"
        },
        "id": "3OyVP6vqWGU-",
        "outputId": "bf88dd1f-6fe1-4496-a7b1-643643a6cc7a"
      },
      "source": [
        "# Verifica se não há valores ausentes ('missing values') em EMISSOR (Nome do Emissor) \n",
        "df = emissores_cda7[emissores_cda7['EMISSOR']=='']\n",
        "print(df.empty) "
      ],
      "execution_count": null,
      "outputs": [
        {
          "output_type": "stream",
          "text": [
            "True\n"
          ],
          "name": "stdout"
        }
      ]
    },
    {
      "cell_type": "code",
      "metadata": {
        "colab": {
          "base_uri": "https://localhost:8080/"
        },
        "id": "214dFnMJVWdz",
        "outputId": "3c10b803-7ec4-4f0e-fbac-293494d680a3"
      },
      "source": [
        "# Verifica se não há valores ausentes ('missing values') em CPF_CNPJ_EMISSOR \n",
        "df = emissores_cda8[emissores_cda8['CPF_CNPJ_EMISSOR']=='']\n",
        "print(df.empty) "
      ],
      "execution_count": null,
      "outputs": [
        {
          "output_type": "stream",
          "text": [
            "False\n"
          ],
          "name": "stdout"
        }
      ]
    },
    {
      "cell_type": "code",
      "metadata": {
        "colab": {
          "base_uri": "https://localhost:8080/"
        },
        "id": "4b_0XeOU7W4O",
        "outputId": "c864bd51-52f4-4f28-eb6b-f84ce169a452"
      },
      "source": [
        "# Verifica se há valores em EMISSOR (Nome do Emissor) sem valores correspondentes em CPF_CNPJ_EMISSOR\n",
        "df = emissores_cda8[emissores_cda8['CPF_CNPJ_EMISSOR']=='']\n",
        "df = df[df['EMISSOR']!='']\n",
        "print(not df.empty) "
      ],
      "execution_count": null,
      "outputs": [
        {
          "output_type": "stream",
          "text": [
            "True\n"
          ],
          "name": "stdout"
        }
      ]
    },
    {
      "cell_type": "markdown",
      "metadata": {
        "id": "xbMwZb2I8rdV"
      },
      "source": [
        "A base ISIN também contém uma tabela de emissores de ativos financeiros (dataframe _emissores_ativos_isin_). Nesta tabela, o atributo CPF/CNPJ é opcional, mas o nome está sempre preenchido."
      ]
    },
    {
      "cell_type": "code",
      "metadata": {
        "colab": {
          "base_uri": "https://localhost:8080/"
        },
        "id": "fwJ1Hfa0-COu",
        "outputId": "2e7492db-cca0-44db-bc76-44bda4ddafe6"
      },
      "source": [
        "# Verifica se não há valores ausentes ('missing values') em CPF_CNPJ_EMISSOR (Nome do Emissor) \n",
        "df = emissores_ativos_isin[emissores_ativos_isin['CPF_CNPJ_EMISSOR']=='']\n",
        "print(df.empty) "
      ],
      "execution_count": null,
      "outputs": [
        {
          "output_type": "stream",
          "text": [
            "False\n"
          ],
          "name": "stdout"
        }
      ]
    },
    {
      "cell_type": "code",
      "metadata": {
        "colab": {
          "base_uri": "https://localhost:8080/"
        },
        "id": "ThLRcfvw-Wg6",
        "outputId": "02831763-0eba-4f61-ca11-2bbb9e7cf4e6"
      },
      "source": [
        "# Verifica se não há valores ausentes ('missing values') em EMISSOR (Nome do Emissor) \n",
        "df = emissores_ativos_isin[emissores_ativos_isin['EMISSOR']=='']\n",
        "print(df.empty) "
      ],
      "execution_count": null,
      "outputs": [
        {
          "output_type": "stream",
          "text": [
            "True\n"
          ],
          "name": "stdout"
        }
      ]
    },
    {
      "cell_type": "markdown",
      "metadata": {
        "id": "MjBNKjmJCBUL"
      },
      "source": [
        "Os dataframes _emissores_cda8_ e _emissores_ativos_isin_ serão divididos em dois conjuntos:\n",
        "\n",
        "1.   Emissores em que o CPF/CNPJ é informado\n",
        "2.   Emissores sem CPF/CNPJ  informado\n"
      ]
    },
    {
      "cell_type": "code",
      "metadata": {
        "id": "YKTw25_JxBh3"
      },
      "source": [
        "# Emissores com CNPJ - Tabela ISIN (B3)\n",
        "emissores_isin_cnpj = emissores_ativos_isin[emissores_ativos_isin['CPF_CNPJ_EMISSOR']!=''][['CPF_CNPJ_EMISSOR','EMISSOR']]\n",
        "\n",
        "# Emissores com CNPJ - Aplicações bloco 8 cda (CVM)\n",
        "emissores_cda8_cnpj = emissores_cda8[emissores_cda8['CPF_CNPJ_EMISSOR']!=''][['CPF_CNPJ_EMISSOR','EMISSOR']]"
      ],
      "execution_count": null,
      "outputs": []
    },
    {
      "cell_type": "code",
      "metadata": {
        "id": "9weiMWMiCfTq"
      },
      "source": [
        "# Emissores sem CNPJ - Tabela ISIN (B3)\n",
        "emissores_isin_sem_cnpj  = emissores_ativos_isin[emissores_ativos_isin['CPF_CNPJ_EMISSOR']==''][['EMISSOR']]\n",
        "\n",
        "# Emissores sem CNPJ - Aplicações bloco 8 cda (CVM)\n",
        "emissores_cda8_sem_cnpj  = emissores_cda8[emissores_cda8['CPF_CNPJ_EMISSOR']==''][['EMISSOR']]"
      ],
      "execution_count": null,
      "outputs": []
    },
    {
      "cell_type": "code",
      "metadata": {
        "colab": {
          "base_uri": "https://localhost:8080/",
          "height": 206
        },
        "id": "xXST7wmVX-tC",
        "outputId": "8093cdb5-7aa8-49d7-96da-f857e653836a"
      },
      "source": [
        "emissores_isin_cnpj.head()"
      ],
      "execution_count": null,
      "outputs": [
        {
          "output_type": "execute_result",
          "data": {
            "text/html": [
              "<div>\n",
              "<style scoped>\n",
              "    .dataframe tbody tr th:only-of-type {\n",
              "        vertical-align: middle;\n",
              "    }\n",
              "\n",
              "    .dataframe tbody tr th {\n",
              "        vertical-align: top;\n",
              "    }\n",
              "\n",
              "    .dataframe thead th {\n",
              "        text-align: right;\n",
              "    }\n",
              "</style>\n",
              "<table border=\"1\" class=\"dataframe\">\n",
              "  <thead>\n",
              "    <tr style=\"text-align: right;\">\n",
              "      <th></th>\n",
              "      <th>CPF_CNPJ_EMISSOR</th>\n",
              "      <th>EMISSOR</th>\n",
              "    </tr>\n",
              "  </thead>\n",
              "  <tbody>\n",
              "    <tr>\n",
              "      <th>0</th>\n",
              "      <td>30.493.220/0001-65</td>\n",
              "      <td>ANTUÉRPIA ICATU PREVIDÊNCIA FUNDO INVESTIMENTO...</td>\n",
              "    </tr>\n",
              "    <tr>\n",
              "      <th>1</th>\n",
              "      <td>30.077.584/0001-64</td>\n",
              "      <td>XPCE VII - FUNDO DE INVESTIMENTO EM DIREITOS C...</td>\n",
              "    </tr>\n",
              "    <tr>\n",
              "      <th>2</th>\n",
              "      <td>22.899.250/0001-48</td>\n",
              "      <td>CSHG 1534 FUNDO INVESTIMENTO MULTIMERCADO PREV...</td>\n",
              "    </tr>\n",
              "    <tr>\n",
              "      <th>3</th>\n",
              "      <td>30.102.322/0001-02</td>\n",
              "      <td>SANTANDER PB MARCELLINI MULTIMERCADO CREDITO P...</td>\n",
              "    </tr>\n",
              "    <tr>\n",
              "      <th>4</th>\n",
              "      <td>29.986.319/0001-10</td>\n",
              "      <td>KINEA VÉRTICE FUNDO INVESTIMENTO DIREITOS CRED...</td>\n",
              "    </tr>\n",
              "  </tbody>\n",
              "</table>\n",
              "</div>"
            ],
            "text/plain": [
              "     CPF_CNPJ_EMISSOR                                            EMISSOR\n",
              "0  30.493.220/0001-65  ANTUÉRPIA ICATU PREVIDÊNCIA FUNDO INVESTIMENTO...\n",
              "1  30.077.584/0001-64  XPCE VII - FUNDO DE INVESTIMENTO EM DIREITOS C...\n",
              "2  22.899.250/0001-48  CSHG 1534 FUNDO INVESTIMENTO MULTIMERCADO PREV...\n",
              "3  30.102.322/0001-02  SANTANDER PB MARCELLINI MULTIMERCADO CREDITO P...\n",
              "4  29.986.319/0001-10  KINEA VÉRTICE FUNDO INVESTIMENTO DIREITOS CRED..."
            ]
          },
          "metadata": {
            "tags": []
          },
          "execution_count": 59
        }
      ]
    },
    {
      "cell_type": "code",
      "metadata": {
        "colab": {
          "base_uri": "https://localhost:8080/",
          "height": 206
        },
        "id": "m_ZSaCfFCpZJ",
        "outputId": "72c08fa8-c639-40dc-89da-2f49326c0853"
      },
      "source": [
        "emissores_cda8_cnpj.head()"
      ],
      "execution_count": null,
      "outputs": [
        {
          "output_type": "execute_result",
          "data": {
            "text/html": [
              "<div>\n",
              "<style scoped>\n",
              "    .dataframe tbody tr th:only-of-type {\n",
              "        vertical-align: middle;\n",
              "    }\n",
              "\n",
              "    .dataframe tbody tr th {\n",
              "        vertical-align: top;\n",
              "    }\n",
              "\n",
              "    .dataframe thead th {\n",
              "        text-align: right;\n",
              "    }\n",
              "</style>\n",
              "<table border=\"1\" class=\"dataframe\">\n",
              "  <thead>\n",
              "    <tr style=\"text-align: right;\">\n",
              "      <th></th>\n",
              "      <th>CPF_CNPJ_EMISSOR</th>\n",
              "      <th>EMISSOR</th>\n",
              "    </tr>\n",
              "  </thead>\n",
              "  <tbody>\n",
              "    <tr>\n",
              "      <th>6</th>\n",
              "      <td>00.000.000/0001-91</td>\n",
              "      <td>BCO DO BRASIL</td>\n",
              "    </tr>\n",
              "    <tr>\n",
              "      <th>7</th>\n",
              "      <td>54.641.030/0001-06</td>\n",
              "      <td>BMF - BOLSA DE MERCADORIAS E FUTUROS</td>\n",
              "    </tr>\n",
              "    <tr>\n",
              "      <th>13</th>\n",
              "      <td>08.695.953/0001-23</td>\n",
              "      <td>BOVESPA HOLDING S.A.</td>\n",
              "    </tr>\n",
              "    <tr>\n",
              "      <th>42</th>\n",
              "      <td>07.526.557/0001-00</td>\n",
              "      <td>AMBEV</td>\n",
              "    </tr>\n",
              "    <tr>\n",
              "      <th>43</th>\n",
              "      <td>09.346.601/0001-25</td>\n",
              "      <td>B3 S.A. - BRASIL, BOLSA, BALCAO</td>\n",
              "    </tr>\n",
              "  </tbody>\n",
              "</table>\n",
              "</div>"
            ],
            "text/plain": [
              "      CPF_CNPJ_EMISSOR                               EMISSOR\n",
              "6   00.000.000/0001-91                         BCO DO BRASIL\n",
              "7   54.641.030/0001-06  BMF - BOLSA DE MERCADORIAS E FUTUROS\n",
              "13  08.695.953/0001-23                  BOVESPA HOLDING S.A.\n",
              "42  07.526.557/0001-00                                 AMBEV\n",
              "43  09.346.601/0001-25       B3 S.A. - BRASIL, BOLSA, BALCAO"
            ]
          },
          "metadata": {
            "tags": []
          },
          "execution_count": 60
        }
      ]
    },
    {
      "cell_type": "code",
      "metadata": {
        "colab": {
          "base_uri": "https://localhost:8080/",
          "height": 206
        },
        "id": "XOgWnzgdC_JY",
        "outputId": "a786b52d-9771-46dc-eed1-a59f773ceeb6"
      },
      "source": [
        "emissores_isin_sem_cnpj.head()"
      ],
      "execution_count": null,
      "outputs": [
        {
          "output_type": "execute_result",
          "data": {
            "text/html": [
              "<div>\n",
              "<style scoped>\n",
              "    .dataframe tbody tr th:only-of-type {\n",
              "        vertical-align: middle;\n",
              "    }\n",
              "\n",
              "    .dataframe tbody tr th {\n",
              "        vertical-align: top;\n",
              "    }\n",
              "\n",
              "    .dataframe thead th {\n",
              "        text-align: right;\n",
              "    }\n",
              "</style>\n",
              "<table border=\"1\" class=\"dataframe\">\n",
              "  <thead>\n",
              "    <tr style=\"text-align: right;\">\n",
              "      <th></th>\n",
              "      <th>EMISSOR</th>\n",
              "    </tr>\n",
              "  </thead>\n",
              "  <tbody>\n",
              "    <tr>\n",
              "      <th>659</th>\n",
              "      <td>BB CONCESSÕES BRASIL 3 FUNDO DE INVESTI MENTO ...</td>\n",
              "    </tr>\n",
              "    <tr>\n",
              "      <th>1687</th>\n",
              "      <td>CAPITÂNIA PREV ADVISORY XP SEGUROS FUNDO DE IN...</td>\n",
              "    </tr>\n",
              "    <tr>\n",
              "      <th>2149</th>\n",
              "      <td>LEGACY CAPITAL FUNDO DE INVESTIMENTO EM COTAS ...</td>\n",
              "    </tr>\n",
              "    <tr>\n",
              "      <th>9985</th>\n",
              "      <td>CARTEIRA CORPORATIVA 191 FUNDO INVEST COTAS FU...</td>\n",
              "    </tr>\n",
              "    <tr>\n",
              "      <th>10101</th>\n",
              "      <td>ADVANCE AUTO PARTS INC</td>\n",
              "    </tr>\n",
              "  </tbody>\n",
              "</table>\n",
              "</div>"
            ],
            "text/plain": [
              "                                                 EMISSOR\n",
              "659    BB CONCESSÕES BRASIL 3 FUNDO DE INVESTI MENTO ...\n",
              "1687   CAPITÂNIA PREV ADVISORY XP SEGUROS FUNDO DE IN...\n",
              "2149   LEGACY CAPITAL FUNDO DE INVESTIMENTO EM COTAS ...\n",
              "9985   CARTEIRA CORPORATIVA 191 FUNDO INVEST COTAS FU...\n",
              "10101                             ADVANCE AUTO PARTS INC"
            ]
          },
          "metadata": {
            "tags": []
          },
          "execution_count": 61
        }
      ]
    },
    {
      "cell_type": "code",
      "metadata": {
        "colab": {
          "base_uri": "https://localhost:8080/",
          "height": 206
        },
        "id": "Yy15ETJ2YAsQ",
        "outputId": "13b53de2-8dc9-4671-c050-14895aa300e5"
      },
      "source": [
        "emissores_cda8_sem_cnpj.head()"
      ],
      "execution_count": null,
      "outputs": [
        {
          "output_type": "execute_result",
          "data": {
            "text/html": [
              "<div>\n",
              "<style scoped>\n",
              "    .dataframe tbody tr th:only-of-type {\n",
              "        vertical-align: middle;\n",
              "    }\n",
              "\n",
              "    .dataframe tbody tr th {\n",
              "        vertical-align: top;\n",
              "    }\n",
              "\n",
              "    .dataframe thead th {\n",
              "        text-align: right;\n",
              "    }\n",
              "</style>\n",
              "<table border=\"1\" class=\"dataframe\">\n",
              "  <thead>\n",
              "    <tr style=\"text-align: right;\">\n",
              "      <th></th>\n",
              "      <th>EMISSOR</th>\n",
              "    </tr>\n",
              "  </thead>\n",
              "  <tbody>\n",
              "    <tr>\n",
              "      <th>6012</th>\n",
              "      <td>INDICE BOVESPA</td>\n",
              "    </tr>\n",
              "    <tr>\n",
              "      <th>10456</th>\n",
              "      <td>Ishares Msci All Country Asia Ex Japan Etf Bdr</td>\n",
              "    </tr>\n",
              "    <tr>\n",
              "      <th>10458</th>\n",
              "      <td>Ishares Msci Emerging Markets Etf Bdr</td>\n",
              "    </tr>\n",
              "    <tr>\n",
              "      <th>10459</th>\n",
              "      <td>Ishares Msci Eafe Etf Bdr</td>\n",
              "    </tr>\n",
              "    <tr>\n",
              "      <th>10460</th>\n",
              "      <td>Ishares Russel 2000 Etf Bdr</td>\n",
              "    </tr>\n",
              "  </tbody>\n",
              "</table>\n",
              "</div>"
            ],
            "text/plain": [
              "                                              EMISSOR\n",
              "6012                                   INDICE BOVESPA\n",
              "10456  Ishares Msci All Country Asia Ex Japan Etf Bdr\n",
              "10458           Ishares Msci Emerging Markets Etf Bdr\n",
              "10459                       Ishares Msci Eafe Etf Bdr\n",
              "10460                     Ishares Russel 2000 Etf Bdr"
            ]
          },
          "metadata": {
            "tags": []
          },
          "execution_count": 62
        }
      ]
    },
    {
      "cell_type": "markdown",
      "metadata": {
        "id": "189Sc6SjDvN5"
      },
      "source": [
        "Os dataframes de emissores em que **não há _missing values_ na coluna CPF_CNPJ_EMISSOR** serão concatenados em um novo dataframe: _nomes_emissores_cnpj_.\n",
        "\n",
        "Nos dados de origem, é possível encontrar mais de um nome associado ao mesmo CPF ou CNPJ. No entanto, os valores em CPF_CNPJ_EMISSOR deverão ser únicos no dataframe para carga no banco de dados de grafos.\n"
      ]
    },
    {
      "cell_type": "code",
      "metadata": {
        "colab": {
          "base_uri": "https://localhost:8080/",
          "height": 206
        },
        "id": "FXaG_UeHa-iK",
        "outputId": "6c54b19b-1ef4-49c6-d99d-45e72e0253b3"
      },
      "source": [
        "nomes_emissores_cnpj = pd.concat([emissores_cda5, emissores_cda6, emissores_cda8_cnpj, emissores_isin_cnpj])\n",
        "\n",
        "# Para garantir a unicidade da coluna CPF_CNPJ_EMISSOR\n",
        "nomes_emissores_cnpj = nomes_emissores_cnpj.drop_duplicates(subset='CPF_CNPJ_EMISSOR', keep=\"last\")\n",
        "\n",
        "nomes_emissores_cnpj.head()"
      ],
      "execution_count": null,
      "outputs": [
        {
          "output_type": "execute_result",
          "data": {
            "text/html": [
              "<div>\n",
              "<style scoped>\n",
              "    .dataframe tbody tr th:only-of-type {\n",
              "        vertical-align: middle;\n",
              "    }\n",
              "\n",
              "    .dataframe tbody tr th {\n",
              "        vertical-align: top;\n",
              "    }\n",
              "\n",
              "    .dataframe thead th {\n",
              "        text-align: right;\n",
              "    }\n",
              "</style>\n",
              "<table border=\"1\" class=\"dataframe\">\n",
              "  <thead>\n",
              "    <tr style=\"text-align: right;\">\n",
              "      <th></th>\n",
              "      <th>CPF_CNPJ_EMISSOR</th>\n",
              "      <th>EMISSOR</th>\n",
              "    </tr>\n",
              "  </thead>\n",
              "  <tbody>\n",
              "    <tr>\n",
              "      <th>2631</th>\n",
              "      <td>07.810.517/0001-95</td>\n",
              "      <td>BANCO BTG PACTUAL S/A</td>\n",
              "    </tr>\n",
              "    <tr>\n",
              "      <th>2724</th>\n",
              "      <td>18.236.120/0001-58</td>\n",
              "      <td>NU PAGAMENTOS</td>\n",
              "    </tr>\n",
              "    <tr>\n",
              "      <th>5056</th>\n",
              "      <td>30.121.792/0001-13</td>\n",
              "      <td>CREDIT SUISSE</td>\n",
              "    </tr>\n",
              "    <tr>\n",
              "      <th>8326</th>\n",
              "      <td>60.701.190/4816-09</td>\n",
              "      <td>ITAU UNIBANCO S</td>\n",
              "    </tr>\n",
              "    <tr>\n",
              "      <th>8771</th>\n",
              "      <td>11.476.673/0001-39</td>\n",
              "      <td>BANCO RANDON SA</td>\n",
              "    </tr>\n",
              "  </tbody>\n",
              "</table>\n",
              "</div>"
            ],
            "text/plain": [
              "        CPF_CNPJ_EMISSOR                EMISSOR\n",
              "2631  07.810.517/0001-95  BANCO BTG PACTUAL S/A\n",
              "2724  18.236.120/0001-58          NU PAGAMENTOS\n",
              "5056  30.121.792/0001-13          CREDIT SUISSE\n",
              "8326  60.701.190/4816-09        ITAU UNIBANCO S\n",
              "8771  11.476.673/0001-39        BANCO RANDON SA"
            ]
          },
          "metadata": {
            "tags": []
          },
          "execution_count": 63
        }
      ]
    },
    {
      "cell_type": "markdown",
      "metadata": {
        "id": "me1U90kJE6y0"
      },
      "source": [
        "Os dataframes de emissores em que **não há coluna CPF_CNPJ_EMISSOR** serão concatenados em um novo dataframe: _nomes_emissores_sem_cnpj_."
      ]
    },
    {
      "cell_type": "code",
      "metadata": {
        "colab": {
          "base_uri": "https://localhost:8080/",
          "height": 206
        },
        "id": "N-bteT6IZI1y",
        "outputId": "bc6551f7-7bf5-4b6e-e823-57714e6bdf32"
      },
      "source": [
        "nomes_emissores_sem_cnpj = pd.concat([emissores_cda7, emissores_cda8_sem_cnpj, emissores_isin_sem_cnpj])\n",
        "\n",
        "nomes_emissores_sem_cnpj = nomes_emissores_sem_cnpj.drop_duplicates()\n",
        "\n",
        "nomes_emissores_sem_cnpj.head()"
      ],
      "execution_count": null,
      "outputs": [
        {
          "output_type": "execute_result",
          "data": {
            "text/html": [
              "<div>\n",
              "<style scoped>\n",
              "    .dataframe tbody tr th:only-of-type {\n",
              "        vertical-align: middle;\n",
              "    }\n",
              "\n",
              "    .dataframe tbody tr th {\n",
              "        vertical-align: top;\n",
              "    }\n",
              "\n",
              "    .dataframe thead th {\n",
              "        text-align: right;\n",
              "    }\n",
              "</style>\n",
              "<table border=\"1\" class=\"dataframe\">\n",
              "  <thead>\n",
              "    <tr style=\"text-align: right;\">\n",
              "      <th></th>\n",
              "      <th>EMISSOR</th>\n",
              "    </tr>\n",
              "  </thead>\n",
              "  <tbody>\n",
              "    <tr>\n",
              "      <th>0</th>\n",
              "      <td>TEMPUS OPP 1 CLASS</td>\n",
              "    </tr>\n",
              "    <tr>\n",
              "      <th>1</th>\n",
              "      <td>ALIBABA GROUP HOLDING LTD</td>\n",
              "    </tr>\n",
              "    <tr>\n",
              "      <th>2</th>\n",
              "      <td>AMAZON.COM INC</td>\n",
              "    </tr>\n",
              "    <tr>\n",
              "      <th>3</th>\n",
              "      <td>JP MORGAN CHASE  CO.</td>\n",
              "    </tr>\n",
              "    <tr>\n",
              "      <th>4</th>\n",
              "      <td>GOVERNO BRASILEIRO</td>\n",
              "    </tr>\n",
              "  </tbody>\n",
              "</table>\n",
              "</div>"
            ],
            "text/plain": [
              "                     EMISSOR\n",
              "0         TEMPUS OPP 1 CLASS\n",
              "1  ALIBABA GROUP HOLDING LTD\n",
              "2             AMAZON.COM INC\n",
              "3       JP MORGAN CHASE  CO.\n",
              "4         GOVERNO BRASILEIRO"
            ]
          },
          "metadata": {
            "tags": []
          },
          "execution_count": 64
        }
      ]
    },
    {
      "cell_type": "markdown",
      "metadata": {
        "id": "bKQxZ9MkFcLH"
      },
      "source": [
        "O dataframe para carga no banco de dados de grafos será a concatenação dos dois anteriores (_nomes_emissores_).\n",
        "\n",
        "Construído com o objetivo de \"normalizar\" registros provenientes de diferentes fontes, o dataframe de emissores possui duas propriedades principais:\n",
        "\n",
        "1.   Quando preenchida, a coluna CPF_CNPJ_EMISSOR tem valor único\n",
        "2.   Nas linhas em que a coluna CPF_CNPJ_EMISSOR não está preenchida, a coluna EMISSOR tem valor único\n",
        "\n",
        "Visto que o atributo CPF_CNPJ_EMISSOR não é obrigatório, este não poderá ser utilizado como identificador (_primary key_) do emissor. Para esse fim, faremos uso de uma chave artificial, a ser definida mais adiante.\n"
      ]
    },
    {
      "cell_type": "code",
      "metadata": {
        "colab": {
          "base_uri": "https://localhost:8080/",
          "height": 424
        },
        "id": "B3XwX_60aUD5",
        "outputId": "20240c8a-961b-4d46-8206-9d7f6623d7bf"
      },
      "source": [
        "nomes_emissores = pd.concat([nomes_emissores_cnpj, nomes_emissores_sem_cnpj])\n",
        "\n",
        "nomes_emissores.reset_index(drop=True, inplace=True)\n",
        "\n",
        "nomes_emissores"
      ],
      "execution_count": null,
      "outputs": [
        {
          "output_type": "execute_result",
          "data": {
            "text/html": [
              "<div>\n",
              "<style scoped>\n",
              "    .dataframe tbody tr th:only-of-type {\n",
              "        vertical-align: middle;\n",
              "    }\n",
              "\n",
              "    .dataframe tbody tr th {\n",
              "        vertical-align: top;\n",
              "    }\n",
              "\n",
              "    .dataframe thead th {\n",
              "        text-align: right;\n",
              "    }\n",
              "</style>\n",
              "<table border=\"1\" class=\"dataframe\">\n",
              "  <thead>\n",
              "    <tr style=\"text-align: right;\">\n",
              "      <th></th>\n",
              "      <th>CPF_CNPJ_EMISSOR</th>\n",
              "      <th>EMISSOR</th>\n",
              "    </tr>\n",
              "  </thead>\n",
              "  <tbody>\n",
              "    <tr>\n",
              "      <th>0</th>\n",
              "      <td>07.810.517/0001-95</td>\n",
              "      <td>BANCO BTG PACTUAL S/A</td>\n",
              "    </tr>\n",
              "    <tr>\n",
              "      <th>1</th>\n",
              "      <td>18.236.120/0001-58</td>\n",
              "      <td>NU PAGAMENTOS</td>\n",
              "    </tr>\n",
              "    <tr>\n",
              "      <th>2</th>\n",
              "      <td>30.121.792/0001-13</td>\n",
              "      <td>CREDIT SUISSE</td>\n",
              "    </tr>\n",
              "    <tr>\n",
              "      <th>3</th>\n",
              "      <td>60.701.190/4816-09</td>\n",
              "      <td>ITAU UNIBANCO S</td>\n",
              "    </tr>\n",
              "    <tr>\n",
              "      <th>4</th>\n",
              "      <td>11.476.673/0001-39</td>\n",
              "      <td>BANCO RANDON SA</td>\n",
              "    </tr>\n",
              "    <tr>\n",
              "      <th>...</th>\n",
              "      <td>...</td>\n",
              "      <td>...</td>\n",
              "    </tr>\n",
              "    <tr>\n",
              "      <th>45467</th>\n",
              "      <td>NaN</td>\n",
              "      <td>BCO EUROPEU AMERICA LATINA SA</td>\n",
              "    </tr>\n",
              "    <tr>\n",
              "      <th>45468</th>\n",
              "      <td>NaN</td>\n",
              "      <td>FRANLEASE ARREND MERCANTIL SA</td>\n",
              "    </tr>\n",
              "    <tr>\n",
              "      <th>45469</th>\n",
              "      <td>NaN</td>\n",
              "      <td>CIA BRAS PROJETOS OBRAS</td>\n",
              "    </tr>\n",
              "    <tr>\n",
              "      <th>45470</th>\n",
              "      <td>NaN</td>\n",
              "      <td>BASF BRASILEIRA SA INDS QUIMICAS</td>\n",
              "    </tr>\n",
              "    <tr>\n",
              "      <th>45471</th>\n",
              "      <td>NaN</td>\n",
              "      <td>BCO INTER ATLANTICO SA</td>\n",
              "    </tr>\n",
              "  </tbody>\n",
              "</table>\n",
              "<p>45472 rows × 2 columns</p>\n",
              "</div>"
            ],
            "text/plain": [
              "         CPF_CNPJ_EMISSOR                           EMISSOR\n",
              "0      07.810.517/0001-95             BANCO BTG PACTUAL S/A\n",
              "1      18.236.120/0001-58                     NU PAGAMENTOS\n",
              "2      30.121.792/0001-13                     CREDIT SUISSE\n",
              "3      60.701.190/4816-09                   ITAU UNIBANCO S\n",
              "4      11.476.673/0001-39                   BANCO RANDON SA\n",
              "...                   ...                               ...\n",
              "45467                 NaN     BCO EUROPEU AMERICA LATINA SA\n",
              "45468                 NaN     FRANLEASE ARREND MERCANTIL SA\n",
              "45469                 NaN           CIA BRAS PROJETOS OBRAS\n",
              "45470                 NaN  BASF BRASILEIRA SA INDS QUIMICAS\n",
              "45471                 NaN            BCO INTER ATLANTICO SA\n",
              "\n",
              "[45472 rows x 2 columns]"
            ]
          },
          "metadata": {
            "tags": []
          },
          "execution_count": 65
        }
      ]
    },
    {
      "cell_type": "code",
      "metadata": {
        "colab": {
          "base_uri": "https://localhost:8080/"
        },
        "id": "X70uh7bBaUmA",
        "outputId": "0a8e9944-74f3-43c8-aced-d53cc19b402b"
      },
      "source": [
        "# Verifica unicidade de CPF_CNPJ\n",
        "cnt = nomes_emissores[nomes_emissores['CPF_CNPJ_EMISSOR'].notna()].groupby('CPF_CNPJ_EMISSOR')['EMISSOR'].nunique()\n",
        "print(cnt[cnt>1].empty)"
      ],
      "execution_count": null,
      "outputs": [
        {
          "output_type": "stream",
          "text": [
            "True\n"
          ],
          "name": "stdout"
        }
      ]
    },
    {
      "cell_type": "code",
      "metadata": {
        "colab": {
          "base_uri": "https://localhost:8080/"
        },
        "id": "Er6VO0xOAIZi",
        "outputId": "15547c5c-bfff-43fe-a2fb-0e56c7bf9710"
      },
      "source": [
        "# Verifica unicidade de nomes não associados a nenhum CPF_CNPJ\n",
        "cnt = nomes_emissores[nomes_emissores['CPF_CNPJ_EMISSOR'].isna()].groupby('EMISSOR')['EMISSOR'].nunique()\n",
        "print(cnt[cnt>1].empty)"
      ],
      "execution_count": null,
      "outputs": [
        {
          "output_type": "stream",
          "text": [
            "True\n"
          ],
          "name": "stdout"
        }
      ]
    },
    {
      "cell_type": "code",
      "metadata": {
        "colab": {
          "base_uri": "https://localhost:8080/"
        },
        "id": "RMoWKrTWex9V",
        "outputId": "fc1eaaa4-3cc7-4181-fada-df32b4345c86"
      },
      "source": [
        "# Verifica se não há valores ausentes ('missing values') em EMISSOR (Nome do Emissor) \n",
        "df = nomes_emissores[nomes_emissores['EMISSOR']=='']\n",
        "print(df.empty) "
      ],
      "execution_count": null,
      "outputs": [
        {
          "output_type": "stream",
          "text": [
            "True\n"
          ],
          "name": "stdout"
        }
      ]
    },
    {
      "cell_type": "markdown",
      "metadata": {
        "id": "hUS_ItOg_5mV"
      },
      "source": [
        "### Ativos\n"
      ]
    },
    {
      "cell_type": "markdown",
      "metadata": {
        "id": "GI0CA0KxNRYo"
      },
      "source": [
        "A listagem dos ativos referenciados no CDA será armazenada em novos dataframes, de acordo com o tipo ou classe:\n",
        "* _titulos_publicos_: ativos referenciados no bloco 1 do CDA\n",
        "* _swap_: ativos referenciados no bloco 3 do CDA\n",
        "* _ativos_codificados_: ativos referenciados no bloco 4 do CDA\n",
        "* _depositos_prazo_: ativos referenciados no bloco 5 do CDA\n",
        "* _titulos_agronegocio_: ativos referenciados no bloco 6 do CDA\n",
        "* _investimento_exterior_: ativos referenciados no bloco 7 do CDA\n",
        "* _ativos_nao_codificados_: ativos referenciados no bloco 8 do CDA\n",
        "\n",
        "Os atributos que caracterizam os ativos são específicos de cada classe.\n"
      ]
    },
    {
      "cell_type": "code",
      "metadata": {
        "id": "SXjDSwNkvHJl"
      },
      "source": [
        "titulos_publicos        = cda1[['CD_ISIN','DS_ATIVO','DT_VENC']].drop_duplicates().fillna('') \n",
        "swap                    = cda3[['CD_SWAP','CD_ATIVO']].drop_duplicates().fillna('') \n",
        "ativos_codificados      = cda4[['CD_ISIN','CD_ATIVO','DS_ATIVO']].drop_duplicates().fillna('') \n",
        "depositos_prazo         = cda5[['DS_ATIVO','DT_VENC','CPF_CNPJ_EMISSOR']].drop_duplicates().fillna('')\n",
        "titulos_agronegocio     = cda6[['DS_ATIVO','DT_VENC','CPF_CNPJ_EMISSOR']].drop_duplicates().fillna('') \n",
        "investimento_exterior   = cda7[['CD_ATIVO','BV_MERC','PAIS','DS_ATIVO','DT_VENC','EMISSOR']].drop_duplicates().fillna('') \n",
        "ativos_nao_codificados  = cda8[['DS_ATIVO','CPF_CNPJ_EMISSOR','EMISSOR']].drop_duplicates().fillna('')"
      ],
      "execution_count": null,
      "outputs": []
    },
    {
      "cell_type": "markdown",
      "metadata": {
        "id": "2NCb_AjvJVMY"
      },
      "source": [
        "A base ISIN também contém uma tabela de ativos financeiros (dataframe _ativos_isin_), que será utilizada para identificar os emissores dos ativos nos dataframes _titulos_publicos_, _swap_ e _ativos_codificados_ (blocos 1, 3 e 4 do CDA, respectivamente)."
      ]
    },
    {
      "cell_type": "code",
      "metadata": {
        "colab": {
          "base_uri": "https://localhost:8080/",
          "height": 206
        },
        "id": "msPwKAwNloA0",
        "outputId": "cf8d533e-1aa4-4f45-b6e7-64e6dd5a1777"
      },
      "source": [
        "ativos_isin.head()"
      ],
      "execution_count": null,
      "outputs": [
        {
          "output_type": "execute_result",
          "data": {
            "text/html": [
              "<div>\n",
              "<style scoped>\n",
              "    .dataframe tbody tr th:only-of-type {\n",
              "        vertical-align: middle;\n",
              "    }\n",
              "\n",
              "    .dataframe tbody tr th {\n",
              "        vertical-align: top;\n",
              "    }\n",
              "\n",
              "    .dataframe thead th {\n",
              "        text-align: right;\n",
              "    }\n",
              "</style>\n",
              "<table border=\"1\" class=\"dataframe\">\n",
              "  <thead>\n",
              "    <tr style=\"text-align: right;\">\n",
              "      <th></th>\n",
              "      <th>CD_ISIN</th>\n",
              "      <th>COD_TIPO</th>\n",
              "      <th>DS_ATIVO</th>\n",
              "      <th>COD_EMISSOR</th>\n",
              "    </tr>\n",
              "  </thead>\n",
              "  <tbody>\n",
              "    <tr>\n",
              "      <th>0</th>\n",
              "      <td>BR0002CTF008</td>\n",
              "      <td>CTF</td>\n",
              "      <td>COTAS SENIORES</td>\n",
              "      <td>0002</td>\n",
              "    </tr>\n",
              "    <tr>\n",
              "      <th>1</th>\n",
              "      <td>BR0002CTF016</td>\n",
              "      <td>CTF</td>\n",
              "      <td>COTAS SUBORDINADAS</td>\n",
              "      <td>0002</td>\n",
              "    </tr>\n",
              "    <tr>\n",
              "      <th>2</th>\n",
              "      <td>BR0003CTF006</td>\n",
              "      <td>CTF</td>\n",
              "      <td>COTAS</td>\n",
              "      <td>0003</td>\n",
              "    </tr>\n",
              "    <tr>\n",
              "      <th>3</th>\n",
              "      <td>BR0004CTF004</td>\n",
              "      <td>CTF</td>\n",
              "      <td>COTAS</td>\n",
              "      <td>0004</td>\n",
              "    </tr>\n",
              "    <tr>\n",
              "      <th>4</th>\n",
              "      <td>BR0005CTF001</td>\n",
              "      <td>CTF</td>\n",
              "      <td>COTAS</td>\n",
              "      <td>0005</td>\n",
              "    </tr>\n",
              "  </tbody>\n",
              "</table>\n",
              "</div>"
            ],
            "text/plain": [
              "        CD_ISIN COD_TIPO            DS_ATIVO COD_EMISSOR\n",
              "0  BR0002CTF008      CTF      COTAS SENIORES        0002\n",
              "1  BR0002CTF016      CTF  COTAS SUBORDINADAS        0002\n",
              "2  BR0003CTF006      CTF               COTAS        0003\n",
              "3  BR0004CTF004      CTF               COTAS        0004\n",
              "4  BR0005CTF001      CTF               COTAS        0005"
            ]
          },
          "metadata": {
            "tags": []
          },
          "execution_count": 70
        }
      ]
    },
    {
      "cell_type": "markdown",
      "metadata": {
        "id": "jzZCYgD03uxO"
      },
      "source": [
        "Não existe nenhum atributo que seja comum a todas as classes de ativo e que possua valor único. Assim, mais adiante, precisaremos definir uma chave artificial para ser utilizada como identificador (_primary key_) do ativo."
      ]
    },
    {
      "cell_type": "markdown",
      "metadata": {
        "id": "VTFsSq_8rPq2"
      },
      "source": [
        "#### Títulos Públicos"
      ]
    },
    {
      "cell_type": "markdown",
      "metadata": {
        "id": "wHwph85aewkm"
      },
      "source": [
        "Construiremos um novo dataframe (_titulos_publicos_emissor_), a partir dos dados básicos em _titulos_publicos_ complementados com a descrição e os dados de emissor em _ativos_isin_ e _emissores_ativos_isin_. O código ISIN (CD_ISIN) será utilizado como chave de busca.\n",
        "\n",
        "O dataframe de emissores (_nomes_emissores_) será utilizado para determinar o nome do emissor a partir de seu CPF/CNPJ.\n"
      ]
    },
    {
      "cell_type": "code",
      "metadata": {
        "colab": {
          "base_uri": "https://localhost:8080/",
          "height": 206
        },
        "id": "N6l3RhlFmunc",
        "outputId": "7c7ced4d-28ef-4e0f-bc56-9a614fadcd17"
      },
      "source": [
        "df1 = pd.merge(titulos_publicos.rename(columns={'DS_ATIVO': 'DS_ATIVO_1'}), ativos_isin.rename(columns={'DS_ATIVO': 'DS_ATIVO_2'}),\n",
        "                        how=\"left\", on=[\"CD_ISIN\"])\n",
        "\n",
        "df1 = df1.replace(np.nan, '', regex=True)\n",
        "\n",
        "# Substitui a coluna DS_ATIVO em 'titulos_publicos' pela coluna DS_ATIVO em 'ativos_isin', quando for encontrada correspondência\n",
        "df1['DS_ATIVO'] = df1.apply(lambda row: ds_ativo(row), axis=1)\n",
        "\n",
        "df1 = df1.drop(['COD_TIPO'], axis=1)\n",
        "df1 = df1.drop(['DS_ATIVO_1'], axis=1)\n",
        "df1 = df1.drop(['DS_ATIVO_2'], axis=1)\n",
        "\n",
        "# Inclui os dados do emissor (CPF/CNPJ e nome)\n",
        "df2 = pd.merge(df1, emissores_ativos_isin, \n",
        "               how = \"left\", on=[\"COD_EMISSOR\"])\n",
        "\n",
        "# Substitui o nome do emissor (coluna EMISSOR) pelo correspondente no dataframe 'nomes_emissores', quando for encontrada correspondência\t\t\t   \n",
        "# A coluna CPF_CNPJ_EMISSOR do dataframe 'nomes_emissores' será utilizada na operação de merge; por isso, os valores NaN serão preenchidos com '0'\n",
        "titulos_publicos_emissor = pd.merge(df2.rename(columns={'EMISSOR': 'EMISSOR_1'}), nomes_emissores.rename(columns={'EMISSOR': 'EMISSOR_2'}).fillna({'CPF_CNPJ_EMISSOR': '0'}),\n",
        "                                    how=\"left\", on=[\"CPF_CNPJ_EMISSOR\"])\n",
        "\n",
        "titulos_publicos_emissor = titulos_publicos_emissor.drop_duplicates()\n",
        "titulos_publicos_emissor = titulos_publicos_emissor.replace(np.nan, '', regex=True)\n",
        "\n",
        "titulos_publicos_emissor['EMISSOR'] = titulos_publicos_emissor.apply(lambda row: emissor(row), axis=1)\n",
        "titulos_publicos_emissor = titulos_publicos_emissor.drop(['COD_EMISSOR'], axis=1)\n",
        "titulos_publicos_emissor = titulos_publicos_emissor.drop(['EMISSOR_1'], axis=1)\n",
        "titulos_publicos_emissor = titulos_publicos_emissor.drop(['EMISSOR_2'], axis=1)\n",
        "\n",
        "titulos_publicos_emissor.head()"
      ],
      "execution_count": null,
      "outputs": [
        {
          "output_type": "execute_result",
          "data": {
            "text/html": [
              "<div>\n",
              "<style scoped>\n",
              "    .dataframe tbody tr th:only-of-type {\n",
              "        vertical-align: middle;\n",
              "    }\n",
              "\n",
              "    .dataframe tbody tr th {\n",
              "        vertical-align: top;\n",
              "    }\n",
              "\n",
              "    .dataframe thead th {\n",
              "        text-align: right;\n",
              "    }\n",
              "</style>\n",
              "<table border=\"1\" class=\"dataframe\">\n",
              "  <thead>\n",
              "    <tr style=\"text-align: right;\">\n",
              "      <th></th>\n",
              "      <th>CD_ISIN</th>\n",
              "      <th>DT_VENC</th>\n",
              "      <th>DS_ATIVO</th>\n",
              "      <th>CPF_CNPJ_EMISSOR</th>\n",
              "      <th>EMISSOR</th>\n",
              "    </tr>\n",
              "  </thead>\n",
              "  <tbody>\n",
              "    <tr>\n",
              "      <th>0</th>\n",
              "      <td>BRSTNCLF1R74</td>\n",
              "      <td>2022-09-01</td>\n",
              "      <td>LETRAS FINANCEIRAS DO TESOURO LETRAS FINANCEIR...</td>\n",
              "      <td>00.394.460/0409-50</td>\n",
              "      <td>SECRETARIA TESOURO NACIONAL</td>\n",
              "    </tr>\n",
              "    <tr>\n",
              "      <th>1</th>\n",
              "      <td>BRSTNCNTF1P8</td>\n",
              "      <td>2027-01-01</td>\n",
              "      <td>NOTAS DO TESOURO NACIONAL SERIE F NOTAS DO TES...</td>\n",
              "      <td>00.394.460/0409-50</td>\n",
              "      <td>SECRETARIA TESOURO NACIONAL</td>\n",
              "    </tr>\n",
              "    <tr>\n",
              "      <th>2</th>\n",
              "      <td>BRSTNCLTN7O0</td>\n",
              "      <td>2022-07-01</td>\n",
              "      <td>LETRAS DO TESOURO NACIONAL LETRAS DO TESOURO N...</td>\n",
              "      <td>00.394.460/0409-50</td>\n",
              "      <td>SECRETARIA TESOURO NACIONAL</td>\n",
              "    </tr>\n",
              "    <tr>\n",
              "      <th>3</th>\n",
              "      <td>BRSTNCNTB4O9</td>\n",
              "      <td>2023-05-15</td>\n",
              "      <td>NOTAS DO TESOURO NACIONAL SERIE B NOTAS DO TES...</td>\n",
              "      <td>00.394.460/0409-50</td>\n",
              "      <td>SECRETARIA TESOURO NACIONAL</td>\n",
              "    </tr>\n",
              "    <tr>\n",
              "      <th>4</th>\n",
              "      <td>BRSTNCNTB096</td>\n",
              "      <td>2024-08-15</td>\n",
              "      <td>NOTAS DO TESOURO NACIONAL SERIE B NOTAS DO TES...</td>\n",
              "      <td>00.394.460/0409-50</td>\n",
              "      <td>SECRETARIA TESOURO NACIONAL</td>\n",
              "    </tr>\n",
              "  </tbody>\n",
              "</table>\n",
              "</div>"
            ],
            "text/plain": [
              "        CD_ISIN     DT_VENC  ...    CPF_CNPJ_EMISSOR                      EMISSOR\n",
              "0  BRSTNCLF1R74  2022-09-01  ...  00.394.460/0409-50  SECRETARIA TESOURO NACIONAL\n",
              "1  BRSTNCNTF1P8  2027-01-01  ...  00.394.460/0409-50  SECRETARIA TESOURO NACIONAL\n",
              "2  BRSTNCLTN7O0  2022-07-01  ...  00.394.460/0409-50  SECRETARIA TESOURO NACIONAL\n",
              "3  BRSTNCNTB4O9  2023-05-15  ...  00.394.460/0409-50  SECRETARIA TESOURO NACIONAL\n",
              "4  BRSTNCNTB096  2024-08-15  ...  00.394.460/0409-50  SECRETARIA TESOURO NACIONAL\n",
              "\n",
              "[5 rows x 5 columns]"
            ]
          },
          "metadata": {
            "tags": []
          },
          "execution_count": 71
        }
      ]
    },
    {
      "cell_type": "markdown",
      "metadata": {
        "id": "jfIyu3YErcs3"
      },
      "source": [
        "#### SWAP"
      ]
    },
    {
      "cell_type": "markdown",
      "metadata": {
        "id": "VsFELQEXoyJK"
      },
      "source": [
        "Construiremos um novo dataframe (_swap_emissor_), a partir dos dados básicos em _swap_ complementados com a descrição e os dados de emissor em _ativos_isin_ e _emissores_ativos_isin_. O código SWAP (CD_SWAP, equivalente ao COD_TIPO no dataframe _ativos_isin_) será utilizado como chave de busca.\n",
        "\n",
        "O dataframe de emissores (_nomes_emissores_) será utilizado para determinar o nome do emissor a partir de seu CPF/CNPJ.\n"
      ]
    },
    {
      "cell_type": "code",
      "metadata": {
        "colab": {
          "base_uri": "https://localhost:8080/",
          "height": 206
        },
        "id": "o7JcLinlo7Ga",
        "outputId": "1ba3a921-fe42-4ce9-d835-3f78234e37d0"
      },
      "source": [
        "df1 = pd.merge(swap.rename(columns={'CD_SWAP': 'COD_TIPO'}), ativos_isin,\n",
        "                        how=\"left\", on=[\"COD_TIPO\"])\n",
        "\n",
        "df1 = df1.replace(np.nan, '', regex=True)\n",
        "\n",
        "df1 = df1.drop(['COD_TIPO'], axis=1)\n",
        "\n",
        "# Inclui os dados do emissor (CPF/CNPJ e nome)\n",
        "df2 = pd.merge(df1, emissores_ativos_isin, \n",
        "              how = \"left\", on=[\"COD_EMISSOR\"])\n",
        "\n",
        "# Substitui o nome do emissor (coluna EMISSOR) pelo correspondente no dataframe 'nomes_emissores', quando for encontrada correspondência\n",
        "# A coluna CPF_CNPJ_EMISSOR do dataframe 'nomes_emissores' será utilizada na operação de merge; por isso, os valores NaN serão preenchidos com '0'\n",
        "swap_emissor = pd.merge(df2.rename(columns={'EMISSOR': 'EMISSOR_1'}), nomes_emissores.rename(columns={'EMISSOR': 'EMISSOR_2'}).fillna({'CPF_CNPJ_EMISSOR': '0'}),\n",
        "                                    how=\"left\", on=[\"CPF_CNPJ_EMISSOR\"])\n",
        "\n",
        "swap_emissor = swap_emissor.drop_duplicates()\n",
        "swap_emissor = swap_emissor.replace(np.nan, '', regex=True)\n",
        "\n",
        "swap_emissor['EMISSOR'] = swap_emissor.apply(lambda row: emissor(row), axis=1)\n",
        "swap_emissor = swap_emissor.drop(['COD_EMISSOR'], axis=1)\n",
        "swap_emissor = swap_emissor.drop(['EMISSOR_1'], axis=1)\n",
        "swap_emissor = swap_emissor.drop(['EMISSOR_2'], axis=1)\n",
        "\n",
        "swap_emissor.head()"
      ],
      "execution_count": null,
      "outputs": [
        {
          "output_type": "execute_result",
          "data": {
            "text/html": [
              "<div>\n",
              "<style scoped>\n",
              "    .dataframe tbody tr th:only-of-type {\n",
              "        vertical-align: middle;\n",
              "    }\n",
              "\n",
              "    .dataframe tbody tr th {\n",
              "        vertical-align: top;\n",
              "    }\n",
              "\n",
              "    .dataframe thead th {\n",
              "        text-align: right;\n",
              "    }\n",
              "</style>\n",
              "<table border=\"1\" class=\"dataframe\">\n",
              "  <thead>\n",
              "    <tr style=\"text-align: right;\">\n",
              "      <th></th>\n",
              "      <th>CD_ATIVO</th>\n",
              "      <th>CD_ISIN</th>\n",
              "      <th>DS_ATIVO</th>\n",
              "      <th>CPF_CNPJ_EMISSOR</th>\n",
              "      <th>EMISSOR</th>\n",
              "    </tr>\n",
              "  </thead>\n",
              "  <tbody>\n",
              "    <tr>\n",
              "      <th>0</th>\n",
              "      <td>DI1 X IAP</td>\n",
              "      <td>BRBMEFSDL000</td>\n",
              "      <td>SWAP - TAXA DI DE UM DIA VERSUS IPCA/IBGE SWAP...</td>\n",
              "      <td>54.641.030/0001-06</td>\n",
              "      <td>BOLSA MERCADORIAS FUTUROS BMF SA</td>\n",
              "    </tr>\n",
              "    <tr>\n",
              "      <th>1</th>\n",
              "      <td>DI1 X PRE</td>\n",
              "      <td>BRBMEFSDP001</td>\n",
              "      <td>SWAP - TAXA DI DE UM DIA VERSUS TAXA PREFIXADA...</td>\n",
              "      <td>54.641.030/0001-06</td>\n",
              "      <td>BOLSA MERCADORIAS FUTUROS BMF SA</td>\n",
              "    </tr>\n",
              "    <tr>\n",
              "      <th>2</th>\n",
              "      <td>TBF X PRE</td>\n",
              "      <td>BRBMEFSBP005</td>\n",
              "      <td>SWAP - TBF VERSUS TAXA PREFIXADA SWAP - TBF VE...</td>\n",
              "      <td>54.641.030/0001-06</td>\n",
              "      <td>BOLSA MERCADORIAS FUTUROS BMF SA</td>\n",
              "    </tr>\n",
              "    <tr>\n",
              "      <th>3</th>\n",
              "      <td>DI1 X DOL</td>\n",
              "      <td>BRBMEFSDC009</td>\n",
              "      <td>SWAP - TAXA DI DE UM DIA VERSUS  DOLAR COMERCI...</td>\n",
              "      <td>54.641.030/0001-06</td>\n",
              "      <td>BOLSA MERCADORIAS FUTUROS BMF SA</td>\n",
              "    </tr>\n",
              "    <tr>\n",
              "      <th>4</th>\n",
              "      <td>SB1 X DI1</td>\n",
              "      <td>BRBMEFSBD001</td>\n",
              "      <td>SWAP - CARTEIRA DE ACOES VERSUS TAXA DI DE UM ...</td>\n",
              "      <td>54.641.030/0001-06</td>\n",
              "      <td>BOLSA MERCADORIAS FUTUROS BMF SA</td>\n",
              "    </tr>\n",
              "  </tbody>\n",
              "</table>\n",
              "</div>"
            ],
            "text/plain": [
              "    CD_ATIVO  ...                           EMISSOR\n",
              "0  DI1 X IAP  ...  BOLSA MERCADORIAS FUTUROS BMF SA\n",
              "1  DI1 X PRE  ...  BOLSA MERCADORIAS FUTUROS BMF SA\n",
              "2  TBF X PRE  ...  BOLSA MERCADORIAS FUTUROS BMF SA\n",
              "3  DI1 X DOL  ...  BOLSA MERCADORIAS FUTUROS BMF SA\n",
              "4  SB1 X DI1  ...  BOLSA MERCADORIAS FUTUROS BMF SA\n",
              "\n",
              "[5 rows x 5 columns]"
            ]
          },
          "metadata": {
            "tags": []
          },
          "execution_count": 72
        }
      ]
    },
    {
      "cell_type": "markdown",
      "metadata": {
        "id": "F_lIKLZ_rehe"
      },
      "source": [
        "#### Ativos Codificados"
      ]
    },
    {
      "cell_type": "markdown",
      "metadata": {
        "id": "Lerq9iTZvd0o"
      },
      "source": [
        "Construiremos um novo dataframe (_ativos_codificados_emissor_), a partir dos dados básicos em _ativos_codificados_ complementados com a descrição e os dados de emissor em _ativos_isin_ e _emissores_ativos_isin_. O código ISIN (CD_ISIN) será utilizado como chave de busca.\n",
        "\n",
        "O dataframe de emissores (_nomes_emissores_) será utilizado para determinar o nome do emissor a partir de seu CPF/CNPJ.\n"
      ]
    },
    {
      "cell_type": "code",
      "metadata": {
        "colab": {
          "base_uri": "https://localhost:8080/",
          "height": 206
        },
        "id": "P9NEY4DotjQv",
        "outputId": "ad4568d6-99b8-4fe1-9d0b-f9ad073a2d5c"
      },
      "source": [
        "df1 = pd.merge(ativos_codificados.rename(columns={'DS_ATIVO': 'DS_ATIVO_1'}), ativos_isin.rename(columns={'DS_ATIVO': 'DS_ATIVO_2'}),\n",
        "                        how=\"left\", on=[\"CD_ISIN\"])\n",
        "\n",
        "df1 = df1.replace(np.nan, '', regex=True)\n",
        "\n",
        "# Substitui a coluna DS_ATIVO em 'ativos_codificados' pela coluna DS_ATIVO em 'ativos_isin', quando for encontrada correspondência\n",
        "df1['DS_ATIVO'] = df1.apply(lambda row: ds_ativo(row), axis=1)\n",
        "\n",
        "df1 = df1.drop(['COD_TIPO'], axis=1)\n",
        "df1 = df1.drop(['DS_ATIVO_1'], axis=1)\n",
        "df1 = df1.drop(['DS_ATIVO_2'], axis=1)\n",
        "\n",
        "# Inclui os dados do emissor (CPF/CNPJ e nome)\n",
        "df2 = pd.merge(df1, emissores_ativos_isin, \n",
        "               how = \"left\", on=[\"COD_EMISSOR\"])\n",
        "\n",
        "# Substitui o nome do emissor (coluna EMISSOR) pelo correspondente no dataframe 'nomes_emissores', quando for encontrada correspondência\n",
        "# A coluna CPF_CNPJ_EMISSOR do dataframe 'nomes_emissores' será utilizada na operação de merge; por isso, os valores NaN serão preenchidos com '0'\n",
        "ativos_codificados_emissor = pd.merge(df2.rename(columns={'EMISSOR': 'EMISSOR_1'}), nomes_emissores.rename(columns={'EMISSOR': 'EMISSOR_2'}).fillna({'CPF_CNPJ_EMISSOR': '0'}),\n",
        "                                    how=\"left\", on=[\"CPF_CNPJ_EMISSOR\"])\n",
        "\n",
        "ativos_codificados_emissor = ativos_codificados_emissor.drop_duplicates()\n",
        "ativos_codificados_emissor = ativos_codificados_emissor.replace(np.nan, '', regex=True)\n",
        "\n",
        "ativos_codificados_emissor['EMISSOR'] = ativos_codificados_emissor.apply(lambda row: emissor(row), axis=1)\n",
        "ativos_codificados_emissor = ativos_codificados_emissor.drop(['COD_EMISSOR'], axis=1)\n",
        "ativos_codificados_emissor = ativos_codificados_emissor.drop(['EMISSOR_1'], axis=1)\n",
        "ativos_codificados_emissor = ativos_codificados_emissor.drop(['EMISSOR_2'], axis=1)\n",
        "\n",
        "ativos_codificados_emissor.head()"
      ],
      "execution_count": null,
      "outputs": [
        {
          "output_type": "execute_result",
          "data": {
            "text/html": [
              "<div>\n",
              "<style scoped>\n",
              "    .dataframe tbody tr th:only-of-type {\n",
              "        vertical-align: middle;\n",
              "    }\n",
              "\n",
              "    .dataframe tbody tr th {\n",
              "        vertical-align: top;\n",
              "    }\n",
              "\n",
              "    .dataframe thead th {\n",
              "        text-align: right;\n",
              "    }\n",
              "</style>\n",
              "<table border=\"1\" class=\"dataframe\">\n",
              "  <thead>\n",
              "    <tr style=\"text-align: right;\">\n",
              "      <th></th>\n",
              "      <th>CD_ISIN</th>\n",
              "      <th>CD_ATIVO</th>\n",
              "      <th>DS_ATIVO</th>\n",
              "      <th>CPF_CNPJ_EMISSOR</th>\n",
              "      <th>EMISSOR</th>\n",
              "    </tr>\n",
              "  </thead>\n",
              "  <tbody>\n",
              "    <tr>\n",
              "      <th>0</th>\n",
              "      <td>BRUGPADBS067</td>\n",
              "      <td>UGPA16</td>\n",
              "      <td>DEBENTURES SIMPLES DEBENTURES SIMPLES SEXTA EM...</td>\n",
              "      <td>33.256.439/0001-39</td>\n",
              "      <td>ULTRAPAR PARTICIPACOES SA</td>\n",
              "    </tr>\n",
              "    <tr>\n",
              "      <th>1</th>\n",
              "      <td>BRVIVTDBS069</td>\n",
              "      <td>VIVT15</td>\n",
              "      <td>DEBENTURES SIMPLES DEBENTURES SIMPLES QUINTA E...</td>\n",
              "      <td>02.558.157/0001-62</td>\n",
              "      <td>TELEFONICA BRASIL SA</td>\n",
              "    </tr>\n",
              "    <tr>\n",
              "      <th>2</th>\n",
              "      <td>BRPCARDBS0B7</td>\n",
              "      <td>CBRDA5</td>\n",
              "      <td>Debênture simples</td>\n",
              "      <td></td>\n",
              "      <td></td>\n",
              "    </tr>\n",
              "    <tr>\n",
              "      <th>3</th>\n",
              "      <td>BRCMGDDBS033</td>\n",
              "      <td>CMDT23</td>\n",
              "      <td>Debênture simples</td>\n",
              "      <td></td>\n",
              "      <td></td>\n",
              "    </tr>\n",
              "    <tr>\n",
              "      <th>4</th>\n",
              "      <td>BRIGTADBS049</td>\n",
              "      <td>IGTA24</td>\n",
              "      <td>Debênture simples</td>\n",
              "      <td></td>\n",
              "      <td></td>\n",
              "    </tr>\n",
              "  </tbody>\n",
              "</table>\n",
              "</div>"
            ],
            "text/plain": [
              "        CD_ISIN CD_ATIVO  ...    CPF_CNPJ_EMISSOR                    EMISSOR\n",
              "0  BRUGPADBS067   UGPA16  ...  33.256.439/0001-39  ULTRAPAR PARTICIPACOES SA\n",
              "1  BRVIVTDBS069   VIVT15  ...  02.558.157/0001-62       TELEFONICA BRASIL SA\n",
              "2  BRPCARDBS0B7   CBRDA5  ...                                               \n",
              "3  BRCMGDDBS033   CMDT23  ...                                               \n",
              "4  BRIGTADBS049   IGTA24  ...                                               \n",
              "\n",
              "[5 rows x 5 columns]"
            ]
          },
          "metadata": {
            "tags": []
          },
          "execution_count": 73
        }
      ]
    },
    {
      "cell_type": "markdown",
      "metadata": {
        "id": "iTa_XBy7rese"
      },
      "source": [
        "#### Depósitos a Prazo"
      ]
    },
    {
      "cell_type": "markdown",
      "metadata": {
        "id": "iFWbjWc43gv8"
      },
      "source": [
        "Construiremos um novo dataframe (_depositos_prazo_emissor_) a partir de _depositos_prazo_ e _nomes_emissores_. Este último será utilizado para determinar o nome do emissor a partir de seu CPF/CNPJ.\n"
      ]
    },
    {
      "cell_type": "code",
      "metadata": {
        "colab": {
          "base_uri": "https://localhost:8080/",
          "height": 206
        },
        "id": "gLpWMKCjFVR-",
        "outputId": "213d0350-10b4-49be-8b06-8174263844c6"
      },
      "source": [
        "# Inclui o nome do emissor (coluna EMISSOR) do dataframe 'nomes_emissores'\n",
        "# A coluna CPF_CNPJ_EMISSOR do dataframe 'nomes_emissores' será utilizada na operação de merge; por isso, os valores NaN serão preenchidos com '0'\n",
        "depositos_prazo_emissor = pd.merge(depositos_prazo, nomes_emissores.fillna({'CPF_CNPJ_EMISSOR': '0'}),\n",
        "                        how=\"left\", on=[\"CPF_CNPJ_EMISSOR\"])\n",
        "\n",
        "depositos_prazo_emissor = depositos_prazo_emissor.drop_duplicates()\n",
        "depositos_prazo_emissor = depositos_prazo_emissor.replace(np.nan, '', regex=True)\n",
        "\n",
        "depositos_prazo_emissor.head()"
      ],
      "execution_count": null,
      "outputs": [
        {
          "output_type": "execute_result",
          "data": {
            "text/html": [
              "<div>\n",
              "<style scoped>\n",
              "    .dataframe tbody tr th:only-of-type {\n",
              "        vertical-align: middle;\n",
              "    }\n",
              "\n",
              "    .dataframe tbody tr th {\n",
              "        vertical-align: top;\n",
              "    }\n",
              "\n",
              "    .dataframe thead th {\n",
              "        text-align: right;\n",
              "    }\n",
              "</style>\n",
              "<table border=\"1\" class=\"dataframe\">\n",
              "  <thead>\n",
              "    <tr style=\"text-align: right;\">\n",
              "      <th></th>\n",
              "      <th>DS_ATIVO</th>\n",
              "      <th>DT_VENC</th>\n",
              "      <th>CPF_CNPJ_EMISSOR</th>\n",
              "      <th>EMISSOR</th>\n",
              "    </tr>\n",
              "  </thead>\n",
              "  <tbody>\n",
              "    <tr>\n",
              "      <th>0</th>\n",
              "      <td>Depósitos a prazo e outros títulos de IF - Let...</td>\n",
              "      <td>2022-07-15</td>\n",
              "      <td>60.701.190/0001-04</td>\n",
              "      <td>BCO ITAU SA</td>\n",
              "    </tr>\n",
              "    <tr>\n",
              "      <th>1</th>\n",
              "      <td>Depósitos a prazo e outros títulos de IF - Let...</td>\n",
              "      <td>2022-09-15</td>\n",
              "      <td>60.746.948/0001-12</td>\n",
              "      <td>BCO BRADESCO SA</td>\n",
              "    </tr>\n",
              "    <tr>\n",
              "      <th>2</th>\n",
              "      <td>Depósitos a prazo e outros títulos de IF - Let...</td>\n",
              "      <td>2022-10-17</td>\n",
              "      <td>60.746.948/0001-12</td>\n",
              "      <td>BCO BRADESCO SA</td>\n",
              "    </tr>\n",
              "    <tr>\n",
              "      <th>3</th>\n",
              "      <td>Depósitos a prazo e outros títulos de IF - Let...</td>\n",
              "      <td>2022-11-16</td>\n",
              "      <td>60.701.190/0001-04</td>\n",
              "      <td>BCO ITAU SA</td>\n",
              "    </tr>\n",
              "    <tr>\n",
              "      <th>4</th>\n",
              "      <td>Depósitos a prazo e outros títulos de IF - Let...</td>\n",
              "      <td>2021-03-15</td>\n",
              "      <td>58.160.789/0001-28</td>\n",
              "      <td>BCO SAFRA SA</td>\n",
              "    </tr>\n",
              "  </tbody>\n",
              "</table>\n",
              "</div>"
            ],
            "text/plain": [
              "                                            DS_ATIVO  ...          EMISSOR\n",
              "0  Depósitos a prazo e outros títulos de IF - Let...  ...      BCO ITAU SA\n",
              "1  Depósitos a prazo e outros títulos de IF - Let...  ...  BCO BRADESCO SA\n",
              "2  Depósitos a prazo e outros títulos de IF - Let...  ...  BCO BRADESCO SA\n",
              "3  Depósitos a prazo e outros títulos de IF - Let...  ...      BCO ITAU SA\n",
              "4  Depósitos a prazo e outros títulos de IF - Let...  ...     BCO SAFRA SA\n",
              "\n",
              "[5 rows x 4 columns]"
            ]
          },
          "metadata": {
            "tags": []
          },
          "execution_count": 74
        }
      ]
    },
    {
      "cell_type": "markdown",
      "metadata": {
        "id": "4SUuZcrDre3-"
      },
      "source": [
        "#### Títulos do Agronegócio"
      ]
    },
    {
      "cell_type": "markdown",
      "metadata": {
        "id": "lHp8TFs6IzFs"
      },
      "source": [
        "Construiremos um novo dataframe (_titulos_agronegocio_emissor_) a partir de _titulos_agronegocio_ e _nomes_emissores_. Este último será utilizado para determinar o nome do emissor a partir de seu CPF/CNPJ.\n"
      ]
    },
    {
      "cell_type": "code",
      "metadata": {
        "colab": {
          "base_uri": "https://localhost:8080/",
          "height": 206
        },
        "id": "Z10blyIoPl0k",
        "outputId": "7277f3c7-6697-4465-eb1c-a7e9bf247129"
      },
      "source": [
        "# Inclui o nome do emissor (coluna EMISSOR) do dataframe 'nomes_emissores'\n",
        "# A coluna CPF_CNPJ_EMISSOR do dataframe 'nomes_emissores' será utilizada na operação de merge; por isso, os valores NaN serão preenchidos com '0'\n",
        "titulos_agronegocio_emissor = pd.merge(titulos_agronegocio, nomes_emissores.fillna({'CPF_CNPJ_EMISSOR': '0'}),\n",
        "                        how=\"left\", on=[\"CPF_CNPJ_EMISSOR\"])\n",
        "\n",
        "titulos_agronegocio_emissor = titulos_agronegocio_emissor.drop_duplicates()\n",
        "titulos_agronegocio_emissor = titulos_agronegocio_emissor.replace(np.nan, '', regex=True)\n",
        "\n",
        "titulos_agronegocio_emissor.head()"
      ],
      "execution_count": null,
      "outputs": [
        {
          "output_type": "execute_result",
          "data": {
            "text/html": [
              "<div>\n",
              "<style scoped>\n",
              "    .dataframe tbody tr th:only-of-type {\n",
              "        vertical-align: middle;\n",
              "    }\n",
              "\n",
              "    .dataframe tbody tr th {\n",
              "        vertical-align: top;\n",
              "    }\n",
              "\n",
              "    .dataframe thead th {\n",
              "        text-align: right;\n",
              "    }\n",
              "</style>\n",
              "<table border=\"1\" class=\"dataframe\">\n",
              "  <thead>\n",
              "    <tr style=\"text-align: right;\">\n",
              "      <th></th>\n",
              "      <th>DS_ATIVO</th>\n",
              "      <th>DT_VENC</th>\n",
              "      <th>CPF_CNPJ_EMISSOR</th>\n",
              "      <th>EMISSOR</th>\n",
              "    </tr>\n",
              "  </thead>\n",
              "  <tbody>\n",
              "    <tr>\n",
              "      <th>0</th>\n",
              "      <td>Debêntures - Debênture simples</td>\n",
              "      <td>2024-08-14</td>\n",
              "      <td>09.346.601/0001-25</td>\n",
              "      <td>B3 SA - BRASIL, BOLSA, BALCAO</td>\n",
              "    </tr>\n",
              "    <tr>\n",
              "      <th>1</th>\n",
              "      <td>Debêntures - Debênture simples</td>\n",
              "      <td>2025-09-15</td>\n",
              "      <td>02.919.555/0001-67</td>\n",
              "      <td>ARTERIS SA</td>\n",
              "    </tr>\n",
              "    <tr>\n",
              "      <th>2</th>\n",
              "      <td>Debêntures - Debênture simples</td>\n",
              "      <td>2022-08-15</td>\n",
              "      <td>33.000.167/0001-01</td>\n",
              "      <td>PETROLEO BRASILEIRO SA PETROBRAS</td>\n",
              "    </tr>\n",
              "    <tr>\n",
              "      <th>3</th>\n",
              "      <td>Debêntures - Debênture simples</td>\n",
              "      <td>2026-05-06</td>\n",
              "      <td>33.611.500/0001-19</td>\n",
              "      <td>GERDAU SA</td>\n",
              "    </tr>\n",
              "    <tr>\n",
              "      <th>4</th>\n",
              "      <td>Debêntures - Debênture simples</td>\n",
              "      <td>2025-11-04</td>\n",
              "      <td>19.276.528/0001-16</td>\n",
              "      <td>BCBF PARTICIPACOES S.A</td>\n",
              "    </tr>\n",
              "  </tbody>\n",
              "</table>\n",
              "</div>"
            ],
            "text/plain": [
              "                         DS_ATIVO  ...                           EMISSOR\n",
              "0  Debêntures - Debênture simples  ...     B3 SA - BRASIL, BOLSA, BALCAO\n",
              "1  Debêntures - Debênture simples  ...                        ARTERIS SA\n",
              "2  Debêntures - Debênture simples  ...  PETROLEO BRASILEIRO SA PETROBRAS\n",
              "3  Debêntures - Debênture simples  ...                         GERDAU SA\n",
              "4  Debêntures - Debênture simples  ...            BCBF PARTICIPACOES S.A\n",
              "\n",
              "[5 rows x 4 columns]"
            ]
          },
          "metadata": {
            "tags": []
          },
          "execution_count": 75
        }
      ]
    },
    {
      "cell_type": "markdown",
      "metadata": {
        "id": "fiJ8LKj9rfLO"
      },
      "source": [
        "#### Investimento no Exterior"
      ]
    },
    {
      "cell_type": "markdown",
      "metadata": {
        "id": "kQEmLXfLJ7qO"
      },
      "source": [
        "A identificação do emissor no bloco do CDA relativo a Investimentos no Exterior é apenas o seu nome. Por isso, o novo dataframe (_investimento_exterior_emissor_) é uma cópia do original (_investimento_exterior_) ."
      ]
    },
    {
      "cell_type": "code",
      "metadata": {
        "colab": {
          "base_uri": "https://localhost:8080/",
          "height": 206
        },
        "id": "Qw79JflJVqXW",
        "outputId": "e3629bd0-faae-4a20-d5f3-80ff85e27349"
      },
      "source": [
        "investimento_exterior_emissor = investimento_exterior\n",
        "investimento_exterior_emissor.head()"
      ],
      "execution_count": null,
      "outputs": [
        {
          "output_type": "execute_result",
          "data": {
            "text/html": [
              "<div>\n",
              "<style scoped>\n",
              "    .dataframe tbody tr th:only-of-type {\n",
              "        vertical-align: middle;\n",
              "    }\n",
              "\n",
              "    .dataframe tbody tr th {\n",
              "        vertical-align: top;\n",
              "    }\n",
              "\n",
              "    .dataframe thead th {\n",
              "        text-align: right;\n",
              "    }\n",
              "</style>\n",
              "<table border=\"1\" class=\"dataframe\">\n",
              "  <thead>\n",
              "    <tr style=\"text-align: right;\">\n",
              "      <th></th>\n",
              "      <th>CD_ATIVO</th>\n",
              "      <th>BV_MERC</th>\n",
              "      <th>PAIS</th>\n",
              "      <th>DS_ATIVO</th>\n",
              "      <th>DT_VENC</th>\n",
              "      <th>EMISSOR</th>\n",
              "    </tr>\n",
              "  </thead>\n",
              "  <tbody>\n",
              "    <tr>\n",
              "      <th>0</th>\n",
              "      <td>OPPTEMP1</td>\n",
              "      <td>Outras bolsas ou mercados de balcão organizados</td>\n",
              "      <td>ESTADOS UNIDOS DA AMÉRICA</td>\n",
              "      <td>Investimento no Exterior - Outros</td>\n",
              "      <td></td>\n",
              "      <td>TEMPUS OPP 1 CLASS</td>\n",
              "    </tr>\n",
              "    <tr>\n",
              "      <th>1</th>\n",
              "      <td>BABA US</td>\n",
              "      <td>NYSE EURONEXT</td>\n",
              "      <td>ESTADOS UNIDOS DA AMÉRICA</td>\n",
              "      <td>Investimento no Exterior - Ação ordinária</td>\n",
              "      <td></td>\n",
              "      <td>ALIBABA GROUP HOLDING LTD</td>\n",
              "    </tr>\n",
              "    <tr>\n",
              "      <th>2</th>\n",
              "      <td>AMZN</td>\n",
              "      <td>NASDAQ STOCK MARKET</td>\n",
              "      <td>ESTADOS UNIDOS DA AMÉRICA</td>\n",
              "      <td>Investimento no Exterior - Ação ordinária</td>\n",
              "      <td></td>\n",
              "      <td>AMAZON.COM INC</td>\n",
              "    </tr>\n",
              "    <tr>\n",
              "      <th>3</th>\n",
              "      <td>JPMC</td>\n",
              "      <td>NYSE EURONEXT</td>\n",
              "      <td>ESTADOS UNIDOS DA AMÉRICA</td>\n",
              "      <td>Investimento no Exterior - Ação ordinária</td>\n",
              "      <td></td>\n",
              "      <td>JP MORGAN CHASE  CO.</td>\n",
              "    </tr>\n",
              "    <tr>\n",
              "      <th>4</th>\n",
              "      <td>EJ9011747</td>\n",
              "      <td>Outras bolsas ou mercados de balcão organizados</td>\n",
              "      <td>BRASIL</td>\n",
              "      <td>Investimento no Exterior - Título da Dívida Ex...</td>\n",
              "      <td>2025-01-07</td>\n",
              "      <td>GOVERNO BRASILEIRO</td>\n",
              "    </tr>\n",
              "  </tbody>\n",
              "</table>\n",
              "</div>"
            ],
            "text/plain": [
              "    CD_ATIVO  ...                    EMISSOR\n",
              "0   OPPTEMP1  ...         TEMPUS OPP 1 CLASS\n",
              "1    BABA US  ...  ALIBABA GROUP HOLDING LTD\n",
              "2       AMZN  ...             AMAZON.COM INC\n",
              "3       JPMC  ...       JP MORGAN CHASE  CO.\n",
              "4  EJ9011747  ...         GOVERNO BRASILEIRO\n",
              "\n",
              "[5 rows x 6 columns]"
            ]
          },
          "metadata": {
            "tags": []
          },
          "execution_count": 76
        }
      ]
    },
    {
      "cell_type": "markdown",
      "metadata": {
        "id": "whNiTCJlrot1"
      },
      "source": [
        "#### Ativos Não Codificados"
      ]
    },
    {
      "cell_type": "markdown",
      "metadata": {
        "id": "fe-hOdsQNA3M"
      },
      "source": [
        "Construiremos um novo dataframe (_ativos_nao_codificados_emissor_) a partir de _ativos_nao_codificados_ e _nomes_emissores_. Este último será utilizado para determinar o nome do emissor a partir de seu CPF/CNPJ.\n"
      ]
    },
    {
      "cell_type": "code",
      "metadata": {
        "colab": {
          "base_uri": "https://localhost:8080/",
          "height": 206
        },
        "id": "19Qb40Bzijx5",
        "outputId": "b6d87b40-bb8b-419f-a495-ae6277e9bce2"
      },
      "source": [
        "# Substitui o nome do emissor (coluna EMISSOR) pelo correspondente no dataframe 'nomes_emissores', quando for encontrada correspondência\n",
        "# A coluna CPF_CNPJ_EMISSOR do dataframe 'nomes_emissores' será utilizada na operação de merge; por isso, os valores NaN serão preenchidos com '0'\n",
        "ativos_nao_codificados_emissor = pd.merge(ativos_nao_codificados.rename(columns={'EMISSOR': 'EMISSOR_1'}), \n",
        "                                          nomes_emissores.rename(columns={'EMISSOR': 'EMISSOR_2'}).fillna({'CPF_CNPJ_EMISSOR': '0'}),\n",
        "                                          how=\"left\", on=[\"CPF_CNPJ_EMISSOR\"])\n",
        "\n",
        "ativos_nao_codificados_emissor = ativos_nao_codificados_emissor.drop_duplicates()\n",
        "ativos_nao_codificados_emissor = ativos_nao_codificados_emissor.replace(np.nan, '', regex=True)\n",
        "\n",
        "ativos_nao_codificados_emissor['EMISSOR'] = ativos_nao_codificados_emissor.apply(lambda row: emissor(row), axis=1)\n",
        "ativos_nao_codificados_emissor = ativos_nao_codificados_emissor.drop(['EMISSOR_1'], axis=1)\n",
        "ativos_nao_codificados_emissor = ativos_nao_codificados_emissor.drop(['EMISSOR_2'], axis=1)\n",
        "\n",
        "ativos_nao_codificados_emissor.head()"
      ],
      "execution_count": null,
      "outputs": [
        {
          "output_type": "execute_result",
          "data": {
            "text/html": [
              "<div>\n",
              "<style scoped>\n",
              "    .dataframe tbody tr th:only-of-type {\n",
              "        vertical-align: middle;\n",
              "    }\n",
              "\n",
              "    .dataframe tbody tr th {\n",
              "        vertical-align: top;\n",
              "    }\n",
              "\n",
              "    .dataframe thead th {\n",
              "        text-align: right;\n",
              "    }\n",
              "</style>\n",
              "<table border=\"1\" class=\"dataframe\">\n",
              "  <thead>\n",
              "    <tr style=\"text-align: right;\">\n",
              "      <th></th>\n",
              "      <th>DS_ATIVO</th>\n",
              "      <th>CPF_CNPJ_EMISSOR</th>\n",
              "      <th>EMISSOR</th>\n",
              "    </tr>\n",
              "  </thead>\n",
              "  <tbody>\n",
              "    <tr>\n",
              "      <th>0</th>\n",
              "      <td>Cotas de fundos de renda fixa - Cotas de fundo...</td>\n",
              "      <td></td>\n",
              "      <td></td>\n",
              "    </tr>\n",
              "    <tr>\n",
              "      <th>1</th>\n",
              "      <td>Disponibilidades - Outros - VALOR DAS DISPONIB...</td>\n",
              "      <td></td>\n",
              "      <td></td>\n",
              "    </tr>\n",
              "    <tr>\n",
              "      <th>2</th>\n",
              "      <td>Valores a pagar - Outros - VALOR A PAGAR</td>\n",
              "      <td></td>\n",
              "      <td></td>\n",
              "    </tr>\n",
              "    <tr>\n",
              "      <th>3</th>\n",
              "      <td>Disponibilidades - Outros - BANCO BRASIL CAIXA</td>\n",
              "      <td>00.000.000/0001-91</td>\n",
              "      <td>BCO BRASIL SA</td>\n",
              "    </tr>\n",
              "    <tr>\n",
              "      <th>4</th>\n",
              "      <td>Mercado Futuro - Posições compradas - Contrato...</td>\n",
              "      <td>54.641.030/0001-06</td>\n",
              "      <td>BOLSA MERCADORIAS FUTUROS BMF SA</td>\n",
              "    </tr>\n",
              "  </tbody>\n",
              "</table>\n",
              "</div>"
            ],
            "text/plain": [
              "                                            DS_ATIVO  ...                           EMISSOR\n",
              "0  Cotas de fundos de renda fixa - Cotas de fundo...  ...                                  \n",
              "1  Disponibilidades - Outros - VALOR DAS DISPONIB...  ...                                  \n",
              "2           Valores a pagar - Outros - VALOR A PAGAR  ...                                  \n",
              "3     Disponibilidades - Outros - BANCO BRASIL CAIXA  ...                     BCO BRASIL SA\n",
              "4  Mercado Futuro - Posições compradas - Contrato...  ...  BOLSA MERCADORIAS FUTUROS BMF SA\n",
              "\n",
              "[5 rows x 3 columns]"
            ]
          },
          "metadata": {
            "tags": []
          },
          "execution_count": 77
        }
      ]
    },
    {
      "cell_type": "markdown",
      "metadata": {
        "id": "8FhWUN8w3oin"
      },
      "source": [
        "### Aplicações\n"
      ]
    },
    {
      "cell_type": "markdown",
      "metadata": {
        "id": "zZpUWC2aUrLg"
      },
      "source": [
        "A listagem das aplicações será armazenada em novos dataframes, de acordo com o bloco do CDA (_aplic_cda1_ ... _aplic_cda8_).\n",
        "\n",
        "Os atributos comuns a todas as aplicações são:\n",
        "* __Valor da aplicação__: informado junto com a descrição do ativo no CDA (coluna VL_APLIC dos dataframes _cda1_ ... _cda8_).\n",
        "* __Percentual do patrimônio líquido do fundo representado pelo valor da aplicação__: calculado sobre o patrimônio líquido informado no CDA (coluna PR_PATRIM_LIQ do dataframe _cda0_)).\n"
      ]
    },
    {
      "cell_type": "markdown",
      "metadata": {
        "id": "G6y_20OFh_xd"
      },
      "source": [
        "#### Títulos Públicos"
      ]
    },
    {
      "cell_type": "code",
      "metadata": {
        "colab": {
          "base_uri": "https://localhost:8080/",
          "height": 206
        },
        "id": "TG67J4FhiBQM",
        "outputId": "5999806c-0ac8-4b9f-a6db-bb41af6e0f6f"
      },
      "source": [
        "aplic_cda1 = pd.merge(cda1, cda0,\n",
        "                        how=\"inner\", on=[\"CNPJ_FUNDO\"])\n",
        "\n",
        "aplic_cda1['PR_PATRIM_LIQ'] = aplic_cda1.apply(lambda row: pr_patrim_liq(row), axis=1)\n",
        "aplic_cda1 = aplic_cda1.drop(['TP_APLIC'], axis=1)\n",
        "\n",
        "aplic_cda1 = aplic_cda1.fillna('')\n",
        "aplic_cda1.head()"
      ],
      "execution_count": null,
      "outputs": [
        {
          "output_type": "execute_result",
          "data": {
            "text/html": [
              "<div>\n",
              "<style scoped>\n",
              "    .dataframe tbody tr th:only-of-type {\n",
              "        vertical-align: middle;\n",
              "    }\n",
              "\n",
              "    .dataframe tbody tr th {\n",
              "        vertical-align: top;\n",
              "    }\n",
              "\n",
              "    .dataframe thead th {\n",
              "        text-align: right;\n",
              "    }\n",
              "</style>\n",
              "<table border=\"1\" class=\"dataframe\">\n",
              "  <thead>\n",
              "    <tr style=\"text-align: right;\">\n",
              "      <th></th>\n",
              "      <th>CNPJ_FUNDO</th>\n",
              "      <th>VL_APLIC</th>\n",
              "      <th>CD_ISIN</th>\n",
              "      <th>DS_ATIVO</th>\n",
              "      <th>DT_VENC</th>\n",
              "      <th>VL_PATRIM_LIQ</th>\n",
              "      <th>PR_PATRIM_LIQ</th>\n",
              "    </tr>\n",
              "  </thead>\n",
              "  <tbody>\n",
              "    <tr>\n",
              "      <th>0</th>\n",
              "      <td>02.010.153/0001-45</td>\n",
              "      <td>856146.22</td>\n",
              "      <td>BRSTNCLF1R74</td>\n",
              "      <td>LETRAS FINANCEIRAS DO TESOURO</td>\n",
              "      <td>2022-09-01</td>\n",
              "      <td>17079539.69</td>\n",
              "      <td>5.013</td>\n",
              "    </tr>\n",
              "    <tr>\n",
              "      <th>1</th>\n",
              "      <td>02.010.153/0001-45</td>\n",
              "      <td>4355691.07</td>\n",
              "      <td>BRSTNCNTF1P8</td>\n",
              "      <td>NOTAS DO TESOURO NACIONAL - SERIE F</td>\n",
              "      <td>2027-01-01</td>\n",
              "      <td>17079539.69</td>\n",
              "      <td>25.502</td>\n",
              "    </tr>\n",
              "    <tr>\n",
              "      <th>2</th>\n",
              "      <td>02.010.153/0001-45</td>\n",
              "      <td>7055241.89</td>\n",
              "      <td>BRSTNCLTN7O0</td>\n",
              "      <td>LETRAS DO TESOURO NACIONAL</td>\n",
              "      <td>2022-07-01</td>\n",
              "      <td>17079539.69</td>\n",
              "      <td>41.308</td>\n",
              "    </tr>\n",
              "    <tr>\n",
              "      <th>3</th>\n",
              "      <td>02.010.153/0001-45</td>\n",
              "      <td>26512.28</td>\n",
              "      <td>BRSTNCNTB4O9</td>\n",
              "      <td>NOTAS DO TESOURO NACIONAL SERIE B</td>\n",
              "      <td>2023-05-15</td>\n",
              "      <td>17079539.69</td>\n",
              "      <td>0.155</td>\n",
              "    </tr>\n",
              "    <tr>\n",
              "      <th>4</th>\n",
              "      <td>02.010.153/0001-45</td>\n",
              "      <td>1265516.96</td>\n",
              "      <td>BRSTNCNTB096</td>\n",
              "      <td>NOTAS DO TESOURO NACIONAL SERIE B</td>\n",
              "      <td>2024-08-15</td>\n",
              "      <td>17079539.69</td>\n",
              "      <td>7.410</td>\n",
              "    </tr>\n",
              "  </tbody>\n",
              "</table>\n",
              "</div>"
            ],
            "text/plain": [
              "           CNPJ_FUNDO    VL_APLIC  ... VL_PATRIM_LIQ PR_PATRIM_LIQ\n",
              "0  02.010.153/0001-45   856146.22  ...   17079539.69         5.013\n",
              "1  02.010.153/0001-45  4355691.07  ...   17079539.69        25.502\n",
              "2  02.010.153/0001-45  7055241.89  ...   17079539.69        41.308\n",
              "3  02.010.153/0001-45    26512.28  ...   17079539.69         0.155\n",
              "4  02.010.153/0001-45  1265516.96  ...   17079539.69         7.410\n",
              "\n",
              "[5 rows x 7 columns]"
            ]
          },
          "metadata": {
            "tags": []
          },
          "execution_count": 78
        }
      ]
    },
    {
      "cell_type": "code",
      "metadata": {
        "colab": {
          "base_uri": "https://localhost:8080/"
        },
        "id": "e0b1yaR4GAQt",
        "outputId": "1e80da9c-ebca-4bba-aeba-f4a51879cf0a"
      },
      "source": [
        "# Verificar se não há valores ausentes ('missing values') no dataset\n",
        "print(aplic_cda1.isnull().sum().sum()==0)"
      ],
      "execution_count": null,
      "outputs": [
        {
          "output_type": "stream",
          "text": [
            "True\n"
          ],
          "name": "stdout"
        }
      ]
    },
    {
      "cell_type": "markdown",
      "metadata": {
        "id": "ZbxmWWmCORSe"
      },
      "source": [
        "#### Cotas de Fundos"
      ]
    },
    {
      "cell_type": "code",
      "metadata": {
        "colab": {
          "base_uri": "https://localhost:8080/",
          "height": 206
        },
        "id": "E0xOtki5Oc4O",
        "outputId": "018bbbac-bc78-4dca-b2f8-a5552f0ab124"
      },
      "source": [
        "aplic_cda2 = pd.merge(cda2, cda0,\n",
        "                        how=\"inner\", on=[\"CNPJ_FUNDO\"])\n",
        "\n",
        "aplic_cda2['PR_PATRIM_LIQ'] = aplic_cda2.apply(lambda row: pr_patrim_liq(row), axis=1)\n",
        "aplic_cda2 = aplic_cda2.drop(['TP_APLIC'], axis=1)\n",
        "\n",
        "aplic_cda2 = aplic_cda2.fillna('')\n",
        "aplic_cda2.head()"
      ],
      "execution_count": null,
      "outputs": [
        {
          "output_type": "execute_result",
          "data": {
            "text/html": [
              "<div>\n",
              "<style scoped>\n",
              "    .dataframe tbody tr th:only-of-type {\n",
              "        vertical-align: middle;\n",
              "    }\n",
              "\n",
              "    .dataframe tbody tr th {\n",
              "        vertical-align: top;\n",
              "    }\n",
              "\n",
              "    .dataframe thead th {\n",
              "        text-align: right;\n",
              "    }\n",
              "</style>\n",
              "<table border=\"1\" class=\"dataframe\">\n",
              "  <thead>\n",
              "    <tr style=\"text-align: right;\">\n",
              "      <th></th>\n",
              "      <th>CNPJ_FUNDO</th>\n",
              "      <th>VL_APLIC</th>\n",
              "      <th>CNPJ_FUNDO_COTA</th>\n",
              "      <th>VL_PATRIM_LIQ</th>\n",
              "      <th>PR_PATRIM_LIQ</th>\n",
              "    </tr>\n",
              "  </thead>\n",
              "  <tbody>\n",
              "    <tr>\n",
              "      <th>0</th>\n",
              "      <td>00.068.305/0001-35</td>\n",
              "      <td>46221487.84</td>\n",
              "      <td>08.046.417/0001-05</td>\n",
              "      <td>46185716.51</td>\n",
              "      <td>100.077</td>\n",
              "    </tr>\n",
              "    <tr>\n",
              "      <th>1</th>\n",
              "      <td>00.071.477/0001-68</td>\n",
              "      <td>33160782612.92</td>\n",
              "      <td>01.608.573/0001-65</td>\n",
              "      <td>33158268505.98</td>\n",
              "      <td>100.008</td>\n",
              "    </tr>\n",
              "    <tr>\n",
              "      <th>2</th>\n",
              "      <td>00.083.181/0001-67</td>\n",
              "      <td>147100863.98</td>\n",
              "      <td>01.235.622/0001-61</td>\n",
              "      <td>15519640726.95</td>\n",
              "      <td>0.948</td>\n",
              "    </tr>\n",
              "    <tr>\n",
              "      <th>3</th>\n",
              "      <td>00.083.181/0001-67</td>\n",
              "      <td>216970194.57</td>\n",
              "      <td>10.597.218/0001-29</td>\n",
              "      <td>15519640726.95</td>\n",
              "      <td>1.398</td>\n",
              "    </tr>\n",
              "    <tr>\n",
              "      <th>4</th>\n",
              "      <td>00.083.181/0001-67</td>\n",
              "      <td>1915404901.42</td>\n",
              "      <td>08.277.553/0001-06</td>\n",
              "      <td>15519640726.95</td>\n",
              "      <td>12.342</td>\n",
              "    </tr>\n",
              "  </tbody>\n",
              "</table>\n",
              "</div>"
            ],
            "text/plain": [
              "           CNPJ_FUNDO        VL_APLIC  ...   VL_PATRIM_LIQ PR_PATRIM_LIQ\n",
              "0  00.068.305/0001-35     46221487.84  ...     46185716.51       100.077\n",
              "1  00.071.477/0001-68  33160782612.92  ...  33158268505.98       100.008\n",
              "2  00.083.181/0001-67    147100863.98  ...  15519640726.95         0.948\n",
              "3  00.083.181/0001-67    216970194.57  ...  15519640726.95         1.398\n",
              "4  00.083.181/0001-67   1915404901.42  ...  15519640726.95        12.342\n",
              "\n",
              "[5 rows x 5 columns]"
            ]
          },
          "metadata": {
            "tags": []
          },
          "execution_count": 80
        }
      ]
    },
    {
      "cell_type": "markdown",
      "metadata": {
        "id": "VA9g2CiN51wW"
      },
      "source": [
        "#### SWAP"
      ]
    },
    {
      "cell_type": "code",
      "metadata": {
        "colab": {
          "base_uri": "https://localhost:8080/",
          "height": 206
        },
        "id": "4kbUXu_P48Cm",
        "outputId": "ba56d7e5-970d-432d-b2f2-38edf8e6426a"
      },
      "source": [
        "aplic_cda3 = pd.merge(cda3, cda0,\n",
        "                        how=\"inner\", on=[\"CNPJ_FUNDO\"])\n",
        "\n",
        "aplic_cda3['PR_PATRIM_LIQ'] = aplic_cda3.apply(lambda row: pr_patrim_liq(row), axis=1)\n",
        "aplic_cda3 = aplic_cda3.drop(['TP_APLIC'], axis=1)\n",
        "aplic_cda3 = aplic_cda3.drop(['CD_SWAP'], axis=1)\n",
        "\n",
        "aplic_cda3 = aplic_cda3.fillna('')\n",
        "aplic_cda3.head()"
      ],
      "execution_count": null,
      "outputs": [
        {
          "output_type": "execute_result",
          "data": {
            "text/html": [
              "<div>\n",
              "<style scoped>\n",
              "    .dataframe tbody tr th:only-of-type {\n",
              "        vertical-align: middle;\n",
              "    }\n",
              "\n",
              "    .dataframe tbody tr th {\n",
              "        vertical-align: top;\n",
              "    }\n",
              "\n",
              "    .dataframe thead th {\n",
              "        text-align: right;\n",
              "    }\n",
              "</style>\n",
              "<table border=\"1\" class=\"dataframe\">\n",
              "  <thead>\n",
              "    <tr style=\"text-align: right;\">\n",
              "      <th></th>\n",
              "      <th>CNPJ_FUNDO</th>\n",
              "      <th>VL_APLIC</th>\n",
              "      <th>CD_ATIVO</th>\n",
              "      <th>VL_PATRIM_LIQ</th>\n",
              "      <th>PR_PATRIM_LIQ</th>\n",
              "    </tr>\n",
              "  </thead>\n",
              "  <tbody>\n",
              "    <tr>\n",
              "      <th>0</th>\n",
              "      <td>01.622.154/0001-88</td>\n",
              "      <td>6828519.25</td>\n",
              "      <td>DI1 X IAP</td>\n",
              "      <td>580595719.75</td>\n",
              "      <td>-1.176</td>\n",
              "    </tr>\n",
              "    <tr>\n",
              "      <th>1</th>\n",
              "      <td>01.630.152/0001-30</td>\n",
              "      <td>894505.58</td>\n",
              "      <td>DI1 X IAP</td>\n",
              "      <td>443673958.28</td>\n",
              "      <td>-0.202</td>\n",
              "    </tr>\n",
              "    <tr>\n",
              "      <th>2</th>\n",
              "      <td>02.885.730/0001-42</td>\n",
              "      <td>1692176.12</td>\n",
              "      <td>DI1 X PRE</td>\n",
              "      <td>15070836923.81</td>\n",
              "      <td>-0.011</td>\n",
              "    </tr>\n",
              "    <tr>\n",
              "      <th>3</th>\n",
              "      <td>02.885.730/0001-42</td>\n",
              "      <td>26696957.76</td>\n",
              "      <td>DI1 X PRE</td>\n",
              "      <td>15070836923.81</td>\n",
              "      <td>0.177</td>\n",
              "    </tr>\n",
              "    <tr>\n",
              "      <th>4</th>\n",
              "      <td>03.191.766/0001-99</td>\n",
              "      <td>604648.44</td>\n",
              "      <td>DI1 X PRE</td>\n",
              "      <td>521985181.54</td>\n",
              "      <td>-0.116</td>\n",
              "    </tr>\n",
              "  </tbody>\n",
              "</table>\n",
              "</div>"
            ],
            "text/plain": [
              "           CNPJ_FUNDO     VL_APLIC   CD_ATIVO   VL_PATRIM_LIQ  PR_PATRIM_LIQ\n",
              "0  01.622.154/0001-88   6828519.25  DI1 X IAP    580595719.75         -1.176\n",
              "1  01.630.152/0001-30    894505.58  DI1 X IAP    443673958.28         -0.202\n",
              "2  02.885.730/0001-42   1692176.12  DI1 X PRE  15070836923.81         -0.011\n",
              "3  02.885.730/0001-42  26696957.76  DI1 X PRE  15070836923.81          0.177\n",
              "4  03.191.766/0001-99    604648.44  DI1 X PRE    521985181.54         -0.116"
            ]
          },
          "metadata": {
            "tags": []
          },
          "execution_count": 81
        }
      ]
    },
    {
      "cell_type": "markdown",
      "metadata": {
        "id": "lKSOVSgV5-D2"
      },
      "source": [
        "#### Ativos Codificados"
      ]
    },
    {
      "cell_type": "code",
      "metadata": {
        "colab": {
          "base_uri": "https://localhost:8080/",
          "height": 206
        },
        "id": "e3pvQ4Bm3l4n",
        "outputId": "ef21d353-f38a-4e67-e3a5-4045f94906b3"
      },
      "source": [
        "aplic_cda4 = pd.merge(cda4, cda0,\n",
        "                        how=\"inner\", on=[\"CNPJ_FUNDO\"])\n",
        "\n",
        "aplic_cda4['PR_PATRIM_LIQ'] = aplic_cda4.apply(lambda row: pr_patrim_liq(row), axis=1)\n",
        "aplic_cda4 = aplic_cda4.drop(['TP_APLIC'], axis=1)\n",
        "\n",
        "aplic_cda4 = aplic_cda4.fillna('')\n",
        "aplic_cda4.head()"
      ],
      "execution_count": null,
      "outputs": [
        {
          "output_type": "execute_result",
          "data": {
            "text/html": [
              "<div>\n",
              "<style scoped>\n",
              "    .dataframe tbody tr th:only-of-type {\n",
              "        vertical-align: middle;\n",
              "    }\n",
              "\n",
              "    .dataframe tbody tr th {\n",
              "        vertical-align: top;\n",
              "    }\n",
              "\n",
              "    .dataframe thead th {\n",
              "        text-align: right;\n",
              "    }\n",
              "</style>\n",
              "<table border=\"1\" class=\"dataframe\">\n",
              "  <thead>\n",
              "    <tr style=\"text-align: right;\">\n",
              "      <th></th>\n",
              "      <th>CNPJ_FUNDO</th>\n",
              "      <th>VL_APLIC</th>\n",
              "      <th>CD_ISIN</th>\n",
              "      <th>CD_ATIVO</th>\n",
              "      <th>DS_ATIVO</th>\n",
              "      <th>VL_PATRIM_LIQ</th>\n",
              "      <th>PR_PATRIM_LIQ</th>\n",
              "    </tr>\n",
              "  </thead>\n",
              "  <tbody>\n",
              "    <tr>\n",
              "      <th>0</th>\n",
              "      <td>02.010.153/0001-45</td>\n",
              "      <td>168985.61</td>\n",
              "      <td>BRUGPADBS067</td>\n",
              "      <td>UGPA16</td>\n",
              "      <td>Debênture simples</td>\n",
              "      <td>17079539.69</td>\n",
              "      <td>0.989</td>\n",
              "    </tr>\n",
              "    <tr>\n",
              "      <th>1</th>\n",
              "      <td>02.010.153/0001-45</td>\n",
              "      <td>601192.92</td>\n",
              "      <td>BRVIVTDBS069</td>\n",
              "      <td>VIVT15</td>\n",
              "      <td>Debênture simples</td>\n",
              "      <td>17079539.69</td>\n",
              "      <td>3.520</td>\n",
              "    </tr>\n",
              "    <tr>\n",
              "      <th>2</th>\n",
              "      <td>02.010.153/0001-45</td>\n",
              "      <td>175872.88</td>\n",
              "      <td>BRPCARDBS0B7</td>\n",
              "      <td>CBRDA5</td>\n",
              "      <td>Debênture simples</td>\n",
              "      <td>17079539.69</td>\n",
              "      <td>1.030</td>\n",
              "    </tr>\n",
              "    <tr>\n",
              "      <th>3</th>\n",
              "      <td>02.010.153/0001-45</td>\n",
              "      <td>53493.45</td>\n",
              "      <td>BRCMGDDBS033</td>\n",
              "      <td>CMDT23</td>\n",
              "      <td>Debênture simples</td>\n",
              "      <td>17079539.69</td>\n",
              "      <td>0.313</td>\n",
              "    </tr>\n",
              "    <tr>\n",
              "      <th>4</th>\n",
              "      <td>02.010.153/0001-45</td>\n",
              "      <td>314354.45</td>\n",
              "      <td>BRIGTADBS049</td>\n",
              "      <td>IGTA24</td>\n",
              "      <td>Debênture simples</td>\n",
              "      <td>17079539.69</td>\n",
              "      <td>1.841</td>\n",
              "    </tr>\n",
              "  </tbody>\n",
              "</table>\n",
              "</div>"
            ],
            "text/plain": [
              "           CNPJ_FUNDO   VL_APLIC  ... VL_PATRIM_LIQ PR_PATRIM_LIQ\n",
              "0  02.010.153/0001-45  168985.61  ...   17079539.69         0.989\n",
              "1  02.010.153/0001-45  601192.92  ...   17079539.69         3.520\n",
              "2  02.010.153/0001-45  175872.88  ...   17079539.69         1.030\n",
              "3  02.010.153/0001-45   53493.45  ...   17079539.69         0.313\n",
              "4  02.010.153/0001-45  314354.45  ...   17079539.69         1.841\n",
              "\n",
              "[5 rows x 7 columns]"
            ]
          },
          "metadata": {
            "tags": []
          },
          "execution_count": 82
        }
      ]
    },
    {
      "cell_type": "markdown",
      "metadata": {
        "id": "vKEfztL16Dje"
      },
      "source": [
        "#### Depósitos a Prazo"
      ]
    },
    {
      "cell_type": "markdown",
      "metadata": {
        "id": "PeAMqhM9afaZ"
      },
      "source": [
        "No dataframe de origem (_cda5_), todos os emissores são identificados pelo CPF/CNPJ, por isso a coluna EMISSOR (nome do emissor) será descartada no dataframe de resultado (_aplic_cda5_)."
      ]
    },
    {
      "cell_type": "code",
      "metadata": {
        "colab": {
          "base_uri": "https://localhost:8080/",
          "height": 49
        },
        "id": "4_DTqFkXaCR6",
        "outputId": "10e8cacc-8145-4b7e-bbae-4de167421765"
      },
      "source": [
        "# Verifica se não há valores ausentes ('missing values') em CPF_CNPJ_EMISSOR \n",
        "cda5[cda5['CPF_CNPJ_EMISSOR']=='']"
      ],
      "execution_count": null,
      "outputs": [
        {
          "output_type": "execute_result",
          "data": {
            "text/html": [
              "<div>\n",
              "<style scoped>\n",
              "    .dataframe tbody tr th:only-of-type {\n",
              "        vertical-align: middle;\n",
              "    }\n",
              "\n",
              "    .dataframe tbody tr th {\n",
              "        vertical-align: top;\n",
              "    }\n",
              "\n",
              "    .dataframe thead th {\n",
              "        text-align: right;\n",
              "    }\n",
              "</style>\n",
              "<table border=\"1\" class=\"dataframe\">\n",
              "  <thead>\n",
              "    <tr style=\"text-align: right;\">\n",
              "      <th></th>\n",
              "      <th>CNPJ_FUNDO</th>\n",
              "      <th>TP_APLIC</th>\n",
              "      <th>VL_APLIC</th>\n",
              "      <th>DT_VENC</th>\n",
              "      <th>CPF_CNPJ_EMISSOR</th>\n",
              "      <th>EMISSOR</th>\n",
              "      <th>DS_ATIVO</th>\n",
              "    </tr>\n",
              "  </thead>\n",
              "  <tbody>\n",
              "  </tbody>\n",
              "</table>\n",
              "</div>"
            ],
            "text/plain": [
              "Empty DataFrame\n",
              "Columns: [CNPJ_FUNDO, TP_APLIC, VL_APLIC, DT_VENC, CPF_CNPJ_EMISSOR, EMISSOR, DS_ATIVO]\n",
              "Index: []"
            ]
          },
          "metadata": {
            "tags": []
          },
          "execution_count": 83
        }
      ]
    },
    {
      "cell_type": "code",
      "metadata": {
        "colab": {
          "base_uri": "https://localhost:8080/",
          "height": 206
        },
        "id": "cKT-udxL6e8-",
        "outputId": "8f477962-f791-414a-ec53-a9e8277ebccf"
      },
      "source": [
        "aplic_cda5 = pd.merge(cda5, cda0,\n",
        "                        how=\"inner\", on=[\"CNPJ_FUNDO\"])\n",
        "\n",
        "aplic_cda5['PR_PATRIM_LIQ'] = aplic_cda5.apply(lambda row: pr_patrim_liq(row), axis=1)\n",
        "aplic_cda5 = aplic_cda5.drop(['TP_APLIC'], axis=1)\n",
        "aplic_cda5 = aplic_cda5.drop(['EMISSOR'], axis=1)\n",
        "\n",
        "aplic_cda5 = aplic_cda5.fillna('')\n",
        "aplic_cda5.head()"
      ],
      "execution_count": null,
      "outputs": [
        {
          "output_type": "execute_result",
          "data": {
            "text/html": [
              "<div>\n",
              "<style scoped>\n",
              "    .dataframe tbody tr th:only-of-type {\n",
              "        vertical-align: middle;\n",
              "    }\n",
              "\n",
              "    .dataframe tbody tr th {\n",
              "        vertical-align: top;\n",
              "    }\n",
              "\n",
              "    .dataframe thead th {\n",
              "        text-align: right;\n",
              "    }\n",
              "</style>\n",
              "<table border=\"1\" class=\"dataframe\">\n",
              "  <thead>\n",
              "    <tr style=\"text-align: right;\">\n",
              "      <th></th>\n",
              "      <th>CNPJ_FUNDO</th>\n",
              "      <th>VL_APLIC</th>\n",
              "      <th>DT_VENC</th>\n",
              "      <th>CPF_CNPJ_EMISSOR</th>\n",
              "      <th>DS_ATIVO</th>\n",
              "      <th>VL_PATRIM_LIQ</th>\n",
              "      <th>PR_PATRIM_LIQ</th>\n",
              "    </tr>\n",
              "  </thead>\n",
              "  <tbody>\n",
              "    <tr>\n",
              "      <th>0</th>\n",
              "      <td>03.564.825/0001-27</td>\n",
              "      <td>2702144.40</td>\n",
              "      <td>2022-07-15</td>\n",
              "      <td>60.701.190/0001-04</td>\n",
              "      <td>Depósitos a prazo e outros títulos de IF - Let...</td>\n",
              "      <td>91049383.74</td>\n",
              "      <td>2.968</td>\n",
              "    </tr>\n",
              "    <tr>\n",
              "      <th>1</th>\n",
              "      <td>03.564.825/0001-27</td>\n",
              "      <td>2556455.90</td>\n",
              "      <td>2022-09-15</td>\n",
              "      <td>60.746.948/0001-12</td>\n",
              "      <td>Depósitos a prazo e outros títulos de IF - Let...</td>\n",
              "      <td>91049383.74</td>\n",
              "      <td>2.808</td>\n",
              "    </tr>\n",
              "    <tr>\n",
              "      <th>2</th>\n",
              "      <td>03.564.825/0001-27</td>\n",
              "      <td>1058263.51</td>\n",
              "      <td>2022-10-17</td>\n",
              "      <td>60.746.948/0001-12</td>\n",
              "      <td>Depósitos a prazo e outros títulos de IF - Let...</td>\n",
              "      <td>91049383.74</td>\n",
              "      <td>1.162</td>\n",
              "    </tr>\n",
              "    <tr>\n",
              "      <th>3</th>\n",
              "      <td>03.564.825/0001-27</td>\n",
              "      <td>1058263.51</td>\n",
              "      <td>2022-10-17</td>\n",
              "      <td>60.746.948/0001-12</td>\n",
              "      <td>Depósitos a prazo e outros títulos de IF - Let...</td>\n",
              "      <td>91049383.74</td>\n",
              "      <td>1.162</td>\n",
              "    </tr>\n",
              "    <tr>\n",
              "      <th>4</th>\n",
              "      <td>03.564.825/0001-27</td>\n",
              "      <td>10353809.66</td>\n",
              "      <td>2022-11-16</td>\n",
              "      <td>60.701.190/0001-04</td>\n",
              "      <td>Depósitos a prazo e outros títulos de IF - Let...</td>\n",
              "      <td>91049383.74</td>\n",
              "      <td>11.372</td>\n",
              "    </tr>\n",
              "  </tbody>\n",
              "</table>\n",
              "</div>"
            ],
            "text/plain": [
              "           CNPJ_FUNDO     VL_APLIC  ... VL_PATRIM_LIQ PR_PATRIM_LIQ\n",
              "0  03.564.825/0001-27   2702144.40  ...   91049383.74         2.968\n",
              "1  03.564.825/0001-27   2556455.90  ...   91049383.74         2.808\n",
              "2  03.564.825/0001-27   1058263.51  ...   91049383.74         1.162\n",
              "3  03.564.825/0001-27   1058263.51  ...   91049383.74         1.162\n",
              "4  03.564.825/0001-27  10353809.66  ...   91049383.74        11.372\n",
              "\n",
              "[5 rows x 7 columns]"
            ]
          },
          "metadata": {
            "tags": []
          },
          "execution_count": 84
        }
      ]
    },
    {
      "cell_type": "markdown",
      "metadata": {
        "id": "NMCg7A1f6Hu9"
      },
      "source": [
        "#### Títulos do Agronegócio"
      ]
    },
    {
      "cell_type": "markdown",
      "metadata": {
        "id": "QxctUb8vbVEB"
      },
      "source": [
        "No dataframe de origem (_cda6_), todos os emissores são identificados pelo CPF/CNPJ, por isso a coluna EMISSOR (nome do emissor) será descartada no dataframe de resultado (_aplic_cda6_)."
      ]
    },
    {
      "cell_type": "code",
      "metadata": {
        "colab": {
          "base_uri": "https://localhost:8080/",
          "height": 49
        },
        "id": "3ol4EaZNbX6a",
        "outputId": "bc1109b6-bbec-4821-823b-351f4036441f"
      },
      "source": [
        "# Verifica se não há valores ausentes ('missing values') em CPF_CNPJ_EMISSOR \n",
        "cda6[cda6['CPF_CNPJ_EMISSOR']=='']"
      ],
      "execution_count": null,
      "outputs": [
        {
          "output_type": "execute_result",
          "data": {
            "text/html": [
              "<div>\n",
              "<style scoped>\n",
              "    .dataframe tbody tr th:only-of-type {\n",
              "        vertical-align: middle;\n",
              "    }\n",
              "\n",
              "    .dataframe tbody tr th {\n",
              "        vertical-align: top;\n",
              "    }\n",
              "\n",
              "    .dataframe thead th {\n",
              "        text-align: right;\n",
              "    }\n",
              "</style>\n",
              "<table border=\"1\" class=\"dataframe\">\n",
              "  <thead>\n",
              "    <tr style=\"text-align: right;\">\n",
              "      <th></th>\n",
              "      <th>CNPJ_FUNDO</th>\n",
              "      <th>TP_APLIC</th>\n",
              "      <th>VL_APLIC</th>\n",
              "      <th>DT_VENC</th>\n",
              "      <th>CPF_CNPJ_EMISSOR</th>\n",
              "      <th>EMISSOR</th>\n",
              "      <th>DS_ATIVO</th>\n",
              "    </tr>\n",
              "  </thead>\n",
              "  <tbody>\n",
              "  </tbody>\n",
              "</table>\n",
              "</div>"
            ],
            "text/plain": [
              "Empty DataFrame\n",
              "Columns: [CNPJ_FUNDO, TP_APLIC, VL_APLIC, DT_VENC, CPF_CNPJ_EMISSOR, EMISSOR, DS_ATIVO]\n",
              "Index: []"
            ]
          },
          "metadata": {
            "tags": []
          },
          "execution_count": 85
        }
      ]
    },
    {
      "cell_type": "code",
      "metadata": {
        "colab": {
          "base_uri": "https://localhost:8080/",
          "height": 206
        },
        "id": "sEY7GfCs6ykW",
        "outputId": "bc7b8395-8806-4d43-cedd-db030e551d5a"
      },
      "source": [
        "aplic_cda6 = pd.merge(cda6, cda0,\n",
        "                        how=\"inner\", on=[\"CNPJ_FUNDO\"])\n",
        "\n",
        "aplic_cda6['PR_PATRIM_LIQ'] = aplic_cda6.apply(lambda row: pr_patrim_liq(row), axis=1)\n",
        "aplic_cda6 = aplic_cda6.drop(['TP_APLIC'], axis=1)\n",
        "aplic_cda6 = aplic_cda6.drop(['EMISSOR'], axis=1)\n",
        "\n",
        "aplic_cda6 = aplic_cda6.fillna('')\n",
        "aplic_cda6.head()"
      ],
      "execution_count": null,
      "outputs": [
        {
          "output_type": "execute_result",
          "data": {
            "text/html": [
              "<div>\n",
              "<style scoped>\n",
              "    .dataframe tbody tr th:only-of-type {\n",
              "        vertical-align: middle;\n",
              "    }\n",
              "\n",
              "    .dataframe tbody tr th {\n",
              "        vertical-align: top;\n",
              "    }\n",
              "\n",
              "    .dataframe thead th {\n",
              "        text-align: right;\n",
              "    }\n",
              "</style>\n",
              "<table border=\"1\" class=\"dataframe\">\n",
              "  <thead>\n",
              "    <tr style=\"text-align: right;\">\n",
              "      <th></th>\n",
              "      <th>CNPJ_FUNDO</th>\n",
              "      <th>VL_APLIC</th>\n",
              "      <th>DT_VENC</th>\n",
              "      <th>CPF_CNPJ_EMISSOR</th>\n",
              "      <th>DS_ATIVO</th>\n",
              "      <th>VL_PATRIM_LIQ</th>\n",
              "      <th>PR_PATRIM_LIQ</th>\n",
              "    </tr>\n",
              "  </thead>\n",
              "  <tbody>\n",
              "    <tr>\n",
              "      <th>0</th>\n",
              "      <td>02.010.153/0001-45</td>\n",
              "      <td>20310.05</td>\n",
              "      <td>2024-08-14</td>\n",
              "      <td>09.346.601/0001-25</td>\n",
              "      <td>Debêntures - Debênture simples</td>\n",
              "      <td>17079539.69</td>\n",
              "      <td>0.119</td>\n",
              "    </tr>\n",
              "    <tr>\n",
              "      <th>1</th>\n",
              "      <td>02.010.153/0001-45</td>\n",
              "      <td>158363.74</td>\n",
              "      <td>2025-09-15</td>\n",
              "      <td>02.919.555/0001-67</td>\n",
              "      <td>Debêntures - Debênture simples</td>\n",
              "      <td>17079539.69</td>\n",
              "      <td>0.927</td>\n",
              "    </tr>\n",
              "    <tr>\n",
              "      <th>2</th>\n",
              "      <td>03.564.825/0001-27</td>\n",
              "      <td>2034161.22</td>\n",
              "      <td>2022-08-15</td>\n",
              "      <td>33.000.167/0001-01</td>\n",
              "      <td>Debêntures - Debênture simples</td>\n",
              "      <td>91049383.74</td>\n",
              "      <td>2.234</td>\n",
              "    </tr>\n",
              "    <tr>\n",
              "      <th>3</th>\n",
              "      <td>03.564.825/0001-27</td>\n",
              "      <td>2791206.93</td>\n",
              "      <td>2026-05-06</td>\n",
              "      <td>33.611.500/0001-19</td>\n",
              "      <td>Debêntures - Debênture simples</td>\n",
              "      <td>91049383.74</td>\n",
              "      <td>3.066</td>\n",
              "    </tr>\n",
              "    <tr>\n",
              "      <th>4</th>\n",
              "      <td>10.546.592/0001-03</td>\n",
              "      <td>2326005.77</td>\n",
              "      <td>2026-05-06</td>\n",
              "      <td>33.611.500/0001-19</td>\n",
              "      <td>Debêntures - Debênture simples</td>\n",
              "      <td>73596008.13</td>\n",
              "      <td>3.161</td>\n",
              "    </tr>\n",
              "  </tbody>\n",
              "</table>\n",
              "</div>"
            ],
            "text/plain": [
              "           CNPJ_FUNDO    VL_APLIC  ... VL_PATRIM_LIQ PR_PATRIM_LIQ\n",
              "0  02.010.153/0001-45    20310.05  ...   17079539.69         0.119\n",
              "1  02.010.153/0001-45   158363.74  ...   17079539.69         0.927\n",
              "2  03.564.825/0001-27  2034161.22  ...   91049383.74         2.234\n",
              "3  03.564.825/0001-27  2791206.93  ...   91049383.74         3.066\n",
              "4  10.546.592/0001-03  2326005.77  ...   73596008.13         3.161\n",
              "\n",
              "[5 rows x 7 columns]"
            ]
          },
          "metadata": {
            "tags": []
          },
          "execution_count": 86
        }
      ]
    },
    {
      "cell_type": "markdown",
      "metadata": {
        "id": "BhDQYHjq6Kc3"
      },
      "source": [
        "#### Investimento no Exterior"
      ]
    },
    {
      "cell_type": "code",
      "metadata": {
        "colab": {
          "base_uri": "https://localhost:8080/",
          "height": 293
        },
        "id": "efuHGl239BMx",
        "outputId": "0304fba3-0998-452e-ac10-492f00c5b9c6"
      },
      "source": [
        "aplic_cda7 = pd.merge(cda7, cda0,\n",
        "                        how=\"inner\", on=[\"CNPJ_FUNDO\"])\n",
        "\n",
        "aplic_cda7['PR_PATRIM_LIQ'] = aplic_cda7.apply(lambda row: pr_patrim_liq(row), axis=1)\n",
        "aplic_cda7 = aplic_cda7.drop(['TP_APLIC'], axis=1)\n",
        "\n",
        "aplic_cda7 = aplic_cda7.fillna('')\n",
        "aplic_cda7.head()"
      ],
      "execution_count": null,
      "outputs": [
        {
          "output_type": "execute_result",
          "data": {
            "text/html": [
              "<div>\n",
              "<style scoped>\n",
              "    .dataframe tbody tr th:only-of-type {\n",
              "        vertical-align: middle;\n",
              "    }\n",
              "\n",
              "    .dataframe tbody tr th {\n",
              "        vertical-align: top;\n",
              "    }\n",
              "\n",
              "    .dataframe thead th {\n",
              "        text-align: right;\n",
              "    }\n",
              "</style>\n",
              "<table border=\"1\" class=\"dataframe\">\n",
              "  <thead>\n",
              "    <tr style=\"text-align: right;\">\n",
              "      <th></th>\n",
              "      <th>CNPJ_FUNDO</th>\n",
              "      <th>VL_APLIC</th>\n",
              "      <th>CD_ATIVO</th>\n",
              "      <th>BV_MERC</th>\n",
              "      <th>PAIS</th>\n",
              "      <th>DT_VENC</th>\n",
              "      <th>EMISSOR</th>\n",
              "      <th>DS_ATIVO</th>\n",
              "      <th>VL_PATRIM_LIQ</th>\n",
              "      <th>PR_PATRIM_LIQ</th>\n",
              "    </tr>\n",
              "  </thead>\n",
              "  <tbody>\n",
              "    <tr>\n",
              "      <th>0</th>\n",
              "      <td>00.083.181/0001-67</td>\n",
              "      <td>39697260.92</td>\n",
              "      <td>OPPTEMP1</td>\n",
              "      <td>Outras bolsas ou mercados de balcão organizados</td>\n",
              "      <td>ESTADOS UNIDOS DA AMÉRICA</td>\n",
              "      <td></td>\n",
              "      <td>TEMPUS OPP 1 CLASS</td>\n",
              "      <td>Investimento no Exterior - Outros</td>\n",
              "      <td>15519640726.95</td>\n",
              "      <td>0.256</td>\n",
              "    </tr>\n",
              "    <tr>\n",
              "      <th>1</th>\n",
              "      <td>00.102.322/0001-41</td>\n",
              "      <td>8196096.35</td>\n",
              "      <td>BABA US</td>\n",
              "      <td>NYSE EURONEXT</td>\n",
              "      <td>ESTADOS UNIDOS DA AMÉRICA</td>\n",
              "      <td></td>\n",
              "      <td>ALIBABA GROUP HOLDING LTD</td>\n",
              "      <td>Investimento no Exterior - Ação ordinária</td>\n",
              "      <td>71548033.21</td>\n",
              "      <td>11.455</td>\n",
              "    </tr>\n",
              "    <tr>\n",
              "      <th>2</th>\n",
              "      <td>00.102.322/0001-41</td>\n",
              "      <td>5854514.16</td>\n",
              "      <td>AMZN</td>\n",
              "      <td>NASDAQ STOCK MARKET</td>\n",
              "      <td>ESTADOS UNIDOS DA AMÉRICA</td>\n",
              "      <td></td>\n",
              "      <td>AMAZON.COM INC</td>\n",
              "      <td>Investimento no Exterior - Ação ordinária</td>\n",
              "      <td>71548033.21</td>\n",
              "      <td>8.183</td>\n",
              "    </tr>\n",
              "    <tr>\n",
              "      <th>3</th>\n",
              "      <td>00.102.322/0001-41</td>\n",
              "      <td>11049923.85</td>\n",
              "      <td>JPMC</td>\n",
              "      <td>NYSE EURONEXT</td>\n",
              "      <td>ESTADOS UNIDOS DA AMÉRICA</td>\n",
              "      <td></td>\n",
              "      <td>JP MORGAN CHASE  CO.</td>\n",
              "      <td>Investimento no Exterior - Ação ordinária</td>\n",
              "      <td>71548033.21</td>\n",
              "      <td>15.444</td>\n",
              "    </tr>\n",
              "    <tr>\n",
              "      <th>4</th>\n",
              "      <td>00.360.293/0001-18</td>\n",
              "      <td>205976213.92</td>\n",
              "      <td>EJ9011747</td>\n",
              "      <td>Outras bolsas ou mercados de balcão organizados</td>\n",
              "      <td>BRASIL</td>\n",
              "      <td>2025-01-07</td>\n",
              "      <td>GOVERNO BRASILEIRO</td>\n",
              "      <td>Investimento no Exterior - Título da Dívida Ex...</td>\n",
              "      <td>285328701.61</td>\n",
              "      <td>72.189</td>\n",
              "    </tr>\n",
              "  </tbody>\n",
              "</table>\n",
              "</div>"
            ],
            "text/plain": [
              "           CNPJ_FUNDO      VL_APLIC  ...   VL_PATRIM_LIQ PR_PATRIM_LIQ\n",
              "0  00.083.181/0001-67   39697260.92  ...  15519640726.95         0.256\n",
              "1  00.102.322/0001-41    8196096.35  ...     71548033.21        11.455\n",
              "2  00.102.322/0001-41    5854514.16  ...     71548033.21         8.183\n",
              "3  00.102.322/0001-41   11049923.85  ...     71548033.21        15.444\n",
              "4  00.360.293/0001-18  205976213.92  ...    285328701.61        72.189\n",
              "\n",
              "[5 rows x 10 columns]"
            ]
          },
          "metadata": {
            "tags": []
          },
          "execution_count": 87
        }
      ]
    },
    {
      "cell_type": "markdown",
      "metadata": {
        "id": "dqvgO17s6QAf"
      },
      "source": [
        "#### Atos Não Codificados"
      ]
    },
    {
      "cell_type": "markdown",
      "metadata": {
        "id": "UB8W5ECQthoJ"
      },
      "source": [
        "O novo dataframe (_aplic_cda8_) será construído a partir de _cda8_ e _nomes_emissores_. Este último será utilizado para determinar o nome do emissor a partir de seu CPF/CNPJ.\n"
      ]
    },
    {
      "cell_type": "code",
      "metadata": {
        "colab": {
          "base_uri": "https://localhost:8080/",
          "height": 206
        },
        "id": "AEnsQXq3r8Ti",
        "outputId": "cab56569-74cd-4b9c-f96c-5aeb39053a96"
      },
      "source": [
        "df = pd.merge(cda8, cda0,\n",
        "                        how=\"inner\", on=[\"CNPJ_FUNDO\"])\n",
        "\n",
        "df['PR_PATRIM_LIQ'] = df.apply(lambda row: pr_patrim_liq(row), axis=1)\n",
        "df = df.drop(['TP_APLIC'], axis=1)\n",
        "\n",
        "# Substitui o nome do emissor (coluna EMISSOR) pelo correspondente no dataframe 'nomes_emissores', quando for encontrada correspondência\n",
        "# A coluna CPF_CNPJ_EMISSOR do dataframe 'nomes_emissores' será utilizada na operação de merge; por isso, os valores NaN serão preenchidos com '0'\n",
        "aplic_cda8 = pd.merge(df.rename(columns={'EMISSOR': 'EMISSOR_1'}), \n",
        "                                          nomes_emissores.rename(columns={'EMISSOR': 'EMISSOR_2'}).fillna({'CPF_CNPJ_EMISSOR': '0'}),\n",
        "                                          how=\"left\", on=[\"CPF_CNPJ_EMISSOR\"])\n",
        "\n",
        "aplic_cda8['EMISSOR'] = aplic_cda8.apply(lambda row: emissor(row), axis=1)\n",
        "aplic_cda8 = aplic_cda8.drop(['EMISSOR_1'], axis=1)\n",
        "aplic_cda8 = aplic_cda8.drop(['EMISSOR_2'], axis=1)\n",
        "\n",
        "aplic_cda8 = aplic_cda8.fillna('')\n",
        "aplic_cda8.head()"
      ],
      "execution_count": null,
      "outputs": [
        {
          "output_type": "execute_result",
          "data": {
            "text/html": [
              "<div>\n",
              "<style scoped>\n",
              "    .dataframe tbody tr th:only-of-type {\n",
              "        vertical-align: middle;\n",
              "    }\n",
              "\n",
              "    .dataframe tbody tr th {\n",
              "        vertical-align: top;\n",
              "    }\n",
              "\n",
              "    .dataframe thead th {\n",
              "        text-align: right;\n",
              "    }\n",
              "</style>\n",
              "<table border=\"1\" class=\"dataframe\">\n",
              "  <thead>\n",
              "    <tr style=\"text-align: right;\">\n",
              "      <th></th>\n",
              "      <th>CNPJ_FUNDO</th>\n",
              "      <th>VL_APLIC</th>\n",
              "      <th>DS_ATIVO</th>\n",
              "      <th>CPF_CNPJ_EMISSOR</th>\n",
              "      <th>VL_PATRIM_LIQ</th>\n",
              "      <th>PR_PATRIM_LIQ</th>\n",
              "      <th>EMISSOR</th>\n",
              "    </tr>\n",
              "  </thead>\n",
              "  <tbody>\n",
              "    <tr>\n",
              "      <th>0</th>\n",
              "      <td>06.537.068/0001-90</td>\n",
              "      <td>0.00</td>\n",
              "      <td>Cotas de fundos de renda fixa - Cotas de fundo...</td>\n",
              "      <td></td>\n",
              "      <td>1325.12</td>\n",
              "      <td>0.000</td>\n",
              "      <td></td>\n",
              "    </tr>\n",
              "    <tr>\n",
              "      <th>1</th>\n",
              "      <td>06.537.068/0001-90</td>\n",
              "      <td>1323.62</td>\n",
              "      <td>Disponibilidades - Outros - VALOR DAS DISPONIB...</td>\n",
              "      <td></td>\n",
              "      <td>1325.12</td>\n",
              "      <td>99.887</td>\n",
              "      <td></td>\n",
              "    </tr>\n",
              "    <tr>\n",
              "      <th>2</th>\n",
              "      <td>06.537.068/0001-90</td>\n",
              "      <td>0.00</td>\n",
              "      <td>Valores a pagar - Outros - VALOR A PAGAR</td>\n",
              "      <td></td>\n",
              "      <td>1325.12</td>\n",
              "      <td>0.000</td>\n",
              "      <td></td>\n",
              "    </tr>\n",
              "    <tr>\n",
              "      <th>3</th>\n",
              "      <td>07.408.147/0001-64</td>\n",
              "      <td>0.00</td>\n",
              "      <td>Cotas de fundos de renda fixa - Cotas de fundo...</td>\n",
              "      <td></td>\n",
              "      <td>28308.60</td>\n",
              "      <td>0.000</td>\n",
              "      <td></td>\n",
              "    </tr>\n",
              "    <tr>\n",
              "      <th>4</th>\n",
              "      <td>07.408.147/0001-64</td>\n",
              "      <td>28293.61</td>\n",
              "      <td>Disponibilidades - Outros - VALOR DAS DISPONIB...</td>\n",
              "      <td></td>\n",
              "      <td>28308.60</td>\n",
              "      <td>99.947</td>\n",
              "      <td></td>\n",
              "    </tr>\n",
              "  </tbody>\n",
              "</table>\n",
              "</div>"
            ],
            "text/plain": [
              "           CNPJ_FUNDO  VL_APLIC  ... PR_PATRIM_LIQ EMISSOR\n",
              "0  06.537.068/0001-90      0.00  ...         0.000        \n",
              "1  06.537.068/0001-90   1323.62  ...        99.887        \n",
              "2  06.537.068/0001-90      0.00  ...         0.000        \n",
              "3  07.408.147/0001-64      0.00  ...         0.000        \n",
              "4  07.408.147/0001-64  28293.61  ...        99.947        \n",
              "\n",
              "[5 rows x 7 columns]"
            ]
          },
          "metadata": {
            "tags": []
          },
          "execution_count": 88
        }
      ]
    },
    {
      "cell_type": "markdown",
      "metadata": {
        "id": "tcrPcVT48ce8"
      },
      "source": [
        "## Exportação dos dados"
      ]
    },
    {
      "cell_type": "markdown",
      "metadata": {
        "id": "QJ2VZ28kBfcv"
      },
      "source": [
        "### Mapeamento do Google Drive"
      ]
    },
    {
      "cell_type": "code",
      "metadata": {
        "id": "6Ac7wxePXwtQ"
      },
      "source": [
        "drive.mount('/content/drive/')"
      ],
      "execution_count": null,
      "outputs": []
    },
    {
      "cell_type": "code",
      "metadata": {
        "id": "AaS5CnHKk7ga"
      },
      "source": [
        "!mkdir -p /content/drive/MyDrive/carteira_fundos/dados-abertos\n",
        "!mkdir -p /content/drive/MyDrive/carteira_fundos/grafo-carga"
      ],
      "execution_count": null,
      "outputs": []
    },
    {
      "cell_type": "code",
      "metadata": {
        "id": "omTpzvhunZ6W"
      },
      "source": [
        "# Salva no Google Drive os arquivos baixados do Portal de Dados Abertos CVM e site B3\n",
        "!cp cad_fi.csv /content/drive/MyDrive/carteira_fundos/dados-abertos\n",
        "!cp cda_fi.zip /content/drive/MyDrive/carteira_fundos/dados-abertos\n",
        "!cp isinp.zip /content/drive/MyDrive/carteira_fundos/dados-abertos"
      ],
      "execution_count": null,
      "outputs": []
    },
    {
      "cell_type": "code",
      "metadata": {
        "id": "UZqzx9ibs1SE"
      },
      "source": [
        "# Define diretório do Google Drive para salvar o resultado do processamento\n",
        "diretorio_saida = '/content/drive/MyDrive/carteira_fundos/grafo-carga/'"
      ],
      "execution_count": null,
      "outputs": []
    },
    {
      "cell_type": "markdown",
      "metadata": {
        "id": "1KTKfWCzJ2I3"
      },
      "source": [
        "### Fundos"
      ]
    },
    {
      "cell_type": "markdown",
      "metadata": {
        "id": "ME748D5_vex0"
      },
      "source": [
        "> Entidade __Fundo de Investimento__: dataframe _fundos_\n",
        "* Identificador (_primary key_) do fundo: coluna CNPJ_FUNDO\n",
        "* Arquivo de saída: __fundos.csv__"
      ]
    },
    {
      "cell_type": "code",
      "metadata": {
        "colab": {
          "base_uri": "https://localhost:8080/",
          "height": 206
        },
        "id": "bKP7amEu8glD",
        "outputId": "586030dc-728e-4e60-b78c-6cbf1209928e"
      },
      "source": [
        "fundos.to_csv(diretorio_saida + 'fundos.csv', index=False, encoding='utf-8')\n",
        "fundos.head()"
      ],
      "execution_count": null,
      "outputs": [
        {
          "output_type": "execute_result",
          "data": {
            "text/html": [
              "<div>\n",
              "<style scoped>\n",
              "    .dataframe tbody tr th:only-of-type {\n",
              "        vertical-align: middle;\n",
              "    }\n",
              "\n",
              "    .dataframe tbody tr th {\n",
              "        vertical-align: top;\n",
              "    }\n",
              "\n",
              "    .dataframe thead th {\n",
              "        text-align: right;\n",
              "    }\n",
              "</style>\n",
              "<table border=\"1\" class=\"dataframe\">\n",
              "  <thead>\n",
              "    <tr style=\"text-align: right;\">\n",
              "      <th></th>\n",
              "      <th>TP_FUNDO</th>\n",
              "      <th>CNPJ_FUNDO</th>\n",
              "      <th>DENOM_SOCIAL</th>\n",
              "      <th>SIT</th>\n",
              "      <th>DT_INI_SIT</th>\n",
              "      <th>FUNDO_COTAS</th>\n",
              "      <th>FUNDO_EXCLUSIVO</th>\n",
              "      <th>VL_PATRIM_LIQ</th>\n",
              "    </tr>\n",
              "  </thead>\n",
              "  <tbody>\n",
              "    <tr>\n",
              "      <th>0</th>\n",
              "      <td>FAPI</td>\n",
              "      <td>02.177.812/0001-32</td>\n",
              "      <td>ITAU FAPI RENDA FIXA - FUNDO DE APOSENTADORIA ...</td>\n",
              "      <td>EM FUNCIONAMENTO NORMAL</td>\n",
              "      <td>1997-11-27</td>\n",
              "      <td></td>\n",
              "      <td></td>\n",
              "      <td>66438968.44</td>\n",
              "    </tr>\n",
              "    <tr>\n",
              "      <th>1</th>\n",
              "      <td>FAPI</td>\n",
              "      <td>02.226.122/0001-26</td>\n",
              "      <td>UNIBANCO FUNDO DE APOSENTADORIA PROGRAMADA IND...</td>\n",
              "      <td>EM FUNCIONAMENTO NORMAL</td>\n",
              "      <td>1997-12-05</td>\n",
              "      <td></td>\n",
              "      <td></td>\n",
              "      <td>4740.45</td>\n",
              "    </tr>\n",
              "    <tr>\n",
              "      <th>2</th>\n",
              "      <td>FAPI</td>\n",
              "      <td>02.177.815/0001-76</td>\n",
              "      <td>ITAU FAPI CONSERVADOR - FUNDO DE APOSENTADORIA...</td>\n",
              "      <td>EM FUNCIONAMENTO NORMAL</td>\n",
              "      <td>1997-12-16</td>\n",
              "      <td></td>\n",
              "      <td></td>\n",
              "      <td>2044493.92</td>\n",
              "    </tr>\n",
              "    <tr>\n",
              "      <th>3</th>\n",
              "      <td>FAPI</td>\n",
              "      <td>02.185.027/0001-21</td>\n",
              "      <td>BRADESCO FUNDO DE APOSENTADORIA PROGRAMADA IND...</td>\n",
              "      <td>EM FUNCIONAMENTO NORMAL</td>\n",
              "      <td>1997-12-19</td>\n",
              "      <td></td>\n",
              "      <td></td>\n",
              "      <td>453086833.64</td>\n",
              "    </tr>\n",
              "    <tr>\n",
              "      <th>4</th>\n",
              "      <td>FAPI</td>\n",
              "      <td>02.297.533/0001-02</td>\n",
              "      <td>BRADESCO FUNDO DE APOSENTADORIA PROGRAMADA IND...</td>\n",
              "      <td>EM FUNCIONAMENTO NORMAL</td>\n",
              "      <td>1997-12-29</td>\n",
              "      <td></td>\n",
              "      <td></td>\n",
              "      <td>15654242.81</td>\n",
              "    </tr>\n",
              "  </tbody>\n",
              "</table>\n",
              "</div>"
            ],
            "text/plain": [
              "  TP_FUNDO          CNPJ_FUNDO  ... FUNDO_EXCLUSIVO VL_PATRIM_LIQ\n",
              "0     FAPI  02.177.812/0001-32  ...                   66438968.44\n",
              "1     FAPI  02.226.122/0001-26  ...                       4740.45\n",
              "2     FAPI  02.177.815/0001-76  ...                    2044493.92\n",
              "3     FAPI  02.185.027/0001-21  ...                  453086833.64\n",
              "4     FAPI  02.297.533/0001-02  ...                   15654242.81\n",
              "\n",
              "[5 rows x 8 columns]"
            ]
          },
          "metadata": {
            "tags": []
          },
          "execution_count": 93
        }
      ]
    },
    {
      "cell_type": "markdown",
      "metadata": {
        "id": "1M2krjmBL2Hs"
      },
      "source": [
        "### Gestores"
      ]
    },
    {
      "cell_type": "markdown",
      "metadata": {
        "id": "4g2c0HrowU-B"
      },
      "source": [
        "> Entidade __Gestor__: dataframe _gestores_\n",
        "* Identificador (_primary key_) do gestor: coluna CPF_CNPJ_GESTOR\n",
        "*  Arquivo de saída: __gestores.csv__"
      ]
    },
    {
      "cell_type": "code",
      "metadata": {
        "colab": {
          "base_uri": "https://localhost:8080/",
          "height": 206
        },
        "id": "v_J87423LI_w",
        "outputId": "0d45fbbd-d35a-4258-c87e-0cef2b4eeb1d"
      },
      "source": [
        "gestores.to_csv(diretorio_saida + 'gestores.csv', index=False, encoding='utf-8')\n",
        "gestores.head()"
      ],
      "execution_count": null,
      "outputs": [
        {
          "output_type": "execute_result",
          "data": {
            "text/html": [
              "<div>\n",
              "<style scoped>\n",
              "    .dataframe tbody tr th:only-of-type {\n",
              "        vertical-align: middle;\n",
              "    }\n",
              "\n",
              "    .dataframe tbody tr th {\n",
              "        vertical-align: top;\n",
              "    }\n",
              "\n",
              "    .dataframe thead th {\n",
              "        text-align: right;\n",
              "    }\n",
              "</style>\n",
              "<table border=\"1\" class=\"dataframe\">\n",
              "  <thead>\n",
              "    <tr style=\"text-align: right;\">\n",
              "      <th></th>\n",
              "      <th>CPF_CNPJ_GESTOR</th>\n",
              "      <th>GESTOR</th>\n",
              "    </tr>\n",
              "  </thead>\n",
              "  <tbody>\n",
              "    <tr>\n",
              "      <th>60</th>\n",
              "      <td>60.770.336/0001-65</td>\n",
              "      <td>BANCO ALFA DE INVESTIMENTO S.A.</td>\n",
              "    </tr>\n",
              "    <tr>\n",
              "      <th>1070</th>\n",
              "      <td>60.701.190/0001-04</td>\n",
              "      <td>ITAU UNIBANCO S.A.</td>\n",
              "    </tr>\n",
              "    <tr>\n",
              "      <th>1095</th>\n",
              "      <td>33.172.537/0001-98</td>\n",
              "      <td>BANCO J.P. MORGAN S.A.</td>\n",
              "    </tr>\n",
              "    <tr>\n",
              "      <th>1707</th>\n",
              "      <td>12.695.840/0001-03</td>\n",
              "      <td>JULIUS BAER FAMILY OFFICE BRASIL GESTÃO DE PAT...</td>\n",
              "    </tr>\n",
              "    <tr>\n",
              "      <th>3277</th>\n",
              "      <td>62.375.134/0001-44</td>\n",
              "      <td>BRAM - BRADESCO ASSET MANAGEMENT S.A. DISTRIBU...</td>\n",
              "    </tr>\n",
              "  </tbody>\n",
              "</table>\n",
              "</div>"
            ],
            "text/plain": [
              "         CPF_CNPJ_GESTOR                                             GESTOR\n",
              "60    60.770.336/0001-65                    BANCO ALFA DE INVESTIMENTO S.A.\n",
              "1070  60.701.190/0001-04                                 ITAU UNIBANCO S.A.\n",
              "1095  33.172.537/0001-98                             BANCO J.P. MORGAN S.A.\n",
              "1707  12.695.840/0001-03  JULIUS BAER FAMILY OFFICE BRASIL GESTÃO DE PAT...\n",
              "3277  62.375.134/0001-44  BRAM - BRADESCO ASSET MANAGEMENT S.A. DISTRIBU..."
            ]
          },
          "metadata": {
            "tags": []
          },
          "execution_count": 94
        }
      ]
    },
    {
      "cell_type": "markdown",
      "metadata": {
        "id": "ImdIj-VbwnZw"
      },
      "source": [
        "> Relacionamento __Fundo Gerido por Gestor__: dataframe _fundos_gestores_\n",
        "* Arquivo de saída: __fundos_gestores.csv__"
      ]
    },
    {
      "cell_type": "code",
      "metadata": {
        "colab": {
          "base_uri": "https://localhost:8080/",
          "height": 206
        },
        "id": "FEfYtH3QMVwp",
        "outputId": "d90b34d6-1b00-4323-fa10-f09d7849c4c8"
      },
      "source": [
        "fundos_gestores.to_csv(diretorio_saida + 'fundos_gestores.csv', index=False, encoding='utf-8')\n",
        "fundos_gestores.head()"
      ],
      "execution_count": null,
      "outputs": [
        {
          "output_type": "execute_result",
          "data": {
            "text/html": [
              "<div>\n",
              "<style scoped>\n",
              "    .dataframe tbody tr th:only-of-type {\n",
              "        vertical-align: middle;\n",
              "    }\n",
              "\n",
              "    .dataframe tbody tr th {\n",
              "        vertical-align: top;\n",
              "    }\n",
              "\n",
              "    .dataframe thead th {\n",
              "        text-align: right;\n",
              "    }\n",
              "</style>\n",
              "<table border=\"1\" class=\"dataframe\">\n",
              "  <thead>\n",
              "    <tr style=\"text-align: right;\">\n",
              "      <th></th>\n",
              "      <th>CNPJ_FUNDO</th>\n",
              "      <th>CPF_CNPJ_GESTOR</th>\n",
              "    </tr>\n",
              "  </thead>\n",
              "  <tbody>\n",
              "    <tr>\n",
              "      <th>0</th>\n",
              "      <td>03.915.495/0001-77</td>\n",
              "      <td>60.701.190/0001-04</td>\n",
              "    </tr>\n",
              "    <tr>\n",
              "      <th>1</th>\n",
              "      <td>02.838.578/0001-47</td>\n",
              "      <td>30.822.936/0001-69</td>\n",
              "    </tr>\n",
              "    <tr>\n",
              "      <th>2</th>\n",
              "      <td>02.998.275/0001-91</td>\n",
              "      <td>62.375.134/0001-44</td>\n",
              "    </tr>\n",
              "    <tr>\n",
              "      <th>3</th>\n",
              "      <td>03.555.959/0001-81</td>\n",
              "      <td>00.360.305/0001-04</td>\n",
              "    </tr>\n",
              "    <tr>\n",
              "      <th>4</th>\n",
              "      <td>03.859.784/0001-04</td>\n",
              "      <td>33.311.713/0001-25</td>\n",
              "    </tr>\n",
              "  </tbody>\n",
              "</table>\n",
              "</div>"
            ],
            "text/plain": [
              "           CNPJ_FUNDO     CPF_CNPJ_GESTOR\n",
              "0  03.915.495/0001-77  60.701.190/0001-04\n",
              "1  02.838.578/0001-47  30.822.936/0001-69\n",
              "2  02.998.275/0001-91  62.375.134/0001-44\n",
              "3  03.555.959/0001-81  00.360.305/0001-04\n",
              "4  03.859.784/0001-04  33.311.713/0001-25"
            ]
          },
          "metadata": {
            "tags": []
          },
          "execution_count": 95
        }
      ]
    },
    {
      "cell_type": "markdown",
      "metadata": {
        "id": "HUKO21vrC7Au"
      },
      "source": [
        "### Ativos"
      ]
    },
    {
      "cell_type": "markdown",
      "metadata": {
        "id": "QpqfK68nx6tm"
      },
      "source": [
        "> Entidade __Ativo__: dataframe _ativos_\n",
        "* Identificador (_primary key_) do ativo: coluna ID_ATIVO, calculada a partir do _hash_ da linha\n",
        "* Arquivo de saída: __ativos.csv__"
      ]
    },
    {
      "cell_type": "markdown",
      "metadata": {
        "id": "6AuQ4F_c3O17"
      },
      "source": [
        "Cálculo da coluna ID_ATIVO para ativos identificados pelo código ISIN\n",
        "\n"
      ]
    },
    {
      "cell_type": "code",
      "metadata": {
        "id": "bhYZ-pDQifab"
      },
      "source": [
        "ativos_emissor_isin = pd.concat([titulos_publicos_emissor, \n",
        "           swap_emissor,       \n",
        "           ativos_codificados_emissor]).fillna('')\n",
        "\n",
        "ativos_emissor_isin.reset_index(drop=True, inplace=True)       \n",
        "\n",
        "# ID_EMISSOR: a combinação de campos suficiente para identificar univocamente uma linha no dataframe de emissores \n",
        "ativos_emissor_isin['ID_EMISSOR'] = ativos_emissor_isin.apply(lambda row: id_emissor(row), axis=1)\n",
        "# ID_EMISSOR: o hash da combinação calculada acima\n",
        "ativos_emissor_isin['ID_EMISSOR'] = ativos_emissor_isin['ID_EMISSOR'].apply(hash)\n",
        "\n",
        "# ID_ATIVO: a combinação de campos suficiente para identificar univocamente uma linha no dataframe de ativos \n",
        "ativos_emissor_isin['ID_ATIVO']   =  \\\n",
        "        ativos_emissor_isin['CD_ATIVO'] \\\n",
        "+ '|' + ativos_emissor_isin['CD_ISIN'] \\\n",
        "+ '|' \\\n",
        "+ '|' \\\n",
        "+ '|' \\\n",
        "+ '|' \\\n",
        "+ '|' \n",
        "\n",
        "# ID_ATIVO: o hash da combinação calculada acima\n",
        "ativos_emissor_isin['ID_ATIVO'] = ativos_emissor_isin['ID_ATIVO'].apply(hash)"
      ],
      "execution_count": null,
      "outputs": []
    },
    {
      "cell_type": "markdown",
      "metadata": {
        "id": "rRz5im4a3iQm"
      },
      "source": [
        "Cálculo da coluna ID_ATIVO para ativos __não__ identificados pelo código ISIN\n",
        "\n"
      ]
    },
    {
      "cell_type": "code",
      "metadata": {
        "id": "JLTNfxEBSt-G"
      },
      "source": [
        "ativos_emissor = pd.concat([depositos_prazo_emissor, \n",
        "           titulos_agronegocio_emissor, \n",
        "           investimento_exterior_emissor, \n",
        "           ativos_nao_codificados_emissor]).fillna('')\n",
        "\n",
        "ativos_emissor.reset_index(drop=True, inplace=True)       \n",
        "\n",
        "# ID_EMISSOR: a combinação de campos suficiente para identificar univocamente uma linha no dataframe de emissores \n",
        "ativos_emissor['ID_EMISSOR'] = ativos_emissor.apply(lambda row: id_emissor(row), axis=1)\n",
        "# ID_EMISSOR: o hash da combinação calculada acima\n",
        "ativos_emissor['ID_EMISSOR'] = ativos_emissor['ID_EMISSOR'].apply(hash)\n",
        "\n",
        "# ID_ATIVO: a combinação de campos suficiente para identificar univocamente uma linha no dataframe de ativos \n",
        "ativos_emissor['ID_ATIVO']   = \\\n",
        "        ativos_emissor['CD_ATIVO'] \\\n",
        "+ '|' \\\n",
        "+ '|' + ativos_emissor['DS_ATIVO'] \\\n",
        "+ '|' + ativos_emissor['DT_VENC'] \\\n",
        "+ '|' + ativos_emissor['BV_MERC'] \\\n",
        "+ '|' + ativos_emissor['PAIS'] \\\n",
        "+ '|' + ativos_emissor['ID_EMISSOR'] \n",
        "           \n",
        "# ID_ATIVO: o hash da combinação calculada acima\n",
        "ativos_emissor['ID_ATIVO'] = ativos_emissor['ID_ATIVO'].apply(hash)"
      ],
      "execution_count": null,
      "outputs": []
    },
    {
      "cell_type": "markdown",
      "metadata": {
        "id": "FPYT62Lw6Ftl"
      },
      "source": [
        "Concatenação dos resultados no dataframe _ativos_"
      ]
    },
    {
      "cell_type": "code",
      "metadata": {
        "colab": {
          "base_uri": "https://localhost:8080/",
          "height": 206
        },
        "id": "o6WNf4yo8jZf",
        "outputId": "64d95eef-47f6-46c1-e90d-e642a209c590"
      },
      "source": [
        "ativos = pd.concat([ativos_emissor_isin[['ID_ATIVO','CD_ATIVO','CD_ISIN','DS_ATIVO', 'DT_VENC','ID_EMISSOR']],\n",
        "                                     ativos_emissor[['ID_ATIVO','CD_ATIVO','DS_ATIVO','BV_MERC','PAIS','DT_VENC','ID_EMISSOR']]]).fillna('')\n",
        "\n",
        "df = ativos.drop(['ID_EMISSOR'], axis=1)\n",
        "df.to_csv(diretorio_saida + 'ativos.csv', index=False, encoding='utf-8')\n",
        "df.head()"
      ],
      "execution_count": null,
      "outputs": [
        {
          "output_type": "execute_result",
          "data": {
            "text/html": [
              "<div>\n",
              "<style scoped>\n",
              "    .dataframe tbody tr th:only-of-type {\n",
              "        vertical-align: middle;\n",
              "    }\n",
              "\n",
              "    .dataframe tbody tr th {\n",
              "        vertical-align: top;\n",
              "    }\n",
              "\n",
              "    .dataframe thead th {\n",
              "        text-align: right;\n",
              "    }\n",
              "</style>\n",
              "<table border=\"1\" class=\"dataframe\">\n",
              "  <thead>\n",
              "    <tr style=\"text-align: right;\">\n",
              "      <th></th>\n",
              "      <th>ID_ATIVO</th>\n",
              "      <th>CD_ATIVO</th>\n",
              "      <th>CD_ISIN</th>\n",
              "      <th>DS_ATIVO</th>\n",
              "      <th>DT_VENC</th>\n",
              "      <th>BV_MERC</th>\n",
              "      <th>PAIS</th>\n",
              "    </tr>\n",
              "  </thead>\n",
              "  <tbody>\n",
              "    <tr>\n",
              "      <th>0</th>\n",
              "      <td>1d10237b4abbca11a03a6ee745d6cac6</td>\n",
              "      <td></td>\n",
              "      <td>BRSTNCLF1R74</td>\n",
              "      <td>LETRAS FINANCEIRAS DO TESOURO LETRAS FINANCEIR...</td>\n",
              "      <td>2022-09-01</td>\n",
              "      <td></td>\n",
              "      <td></td>\n",
              "    </tr>\n",
              "    <tr>\n",
              "      <th>1</th>\n",
              "      <td>c72352b69567bd78998644887a498ae9</td>\n",
              "      <td></td>\n",
              "      <td>BRSTNCNTF1P8</td>\n",
              "      <td>NOTAS DO TESOURO NACIONAL SERIE F NOTAS DO TES...</td>\n",
              "      <td>2027-01-01</td>\n",
              "      <td></td>\n",
              "      <td></td>\n",
              "    </tr>\n",
              "    <tr>\n",
              "      <th>2</th>\n",
              "      <td>266c59d25d42be89f4db5e419fbc4ef4</td>\n",
              "      <td></td>\n",
              "      <td>BRSTNCLTN7O0</td>\n",
              "      <td>LETRAS DO TESOURO NACIONAL LETRAS DO TESOURO N...</td>\n",
              "      <td>2022-07-01</td>\n",
              "      <td></td>\n",
              "      <td></td>\n",
              "    </tr>\n",
              "    <tr>\n",
              "      <th>3</th>\n",
              "      <td>744a9a382e0cdeae5d5711538e0b8dbc</td>\n",
              "      <td></td>\n",
              "      <td>BRSTNCNTB4O9</td>\n",
              "      <td>NOTAS DO TESOURO NACIONAL SERIE B NOTAS DO TES...</td>\n",
              "      <td>2023-05-15</td>\n",
              "      <td></td>\n",
              "      <td></td>\n",
              "    </tr>\n",
              "    <tr>\n",
              "      <th>4</th>\n",
              "      <td>931fda6a5040d49705a8baf564d28659</td>\n",
              "      <td></td>\n",
              "      <td>BRSTNCNTB096</td>\n",
              "      <td>NOTAS DO TESOURO NACIONAL SERIE B NOTAS DO TES...</td>\n",
              "      <td>2024-08-15</td>\n",
              "      <td></td>\n",
              "      <td></td>\n",
              "    </tr>\n",
              "  </tbody>\n",
              "</table>\n",
              "</div>"
            ],
            "text/plain": [
              "                           ID_ATIVO CD_ATIVO  ... BV_MERC PAIS\n",
              "0  1d10237b4abbca11a03a6ee745d6cac6           ...             \n",
              "1  c72352b69567bd78998644887a498ae9           ...             \n",
              "2  266c59d25d42be89f4db5e419fbc4ef4           ...             \n",
              "3  744a9a382e0cdeae5d5711538e0b8dbc           ...             \n",
              "4  931fda6a5040d49705a8baf564d28659           ...             \n",
              "\n",
              "[5 rows x 7 columns]"
            ]
          },
          "metadata": {
            "tags": []
          },
          "execution_count": 98
        }
      ]
    },
    {
      "cell_type": "markdown",
      "metadata": {
        "id": "nGK4n1f_yhe2"
      },
      "source": [
        "> Relacionamento __Ativo Emitido por Emissor__: dataframe _ativos_emissores_\n",
        "* Arquivo de saída: __ativos_emissores.csv__"
      ]
    },
    {
      "cell_type": "code",
      "metadata": {
        "colab": {
          "base_uri": "https://localhost:8080/",
          "height": 206
        },
        "id": "hSIyrpZGPnFQ",
        "outputId": "bf9edd06-fda8-4874-e54f-bc63c1bb20ab"
      },
      "source": [
        "df = ativos[['ID_ATIVO','ID_EMISSOR']]\n",
        "\n",
        "ativos_emissores = df[df['ID_EMISSOR']!=''].drop_duplicates()\n",
        "\n",
        "ativos_emissores.to_csv(diretorio_saida + 'ativos_emissores.csv', index=False, encoding='utf-8')\n",
        "ativos_emissores.head()"
      ],
      "execution_count": null,
      "outputs": [
        {
          "output_type": "execute_result",
          "data": {
            "text/html": [
              "<div>\n",
              "<style scoped>\n",
              "    .dataframe tbody tr th:only-of-type {\n",
              "        vertical-align: middle;\n",
              "    }\n",
              "\n",
              "    .dataframe tbody tr th {\n",
              "        vertical-align: top;\n",
              "    }\n",
              "\n",
              "    .dataframe thead th {\n",
              "        text-align: right;\n",
              "    }\n",
              "</style>\n",
              "<table border=\"1\" class=\"dataframe\">\n",
              "  <thead>\n",
              "    <tr style=\"text-align: right;\">\n",
              "      <th></th>\n",
              "      <th>ID_ATIVO</th>\n",
              "      <th>ID_EMISSOR</th>\n",
              "    </tr>\n",
              "  </thead>\n",
              "  <tbody>\n",
              "    <tr>\n",
              "      <th>0</th>\n",
              "      <td>1d10237b4abbca11a03a6ee745d6cac6</td>\n",
              "      <td>0425aba961b0e9399dbc2cfb7628f351</td>\n",
              "    </tr>\n",
              "    <tr>\n",
              "      <th>1</th>\n",
              "      <td>c72352b69567bd78998644887a498ae9</td>\n",
              "      <td>0425aba961b0e9399dbc2cfb7628f351</td>\n",
              "    </tr>\n",
              "    <tr>\n",
              "      <th>2</th>\n",
              "      <td>266c59d25d42be89f4db5e419fbc4ef4</td>\n",
              "      <td>0425aba961b0e9399dbc2cfb7628f351</td>\n",
              "    </tr>\n",
              "    <tr>\n",
              "      <th>3</th>\n",
              "      <td>744a9a382e0cdeae5d5711538e0b8dbc</td>\n",
              "      <td>0425aba961b0e9399dbc2cfb7628f351</td>\n",
              "    </tr>\n",
              "    <tr>\n",
              "      <th>4</th>\n",
              "      <td>931fda6a5040d49705a8baf564d28659</td>\n",
              "      <td>0425aba961b0e9399dbc2cfb7628f351</td>\n",
              "    </tr>\n",
              "  </tbody>\n",
              "</table>\n",
              "</div>"
            ],
            "text/plain": [
              "                           ID_ATIVO                        ID_EMISSOR\n",
              "0  1d10237b4abbca11a03a6ee745d6cac6  0425aba961b0e9399dbc2cfb7628f351\n",
              "1  c72352b69567bd78998644887a498ae9  0425aba961b0e9399dbc2cfb7628f351\n",
              "2  266c59d25d42be89f4db5e419fbc4ef4  0425aba961b0e9399dbc2cfb7628f351\n",
              "3  744a9a382e0cdeae5d5711538e0b8dbc  0425aba961b0e9399dbc2cfb7628f351\n",
              "4  931fda6a5040d49705a8baf564d28659  0425aba961b0e9399dbc2cfb7628f351"
            ]
          },
          "metadata": {
            "tags": []
          },
          "execution_count": 99
        }
      ]
    },
    {
      "cell_type": "markdown",
      "metadata": {
        "id": "r1rb4n_8Cxvq"
      },
      "source": [
        "### Emissores"
      ]
    },
    {
      "cell_type": "markdown",
      "metadata": {
        "id": "9aOkghicy-mn"
      },
      "source": [
        "> Entidade __Emissor__: dataframe _emissores_\n",
        "* Identificador (_primary key_) do emissor: coluna ID_EMISSOR, calculada a partir do _hash_ da linha\n",
        "* Arquivo de saída: __emissores.csv__"
      ]
    },
    {
      "cell_type": "markdown",
      "metadata": {
        "id": "O_XfghTJ9jnO"
      },
      "source": [
        "Reduziremos o dataframe para conter apenas os emissores referenciados no documento CDA em análise."
      ]
    },
    {
      "cell_type": "code",
      "metadata": {
        "id": "Sryyrql0mY2i"
      },
      "source": [
        "df = nomes_emissores.fillna('')\n",
        "\n",
        "# ID_EMISSOR: a combinação de campos suficiente para identificar univocamente uma linha no dataframe de emissores \n",
        "df['ID_EMISSOR'] = df.apply(lambda row: id_emissor(row), axis=1)\n",
        "# ID_EMISSOR: o hash da combinação calculada acima\n",
        "df['ID_EMISSOR'] = df['ID_EMISSOR'].apply(hash)\n",
        "\n",
        "# Reduziremos o dataframe para conter apenas os emissores referenciados no documento CDA em análise.\n",
        "emissores = pd.merge(df, ativos_emissores.drop(['ID_ATIVO'], axis=1),\n",
        "                     how=\"inner\", on=[\"ID_EMISSOR\"])\n",
        "\n",
        "emissores = emissores.drop_duplicates()"
      ],
      "execution_count": null,
      "outputs": []
    },
    {
      "cell_type": "code",
      "metadata": {
        "colab": {
          "base_uri": "https://localhost:8080/",
          "height": 206
        },
        "id": "QIJ7cPCQ85Ya",
        "outputId": "63827d1a-9973-457b-9000-71ad3918c63c"
      },
      "source": [
        "emissores.to_csv(diretorio_saida + 'emissores.csv', index=False, encoding='utf-8')\n",
        "emissores.head()"
      ],
      "execution_count": null,
      "outputs": [
        {
          "output_type": "execute_result",
          "data": {
            "text/html": [
              "<div>\n",
              "<style scoped>\n",
              "    .dataframe tbody tr th:only-of-type {\n",
              "        vertical-align: middle;\n",
              "    }\n",
              "\n",
              "    .dataframe tbody tr th {\n",
              "        vertical-align: top;\n",
              "    }\n",
              "\n",
              "    .dataframe thead th {\n",
              "        text-align: right;\n",
              "    }\n",
              "</style>\n",
              "<table border=\"1\" class=\"dataframe\">\n",
              "  <thead>\n",
              "    <tr style=\"text-align: right;\">\n",
              "      <th></th>\n",
              "      <th>CPF_CNPJ_EMISSOR</th>\n",
              "      <th>EMISSOR</th>\n",
              "      <th>ID_EMISSOR</th>\n",
              "    </tr>\n",
              "  </thead>\n",
              "  <tbody>\n",
              "    <tr>\n",
              "      <th>0</th>\n",
              "      <td>07.810.517/0001-95</td>\n",
              "      <td>BANCO BTG PACTUAL S/A</td>\n",
              "      <td>249b405a038d00c48f7483c43b59e5a0</td>\n",
              "    </tr>\n",
              "    <tr>\n",
              "      <th>3</th>\n",
              "      <td>18.236.120/0001-58</td>\n",
              "      <td>NU PAGAMENTOS</td>\n",
              "      <td>a56f712fdc592e2c9d4298a2749e82fc</td>\n",
              "    </tr>\n",
              "    <tr>\n",
              "      <th>5</th>\n",
              "      <td>30.121.792/0001-13</td>\n",
              "      <td>CREDIT SUISSE</td>\n",
              "      <td>19cd2d95762278159bf15475ccfe4302</td>\n",
              "    </tr>\n",
              "    <tr>\n",
              "      <th>68</th>\n",
              "      <td>60.701.190/4816-09</td>\n",
              "      <td>ITAU UNIBANCO S</td>\n",
              "      <td>df1ffeef2ddbe3968250b491c38abb3c</td>\n",
              "    </tr>\n",
              "    <tr>\n",
              "      <th>72</th>\n",
              "      <td>11.476.673/0001-39</td>\n",
              "      <td>BANCO RANDON SA</td>\n",
              "      <td>76321e15ed003bb6e20e7a2beb2324d1</td>\n",
              "    </tr>\n",
              "  </tbody>\n",
              "</table>\n",
              "</div>"
            ],
            "text/plain": [
              "      CPF_CNPJ_EMISSOR                EMISSOR                        ID_EMISSOR\n",
              "0   07.810.517/0001-95  BANCO BTG PACTUAL S/A  249b405a038d00c48f7483c43b59e5a0\n",
              "3   18.236.120/0001-58          NU PAGAMENTOS  a56f712fdc592e2c9d4298a2749e82fc\n",
              "5   30.121.792/0001-13          CREDIT SUISSE  19cd2d95762278159bf15475ccfe4302\n",
              "68  60.701.190/4816-09        ITAU UNIBANCO S  df1ffeef2ddbe3968250b491c38abb3c\n",
              "72  11.476.673/0001-39        BANCO RANDON SA  76321e15ed003bb6e20e7a2beb2324d1"
            ]
          },
          "metadata": {
            "tags": []
          },
          "execution_count": 101
        }
      ]
    },
    {
      "cell_type": "markdown",
      "metadata": {
        "id": "b5o-Ee-mC-fv"
      },
      "source": [
        "### Aplicações"
      ]
    },
    {
      "cell_type": "markdown",
      "metadata": {
        "id": "jVdzZ1_BNhSc"
      },
      "source": [
        "#### Aplicações em Ativos"
      ]
    },
    {
      "cell_type": "markdown",
      "metadata": {
        "id": "23vL4GG--D3u"
      },
      "source": [
        "> Relacionamento __Aplicação em Ativo__: dataframe _aplicacoes_ativos_completo_\n",
        "* Arquivo de saída: __aplicacoes_ativos.csv__"
      ]
    },
    {
      "cell_type": "markdown",
      "metadata": {
        "id": "d5tRNWTl-Sml"
      },
      "source": [
        "Cálculo da coluna ID_ATIVO para ativos identificados pelo código ISIN\n",
        "\n"
      ]
    },
    {
      "cell_type": "code",
      "metadata": {
        "id": "Dv5VhVkG9Ryy"
      },
      "source": [
        "aplicacoes_ativos_isin = pd.concat([aplic_cda1, aplic_cda3, aplic_cda4]).fillna('')\n",
        "\n",
        "aplicacoes_ativos_isin.reset_index(drop=True, inplace=True)  \n",
        "\n",
        "aplicacoes_ativos_isin['ID_ATIVO'] = \\\n",
        "        aplicacoes_ativos_isin['CD_ATIVO'] \\\n",
        "+ '|' + aplicacoes_ativos_isin['CD_ISIN'] \\\n",
        "+ '|' \\\n",
        "+ '|' \\\n",
        "+ '|' \\\n",
        "+ '|' \\\n",
        "+ '|' \n",
        "\n",
        "aplicacoes_ativos_isin['ID_ATIVO'] = aplicacoes_ativos_isin['ID_ATIVO'].apply(hash)"
      ],
      "execution_count": null,
      "outputs": []
    },
    {
      "cell_type": "markdown",
      "metadata": {
        "id": "PjchN_TG-ch2"
      },
      "source": [
        "Cálculo da coluna ID_ATIVO para ativos __não__ identificados pelo código ISIN\n",
        "\n"
      ]
    },
    {
      "cell_type": "code",
      "metadata": {
        "id": "YK0SHmgXRwHE"
      },
      "source": [
        "aplicacoes_ativos = pd.concat([aplic_cda5, aplic_cda6, aplic_cda7, aplic_cda8]).fillna('')\n",
        "\n",
        "aplicacoes_ativos.reset_index(drop=True, inplace=True) \n",
        "\n",
        "aplicacoes_ativos['ID_ATIVO'] = \\\n",
        "        aplicacoes_ativos['CD_ATIVO'] \\\n",
        "+ '|' \\\n",
        "+ '|' + aplicacoes_ativos['DS_ATIVO'] \\\n",
        "+ '|' + aplicacoes_ativos['DT_VENC'] \\\n",
        "+ '|' + aplicacoes_ativos['BV_MERC'] \\\n",
        "+ '|' + aplicacoes_ativos['PAIS'] \\\n",
        "+ '|' + aplicacoes_ativos.apply(lambda row: id_emissor(row), axis=1).apply(hash) \n",
        "\n",
        "aplicacoes_ativos['ID_ATIVO'] = aplicacoes_ativos['ID_ATIVO'].apply(hash)"
      ],
      "execution_count": null,
      "outputs": []
    },
    {
      "cell_type": "markdown",
      "metadata": {
        "id": "sGd8oFYAAWhU"
      },
      "source": [
        "Concatenação dos resultados no dataframe _aplicacoes_ativos_completo_.\n",
        "\n",
        "Definiremos uma chave artificial (ID_ATIVO) para permitir que a aresta correspondente no banco de dados de grafos seja definida com cardinalide múltipla (e assim ser capaz de representar diferentes aplicações de um mesmo fundo na mesma classe de ativos).\n"
      ]
    },
    {
      "cell_type": "code",
      "metadata": {
        "id": "5joCVDZEBvGN"
      },
      "source": [
        "aplicacoes_ativos_completo = pd.concat([aplicacoes_ativos_isin[['CNPJ_FUNDO','VL_APLIC','PR_PATRIM_LIQ','ID_ATIVO']],\n",
        "                                 aplicacoes_ativos[['CNPJ_FUNDO','VL_APLIC','PR_PATRIM_LIQ','ID_ATIVO']]]).\\\n",
        "                                     fillna('')\n",
        "\n",
        "aplicacoes_ativos_completo.reset_index(drop=True, inplace=True)\n",
        "\n",
        "# ID_APLIC: número sequencial, o próprio índice do dataframe\n",
        "aplicacoes_ativos_completo['ID_APLIC'] = aplicacoes_ativos_completo.index"
      ],
      "execution_count": null,
      "outputs": []
    },
    {
      "cell_type": "code",
      "metadata": {
        "colab": {
          "base_uri": "https://localhost:8080/",
          "height": 206
        },
        "id": "9voy-TMY85qX",
        "outputId": "7b9fd8d9-56cb-4acb-c593-074c47f3e3ba"
      },
      "source": [
        "aplicacoes_ativos_completo.to_csv(diretorio_saida + 'aplicacoes_ativos.csv', index=False, encoding='utf-8')\n",
        "aplicacoes_ativos_completo.head()"
      ],
      "execution_count": null,
      "outputs": [
        {
          "output_type": "execute_result",
          "data": {
            "text/html": [
              "<div>\n",
              "<style scoped>\n",
              "    .dataframe tbody tr th:only-of-type {\n",
              "        vertical-align: middle;\n",
              "    }\n",
              "\n",
              "    .dataframe tbody tr th {\n",
              "        vertical-align: top;\n",
              "    }\n",
              "\n",
              "    .dataframe thead th {\n",
              "        text-align: right;\n",
              "    }\n",
              "</style>\n",
              "<table border=\"1\" class=\"dataframe\">\n",
              "  <thead>\n",
              "    <tr style=\"text-align: right;\">\n",
              "      <th></th>\n",
              "      <th>CNPJ_FUNDO</th>\n",
              "      <th>VL_APLIC</th>\n",
              "      <th>PR_PATRIM_LIQ</th>\n",
              "      <th>ID_ATIVO</th>\n",
              "      <th>ID_APLIC</th>\n",
              "    </tr>\n",
              "  </thead>\n",
              "  <tbody>\n",
              "    <tr>\n",
              "      <th>0</th>\n",
              "      <td>02.010.153/0001-45</td>\n",
              "      <td>856146.22</td>\n",
              "      <td>5.013</td>\n",
              "      <td>1d10237b4abbca11a03a6ee745d6cac6</td>\n",
              "      <td>0</td>\n",
              "    </tr>\n",
              "    <tr>\n",
              "      <th>1</th>\n",
              "      <td>02.010.153/0001-45</td>\n",
              "      <td>4355691.07</td>\n",
              "      <td>25.502</td>\n",
              "      <td>c72352b69567bd78998644887a498ae9</td>\n",
              "      <td>1</td>\n",
              "    </tr>\n",
              "    <tr>\n",
              "      <th>2</th>\n",
              "      <td>02.010.153/0001-45</td>\n",
              "      <td>7055241.89</td>\n",
              "      <td>41.308</td>\n",
              "      <td>266c59d25d42be89f4db5e419fbc4ef4</td>\n",
              "      <td>2</td>\n",
              "    </tr>\n",
              "    <tr>\n",
              "      <th>3</th>\n",
              "      <td>02.010.153/0001-45</td>\n",
              "      <td>26512.28</td>\n",
              "      <td>0.155</td>\n",
              "      <td>744a9a382e0cdeae5d5711538e0b8dbc</td>\n",
              "      <td>3</td>\n",
              "    </tr>\n",
              "    <tr>\n",
              "      <th>4</th>\n",
              "      <td>02.010.153/0001-45</td>\n",
              "      <td>1265516.96</td>\n",
              "      <td>7.410</td>\n",
              "      <td>931fda6a5040d49705a8baf564d28659</td>\n",
              "      <td>4</td>\n",
              "    </tr>\n",
              "  </tbody>\n",
              "</table>\n",
              "</div>"
            ],
            "text/plain": [
              "           CNPJ_FUNDO    VL_APLIC  ...                          ID_ATIVO ID_APLIC\n",
              "0  02.010.153/0001-45   856146.22  ...  1d10237b4abbca11a03a6ee745d6cac6        0\n",
              "1  02.010.153/0001-45  4355691.07  ...  c72352b69567bd78998644887a498ae9        1\n",
              "2  02.010.153/0001-45  7055241.89  ...  266c59d25d42be89f4db5e419fbc4ef4        2\n",
              "3  02.010.153/0001-45    26512.28  ...  744a9a382e0cdeae5d5711538e0b8dbc        3\n",
              "4  02.010.153/0001-45  1265516.96  ...  931fda6a5040d49705a8baf564d28659        4\n",
              "\n",
              "[5 rows x 5 columns]"
            ]
          },
          "metadata": {
            "tags": []
          },
          "execution_count": 105
        }
      ]
    },
    {
      "cell_type": "markdown",
      "metadata": {
        "id": "mdVne8c5MviX"
      },
      "source": [
        "#### Aplicações em Fundos"
      ]
    },
    {
      "cell_type": "markdown",
      "metadata": {
        "id": "1XEgEvRt_4T0"
      },
      "source": [
        "> Relacionamento __Aplicação em Fundo__: dataframe _aplicacoes_cotas_fundos_\n",
        "* Arquivo de saída: __aplicacoes_cotas_fundos.csv__"
      ]
    },
    {
      "cell_type": "code",
      "metadata": {
        "id": "ocuNLRTQOF6t"
      },
      "source": [
        "aplicacoes_cotas_fundos = aplic_cda2[['CNPJ_FUNDO','VL_APLIC','PR_PATRIM_LIQ','CNPJ_FUNDO_COTA']]"
      ],
      "execution_count": null,
      "outputs": []
    },
    {
      "cell_type": "code",
      "metadata": {
        "colab": {
          "base_uri": "https://localhost:8080/",
          "height": 206
        },
        "id": "YJiuERtc85ix",
        "outputId": "0e41875c-c3c9-4634-e5c2-61199cb8e5d4"
      },
      "source": [
        "aplicacoes_cotas_fundos.to_csv(diretorio_saida + 'aplicacoes_cotas_fundos.csv', index=False, encoding='utf-8')\n",
        "aplicacoes_cotas_fundos.head()"
      ],
      "execution_count": null,
      "outputs": [
        {
          "output_type": "execute_result",
          "data": {
            "text/html": [
              "<div>\n",
              "<style scoped>\n",
              "    .dataframe tbody tr th:only-of-type {\n",
              "        vertical-align: middle;\n",
              "    }\n",
              "\n",
              "    .dataframe tbody tr th {\n",
              "        vertical-align: top;\n",
              "    }\n",
              "\n",
              "    .dataframe thead th {\n",
              "        text-align: right;\n",
              "    }\n",
              "</style>\n",
              "<table border=\"1\" class=\"dataframe\">\n",
              "  <thead>\n",
              "    <tr style=\"text-align: right;\">\n",
              "      <th></th>\n",
              "      <th>CNPJ_FUNDO</th>\n",
              "      <th>VL_APLIC</th>\n",
              "      <th>PR_PATRIM_LIQ</th>\n",
              "      <th>CNPJ_FUNDO_COTA</th>\n",
              "    </tr>\n",
              "  </thead>\n",
              "  <tbody>\n",
              "    <tr>\n",
              "      <th>0</th>\n",
              "      <td>00.068.305/0001-35</td>\n",
              "      <td>46221487.84</td>\n",
              "      <td>100.077</td>\n",
              "      <td>08.046.417/0001-05</td>\n",
              "    </tr>\n",
              "    <tr>\n",
              "      <th>1</th>\n",
              "      <td>00.071.477/0001-68</td>\n",
              "      <td>33160782612.92</td>\n",
              "      <td>100.008</td>\n",
              "      <td>01.608.573/0001-65</td>\n",
              "    </tr>\n",
              "    <tr>\n",
              "      <th>2</th>\n",
              "      <td>00.083.181/0001-67</td>\n",
              "      <td>147100863.98</td>\n",
              "      <td>0.948</td>\n",
              "      <td>01.235.622/0001-61</td>\n",
              "    </tr>\n",
              "    <tr>\n",
              "      <th>3</th>\n",
              "      <td>00.083.181/0001-67</td>\n",
              "      <td>216970194.57</td>\n",
              "      <td>1.398</td>\n",
              "      <td>10.597.218/0001-29</td>\n",
              "    </tr>\n",
              "    <tr>\n",
              "      <th>4</th>\n",
              "      <td>00.083.181/0001-67</td>\n",
              "      <td>1915404901.42</td>\n",
              "      <td>12.342</td>\n",
              "      <td>08.277.553/0001-06</td>\n",
              "    </tr>\n",
              "  </tbody>\n",
              "</table>\n",
              "</div>"
            ],
            "text/plain": [
              "           CNPJ_FUNDO        VL_APLIC  PR_PATRIM_LIQ     CNPJ_FUNDO_COTA\n",
              "0  00.068.305/0001-35     46221487.84        100.077  08.046.417/0001-05\n",
              "1  00.071.477/0001-68  33160782612.92        100.008  01.608.573/0001-65\n",
              "2  00.083.181/0001-67    147100863.98          0.948  01.235.622/0001-61\n",
              "3  00.083.181/0001-67    216970194.57          1.398  10.597.218/0001-29\n",
              "4  00.083.181/0001-67   1915404901.42         12.342  08.277.553/0001-06"
            ]
          },
          "metadata": {
            "tags": []
          },
          "execution_count": 107
        }
      ]
    },
    {
      "cell_type": "markdown",
      "metadata": {
        "id": "SumwmHlwDx_i"
      },
      "source": [
        "### Compactação dos arquivos para carga no banco de grafos"
      ]
    },
    {
      "cell_type": "code",
      "metadata": {
        "id": "ut-3yoNRNrBu"
      },
      "source": [
        "!tar -zcvf /content/drive/MyDrive/carteira_fundos/grafo-carga.tar.gz /content/drive/MyDrive/carteira_fundos/grafo-carga/"
      ],
      "execution_count": null,
      "outputs": []
    }
  ]
}